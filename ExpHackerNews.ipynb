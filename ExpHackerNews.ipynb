{
 "cells": [
  {
   "cell_type": "markdown",
   "metadata": {},
   "source": [
    "# Popularity of Hacker News “Ask HN” and “Show HN” posts\n",
    "\n",
    "[Hacker News](https://news.ycombinator.com/) is a popular link sharing platform focusing on information technology, hacking, and start-ups. \n",
    "Users can upvote or comment on posts published by each others, and the most popular ones are sent to all members in a daily nesletter, strongly increasing its visibility.\n",
    "In this project, we want to determine what is the optimal posting time to maximise the popularity of a post.\n",
    "\n",
    "Our main results are: \n",
    "* “Ask HN” posts created between 15:00 and 16:00 US Eastern Time receive significantly more comments than others.\n",
    "* More generally, posts created between 12:00 and 16:00 US Easter Time tend to be more popular.\n",
    "\n",
    "## The Dataset\n",
    "\n",
    "The dataset `N_posts_year_to_Sep_26_2016.csv` was downloaded from [this link](https://www.kaggle.com/hacker-news/hacker-news-posts/download) on 8 October 2019. Information on the dataset can be found [here](https://www.kaggle.com/hacker-news/hacker-news-posts). \n",
    "\n",
    "It contains information on Hacker News posts from the 12 months before September 16 2016, scrapped by Hacker News using a fork of Minimaxir's HN scrapper available [here](https://github.com/minimaxir/get-all-hacker-news-submissions-comments). (An update from August 7th 2017 suggests using BigQuery instead to scrape new data.) \n",
    "\n",
    "Each line corresponds to one post on Hacker news. The columns are: \n",
    "* `id`: the unique identifier Hacker News assigned to the post\n",
    "* `title`: title of the post\n",
    "* `url`: hyperlink of the item referred to in the post, if there is one\n",
    "* `num_points`: the number of upvotes the post received minus the number of downvotes (it is not clear from the dataset's page that downvotes are included, but they seem to be included according to [this page](https://app.dataquest.io/m/356/guided-project%3A-exploring-hacker-news-posts))\n",
    "* `num_comments`: the number of comments the post received\n",
    "* `author`: the name of the account which made the post\n",
    "* `created_at`: the date and time the post was made, in US Eastern Time (EST)\n",
    "\n",
    "Our aim in this short project is to determine the properties of the most popular posts, based on the number of positive votes minus negative votes they got and on the number of comments. In particular, we will compare the popularity of “Ask HN” (where users ask the Hacker News community a specific question) and “How HN” (where users show the Hacker news community something interesting, like a project, product, or idea) posts. We will also determine if posts created at a certain time are more popular on average.\n",
    "\n",
    "Let us first import the content of `HN_posts_year_to_Sep_26_2016.csv` into the list of lists `hn` and display the first 10 rows using the `pandas` library:"
   ]
  },
  {
   "cell_type": "code",
   "execution_count": 1,
   "metadata": {},
   "outputs": [
    {
     "data": {
      "text/html": [
       "<div>\n",
       "<style scoped>\n",
       "    .dataframe tbody tr th:only-of-type {\n",
       "        vertical-align: middle;\n",
       "    }\n",
       "\n",
       "    .dataframe tbody tr th {\n",
       "        vertical-align: top;\n",
       "    }\n",
       "\n",
       "    .dataframe thead th {\n",
       "        text-align: right;\n",
       "    }\n",
       "</style>\n",
       "<table border=\"1\" class=\"dataframe\">\n",
       "  <thead>\n",
       "    <tr style=\"text-align: right;\">\n",
       "      <th></th>\n",
       "      <th>id</th>\n",
       "      <th>title</th>\n",
       "      <th>url</th>\n",
       "      <th>num_points</th>\n",
       "      <th>num_comments</th>\n",
       "      <th>author</th>\n",
       "      <th>created_at</th>\n",
       "    </tr>\n",
       "  </thead>\n",
       "  <tbody>\n",
       "    <tr>\n",
       "      <th>1</th>\n",
       "      <td>12579008</td>\n",
       "      <td>You have two days to comment if you want stem ...</td>\n",
       "      <td>http://www.regulations.gov/document?D=FDA-2015...</td>\n",
       "      <td>1</td>\n",
       "      <td>0</td>\n",
       "      <td>altstar</td>\n",
       "      <td>9/26/2016 3:26</td>\n",
       "    </tr>\n",
       "    <tr>\n",
       "      <th>2</th>\n",
       "      <td>12579005</td>\n",
       "      <td>SQLAR  the SQLite Archiver</td>\n",
       "      <td>https://www.sqlite.org/sqlar/doc/trunk/README.md</td>\n",
       "      <td>1</td>\n",
       "      <td>0</td>\n",
       "      <td>blacksqr</td>\n",
       "      <td>9/26/2016 3:24</td>\n",
       "    </tr>\n",
       "    <tr>\n",
       "      <th>3</th>\n",
       "      <td>12578997</td>\n",
       "      <td>What if we just printed a flatscreen televisio...</td>\n",
       "      <td>https://medium.com/vanmoof/our-secrets-out-f21...</td>\n",
       "      <td>1</td>\n",
       "      <td>0</td>\n",
       "      <td>pavel_lishin</td>\n",
       "      <td>9/26/2016 3:19</td>\n",
       "    </tr>\n",
       "    <tr>\n",
       "      <th>4</th>\n",
       "      <td>12578989</td>\n",
       "      <td>algorithmic music</td>\n",
       "      <td>http://cacm.acm.org/magazines/2011/7/109891-al...</td>\n",
       "      <td>1</td>\n",
       "      <td>0</td>\n",
       "      <td>poindontcare</td>\n",
       "      <td>9/26/2016 3:16</td>\n",
       "    </tr>\n",
       "    <tr>\n",
       "      <th>5</th>\n",
       "      <td>12578979</td>\n",
       "      <td>How the Data Vault Enables the Next-Gen Data W...</td>\n",
       "      <td>https://www.talend.com/blog/2016/05/12/talend-...</td>\n",
       "      <td>1</td>\n",
       "      <td>0</td>\n",
       "      <td>markgainor1</td>\n",
       "      <td>9/26/2016 3:14</td>\n",
       "    </tr>\n",
       "    <tr>\n",
       "      <th>6</th>\n",
       "      <td>12578975</td>\n",
       "      <td>Saving the Hassle of Shopping</td>\n",
       "      <td>https://blog.menswr.com/2016/09/07/whats-new-w...</td>\n",
       "      <td>1</td>\n",
       "      <td>1</td>\n",
       "      <td>bdoux</td>\n",
       "      <td>9/26/2016 3:13</td>\n",
       "    </tr>\n",
       "    <tr>\n",
       "      <th>7</th>\n",
       "      <td>12578954</td>\n",
       "      <td>Macalifa  A new open-source music app for UWP ...</td>\n",
       "      <td>http://forums.windowscentral.com/windows-phone...</td>\n",
       "      <td>1</td>\n",
       "      <td>0</td>\n",
       "      <td>thecodrr</td>\n",
       "      <td>9/26/2016 3:06</td>\n",
       "    </tr>\n",
       "    <tr>\n",
       "      <th>8</th>\n",
       "      <td>12578942</td>\n",
       "      <td>GitHub  theweavrs/Macalifa: A music player wri...</td>\n",
       "      <td>https://github.com/theweavrs/Macalifa</td>\n",
       "      <td>1</td>\n",
       "      <td>0</td>\n",
       "      <td>thecodrr</td>\n",
       "      <td>9/26/2016 3:04</td>\n",
       "    </tr>\n",
       "    <tr>\n",
       "      <th>9</th>\n",
       "      <td>12578919</td>\n",
       "      <td>Google Allo  first Impression</td>\n",
       "      <td>http://prodissues.com/2016/09/google-allo-firs...</td>\n",
       "      <td>3</td>\n",
       "      <td>0</td>\n",
       "      <td>jandll</td>\n",
       "      <td>9/26/2016 2:57</td>\n",
       "    </tr>\n",
       "    <tr>\n",
       "      <th>10</th>\n",
       "      <td>12578918</td>\n",
       "      <td>Advanced Multimedia on the Linux Command Line</td>\n",
       "      <td>https://avi.alkalay.net/2016/09/multimedia-lin...</td>\n",
       "      <td>1</td>\n",
       "      <td>0</td>\n",
       "      <td>mynameislegion</td>\n",
       "      <td>9/26/2016 2:56</td>\n",
       "    </tr>\n",
       "  </tbody>\n",
       "</table>\n",
       "</div>"
      ],
      "text/plain": [
       "          id                                              title  \\\n",
       "1   12579008  You have two days to comment if you want stem ...   \n",
       "2   12579005                         SQLAR  the SQLite Archiver   \n",
       "3   12578997  What if we just printed a flatscreen televisio...   \n",
       "4   12578989                                  algorithmic music   \n",
       "5   12578979  How the Data Vault Enables the Next-Gen Data W...   \n",
       "6   12578975                      Saving the Hassle of Shopping   \n",
       "7   12578954  Macalifa  A new open-source music app for UWP ...   \n",
       "8   12578942  GitHub  theweavrs/Macalifa: A music player wri...   \n",
       "9   12578919                      Google Allo  first Impression   \n",
       "10  12578918      Advanced Multimedia on the Linux Command Line   \n",
       "\n",
       "                                                  url num_points num_comments  \\\n",
       "1   http://www.regulations.gov/document?D=FDA-2015...          1            0   \n",
       "2    https://www.sqlite.org/sqlar/doc/trunk/README.md          1            0   \n",
       "3   https://medium.com/vanmoof/our-secrets-out-f21...          1            0   \n",
       "4   http://cacm.acm.org/magazines/2011/7/109891-al...          1            0   \n",
       "5   https://www.talend.com/blog/2016/05/12/talend-...          1            0   \n",
       "6   https://blog.menswr.com/2016/09/07/whats-new-w...          1            1   \n",
       "7   http://forums.windowscentral.com/windows-phone...          1            0   \n",
       "8               https://github.com/theweavrs/Macalifa          1            0   \n",
       "9   http://prodissues.com/2016/09/google-allo-firs...          3            0   \n",
       "10  https://avi.alkalay.net/2016/09/multimedia-lin...          1            0   \n",
       "\n",
       "            author      created_at  \n",
       "1          altstar  9/26/2016 3:26  \n",
       "2         blacksqr  9/26/2016 3:24  \n",
       "3     pavel_lishin  9/26/2016 3:19  \n",
       "4     poindontcare  9/26/2016 3:16  \n",
       "5      markgainor1  9/26/2016 3:14  \n",
       "6            bdoux  9/26/2016 3:13  \n",
       "7         thecodrr  9/26/2016 3:06  \n",
       "8         thecodrr  9/26/2016 3:04  \n",
       "9           jandll  9/26/2016 2:57  \n",
       "10  mynameislegion  9/26/2016 2:56  "
      ]
     },
     "execution_count": 1,
     "metadata": {},
     "output_type": "execute_result"
    }
   ],
   "source": [
    "num_rows = 10 # number of rows shoen\n",
    "import pandas as pd\n",
    "from csv import reader\n",
    "\n",
    "hn = list(reader(open('HN_posts_year_to_Sep_26_2016.csv')))\n",
    "pd.DataFrame(hn[1:num_rows+1], columns = hn[0], index = range(1,num_rows+1))"
   ]
  },
  {
   "cell_type": "markdown",
   "metadata": {},
   "source": [
    "In the following, we will be interested only in posts which received at least one comment. We extract the corresponding rows in the list of lists `hn_c`. We also extract the header in the list `headers`."
   ]
  },
  {
   "cell_type": "code",
   "execution_count": 2,
   "metadata": {},
   "outputs": [
    {
     "name": "stdout",
     "output_type": "stream",
     "text": [
      "hn_c has 80401 rows\n"
     ]
    },
    {
     "data": {
      "text/html": [
       "<div>\n",
       "<style scoped>\n",
       "    .dataframe tbody tr th:only-of-type {\n",
       "        vertical-align: middle;\n",
       "    }\n",
       "\n",
       "    .dataframe tbody tr th {\n",
       "        vertical-align: top;\n",
       "    }\n",
       "\n",
       "    .dataframe thead th {\n",
       "        text-align: right;\n",
       "    }\n",
       "</style>\n",
       "<table border=\"1\" class=\"dataframe\">\n",
       "  <thead>\n",
       "    <tr style=\"text-align: right;\">\n",
       "      <th></th>\n",
       "      <th>id</th>\n",
       "      <th>title</th>\n",
       "      <th>url</th>\n",
       "      <th>num_points</th>\n",
       "      <th>num_comments</th>\n",
       "      <th>author</th>\n",
       "      <th>created_at</th>\n",
       "    </tr>\n",
       "  </thead>\n",
       "  <tbody>\n",
       "    <tr>\n",
       "      <th>1</th>\n",
       "      <td>12578975</td>\n",
       "      <td>Saving the Hassle of Shopping</td>\n",
       "      <td>https://blog.menswr.com/2016/09/07/whats-new-w...</td>\n",
       "      <td>1</td>\n",
       "      <td>1</td>\n",
       "      <td>bdoux</td>\n",
       "      <td>9/26/2016 3:13</td>\n",
       "    </tr>\n",
       "    <tr>\n",
       "      <th>2</th>\n",
       "      <td>12578908</td>\n",
       "      <td>Ask HN: What TLD do you use for local developm...</td>\n",
       "      <td></td>\n",
       "      <td>4</td>\n",
       "      <td>7</td>\n",
       "      <td>Sevrene</td>\n",
       "      <td>9/26/2016 2:53</td>\n",
       "    </tr>\n",
       "    <tr>\n",
       "      <th>3</th>\n",
       "      <td>12578822</td>\n",
       "      <td>Amazons Algorithms Dont Find You the Best Deals</td>\n",
       "      <td>https://www.technologyreview.com/s/602442/amaz...</td>\n",
       "      <td>1</td>\n",
       "      <td>1</td>\n",
       "      <td>yarapavan</td>\n",
       "      <td>9/26/2016 2:26</td>\n",
       "    </tr>\n",
       "    <tr>\n",
       "      <th>4</th>\n",
       "      <td>12578694</td>\n",
       "      <td>Emergency dose of epinephrine that does not co...</td>\n",
       "      <td>http://m.imgur.com/gallery/th6Ua</td>\n",
       "      <td>2</td>\n",
       "      <td>1</td>\n",
       "      <td>dredmorbius</td>\n",
       "      <td>9/26/2016 1:54</td>\n",
       "    </tr>\n",
       "    <tr>\n",
       "      <th>5</th>\n",
       "      <td>12578624</td>\n",
       "      <td>Phone Makers Could Cut Off Drivers. So Why Don...</td>\n",
       "      <td>http://www.nytimes.com/2016/09/25/technology/p...</td>\n",
       "      <td>4</td>\n",
       "      <td>1</td>\n",
       "      <td>danso</td>\n",
       "      <td>9/26/2016 1:37</td>\n",
       "    </tr>\n",
       "    <tr>\n",
       "      <th>6</th>\n",
       "      <td>12578556</td>\n",
       "      <td>OpenMW, Open Source Elderscrolls III: Morrowin...</td>\n",
       "      <td>https://openmw.org/en/</td>\n",
       "      <td>32</td>\n",
       "      <td>3</td>\n",
       "      <td>rocky1138</td>\n",
       "      <td>9/26/2016 1:24</td>\n",
       "    </tr>\n",
       "    <tr>\n",
       "      <th>7</th>\n",
       "      <td>12578522</td>\n",
       "      <td>Ask HN: How do you pass on your work when you ...</td>\n",
       "      <td></td>\n",
       "      <td>6</td>\n",
       "      <td>3</td>\n",
       "      <td>PascLeRasc</td>\n",
       "      <td>9/26/2016 1:17</td>\n",
       "    </tr>\n",
       "    <tr>\n",
       "      <th>8</th>\n",
       "      <td>12578311</td>\n",
       "      <td>Americas Lost Boys: Men who choose video games...</td>\n",
       "      <td>https://www.firstthings.com/blogs/firstthought...</td>\n",
       "      <td>5</td>\n",
       "      <td>1</td>\n",
       "      <td>jseliger</td>\n",
       "      <td>9/26/2016 0:31</td>\n",
       "    </tr>\n",
       "    <tr>\n",
       "      <th>9</th>\n",
       "      <td>12578212</td>\n",
       "      <td>A Walking Tour of New Yorks Massive Surveillan...</td>\n",
       "      <td>https://theintercept.com/2016/09/24/a-walking-...</td>\n",
       "      <td>7</td>\n",
       "      <td>1</td>\n",
       "      <td>bootload</td>\n",
       "      <td>9/26/2016 0:06</td>\n",
       "    </tr>\n",
       "    <tr>\n",
       "      <th>10</th>\n",
       "      <td>12578186</td>\n",
       "      <td>Job app website farms my social network links....</td>\n",
       "      <td></td>\n",
       "      <td>1</td>\n",
       "      <td>1</td>\n",
       "      <td>macscam</td>\n",
       "      <td>9/26/2016 0:02</td>\n",
       "    </tr>\n",
       "  </tbody>\n",
       "</table>\n",
       "</div>"
      ],
      "text/plain": [
       "          id                                              title  \\\n",
       "1   12578975                      Saving the Hassle of Shopping   \n",
       "2   12578908  Ask HN: What TLD do you use for local developm...   \n",
       "3   12578822    Amazons Algorithms Dont Find You the Best Deals   \n",
       "4   12578694  Emergency dose of epinephrine that does not co...   \n",
       "5   12578624  Phone Makers Could Cut Off Drivers. So Why Don...   \n",
       "6   12578556  OpenMW, Open Source Elderscrolls III: Morrowin...   \n",
       "7   12578522  Ask HN: How do you pass on your work when you ...   \n",
       "8   12578311  Americas Lost Boys: Men who choose video games...   \n",
       "9   12578212  A Walking Tour of New Yorks Massive Surveillan...   \n",
       "10  12578186  Job app website farms my social network links....   \n",
       "\n",
       "                                                  url num_points num_comments  \\\n",
       "1   https://blog.menswr.com/2016/09/07/whats-new-w...          1            1   \n",
       "2                                                              4            7   \n",
       "3   https://www.technologyreview.com/s/602442/amaz...          1            1   \n",
       "4                    http://m.imgur.com/gallery/th6Ua          2            1   \n",
       "5   http://www.nytimes.com/2016/09/25/technology/p...          4            1   \n",
       "6                              https://openmw.org/en/         32            3   \n",
       "7                                                              6            3   \n",
       "8   https://www.firstthings.com/blogs/firstthought...          5            1   \n",
       "9   https://theintercept.com/2016/09/24/a-walking-...          7            1   \n",
       "10                                                             1            1   \n",
       "\n",
       "         author      created_at  \n",
       "1         bdoux  9/26/2016 3:13  \n",
       "2       Sevrene  9/26/2016 2:53  \n",
       "3     yarapavan  9/26/2016 2:26  \n",
       "4   dredmorbius  9/26/2016 1:54  \n",
       "5         danso  9/26/2016 1:37  \n",
       "6     rocky1138  9/26/2016 1:24  \n",
       "7    PascLeRasc  9/26/2016 1:17  \n",
       "8      jseliger  9/26/2016 0:31  \n",
       "9      bootload  9/26/2016 0:06  \n",
       "10      macscam  9/26/2016 0:02  "
      ]
     },
     "execution_count": 2,
     "metadata": {},
     "output_type": "execute_result"
    }
   ],
   "source": [
    "headers = hn[0]\n",
    "hn_c = [row for row in hn[1:] if row[4] != '0']\n",
    "print('hn_c has {} rows'.format(len(hn_c)))\n",
    "pd.DataFrame(hn_c[:num_rows], columns = headers, index = range(1,num_rows+1))"
   ]
  },
  {
   "cell_type": "markdown",
   "metadata": {},
   "source": [
    "## Extraction of “Ask HN” and “Show HN” rows"
   ]
  },
  {
   "cell_type": "markdown",
   "metadata": {},
   "source": [
    "We now divide `hn_c` in three lists: `ask_posts` will contains all rows with the `title` entry beginning with `Ask HN` and case variations, `show_posts` will contains all rows with `title` entry beginning with `Show HN` and case variations, and `other_posts` will contain all other rows. "
   ]
  },
  {
   "cell_type": "code",
   "execution_count": 3,
   "metadata": {},
   "outputs": [
    {
     "name": "stdout",
     "output_type": "stream",
     "text": [
      "There are 6911 posts starting with Ask HN (or a case  variation).\n",
      "There are 5059 posts starting with Show HN (or a case  variation).\n",
      "There are 68431 other posts.\n",
      "The total number of posts is 80401.\n"
     ]
    }
   ],
   "source": [
    "str_num_rows = 'There are {} posts starting with {} (or a case  variation).'\n",
    "\n",
    "ask_posts = []\n",
    "show_posts = []\n",
    "other_posts = []\n",
    "for row in hn_c:\n",
    "    title = row[1]\n",
    "    if title.lower().startswith('ask hn'):\n",
    "        ask_posts.append(row)\n",
    "    elif title.lower().startswith('show hn'):\n",
    "        show_posts.append(row)\n",
    "    else:\n",
    "        other_posts.append(row)\n",
    "\n",
    "print(str_num_rows.format(len(ask_posts), 'Ask HN'))\n",
    "print(str_num_rows.format(len(show_posts), 'Show HN'))\n",
    "print('There are {} other posts.'.format(len(other_posts)))\n",
    "\n",
    "# Check that the total number of posts is correct:\n",
    "print('The total number of posts is {}.'.format(len(ask_posts) + len(show_posts) + len(other_posts)))"
   ]
  },
  {
   "cell_type": "markdown",
   "metadata": {},
   "source": [
    "We now want to see which of the “ask” or “show” posts receive the most comments and upvotes (minus downvotes) on average. To this end, we first define the function `average_col` taking as arguments a list of lists `dset` and an index `i`, and returning the average of the `i`th entries of the rows in `dset` (assumed to be numbers)."
   ]
  },
  {
   "cell_type": "code",
   "execution_count": 4,
   "metadata": {},
   "outputs": [],
   "source": [
    "def average_col(dset,i):\n",
    "    '''\n",
    "    returns the average of the ith entries of the rows of dset\n",
    "    \n",
    "    return type: float\n",
    "    dset: list of lists\n",
    "    i: integer\n",
    "    \n",
    "    assumption: each element of dset has at least i+1 elements, and its ith \n",
    "    element can be confverted to a float\n",
    "    '''\n",
    "    total = 0.\n",
    "    \n",
    "    for row in dset:\n",
    "        total = total + float(row[i])\n",
    "\n",
    "    return  total / len(dset)"
   ]
  },
  {
   "cell_type": "markdown",
   "metadata": {},
   "source": [
    "We now use it to compute the average numbers of comments and upvotes (minus downvotes) for these two kinds of posts, as well as for the other posts, rouned to two digits afte the point: "
   ]
  },
  {
   "cell_type": "code",
   "execution_count": 5,
   "metadata": {},
   "outputs": [
    {
     "name": "stdout",
     "output_type": "stream",
     "text": [
      "The average number of comments for Ask HN posts is: 13.74.\n",
      "The average number of comments for Show HN posts is: 9.81.\n",
      "The average number of comments for other posts is: 25.84.\n",
      "The average number of upvotes for Ask HN posts is: 14.4.\n",
      "The average number of upvotes for Show HN posts is: 26.62.\n",
      "The average number of upvotes for other posts is: 53.43.\n"
     ]
    }
   ],
   "source": [
    "phrase = 'The average {} for {} posts is: {}.'\n",
    "\n",
    "index_num_comments = 4\n",
    "index_num_upvotes = 3\n",
    "\n",
    "ave_comments_ask = average_col(ask_posts, index_num_comments)\n",
    "ave_comments_show = average_col(show_posts, index_num_comments)\n",
    "ave_comments_other = average_col(other_posts, index_num_comments)\n",
    "ave_upvotes_ask = average_col(ask_posts, index_num_upvotes)\n",
    "ave_upvotes_show = average_col(show_posts, index_num_upvotes)\n",
    "ave_upvotes_other = average_col(other_posts, index_num_upvotes)\n",
    "\n",
    "print(phrase.format('number of comments', 'Ask HN', round(ave_comments_ask,2)))\n",
    "print(phrase.format('number of comments', 'Show HN', round(ave_comments_show,2)))\n",
    "print(phrase.format('number of comments', 'other', round(ave_comments_other,2)))\n",
    "print(phrase.format('number of upvotes', 'Ask HN', round(ave_upvotes_ask,2)))\n",
    "print(phrase.format('number of upvotes', 'Show HN', round(ave_upvotes_show,2)))\n",
    "print(phrase.format('number of upvotes', 'other', round(ave_upvotes_other,2)))"
   ]
  },
  {
   "cell_type": "markdown",
   "metadata": {},
   "source": [
    "The most popular posts for the numbers of comments and upvotes seem to be those which are not “Ask HN” nor “Show HN”. Discriminating between the “Ask HN” and “Show HN” is more difficult: the former receive approximately 50% more comments on average but have a significantly smaller number of upvotes. This seems to make sense: “Ask HN” posts explicitly ask for an answer to a question and are thus meant to attract comments, while “Show HN” posts, showing something interesting to the community, are meant to be appreciated and thus attract upvotes.\n",
    "\n",
    "Before jumping to conlucions, let us compute the standard errors for each of these 6 numbers. To this end, we first define the function `ste_col` taking as arguments a list of lists `dset` and an index `i`, and returning the standard error of the `i`th entries of the rows in `dset` (assumed to be numbers)."
   ]
  },
  {
   "cell_type": "code",
   "execution_count": 6,
   "metadata": {},
   "outputs": [],
   "source": [
    "from numpy import sqrt\n",
    "def ste_col(dset,i):\n",
    "    '''\n",
    "    returns the standard error of the ith entries of the rows of dset\n",
    "    \n",
    "    return type: float\n",
    "    dset: list of lists\n",
    "    i: integer\n",
    "    \n",
    "    assumption: each element of dset has at least i+1 elements, and its ith \n",
    "    element can be confverted to a float\n",
    "    '''\n",
    "    ave = average_col(dset,i)\n",
    "    sst = 0.\n",
    "    \n",
    "    for row in dset:\n",
    "        sst = sst + (float(row[i]) - ave)**2\n",
    "\n",
    "    return  sqrt(sst)/ len(dset)"
   ]
  },
  {
   "cell_type": "code",
   "execution_count": 7,
   "metadata": {},
   "outputs": [
    {
     "name": "stdout",
     "output_type": "stream",
     "text": [
      "The standard error of the number of comments for Ask HN posts is: 0.6.\n",
      "The standard error of the number of comments for Show HN posts is: 0.31.\n",
      "The standard error of the number of comments for other posts is: 0.21.\n",
      "The standard error of the number of upvotes for Ask HN posts is: 0.58.\n",
      "The standard error of the number of upvotes for Show HN posts is: 0.99.\n",
      "The standard error of the number of upvotes for other posts is: 0.42.\n"
     ]
    }
   ],
   "source": [
    "phrase = 'The standard error of the {} for {} posts is: {}.'\n",
    "\n",
    "index_num_comments = 4\n",
    "index_num_upvotes = 3\n",
    "\n",
    "ste_comments_ask = ste_col(ask_posts, index_num_comments)\n",
    "ste_comments_show = ste_col(show_posts, index_num_comments)\n",
    "ste_comments_other = ste_col(other_posts, index_num_comments)\n",
    "ste_upvotes_ask = ste_col(ask_posts, index_num_upvotes)\n",
    "ste_upvotes_show = ste_col(show_posts, index_num_upvotes)\n",
    "ste_upvotes_other = ste_col(other_posts, index_num_upvotes)\n",
    "\n",
    "print(phrase.format('number of comments', 'Ask HN', round(ste_comments_ask,2)))\n",
    "print(phrase.format('number of comments', 'Show HN', round(ste_comments_show,2)))\n",
    "print(phrase.format('number of comments', 'other', round(ste_comments_other,2)))\n",
    "print(phrase.format('number of upvotes', 'Ask HN', round(ste_upvotes_ask,2)))\n",
    "print(phrase.format('number of upvotes', 'Show HN', round(ste_upvotes_show,2)))\n",
    "print(phrase.format('number of upvotes', 'other', round(ste_upvotes_other,2)))"
   ]
  },
  {
   "cell_type": "markdown",
   "metadata": {},
   "source": [
    "These 6 standard errors are all smaller than 1, so the square root of the sum of the squares of two of them is always smaller than 2. (We remind that the standard error on the difference between two independent random variables is the square root of the sum of their squared standard errors.) Actually, the largest relevent value is smaller than 1.2: "
   ]
  },
  {
   "cell_type": "code",
   "execution_count": 8,
   "metadata": {},
   "outputs": [
    {
     "data": {
      "text/plain": [
       "1.1436761221017235"
      ]
     },
     "execution_count": 8,
     "metadata": {},
     "output_type": "execute_result"
    }
   ],
   "source": [
    "# we assume that the standard erros are all different\n",
    "\n",
    "list1 = [ste_comments_ask, ste_comments_show, ste_comments_other]\n",
    "list2 = [ste_upvotes_ask, ste_upvotes_show, ste_upvotes_other]\n",
    "\n",
    "max1 = max([sqrt(x1**2 + x2**2) for x1 in list1 for x2 in list1 if x1 != x2])\n",
    "max2 = max([sqrt(x1**2 + x2**2) for x1 in list2 for x2 in list2 if x1 != x2])\n",
    "max([max1, max2])"
   ]
  },
  {
   "cell_type": "markdown",
   "metadata": {},
   "source": [
    "Since the differences between the average numbers of comments or upvotes between two types of posts are all larger than 3.9, the z-scores for these differences are all larger than 3.25. **The differences between the average numbers of comments or upvotes between two types of posts thus seem statistically significant.**"
   ]
  },
  {
   "cell_type": "markdown",
   "metadata": {},
   "source": [
    "## Dependence of the number of comments on the creation time for “Ask HN” posts"
   ]
  },
  {
   "cell_type": "markdown",
   "metadata": {},
   "source": [
    "In this section we focus specifically on “Ask HN” posts, which receive, on average, more comments than “Show HN” ones. We discard the other posts, as this category is less clearly defined. \n",
    "In the following cell, we compute the average number of comments for posts published by hour created using the `datetime` module. To see whether the differences are significant, we compute the standard deviations."
   ]
  },
  {
   "cell_type": "code",
   "execution_count": 9,
   "metadata": {},
   "outputs": [],
   "source": [
    "import datetime as dt\n",
    "import matplotlib.pyplot as plt # for the plot"
   ]
  },
  {
   "cell_type": "code",
   "execution_count": 10,
   "metadata": {},
   "outputs": [
    {
     "data": {
      "image/png": "[encoded data removed]",
      "text/plain": [
       "<Figure size 432x288 with 1 Axes>"
      ]
     },
     "metadata": {
      "needs_background": "light"
     },
     "output_type": "display_data"
    }
   ],
   "source": [
    "def plot_xyz(data, xlabel='$x$', ylabel='$y$', width=1, yorigin=0):\n",
    "    '''\n",
    "    plots the graph of y(x) with standard error z(x) from data in the form \n",
    "    [[x_1, y_1, z_1], [x_2, x_2, z_2], ...]\n",
    "\n",
    "    data: list of lists of three floats or integers\n",
    "    '''\n",
    "    x = []\n",
    "    y = []\n",
    "    z = []\n",
    "    for xyz in data: \n",
    "        x.append(xyz[0])\n",
    "        y.append(xyz[1] - yorigin)\n",
    "        z.append(xyz[2]) # relative error\n",
    "    plt.bar(x, y, width=width, color=(0,0.5,1), edgecolor='blue', align='edge', yerr=z)\n",
    "    plt.xlim(data[0][0], 2*data[-1][0]-data[-2][0])\n",
    "    plt.xlabel(xlabel)\n",
    "    plt.ylabel(ylabel)\n",
    "    plt.show()\n",
    "\n",
    "# list containing the creation hour and number of comments of each `Ask HN` \n",
    "# post\n",
    "created_at_AskHN = []\n",
    "\n",
    "# dictionary containing the number of posts created during each hour\n",
    "counts_by_hour_AskHN = {}\n",
    "\n",
    "# dictionary containing the number of comments for posts created during each \n",
    "# hour\n",
    "comments_by_hour = {}\n",
    "\n",
    "# dictionary containing the sum of squared numbers of comments for posts \n",
    "# created during each hour\n",
    "sq_comments_by_hour = {}\n",
    "\n",
    "# list containing the set of hours, average numbers of comments, and standard \n",
    "# deviations\n",
    "ave_comments_per_hour = []\n",
    "\n",
    "for row in ask_posts: \n",
    "    time_created = dt.datetime.strptime(row[6], '%m/%d/%Y %H:%M')\n",
    "    hour_created = time_created.hour\n",
    "    created_at_AskHN.append([hour_created, int(row[4])])\n",
    "    # index 4: number of comments\n",
    "\n",
    "for row in created_at_AskHN: \n",
    "    hour = row[0]\n",
    "    val = row[1]\n",
    "    if hour in counts_by_hour_AskHN:\n",
    "        counts_by_hour_AskHN[hour] += 1\n",
    "        comments_by_hour[hour] += val\n",
    "        sq_comments_by_hour[hour] += val**2\n",
    "    else: \n",
    "        counts_by_hour_AskHN[hour] = 1\n",
    "        comments_by_hour[hour] = val\n",
    "        sq_comments_by_hour[hour] = val**2\n",
    "\n",
    "for key in counts_by_hour_AskHN:\n",
    "    count = counts_by_hour_AskHN[key]\n",
    "    n_comments = comments_by_hour[key]\n",
    "    sq_n_comments = sq_comments_by_hour[key]\n",
    "    ave = n_comments/count\n",
    "    std = sqrt(sq_n_comments/count - ave**2)\n",
    "    ste = std/sqrt(count)\n",
    "    ave_comments_per_hour.append([key, ave, ste])\n",
    "ave_comments_per_hour.sort()\n",
    "    \n",
    "plot_xyz(ave_comments_per_hour, xlabel='hour', ylabel='average number of comments')"
   ]
  },
  {
   "cell_type": "markdown",
   "metadata": {},
   "source": [
    "The black bars show the one-standard-error interval.\n",
    "**There is a statistically significant spike in the number of comments for “Ask HN” posts created between 15:00 and 16:00 US Eastern Time.**\n",
    "\n",
    "Let us now sort the hours of the day by average number of comments an print the five ones with highest number:"
   ]
  },
  {
   "cell_type": "code",
   "execution_count": 11,
   "metadata": {},
   "outputs": [
    {
     "name": "stdout",
     "output_type": "stream",
     "text": [
      "“Ask HN” posts created from 15:00 to 15:59 EST have an average of 39.7±6.2 comments.\n",
      "“Ask HN” posts created from 13:00 to 13:59 EST have an average of 22.2±3.7 comments.\n",
      "“Ask HN” posts created from 12:00 to 12:59 EST have an average of 15.5±2.3 comments.\n",
      "“Ask HN” posts created from 10:00 to 10:59 EST have an average of 13.8±1.8 comments.\n",
      "“Ask HN” posts created from 17:00 to 17:59 EST have an average of 13.7±2.2 comments.\n"
     ]
    }
   ],
   "source": [
    "phrase = '“Ask HN” posts created from {hour}:00 to {hour}:59 EST have an average of {n_comments:.1f}±{ste:.1f} comments.'\n",
    "ave_comments_per_hour_sorted = sorted(ave_comments_per_hour, key = lambda l: l[1])[::-1]\n",
    "for i in range(5):\n",
    "    row = ave_comments_per_hour_sorted[i]\n",
    "    print(phrase.format(hour=row[0], n_comments=row[1], ste=row[2]))"
   ]
  },
  {
   "cell_type": "markdown",
   "metadata": {},
   "source": [
    "Posts created between 15:00 and 16:00 EST receive, by a significant margin, the highest number of comments on average."
   ]
  },
  {
   "cell_type": "markdown",
   "metadata": {},
   "source": [
    "## Dependence of the number of upvotes on the creation time for “Show HN” posts"
   ]
  },
  {
   "cell_type": "markdown",
   "metadata": {},
   "source": [
    "Let us now do a similar analysis for the number of upvotes (minus downvotes) of the “Show HN” posts. "
   ]
  },
  {
   "cell_type": "code",
   "execution_count": 12,
   "metadata": {},
   "outputs": [
    {
     "data": {
      "image/png": "[encoded data removed]",
      "text/plain": [
       "<Figure size 432x288 with 1 Axes>"
      ]
     },
     "metadata": {
      "needs_background": "light"
     },
     "output_type": "display_data"
    }
   ],
   "source": [
    "# list containing the creation hour and number of comments of each `Show HN`\n",
    "# post\n",
    "created_at_ShowHN = []\n",
    "\n",
    "# dictionary containing the number of posts created during each hour\n",
    "counts_by_hour_ShowHN = {}\n",
    "\n",
    "# dictionary containing the number of upvotes for posts created during each\n",
    "# hour\n",
    "upvotes_by_hour = {}\n",
    "\n",
    "# dictionary containing the sum of squared numbers of upvotes for posts \n",
    "# created during each hour\n",
    "sq_upvotes_by_hour = {}\n",
    "\n",
    "# list containing the set of hours, average numbers of upvotes, and standard \n",
    "# deviations\n",
    "ave_upvotes_per_hour = []\n",
    "\n",
    "for row in show_posts: \n",
    "    time_created = dt.datetime.strptime(row[6], '%m/%d/%Y %H:%M')\n",
    "    hour_created = time_created.hour\n",
    "    created_at_ShowHN.append([hour_created, int(row[3])]) \n",
    "    # index 3: number of upvotes\n",
    "\n",
    "for row in created_at_ShowHN: \n",
    "    hour = row[0]\n",
    "    val = row[1]\n",
    "    if hour in counts_by_hour_ShowHN:\n",
    "        counts_by_hour_ShowHN[hour] += 1\n",
    "        upvotes_by_hour[hour] += val\n",
    "        sq_upvotes_by_hour[hour] += val**2\n",
    "    else: \n",
    "        counts_by_hour_ShowHN[hour] = 1\n",
    "        upvotes_by_hour[hour] = val\n",
    "        sq_upvotes_by_hour[hour] = val**2\n",
    "\n",
    "for key in counts_by_hour_ShowHN:\n",
    "    count = counts_by_hour_ShowHN[key]\n",
    "    n_upvotes = upvotes_by_hour[key]\n",
    "    sq_n_upvotes = sq_upvotes_by_hour[key]\n",
    "    ave = n_upvotes/count\n",
    "    std = sqrt(sq_n_upvotes/count - ave**2)\n",
    "    ste = std/sqrt(count)\n",
    "    ave_upvotes_per_hour.append([key, ave, ste])\n",
    "ave_upvotes_per_hour.sort()\n",
    "    \n",
    "plot_xyz(ave_upvotes_per_hour, xlabel='hour', ylabel='average number of upvotes')"
   ]
  },
  {
   "cell_type": "markdown",
   "metadata": {},
   "source": [
    "**There seems to be no statistically significant variation during the day.** Let us nonetheless print the five most promising hours:"
   ]
  },
  {
   "cell_type": "code",
   "execution_count": 13,
   "metadata": {},
   "outputs": [
    {
     "name": "stdout",
     "output_type": "stream",
     "text": [
      "“Show HN” posts created from 12:00 to 12:59 EST have an average of 33.6±5.3 upvotes.\n",
      "“Show HN” posts created from 11:00 to 11:59 EST have an average of 31.6±5.6 upvotes.\n",
      "“Show HN” posts created from 23:00 to 23:59 EST have an average of 30.4±5.1 upvotes.\n",
      "“Show HN” posts created from 19:00 to 19:59 EST have an average of 29.8±4.2 upvotes.\n",
      "“Show HN” posts created from 6:00 to 6:59 EST have an average of 29.4±5.1 upvotes.\n"
     ]
    }
   ],
   "source": [
    "phrase = '“Show HN” posts created from {hour}:00 to {hour}:59 EST have an average of {n_upvotes:.1f}±{ste:.1f} upvotes.'\n",
    "ave_upvotes_per_hour_sorted = sorted(ave_upvotes_per_hour, key = lambda l: l[1])[::-1]\n",
    "for i in range(5):\n",
    "    row = ave_upvotes_per_hour_sorted[i]\n",
    "    print(phrase.format(hour=row[0], n_upvotes=row[1], ste=row[2]))"
   ]
  },
  {
   "cell_type": "markdown",
   "metadata": {},
   "source": [
    "Creating a “Show HN” post around noon EST seems optimum to maximize the number of upvotes, although the large standard error prevents us from reaching any firm conclusion. To try to better see what happens, let us group the posts created within the same interval of 4 hours:"
   ]
  },
  {
   "cell_type": "code",
   "execution_count": 14,
   "metadata": {},
   "outputs": [
    {
     "data": {
      "image/png": "[encoded data removed]",
      "text/plain": [
       "<Figure size 432x288 with 1 Axes>"
      ]
     },
     "metadata": {
      "needs_background": "light"
     },
     "output_type": "display_data"
    }
   ],
   "source": [
    "# number of hours per group\n",
    "ngroup = 4\n",
    "\n",
    "# list containing the creation hour and number of comments of each `Show HN`\n",
    "# post\n",
    "created_at_ShowHN = []\n",
    "\n",
    "# dictionary containing the number of posts created during each hour\n",
    "counts_by_hour_ShowHN = {}\n",
    "\n",
    "# dictionary containing the number of upvotes for posts created during each\n",
    "# hour\n",
    "upvotes_by_hour = {}\n",
    "\n",
    "# dictionary containing the sum of squared numbers of upvotes for posts \n",
    "# created during each hour\n",
    "sq_upvotes_by_hour = {}\n",
    "\n",
    "# list containing the set of hours, average numbers of upvotes, and standard \n",
    "# deviations\n",
    "ave_upvotes_per_hour = []\n",
    "\n",
    "for row in show_posts: \n",
    "    time_created = dt.datetime.strptime(row[6], '%m/%d/%Y %H:%M')\n",
    "    hour_created = time_created.hour\n",
    "    hour_created = hour_created - (hour_created % ngroup)\n",
    "    created_at_ShowHN.append([hour_created, int(row[3])]) \n",
    "    # index 3: number of upvotes\n",
    "\n",
    "for row in created_at_ShowHN: \n",
    "    hour = row[0]\n",
    "    val = row[1]\n",
    "    if hour in counts_by_hour_ShowHN:\n",
    "        counts_by_hour_ShowHN[hour] += 1\n",
    "        upvotes_by_hour[hour] += val\n",
    "        sq_upvotes_by_hour[hour] += val**2\n",
    "    else: \n",
    "        counts_by_hour_ShowHN[hour] = 1\n",
    "        upvotes_by_hour[hour] = val\n",
    "        sq_upvotes_by_hour[hour] = val**2\n",
    "\n",
    "for key in counts_by_hour_ShowHN:\n",
    "    count = counts_by_hour_ShowHN[key]\n",
    "    n_upvotes = upvotes_by_hour[key]\n",
    "    sq_n_upvotes = sq_upvotes_by_hour[key]\n",
    "    ave = n_upvotes/count\n",
    "    std = sqrt(sq_n_upvotes/count - ave**2)\n",
    "    ste = std/sqrt(count)\n",
    "    ave_upvotes_per_hour.append([key, ave, ste])\n",
    "ave_upvotes_per_hour.sort()\n",
    "    \n",
    "plot_xyz(ave_upvotes_per_hour, xlabel='hour', ylabel='average number of upvotes', width = ngroup)"
   ]
  },
  {
   "cell_type": "markdown",
   "metadata": {},
   "source": [
    "*Posts created between 12:00 and 16:00 EST seem to be receive the most upvotes on average*, while those created between 00:00 EST and 04:00 EST receive the least upvotes. But, once again, the standard errors are too big to reach any firm conclusion."
   ]
  },
  {
   "cell_type": "markdown",
   "metadata": {},
   "source": [
    "## What about the other posts?"
   ]
  },
  {
   "cell_type": "markdown",
   "metadata": {},
   "source": [
    "The other posts are probably less interesting to study since their category is not as clearly defined as the other two. Let us nonetheless study their variations in the numbers of comments and upvotes with the creation time, to get a better feeling of how these quantities evolve. We are particularly interested in seeing whether the peak in the number of comments for “Ask HN” posts between 15:00 and 16:00 EST is also present for other posts. "
   ]
  },
  {
   "cell_type": "code",
   "execution_count": 15,
   "metadata": {},
   "outputs": [
    {
     "data": {
      "image/png": "[encoded data removed]",
      "text/plain": [
       "<Figure size 432x288 with 1 Axes>"
      ]
     },
     "metadata": {
      "needs_background": "light"
     },
     "output_type": "display_data"
    },
    {
     "data": {
      "image/png": "[encoded data removed]",
      "text/plain": [
       "<Figure size 432x288 with 1 Axes>"
      ]
     },
     "metadata": {
      "needs_background": "light"
     },
     "output_type": "display_data"
    }
   ],
   "source": [
    "# list containing the creation hour, number of upvotes, and number of \n",
    "# comments of each of the other posts\n",
    "created_at_other = []\n",
    "\n",
    "# dictionary containing the number of posts created during each hour\n",
    "counts_by_hour_other = {}\n",
    "\n",
    "# dictionary containing the number of comments for posts created during each \n",
    "# hour\n",
    "comments_by_hour_other = {}\n",
    "\n",
    "# dictionary containing the number of upvotes for posts created during each \n",
    "# hour\n",
    "upvotes_by_hour_other = {}\n",
    "\n",
    "# dictionary containing the sum of squared numbers of comments for posts \n",
    "# created during each hour\n",
    "sq_comments_by_hour_other = {}\n",
    "\n",
    "# dictionary containing the sum of squared numbers of upvotes for posts \n",
    "# created during each hour\n",
    "sq_upvotes_by_hour_other = {}\n",
    "\n",
    "# list containing the set of hours, average numbers of comments, and standard \n",
    "# deviations\n",
    "ave_comments_per_hour_other = []\n",
    "\n",
    "# list containing the set of hours, average numbers of upvotes, and standard \n",
    "# deviations\n",
    "ave_upvotes_per_hour_other = []\n",
    "\n",
    "for row in other_posts: \n",
    "    time_created = dt.datetime.strptime(row[6], '%m/%d/%Y %H:%M')\n",
    "    hour_created = time_created.hour\n",
    "    created_at_other.append([hour_created, int(row[3]), int(row[4])])\n",
    "    # index 3: number of upvotes\n",
    "    # index 4: number of comments\n",
    "\n",
    "for row in created_at_other: \n",
    "    hour = row[0]\n",
    "    upvotes = row[1]\n",
    "    comments = row[2]\n",
    "    if hour in counts_by_hour_other:\n",
    "        counts_by_hour_other[hour] += 1\n",
    "        upvotes_by_hour_other[hour] += upvotes\n",
    "        sq_upvotes_by_hour_other[hour] += upvotes**2\n",
    "        comments_by_hour_other[hour] += comments\n",
    "        sq_comments_by_hour_other[hour] += comments**2\n",
    "    else: \n",
    "        counts_by_hour_other[hour] = 1\n",
    "        upvotes_by_hour_other[hour] = upvotes\n",
    "        sq_upvotes_by_hour_other[hour] = upvotes**2\n",
    "        comments_by_hour_other[hour] = comments\n",
    "        sq_comments_by_hour_other[hour] = comments**2\n",
    "\n",
    "for key in counts_by_hour_other:\n",
    "    count = counts_by_hour_other[key]\n",
    "    n_upvotes = upvotes_by_hour_other[key]\n",
    "    sq_n_upvotes = sq_upvotes_by_hour_other[key]\n",
    "    n_comments = comments_by_hour_other[key]\n",
    "    sq_n_comments = sq_comments_by_hour_other[key]\n",
    "    ave_u = n_upvotes/count\n",
    "    std_u = sqrt(sq_n_upvotes/count - ave_u**2)\n",
    "    ste_u = std_u/sqrt(count)\n",
    "    ave_c = n_comments/count\n",
    "    std_c = sqrt(sq_n_comments/count - ave_c**2)\n",
    "    ste_c = std_c/sqrt(count)\n",
    "    ave_upvotes_per_hour_other.append([key, ave_u, ste_u])\n",
    "    ave_comments_per_hour_other.append([key, ave_c, ste_c])\n",
    "ave_upvotes_per_hour_other.sort()\n",
    "ave_comments_per_hour_other.sort()\n",
    "    \n",
    "plot_xyz(ave_comments_per_hour_other, xlabel='hour', ylabel='average number of comments')\n",
    "plot_xyz(ave_upvotes_per_hour_other, xlabel='hour', ylabel='average number of upvotess')"
   ]
  },
  {
   "cell_type": "markdown",
   "metadata": {},
   "source": [
    "These two distributions look rather uniform, although posts created around noon EST seem to be a bit more popular than those created around midnight. To try and see this more clearly, let us divide the day into time intervals of 4 hours."
   ]
  },
  {
   "cell_type": "code",
   "execution_count": 16,
   "metadata": {},
   "outputs": [
    {
     "data": {
      "image/png": "[encoded data removed]",
      "text/plain": [
       "<Figure size 432x288 with 1 Axes>"
      ]
     },
     "metadata": {
      "needs_background": "light"
     },
     "output_type": "display_data"
    },
    {
     "data": {
      "image/png": "[encoded data removed]",
      "text/plain": [
       "<Figure size 432x288 with 1 Axes>"
      ]
     },
     "metadata": {
      "needs_background": "light"
     },
     "output_type": "display_data"
    }
   ],
   "source": [
    "# number of hours per group\n",
    "ngroup = 4\n",
    "\n",
    "# number to be subtracted from the plot of the number of upvotes for visibility\n",
    "origin_upvotes = ave_upvotes_other\n",
    "\n",
    "# number to be subtracted from the plot of the number of commentss for \n",
    "# visibility\n",
    "origin_comments = ave_comments_other\n",
    "\n",
    "# list containing the creation hour, number of upvotes, and number of \n",
    "# comments of each of the other posts\n",
    "created_at_other = []\n",
    "\n",
    "# dictionary containing the number of posts created during each hour\n",
    "counts_by_hour_other = {}\n",
    "\n",
    "# dictionary containing the number of comments for posts created during each \n",
    "# hour\n",
    "comments_by_hour_other = {}\n",
    "\n",
    "# dictionary containing the number of upvotes for posts created during each \n",
    "# hour\n",
    "upvotes_by_hour_other = {}\n",
    "\n",
    "# dictionary containing the sum of squared numbers of comments for posts \n",
    "# created during each hour\n",
    "sq_comments_by_hour_other = {}\n",
    "\n",
    "# dictionary containing the sum of squared numbers of upvotes for posts \n",
    "# created during each hour\n",
    "sq_upvotes_by_hour_other = {}\n",
    "\n",
    "# list containing the set of hours, average numbers of comments, and standard \n",
    "# deviations\n",
    "ave_comments_per_hour_other = []\n",
    "\n",
    "# list containing the set of hours, average numbers of upvotes, and standard \n",
    "# deviations\n",
    "ave_upvotes_per_hour_other = []\n",
    "\n",
    "for row in other_posts: \n",
    "    time_created = dt.datetime.strptime(row[6], '%m/%d/%Y %H:%M')\n",
    "    hour_created = time_created.hour\n",
    "    hour_created = hour_created - (hour_created % ngroup)\n",
    "    created_at_other.append([hour_created, int(row[3]), int(row[4])])\n",
    "    # index 3: number of upvotes\n",
    "    # index 4: number of comments\n",
    "\n",
    "for row in created_at_other: \n",
    "    hour = row[0]\n",
    "    upvotes = row[1]\n",
    "    comments = row[2]\n",
    "    if hour in counts_by_hour_other:\n",
    "        counts_by_hour_other[hour] += 1\n",
    "        upvotes_by_hour_other[hour] += upvotes\n",
    "        sq_upvotes_by_hour_other[hour] += upvotes**2\n",
    "        comments_by_hour_other[hour] += comments\n",
    "        sq_comments_by_hour_other[hour] += comments**2\n",
    "    else: \n",
    "        counts_by_hour_other[hour] = 1\n",
    "        upvotes_by_hour_other[hour] = upvotes\n",
    "        sq_upvotes_by_hour_other[hour] = upvotes**2\n",
    "        comments_by_hour_other[hour] = comments\n",
    "        sq_comments_by_hour_other[hour] = comments**2\n",
    "\n",
    "for key in counts_by_hour_other:\n",
    "    count = counts_by_hour_other[key]\n",
    "    n_upvotes = upvotes_by_hour_other[key]\n",
    "    sq_n_upvotes = sq_upvotes_by_hour_other[key]\n",
    "    n_comments = comments_by_hour_other[key]\n",
    "    sq_n_comments = sq_comments_by_hour_other[key]\n",
    "    ave_u = n_upvotes/count\n",
    "    std_u = sqrt(sq_n_upvotes/count - ave_u**2)\n",
    "    ste_u = std_u/sqrt(count)\n",
    "    ave_c = n_comments/count\n",
    "    std_c = sqrt(sq_n_comments/count - ave_c**2)\n",
    "    ste_c = std_c/sqrt(count)\n",
    "    ave_upvotes_per_hour_other.append([key, ave_u, ste_u])\n",
    "    ave_comments_per_hour_other.append([key, ave_c, ste_c])\n",
    "ave_upvotes_per_hour_other.sort()\n",
    "ave_comments_per_hour_other.sort()\n",
    "\n",
    "plot_xyz(ave_upvotes_per_hour_other, xlabel='hour', ylabel='average number of upvotess - mean', width=ngroup, yorigin = origin_upvotes)\n",
    "plot_xyz(ave_comments_per_hour_other, xlabel='hour', ylabel='average number of comments - mean', width=ngroup, yorigin = origin_comments)"
   ]
  },
  {
   "cell_type": "markdown",
   "metadata": {},
   "source": [
    "This confirms the above observations. It seems that posts created between 12:00 and 16:00 EST are the most popular while those created between 20:00 EST and 24:00 EST are the least popular. Let us compute the z-scores."
   ]
  },
  {
   "cell_type": "code",
   "execution_count": 17,
   "metadata": {},
   "outputs": [
    {
     "name": "stdout",
     "output_type": "stream",
     "text": [
      "z-score for the average number of upvotes of other posts created in the 4-hours interval starting at 12:00 EST: 3.31\n",
      "z-score for the average number of comments of other posts created in the 4-hours interval starting at 12:00 EST: 5.72\n",
      "z-score for the average number of upvotes of other posts created in the 4-hours interval starting at 20:00 EST: -5.11\n",
      "z-score for the average number of comments of other posts created in the 4-hours interval starting at 20:00 EST: -6.13\n"
     ]
    }
   ],
   "source": [
    "phrase = 'z-score for the average number of {things} of other posts created in the 4-hours interval starting at {hour}:00 EST: {z_score:.2f}'\n",
    "z_score_other_upvotes_noon = (ave_upvotes_per_hour_other[3][1] - ave_upvotes_other) / ave_upvotes_per_hour_other[3][2]\n",
    "z_score_other_comments_noon = (ave_comments_per_hour_other[3][1] - ave_comments_other) / ave_comments_per_hour_other[3][2]\n",
    "z_score_other_upvotes_midnight = (ave_upvotes_per_hour_other[5][1] - ave_upvotes_other) / ave_upvotes_per_hour_other[5][2]\n",
    "z_score_other_comments_midnight = (ave_comments_per_hour_other[5][1] - ave_comments_other) / ave_comments_per_hour_other[5][2]\n",
    "print(phrase.format(things = 'upvotes', hour = 12, z_score = z_score_other_upvotes_noon))\n",
    "print(phrase.format(things = 'comments', hour = 12, z_score = z_score_other_comments_noon))\n",
    "print(phrase.format(things = 'upvotes', hour = 20, z_score = z_score_other_upvotes_midnight))\n",
    "print(phrase.format(things = 'comments', hour = 20, z_score = z_score_other_comments_midnight))"
   ]
  },
  {
   "cell_type": "markdown",
   "metadata": {},
   "source": [
    "We conclude that:\n",
    "* **Other posts created between 12:00 and 16:00 EST have more upvotes and comments on average, by more than 3 standard errors.**\n",
    "* **Other posts created between 20:00 and 24:00 EST have less upvotes and comments on average, by more than 5 standard errors.**"
   ]
  },
  {
   "cell_type": "markdown",
   "metadata": {},
   "source": [
    "## Relation between the numbers of comments and upvotes"
   ]
  },
  {
   "cell_type": "markdown",
   "metadata": {},
   "source": [
    "In this section, we investigate whether there is a relation between the numbers of comments and upvotes of Hacker News posts. \n",
    "\n",
    "Let us first define a function computing the covariance between two variables."
   ]
  },
  {
   "cell_type": "code",
   "execution_count": 18,
   "metadata": {},
   "outputs": [],
   "source": [
    "import numpy as np # will be useful\n",
    "\n",
    "def average(x):\n",
    "    '''\n",
    "    computes the average of x\n",
    "    \n",
    "    return type: float\n",
    "    \n",
    "    x: list or numpy array of floats or integers\n",
    "    '''\n",
    "    return np.sum(x)/len(x)\n",
    "\n",
    "def covariance(x,y):\n",
    "    '''\n",
    "    returns the covariance of x and y\n",
    "    \n",
    "    return type: float\n",
    "\n",
    "    x: list or numpy array of floats or integers\n",
    "    y: list or numpy array of floats or integers with the same length as x\n",
    "    '''\n",
    "\n",
    "    ave_x = average(x)\n",
    "    ave_y = average(y)\n",
    "    ave_xy = np.sum(np.array(x)*np.array(y))/len(x)\n",
    "\n",
    "    return ave_xy - ave_x*ave_y"
   ]
  },
  {
   "cell_type": "markdown",
   "metadata": {},
   "source": [
    "We now use it to find the correlation coefficient and linear regression lines between two lists:"
   ]
  },
  {
   "cell_type": "code",
   "execution_count": 19,
   "metadata": {},
   "outputs": [],
   "source": [
    "def lin_reg(x,y):\n",
    "    '''\n",
    "    returns the coefficients of the regression line and correlation coefficient r\n",
    "    if the regression line has equation y = a*x+b, this function returns [a, b, r]\n",
    "    \n",
    "    return type: list of floats\n",
    "\n",
    "    x: list or numpy array of floats or integers\n",
    "    y: list or numpy array of floats or integers with the same length as x\n",
    "    '''\n",
    "    \n",
    "    ave_x = average(x)\n",
    "    ave_y = average(y)\n",
    "    var_x = covariance(x,x)\n",
    "    var_y = covariance(y,y)\n",
    "    cov_x_y = covariance(x,y)\n",
    "    \n",
    "    a = cov_x_y / var_x\n",
    "    b = ave_y - a*ave_x\n",
    "    r = cov_x_y / np.sqrt(var_x*var_y)\n",
    "\n",
    "    return [a,b,r]"
   ]
  },
  {
   "cell_type": "markdown",
   "metadata": {},
   "source": [
    "To get a first indication of a possible relation, we plot the number of upvotes as a function of the number of comments for all posts. Dots are the data, and the orange dashed line is the linear regression."
   ]
  },
  {
   "cell_type": "code",
   "execution_count": 20,
   "metadata": {},
   "outputs": [
    {
     "data": {
      "image/png": "[encoded data removed]",
      "text/plain": [
       "<Figure size 432x288 with 1 Axes>"
      ]
     },
     "metadata": {
      "needs_background": "light"
     },
     "output_type": "display_data"
    },
    {
     "name": "stdout",
     "output_type": "stream",
     "text": [
      "R² = 0.62\n"
     ]
    }
   ],
   "source": [
    "index_comments = 4\n",
    "index_upvotes = 3\n",
    "\n",
    "list_comments = []\n",
    "list_upvotes = []\n",
    "\n",
    "for row in hn_c:\n",
    "    list_comments.append(int(row[index_comments]))\n",
    "    list_upvotes.append(int(row[index_upvotes]))\n",
    "\n",
    "lr = lin_reg(list_comments, list_upvotes)\n",
    "\n",
    "a = lr[0]\n",
    "b = lr[1]\n",
    "r = lr[2]\n",
    "plt.plot(list_comments, list_upvotes, r'.')\n",
    "max_comments = max(list_comments)\n",
    "plt.plot([0, max_comments], [b, a*max_comments+b], r'--')\n",
    "plt.grid()\n",
    "plt.xlabel('number of comments')\n",
    "plt.ylabel('number of upvotes')\n",
    "plt.title('All posts with at least one comment')\n",
    "plt.show()\n",
    "print('R² = {:.2f}'.format(r*r))"
   ]
  },
  {
   "cell_type": "markdown",
   "metadata": {},
   "source": [
    "The data seems to be quite dispersed. The coefficient of determination is smaller than 0.63, indicating that there is no clear linear relation between the numbers of comments and upvotes. \n",
    "\n",
    "Let us now do the same for the “Ask HN” or “SHow HN” posts separately."
   ]
  },
  {
   "cell_type": "code",
   "execution_count": 21,
   "metadata": {},
   "outputs": [
    {
     "data": {
      "image/png": "[encoded data removed]",
      "text/plain": [
       "<Figure size 432x288 with 1 Axes>"
      ]
     },
     "metadata": {
      "needs_background": "light"
     },
     "output_type": "display_data"
    },
    {
     "name": "stdout",
     "output_type": "stream",
     "text": [
      "R² = 0.69\n"
     ]
    }
   ],
   "source": [
    "list_comments = []\n",
    "list_upvotes = []\n",
    "\n",
    "for row in ask_posts:\n",
    "    list_comments.append(int(row[index_comments]))\n",
    "    list_upvotes.append(int(row[index_upvotes]))\n",
    "\n",
    "lr = lin_reg(list_comments, list_upvotes)\n",
    "\n",
    "a = lr[0]\n",
    "b = lr[1]\n",
    "r = lr[2]\n",
    "plt.plot(list_comments, list_upvotes, r'.')\n",
    "max_comments = max(list_comments)\n",
    "plt.plot([0, max_comments], [b, a*max_comments+b], r'--')\n",
    "plt.grid()\n",
    "plt.xlabel('number of comments')\n",
    "plt.ylabel('number of upvotes')\n",
    "plt.title('“Ask HN” posts with at least one comment')\n",
    "plt.show()\n",
    "print('R² = {:.2f}'.format(r*r))"
   ]
  },
  {
   "cell_type": "code",
   "execution_count": 22,
   "metadata": {},
   "outputs": [
    {
     "data": {
      "image/png": "[encoded data removed]",
      "text/plain": [
       "<Figure size 432x288 with 1 Axes>"
      ]
     },
     "metadata": {
      "needs_background": "light"
     },
     "output_type": "display_data"
    },
    {
     "name": "stdout",
     "output_type": "stream",
     "text": [
      "R² = 0.61\n"
     ]
    }
   ],
   "source": [
    "list_comments = []\n",
    "list_upvotes = []\n",
    "\n",
    "for row in show_posts:\n",
    "    list_comments.append(int(row[index_comments]))\n",
    "    list_upvotes.append(int(row[index_upvotes]))\n",
    "\n",
    "lr = lin_reg(list_comments, list_upvotes)\n",
    "\n",
    "a = lr[0]\n",
    "b = lr[1]\n",
    "r = lr[2]\n",
    "plt.plot(list_comments, list_upvotes, r'.')\n",
    "max_comments = max(list_comments)\n",
    "plt.plot([0, max_comments], [b, a*max_comments+b], r'--')\n",
    "plt.grid()\n",
    "plt.xlabel('number of comments')\n",
    "plt.ylabel('number of upvotes')\n",
    "plt.title('“Show HN” posts with at least one comment')\n",
    "plt.show()\n",
    "print('R² = {:.2f}'.format(r*r))"
   ]
  },
  {
   "cell_type": "markdown",
   "metadata": {},
   "source": [
    "There seems to be no clear relation between the numbers of comments and upvotes within the “Ask HN” or “Show HN” categories. Together with the previous result, this indicates that **optimizing for both the numbers of comments and upvotes would be difficult**. Our suggestion for someone willing to create a popular post is thus to *decide in advance which of these numbers to prioritize*.\n",
    "\n",
    "## Conclusions \n",
    "\n",
    "In this project, we investigated the popularity Hacker News post in dependence of the kind of post and time of posting. \n",
    "We found that “Ask HN” posts created between 15:00 and 16:00 US Eastern Time (EST) are those receiving most comment. \n",
    "More generally, posts created between 12:00 and 16:00 US EST tend to be more popular than the others: it is thus the optimal window to post a link. \n",
    "On the contrary, those created between 20:00 and 24:00 EST are less popular. \n",
    "One should thus avoid posting a link at that time.\n",
    "Finally, we found no clear correlation between the numbers of comments and upvotes. \n",
    "This suggests that a poster should choose whether to design a post to maximize the number of comments or upvotes that it receives."
   ]
  }
 ],
 "metadata": {
  "kernelspec": {
   "display_name": "Python 3",
   "language": "python",
   "name": "python3"
  },
  "language_info": {
   "codemirror_mode": {
    "name": "ipython",
    "version": 3
   },
   "file_extension": ".py",
   "mimetype": "text/x-python",
   "name": "python",
   "nbconvert_exporter": "python",
   "pygments_lexer": "ipython3",
   "version": "3.7.3"
  }
 },
 "nbformat": 4,
 "nbformat_minor": 4
}
