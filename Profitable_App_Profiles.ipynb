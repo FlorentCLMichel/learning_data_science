{
 "cells": [
  {
   "cell_type": "markdown",
   "metadata": {},
   "source": [
    "# Free Apps Profitability on the Apple App Store and Google Play Markets\n",
    "\n",
    "This short project is aimed at extracting some of the features making a free app profitable in the main two app markets: the Apple App Store and Google Play. \n",
    "Since the apps we will consider are free to download, install, and use, the only source of revenue is advertisement. \n",
    "Profitability is thus strongly correlated with the number of users: the more people use one app, the more the ads it shows will be seen and generate money. \n",
    "\n",
    "There are obviously other factors to profitability, like the average time each user spends on the app and opportunities for ad targeting. \n",
    "However, for the sake of simplicity we will focus on the number of users. \n",
    "Our goal is thus to understand which features of a free app makes it attractive, and present the results in a way to help developers design more popular apps.\n",
    "\n",
    "The main conclusions are: \n",
    "* Social media and photo/video apps tend to be popular. \n",
    "* The size of an app does not seem to affect its popularity.\n",
    "* Apps rated 17+ or 18+ seem to be less popular than the others. \n",
    "\n",
    "## The datasets\n",
    "\n",
    "The first dataset we use, `AppleStore.csv`, was downloaded from [this link](https://www.kaggle.com/ramamet4/app-store-apple-data-set-10k-apps). \n",
    "It contains data for 7196 Apple iOS mobile applications, extracted from the iTunes Search API at the Apple Inc website in July 2017 by Ramanathan Perumal. \n",
    "The second one, `googleplaystore.csv`, was downloaded from [this link](https://www.kaggle.com/lava18/google-play-store-apps/home). \n",
    "It contains information on 10841 apps, scraped from the Google Play Store in August 2018 by Lavanya Gupta.\n",
    "\n",
    "We first load these two datasets as lists of lists"
   ]
  },
  {
   "cell_type": "code",
   "execution_count": 1,
   "metadata": {
    "attributes": {
     "classes": [],
     "id": "",
     "n": "1"
    }
   },
   "outputs": [],
   "source": [
    "# we import the datasets using the csv module. \n",
    "from csv import reader\n",
    "\n",
    "# read the files\n",
    "file_Apple = open('AppleStore.csv')\n",
    "file_Google = open('googleplaystore.csv')\n",
    "\n",
    "# convert them oto lists of lists\n",
    "data_Apple = list(reader(file_Apple))\n",
    "data_Google = list(reader(file_Google))"
   ]
  },
  {
   "cell_type": "markdown",
   "metadata": {},
   "source": [
    "We then determine some of their properties. First, we find their numbers of rows\n",
    "and columns."
   ]
  },
  {
   "cell_type": "code",
   "execution_count": 2,
   "metadata": {
    "attributes": {
     "classes": [],
     "id": "",
     "n": "2"
    }
   },
   "outputs": [
    {
     "name": "stdout",
     "output_type": "stream",
     "text": [
      "The Apple App Store dataset has 7198 lines and 17 columns.\n",
      "The Google Play Store dataset has 10842 lines and 13 columns.\n"
     ]
    }
   ],
   "source": [
    "n_lines_Apple = len(data_Apple)\n",
    "n_columns_Apple = len(data_Apple[0])\n",
    "\n",
    "n_lines_Google = len(data_Google)\n",
    "n_columns_Google = len(data_Google[0])\n",
    "\n",
    "print('The Apple App Store dataset has ' + str(n_lines_Apple) + ' lines and ' + str(n_columns_Apple) + ' columns.')\n",
    "print('The Google Play Store dataset has ' + str(n_lines_Google) + ' lines and ' + str(n_columns_Google) + ' columns.')"
   ]
  },
  {
   "cell_type": "markdown",
   "metadata": {},
   "source": [
    "We then print the few first and last lines of each dataset using the `pandas`\n",
    "module."
   ]
  },
  {
   "cell_type": "code",
   "execution_count": 3,
   "metadata": {
    "attributes": {
     "classes": [],
     "id": "",
     "n": "3"
    }
   },
   "outputs": [
    {
     "data": {
      "text/html": [
       "<div>\n",
       "<style scoped>\n",
       "    .dataframe tbody tr th:only-of-type {\n",
       "        vertical-align: middle;\n",
       "    }\n",
       "\n",
       "    .dataframe tbody tr th {\n",
       "        vertical-align: top;\n",
       "    }\n",
       "\n",
       "    .dataframe thead th {\n",
       "        text-align: right;\n",
       "    }\n",
       "</style>\n",
       "<table border=\"1\" class=\"dataframe\">\n",
       "  <thead>\n",
       "    <tr style=\"text-align: right;\">\n",
       "      <th></th>\n",
       "      <th></th>\n",
       "      <th>id</th>\n",
       "      <th>track_name</th>\n",
       "      <th>size_bytes</th>\n",
       "      <th>currency</th>\n",
       "      <th>price</th>\n",
       "      <th>rating_count_tot</th>\n",
       "      <th>rating_count_ver</th>\n",
       "      <th>user_rating</th>\n",
       "      <th>user_rating_ver</th>\n",
       "      <th>ver</th>\n",
       "      <th>cont_rating</th>\n",
       "      <th>prime_genre</th>\n",
       "      <th>sup_devices.num</th>\n",
       "      <th>ipadSc_urls.num</th>\n",
       "      <th>lang.num</th>\n",
       "      <th>vpp_lic</th>\n",
       "    </tr>\n",
       "  </thead>\n",
       "  <tbody>\n",
       "    <tr>\n",
       "      <th>0</th>\n",
       "      <td>1</td>\n",
       "      <td>281656475</td>\n",
       "      <td>PAC-MAN Premium</td>\n",
       "      <td>100788224</td>\n",
       "      <td>USD</td>\n",
       "      <td>3.99</td>\n",
       "      <td>21292</td>\n",
       "      <td>26</td>\n",
       "      <td>4</td>\n",
       "      <td>4.5</td>\n",
       "      <td>6.3.5</td>\n",
       "      <td>4+</td>\n",
       "      <td>Games</td>\n",
       "      <td>38</td>\n",
       "      <td>5</td>\n",
       "      <td>10</td>\n",
       "      <td>1</td>\n",
       "    </tr>\n",
       "    <tr>\n",
       "      <th>1</th>\n",
       "      <td>2</td>\n",
       "      <td>281796108</td>\n",
       "      <td>Evernote - stay organized</td>\n",
       "      <td>158578688</td>\n",
       "      <td>USD</td>\n",
       "      <td>0</td>\n",
       "      <td>161065</td>\n",
       "      <td>26</td>\n",
       "      <td>4</td>\n",
       "      <td>3.5</td>\n",
       "      <td>8.2.2</td>\n",
       "      <td>4+</td>\n",
       "      <td>Productivity</td>\n",
       "      <td>37</td>\n",
       "      <td>5</td>\n",
       "      <td>23</td>\n",
       "      <td>1</td>\n",
       "    </tr>\n",
       "    <tr>\n",
       "      <th>2</th>\n",
       "      <td>3</td>\n",
       "      <td>281940292</td>\n",
       "      <td>WeatherBug - Local Weather, Radar, Maps, Alerts</td>\n",
       "      <td>100524032</td>\n",
       "      <td>USD</td>\n",
       "      <td>0</td>\n",
       "      <td>188583</td>\n",
       "      <td>2822</td>\n",
       "      <td>3.5</td>\n",
       "      <td>4.5</td>\n",
       "      <td>5.0.0</td>\n",
       "      <td>4+</td>\n",
       "      <td>Weather</td>\n",
       "      <td>37</td>\n",
       "      <td>5</td>\n",
       "      <td>3</td>\n",
       "      <td>1</td>\n",
       "    </tr>\n",
       "    <tr>\n",
       "      <th>3</th>\n",
       "      <td>4</td>\n",
       "      <td>282614216</td>\n",
       "      <td>eBay: Best App to Buy, Sell, Save! Online Shop...</td>\n",
       "      <td>128512000</td>\n",
       "      <td>USD</td>\n",
       "      <td>0</td>\n",
       "      <td>262241</td>\n",
       "      <td>649</td>\n",
       "      <td>4</td>\n",
       "      <td>4.5</td>\n",
       "      <td>5.10.0</td>\n",
       "      <td>12+</td>\n",
       "      <td>Shopping</td>\n",
       "      <td>37</td>\n",
       "      <td>5</td>\n",
       "      <td>9</td>\n",
       "      <td>1</td>\n",
       "    </tr>\n",
       "    <tr>\n",
       "      <th>4</th>\n",
       "      <td>5</td>\n",
       "      <td>282935706</td>\n",
       "      <td>Bible</td>\n",
       "      <td>92774400</td>\n",
       "      <td>USD</td>\n",
       "      <td>0</td>\n",
       "      <td>985920</td>\n",
       "      <td>5320</td>\n",
       "      <td>4.5</td>\n",
       "      <td>5</td>\n",
       "      <td>7.5.1</td>\n",
       "      <td>4+</td>\n",
       "      <td>Reference</td>\n",
       "      <td>37</td>\n",
       "      <td>5</td>\n",
       "      <td>45</td>\n",
       "      <td>1</td>\n",
       "    </tr>\n",
       "    <tr>\n",
       "      <th>...</th>\n",
       "      <td>...</td>\n",
       "      <td>...</td>\n",
       "      <td>...</td>\n",
       "      <td>...</td>\n",
       "      <td>...</td>\n",
       "      <td>...</td>\n",
       "      <td>...</td>\n",
       "      <td>...</td>\n",
       "      <td>...</td>\n",
       "      <td>...</td>\n",
       "      <td>...</td>\n",
       "      <td>...</td>\n",
       "      <td>...</td>\n",
       "      <td>...</td>\n",
       "      <td>...</td>\n",
       "      <td>...</td>\n",
       "      <td>...</td>\n",
       "    </tr>\n",
       "    <tr>\n",
       "      <th>7192</th>\n",
       "      <td>11081</td>\n",
       "      <td>1187617475</td>\n",
       "      <td>Kubik</td>\n",
       "      <td>126644224</td>\n",
       "      <td>USD</td>\n",
       "      <td>0</td>\n",
       "      <td>142</td>\n",
       "      <td>75</td>\n",
       "      <td>4.5</td>\n",
       "      <td>4.5</td>\n",
       "      <td>1.3</td>\n",
       "      <td>4+</td>\n",
       "      <td>Games</td>\n",
       "      <td>38</td>\n",
       "      <td>5</td>\n",
       "      <td>1</td>\n",
       "      <td>1</td>\n",
       "    </tr>\n",
       "    <tr>\n",
       "      <th>7193</th>\n",
       "      <td>11082</td>\n",
       "      <td>1187682390</td>\n",
       "      <td>VR Roller-Coaster</td>\n",
       "      <td>120760320</td>\n",
       "      <td>USD</td>\n",
       "      <td>0</td>\n",
       "      <td>30</td>\n",
       "      <td>30</td>\n",
       "      <td>4.5</td>\n",
       "      <td>4.5</td>\n",
       "      <td>0.9</td>\n",
       "      <td>4+</td>\n",
       "      <td>Games</td>\n",
       "      <td>38</td>\n",
       "      <td>0</td>\n",
       "      <td>1</td>\n",
       "      <td>1</td>\n",
       "    </tr>\n",
       "    <tr>\n",
       "      <th>7194</th>\n",
       "      <td>11087</td>\n",
       "      <td>1187779532</td>\n",
       "      <td>Bret Michaels Emojis + Lyric Keyboard</td>\n",
       "      <td>111322112</td>\n",
       "      <td>USD</td>\n",
       "      <td>1.99</td>\n",
       "      <td>15</td>\n",
       "      <td>0</td>\n",
       "      <td>4.5</td>\n",
       "      <td>0</td>\n",
       "      <td>1.0.2</td>\n",
       "      <td>9+</td>\n",
       "      <td>Utilities</td>\n",
       "      <td>37</td>\n",
       "      <td>1</td>\n",
       "      <td>1</td>\n",
       "      <td>1</td>\n",
       "    </tr>\n",
       "    <tr>\n",
       "      <th>7195</th>\n",
       "      <td>11089</td>\n",
       "      <td>1187838770</td>\n",
       "      <td>VR Roller Coaster World - Virtual Reality</td>\n",
       "      <td>97235968</td>\n",
       "      <td>USD</td>\n",
       "      <td>0</td>\n",
       "      <td>85</td>\n",
       "      <td>32</td>\n",
       "      <td>4.5</td>\n",
       "      <td>4.5</td>\n",
       "      <td>1.0.15</td>\n",
       "      <td>12+</td>\n",
       "      <td>Games</td>\n",
       "      <td>38</td>\n",
       "      <td>0</td>\n",
       "      <td>2</td>\n",
       "      <td>1</td>\n",
       "    </tr>\n",
       "    <tr>\n",
       "      <th>7196</th>\n",
       "      <td>11097</td>\n",
       "      <td>1188375727</td>\n",
       "      <td>Escape the Sweet Shop Series</td>\n",
       "      <td>90898432</td>\n",
       "      <td>USD</td>\n",
       "      <td>0</td>\n",
       "      <td>3</td>\n",
       "      <td>3</td>\n",
       "      <td>5</td>\n",
       "      <td>5</td>\n",
       "      <td>1.0</td>\n",
       "      <td>4+</td>\n",
       "      <td>Games</td>\n",
       "      <td>40</td>\n",
       "      <td>0</td>\n",
       "      <td>2</td>\n",
       "      <td>1</td>\n",
       "    </tr>\n",
       "  </tbody>\n",
       "</table>\n",
       "<p>7197 rows × 17 columns</p>\n",
       "</div>"
      ],
      "text/plain": [
       "                     id                                         track_name  \\\n",
       "0         1   281656475                                    PAC-MAN Premium   \n",
       "1         2   281796108                          Evernote - stay organized   \n",
       "2         3   281940292    WeatherBug - Local Weather, Radar, Maps, Alerts   \n",
       "3         4   282614216  eBay: Best App to Buy, Sell, Save! Online Shop...   \n",
       "4         5   282935706                                              Bible   \n",
       "...     ...         ...                                                ...   \n",
       "7192  11081  1187617475                                              Kubik   \n",
       "7193  11082  1187682390                                  VR Roller-Coaster   \n",
       "7194  11087  1187779532              Bret Michaels Emojis + Lyric Keyboard   \n",
       "7195  11089  1187838770          VR Roller Coaster World - Virtual Reality   \n",
       "7196  11097  1188375727                       Escape the Sweet Shop Series   \n",
       "\n",
       "     size_bytes currency price rating_count_tot rating_count_ver user_rating  \\\n",
       "0     100788224      USD  3.99            21292               26           4   \n",
       "1     158578688      USD     0           161065               26           4   \n",
       "2     100524032      USD     0           188583             2822         3.5   \n",
       "3     128512000      USD     0           262241              649           4   \n",
       "4      92774400      USD     0           985920             5320         4.5   \n",
       "...         ...      ...   ...              ...              ...         ...   \n",
       "7192  126644224      USD     0              142               75         4.5   \n",
       "7193  120760320      USD     0               30               30         4.5   \n",
       "7194  111322112      USD  1.99               15                0         4.5   \n",
       "7195   97235968      USD     0               85               32         4.5   \n",
       "7196   90898432      USD     0                3                3           5   \n",
       "\n",
       "     user_rating_ver     ver cont_rating   prime_genre sup_devices.num  \\\n",
       "0                4.5   6.3.5          4+         Games              38   \n",
       "1                3.5   8.2.2          4+  Productivity              37   \n",
       "2                4.5   5.0.0          4+       Weather              37   \n",
       "3                4.5  5.10.0         12+      Shopping              37   \n",
       "4                  5   7.5.1          4+     Reference              37   \n",
       "...              ...     ...         ...           ...             ...   \n",
       "7192             4.5     1.3          4+         Games              38   \n",
       "7193             4.5     0.9          4+         Games              38   \n",
       "7194               0   1.0.2          9+     Utilities              37   \n",
       "7195             4.5  1.0.15         12+         Games              38   \n",
       "7196               5     1.0          4+         Games              40   \n",
       "\n",
       "     ipadSc_urls.num lang.num vpp_lic  \n",
       "0                  5       10       1  \n",
       "1                  5       23       1  \n",
       "2                  5        3       1  \n",
       "3                  5        9       1  \n",
       "4                  5       45       1  \n",
       "...              ...      ...     ...  \n",
       "7192               5        1       1  \n",
       "7193               0        1       1  \n",
       "7194               1        1       1  \n",
       "7195               0        2       1  \n",
       "7196               0        2       1  \n",
       "\n",
       "[7197 rows x 17 columns]"
      ]
     },
     "execution_count": 3,
     "metadata": {},
     "output_type": "execute_result"
    }
   ],
   "source": [
    "import pandas as pd\n",
    "\n",
    "# set the number of printed rows to 10\n",
    "pd.set_option('display.max_rows', 10)\n",
    "\n",
    "# define a DataFrame object for the Apple dataset; 10 lines are automatically \n",
    "# printed\n",
    "pd.DataFrame(data_Apple[1:], columns=data_Apple[0])"
   ]
  },
  {
   "cell_type": "code",
   "execution_count": 4,
   "metadata": {
    "attributes": {
     "classes": [],
     "id": "",
     "n": "4"
    }
   },
   "outputs": [
    {
     "data": {
      "text/html": [
       "<div>\n",
       "<style scoped>\n",
       "    .dataframe tbody tr th:only-of-type {\n",
       "        vertical-align: middle;\n",
       "    }\n",
       "\n",
       "    .dataframe tbody tr th {\n",
       "        vertical-align: top;\n",
       "    }\n",
       "\n",
       "    .dataframe thead th {\n",
       "        text-align: right;\n",
       "    }\n",
       "</style>\n",
       "<table border=\"1\" class=\"dataframe\">\n",
       "  <thead>\n",
       "    <tr style=\"text-align: right;\">\n",
       "      <th></th>\n",
       "      <th>App</th>\n",
       "      <th>Category</th>\n",
       "      <th>Rating</th>\n",
       "      <th>Reviews</th>\n",
       "      <th>Size</th>\n",
       "      <th>Installs</th>\n",
       "      <th>Type</th>\n",
       "      <th>Price</th>\n",
       "      <th>Content Rating</th>\n",
       "      <th>Genres</th>\n",
       "      <th>Last Updated</th>\n",
       "      <th>Current Ver</th>\n",
       "      <th>Android Ver</th>\n",
       "    </tr>\n",
       "  </thead>\n",
       "  <tbody>\n",
       "    <tr>\n",
       "      <th>0</th>\n",
       "      <td>Photo Editor &amp; Candy Camera &amp; Grid &amp; ScrapBook</td>\n",
       "      <td>ART_AND_DESIGN</td>\n",
       "      <td>4.1</td>\n",
       "      <td>159</td>\n",
       "      <td>19M</td>\n",
       "      <td>10,000+</td>\n",
       "      <td>Free</td>\n",
       "      <td>0</td>\n",
       "      <td>Everyone</td>\n",
       "      <td>Art &amp; Design</td>\n",
       "      <td>January 7, 2018</td>\n",
       "      <td>1.0.0</td>\n",
       "      <td>4.0.3 and up</td>\n",
       "    </tr>\n",
       "    <tr>\n",
       "      <th>1</th>\n",
       "      <td>Coloring book moana</td>\n",
       "      <td>ART_AND_DESIGN</td>\n",
       "      <td>3.9</td>\n",
       "      <td>967</td>\n",
       "      <td>14M</td>\n",
       "      <td>500,000+</td>\n",
       "      <td>Free</td>\n",
       "      <td>0</td>\n",
       "      <td>Everyone</td>\n",
       "      <td>Art &amp; Design;Pretend Play</td>\n",
       "      <td>January 15, 2018</td>\n",
       "      <td>2.0.0</td>\n",
       "      <td>4.0.3 and up</td>\n",
       "    </tr>\n",
       "    <tr>\n",
       "      <th>2</th>\n",
       "      <td>U Launcher Lite – FREE Live Cool Themes, Hide ...</td>\n",
       "      <td>ART_AND_DESIGN</td>\n",
       "      <td>4.7</td>\n",
       "      <td>87510</td>\n",
       "      <td>8.7M</td>\n",
       "      <td>5,000,000+</td>\n",
       "      <td>Free</td>\n",
       "      <td>0</td>\n",
       "      <td>Everyone</td>\n",
       "      <td>Art &amp; Design</td>\n",
       "      <td>August 1, 2018</td>\n",
       "      <td>1.2.4</td>\n",
       "      <td>4.0.3 and up</td>\n",
       "    </tr>\n",
       "    <tr>\n",
       "      <th>3</th>\n",
       "      <td>Sketch - Draw &amp; Paint</td>\n",
       "      <td>ART_AND_DESIGN</td>\n",
       "      <td>4.5</td>\n",
       "      <td>215644</td>\n",
       "      <td>25M</td>\n",
       "      <td>50,000,000+</td>\n",
       "      <td>Free</td>\n",
       "      <td>0</td>\n",
       "      <td>Teen</td>\n",
       "      <td>Art &amp; Design</td>\n",
       "      <td>June 8, 2018</td>\n",
       "      <td>Varies with device</td>\n",
       "      <td>4.2 and up</td>\n",
       "    </tr>\n",
       "    <tr>\n",
       "      <th>4</th>\n",
       "      <td>Pixel Draw - Number Art Coloring Book</td>\n",
       "      <td>ART_AND_DESIGN</td>\n",
       "      <td>4.3</td>\n",
       "      <td>967</td>\n",
       "      <td>2.8M</td>\n",
       "      <td>100,000+</td>\n",
       "      <td>Free</td>\n",
       "      <td>0</td>\n",
       "      <td>Everyone</td>\n",
       "      <td>Art &amp; Design;Creativity</td>\n",
       "      <td>June 20, 2018</td>\n",
       "      <td>1.1</td>\n",
       "      <td>4.4 and up</td>\n",
       "    </tr>\n",
       "    <tr>\n",
       "      <th>...</th>\n",
       "      <td>...</td>\n",
       "      <td>...</td>\n",
       "      <td>...</td>\n",
       "      <td>...</td>\n",
       "      <td>...</td>\n",
       "      <td>...</td>\n",
       "      <td>...</td>\n",
       "      <td>...</td>\n",
       "      <td>...</td>\n",
       "      <td>...</td>\n",
       "      <td>...</td>\n",
       "      <td>...</td>\n",
       "      <td>...</td>\n",
       "    </tr>\n",
       "    <tr>\n",
       "      <th>10836</th>\n",
       "      <td>Sya9a Maroc - FR</td>\n",
       "      <td>FAMILY</td>\n",
       "      <td>4.5</td>\n",
       "      <td>38</td>\n",
       "      <td>53M</td>\n",
       "      <td>5,000+</td>\n",
       "      <td>Free</td>\n",
       "      <td>0</td>\n",
       "      <td>Everyone</td>\n",
       "      <td>Education</td>\n",
       "      <td>July 25, 2017</td>\n",
       "      <td>1.48</td>\n",
       "      <td>4.1 and up</td>\n",
       "    </tr>\n",
       "    <tr>\n",
       "      <th>10837</th>\n",
       "      <td>Fr. Mike Schmitz Audio Teachings</td>\n",
       "      <td>FAMILY</td>\n",
       "      <td>5.0</td>\n",
       "      <td>4</td>\n",
       "      <td>3.6M</td>\n",
       "      <td>100+</td>\n",
       "      <td>Free</td>\n",
       "      <td>0</td>\n",
       "      <td>Everyone</td>\n",
       "      <td>Education</td>\n",
       "      <td>July 6, 2018</td>\n",
       "      <td>1.0</td>\n",
       "      <td>4.1 and up</td>\n",
       "    </tr>\n",
       "    <tr>\n",
       "      <th>10838</th>\n",
       "      <td>Parkinson Exercices FR</td>\n",
       "      <td>MEDICAL</td>\n",
       "      <td>NaN</td>\n",
       "      <td>3</td>\n",
       "      <td>9.5M</td>\n",
       "      <td>1,000+</td>\n",
       "      <td>Free</td>\n",
       "      <td>0</td>\n",
       "      <td>Everyone</td>\n",
       "      <td>Medical</td>\n",
       "      <td>January 20, 2017</td>\n",
       "      <td>1.0</td>\n",
       "      <td>2.2 and up</td>\n",
       "    </tr>\n",
       "    <tr>\n",
       "      <th>10839</th>\n",
       "      <td>The SCP Foundation DB fr nn5n</td>\n",
       "      <td>BOOKS_AND_REFERENCE</td>\n",
       "      <td>4.5</td>\n",
       "      <td>114</td>\n",
       "      <td>Varies with device</td>\n",
       "      <td>1,000+</td>\n",
       "      <td>Free</td>\n",
       "      <td>0</td>\n",
       "      <td>Mature 17+</td>\n",
       "      <td>Books &amp; Reference</td>\n",
       "      <td>January 19, 2015</td>\n",
       "      <td>Varies with device</td>\n",
       "      <td>Varies with device</td>\n",
       "    </tr>\n",
       "    <tr>\n",
       "      <th>10840</th>\n",
       "      <td>iHoroscope - 2018 Daily Horoscope &amp; Astrology</td>\n",
       "      <td>LIFESTYLE</td>\n",
       "      <td>4.5</td>\n",
       "      <td>398307</td>\n",
       "      <td>19M</td>\n",
       "      <td>10,000,000+</td>\n",
       "      <td>Free</td>\n",
       "      <td>0</td>\n",
       "      <td>Everyone</td>\n",
       "      <td>Lifestyle</td>\n",
       "      <td>July 25, 2018</td>\n",
       "      <td>Varies with device</td>\n",
       "      <td>Varies with device</td>\n",
       "    </tr>\n",
       "  </tbody>\n",
       "</table>\n",
       "<p>10841 rows × 13 columns</p>\n",
       "</div>"
      ],
      "text/plain": [
       "                                                     App             Category  \\\n",
       "0         Photo Editor & Candy Camera & Grid & ScrapBook       ART_AND_DESIGN   \n",
       "1                                    Coloring book moana       ART_AND_DESIGN   \n",
       "2      U Launcher Lite – FREE Live Cool Themes, Hide ...       ART_AND_DESIGN   \n",
       "3                                  Sketch - Draw & Paint       ART_AND_DESIGN   \n",
       "4                  Pixel Draw - Number Art Coloring Book       ART_AND_DESIGN   \n",
       "...                                                  ...                  ...   \n",
       "10836                                   Sya9a Maroc - FR               FAMILY   \n",
       "10837                   Fr. Mike Schmitz Audio Teachings               FAMILY   \n",
       "10838                             Parkinson Exercices FR              MEDICAL   \n",
       "10839                      The SCP Foundation DB fr nn5n  BOOKS_AND_REFERENCE   \n",
       "10840      iHoroscope - 2018 Daily Horoscope & Astrology            LIFESTYLE   \n",
       "\n",
       "      Rating Reviews                Size     Installs  Type Price  \\\n",
       "0        4.1     159                 19M      10,000+  Free     0   \n",
       "1        3.9     967                 14M     500,000+  Free     0   \n",
       "2        4.7   87510                8.7M   5,000,000+  Free     0   \n",
       "3        4.5  215644                 25M  50,000,000+  Free     0   \n",
       "4        4.3     967                2.8M     100,000+  Free     0   \n",
       "...      ...     ...                 ...          ...   ...   ...   \n",
       "10836    4.5      38                 53M       5,000+  Free     0   \n",
       "10837    5.0       4                3.6M         100+  Free     0   \n",
       "10838    NaN       3                9.5M       1,000+  Free     0   \n",
       "10839    4.5     114  Varies with device       1,000+  Free     0   \n",
       "10840    4.5  398307                 19M  10,000,000+  Free     0   \n",
       "\n",
       "      Content Rating                     Genres      Last Updated  \\\n",
       "0           Everyone               Art & Design   January 7, 2018   \n",
       "1           Everyone  Art & Design;Pretend Play  January 15, 2018   \n",
       "2           Everyone               Art & Design    August 1, 2018   \n",
       "3               Teen               Art & Design      June 8, 2018   \n",
       "4           Everyone    Art & Design;Creativity     June 20, 2018   \n",
       "...              ...                        ...               ...   \n",
       "10836       Everyone                  Education     July 25, 2017   \n",
       "10837       Everyone                  Education      July 6, 2018   \n",
       "10838       Everyone                    Medical  January 20, 2017   \n",
       "10839     Mature 17+          Books & Reference  January 19, 2015   \n",
       "10840       Everyone                  Lifestyle     July 25, 2018   \n",
       "\n",
       "              Current Ver         Android Ver  \n",
       "0                   1.0.0        4.0.3 and up  \n",
       "1                   2.0.0        4.0.3 and up  \n",
       "2                   1.2.4        4.0.3 and up  \n",
       "3      Varies with device          4.2 and up  \n",
       "4                     1.1          4.4 and up  \n",
       "...                   ...                 ...  \n",
       "10836                1.48          4.1 and up  \n",
       "10837                 1.0          4.1 and up  \n",
       "10838                 1.0          2.2 and up  \n",
       "10839  Varies with device  Varies with device  \n",
       "10840  Varies with device  Varies with device  \n",
       "\n",
       "[10841 rows x 13 columns]"
      ]
     },
     "execution_count": 4,
     "metadata": {},
     "output_type": "execute_result"
    }
   ],
   "source": [
    "# define a DataFrame object for the Google dataset; 10 lines are automatically \n",
    "# printed\n",
    "pd.DataFrame(data_Google[1:], columns=data_Google[0])"
   ]
  },
  {
   "cell_type": "markdown",
   "metadata": {},
   "source": [
    "We first notice that the Apple dataset contains both free and non-free apps. \n",
    "The latter will have to be removed. \n",
    "The Google dataset seems to include only free apps. Let us check that it is the case."
   ]
  },
  {
   "cell_type": "code",
   "execution_count": 5,
   "metadata": {
    "attributes": {
     "classes": [],
     "id": "",
     "n": "5"
    }
   },
   "outputs": [
    {
     "name": "stdout",
     "output_type": "stream",
     "text": [
      "$4.99\n"
     ]
    },
    {
     "data": {
      "text/plain": [
       "False"
      ]
     },
     "execution_count": 5,
     "metadata": {},
     "output_type": "execute_result"
    }
   ],
   "source": [
    "# boolean equal to True if no non-free app has ben encountered\n",
    "Google_only_free_apps = True\n",
    "\n",
    "for row in data_Google[1:]:\n",
    "    if row[7] != '0': # column 7 is the price as a string\n",
    "        print(row[7]) # print the price to make sure the app is not free\n",
    "        Google_only_free_apps = False\n",
    "        break;\n",
    "Google_only_free_apps"
   ]
  },
  {
   "cell_type": "markdown",
   "metadata": {},
   "source": [
    "The Google dataset actually also contains non-free apps, which we will need to remove.\n",
    "\n",
    "Let us now discuss which columns we expect to be important for our analysis. \n",
    "In the Apple dataset,\n",
    "* The `size_bytes` column may be relevent, as the larger an app is the more difficult it is to download in areas with poor network.\n",
    "* The `price` may well be an important factor. \n",
    "Since our focus is on free apps, we will discard non-free ones which may otherwise bias the analysis.\n",
    "* The column `rating_count_tot`, giving the number of user ratings for all versions, should play a role: the more popular an app is, the more users are expected to give a rating. \n",
    "* The column `rating_count_ver`, giving the number of user ratings for the current versions should also play a role, for the same reason. \n",
    "* The column `user_rating`, giving the average user rating for all versions, should be important: higher-rated apps tend to be more popular.\n",
    "* The column `user_rating_ver`, giving the average user rating for the current version, should be important too, for the same reason.\n",
    "* The column `cont_rating`, giving the content rating, may be important, as an app with higher-rated content will be accessible to less users.\n",
    "* The column `prime_genre`, giving the primary genre of the app, may play a role if some genres are more popular than others.\n",
    "* The column `sup_devices.num` (number of supported devices) should be important: the more different devices are supported, the more people can use the app.\n",
    "* The column `ipadSc_urls.num` (number of screenshots shown for display) may play a role: more screenshots can give a user a better idea fof the app, and thus contribute to them downloading it or not.\n",
    "* The column `lang.num` (number of supported languages) should be important: the more languages are supported by the app, the more people can use it.\n",
    "\n",
    "For the Google dataset, we can expect that the important columns will be (skipping the reason when it is identical to one above):\n",
    "* `Category`, as some categories may be more popular than others.\n",
    "* `Rating`\n",
    "* `Reviews`\n",
    "* `Size`\n",
    "* `Installs`: The more an app is installed, the more it is popular.\n",
    "* `Type` and `Price`, which are equivaent for our purposes as we deal only with free apps.\n",
    "* `Content Rating`\n",
    "* `Genre`\n",
    "* `Android ver`, as the required Android version can make the app accessible to more or less people.\n",
    "\n",
    "However, some of these columns refer to properties which are not directly controlled by developpers. Since our aim is to aid developpers design more\n",
    "popular apps, we shall choose: \n",
    "* for the Apple dataset,\n",
    "    * `rating_count_tot` and `user_rating` as our two target variables (the former is more directly connected to the total number of users and thus the app popularity, but depends on the unknown time since the app was released; the latter is expected to depend less on time but the connection with the number of users is less direct),\n",
    "    * `size_bytes`, `cont_rating`, `prime_genre`, `sup_devices.num`, `ipadSc_urls.num`, and `lang.num` as features;\n",
    "* for the Google dataset, \n",
    "    * `Installs` and `Rating` as target variables,\n",
    "    * `Category`, `Size`, `Content Rating`, `Genre`, and `Android ver` as features."
   ]
  },
  {
   "cell_type": "markdown",
   "metadata": {},
   "source": [
    "## Data cleaning"
   ]
  },
  {
   "cell_type": "markdown",
   "metadata": {},
   "source": [
    "The first step is to look for errors or missing data. We will use three methods to detect them: \n",
    "* we shall first look for lines with a different number of entries than the first one,\n",
    "* we will then look for duplicates,\n",
    "* finally, we will go through the discussion page for each dataset to see if there are known errors.\n",
    "\n",
    "### Rows with the wrong number of elements\n",
    "\n",
    "The function `wrong_number_entries` below prints the indices of rows having a number of elements different from the first header."
   ]
  },
  {
   "cell_type": "code",
   "execution_count": 6,
   "metadata": {},
   "outputs": [
    {
     "name": "stdout",
     "output_type": "stream",
     "text": [
      "Google:\n",
      "10473\n",
      "Apple:\n"
     ]
    }
   ],
   "source": [
    "def wrong_number_entries(dset):\n",
    "    '''\n",
    "    prints the indices of all elements of dset[1:] having a different length \n",
    "    than the element with index 0\n",
    "    \n",
    "    dset: list of list\n",
    "    '''\n",
    "    n_entries = len(dset[0])\n",
    "    for i in range(1,len(dset)):\n",
    "        if len(dset[i]) != n_entries:\n",
    "            print(i)\n",
    "\n",
    "print('Google:')\n",
    "wrong_number_entries(data_Google)\n",
    "print('Apple:')\n",
    "wrong_number_entries(data_Apple)"
   ]
  },
  {
   "cell_type": "markdown",
   "metadata": {},
   "source": [
    "There seems to be a problem with line 10473 in the Google dataset. Let us print it:"
   ]
  },
  {
   "cell_type": "code",
   "execution_count": 7,
   "metadata": {},
   "outputs": [
    {
     "name": "stdout",
     "output_type": "stream",
     "text": [
      "['App', 'Category', 'Rating', 'Reviews', 'Size', 'Installs', 'Type', 'Price', 'Content Rating', 'Genres', 'Last Updated', 'Current Ver', 'Android Ver']\n",
      "['Life Made WI-Fi Touchscreen Photo Frame', '1.9', '19', '3.0M', '1,000+', 'Free', '0', 'Everyone', '', 'February 11, 2018', '1.0.19', '4.0 and up']\n"
     ]
    }
   ],
   "source": [
    "print(data_Google[0])\n",
    "print(data_Google[10473])"
   ]
  },
  {
   "cell_type": "markdown",
   "metadata": {},
   "source": [
    "It seems that the `Category` entry is missing. \n",
    "According to [this discussion](https://www.kaggle.com/lava18/google-play-store-apps/discussion/66015), the category for this app is 'Lifestyle'. \n",
    "Let us include it:"
   ]
  },
  {
   "cell_type": "code",
   "execution_count": 8,
   "metadata": {},
   "outputs": [
    {
     "name": "stdout",
     "output_type": "stream",
     "text": [
      "['Life Made WI-Fi Touchscreen Photo Frame', 'Lifestyle', '1.9', '19', '3.0M', '1,000+', 'Free', '0', 'Everyone', '', 'February 11, 2018', '1.0.19', '4.0 and up']\n"
     ]
    }
   ],
   "source": [
    "data_Google[10473].insert(1,'Lifestyle')\n",
    "print(data_Google[10473])"
   ]
  },
  {
   "cell_type": "markdown",
   "metadata": {},
   "source": [
    "### Duplicates"
   ]
  },
  {
   "cell_type": "markdown",
   "metadata": {},
   "source": [
    "Let us now look for duplicates. The function `find_duplicates` below takes as arguments a dataset as a list of lists and an index, and creates a dictionary whise keys equal to the elements found in the column with this index and the values are lists of lines numbers where this element is found. It then returns a sub-dictionary obtained by removing the keys whose associated values ave only one element."
   ]
  },
  {
   "cell_type": "code",
   "execution_count": 9,
   "metadata": {},
   "outputs": [],
   "source": [
    "def find_duplicates(dset, index):\n",
    "    '''\n",
    "    finds possible duplicates in the list of lists dset\n",
    "    Two elements are understood as possible duplicates if their elements with \n",
    "    index 'index' match.\n",
    "    \n",
    "    dset: list of lists\n",
    "    index: integer \n",
    "    '''\n",
    "    elements_column = {}\n",
    "    for i in range(1,len(dset)): # header not included\n",
    "        key = dset[i][index]\n",
    "        if key in elements_column:\n",
    "            elements_column[key].append(i)\n",
    "        else:\n",
    "            elements_column[key] = [i]\n",
    "    duplicates = {}\n",
    "    for key in elements_column:\n",
    "        list_cols = elements_column[key]\n",
    "        if len(list_cols) > 1:\n",
    "            duplicates[key] =  list_cols\n",
    "    return duplicates"
   ]
  },
  {
   "cell_type": "markdown",
   "metadata": {},
   "source": [
    "Let us first apply it to the Apple dataset, looking for rows with apps with the same name:"
   ]
  },
  {
   "cell_type": "code",
   "execution_count": 10,
   "metadata": {},
   "outputs": [
    {
     "data": {
      "text/plain": [
       "{'VR Roller Coaster': [3320, 5604], 'Mannequin Challenge': [7093, 7129]}"
      ]
     },
     "execution_count": 10,
     "metadata": {},
     "output_type": "execute_result"
    }
   ],
   "source": [
    "find_duplicates(data_Apple, 2)"
   ]
  },
  {
   "cell_type": "markdown",
   "metadata": {},
   "source": [
    "There are two names appearing twice. \n",
    "According to [this discussion](https://www.kaggle.com/ramamet4/app-store-apple-data-set-10k-apps/discussion/90409), they seem to be actually four different apps. \n",
    "There is thus no duplicate to remove.\n",
    "\n",
    "Let us now do the same for the Google dataset:"
   ]
  },
  {
   "cell_type": "code",
   "execution_count": 11,
   "metadata": {},
   "outputs": [
    {
     "data": {
      "text/plain": [
       "798"
      ]
     },
     "execution_count": 11,
     "metadata": {},
     "output_type": "execute_result"
    }
   ],
   "source": [
    "duplicates_Google = find_duplicates(data_Google, 0)\n",
    "len(duplicates_Google)"
   ]
  },
  {
   "cell_type": "markdown",
   "metadata": {},
   "source": [
    "There are 798 names appearing several times! Let us examine some of them:"
   ]
  },
  {
   "cell_type": "code",
   "execution_count": 12,
   "metadata": {},
   "outputs": [
    {
     "data": {
      "text/html": [
       "<div>\n",
       "<style scoped>\n",
       "    .dataframe tbody tr th:only-of-type {\n",
       "        vertical-align: middle;\n",
       "    }\n",
       "\n",
       "    .dataframe tbody tr th {\n",
       "        vertical-align: top;\n",
       "    }\n",
       "\n",
       "    .dataframe thead th {\n",
       "        text-align: right;\n",
       "    }\n",
       "</style>\n",
       "<table border=\"1\" class=\"dataframe\">\n",
       "  <thead>\n",
       "    <tr style=\"text-align: right;\">\n",
       "      <th></th>\n",
       "      <th>App</th>\n",
       "      <th>Category</th>\n",
       "      <th>Rating</th>\n",
       "      <th>Reviews</th>\n",
       "      <th>Size</th>\n",
       "      <th>Installs</th>\n",
       "      <th>Type</th>\n",
       "      <th>Price</th>\n",
       "      <th>Content Rating</th>\n",
       "      <th>Genres</th>\n",
       "      <th>Last Updated</th>\n",
       "      <th>Current Ver</th>\n",
       "      <th>Android Ver</th>\n",
       "    </tr>\n",
       "  </thead>\n",
       "  <tbody>\n",
       "    <tr>\n",
       "      <th>0</th>\n",
       "      <td>Coloring book moana</td>\n",
       "      <td>ART_AND_DESIGN</td>\n",
       "      <td>3.9</td>\n",
       "      <td>967</td>\n",
       "      <td>14M</td>\n",
       "      <td>500,000+</td>\n",
       "      <td>Free</td>\n",
       "      <td>0</td>\n",
       "      <td>Everyone</td>\n",
       "      <td>Art &amp; Design;Pretend Play</td>\n",
       "      <td>January 15, 2018</td>\n",
       "      <td>2.0.0</td>\n",
       "      <td>4.0.3 and up</td>\n",
       "    </tr>\n",
       "    <tr>\n",
       "      <th>1</th>\n",
       "      <td>Coloring book moana</td>\n",
       "      <td>FAMILY</td>\n",
       "      <td>3.9</td>\n",
       "      <td>974</td>\n",
       "      <td>14M</td>\n",
       "      <td>500,000+</td>\n",
       "      <td>Free</td>\n",
       "      <td>0</td>\n",
       "      <td>Everyone</td>\n",
       "      <td>Art &amp; Design;Pretend Play</td>\n",
       "      <td>January 15, 2018</td>\n",
       "      <td>2.0.0</td>\n",
       "      <td>4.0.3 and up</td>\n",
       "    </tr>\n",
       "  </tbody>\n",
       "</table>\n",
       "</div>"
      ],
      "text/plain": [
       "                   App        Category Rating Reviews Size  Installs  Type  \\\n",
       "0  Coloring book moana  ART_AND_DESIGN    3.9     967  14M  500,000+  Free   \n",
       "1  Coloring book moana          FAMILY    3.9     974  14M  500,000+  Free   \n",
       "\n",
       "  Price Content Rating                     Genres      Last Updated  \\\n",
       "0     0       Everyone  Art & Design;Pretend Play  January 15, 2018   \n",
       "1     0       Everyone  Art & Design;Pretend Play  January 15, 2018   \n",
       "\n",
       "  Current Ver   Android Ver  \n",
       "0       2.0.0  4.0.3 and up  \n",
       "1       2.0.0  4.0.3 and up  "
      ]
     },
     "execution_count": 12,
     "metadata": {},
     "output_type": "execute_result"
    }
   ],
   "source": [
    "index_dupl = 0 # change this vaue between 0 and 797 to explore the duplicates\n",
    "dupl1 = [data_Google[i] for i in duplicates_Google[list(duplicates_Google)[index_dupl]]]\n",
    "pd.DataFrame(dupl1, columns=data_Google[0])"
   ]
  },
  {
   "cell_type": "markdown",
   "metadata": {},
   "source": [
    "I could not find any indication that some of these are not duplicates. \n",
    "Let us thus delete each occurrence of each name save one, and check that the resulting dataset has no duplicate. \n",
    "For each name appearing several times, we keep one of the rows with the highest number of reviews, which should correspond to the most up-to-date entry."
   ]
  },
  {
   "cell_type": "code",
   "execution_count": 13,
   "metadata": {},
   "outputs": [
    {
     "data": {
      "text/plain": [
       "{}"
      ]
     },
     "execution_count": 13,
     "metadata": {},
     "output_type": "execute_result"
    }
   ],
   "source": [
    "# build the dictionary of duplicates, excluding one of the rows with the highest number of reviews\n",
    "index_number_reviews = 3\n",
    "duplicates_Google_no_highest_number_reviews = {}\n",
    "for key in duplicates_Google:\n",
    "    \n",
    "    # list of indices of rows to be removed\n",
    "    duplicates_Google_no_highest_number_reviews[key] = []\n",
    "    \n",
    "    list_rows = duplicates_Google[key]\n",
    "    \n",
    "    # maximum mumber of reviews for apps with this name\n",
    "    max_reviews = data_Google[list_rows[0]][index_number_reviews]\n",
    "    \n",
    "    # index of a row with the maximum number of reviews\n",
    "    index_max_reviews = list_rows[0]\n",
    "    \n",
    "    for index_row in list_rows[1:]:\n",
    "        \n",
    "        # if the number of reviews is larger than max_reviews, we update the \n",
    "        # latter's value and index_max_reviews\n",
    "        if data_Google[index_row][index_number_reviews] > max_reviews: \n",
    "            duplicates_Google_no_highest_number_reviews[key].append(index_max_reviews)\n",
    "            index_max_reviews = index_row\n",
    "            max_reviews = data_Google[index_row][index_number_reviews]\n",
    "            \n",
    "        else: \n",
    "            duplicates_Google_no_highest_number_reviews[key].append(index_row)\n",
    "            \n",
    "# delete the superfluous rows\n",
    "to_delete = [index for key in duplicates_Google for index in duplicates_Google_no_highest_number_reviews[key]]\n",
    "\n",
    "# sorting in reverse order to delete the highest one first\n",
    "for index in sorted(to_delete, reverse=True): \n",
    "    del data_Google[index]\n",
    "\n",
    "# check that the resulting dataset has no duplicate\n",
    "find_duplicates(data_Google, 0)"
   ]
  },
  {
   "cell_type": "markdown",
   "metadata": {},
   "source": [
    "### Removing non-English apps\n",
    "\n",
    "We are primarily interested in apps targeting an English-speaking audience. \n",
    "Unfortunately, the datasets we have do not tell which languages are supported. \n",
    "To circumvent this difficulty, we shall analyse the name of each app and determine whether it “looks” English. \n",
    "\n",
    "One possibility is to define a string that “looks” English as one which contains only characters with unicode points smaller than or equal to 127. \n",
    "However, this would exclude string containing one special character. \n",
    "We shall use instead the (slightly ad-hoc) definition that a string “looks” English if it has no more than three characters with unicode poitn above 127. \n",
    "\n",
    "The fonction `looks_English` defined below takes a string as input and returns a boolean indicating whether or not the string “looks” English."
   ]
  },
  {
   "cell_type": "code",
   "execution_count": 14,
   "metadata": {},
   "outputs": [],
   "source": [
    "def looks_English(st):\n",
    "    '''\n",
    "    Determines if the string st has no more than three characters with \n",
    "    unicode points above 127.\n",
    "    \n",
    "    return type: bool\n",
    "    st: string\n",
    "    '''\n",
    "    max_upoint_English = 127 # maximum unicode point for English characters\n",
    "    count_char_above = 0 # number of characters with a higher unicode point\n",
    "    for c in st:\n",
    "        if ord(c) > max_upoint_English:\n",
    "            count_char_above += 1\n",
    "    return (count_char_above <= 3)"
   ]
  },
  {
   "cell_type": "markdown",
   "metadata": {},
   "source": [
    "Let us test it on a few example (taken from [DataQuest](https://app.dataquest.io/m/350/guided-project%3A-profitable-app-profiles-for-the-app-store-and-google-play-markets/6/removing-non-english-apps-part-one))"
   ]
  },
  {
   "cell_type": "code",
   "execution_count": 15,
   "metadata": {},
   "outputs": [
    {
     "name": "stdout",
     "output_type": "stream",
     "text": [
      "True\n",
      "False\n",
      "True\n",
      "True\n"
     ]
    }
   ],
   "source": [
    "print(looks_English('Instagram'))\n",
    "print(looks_English('爱奇艺PPS -《欢乐颂2》电视剧热播'))\n",
    "print(looks_English('Docs To Go™ Free Office Suite'))\n",
    "print(looks_English('Instachat 😜'))"
   ]
  },
  {
   "cell_type": "markdown",
   "metadata": {},
   "source": [
    "Let us now use this function to filter the rows in each data set, keeping only the entries with an app name that “looks” English."
   ]
  },
  {
   "cell_type": "code",
   "execution_count": 16,
   "metadata": {},
   "outputs": [
    {
     "name": "stdout",
     "output_type": "stream",
     "text": [
      "Number of remaining row - Apple: 7198\n",
      "Number of remaining row - Google: 9616\n"
     ]
    }
   ],
   "source": [
    "index_name_Apple = 1 # index of the column with the name of the app\n",
    "data_Apple_en = [data_Apple[0]]\n",
    "for row in data_Apple[1:]:\n",
    "    if looks_English(row[index_name_Apple]):\n",
    "        data_Apple_en.append(row)\n",
    "print('Number of remaining row - Apple: ' + str(len(data_Apple_en)))\n",
    "        \n",
    "index_name_Google = 0 # index of the column with the name of the app\n",
    "data_Google_en = [data_Google[0]]\n",
    "for row in data_Google[1:]:\n",
    "    if looks_English(row[index_name_Google]):\n",
    "        data_Google_en.append(row)\n",
    "print('Number of remaining row - Google: ' + str(len(data_Google_en)))"
   ]
  },
  {
   "cell_type": "markdown",
   "metadata": {},
   "source": [
    "### Extraction of the relevant rows an columns"
   ]
  },
  {
   "cell_type": "markdown",
   "metadata": {},
   "source": [
    "The next step in the preparation of a useful datasets is to extract the relevant rows (*i.e.*, those corresponding to free apps) and columns. \n",
    "The function `extract_relevant` defined below takes as arguments: \n",
    "* `dset`, the original dataset as a list of lists,\n",
    "* `indices_filt`, the list of indices of the columns used to filter the rows,\n",
    "* `criteria_filt`, the list of lists of possible values in each of these columns for a row to be kept, \n",
    "* `indices_features`, the list of indices for the features,\n",
    "* `indices_targets`, the list of indices for the targets. \n",
    "\n",
    "It returns a list of lists containing the extracted information. Here we will filter the rows using only the price of the app as criterion, keeping all free apps and discarding non-free ones."
   ]
  },
  {
   "cell_type": "code",
   "execution_count": 17,
   "metadata": {
    "attributes": {
     "classes": [],
     "id": "",
     "n": "6"
    }
   },
   "outputs": [],
   "source": [
    "def extract_relevant(dset, indices_filt, critera_filt, indices_features, indices_targets):\n",
    "    '''\n",
    "    Extracts relevant data from the list of lists dset. The rows are filtered \n",
    "    by the values in the columns with indices in indices_filt, with acceptable \n",
    "    values given in critera_filt. The columns kept are those with indices in \n",
    "    indices_features or indices_targets, with the latter on the right of the \n",
    "    former.\n",
    "\n",
    "    Return type: \n",
    "    list of lists\n",
    "    \n",
    "    Parameters:\n",
    "    dset: list of lists\n",
    "    indices_filt: list of int\n",
    "    criteria_filt: lists of lists\n",
    "    indices_features: list of int\n",
    "    indices_targets: list of int\n",
    "    '''\n",
    "    dset_new = [[dset[0][i] for i in indices_features] + [dset[0][i] for i in indices_targets]] # header\n",
    "    for row in dset[1:]:\n",
    "        include = True # determines if the row is to be included\n",
    "        for i in range(len(indices_filt)):\n",
    "            if not row[indices_filt[i]] in critera_filt[i]:\n",
    "                include = False \n",
    "                break\n",
    "        if include:\n",
    "            dset_new.append([row[i] for i in indices_features] + [row[i] for i in indices_targets])\n",
    "    return dset_new"
   ]
  },
  {
   "cell_type": "markdown",
   "metadata": {},
   "source": [
    "Let us define the two new datasets `data_Apple_rel` and `data_Google_rel`\n",
    "containint only the relevant data:"
   ]
  },
  {
   "cell_type": "code",
   "execution_count": 18,
   "metadata": {
    "attributes": {
     "classes": [],
     "id": "",
     "n": "7"
    }
   },
   "outputs": [
    {
     "name": "stdout",
     "output_type": "stream",
     "text": [
      "Apple dataset:\n"
     ]
    },
    {
     "data": {
      "text/html": [
       "<div>\n",
       "<style scoped>\n",
       "    .dataframe tbody tr th:only-of-type {\n",
       "        vertical-align: middle;\n",
       "    }\n",
       "\n",
       "    .dataframe tbody tr th {\n",
       "        vertical-align: top;\n",
       "    }\n",
       "\n",
       "    .dataframe thead th {\n",
       "        text-align: right;\n",
       "    }\n",
       "</style>\n",
       "<table border=\"1\" class=\"dataframe\">\n",
       "  <thead>\n",
       "    <tr style=\"text-align: right;\">\n",
       "      <th></th>\n",
       "      <th>size_bytes</th>\n",
       "      <th>cont_rating</th>\n",
       "      <th>prime_genre</th>\n",
       "      <th>sup_devices.num</th>\n",
       "      <th>ipadSc_urls.num</th>\n",
       "      <th>rating_count_tot</th>\n",
       "      <th>user_rating</th>\n",
       "    </tr>\n",
       "  </thead>\n",
       "  <tbody>\n",
       "    <tr>\n",
       "      <th>0</th>\n",
       "      <td>158578688</td>\n",
       "      <td>4+</td>\n",
       "      <td>Productivity</td>\n",
       "      <td>37</td>\n",
       "      <td>5</td>\n",
       "      <td>161065</td>\n",
       "      <td>4</td>\n",
       "    </tr>\n",
       "    <tr>\n",
       "      <th>1</th>\n",
       "      <td>100524032</td>\n",
       "      <td>4+</td>\n",
       "      <td>Weather</td>\n",
       "      <td>37</td>\n",
       "      <td>5</td>\n",
       "      <td>188583</td>\n",
       "      <td>3.5</td>\n",
       "    </tr>\n",
       "    <tr>\n",
       "      <th>2</th>\n",
       "      <td>128512000</td>\n",
       "      <td>12+</td>\n",
       "      <td>Shopping</td>\n",
       "      <td>37</td>\n",
       "      <td>5</td>\n",
       "      <td>262241</td>\n",
       "      <td>4</td>\n",
       "    </tr>\n",
       "    <tr>\n",
       "      <th>3</th>\n",
       "      <td>92774400</td>\n",
       "      <td>4+</td>\n",
       "      <td>Reference</td>\n",
       "      <td>37</td>\n",
       "      <td>5</td>\n",
       "      <td>985920</td>\n",
       "      <td>4.5</td>\n",
       "    </tr>\n",
       "    <tr>\n",
       "      <th>4</th>\n",
       "      <td>227795968</td>\n",
       "      <td>4+</td>\n",
       "      <td>Finance</td>\n",
       "      <td>37</td>\n",
       "      <td>0</td>\n",
       "      <td>119487</td>\n",
       "      <td>4</td>\n",
       "    </tr>\n",
       "    <tr>\n",
       "      <th>...</th>\n",
       "      <td>...</td>\n",
       "      <td>...</td>\n",
       "      <td>...</td>\n",
       "      <td>...</td>\n",
       "      <td>...</td>\n",
       "      <td>...</td>\n",
       "      <td>...</td>\n",
       "    </tr>\n",
       "    <tr>\n",
       "      <th>4051</th>\n",
       "      <td>168774656</td>\n",
       "      <td>12+</td>\n",
       "      <td>Games</td>\n",
       "      <td>38</td>\n",
       "      <td>4</td>\n",
       "      <td>18</td>\n",
       "      <td>4</td>\n",
       "    </tr>\n",
       "    <tr>\n",
       "      <th>4052</th>\n",
       "      <td>126644224</td>\n",
       "      <td>4+</td>\n",
       "      <td>Games</td>\n",
       "      <td>38</td>\n",
       "      <td>5</td>\n",
       "      <td>142</td>\n",
       "      <td>4.5</td>\n",
       "    </tr>\n",
       "    <tr>\n",
       "      <th>4053</th>\n",
       "      <td>120760320</td>\n",
       "      <td>4+</td>\n",
       "      <td>Games</td>\n",
       "      <td>38</td>\n",
       "      <td>0</td>\n",
       "      <td>30</td>\n",
       "      <td>4.5</td>\n",
       "    </tr>\n",
       "    <tr>\n",
       "      <th>4054</th>\n",
       "      <td>97235968</td>\n",
       "      <td>12+</td>\n",
       "      <td>Games</td>\n",
       "      <td>38</td>\n",
       "      <td>0</td>\n",
       "      <td>85</td>\n",
       "      <td>4.5</td>\n",
       "    </tr>\n",
       "    <tr>\n",
       "      <th>4055</th>\n",
       "      <td>90898432</td>\n",
       "      <td>4+</td>\n",
       "      <td>Games</td>\n",
       "      <td>40</td>\n",
       "      <td>0</td>\n",
       "      <td>3</td>\n",
       "      <td>5</td>\n",
       "    </tr>\n",
       "  </tbody>\n",
       "</table>\n",
       "<p>4056 rows × 7 columns</p>\n",
       "</div>"
      ],
      "text/plain": [
       "     size_bytes cont_rating   prime_genre sup_devices.num ipadSc_urls.num  \\\n",
       "0     158578688          4+  Productivity              37               5   \n",
       "1     100524032          4+       Weather              37               5   \n",
       "2     128512000         12+      Shopping              37               5   \n",
       "3      92774400          4+     Reference              37               5   \n",
       "4     227795968          4+       Finance              37               0   \n",
       "...         ...         ...           ...             ...             ...   \n",
       "4051  168774656         12+         Games              38               4   \n",
       "4052  126644224          4+         Games              38               5   \n",
       "4053  120760320          4+         Games              38               0   \n",
       "4054   97235968         12+         Games              38               0   \n",
       "4055   90898432          4+         Games              40               0   \n",
       "\n",
       "     rating_count_tot user_rating  \n",
       "0              161065           4  \n",
       "1              188583         3.5  \n",
       "2              262241           4  \n",
       "3              985920         4.5  \n",
       "4              119487           4  \n",
       "...               ...         ...  \n",
       "4051               18           4  \n",
       "4052              142         4.5  \n",
       "4053               30         4.5  \n",
       "4054               85         4.5  \n",
       "4055                3           5  \n",
       "\n",
       "[4056 rows x 7 columns]"
      ]
     },
     "execution_count": 18,
     "metadata": {},
     "output_type": "execute_result"
    }
   ],
   "source": [
    "data_Apple_rel = extract_relevant(data_Apple_en, [5], ['0'], [3,11,12,13,14], [6,8])\n",
    "print('Apple dataset:')\n",
    "pd.DataFrame(data_Apple_rel[1:], columns=data_Apple_rel[0])"
   ]
  },
  {
   "cell_type": "code",
   "execution_count": 19,
   "metadata": {
    "attributes": {
     "classes": [],
     "id": "",
     "n": "8"
    }
   },
   "outputs": [
    {
     "name": "stdout",
     "output_type": "stream",
     "text": [
      "Google dataset:\n"
     ]
    },
    {
     "data": {
      "text/html": [
       "<div>\n",
       "<style scoped>\n",
       "    .dataframe tbody tr th:only-of-type {\n",
       "        vertical-align: middle;\n",
       "    }\n",
       "\n",
       "    .dataframe tbody tr th {\n",
       "        vertical-align: top;\n",
       "    }\n",
       "\n",
       "    .dataframe thead th {\n",
       "        text-align: right;\n",
       "    }\n",
       "</style>\n",
       "<table border=\"1\" class=\"dataframe\">\n",
       "  <thead>\n",
       "    <tr style=\"text-align: right;\">\n",
       "      <th></th>\n",
       "      <th>Category</th>\n",
       "      <th>Size</th>\n",
       "      <th>Content Rating</th>\n",
       "      <th>Genres</th>\n",
       "      <th>Android Ver</th>\n",
       "      <th>Installs</th>\n",
       "      <th>Rating</th>\n",
       "    </tr>\n",
       "  </thead>\n",
       "  <tbody>\n",
       "    <tr>\n",
       "      <th>0</th>\n",
       "      <td>ART_AND_DESIGN</td>\n",
       "      <td>19M</td>\n",
       "      <td>Everyone</td>\n",
       "      <td>Art &amp; Design</td>\n",
       "      <td>4.0.3 and up</td>\n",
       "      <td>10,000+</td>\n",
       "      <td>4.1</td>\n",
       "    </tr>\n",
       "    <tr>\n",
       "      <th>1</th>\n",
       "      <td>ART_AND_DESIGN</td>\n",
       "      <td>8.7M</td>\n",
       "      <td>Everyone</td>\n",
       "      <td>Art &amp; Design</td>\n",
       "      <td>4.0.3 and up</td>\n",
       "      <td>5,000,000+</td>\n",
       "      <td>4.7</td>\n",
       "    </tr>\n",
       "    <tr>\n",
       "      <th>2</th>\n",
       "      <td>ART_AND_DESIGN</td>\n",
       "      <td>25M</td>\n",
       "      <td>Teen</td>\n",
       "      <td>Art &amp; Design</td>\n",
       "      <td>4.2 and up</td>\n",
       "      <td>50,000,000+</td>\n",
       "      <td>4.5</td>\n",
       "    </tr>\n",
       "    <tr>\n",
       "      <th>3</th>\n",
       "      <td>ART_AND_DESIGN</td>\n",
       "      <td>2.8M</td>\n",
       "      <td>Everyone</td>\n",
       "      <td>Art &amp; Design;Creativity</td>\n",
       "      <td>4.4 and up</td>\n",
       "      <td>100,000+</td>\n",
       "      <td>4.3</td>\n",
       "    </tr>\n",
       "    <tr>\n",
       "      <th>4</th>\n",
       "      <td>ART_AND_DESIGN</td>\n",
       "      <td>5.6M</td>\n",
       "      <td>Everyone</td>\n",
       "      <td>Art &amp; Design</td>\n",
       "      <td>2.3 and up</td>\n",
       "      <td>50,000+</td>\n",
       "      <td>4.4</td>\n",
       "    </tr>\n",
       "    <tr>\n",
       "      <th>...</th>\n",
       "      <td>...</td>\n",
       "      <td>...</td>\n",
       "      <td>...</td>\n",
       "      <td>...</td>\n",
       "      <td>...</td>\n",
       "      <td>...</td>\n",
       "      <td>...</td>\n",
       "    </tr>\n",
       "    <tr>\n",
       "      <th>8858</th>\n",
       "      <td>FAMILY</td>\n",
       "      <td>53M</td>\n",
       "      <td>Everyone</td>\n",
       "      <td>Education</td>\n",
       "      <td>4.1 and up</td>\n",
       "      <td>5,000+</td>\n",
       "      <td>4.5</td>\n",
       "    </tr>\n",
       "    <tr>\n",
       "      <th>8859</th>\n",
       "      <td>FAMILY</td>\n",
       "      <td>3.6M</td>\n",
       "      <td>Everyone</td>\n",
       "      <td>Education</td>\n",
       "      <td>4.1 and up</td>\n",
       "      <td>100+</td>\n",
       "      <td>5.0</td>\n",
       "    </tr>\n",
       "    <tr>\n",
       "      <th>8860</th>\n",
       "      <td>MEDICAL</td>\n",
       "      <td>9.5M</td>\n",
       "      <td>Everyone</td>\n",
       "      <td>Medical</td>\n",
       "      <td>2.2 and up</td>\n",
       "      <td>1,000+</td>\n",
       "      <td>NaN</td>\n",
       "    </tr>\n",
       "    <tr>\n",
       "      <th>8861</th>\n",
       "      <td>BOOKS_AND_REFERENCE</td>\n",
       "      <td>Varies with device</td>\n",
       "      <td>Mature 17+</td>\n",
       "      <td>Books &amp; Reference</td>\n",
       "      <td>Varies with device</td>\n",
       "      <td>1,000+</td>\n",
       "      <td>4.5</td>\n",
       "    </tr>\n",
       "    <tr>\n",
       "      <th>8862</th>\n",
       "      <td>LIFESTYLE</td>\n",
       "      <td>19M</td>\n",
       "      <td>Everyone</td>\n",
       "      <td>Lifestyle</td>\n",
       "      <td>Varies with device</td>\n",
       "      <td>10,000,000+</td>\n",
       "      <td>4.5</td>\n",
       "    </tr>\n",
       "  </tbody>\n",
       "</table>\n",
       "<p>8863 rows × 7 columns</p>\n",
       "</div>"
      ],
      "text/plain": [
       "                 Category                Size Content Rating  \\\n",
       "0          ART_AND_DESIGN                 19M       Everyone   \n",
       "1          ART_AND_DESIGN                8.7M       Everyone   \n",
       "2          ART_AND_DESIGN                 25M           Teen   \n",
       "3          ART_AND_DESIGN                2.8M       Everyone   \n",
       "4          ART_AND_DESIGN                5.6M       Everyone   \n",
       "...                   ...                 ...            ...   \n",
       "8858               FAMILY                 53M       Everyone   \n",
       "8859               FAMILY                3.6M       Everyone   \n",
       "8860              MEDICAL                9.5M       Everyone   \n",
       "8861  BOOKS_AND_REFERENCE  Varies with device     Mature 17+   \n",
       "8862            LIFESTYLE                 19M       Everyone   \n",
       "\n",
       "                       Genres         Android Ver     Installs Rating  \n",
       "0                Art & Design        4.0.3 and up      10,000+    4.1  \n",
       "1                Art & Design        4.0.3 and up   5,000,000+    4.7  \n",
       "2                Art & Design          4.2 and up  50,000,000+    4.5  \n",
       "3     Art & Design;Creativity          4.4 and up     100,000+    4.3  \n",
       "4                Art & Design          2.3 and up      50,000+    4.4  \n",
       "...                       ...                 ...          ...    ...  \n",
       "8858                Education          4.1 and up       5,000+    4.5  \n",
       "8859                Education          4.1 and up         100+    5.0  \n",
       "8860                  Medical          2.2 and up       1,000+    NaN  \n",
       "8861        Books & Reference  Varies with device       1,000+    4.5  \n",
       "8862                Lifestyle  Varies with device  10,000,000+    4.5  \n",
       "\n",
       "[8863 rows x 7 columns]"
      ]
     },
     "execution_count": 19,
     "metadata": {},
     "output_type": "execute_result"
    }
   ],
   "source": [
    "data_Google_rel = extract_relevant(data_Google_en, [7], ['0'], [1,4,8,9,12], [5,2])\n",
    "print('Google dataset:')\n",
    "pd.DataFrame(data_Google_rel[1:], columns=data_Google_rel[0])"
   ]
  },
  {
   "cell_type": "markdown",
   "metadata": {},
   "source": [
    "### A few properties of the target variables"
   ]
  },
  {
   "cell_type": "markdown",
   "metadata": {},
   "source": [
    "Let us briefly explore the average ratings and number of ratings / installs for the two data sets. \n",
    "As we will want to make plots, we import `pyplot` from the `matplotlib` module. \n",
    "We then define the function `extract_cols_float` which takes a dataset with header and a list of indices and returns lists containing the numerical values associated with the corresponding columns."
   ]
  },
  {
   "cell_type": "code",
   "execution_count": 20,
   "metadata": {},
   "outputs": [],
   "source": [
    "import matplotlib.pyplot as plt\n",
    "\n",
    "def extract_cols_float(dset, indices):\n",
    "    '''\n",
    "    extracts the columns of 'dset' with indices in 'indices' and converts them \n",
    "    to float type\n",
    "    \n",
    "    dset: list of lists of strings\n",
    "    indices: list of integers\n",
    "    '''\n",
    "    res = [[] for i in range(len(indices))]\n",
    "    for row in dset[1:]:\n",
    "        include = True # include a row only if all its relevent values are numbers\n",
    "        for i in range(len(indices)):\n",
    "            # removes commas and '+' to deal with the formatting of the Installs column in the Google dataset\n",
    "            if not row[indices[i]].replace(',','').replace('+','').replace('.','').isdigit(): \n",
    "                include = False\n",
    "        if include:\n",
    "            for i in range(len(indices)):\n",
    "                res[i].append(float(row[indices[i]].replace(',','').replace('+',''))) \n",
    "    return res\n",
    "\n",
    "# extract the last two columns of each dataset\n",
    "rating_vs_count_Apple = extract_cols_float(data_Apple_rel, [-2,-1])\n",
    "rating_vs_count_Google = extract_cols_float(data_Google_rel, [-2,-1])"
   ]
  },
  {
   "cell_type": "markdown",
   "metadata": {},
   "source": [
    "We first look at the extremum values, averages, and standard deviations, rounded to two digits after the point. \n",
    "To this end, we use the built-in functions `max` and `min`, and define the functions `ave` and `std` computing, respectively, the mean value and standard deviation of a list of numbers.\n",
    "\n",
    "(Using the module `numpy` would be more efficient. \n",
    "Here, we re-implement the functions `ave` and `std` for learning purposes only.)"
   ]
  },
  {
   "cell_type": "code",
   "execution_count": 21,
   "metadata": {},
   "outputs": [
    {
     "name": "stdout",
     "output_type": "stream",
     "text": [
      "Apple:\n",
      "\tmax rating: 5.0\n",
      "\tmin rating: 0.0\n",
      "\taverage rating: 3.38\n",
      "\tstandard deviation rating: 1.64\n",
      "\tmax rating count: 2974676\n",
      "\tmin rating count: 0\n",
      "\taverage rating count: 19749.8\n",
      "\tstandard deviation rating count: 97732.23\n",
      "Google:\n",
      "\tmax rating: 5.0\n",
      "\tmin rating: 1.0\n",
      "\taverage rating: 4.17\n",
      "\tstandard deviation rating: 0.54\n",
      "\tmax installs: 1000000000\n",
      "\tmin installs: 1\n",
      "\taverage installs: 9923573.41\n",
      "\tstandard deviation installs: 60568355.25\n"
     ]
    }
   ],
   "source": [
    "from math import sqrt # needed to compute the standard deviation\n",
    "\n",
    "def ave(l):\n",
    "    '''\n",
    "    return the average of the elements of l\n",
    "    \n",
    "    l: non-empty list of integers, floats, or complex numbers\n",
    "    '''\n",
    "    return sum(l)/len(l)\n",
    "\n",
    "def std(l):\n",
    "    '''\n",
    "    return the standard deviation of the elements of l\n",
    "    \n",
    "    l: non-empty list of integers or floats\n",
    "    '''\n",
    "    l_squared = list(map(lambda x: x*x, l))\n",
    "    ave_l = ave(l)\n",
    "    ave_l_squared = ave(l_squared)\n",
    "    return sqrt(ave_l_squared - ave_l*ave_l)\n",
    "\n",
    "print('Apple:')\n",
    "print('\\tmax rating: '+str(max(rating_vs_count_Apple[1])))\n",
    "print('\\tmin rating: '+str(min(rating_vs_count_Apple[1])))\n",
    "print('\\taverage rating: '+str(round(ave(rating_vs_count_Apple[1]),2)))\n",
    "print('\\tstandard deviation rating: '+str(round(std(rating_vs_count_Apple[1]),2)))\n",
    "print('\\tmax rating count: '+str(int(max(rating_vs_count_Apple[0]))))\n",
    "print('\\tmin rating count: '+str(int(min(rating_vs_count_Apple[0]))))\n",
    "print('\\taverage rating count: '+str(round(ave(rating_vs_count_Apple[0]),2)))\n",
    "print('\\tstandard deviation rating count: '+str(round(std(rating_vs_count_Apple[0]),2)))\n",
    "\n",
    "print('Google:')\n",
    "print('\\tmax rating: '+str(max(rating_vs_count_Google[1])))\n",
    "print('\\tmin rating: '+str(min(rating_vs_count_Google[1])))\n",
    "print('\\taverage rating: '+str(round(ave(rating_vs_count_Google[1]),2)))\n",
    "print('\\tstandard deviation rating: '+str(round(std(rating_vs_count_Google[1]),2)))\n",
    "print('\\tmax installs: '+str(int(max(rating_vs_count_Google[0]))))\n",
    "print('\\tmin installs: '+str(int(min(rating_vs_count_Google[0]))))\n",
    "print('\\taverage installs: '+str(round(ave(rating_vs_count_Google[0]),2)))\n",
    "print('\\tstandard deviation installs: '+str(round(std(rating_vs_count_Google[0]),2)))"
   ]
  },
  {
   "cell_type": "markdown",
   "metadata": {},
   "source": [
    "We notice that the Google dataset has a slightly larger average rating and quite smaller rating standard deviation than the Apple one. \n",
    "\n",
    "Let us now do bar plots of these quantities to get a better grasp of their distribution. \n",
    "We first define the function `freqs` taking a two lists of real numbers and returning a list containing the number of elements in the first list within each interval defined by the second list. \n",
    "The second argument is of the form $[a_1, a_2, \\dots, a_n]$ where $n \\in \\mathbb{N}^*$ and $a_1 < a_2 < \\cdots < a_n$. \n",
    "The function returns the list $[N_0, N_1, N_2, \\dots, N_n]$, where, for each integer $i$ from $0$ to $n$, $N_i$ is the number of elements of the first argument larger than $a_{i-1}$ (or $-\\infty$ for $i=0$) and smaller than or equal to $a_{i+1}$ (or $+\\infty$ if $i=n$). \n",
    "We then apply it to the ratings, with interval boundaries at $0$, $1$, $2$, $3$, $4$, and $5$."
   ]
  },
  {
   "cell_type": "code",
   "execution_count": 22,
   "metadata": {},
   "outputs": [
    {
     "data": {
      "image/png": "[encoded data removed]",
      "text/plain": [
       "<Figure size 432x288 with 1 Axes>"
      ]
     },
     "metadata": {
      "needs_background": "light"
     },
     "output_type": "display_data"
    },
    {
     "data": {
      "image/png": "[encoded data removed]",
      "text/plain": [
       "<Figure size 432x288 with 1 Axes>"
      ]
     },
     "metadata": {
      "needs_background": "light"
     },
     "output_type": "display_data"
    }
   ],
   "source": [
    "def freqs(data, boundaries):\n",
    "    '''\n",
    "    extracts the numbers of elements of data within the intervals\n",
    "    (-infty, boundaries[0]), [boundaries[0], boundaries[1]), \n",
    "    [boundaries[1], boundaries[2]), ..., [boundaries[-1], infty),\n",
    "    \n",
    "    data: list of integers or floats\n",
    "    boundaries: ordered ist of integers or floats\n",
    "    '''\n",
    "    Nb = len(boundaries)\n",
    "    res = [0]*(Nb+1)\n",
    "    for value in data: \n",
    "        for i in range(Nb):\n",
    "            if boundaries[i] > value:\n",
    "                res[i] += 1\n",
    "                break\n",
    "            if value >= boundaries[-1]:\n",
    "                res[-1] += 1\n",
    "    return res\n",
    "\n",
    "vals_ratings = [x + 0.5 for x in range(5)]\n",
    "boundaries_rating = [x + 0.5 for x in vals_ratings[:-1]]\n",
    "freqs_rating_Apple = freqs(rating_vs_count_Apple[1], boundaries_rating)\n",
    "freqs_rating_Google = freqs(rating_vs_count_Google[1], boundaries_rating)\n",
    "\n",
    "plt.bar(vals_ratings, freqs_rating_Apple, width = 1)\n",
    "plt.xlabel('Rating')\n",
    "plt.title('Apple')\n",
    "plt.show()\n",
    "\n",
    "plt.bar(vals_ratings, freqs_rating_Google, width = 1)\n",
    "plt.xlabel('Rating')\n",
    "plt.title('Google')\n",
    "plt.show()"
   ]
  },
  {
   "cell_type": "markdown",
   "metadata": {},
   "source": [
    "In both datasets, the majority of apps have a rating in the interval (4,5].\n",
    "\n",
    "For the rating count in the Apple dataset, we take values with equally-spaces logarithm. \n",
    "The function `histo` defined below plots an histogram from a list of interval boundaries and a list of frequencies. \n",
    "The labels on the x axis are expressed with 2 significant digits."
   ]
  },
  {
   "cell_type": "code",
   "execution_count": 23,
   "metadata": {},
   "outputs": [
    {
     "data": {
      "image/png": "[encoded data removed]",
      "text/plain": [
       "<Figure size 432x288 with 1 Axes>"
      ]
     },
     "metadata": {
      "needs_background": "light"
     },
     "output_type": "display_data"
    }
   ],
   "source": [
    "from math import exp, log\n",
    "\n",
    "def histo(list_x, list_y, xmin = r'$-\\infty$', xmax = r'$+\\infty$', yerr = None):\n",
    "    Nx = len(list_x)+1\n",
    "    xlabels = [xmin] + ['%.2g' % valx for valx in list_x] + [xmax]\n",
    "    xticks = [x - 0.5 for x in range(Nx)]+[Nx-0.5]\n",
    "    plt.bar(range(Nx), list_y, width = 1, yerr = yerr)\n",
    "    plt.xticks(xticks, xlabels, rotation='vertical')\n",
    "\n",
    "list_count_Apple = [exp(log(3.*10**6)*(i+1)/10) for i in range(10)]\n",
    "boundaries_count_Apple = [sqrt(list_count_Apple[i] * list_count_Apple[i+1]) for i in range(len(list_count_Apple)-1)]\n",
    "freqs_count_Apple = freqs(rating_vs_count_Apple[0], boundaries_count_Apple)\n",
    "\n",
    "histo(boundaries_count_Apple, freqs_count_Apple, xmin = '0')\n",
    "plt.xlabel('rating count')\n",
    "plt.title('Apple')\n",
    "plt.show()"
   ]
  },
  {
   "cell_type": "markdown",
   "metadata": {},
   "source": [
    "In the Google dataset, only a few different values for the number of installs are given. We thus use them for the bar plot. We will need to order them. To this end, we define the function `order_xy` which takes two non-empty lists of real numbers, `x` and `y`, and returns two lists: the ordered version of `x` and the list obtained from `y` by applying the same transformation."
   ]
  },
  {
   "cell_type": "code",
   "execution_count": 24,
   "metadata": {},
   "outputs": [
    {
     "data": {
      "image/png": "[encoded data removed]",
      "text/plain": [
       "<Figure size 432x288 with 1 Axes>"
      ]
     },
     "metadata": {
      "needs_background": "light"
     },
     "output_type": "display_data"
    }
   ],
   "source": [
    "def order_xy(x,y):\n",
    "    '''\n",
    "    returns two lists: x_, the ordered list containing the same elements as x \n",
    "    with same multiplicity, and y_, obtained from y by applying the same \n",
    "    permutations as for changing x to x_\n",
    "    \n",
    "    x: list of elements on which an order is defined\n",
    "    y: list with the same length as x\n",
    "    '''\n",
    "    xy_ord = list(zip(*sorted(zip(x,y))))\n",
    "    return list(xy_ord[0]), list(xy_ord[1])\n",
    "\n",
    "# compute the number of apps for each number of installs\n",
    "dict_installs_Google = {}\n",
    "for row in data_Google_rel[1:]:\n",
    "    N_installs = row[-2].replace(',','').replace('+','')\n",
    "    if N_installs in dict_installs_Google:\n",
    "        dict_installs_Google[N_installs] += 1\n",
    "    else:\n",
    "        dict_installs_Google[N_installs] = 1\n",
    "        \n",
    "# convert the numbers of installs to integers\n",
    "list_N_installs_Google = [int(key) for key in dict_installs_Google]\n",
    "list_N_Installs_count_Google = [dict_installs_Google[key] for key in dict_installs_Google]\n",
    "\n",
    "# order the two lists\n",
    "list_N_installs_Google, list_N_Installs_count_Google = order_xy(list_N_installs_Google, list_N_Installs_count_Google)\n",
    "\n",
    "xlabels = ['0'] + list(map(lambda valx: '%.2g+' % valx, list_N_installs_Google[1:]))\n",
    "plt.bar(range(len(list_N_installs_Google)), list_N_Installs_count_Google, width = 0.8)\n",
    "plt.xticks(range(len(list_N_installs_Google)), xlabels, rotation='vertical')\n",
    "plt.xlabel('Installs')\n",
    "plt.title('Google')\n",
    "plt.show()"
   ]
  },
  {
   "cell_type": "markdown",
   "metadata": {},
   "source": [
    "We notice that, over most of the range, the values between two integer powers of 10 have a smaller frequency than those corresponding to an integer power of 10. \n",
    "This is not surprising, as there is a factor 5 with the previous power of 10 but only 2 with the next one. \n",
    "This behaviour thus seems to be an artefact from the way the data is presented. To get a more transparent graph, let us delete these intermediate values."
   ]
  },
  {
   "cell_type": "code",
   "execution_count": 25,
   "metadata": {},
   "outputs": [
    {
     "data": {
      "image/png": "[encoded data removed]",
      "text/plain": [
       "<Figure size 432x288 with 1 Axes>"
      ]
     },
     "metadata": {
      "needs_background": "light"
     },
     "output_type": "display_data"
    }
   ],
   "source": [
    "# list of numbers of installs, keeping only integer powers of 10\n",
    "list_N_installs_Google_no_inter = [list_N_installs_Google[0]] + list_N_installs_Google[1::2]\n",
    "\n",
    "# list of number of apps with a number of installs between each two integer powers of ten\n",
    "list_N_Installs_count_Google_no_inter = [list_N_Installs_count_Google[0]]\n",
    "i = 1\n",
    "while 2*i < len(list_N_installs_Google):\n",
    "    list_N_Installs_count_Google_no_inter.append(list_N_Installs_count_Google[2*i-1] + list_N_Installs_count_Google[2*i])\n",
    "    i = i+1\n",
    "list_N_Installs_count_Google_no_inter.append(list_N_Installs_count_Google[-1])\n",
    "\n",
    "xlabels = ['0'] + list(map(lambda valx: '%.2g+' % valx, list_N_installs_Google_no_inter[1:]))\n",
    "plt.bar(range(len(list_N_installs_Google_no_inter)), list_N_Installs_count_Google_no_inter, width = 0.8)\n",
    "plt.xticks(range(len(list_N_installs_Google_no_inter)), xlabels, rotation='vertical')\n",
    "plt.xlabel('Installs')\n",
    "plt.title('Google')\n",
    "plt.show()"
   ]
  },
  {
   "cell_type": "markdown",
   "metadata": {},
   "source": [
    "This plot looks more sensible. \n",
    "It also indicates that the most common number of installs, rounded to the largest smaller power of 10, is 10⁶."
   ]
  },
  {
   "cell_type": "markdown",
   "metadata": {},
   "source": [
    "### Relation between the average rating and number of ratings / installs"
   ]
  },
  {
   "cell_type": "markdown",
   "metadata": {},
   "source": [
    "In the following, it will be useful to know if there is some relation between our two target variables for each dataset. \n",
    "To this end, let us plot the averaged user rating of each app as a function of the number of ratings for the Apple dataset and installs for the Google one. \n",
    "We first define the function `plot_dots` to generate the plots. "
   ]
  },
  {
   "cell_type": "code",
   "execution_count": 26,
   "metadata": {},
   "outputs": [
    {
     "data": {
      "image/png": "[encoded data removed]",
      "text/plain": [
       "<Figure size 432x288 with 1 Axes>"
      ]
     },
     "metadata": {
      "needs_background": "light"
     },
     "output_type": "display_data"
    },
    {
     "data": {
      "image/png": "[encoded data removed]",
      "text/plain": [
       "<Figure size 432x288 with 1 Axes>"
      ]
     },
     "metadata": {
      "needs_background": "light"
     },
     "output_type": "display_data"
    }
   ],
   "source": [
    "def plot_dots(x, y, xlabel='$x$', ylabel='$y$', title=None):\n",
    "    plt.plot(x, y, r'.')\n",
    "    plt.xlabel(xlabel)\n",
    "    plt.ylabel(ylabel)\n",
    "    plt.title(title)\n",
    "    plt.grid()\n",
    "\n",
    "plot_dots(rating_vs_count_Apple[0], rating_vs_count_Apple[1], data_Apple_rel[0][-2], data_Apple_rel[0][-1], 'Apple')\n",
    "plt.show()\n",
    "\n",
    "plot_dots(rating_vs_count_Google[0], rating_vs_count_Google[1], data_Google_rel[0][-2], data_Google_rel[0][-1], 'Google')\n",
    "plt.show()"
   ]
  },
  {
   "cell_type": "markdown",
   "metadata": {},
   "source": [
    "There seems to be no clear link between the number of ratings / installs and the average rating. \n",
    "Most-rated/installed applications have an everage rating between 3.5 and 4.5 while the less popular ones have more variability. \n",
    "But this may well be a consequence of the fact that the latter are more numerous. \n",
    "To confirm this, let us plot the average rating for different intervals of rating numbers / installs. \n",
    "This is most easily done for the Google dataset: "
   ]
  },
  {
   "cell_type": "code",
   "execution_count": 27,
   "metadata": {},
   "outputs": [
    {
     "data": {
      "image/png": "[encoded data removed]",
      "text/plain": [
       "<Figure size 432x288 with 1 Axes>"
      ]
     },
     "metadata": {
      "needs_background": "light"
     },
     "output_type": "display_data"
    },
    {
     "data": {
      "image/png": "[encoded data removed]",
      "text/plain": [
       "<Figure size 432x288 with 1 Axes>"
      ]
     },
     "metadata": {
      "needs_background": "light"
     },
     "output_type": "display_data"
    }
   ],
   "source": [
    "from bisect import insort # to insert an element in an ordered list\n",
    "\n",
    "list_count_Google = []\n",
    "list_ave_rating_Google = []\n",
    "for i in range(len(rating_vs_count_Google[0])):\n",
    "    count = int(rating_vs_count_Google[0][i])\n",
    "    ave_rating = rating_vs_count_Google[1][i]\n",
    "    if count in list_count_Google: \n",
    "        list_ave_rating_Google[list_count_Google.index(count)].append(ave_rating)\n",
    "    else: \n",
    "        insort(list_count_Google, count)\n",
    "        list_ave_rating_Google.insert(list_count_Google.index(count), [ave_rating])\n",
    "\n",
    "# average rating for apps with a given install number\n",
    "list_ave_ave_rating_Google = [sum(l)/len(l) for l in list_ave_rating_Google]\n",
    "\n",
    "# standard deviation of the rating for apps with a given install number\n",
    "list_std_ave_rating_Google = [sqrt(sum(map(lambda x: x*x,l))/len(l) - (sum(l)/len(l))**2) for l in list_ave_rating_Google]\n",
    "\n",
    "plot_dots(list(map(lambda x: log(x)/log(10),list_count_Google)), \n",
    "          list_ave_ave_rating_Google, \n",
    "          '$\\\\log_{10}(\\\\mathrm{'+data_Google_rel[0][-2]+'})$', \n",
    "          'ave('+data_Google_rel[0][-1]+')', \n",
    "          'Google')\n",
    "plt.show()\n",
    "\n",
    "plot_dots(list(map(lambda x: log(x)/log(10),list_count_Google)), \n",
    "          list_std_ave_rating_Google, \n",
    "          '$\\\\log_{10}(\\\\mathrm{'+data_Google_rel[0][-2]+'})$',\n",
    "          'std('+data_Google_rel[0][-1]+')', \n",
    "          'Google')\n",
    "plt.show()"
   ]
  },
  {
   "cell_type": "markdown",
   "metadata": {},
   "source": [
    "There is no clear link between the number of installs and averaged rating. \n",
    "Applications downloaded less than 100 times seem to have a slightly higher average rating than the other, but the difference is within one standard deviation. \n",
    "We do see, however, that the standard deviation of ratings decreases with the number of installs. \n",
    "\n",
    "Let us see if similar features are seen for the Apple dataset. \n",
    "To this end, we first need to separate the numbers of ratings into intervals. \n",
    "We propose to use 10 intervals, with boundaries following a geometric series from $1$ to $3 \\times 10^6$."
   ]
  },
  {
   "cell_type": "code",
   "execution_count": 28,
   "metadata": {},
   "outputs": [
    {
     "data": {
      "image/png": "[encoded data removed]",
      "text/plain": [
       "<Figure size 432x288 with 1 Axes>"
      ]
     },
     "metadata": {
      "needs_background": "light"
     },
     "output_type": "display_data"
    },
    {
     "data": {
      "image/png": "[encoded data removed]",
      "text/plain": [
       "<Figure size 432x288 with 1 Axes>"
      ]
     },
     "metadata": {
      "needs_background": "light"
     },
     "output_type": "display_data"
    }
   ],
   "source": [
    "# definiition of the intervals\n",
    "list_count_Apple = [exp(log(3.*10**6)*(i+1)/10) for i in range(10)]\n",
    "\n",
    "list_ave_rating_Apple = [[] for i in range(10)]\n",
    "for i in range(len(rating_vs_count_Apple[0])):\n",
    "    for j in range(len(list_count_Apple)): \n",
    "        if rating_vs_count_Apple[0][i] <= list_count_Apple[j]:\n",
    "            list_ave_rating_Apple[j].append(rating_vs_count_Apple[1][i])\n",
    "            break\n",
    "            \n",
    "# average rating for apps with a given number of ratings\n",
    "list_ave_ave_rating_Apple = [sum(l)/len(l) for l in list_ave_rating_Apple]\n",
    "\n",
    "# standard deviation for apps with a given number of ratings\n",
    "list_std_ave_rating_Apple = [sqrt(sum(map(lambda x: x*x,l))/len(l) - (sum(l)/len(l))**2) for l in list_ave_rating_Apple]\n",
    "\n",
    "plot_dots(list(map(lambda x: log(x)/log(10),list_count_Apple)), \n",
    "          list_ave_ave_rating_Apple, \n",
    "          '$\\\\log_{10}(\\\\mathrm{'+data_Apple_rel[0][-2].replace('_','\\\\_')+'})$',\n",
    "          'ave('+data_Apple_rel[0][-1]+')', \n",
    "          'Apple')\n",
    "plt.show()\n",
    "\n",
    "plot_dots(list(map(lambda x: log(x)/log(10),list_count_Apple)), \n",
    "          list_std_ave_rating_Apple, \n",
    "          '$\\\\log_{10}(\\\\mathrm{'+data_Apple_rel[0][-2].replace('_','\\\\_')+'})$',\n",
    "          'std('+data_Apple_rel[0][-1]+')', \n",
    "          'Apple')\n",
    "plt.show()"
   ]
  },
  {
   "cell_type": "markdown",
   "metadata": {},
   "source": [
    "The average rating still seems essentially independent of the number of ratings (except for the first interval, where the average rating is very low). We also observe that the standard deviation decreases as the number of ratings increases. \n",
    "\n",
    "The main conclusion from these last four plots is that **no clear link emerges between our two target variables**."
   ]
  },
  {
   "cell_type": "markdown",
   "metadata": {},
   "source": [
    "## Data analysis "
   ]
  },
  {
   "cell_type": "markdown",
   "metadata": {},
   "source": [
    "Let us now start to analyze the data. \n",
    "We would like to determine which kinds of apps are popular on both the Apple App Store and Google Play. We thus focus on features common to the two datasets: \n",
    "* the genre (columns `prime_genre` in the Apple dataset and `Category` and `Genres` in the Google one),\n",
    "* the size (`size_bytes` in the Apple dataset and `Size` in the Google one),\n",
    "* the content rating (`cont_rating` in the Apple dataset and `Content Rating` in the Google one)."
   ]
  },
  {
   "cell_type": "markdown",
   "metadata": {},
   "source": [
    "### Genre"
   ]
  },
  {
   "cell_type": "markdown",
   "metadata": {},
   "source": [
    "Let us first explore the app genres. The first thing we want to do is to build an ordered frequency table for each of the corresponding columns. \n",
    "The function `ord_freq_table` defined below takes as argument a list of lists `dset` without header and an integer `index`. \n",
    "It returns a frequency table for the elements with index `index`, with frequencies expressed in percentages, ordered from highest to lowest frequency. \n",
    "The function `print_ord_freq_table` prints the result using `pandas`."
   ]
  },
  {
   "cell_type": "code",
   "execution_count": 29,
   "metadata": {},
   "outputs": [],
   "source": [
    "def ord_freq_table(dset, index):\n",
    "    '''\n",
    "    Returns an ordered frequency table (in percentages) of the column ind in dset\n",
    "    \n",
    "    return type: list of doublets\n",
    "    dset: list of lists\n",
    "    index: integer\n",
    "    '''\n",
    "    \n",
    "    Ncols = len(dset)\n",
    "    dic_freq = {}\n",
    "    for row in dset:\n",
    "        key = row[index].lower() # to avoid treating names with different cases as different names\n",
    "        if key in dic_freq:\n",
    "            dic_freq[key] += 1\n",
    "        else:\n",
    "            dic_freq[key] = 1\n",
    "    table_reversed = sorted([(dic_freq[key]*100/Ncols, key) for key in dic_freq], reverse=True)\n",
    "    return [(el[1], el[0]) for el in table_reversed]\n",
    "\n",
    "def print_ord_freq_table(dset, index):\n",
    "    oftable = ord_freq_table(dset, index)\n",
    "    return pd.DataFrame(oftable, columns=['value', 'frequency (%)'], index=None).style.hide_index()"
   ]
  },
  {
   "cell_type": "markdown",
   "metadata": {},
   "source": [
    "Let us test this function on a bogus data set:"
   ]
  },
  {
   "cell_type": "code",
   "execution_count": 30,
   "metadata": {},
   "outputs": [
    {
     "data": {
      "text/html": [
       "<style  type=\"text/css\" >\n",
       "</style><table id=\"T_5cb44a06_f847_11e9_89b0_37e6f8aa45be\" ><thead>    <tr>        <th class=\"col_heading level0 col0\" >value</th>        <th class=\"col_heading level0 col1\" >frequency (%)</th>    </tr></thead><tbody>\n",
       "                <tr>\n",
       "                                <td id=\"T_5cb44a06_f847_11e9_89b0_37e6f8aa45berow0_col0\" class=\"data row0 col0\" >a</td>\n",
       "                        <td id=\"T_5cb44a06_f847_11e9_89b0_37e6f8aa45berow0_col1\" class=\"data row0 col1\" >50</td>\n",
       "            </tr>\n",
       "            <tr>\n",
       "                                <td id=\"T_5cb44a06_f847_11e9_89b0_37e6f8aa45berow1_col0\" class=\"data row1 col0\" >b</td>\n",
       "                        <td id=\"T_5cb44a06_f847_11e9_89b0_37e6f8aa45berow1_col1\" class=\"data row1 col1\" >33.3333</td>\n",
       "            </tr>\n",
       "            <tr>\n",
       "                                <td id=\"T_5cb44a06_f847_11e9_89b0_37e6f8aa45berow2_col0\" class=\"data row2 col0\" >c</td>\n",
       "                        <td id=\"T_5cb44a06_f847_11e9_89b0_37e6f8aa45berow2_col1\" class=\"data row2 col1\" >16.6667</td>\n",
       "            </tr>\n",
       "    </tbody></table>"
      ],
      "text/plain": [
       "<pandas.io.formats.style.Styler at 0x7f31f9cb83c8>"
      ]
     },
     "execution_count": 30,
     "metadata": {},
     "output_type": "execute_result"
    }
   ],
   "source": [
    "bogus_dset = [[0,'a'], [1,'a'], [2,'a'], [3,'b'], [4,'b'], [5,'c']]\n",
    "print_ord_freq_table(bogus_dset, 1)"
   ]
  },
  {
   "cell_type": "markdown",
   "metadata": {},
   "source": [
    "Let us apply this to the `prime_genre` column in the Apple dataset: "
   ]
  },
  {
   "cell_type": "code",
   "execution_count": 31,
   "metadata": {},
   "outputs": [
    {
     "name": "stdout",
     "output_type": "stream",
     "text": [
      "Frequency table: Apple, column 'prime_genre':\n"
     ]
    },
    {
     "data": {
      "text/html": [
       "<style  type=\"text/css\" >\n",
       "</style><table id=\"T_5cb6e6b2_f847_11e9_89b0_37e6f8aa45be\" ><thead>    <tr>        <th class=\"col_heading level0 col0\" >value</th>        <th class=\"col_heading level0 col1\" >frequency (%)</th>    </tr></thead><tbody>\n",
       "                <tr>\n",
       "                                <td id=\"T_5cb6e6b2_f847_11e9_89b0_37e6f8aa45berow0_col0\" class=\"data row0 col0\" >games</td>\n",
       "                        <td id=\"T_5cb6e6b2_f847_11e9_89b0_37e6f8aa45berow0_col1\" class=\"data row0 col1\" >55.646</td>\n",
       "            </tr>\n",
       "            <tr>\n",
       "                                <td id=\"T_5cb6e6b2_f847_11e9_89b0_37e6f8aa45berow1_col0\" class=\"data row1 col0\" >entertainment</td>\n",
       "                        <td id=\"T_5cb6e6b2_f847_11e9_89b0_37e6f8aa45berow1_col1\" class=\"data row1 col1\" >8.23471</td>\n",
       "            </tr>\n",
       "            <tr>\n",
       "                                <td id=\"T_5cb6e6b2_f847_11e9_89b0_37e6f8aa45berow2_col0\" class=\"data row2 col0\" >photo & video</td>\n",
       "                        <td id=\"T_5cb6e6b2_f847_11e9_89b0_37e6f8aa45berow2_col1\" class=\"data row2 col1\" >4.11736</td>\n",
       "            </tr>\n",
       "            <tr>\n",
       "                                <td id=\"T_5cb6e6b2_f847_11e9_89b0_37e6f8aa45berow3_col0\" class=\"data row3 col0\" >social networking</td>\n",
       "                        <td id=\"T_5cb6e6b2_f847_11e9_89b0_37e6f8aa45berow3_col1\" class=\"data row3 col1\" >3.52564</td>\n",
       "            </tr>\n",
       "            <tr>\n",
       "                                <td id=\"T_5cb6e6b2_f847_11e9_89b0_37e6f8aa45berow4_col0\" class=\"data row4 col0\" >education</td>\n",
       "                        <td id=\"T_5cb6e6b2_f847_11e9_89b0_37e6f8aa45berow4_col1\" class=\"data row4 col1\" >3.25444</td>\n",
       "            </tr>\n",
       "            <tr>\n",
       "                                <td id=\"T_5cb6e6b2_f847_11e9_89b0_37e6f8aa45berow5_col0\" class=\"data row5 col0\" >shopping</td>\n",
       "                        <td id=\"T_5cb6e6b2_f847_11e9_89b0_37e6f8aa45berow5_col1\" class=\"data row5 col1\" >2.98323</td>\n",
       "            </tr>\n",
       "            <tr>\n",
       "                                <td id=\"T_5cb6e6b2_f847_11e9_89b0_37e6f8aa45berow6_col0\" class=\"data row6 col0\" >utilities</td>\n",
       "                        <td id=\"T_5cb6e6b2_f847_11e9_89b0_37e6f8aa45berow6_col1\" class=\"data row6 col1\" >2.68738</td>\n",
       "            </tr>\n",
       "            <tr>\n",
       "                                <td id=\"T_5cb6e6b2_f847_11e9_89b0_37e6f8aa45berow7_col0\" class=\"data row7 col0\" >lifestyle</td>\n",
       "                        <td id=\"T_5cb6e6b2_f847_11e9_89b0_37e6f8aa45berow7_col1\" class=\"data row7 col1\" >2.31755</td>\n",
       "            </tr>\n",
       "            <tr>\n",
       "                                <td id=\"T_5cb6e6b2_f847_11e9_89b0_37e6f8aa45berow8_col0\" class=\"data row8 col0\" >finance</td>\n",
       "                        <td id=\"T_5cb6e6b2_f847_11e9_89b0_37e6f8aa45berow8_col1\" class=\"data row8 col1\" >2.07101</td>\n",
       "            </tr>\n",
       "            <tr>\n",
       "                                <td id=\"T_5cb6e6b2_f847_11e9_89b0_37e6f8aa45berow9_col0\" class=\"data row9 col0\" >sports</td>\n",
       "                        <td id=\"T_5cb6e6b2_f847_11e9_89b0_37e6f8aa45berow9_col1\" class=\"data row9 col1\" >1.94773</td>\n",
       "            </tr>\n",
       "            <tr>\n",
       "                                <td id=\"T_5cb6e6b2_f847_11e9_89b0_37e6f8aa45berow10_col0\" class=\"data row10 col0\" >health & fitness</td>\n",
       "                        <td id=\"T_5cb6e6b2_f847_11e9_89b0_37e6f8aa45berow10_col1\" class=\"data row10 col1\" >1.87377</td>\n",
       "            </tr>\n",
       "            <tr>\n",
       "                                <td id=\"T_5cb6e6b2_f847_11e9_89b0_37e6f8aa45berow11_col0\" class=\"data row11 col0\" >music</td>\n",
       "                        <td id=\"T_5cb6e6b2_f847_11e9_89b0_37e6f8aa45berow11_col1\" class=\"data row11 col1\" >1.65187</td>\n",
       "            </tr>\n",
       "            <tr>\n",
       "                                <td id=\"T_5cb6e6b2_f847_11e9_89b0_37e6f8aa45berow12_col0\" class=\"data row12 col0\" >book</td>\n",
       "                        <td id=\"T_5cb6e6b2_f847_11e9_89b0_37e6f8aa45berow12_col1\" class=\"data row12 col1\" >1.62722</td>\n",
       "            </tr>\n",
       "            <tr>\n",
       "                                <td id=\"T_5cb6e6b2_f847_11e9_89b0_37e6f8aa45berow13_col0\" class=\"data row13 col0\" >productivity</td>\n",
       "                        <td id=\"T_5cb6e6b2_f847_11e9_89b0_37e6f8aa45berow13_col1\" class=\"data row13 col1\" >1.5286</td>\n",
       "            </tr>\n",
       "            <tr>\n",
       "                                <td id=\"T_5cb6e6b2_f847_11e9_89b0_37e6f8aa45berow14_col0\" class=\"data row14 col0\" >news</td>\n",
       "                        <td id=\"T_5cb6e6b2_f847_11e9_89b0_37e6f8aa45berow14_col1\" class=\"data row14 col1\" >1.42998</td>\n",
       "            </tr>\n",
       "            <tr>\n",
       "                                <td id=\"T_5cb6e6b2_f847_11e9_89b0_37e6f8aa45berow15_col0\" class=\"data row15 col0\" >travel</td>\n",
       "                        <td id=\"T_5cb6e6b2_f847_11e9_89b0_37e6f8aa45berow15_col1\" class=\"data row15 col1\" >1.38067</td>\n",
       "            </tr>\n",
       "            <tr>\n",
       "                                <td id=\"T_5cb6e6b2_f847_11e9_89b0_37e6f8aa45berow16_col0\" class=\"data row16 col0\" >food & drink</td>\n",
       "                        <td id=\"T_5cb6e6b2_f847_11e9_89b0_37e6f8aa45berow16_col1\" class=\"data row16 col1\" >1.06016</td>\n",
       "            </tr>\n",
       "            <tr>\n",
       "                                <td id=\"T_5cb6e6b2_f847_11e9_89b0_37e6f8aa45berow17_col0\" class=\"data row17 col0\" >weather</td>\n",
       "                        <td id=\"T_5cb6e6b2_f847_11e9_89b0_37e6f8aa45berow17_col1\" class=\"data row17 col1\" >0.7643</td>\n",
       "            </tr>\n",
       "            <tr>\n",
       "                                <td id=\"T_5cb6e6b2_f847_11e9_89b0_37e6f8aa45berow18_col0\" class=\"data row18 col0\" >reference</td>\n",
       "                        <td id=\"T_5cb6e6b2_f847_11e9_89b0_37e6f8aa45berow18_col1\" class=\"data row18 col1\" >0.493097</td>\n",
       "            </tr>\n",
       "            <tr>\n",
       "                                <td id=\"T_5cb6e6b2_f847_11e9_89b0_37e6f8aa45berow19_col0\" class=\"data row19 col0\" >navigation</td>\n",
       "                        <td id=\"T_5cb6e6b2_f847_11e9_89b0_37e6f8aa45berow19_col1\" class=\"data row19 col1\" >0.493097</td>\n",
       "            </tr>\n",
       "            <tr>\n",
       "                                <td id=\"T_5cb6e6b2_f847_11e9_89b0_37e6f8aa45berow20_col0\" class=\"data row20 col0\" >business</td>\n",
       "                        <td id=\"T_5cb6e6b2_f847_11e9_89b0_37e6f8aa45berow20_col1\" class=\"data row20 col1\" >0.493097</td>\n",
       "            </tr>\n",
       "            <tr>\n",
       "                                <td id=\"T_5cb6e6b2_f847_11e9_89b0_37e6f8aa45berow21_col0\" class=\"data row21 col0\" >catalogs</td>\n",
       "                        <td id=\"T_5cb6e6b2_f847_11e9_89b0_37e6f8aa45berow21_col1\" class=\"data row21 col1\" >0.221893</td>\n",
       "            </tr>\n",
       "            <tr>\n",
       "                                <td id=\"T_5cb6e6b2_f847_11e9_89b0_37e6f8aa45berow22_col0\" class=\"data row22 col0\" >medical</td>\n",
       "                        <td id=\"T_5cb6e6b2_f847_11e9_89b0_37e6f8aa45berow22_col1\" class=\"data row22 col1\" >0.197239</td>\n",
       "            </tr>\n",
       "    </tbody></table>"
      ],
      "text/plain": [
       "<pandas.io.formats.style.Styler at 0x7f31f9a84b38>"
      ]
     },
     "execution_count": 31,
     "metadata": {},
     "output_type": "execute_result"
    }
   ],
   "source": [
    "print('Frequency table: Apple, column \\'prime_genre\\':')\n",
    "print_ord_freq_table(data_Apple_rel[1:], 2) # exclude the header"
   ]
  },
  {
   "cell_type": "markdown",
   "metadata": {},
   "source": [
    "The most common genre is by far “games”, including more than 55% of all apps. \n",
    "The distant second is “entertainment”, including a bit more than 8% of all apps. \n",
    "“Medical” is the least common genre, with less than 0.2%. \n",
    "Most of the apps are designed for entertainment rather than practical purposes. \n",
    "This seems to single out games as generically popular apps, although a more careful analysis is needed before reaching any conclusion: so far we have only shown than they are the most represented genre, not that individual games are generally popular.\n",
    "\n",
    "Let us do the same for the `Category` and `Genres` columns in the Google dataset:"
   ]
  },
  {
   "cell_type": "code",
   "execution_count": 32,
   "metadata": {},
   "outputs": [
    {
     "name": "stdout",
     "output_type": "stream",
     "text": [
      "Frequency table: Google, column 'Category':\n"
     ]
    },
    {
     "data": {
      "text/html": [
       "<style  type=\"text/css\" >\n",
       "</style><table id=\"T_5cc402fc_f847_11e9_89b0_37e6f8aa45be\" ><thead>    <tr>        <th class=\"col_heading level0 col0\" >value</th>        <th class=\"col_heading level0 col1\" >frequency (%)</th>    </tr></thead><tbody>\n",
       "                <tr>\n",
       "                                <td id=\"T_5cc402fc_f847_11e9_89b0_37e6f8aa45berow0_col0\" class=\"data row0 col0\" >family</td>\n",
       "                        <td id=\"T_5cc402fc_f847_11e9_89b0_37e6f8aa45berow0_col1\" class=\"data row0 col1\" >18.9326</td>\n",
       "            </tr>\n",
       "            <tr>\n",
       "                                <td id=\"T_5cc402fc_f847_11e9_89b0_37e6f8aa45berow1_col0\" class=\"data row1 col0\" >game</td>\n",
       "                        <td id=\"T_5cc402fc_f847_11e9_89b0_37e6f8aa45berow1_col1\" class=\"data row1 col1\" >9.69198</td>\n",
       "            </tr>\n",
       "            <tr>\n",
       "                                <td id=\"T_5cc402fc_f847_11e9_89b0_37e6f8aa45berow2_col0\" class=\"data row2 col0\" >tools</td>\n",
       "                        <td id=\"T_5cc402fc_f847_11e9_89b0_37e6f8aa45berow2_col1\" class=\"data row2 col1\" >8.45086</td>\n",
       "            </tr>\n",
       "            <tr>\n",
       "                                <td id=\"T_5cc402fc_f847_11e9_89b0_37e6f8aa45berow3_col0\" class=\"data row3 col0\" >business</td>\n",
       "                        <td id=\"T_5cc402fc_f847_11e9_89b0_37e6f8aa45berow3_col1\" class=\"data row3 col1\" >4.59212</td>\n",
       "            </tr>\n",
       "            <tr>\n",
       "                                <td id=\"T_5cc402fc_f847_11e9_89b0_37e6f8aa45berow4_col0\" class=\"data row4 col0\" >lifestyle</td>\n",
       "                        <td id=\"T_5cc402fc_f847_11e9_89b0_37e6f8aa45berow4_col1\" class=\"data row4 col1\" >3.91515</td>\n",
       "            </tr>\n",
       "            <tr>\n",
       "                                <td id=\"T_5cc402fc_f847_11e9_89b0_37e6f8aa45berow5_col0\" class=\"data row5 col0\" >productivity</td>\n",
       "                        <td id=\"T_5cc402fc_f847_11e9_89b0_37e6f8aa45berow5_col1\" class=\"data row5 col1\" >3.89259</td>\n",
       "            </tr>\n",
       "            <tr>\n",
       "                                <td id=\"T_5cc402fc_f847_11e9_89b0_37e6f8aa45berow6_col0\" class=\"data row6 col0\" >finance</td>\n",
       "                        <td id=\"T_5cc402fc_f847_11e9_89b0_37e6f8aa45berow6_col1\" class=\"data row6 col1\" >3.70078</td>\n",
       "            </tr>\n",
       "            <tr>\n",
       "                                <td id=\"T_5cc402fc_f847_11e9_89b0_37e6f8aa45berow7_col0\" class=\"data row7 col0\" >medical</td>\n",
       "                        <td id=\"T_5cc402fc_f847_11e9_89b0_37e6f8aa45berow7_col1\" class=\"data row7 col1\" >3.52025</td>\n",
       "            </tr>\n",
       "            <tr>\n",
       "                                <td id=\"T_5cc402fc_f847_11e9_89b0_37e6f8aa45berow8_col0\" class=\"data row8 col0\" >sports</td>\n",
       "                        <td id=\"T_5cc402fc_f847_11e9_89b0_37e6f8aa45berow8_col1\" class=\"data row8 col1\" >3.39614</td>\n",
       "            </tr>\n",
       "            <tr>\n",
       "                                <td id=\"T_5cc402fc_f847_11e9_89b0_37e6f8aa45berow9_col0\" class=\"data row9 col0\" >personalization</td>\n",
       "                        <td id=\"T_5cc402fc_f847_11e9_89b0_37e6f8aa45berow9_col1\" class=\"data row9 col1\" >3.31716</td>\n",
       "            </tr>\n",
       "            <tr>\n",
       "                                <td id=\"T_5cc402fc_f847_11e9_89b0_37e6f8aa45berow10_col0\" class=\"data row10 col0\" >communication</td>\n",
       "                        <td id=\"T_5cc402fc_f847_11e9_89b0_37e6f8aa45berow10_col1\" class=\"data row10 col1\" >3.23818</td>\n",
       "            </tr>\n",
       "            <tr>\n",
       "                                <td id=\"T_5cc402fc_f847_11e9_89b0_37e6f8aa45berow11_col0\" class=\"data row11 col0\" >health_and_fitness</td>\n",
       "                        <td id=\"T_5cc402fc_f847_11e9_89b0_37e6f8aa45berow11_col1\" class=\"data row11 col1\" >3.08022</td>\n",
       "            </tr>\n",
       "            <tr>\n",
       "                                <td id=\"T_5cc402fc_f847_11e9_89b0_37e6f8aa45berow12_col0\" class=\"data row12 col0\" >photography</td>\n",
       "                        <td id=\"T_5cc402fc_f847_11e9_89b0_37e6f8aa45berow12_col1\" class=\"data row12 col1\" >2.94483</td>\n",
       "            </tr>\n",
       "            <tr>\n",
       "                                <td id=\"T_5cc402fc_f847_11e9_89b0_37e6f8aa45berow13_col0\" class=\"data row13 col0\" >news_and_magazines</td>\n",
       "                        <td id=\"T_5cc402fc_f847_11e9_89b0_37e6f8aa45berow13_col1\" class=\"data row13 col1\" >2.79815</td>\n",
       "            </tr>\n",
       "            <tr>\n",
       "                                <td id=\"T_5cc402fc_f847_11e9_89b0_37e6f8aa45berow14_col0\" class=\"data row14 col0\" >social</td>\n",
       "                        <td id=\"T_5cc402fc_f847_11e9_89b0_37e6f8aa45berow14_col1\" class=\"data row14 col1\" >2.66276</td>\n",
       "            </tr>\n",
       "            <tr>\n",
       "                                <td id=\"T_5cc402fc_f847_11e9_89b0_37e6f8aa45berow15_col0\" class=\"data row15 col0\" >travel_and_local</td>\n",
       "                        <td id=\"T_5cc402fc_f847_11e9_89b0_37e6f8aa45berow15_col1\" class=\"data row15 col1\" >2.33555</td>\n",
       "            </tr>\n",
       "            <tr>\n",
       "                                <td id=\"T_5cc402fc_f847_11e9_89b0_37e6f8aa45berow16_col0\" class=\"data row16 col0\" >shopping</td>\n",
       "                        <td id=\"T_5cc402fc_f847_11e9_89b0_37e6f8aa45berow16_col1\" class=\"data row16 col1\" >2.24529</td>\n",
       "            </tr>\n",
       "            <tr>\n",
       "                                <td id=\"T_5cc402fc_f847_11e9_89b0_37e6f8aa45berow17_col0\" class=\"data row17 col0\" >books_and_reference</td>\n",
       "                        <td id=\"T_5cc402fc_f847_11e9_89b0_37e6f8aa45berow17_col1\" class=\"data row17 col1\" >2.14374</td>\n",
       "            </tr>\n",
       "            <tr>\n",
       "                                <td id=\"T_5cc402fc_f847_11e9_89b0_37e6f8aa45berow18_col0\" class=\"data row18 col0\" >dating</td>\n",
       "                        <td id=\"T_5cc402fc_f847_11e9_89b0_37e6f8aa45berow18_col1\" class=\"data row18 col1\" >1.86167</td>\n",
       "            </tr>\n",
       "            <tr>\n",
       "                                <td id=\"T_5cc402fc_f847_11e9_89b0_37e6f8aa45berow19_col0\" class=\"data row19 col0\" >video_players</td>\n",
       "                        <td id=\"T_5cc402fc_f847_11e9_89b0_37e6f8aa45berow19_col1\" class=\"data row19 col1\" >1.79397</td>\n",
       "            </tr>\n",
       "            <tr>\n",
       "                                <td id=\"T_5cc402fc_f847_11e9_89b0_37e6f8aa45berow20_col0\" class=\"data row20 col0\" >maps_and_navigation</td>\n",
       "                        <td id=\"T_5cc402fc_f847_11e9_89b0_37e6f8aa45berow20_col1\" class=\"data row20 col1\" >1.39907</td>\n",
       "            </tr>\n",
       "            <tr>\n",
       "                                <td id=\"T_5cc402fc_f847_11e9_89b0_37e6f8aa45berow21_col0\" class=\"data row21 col0\" >food_and_drink</td>\n",
       "                        <td id=\"T_5cc402fc_f847_11e9_89b0_37e6f8aa45berow21_col1\" class=\"data row21 col1\" >1.24111</td>\n",
       "            </tr>\n",
       "            <tr>\n",
       "                                <td id=\"T_5cc402fc_f847_11e9_89b0_37e6f8aa45berow22_col0\" class=\"data row22 col0\" >education</td>\n",
       "                        <td id=\"T_5cc402fc_f847_11e9_89b0_37e6f8aa45berow22_col1\" class=\"data row22 col1\" >1.17342</td>\n",
       "            </tr>\n",
       "            <tr>\n",
       "                                <td id=\"T_5cc402fc_f847_11e9_89b0_37e6f8aa45berow23_col0\" class=\"data row23 col0\" >entertainment</td>\n",
       "                        <td id=\"T_5cc402fc_f847_11e9_89b0_37e6f8aa45berow23_col1\" class=\"data row23 col1\" >0.959043</td>\n",
       "            </tr>\n",
       "            <tr>\n",
       "                                <td id=\"T_5cc402fc_f847_11e9_89b0_37e6f8aa45berow24_col0\" class=\"data row24 col0\" >libraries_and_demo</td>\n",
       "                        <td id=\"T_5cc402fc_f847_11e9_89b0_37e6f8aa45berow24_col1\" class=\"data row24 col1\" >0.936477</td>\n",
       "            </tr>\n",
       "            <tr>\n",
       "                                <td id=\"T_5cc402fc_f847_11e9_89b0_37e6f8aa45berow25_col0\" class=\"data row25 col0\" >auto_and_vehicles</td>\n",
       "                        <td id=\"T_5cc402fc_f847_11e9_89b0_37e6f8aa45berow25_col1\" class=\"data row25 col1\" >0.925195</td>\n",
       "            </tr>\n",
       "            <tr>\n",
       "                                <td id=\"T_5cc402fc_f847_11e9_89b0_37e6f8aa45berow26_col0\" class=\"data row26 col0\" >house_and_home</td>\n",
       "                        <td id=\"T_5cc402fc_f847_11e9_89b0_37e6f8aa45berow26_col1\" class=\"data row26 col1\" >0.823649</td>\n",
       "            </tr>\n",
       "            <tr>\n",
       "                                <td id=\"T_5cc402fc_f847_11e9_89b0_37e6f8aa45berow27_col0\" class=\"data row27 col0\" >weather</td>\n",
       "                        <td id=\"T_5cc402fc_f847_11e9_89b0_37e6f8aa45berow27_col1\" class=\"data row27 col1\" >0.801083</td>\n",
       "            </tr>\n",
       "            <tr>\n",
       "                                <td id=\"T_5cc402fc_f847_11e9_89b0_37e6f8aa45berow28_col0\" class=\"data row28 col0\" >events</td>\n",
       "                        <td id=\"T_5cc402fc_f847_11e9_89b0_37e6f8aa45berow28_col1\" class=\"data row28 col1\" >0.71082</td>\n",
       "            </tr>\n",
       "            <tr>\n",
       "                                <td id=\"T_5cc402fc_f847_11e9_89b0_37e6f8aa45berow29_col0\" class=\"data row29 col0\" >parenting</td>\n",
       "                        <td id=\"T_5cc402fc_f847_11e9_89b0_37e6f8aa45berow29_col1\" class=\"data row29 col1\" >0.654406</td>\n",
       "            </tr>\n",
       "            <tr>\n",
       "                                <td id=\"T_5cc402fc_f847_11e9_89b0_37e6f8aa45berow30_col0\" class=\"data row30 col0\" >art_and_design</td>\n",
       "                        <td id=\"T_5cc402fc_f847_11e9_89b0_37e6f8aa45berow30_col1\" class=\"data row30 col1\" >0.643123</td>\n",
       "            </tr>\n",
       "            <tr>\n",
       "                                <td id=\"T_5cc402fc_f847_11e9_89b0_37e6f8aa45berow31_col0\" class=\"data row31 col0\" >comics</td>\n",
       "                        <td id=\"T_5cc402fc_f847_11e9_89b0_37e6f8aa45berow31_col1\" class=\"data row31 col1\" >0.620557</td>\n",
       "            </tr>\n",
       "            <tr>\n",
       "                                <td id=\"T_5cc402fc_f847_11e9_89b0_37e6f8aa45berow32_col0\" class=\"data row32 col0\" >beauty</td>\n",
       "                        <td id=\"T_5cc402fc_f847_11e9_89b0_37e6f8aa45berow32_col1\" class=\"data row32 col1\" >0.597992</td>\n",
       "            </tr>\n",
       "    </tbody></table>"
      ],
      "text/plain": [
       "<pandas.io.formats.style.Styler at 0x7f31f9a70908>"
      ]
     },
     "execution_count": 32,
     "metadata": {},
     "output_type": "execute_result"
    }
   ],
   "source": [
    "print('Frequency table: Google, column \\'Category\\':')\n",
    "print_ord_freq_table(data_Google_rel[1:], 0)"
   ]
  },
  {
   "cell_type": "markdown",
   "metadata": {},
   "source": [
    "The most common category is “Family” (nearly 19%), followed by “Games” (nearly 10%) and “Tools” (more than 8%). \n",
    "These apps seem more evenly balanced between entertainment and practical purposes, but the later seems to have an edge."
   ]
  },
  {
   "cell_type": "code",
   "execution_count": 33,
   "metadata": {},
   "outputs": [
    {
     "name": "stdout",
     "output_type": "stream",
     "text": [
      "Frequency table: Google, column 'Genres':\n"
     ]
    },
    {
     "data": {
      "text/html": [
       "<style  type=\"text/css\" >\n",
       "</style><table id=\"T_5cd19188_f847_11e9_89b0_37e6f8aa45be\" ><thead>    <tr>        <th class=\"col_heading level0 col0\" >value</th>        <th class=\"col_heading level0 col1\" >frequency (%)</th>    </tr></thead><tbody>\n",
       "                <tr>\n",
       "                                <td id=\"T_5cd19188_f847_11e9_89b0_37e6f8aa45berow0_col0\" class=\"data row0 col0\" >tools</td>\n",
       "                        <td id=\"T_5cd19188_f847_11e9_89b0_37e6f8aa45berow0_col1\" class=\"data row0 col1\" >8.43958</td>\n",
       "            </tr>\n",
       "            <tr>\n",
       "                                <td id=\"T_5cd19188_f847_11e9_89b0_37e6f8aa45berow1_col0\" class=\"data row1 col0\" >entertainment</td>\n",
       "                        <td id=\"T_5cd19188_f847_11e9_89b0_37e6f8aa45berow1_col1\" class=\"data row1 col1\" >6.07018</td>\n",
       "            </tr>\n",
       "            <tr>\n",
       "                                <td id=\"T_5cd19188_f847_11e9_89b0_37e6f8aa45berow2_col0\" class=\"data row2 col0\" >education</td>\n",
       "                        <td id=\"T_5cd19188_f847_11e9_89b0_37e6f8aa45berow2_col1\" class=\"data row2 col1\" >5.34808</td>\n",
       "            </tr>\n",
       "            <tr>\n",
       "                                <td id=\"T_5cd19188_f847_11e9_89b0_37e6f8aa45berow3_col0\" class=\"data row3 col0\" >business</td>\n",
       "                        <td id=\"T_5cd19188_f847_11e9_89b0_37e6f8aa45berow3_col1\" class=\"data row3 col1\" >4.59212</td>\n",
       "            </tr>\n",
       "            <tr>\n",
       "                                <td id=\"T_5cd19188_f847_11e9_89b0_37e6f8aa45berow4_col0\" class=\"data row4 col0\" >productivity</td>\n",
       "                        <td id=\"T_5cd19188_f847_11e9_89b0_37e6f8aa45berow4_col1\" class=\"data row4 col1\" >3.89259</td>\n",
       "            </tr>\n",
       "            <tr>\n",
       "                                <td id=\"T_5cd19188_f847_11e9_89b0_37e6f8aa45berow5_col0\" class=\"data row5 col0\" >lifestyle</td>\n",
       "                        <td id=\"T_5cd19188_f847_11e9_89b0_37e6f8aa45berow5_col1\" class=\"data row5 col1\" >3.89259</td>\n",
       "            </tr>\n",
       "            <tr>\n",
       "                                <td id=\"T_5cd19188_f847_11e9_89b0_37e6f8aa45berow6_col0\" class=\"data row6 col0\" >finance</td>\n",
       "                        <td id=\"T_5cd19188_f847_11e9_89b0_37e6f8aa45berow6_col1\" class=\"data row6 col1\" >3.70078</td>\n",
       "            </tr>\n",
       "            <tr>\n",
       "                                <td id=\"T_5cd19188_f847_11e9_89b0_37e6f8aa45berow7_col0\" class=\"data row7 col0\" >medical</td>\n",
       "                        <td id=\"T_5cd19188_f847_11e9_89b0_37e6f8aa45berow7_col1\" class=\"data row7 col1\" >3.52025</td>\n",
       "            </tr>\n",
       "            <tr>\n",
       "                                <td id=\"T_5cd19188_f847_11e9_89b0_37e6f8aa45berow8_col0\" class=\"data row8 col0\" >sports</td>\n",
       "                        <td id=\"T_5cd19188_f847_11e9_89b0_37e6f8aa45berow8_col1\" class=\"data row8 col1\" >3.46384</td>\n",
       "            </tr>\n",
       "            <tr>\n",
       "                                <td id=\"T_5cd19188_f847_11e9_89b0_37e6f8aa45berow9_col0\" class=\"data row9 col0\" >personalization</td>\n",
       "                        <td id=\"T_5cd19188_f847_11e9_89b0_37e6f8aa45berow9_col1\" class=\"data row9 col1\" >3.31716</td>\n",
       "            </tr>\n",
       "            <tr>\n",
       "                                <td id=\"T_5cd19188_f847_11e9_89b0_37e6f8aa45berow10_col0\" class=\"data row10 col0\" >communication</td>\n",
       "                        <td id=\"T_5cd19188_f847_11e9_89b0_37e6f8aa45berow10_col1\" class=\"data row10 col1\" >3.23818</td>\n",
       "            </tr>\n",
       "            <tr>\n",
       "                                <td id=\"T_5cd19188_f847_11e9_89b0_37e6f8aa45berow11_col0\" class=\"data row11 col0\" >action</td>\n",
       "                        <td id=\"T_5cd19188_f847_11e9_89b0_37e6f8aa45berow11_col1\" class=\"data row11 col1\" >3.10279</td>\n",
       "            </tr>\n",
       "            <tr>\n",
       "                                <td id=\"T_5cd19188_f847_11e9_89b0_37e6f8aa45berow12_col0\" class=\"data row12 col0\" >health & fitness</td>\n",
       "                        <td id=\"T_5cd19188_f847_11e9_89b0_37e6f8aa45berow12_col1\" class=\"data row12 col1\" >3.08022</td>\n",
       "            </tr>\n",
       "            <tr>\n",
       "                                <td id=\"T_5cd19188_f847_11e9_89b0_37e6f8aa45berow13_col0\" class=\"data row13 col0\" >photography</td>\n",
       "                        <td id=\"T_5cd19188_f847_11e9_89b0_37e6f8aa45berow13_col1\" class=\"data row13 col1\" >2.94483</td>\n",
       "            </tr>\n",
       "            <tr>\n",
       "                                <td id=\"T_5cd19188_f847_11e9_89b0_37e6f8aa45berow14_col0\" class=\"data row14 col0\" >news & magazines</td>\n",
       "                        <td id=\"T_5cd19188_f847_11e9_89b0_37e6f8aa45berow14_col1\" class=\"data row14 col1\" >2.79815</td>\n",
       "            </tr>\n",
       "            <tr>\n",
       "                                <td id=\"T_5cd19188_f847_11e9_89b0_37e6f8aa45berow15_col0\" class=\"data row15 col0\" >social</td>\n",
       "                        <td id=\"T_5cd19188_f847_11e9_89b0_37e6f8aa45berow15_col1\" class=\"data row15 col1\" >2.66276</td>\n",
       "            </tr>\n",
       "            <tr>\n",
       "                                <td id=\"T_5cd19188_f847_11e9_89b0_37e6f8aa45berow16_col0\" class=\"data row16 col0\" >travel & local</td>\n",
       "                        <td id=\"T_5cd19188_f847_11e9_89b0_37e6f8aa45berow16_col1\" class=\"data row16 col1\" >2.32427</td>\n",
       "            </tr>\n",
       "            <tr>\n",
       "                                <td id=\"T_5cd19188_f847_11e9_89b0_37e6f8aa45berow17_col0\" class=\"data row17 col0\" >shopping</td>\n",
       "                        <td id=\"T_5cd19188_f847_11e9_89b0_37e6f8aa45berow17_col1\" class=\"data row17 col1\" >2.24529</td>\n",
       "            </tr>\n",
       "            <tr>\n",
       "                                <td id=\"T_5cd19188_f847_11e9_89b0_37e6f8aa45berow18_col0\" class=\"data row18 col0\" >books & reference</td>\n",
       "                        <td id=\"T_5cd19188_f847_11e9_89b0_37e6f8aa45berow18_col1\" class=\"data row18 col1\" >2.14374</td>\n",
       "            </tr>\n",
       "            <tr>\n",
       "                                <td id=\"T_5cd19188_f847_11e9_89b0_37e6f8aa45berow19_col0\" class=\"data row19 col0\" >simulation</td>\n",
       "                        <td id=\"T_5cd19188_f847_11e9_89b0_37e6f8aa45berow19_col1\" class=\"data row19 col1\" >2.0422</td>\n",
       "            </tr>\n",
       "            <tr>\n",
       "                                <td id=\"T_5cd19188_f847_11e9_89b0_37e6f8aa45berow20_col0\" class=\"data row20 col0\" >dating</td>\n",
       "                        <td id=\"T_5cd19188_f847_11e9_89b0_37e6f8aa45berow20_col1\" class=\"data row20 col1\" >1.86167</td>\n",
       "            </tr>\n",
       "            <tr>\n",
       "                                <td id=\"T_5cd19188_f847_11e9_89b0_37e6f8aa45berow21_col0\" class=\"data row21 col0\" >arcade</td>\n",
       "                        <td id=\"T_5cd19188_f847_11e9_89b0_37e6f8aa45berow21_col1\" class=\"data row21 col1\" >1.85039</td>\n",
       "            </tr>\n",
       "            <tr>\n",
       "                                <td id=\"T_5cd19188_f847_11e9_89b0_37e6f8aa45berow22_col0\" class=\"data row22 col0\" >video players & editors</td>\n",
       "                        <td id=\"T_5cd19188_f847_11e9_89b0_37e6f8aa45berow22_col1\" class=\"data row22 col1\" >1.77141</td>\n",
       "            </tr>\n",
       "            <tr>\n",
       "                                <td id=\"T_5cd19188_f847_11e9_89b0_37e6f8aa45berow23_col0\" class=\"data row23 col0\" >casual</td>\n",
       "                        <td id=\"T_5cd19188_f847_11e9_89b0_37e6f8aa45berow23_col1\" class=\"data row23 col1\" >1.74884</td>\n",
       "            </tr>\n",
       "            <tr>\n",
       "                                <td id=\"T_5cd19188_f847_11e9_89b0_37e6f8aa45berow24_col0\" class=\"data row24 col0\" >maps & navigation</td>\n",
       "                        <td id=\"T_5cd19188_f847_11e9_89b0_37e6f8aa45berow24_col1\" class=\"data row24 col1\" >1.39907</td>\n",
       "            </tr>\n",
       "            <tr>\n",
       "                                <td id=\"T_5cd19188_f847_11e9_89b0_37e6f8aa45berow25_col0\" class=\"data row25 col0\" >food & drink</td>\n",
       "                        <td id=\"T_5cd19188_f847_11e9_89b0_37e6f8aa45berow25_col1\" class=\"data row25 col1\" >1.24111</td>\n",
       "            </tr>\n",
       "            <tr>\n",
       "                                <td id=\"T_5cd19188_f847_11e9_89b0_37e6f8aa45berow26_col0\" class=\"data row26 col0\" >puzzle</td>\n",
       "                        <td id=\"T_5cd19188_f847_11e9_89b0_37e6f8aa45berow26_col1\" class=\"data row26 col1\" >1.12829</td>\n",
       "            </tr>\n",
       "            <tr>\n",
       "                                <td id=\"T_5cd19188_f847_11e9_89b0_37e6f8aa45berow27_col0\" class=\"data row27 col0\" >racing</td>\n",
       "                        <td id=\"T_5cd19188_f847_11e9_89b0_37e6f8aa45berow27_col1\" class=\"data row27 col1\" >0.992892</td>\n",
       "            </tr>\n",
       "            <tr>\n",
       "                                <td id=\"T_5cd19188_f847_11e9_89b0_37e6f8aa45berow28_col0\" class=\"data row28 col0\" >role playing</td>\n",
       "                        <td id=\"T_5cd19188_f847_11e9_89b0_37e6f8aa45berow28_col1\" class=\"data row28 col1\" >0.936477</td>\n",
       "            </tr>\n",
       "            <tr>\n",
       "                                <td id=\"T_5cd19188_f847_11e9_89b0_37e6f8aa45berow29_col0\" class=\"data row29 col0\" >libraries & demo</td>\n",
       "                        <td id=\"T_5cd19188_f847_11e9_89b0_37e6f8aa45berow29_col1\" class=\"data row29 col1\" >0.936477</td>\n",
       "            </tr>\n",
       "            <tr>\n",
       "                                <td id=\"T_5cd19188_f847_11e9_89b0_37e6f8aa45berow30_col0\" class=\"data row30 col0\" >auto & vehicles</td>\n",
       "                        <td id=\"T_5cd19188_f847_11e9_89b0_37e6f8aa45berow30_col1\" class=\"data row30 col1\" >0.925195</td>\n",
       "            </tr>\n",
       "            <tr>\n",
       "                                <td id=\"T_5cd19188_f847_11e9_89b0_37e6f8aa45berow31_col0\" class=\"data row31 col0\" >strategy</td>\n",
       "                        <td id=\"T_5cd19188_f847_11e9_89b0_37e6f8aa45berow31_col1\" class=\"data row31 col1\" >0.913912</td>\n",
       "            </tr>\n",
       "            <tr>\n",
       "                                <td id=\"T_5cd19188_f847_11e9_89b0_37e6f8aa45berow32_col0\" class=\"data row32 col0\" >house & home</td>\n",
       "                        <td id=\"T_5cd19188_f847_11e9_89b0_37e6f8aa45berow32_col1\" class=\"data row32 col1\" >0.823649</td>\n",
       "            </tr>\n",
       "            <tr>\n",
       "                                <td id=\"T_5cd19188_f847_11e9_89b0_37e6f8aa45berow33_col0\" class=\"data row33 col0\" >weather</td>\n",
       "                        <td id=\"T_5cd19188_f847_11e9_89b0_37e6f8aa45berow33_col1\" class=\"data row33 col1\" >0.801083</td>\n",
       "            </tr>\n",
       "            <tr>\n",
       "                                <td id=\"T_5cd19188_f847_11e9_89b0_37e6f8aa45berow34_col0\" class=\"data row34 col0\" >events</td>\n",
       "                        <td id=\"T_5cd19188_f847_11e9_89b0_37e6f8aa45berow34_col1\" class=\"data row34 col1\" >0.71082</td>\n",
       "            </tr>\n",
       "            <tr>\n",
       "                                <td id=\"T_5cd19188_f847_11e9_89b0_37e6f8aa45berow35_col0\" class=\"data row35 col0\" >adventure</td>\n",
       "                        <td id=\"T_5cd19188_f847_11e9_89b0_37e6f8aa45berow35_col1\" class=\"data row35 col1\" >0.676972</td>\n",
       "            </tr>\n",
       "            <tr>\n",
       "                                <td id=\"T_5cd19188_f847_11e9_89b0_37e6f8aa45berow36_col0\" class=\"data row36 col0\" >comics</td>\n",
       "                        <td id=\"T_5cd19188_f847_11e9_89b0_37e6f8aa45berow36_col1\" class=\"data row36 col1\" >0.609275</td>\n",
       "            </tr>\n",
       "            <tr>\n",
       "                                <td id=\"T_5cd19188_f847_11e9_89b0_37e6f8aa45berow37_col0\" class=\"data row37 col0\" >beauty</td>\n",
       "                        <td id=\"T_5cd19188_f847_11e9_89b0_37e6f8aa45berow37_col1\" class=\"data row37 col1\" >0.597992</td>\n",
       "            </tr>\n",
       "            <tr>\n",
       "                                <td id=\"T_5cd19188_f847_11e9_89b0_37e6f8aa45berow38_col0\" class=\"data row38 col0\" >art & design</td>\n",
       "                        <td id=\"T_5cd19188_f847_11e9_89b0_37e6f8aa45berow38_col1\" class=\"data row38 col1\" >0.597992</td>\n",
       "            </tr>\n",
       "            <tr>\n",
       "                                <td id=\"T_5cd19188_f847_11e9_89b0_37e6f8aa45berow39_col0\" class=\"data row39 col0\" >parenting</td>\n",
       "                        <td id=\"T_5cd19188_f847_11e9_89b0_37e6f8aa45berow39_col1\" class=\"data row39 col1\" >0.496446</td>\n",
       "            </tr>\n",
       "            <tr>\n",
       "                                <td id=\"T_5cd19188_f847_11e9_89b0_37e6f8aa45berow40_col0\" class=\"data row40 col0\" >card</td>\n",
       "                        <td id=\"T_5cd19188_f847_11e9_89b0_37e6f8aa45berow40_col1\" class=\"data row40 col1\" >0.440032</td>\n",
       "            </tr>\n",
       "            <tr>\n",
       "                                <td id=\"T_5cd19188_f847_11e9_89b0_37e6f8aa45berow41_col0\" class=\"data row41 col0\" >casino</td>\n",
       "                        <td id=\"T_5cd19188_f847_11e9_89b0_37e6f8aa45berow41_col1\" class=\"data row41 col1\" >0.428749</td>\n",
       "            </tr>\n",
       "            <tr>\n",
       "                                <td id=\"T_5cd19188_f847_11e9_89b0_37e6f8aa45berow42_col0\" class=\"data row42 col0\" >trivia</td>\n",
       "                        <td id=\"T_5cd19188_f847_11e9_89b0_37e6f8aa45berow42_col1\" class=\"data row42 col1\" >0.417466</td>\n",
       "            </tr>\n",
       "            <tr>\n",
       "                                <td id=\"T_5cd19188_f847_11e9_89b0_37e6f8aa45berow43_col0\" class=\"data row43 col0\" >educational;education</td>\n",
       "                        <td id=\"T_5cd19188_f847_11e9_89b0_37e6f8aa45berow43_col1\" class=\"data row43 col1\" >0.3949</td>\n",
       "            </tr>\n",
       "            <tr>\n",
       "                                <td id=\"T_5cd19188_f847_11e9_89b0_37e6f8aa45berow44_col0\" class=\"data row44 col0\" >educational</td>\n",
       "                        <td id=\"T_5cd19188_f847_11e9_89b0_37e6f8aa45berow44_col1\" class=\"data row44 col1\" >0.372334</td>\n",
       "            </tr>\n",
       "            <tr>\n",
       "                                <td id=\"T_5cd19188_f847_11e9_89b0_37e6f8aa45berow45_col0\" class=\"data row45 col0\" >board</td>\n",
       "                        <td id=\"T_5cd19188_f847_11e9_89b0_37e6f8aa45berow45_col1\" class=\"data row45 col1\" >0.372334</td>\n",
       "            </tr>\n",
       "            <tr>\n",
       "                                <td id=\"T_5cd19188_f847_11e9_89b0_37e6f8aa45berow46_col0\" class=\"data row46 col0\" >education;education</td>\n",
       "                        <td id=\"T_5cd19188_f847_11e9_89b0_37e6f8aa45berow46_col1\" class=\"data row46 col1\" >0.338486</td>\n",
       "            </tr>\n",
       "            <tr>\n",
       "                                <td id=\"T_5cd19188_f847_11e9_89b0_37e6f8aa45berow47_col0\" class=\"data row47 col0\" >word</td>\n",
       "                        <td id=\"T_5cd19188_f847_11e9_89b0_37e6f8aa45berow47_col1\" class=\"data row47 col1\" >0.259506</td>\n",
       "            </tr>\n",
       "            <tr>\n",
       "                                <td id=\"T_5cd19188_f847_11e9_89b0_37e6f8aa45berow48_col0\" class=\"data row48 col0\" >casual;pretend play</td>\n",
       "                        <td id=\"T_5cd19188_f847_11e9_89b0_37e6f8aa45berow48_col1\" class=\"data row48 col1\" >0.23694</td>\n",
       "            </tr>\n",
       "            <tr>\n",
       "                                <td id=\"T_5cd19188_f847_11e9_89b0_37e6f8aa45berow49_col0\" class=\"data row49 col0\" >music</td>\n",
       "                        <td id=\"T_5cd19188_f847_11e9_89b0_37e6f8aa45berow49_col1\" class=\"data row49 col1\" >0.203092</td>\n",
       "            </tr>\n",
       "            <tr>\n",
       "                                <td id=\"T_5cd19188_f847_11e9_89b0_37e6f8aa45berow50_col0\" class=\"data row50 col0\" >puzzle;brain games</td>\n",
       "                        <td id=\"T_5cd19188_f847_11e9_89b0_37e6f8aa45berow50_col1\" class=\"data row50 col1\" >0.180526</td>\n",
       "            </tr>\n",
       "            <tr>\n",
       "                                <td id=\"T_5cd19188_f847_11e9_89b0_37e6f8aa45berow51_col0\" class=\"data row51 col0\" >racing;action & adventure</td>\n",
       "                        <td id=\"T_5cd19188_f847_11e9_89b0_37e6f8aa45berow51_col1\" class=\"data row51 col1\" >0.169243</td>\n",
       "            </tr>\n",
       "            <tr>\n",
       "                                <td id=\"T_5cd19188_f847_11e9_89b0_37e6f8aa45berow52_col0\" class=\"data row52 col0\" >entertainment;music & video</td>\n",
       "                        <td id=\"T_5cd19188_f847_11e9_89b0_37e6f8aa45berow52_col1\" class=\"data row52 col1\" >0.169243</td>\n",
       "            </tr>\n",
       "            <tr>\n",
       "                                <td id=\"T_5cd19188_f847_11e9_89b0_37e6f8aa45berow53_col0\" class=\"data row53 col0\" >casual;brain games</td>\n",
       "                        <td id=\"T_5cd19188_f847_11e9_89b0_37e6f8aa45berow53_col1\" class=\"data row53 col1\" >0.135394</td>\n",
       "            </tr>\n",
       "            <tr>\n",
       "                                <td id=\"T_5cd19188_f847_11e9_89b0_37e6f8aa45berow54_col0\" class=\"data row54 col0\" >casual;action & adventure</td>\n",
       "                        <td id=\"T_5cd19188_f847_11e9_89b0_37e6f8aa45berow54_col1\" class=\"data row54 col1\" >0.135394</td>\n",
       "            </tr>\n",
       "            <tr>\n",
       "                                <td id=\"T_5cd19188_f847_11e9_89b0_37e6f8aa45berow55_col0\" class=\"data row55 col0\" >arcade;action & adventure</td>\n",
       "                        <td id=\"T_5cd19188_f847_11e9_89b0_37e6f8aa45berow55_col1\" class=\"data row55 col1\" >0.124111</td>\n",
       "            </tr>\n",
       "            <tr>\n",
       "                                <td id=\"T_5cd19188_f847_11e9_89b0_37e6f8aa45berow56_col0\" class=\"data row56 col0\" >action;action & adventure</td>\n",
       "                        <td id=\"T_5cd19188_f847_11e9_89b0_37e6f8aa45berow56_col1\" class=\"data row56 col1\" >0.101546</td>\n",
       "            </tr>\n",
       "            <tr>\n",
       "                                <td id=\"T_5cd19188_f847_11e9_89b0_37e6f8aa45berow57_col0\" class=\"data row57 col0\" >educational;pretend play</td>\n",
       "                        <td id=\"T_5cd19188_f847_11e9_89b0_37e6f8aa45berow57_col1\" class=\"data row57 col1\" >0.0902629</td>\n",
       "            </tr>\n",
       "            <tr>\n",
       "                                <td id=\"T_5cd19188_f847_11e9_89b0_37e6f8aa45berow58_col0\" class=\"data row58 col0\" >board;brain games</td>\n",
       "                        <td id=\"T_5cd19188_f847_11e9_89b0_37e6f8aa45berow58_col1\" class=\"data row58 col1\" >0.0902629</td>\n",
       "            </tr>\n",
       "            <tr>\n",
       "                                <td id=\"T_5cd19188_f847_11e9_89b0_37e6f8aa45berow59_col0\" class=\"data row59 col0\" >simulation;action & adventure</td>\n",
       "                        <td id=\"T_5cd19188_f847_11e9_89b0_37e6f8aa45berow59_col1\" class=\"data row59 col1\" >0.07898</td>\n",
       "            </tr>\n",
       "            <tr>\n",
       "                                <td id=\"T_5cd19188_f847_11e9_89b0_37e6f8aa45berow60_col0\" class=\"data row60 col0\" >parenting;education</td>\n",
       "                        <td id=\"T_5cd19188_f847_11e9_89b0_37e6f8aa45berow60_col1\" class=\"data row60 col1\" >0.07898</td>\n",
       "            </tr>\n",
       "            <tr>\n",
       "                                <td id=\"T_5cd19188_f847_11e9_89b0_37e6f8aa45berow61_col0\" class=\"data row61 col0\" >entertainment;brain games</td>\n",
       "                        <td id=\"T_5cd19188_f847_11e9_89b0_37e6f8aa45berow61_col1\" class=\"data row61 col1\" >0.07898</td>\n",
       "            </tr>\n",
       "            <tr>\n",
       "                                <td id=\"T_5cd19188_f847_11e9_89b0_37e6f8aa45berow62_col0\" class=\"data row62 col0\" >parenting;music & video</td>\n",
       "                        <td id=\"T_5cd19188_f847_11e9_89b0_37e6f8aa45berow62_col1\" class=\"data row62 col1\" >0.0676972</td>\n",
       "            </tr>\n",
       "            <tr>\n",
       "                                <td id=\"T_5cd19188_f847_11e9_89b0_37e6f8aa45berow63_col0\" class=\"data row63 col0\" >educational;brain games</td>\n",
       "                        <td id=\"T_5cd19188_f847_11e9_89b0_37e6f8aa45berow63_col1\" class=\"data row63 col1\" >0.0676972</td>\n",
       "            </tr>\n",
       "            <tr>\n",
       "                                <td id=\"T_5cd19188_f847_11e9_89b0_37e6f8aa45berow64_col0\" class=\"data row64 col0\" >casual;creativity</td>\n",
       "                        <td id=\"T_5cd19188_f847_11e9_89b0_37e6f8aa45berow64_col1\" class=\"data row64 col1\" >0.0676972</td>\n",
       "            </tr>\n",
       "            <tr>\n",
       "                                <td id=\"T_5cd19188_f847_11e9_89b0_37e6f8aa45berow65_col0\" class=\"data row65 col0\" >art & design;creativity</td>\n",
       "                        <td id=\"T_5cd19188_f847_11e9_89b0_37e6f8aa45berow65_col1\" class=\"data row65 col1\" >0.0676972</td>\n",
       "            </tr>\n",
       "            <tr>\n",
       "                                <td id=\"T_5cd19188_f847_11e9_89b0_37e6f8aa45berow66_col0\" class=\"data row66 col0\" >education;pretend play</td>\n",
       "                        <td id=\"T_5cd19188_f847_11e9_89b0_37e6f8aa45berow66_col1\" class=\"data row66 col1\" >0.0564143</td>\n",
       "            </tr>\n",
       "            <tr>\n",
       "                                <td id=\"T_5cd19188_f847_11e9_89b0_37e6f8aa45berow67_col0\" class=\"data row67 col0\" >role playing;pretend play</td>\n",
       "                        <td id=\"T_5cd19188_f847_11e9_89b0_37e6f8aa45berow67_col1\" class=\"data row67 col1\" >0.0451314</td>\n",
       "            </tr>\n",
       "            <tr>\n",
       "                                <td id=\"T_5cd19188_f847_11e9_89b0_37e6f8aa45berow68_col0\" class=\"data row68 col0\" >education;creativity</td>\n",
       "                        <td id=\"T_5cd19188_f847_11e9_89b0_37e6f8aa45berow68_col1\" class=\"data row68 col1\" >0.0451314</td>\n",
       "            </tr>\n",
       "            <tr>\n",
       "                                <td id=\"T_5cd19188_f847_11e9_89b0_37e6f8aa45berow69_col0\" class=\"data row69 col0\" >role playing;action & adventure</td>\n",
       "                        <td id=\"T_5cd19188_f847_11e9_89b0_37e6f8aa45berow69_col1\" class=\"data row69 col1\" >0.0338486</td>\n",
       "            </tr>\n",
       "            <tr>\n",
       "                                <td id=\"T_5cd19188_f847_11e9_89b0_37e6f8aa45berow70_col0\" class=\"data row70 col0\" >puzzle;action & adventure</td>\n",
       "                        <td id=\"T_5cd19188_f847_11e9_89b0_37e6f8aa45berow70_col1\" class=\"data row70 col1\" >0.0338486</td>\n",
       "            </tr>\n",
       "            <tr>\n",
       "                                <td id=\"T_5cd19188_f847_11e9_89b0_37e6f8aa45berow71_col0\" class=\"data row71 col0\" >entertainment;creativity</td>\n",
       "                        <td id=\"T_5cd19188_f847_11e9_89b0_37e6f8aa45berow71_col1\" class=\"data row71 col1\" >0.0338486</td>\n",
       "            </tr>\n",
       "            <tr>\n",
       "                                <td id=\"T_5cd19188_f847_11e9_89b0_37e6f8aa45berow72_col0\" class=\"data row72 col0\" >entertainment;action & adventure</td>\n",
       "                        <td id=\"T_5cd19188_f847_11e9_89b0_37e6f8aa45berow72_col1\" class=\"data row72 col1\" >0.0338486</td>\n",
       "            </tr>\n",
       "            <tr>\n",
       "                                <td id=\"T_5cd19188_f847_11e9_89b0_37e6f8aa45berow73_col0\" class=\"data row73 col0\" >educational;creativity</td>\n",
       "                        <td id=\"T_5cd19188_f847_11e9_89b0_37e6f8aa45berow73_col1\" class=\"data row73 col1\" >0.0338486</td>\n",
       "            </tr>\n",
       "            <tr>\n",
       "                                <td id=\"T_5cd19188_f847_11e9_89b0_37e6f8aa45berow74_col0\" class=\"data row74 col0\" >educational;action & adventure</td>\n",
       "                        <td id=\"T_5cd19188_f847_11e9_89b0_37e6f8aa45berow74_col1\" class=\"data row74 col1\" >0.0338486</td>\n",
       "            </tr>\n",
       "            <tr>\n",
       "                                <td id=\"T_5cd19188_f847_11e9_89b0_37e6f8aa45berow75_col0\" class=\"data row75 col0\" >education;music & video</td>\n",
       "                        <td id=\"T_5cd19188_f847_11e9_89b0_37e6f8aa45berow75_col1\" class=\"data row75 col1\" >0.0338486</td>\n",
       "            </tr>\n",
       "            <tr>\n",
       "                                <td id=\"T_5cd19188_f847_11e9_89b0_37e6f8aa45berow76_col0\" class=\"data row76 col0\" >education;brain games</td>\n",
       "                        <td id=\"T_5cd19188_f847_11e9_89b0_37e6f8aa45berow76_col1\" class=\"data row76 col1\" >0.0338486</td>\n",
       "            </tr>\n",
       "            <tr>\n",
       "                                <td id=\"T_5cd19188_f847_11e9_89b0_37e6f8aa45berow77_col0\" class=\"data row77 col0\" >education;action & adventure</td>\n",
       "                        <td id=\"T_5cd19188_f847_11e9_89b0_37e6f8aa45berow77_col1\" class=\"data row77 col1\" >0.0338486</td>\n",
       "            </tr>\n",
       "            <tr>\n",
       "                                <td id=\"T_5cd19188_f847_11e9_89b0_37e6f8aa45berow78_col0\" class=\"data row78 col0\" >adventure;action & adventure</td>\n",
       "                        <td id=\"T_5cd19188_f847_11e9_89b0_37e6f8aa45berow78_col1\" class=\"data row78 col1\" >0.0338486</td>\n",
       "            </tr>\n",
       "            <tr>\n",
       "                                <td id=\"T_5cd19188_f847_11e9_89b0_37e6f8aa45berow79_col0\" class=\"data row79 col0\" >video players & editors;music & video</td>\n",
       "                        <td id=\"T_5cd19188_f847_11e9_89b0_37e6f8aa45berow79_col1\" class=\"data row79 col1\" >0.0225657</td>\n",
       "            </tr>\n",
       "            <tr>\n",
       "                                <td id=\"T_5cd19188_f847_11e9_89b0_37e6f8aa45berow80_col0\" class=\"data row80 col0\" >sports;action & adventure</td>\n",
       "                        <td id=\"T_5cd19188_f847_11e9_89b0_37e6f8aa45berow80_col1\" class=\"data row80 col1\" >0.0225657</td>\n",
       "            </tr>\n",
       "            <tr>\n",
       "                                <td id=\"T_5cd19188_f847_11e9_89b0_37e6f8aa45berow81_col0\" class=\"data row81 col0\" >simulation;pretend play</td>\n",
       "                        <td id=\"T_5cd19188_f847_11e9_89b0_37e6f8aa45berow81_col1\" class=\"data row81 col1\" >0.0225657</td>\n",
       "            </tr>\n",
       "            <tr>\n",
       "                                <td id=\"T_5cd19188_f847_11e9_89b0_37e6f8aa45berow82_col0\" class=\"data row82 col0\" >puzzle;creativity</td>\n",
       "                        <td id=\"T_5cd19188_f847_11e9_89b0_37e6f8aa45berow82_col1\" class=\"data row82 col1\" >0.0225657</td>\n",
       "            </tr>\n",
       "            <tr>\n",
       "                                <td id=\"T_5cd19188_f847_11e9_89b0_37e6f8aa45berow83_col0\" class=\"data row83 col0\" >music;music & video</td>\n",
       "                        <td id=\"T_5cd19188_f847_11e9_89b0_37e6f8aa45berow83_col1\" class=\"data row83 col1\" >0.0225657</td>\n",
       "            </tr>\n",
       "            <tr>\n",
       "                                <td id=\"T_5cd19188_f847_11e9_89b0_37e6f8aa45berow84_col0\" class=\"data row84 col0\" >entertainment;pretend play</td>\n",
       "                        <td id=\"T_5cd19188_f847_11e9_89b0_37e6f8aa45berow84_col1\" class=\"data row84 col1\" >0.0225657</td>\n",
       "            </tr>\n",
       "            <tr>\n",
       "                                <td id=\"T_5cd19188_f847_11e9_89b0_37e6f8aa45berow85_col0\" class=\"data row85 col0\" >casual;education</td>\n",
       "                        <td id=\"T_5cd19188_f847_11e9_89b0_37e6f8aa45berow85_col1\" class=\"data row85 col1\" >0.0225657</td>\n",
       "            </tr>\n",
       "            <tr>\n",
       "                                <td id=\"T_5cd19188_f847_11e9_89b0_37e6f8aa45berow86_col0\" class=\"data row86 col0\" >board;action & adventure</td>\n",
       "                        <td id=\"T_5cd19188_f847_11e9_89b0_37e6f8aa45berow86_col1\" class=\"data row86 col1\" >0.0225657</td>\n",
       "            </tr>\n",
       "            <tr>\n",
       "                                <td id=\"T_5cd19188_f847_11e9_89b0_37e6f8aa45berow87_col0\" class=\"data row87 col0\" >video players & editors;creativity</td>\n",
       "                        <td id=\"T_5cd19188_f847_11e9_89b0_37e6f8aa45berow87_col1\" class=\"data row87 col1\" >0.0112829</td>\n",
       "            </tr>\n",
       "            <tr>\n",
       "                                <td id=\"T_5cd19188_f847_11e9_89b0_37e6f8aa45berow88_col0\" class=\"data row88 col0\" >trivia;education</td>\n",
       "                        <td id=\"T_5cd19188_f847_11e9_89b0_37e6f8aa45berow88_col1\" class=\"data row88 col1\" >0.0112829</td>\n",
       "            </tr>\n",
       "            <tr>\n",
       "                                <td id=\"T_5cd19188_f847_11e9_89b0_37e6f8aa45berow89_col0\" class=\"data row89 col0\" >travel & local;action & adventure</td>\n",
       "                        <td id=\"T_5cd19188_f847_11e9_89b0_37e6f8aa45berow89_col1\" class=\"data row89 col1\" >0.0112829</td>\n",
       "            </tr>\n",
       "            <tr>\n",
       "                                <td id=\"T_5cd19188_f847_11e9_89b0_37e6f8aa45berow90_col0\" class=\"data row90 col0\" >tools;education</td>\n",
       "                        <td id=\"T_5cd19188_f847_11e9_89b0_37e6f8aa45berow90_col1\" class=\"data row90 col1\" >0.0112829</td>\n",
       "            </tr>\n",
       "            <tr>\n",
       "                                <td id=\"T_5cd19188_f847_11e9_89b0_37e6f8aa45berow91_col0\" class=\"data row91 col0\" >strategy;education</td>\n",
       "                        <td id=\"T_5cd19188_f847_11e9_89b0_37e6f8aa45berow91_col1\" class=\"data row91 col1\" >0.0112829</td>\n",
       "            </tr>\n",
       "            <tr>\n",
       "                                <td id=\"T_5cd19188_f847_11e9_89b0_37e6f8aa45berow92_col0\" class=\"data row92 col0\" >strategy;creativity</td>\n",
       "                        <td id=\"T_5cd19188_f847_11e9_89b0_37e6f8aa45berow92_col1\" class=\"data row92 col1\" >0.0112829</td>\n",
       "            </tr>\n",
       "            <tr>\n",
       "                                <td id=\"T_5cd19188_f847_11e9_89b0_37e6f8aa45berow93_col0\" class=\"data row93 col0\" >strategy;action & adventure</td>\n",
       "                        <td id=\"T_5cd19188_f847_11e9_89b0_37e6f8aa45berow93_col1\" class=\"data row93 col1\" >0.0112829</td>\n",
       "            </tr>\n",
       "            <tr>\n",
       "                                <td id=\"T_5cd19188_f847_11e9_89b0_37e6f8aa45berow94_col0\" class=\"data row94 col0\" >simulation;education</td>\n",
       "                        <td id=\"T_5cd19188_f847_11e9_89b0_37e6f8aa45berow94_col1\" class=\"data row94 col1\" >0.0112829</td>\n",
       "            </tr>\n",
       "            <tr>\n",
       "                                <td id=\"T_5cd19188_f847_11e9_89b0_37e6f8aa45berow95_col0\" class=\"data row95 col0\" >role playing;brain games</td>\n",
       "                        <td id=\"T_5cd19188_f847_11e9_89b0_37e6f8aa45berow95_col1\" class=\"data row95 col1\" >0.0112829</td>\n",
       "            </tr>\n",
       "            <tr>\n",
       "                                <td id=\"T_5cd19188_f847_11e9_89b0_37e6f8aa45berow96_col0\" class=\"data row96 col0\" >racing;pretend play</td>\n",
       "                        <td id=\"T_5cd19188_f847_11e9_89b0_37e6f8aa45berow96_col1\" class=\"data row96 col1\" >0.0112829</td>\n",
       "            </tr>\n",
       "            <tr>\n",
       "                                <td id=\"T_5cd19188_f847_11e9_89b0_37e6f8aa45berow97_col0\" class=\"data row97 col0\" >puzzle;education</td>\n",
       "                        <td id=\"T_5cd19188_f847_11e9_89b0_37e6f8aa45berow97_col1\" class=\"data row97 col1\" >0.0112829</td>\n",
       "            </tr>\n",
       "            <tr>\n",
       "                                <td id=\"T_5cd19188_f847_11e9_89b0_37e6f8aa45berow98_col0\" class=\"data row98 col0\" >parenting;brain games</td>\n",
       "                        <td id=\"T_5cd19188_f847_11e9_89b0_37e6f8aa45berow98_col1\" class=\"data row98 col1\" >0.0112829</td>\n",
       "            </tr>\n",
       "            <tr>\n",
       "                                <td id=\"T_5cd19188_f847_11e9_89b0_37e6f8aa45berow99_col0\" class=\"data row99 col0\" >music & audio;music & video</td>\n",
       "                        <td id=\"T_5cd19188_f847_11e9_89b0_37e6f8aa45berow99_col1\" class=\"data row99 col1\" >0.0112829</td>\n",
       "            </tr>\n",
       "            <tr>\n",
       "                                <td id=\"T_5cd19188_f847_11e9_89b0_37e6f8aa45berow100_col0\" class=\"data row100 col0\" >lifestyle;pretend play</td>\n",
       "                        <td id=\"T_5cd19188_f847_11e9_89b0_37e6f8aa45berow100_col1\" class=\"data row100 col1\" >0.0112829</td>\n",
       "            </tr>\n",
       "            <tr>\n",
       "                                <td id=\"T_5cd19188_f847_11e9_89b0_37e6f8aa45berow101_col0\" class=\"data row101 col0\" >lifestyle;education</td>\n",
       "                        <td id=\"T_5cd19188_f847_11e9_89b0_37e6f8aa45berow101_col1\" class=\"data row101 col1\" >0.0112829</td>\n",
       "            </tr>\n",
       "            <tr>\n",
       "                                <td id=\"T_5cd19188_f847_11e9_89b0_37e6f8aa45berow102_col0\" class=\"data row102 col0\" >health & fitness;education</td>\n",
       "                        <td id=\"T_5cd19188_f847_11e9_89b0_37e6f8aa45berow102_col1\" class=\"data row102 col1\" >0.0112829</td>\n",
       "            </tr>\n",
       "            <tr>\n",
       "                                <td id=\"T_5cd19188_f847_11e9_89b0_37e6f8aa45berow103_col0\" class=\"data row103 col0\" >health & fitness;action & adventure</td>\n",
       "                        <td id=\"T_5cd19188_f847_11e9_89b0_37e6f8aa45berow103_col1\" class=\"data row103 col1\" >0.0112829</td>\n",
       "            </tr>\n",
       "            <tr>\n",
       "                                <td id=\"T_5cd19188_f847_11e9_89b0_37e6f8aa45berow104_col0\" class=\"data row104 col0\" >entertainment;education</td>\n",
       "                        <td id=\"T_5cd19188_f847_11e9_89b0_37e6f8aa45berow104_col1\" class=\"data row104 col1\" >0.0112829</td>\n",
       "            </tr>\n",
       "            <tr>\n",
       "                                <td id=\"T_5cd19188_f847_11e9_89b0_37e6f8aa45berow105_col0\" class=\"data row105 col0\" >communication;creativity</td>\n",
       "                        <td id=\"T_5cd19188_f847_11e9_89b0_37e6f8aa45berow105_col1\" class=\"data row105 col1\" >0.0112829</td>\n",
       "            </tr>\n",
       "            <tr>\n",
       "                                <td id=\"T_5cd19188_f847_11e9_89b0_37e6f8aa45berow106_col0\" class=\"data row106 col0\" >comics;creativity</td>\n",
       "                        <td id=\"T_5cd19188_f847_11e9_89b0_37e6f8aa45berow106_col1\" class=\"data row106 col1\" >0.0112829</td>\n",
       "            </tr>\n",
       "            <tr>\n",
       "                                <td id=\"T_5cd19188_f847_11e9_89b0_37e6f8aa45berow107_col0\" class=\"data row107 col0\" >casual;music & video</td>\n",
       "                        <td id=\"T_5cd19188_f847_11e9_89b0_37e6f8aa45berow107_col1\" class=\"data row107 col1\" >0.0112829</td>\n",
       "            </tr>\n",
       "            <tr>\n",
       "                                <td id=\"T_5cd19188_f847_11e9_89b0_37e6f8aa45berow108_col0\" class=\"data row108 col0\" >card;brain games</td>\n",
       "                        <td id=\"T_5cd19188_f847_11e9_89b0_37e6f8aa45berow108_col1\" class=\"data row108 col1\" >0.0112829</td>\n",
       "            </tr>\n",
       "            <tr>\n",
       "                                <td id=\"T_5cd19188_f847_11e9_89b0_37e6f8aa45berow109_col0\" class=\"data row109 col0\" >card;action & adventure</td>\n",
       "                        <td id=\"T_5cd19188_f847_11e9_89b0_37e6f8aa45berow109_col1\" class=\"data row109 col1\" >0.0112829</td>\n",
       "            </tr>\n",
       "            <tr>\n",
       "                                <td id=\"T_5cd19188_f847_11e9_89b0_37e6f8aa45berow110_col0\" class=\"data row110 col0\" >books & reference;education</td>\n",
       "                        <td id=\"T_5cd19188_f847_11e9_89b0_37e6f8aa45berow110_col1\" class=\"data row110 col1\" >0.0112829</td>\n",
       "            </tr>\n",
       "            <tr>\n",
       "                                <td id=\"T_5cd19188_f847_11e9_89b0_37e6f8aa45berow111_col0\" class=\"data row111 col0\" >art & design;pretend play</td>\n",
       "                        <td id=\"T_5cd19188_f847_11e9_89b0_37e6f8aa45berow111_col1\" class=\"data row111 col1\" >0.0112829</td>\n",
       "            </tr>\n",
       "            <tr>\n",
       "                                <td id=\"T_5cd19188_f847_11e9_89b0_37e6f8aa45berow112_col0\" class=\"data row112 col0\" >art & design;action & adventure</td>\n",
       "                        <td id=\"T_5cd19188_f847_11e9_89b0_37e6f8aa45berow112_col1\" class=\"data row112 col1\" >0.0112829</td>\n",
       "            </tr>\n",
       "            <tr>\n",
       "                                <td id=\"T_5cd19188_f847_11e9_89b0_37e6f8aa45berow113_col0\" class=\"data row113 col0\" >arcade;pretend play</td>\n",
       "                        <td id=\"T_5cd19188_f847_11e9_89b0_37e6f8aa45berow113_col1\" class=\"data row113 col1\" >0.0112829</td>\n",
       "            </tr>\n",
       "            <tr>\n",
       "                                <td id=\"T_5cd19188_f847_11e9_89b0_37e6f8aa45berow114_col0\" class=\"data row114 col0\" >adventure;education</td>\n",
       "                        <td id=\"T_5cd19188_f847_11e9_89b0_37e6f8aa45berow114_col1\" class=\"data row114 col1\" >0.0112829</td>\n",
       "            </tr>\n",
       "            <tr>\n",
       "                                <td id=\"T_5cd19188_f847_11e9_89b0_37e6f8aa45berow115_col0\" class=\"data row115 col0\" ></td>\n",
       "                        <td id=\"T_5cd19188_f847_11e9_89b0_37e6f8aa45berow115_col1\" class=\"data row115 col1\" >0.0112829</td>\n",
       "            </tr>\n",
       "    </tbody></table>"
      ],
      "text/plain": [
       "<pandas.io.formats.style.Styler at 0x7f31f9aa4710>"
      ]
     },
     "execution_count": 33,
     "metadata": {},
     "output_type": "execute_result"
    }
   ],
   "source": [
    "print('Frequency table: Google, column \\'Genres\\':')\n",
    "print_ord_freq_table(data_Google_rel[1:], 3)"
   ]
  },
  {
   "cell_type": "markdown",
   "metadata": {},
   "source": [
    "The most common genre is “Tools” (more than 8%), followed by “Entertainment” (more than 6%) and “Education” (more than 5%). \n",
    "Again, applications designed for practical purposes seem to be more numerous than those designed for entertainment.\n",
    "\n",
    "We thus notice an important difference between the two datasets: while the Apple one is dominated by games, the Google one has more apps designed for practical purposes, and with a more diverse range of genres.\n",
    "\n",
    "As another criterion to estimate the popularity of each app genre, let us compute the average number of ratings or installs for each primary genre (Apple dataset) or genre (Google dataset). \n",
    "The function `average_by_feature` below takes as arguments a list of lists representing a dataset without header and two indices. \n",
    "The first index is that of the column containing the feature the apps are grouped by, and the second index is that of the quantity to average. \n",
    "It returns a list of triplets of the form `(feature, frequency (%), average)`. \n",
    "The function `plot_average_by_feature` uses the `matplotlib` module to plot the result."
   ]
  },
  {
   "cell_type": "code",
   "execution_count": 34,
   "metadata": {},
   "outputs": [],
   "source": [
    "from numpy import isnan\n",
    "def average_by_feature(dset, ind1, ind2):\n",
    "    '''\n",
    "    Returns a list of triplets of the form (feature, frequency, average), where\n",
    "    'feature' takes the values of index ind1 in each row, 'frequency' is its \n",
    "    frequency in %, and 'average' the average of the value with index ind1 for \n",
    "    this genre. the list is ordered by frequency.\n",
    "    \n",
    "    return type: list of triplets\n",
    "    \n",
    "    dset: list of lists\n",
    "    ind1: integer\n",
    "    ind2: integer\n",
    "    '''\n",
    "    \n",
    "    Ncols = len(dset)\n",
    "    dic_freq = {}\n",
    "    for row in dset:\n",
    "        key = row[ind1].lower() # to avoid treating names with different cases as different names\n",
    "        val = float(row[ind2].replace('+','').replace(',','')) # delete the '+' and ',' characters if present\n",
    "        if not isnan(val):\n",
    "            if key in dic_freq:\n",
    "                dic_freq[key][0] += 1\n",
    "                dic_freq[key][1] += val\n",
    "            else:\n",
    "                dic_freq[key] = [1, val]\n",
    "    table_reversed = sorted([(dic_freq[key][0]*100/Ncols, dic_freq[key][1]/dic_freq[key][0], key) for key in dic_freq], reverse=True)\n",
    "    return [(el[2], el[0], el[1]) for el in table_reversed]\n",
    "\n",
    "def plot_average_by_feature(dset, ind1, ind2):\n",
    "    oftable = average_by_feature(dset, ind1, ind2)\n",
    "    plt.bar(range(len(oftable)), [triplet[2] for triplet in oftable])\n",
    "    plt.xticks(range(len(oftable)), [triplet[0] for triplet in oftable], rotation='vertical')\n",
    "    plt.ylabel('average')\n",
    "    plt.show()"
   ]
  },
  {
   "cell_type": "code",
   "execution_count": 35,
   "metadata": {},
   "outputs": [
    {
     "name": "stdout",
     "output_type": "stream",
     "text": [
      "Apple dataset: average of the number of ratings\n"
     ]
    },
    {
     "data": {
      "image/png": "[encoded data removed]",
      "text/plain": [
       "<Figure size 432x288 with 1 Axes>"
      ]
     },
     "metadata": {
      "needs_background": "light"
     },
     "output_type": "display_data"
    }
   ],
   "source": [
    "print('Apple dataset: average of the number of ratings')\n",
    "plot_average_by_feature(data_Apple_rel[1:], 2, 5)"
   ]
  },
  {
   "cell_type": "markdown",
   "metadata": {},
   "source": [
    "Games have, on average, a bit less than 20000 ratings. This is much less than  Reference apps, which have more than 67000 ratings on average, as well as Social Networking and Weather, which both have close to or more than 50000 ratings on average. \n",
    "Excluding Reference apps, which have a frequency of less than 1%, Social Networking now seems the most promising genre for designing a popular app.\n",
    "\n",
    "Let us do the same for the Google dataset. \n",
    "One difficulty is that the given number of installs is not very precise. \n",
    "However, since there seems to be more apps with a small number of installs, and since we do not need precise results, it seems sensible to assume that all apps with a number of downloads noted as `N+` for some integer N have been installed exactly N times. \n",
    "For the genre, we will use the column `Category`, which has less different values than `Genres`."
   ]
  },
  {
   "cell_type": "code",
   "execution_count": 36,
   "metadata": {},
   "outputs": [
    {
     "name": "stdout",
     "output_type": "stream",
     "text": [
      "Google dataset: average of the number of instals\n"
     ]
    },
    {
     "data": {
      "image/png": "[encoded data removed]",
      "text/plain": [
       "<Figure size 432x288 with 1 Axes>"
      ]
     },
     "metadata": {
      "needs_background": "light"
     },
     "output_type": "display_data"
    }
   ],
   "source": [
    "print('Google dataset: average of the number of instals')\n",
    "plot_average_by_feature(data_Google_rel[1:], 0, 5)"
   ]
  },
  {
   "cell_type": "markdown",
   "metadata": {},
   "source": [
    "The apps with highest average numbers of installs seem to be those in the `Communication` and `Social` categories (which, I assume, include social networking apps). \n",
    "From this, and the previous result, it seems that **a social networking app has the potential to be popular on both app stores**. \n",
    "Let us now see if the average rating supports this conclusion."
   ]
  },
  {
   "cell_type": "code",
   "execution_count": 37,
   "metadata": {},
   "outputs": [
    {
     "name": "stdout",
     "output_type": "stream",
     "text": [
      "Apple dataset: average rating\n"
     ]
    },
    {
     "data": {
      "image/png": "[encoded data removed]",
      "text/plain": [
       "<Figure size 432x288 with 1 Axes>"
      ]
     },
     "metadata": {
      "needs_background": "light"
     },
     "output_type": "display_data"
    }
   ],
   "source": [
    "print('Apple dataset: average rating')\n",
    "plot_average_by_feature(data_Apple_rel[1:], 2, 6)"
   ]
  },
  {
   "cell_type": "code",
   "execution_count": 38,
   "metadata": {},
   "outputs": [
    {
     "name": "stdout",
     "output_type": "stream",
     "text": [
      "Google dataset: average rating\n"
     ]
    },
    {
     "data": {
      "image/png": "[encoded data removed]",
      "text/plain": [
       "<Figure size 432x288 with 1 Axes>"
      ]
     },
     "metadata": {
      "needs_background": "light"
     },
     "output_type": "display_data"
    }
   ],
   "source": [
    "print('Google dataset: average rating')\n",
    "plot_average_by_feature(data_Google_rel[1:], 0, 6)"
   ]
  },
  {
   "cell_type": "markdown",
   "metadata": {},
   "source": [
    "There is little variation of the rating with category in the Google dataset. \n",
    "However, social networking apps have an average rating just under 3 in the Apple dataset, which is a bit lower than the average over all apps. \n",
    "This is probably not enough to question the above conslusion as there is (as far as I can see) no clear link between the average rating of a genre and how its popularity will evolve in the future. \n",
    "A more complete analysis would be required to estimate how this relatively weak rating average may impact the profitability of a social networking app. \n",
    "It may be particularly relevent if in-app purchases or subscriptions are included, as users may be more willing to pay for an app they like. \n",
    "\n",
    "One possibility to mitigate this weakness is to focus the app on photo and video sharing, *e.g.* by adding basic photo editing features (filters, resizing, operations on colors) and allowing users to exchange them effortlessly. \n",
    "Photo and video apps are quite well-rated on the Apple store, and photo apps are relatively popular on both stores. \n",
    "To make this idea more precise, one could imagine something half-way between Facebook and Instagram, focused on the exchange of photos, the buildng of private, semi-private, and public photo albums, and discussions on subjects related to or triggered by photography.\n",
    "\n",
    "### Size\n",
    "\n",
    "*This section should be rewritten using Pandas for clarity and performance*\n",
    "\n",
    "Let us now study the relations between the app size, number of ratings / installs, and rating. \n",
    "We start with the Apple dataset."
   ]
  },
  {
   "cell_type": "code",
   "execution_count": 39,
   "metadata": {},
   "outputs": [
    {
     "data": {
      "image/png": "[encoded data removed]",
      "text/plain": [
       "<Figure size 432x288 with 1 Axes>"
      ]
     },
     "metadata": {
      "needs_background": "light"
     },
     "output_type": "display_data"
    },
    {
     "data": {
      "image/png": "[encoded data removed]",
      "text/plain": [
       "<Figure size 432x288 with 1 Axes>"
      ]
     },
     "metadata": {
      "needs_background": "light"
     },
     "output_type": "display_data"
    }
   ],
   "source": [
    "apple_sizes = [int(row[0]) for row in data_Apple_rel[1:]]\n",
    "apple_ratings = [float(row[-1]) for row in data_Apple_rel[1:]]\n",
    "apple_rating_counts = [int(row[-2]) for row in data_Apple_rel[1:]] \n",
    "\n",
    "plt.scatter(apple_sizes, apple_ratings)\n",
    "plt.xlabel('size (bytes)')\n",
    "plt.ylabel('rating')\n",
    "plt.title('Average Rating vs App Size (Apple)')\n",
    "plt.show()\n",
    "\n",
    "plt.scatter(apple_sizes, apple_rating_counts)\n",
    "plt.xlabel('size (bytes)')\n",
    "plt.ylabel('rating counts')\n",
    "plt.title('Rating Count vs App Size (Apple)')\n",
    "plt.show()"
   ]
  },
  {
   "cell_type": "markdown",
   "metadata": {},
   "source": [
    "There is no clear correlation between the app size and its average rating nor rating count. \n",
    "Let us plot histograms of the averaged average rating and rating counts for apps with sizes in different intervals:"
   ]
  },
  {
   "cell_type": "code",
   "execution_count": 40,
   "metadata": {},
   "outputs": [
    {
     "data": {
      "image/png": "[encoded data removed]",
      "text/plain": [
       "<Figure size 432x288 with 1 Axes>"
      ]
     },
     "metadata": {
      "needs_background": "light"
     },
     "output_type": "display_data"
    },
    {
     "data": {
      "image/png": "[encoded data removed]",
      "text/plain": [
       "<Figure size 432x288 with 1 Axes>"
      ]
     },
     "metadata": {
      "needs_background": "light"
     },
     "output_type": "display_data"
    }
   ],
   "source": [
    "# centres of the intervals of app sizes to be considered\n",
    "list_size_Apple = [10**9*(i+1)/10 for i in range(10)]\n",
    "# boundaries of intervals of app sizes to be considered\n",
    "boundaries_size_Apple = [0.5*(list_size_Apple[i] + list_size_Apple[i+1]) for i in range(len(list_size_Apple)-1)]\n",
    "\n",
    "# will contain all ratings of apps with sizes in each interval\n",
    "list_rating_by_size_Apple = [[] for _ in list_size_Apple]\n",
    "# will contain all rating counts of apps with sizes in each interval\n",
    "list_rating_count_by_size_Apple = [[] for _ in list_size_Apple]\n",
    "for j, row in enumerate(data_Apple_rel[1:]): # exclude the header\n",
    "    # append the rating and rating count to the correct lists\n",
    "    for i, boundary in enumerate(boundaries_size_Apple):\n",
    "        if apple_sizes[j] < boundary:\n",
    "            list_rating_by_size_Apple[i].append(float(row[-1]))\n",
    "            list_rating_count_by_size_Apple[i].append(int(row[-2]))\n",
    "            break\n",
    "    if apple_sizes[j] > boundaries_size_Apple[-1]:\n",
    "        list_rating_by_size_Apple[-1].append(float(data_Apple_rel[j+1][-1])) # j+1 since the first row is the header\n",
    "        list_rating_count_by_size_Apple[-1].append(int(data_Apple_rel[j+1][-2])) # j+1 since the first row is the header\n",
    "\n",
    "# average and standard error of the average rating by interval of app sizes\n",
    "ave_list_rating_by_size_Apple = list(map(ave, list_rating_by_size_Apple))\n",
    "ste_list_rating_by_size_Apple = list(map(lambda x: std(x)/sqrt(len(x)), list_rating_by_size_Apple))\n",
    "\n",
    "# average and standard error of the rating count by interval of app sizes\n",
    "ave_list_rating_count_by_size_Apple = list(map(ave, list_rating_count_by_size_Apple))\n",
    "ste_list_rating_count_by_size_Apple = list(map(lambda x: std(x)/sqrt(len(x)), list_rating_count_by_size_Apple))\n",
    "            \n",
    "histo(boundaries_size_Apple, ave_list_rating_by_size_Apple, xmin = '0', yerr = ste_list_rating_by_size_Apple)\n",
    "plt.xlabel('App Size (Bytes)')\n",
    "plt.ylabel('Average rating')\n",
    "plt.title('Apple')\n",
    "plt.show()\n",
    "\n",
    "histo(boundaries_size_Apple, ave_list_rating_count_by_size_Apple, xmin = '0', yerr = ste_list_rating_count_by_size_Apple)\n",
    "plt.xlabel('App Size (Bytes)')\n",
    "plt.ylabel('Average rating count')\n",
    "plt.title('Apple')\n",
    "plt.show()"
   ]
  },
  {
   "cell_type": "markdown",
   "metadata": {},
   "source": [
    "**The variations in the average ratings and rating counts with the app size in the Apple dataset do not seem statistically significant.**\n",
    "\n",
    "Let us now turn to the Google dataset:"
   ]
  },
  {
   "cell_type": "code",
   "execution_count": 41,
   "metadata": {},
   "outputs": [
    {
     "data": {
      "image/png": "[encoded data removed]",
      "text/plain": [
       "<Figure size 432x288 with 1 Axes>"
      ]
     },
     "metadata": {
      "needs_background": "light"
     },
     "output_type": "display_data"
    },
    {
     "data": {
      "image/png": "[encoded data removed]",
      "text/plain": [
       "<Figure size 432x288 with 1 Axes>"
      ]
     },
     "metadata": {
      "needs_background": "light"
     },
     "output_type": "display_data"
    }
   ],
   "source": [
    "def google_size_to_float(st): # convert to a float if possible, returns -1 otherwises\n",
    "    try:\n",
    "        return float(st.replace('M',''))\n",
    "    except:\n",
    "        return -1\n",
    "\n",
    "google_sizes = [google_size_to_float(row[1]) for row in data_Google_rel[1:]]\n",
    "google_ratings = [float(row[-1]) for row in data_Google_rel[1:]]\n",
    "google_rating_counts = [int(row[-2].replace('+','').replace(',','')) for row in data_Google_rel[1:]] \n",
    "\n",
    "plt.scatter(google_sizes, google_ratings)\n",
    "plt.xlabel('size (MB)')\n",
    "plt.ylabel('rating')\n",
    "plt.title('Average Rating vs App Size (Google)')\n",
    "plt.show()\n",
    "\n",
    "plt.scatter(google_sizes, google_rating_counts)\n",
    "plt.xlabel('size (MB)')\n",
    "plt.ylabel('number of installs')\n",
    "plt.title('Number of Installs vs App Size (Google)')\n",
    "plt.show()"
   ]
  },
  {
   "cell_type": "markdown",
   "metadata": {},
   "source": [
    "Again, there does not seem to be any clear relation. \n",
    "Let us look at that more precisely."
   ]
  },
  {
   "cell_type": "code",
   "execution_count": 42,
   "metadata": {},
   "outputs": [
    {
     "data": {
      "image/png": "[encoded data removed]",
      "text/plain": [
       "<Figure size 432x288 with 1 Axes>"
      ]
     },
     "metadata": {
      "needs_background": "light"
     },
     "output_type": "display_data"
    },
    {
     "data": {
      "image/png": "[encoded data removed]",
      "text/plain": [
       "<Figure size 432x288 with 1 Axes>"
      ]
     },
     "metadata": {
      "needs_background": "light"
     },
     "output_type": "display_data"
    }
   ],
   "source": [
    "from math import isnan\n",
    "\n",
    "# centres of the intervals of app sizes to be considered\n",
    "list_size_Google = [90*(i+1)/10 for i in range(11)]\n",
    "# boundaries of intervals of app sizes to be considered\n",
    "boundaries_size_Google = [0.5*(list_size_Google[i] + list_size_Google[i+1]) for i in range(len(list_size_Google)-1)]\n",
    "\n",
    "# will contain all ratings of apps with sizes in each interval\n",
    "list_rating_by_size_Google = [[] for _ in list_size_Google]\n",
    "# will contain all numbers of installs of apps with sizes in each interval\n",
    "list_installs_by_size_Google = [[] for _ in list_size_Google]\n",
    "for j, row in enumerate(data_Google_rel[1:]): # exclude the header\n",
    "    if(google_sizes[j] > 0):\n",
    "        # append the rating and number of installs to the correct lists\n",
    "        for i, boundary in enumerate(boundaries_size_Google):\n",
    "            if google_sizes[j] < boundary:\n",
    "                if not isnan(float(row[-1])):\n",
    "                    list_rating_by_size_Google[i].append(float(row[-1]))\n",
    "                list_installs_by_size_Google[i].append(int(row[-2].replace('+','').replace(',','')))\n",
    "                break\n",
    "        if google_sizes[j] > boundaries_size_Google[-1]:\n",
    "            list_rating_by_size_Google[-1].append(float(data_Google_rel[j+1][-1])) # j+1 since the first row is the header\n",
    "            list_installs_by_size_Google[-1].append(int(data_Google_rel[j+1][-2].replace('+','').replace(',',''))) # j+1 since the first row is the header\n",
    "\n",
    "# average and standard error of the average rating by interval of app sizes\n",
    "ave_list_rating_by_size_Google = list(map(ave, list_rating_by_size_Google))\n",
    "ste_list_rating_by_size_Google = list(map(lambda x: std(x)/sqrt(len(x)), list_rating_by_size_Google))\n",
    "\n",
    "# average and standard error of the rating count by interval of app sizes\n",
    "ave_list_installs_by_size_Google = list(map(ave, list_installs_by_size_Google))\n",
    "ste_list_installs_by_size_Google = list(map(lambda x: std(x)/sqrt(len(x)), list_installs_by_size_Google))\n",
    "            \n",
    "histo(boundaries_size_Google, ave_list_rating_by_size_Google, xmin = '0', yerr = ste_list_rating_by_size_Google)\n",
    "plt.xlabel('App Size (Bytes)')\n",
    "plt.ylabel('Average rating')\n",
    "plt.title('Google')\n",
    "plt.ylim(3.8,4.4)\n",
    "plt.show()\n",
    "\n",
    "histo(boundaries_size_Google, ave_list_installs_by_size_Google, xmin = '0', yerr = ste_list_installs_by_size_Google)\n",
    "plt.xlabel('App Size (MB)')\n",
    "plt.ylabel('Number of installs')\n",
    "plt.title('Google')\n",
    "plt.show()"
   ]
  },
  {
   "cell_type": "markdown",
   "metadata": {},
   "source": [
    "**The variations in the average ratings and number of installs with the app size in the Google dataset do not seem statistically significant.**"
   ]
  },
  {
   "cell_type": "markdown",
   "metadata": {},
   "source": [
    "### Content rating\n",
    "\n",
    "Let us now discuss the contnt rating. \n",
    "Like the previous one, this section could be rewritten using Pandas to improve code readability and performance. \n",
    "We will, however, use vanilla Python for educational purpose.\n",
    "\n",
    "We start by analysing the Apple dataset: "
   ]
  },
  {
   "cell_type": "code",
   "execution_count": 43,
   "metadata": {},
   "outputs": [
    {
     "data": {
      "image/png": "[encoded data removed]",
      "text/plain": [
       "<Figure size 432x288 with 1 Axes>"
      ]
     },
     "metadata": {
      "needs_background": "light"
     },
     "output_type": "display_data"
    },
    {
     "data": {
      "image/png": "[encoded data removed]",
      "text/plain": [
       "<Figure size 432x288 with 1 Axes>"
      ]
     },
     "metadata": {
      "needs_background": "light"
     },
     "output_type": "display_data"
    }
   ],
   "source": [
    "index_contenrating_Apple = 1\n",
    "\n",
    "# keys: content ratings cast as integers\n",
    "# values: lists of the ratings\n",
    "dict_Apple_contentrating_rating = {}\n",
    "\n",
    "# keys: content ratings cast as integers\n",
    "# values: lists of the rating counts\n",
    "dict_Apple_contentrating_count = {}\n",
    "\n",
    "for row in data_Apple_rel[1:]:\n",
    "    contentrating = int(row[index_contenrating_Apple].replace('+',''))\n",
    "    if contentrating in dict_Apple_contentrating_rating:\n",
    "        dict_Apple_contentrating_rating[contentrating].append(float(row[-1]))\n",
    "        dict_Apple_contentrating_count[contentrating].append(int(row[-2]))\n",
    "    else: \n",
    "        dict_Apple_contentrating_rating[contentrating] = [float(row[-1])]\n",
    "        dict_Apple_contentrating_count[contentrating] = [int(row[-2])]\n",
    "\n",
    "# average values of the ratings\n",
    "dict_Apple_contentrating_ave_rating = {}\n",
    "# standard error of the ratings\n",
    "dict_Apple_contentrating_ste_rating = {}\n",
    "# average values of the counts\n",
    "dict_Apple_contentrating_ave_count = {}\n",
    "# standard error of the counts\n",
    "dict_Apple_contentrating_ste_count = {}\n",
    "\n",
    "for key in dict_Apple_contentrating_rating: \n",
    "    ratings = dict_Apple_contentrating_rating[key]\n",
    "    counts = dict_Apple_contentrating_count[key]\n",
    "    N_apps = len(ratings)\n",
    "    dict_Apple_contentrating_ave_rating[key] = ave(ratings)\n",
    "    dict_Apple_contentrating_ste_rating[key] = std(ratings)/sqrt(N_apps)\n",
    "    dict_Apple_contentrating_ave_count[key] = ave(counts)\n",
    "    dict_Apple_contentrating_ste_count[key] = std(counts)/sqrt(N_apps)\n",
    "\n",
    "# turn the results into lists, sorted by content rating\n",
    "\n",
    "Apple_contentrating_ave_rating = list(zip(*sorted(dict_Apple_contentrating_ave_rating.items())))\n",
    "Apple_contentrating_ste_rating = list(zip(*sorted(dict_Apple_contentrating_ste_rating.items())))\n",
    "\n",
    "Apple_contentrating_ave_count = list(zip(*sorted(dict_Apple_contentrating_ave_count.items())))\n",
    "Apple_contentrating_ste_count = list(zip(*sorted(dict_Apple_contentrating_ste_count.items())))\n",
    "    \n",
    "# plot the results \n",
    "\n",
    "x = Apple_contentrating_ave_rating[0]\n",
    "y = Apple_contentrating_ave_rating[1]\n",
    "yerr = Apple_contentrating_ste_rating[1]\n",
    "plt.bar(range(len(x)), y, yerr = yerr)\n",
    "plt.xticks(range(len(x)), map(lambda z: str(z)+'+', x), rotation='vertical')\n",
    "plt.xlabel('Content Rating')\n",
    "plt.ylabel('Average Rating')\n",
    "plt.title('Rating vs Content Rating on the Apple App Store')\n",
    "plt.show()\n",
    "\n",
    "x = Apple_contentrating_ave_count[0]\n",
    "y = Apple_contentrating_ave_count[1]\n",
    "yerr = Apple_contentrating_ste_count[1]\n",
    "plt.bar(range(len(x)), y, yerr = yerr)\n",
    "plt.xticks(range(len(x)), map(lambda z: str(z)+'+', x), rotation='vertical')\n",
    "plt.xlabel('Content Rating')\n",
    "plt.ylabel('Number of Ratings')\n",
    "plt.title('Number of Ratings vs Content Rating on the Apple App Store')\n",
    "plt.show()"
   ]
  },
  {
   "cell_type": "markdown",
   "metadata": {},
   "source": [
    "It seems that *apps with 17+ rated content have a lower average rating and number of ratings than the others*. \n",
    "\n",
    "Let us see if the same conclusion holds for the Google dataset:"
   ]
  },
  {
   "cell_type": "code",
   "execution_count": 44,
   "metadata": {},
   "outputs": [
    {
     "data": {
      "image/png": "[encoded data removed]",
      "text/plain": [
       "<Figure size 432x288 with 1 Axes>"
      ]
     },
     "metadata": {
      "needs_background": "light"
     },
     "output_type": "display_data"
    },
    {
     "data": {
      "image/png": "[encoded data removed]",
      "text/plain": [
       "<Figure size 432x288 with 1 Axes>"
      ]
     },
     "metadata": {
      "needs_background": "light"
     },
     "output_type": "display_data"
    }
   ],
   "source": [
    "index_contenrating_Google = 2\n",
    "\n",
    "\n",
    "# keys: content ratings cast as integers\n",
    "# values: lists of the ratings\n",
    "dict_Google_contentrating_rating = {}\n",
    "\n",
    "# keys: content ratings cast as integers\n",
    "# values: lists of the rating counts\n",
    "dict_Google_contentrating_count = {}\n",
    "\n",
    "for row in data_Google_rel[1:]:\n",
    "    contentrating = row[index_contenrating_Google]\n",
    "    rating = float(row[-1])\n",
    "    count = int(row[-2].replace('+','').replace(',',''))\n",
    "    if contentrating in dict_Google_contentrating_rating:\n",
    "        if not isnan(rating): dict_Google_contentrating_rating[contentrating].append(rating)\n",
    "        if not isnan(count): dict_Google_contentrating_count[contentrating].append(count)\n",
    "    else: \n",
    "        if not isnan(rating): dict_Google_contentrating_rating[contentrating] = [rating]\n",
    "        if not isnan(count): dict_Google_contentrating_count[contentrating] = [count]\n",
    "\n",
    "# average values of the ratings\n",
    "dict_Google_contentrating_ave_rating = {}\n",
    "# standard error of the ratings\n",
    "dict_Google_contentrating_ste_rating = {}\n",
    "# average values of the counts\n",
    "dict_Google_contentrating_ave_count = {}\n",
    "# standard error of the counts\n",
    "dict_Google_contentrating_ste_count = {}\n",
    "\n",
    "for key in dict_Google_contentrating_rating: \n",
    "    ratings = dict_Google_contentrating_rating[key]\n",
    "    counts = dict_Google_contentrating_count[key]\n",
    "    N_apps = len(ratings)\n",
    "    dict_Google_contentrating_ave_rating[key] = ave(ratings)\n",
    "    dict_Google_contentrating_ste_rating[key] = std(ratings)/sqrt(N_apps)\n",
    "    dict_Google_contentrating_ave_count[key] = ave(counts)\n",
    "    dict_Google_contentrating_ste_count[key] = std(counts)/sqrt(N_apps)\n",
    "\n",
    "# turn the results into lists, sorted by content rating\n",
    "\n",
    "Google_contentrating_ave_rating = list(zip(*sorted(dict_Google_contentrating_ave_rating.items())))\n",
    "Google_contentrating_ste_rating = list(zip(*sorted(dict_Google_contentrating_ste_rating.items())))\n",
    "\n",
    "Google_contentrating_ave_count = list(zip(*sorted(dict_Google_contentrating_ave_count.items())))\n",
    "Google_contentrating_ste_count = list(zip(*sorted(dict_Google_contentrating_ste_count.items())))\n",
    "    \n",
    "# plot the results \n",
    "\n",
    "x = Google_contentrating_ave_rating[0]\n",
    "y = Google_contentrating_ave_rating[1]\n",
    "yerr = Google_contentrating_ste_rating[1]\n",
    "plt.bar(range(len(x)), y, yerr = yerr)\n",
    "plt.ylim(3.8, 4.7)\n",
    "plt.xticks(range(len(x)), x, rotation='vertical')\n",
    "plt.xlabel('Content Rating')\n",
    "plt.ylabel('Average Rating')\n",
    "plt.title('Rating vs Content Rating on the Google Play Store')\n",
    "plt.show()\n",
    "\n",
    "x = Google_contentrating_ave_count[0]\n",
    "y = Google_contentrating_ave_count[1]\n",
    "yerr = Google_contentrating_ste_count[1]\n",
    "plt.bar(range(len(x)), y, yerr = yerr)\n",
    "plt.xticks(range(len(x)), x, rotation='vertical')\n",
    "plt.xlabel('Content Rating')\n",
    "plt.ylabel('Number of Installs')\n",
    "plt.title('Number of Ratings vs Content Rating on the Google Play Store')\n",
    "plt.show()"
   ]
  },
  {
   "cell_type": "markdown",
   "metadata": {},
   "source": [
    "The averaged rating does not seem to be affected by the content rating in a significant way, although one might argue that apps rated “Everyone 10+” and “Teen” fare marginally better. \n",
    "Similarly, these apps have a larger number of installs than the others, while the “Adult only” apps have significantly less installs. \n",
    "(There is only one unreted app, so this column is not significant.)\n",
    "\n",
    "Overall, there is a **marginally significant case that apps rated 17+ or 18+ are less popular than the others**.\n",
    "\n",
    "## Conclusion \n",
    "\n",
    "In this short project, we studied the popularity of apps on the Apple App and Google Play stores, focusing on their average ratings and numbers of ratings or installs. \n",
    "We argued that a social networking app focused on photo/video sharing has the potential to be popular on both stores. \n",
    "We found that the app's content rating seems to marginally affect its popularity, with apps rated 17+ or 18+ tending to be less popular than the others. \n",
    "\n",
    "It would be interesting to perform the same study with more recent data to see how these results change in time. "
   ]
  }
 ],
 "metadata": {
  "kernelspec": {
   "display_name": "Python 3",
   "language": "python",
   "name": "python3"
  },
  "language_info": {
   "codemirror_mode": {
    "name": "ipython",
    "version": 3
   },
   "file_extension": ".py",
   "mimetype": "text/x-python",
   "name": "python",
   "nbconvert_exporter": "python",
   "pygments_lexer": "ipython3",
   "version": "3.7.3"
  }
 },
 "nbformat": 4,
 "nbformat_minor": 4
}
