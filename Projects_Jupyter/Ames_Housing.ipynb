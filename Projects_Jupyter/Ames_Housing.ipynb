{
 "cells": [
  {
   "cell_type": "markdown",
   "metadata": {},
   "source": [
    "# Using Linear Regression to predict house sale prices *(Work In Progress)*\n",
    "\n",
    "In this project we illustrate how to set-up a machine-learning workflow and test its results on the example of house sales in Ames, Iowa.\n",
    "\n",
    "## Setting-up the workflow\n",
    "\n",
    "In this section we define a general function to help set-up the machine-learning workflow. \n",
    "We first import the modules we will need: "
   ]
  },
  {
   "cell_type": "code",
   "execution_count": 1,
   "metadata": {},
   "outputs": [],
   "source": [
    "import pandas as pd\n",
    "import numpy as np\n",
    "import matplotlib.pyplot as plt\n",
    "from sklearn.metrics import mean_squared_error\n",
    "from sklearn.linear_model import LinearRegression\n",
    "from sklearn.model_selection import KFold"
   ]
  },
  {
   "cell_type": "markdown",
   "metadata": {},
   "source": [
    "We then define the function `train_and_test` which trains a model and returns the error between its prediction and the true data. \n",
    "Its parameters are: \n",
    "* `data`: the dataframe used to train and test the model, \n",
    "* `target`: the name of the target column, \n",
    "* `model`: the model to be trained and tested (by default, a linear regression model), \n",
    "* `error_function`: the error function to be used (by default, the root mean squared error divided by the standard error), \n",
    "* `features`: the list of names of columns to be used as features (by default, all numerical columns except `target`), \n",
    "* `n_train`: the number of rows to be used for training (by default, approximatelu 80% of the dataset), \n",
    "* `randomize`: whether the rows of the dataframe should be randomly re-ordered before the separation into training and test sets (by default, `True`),\n",
    "* `k`: the number of folds if larger than 1 (in which case `n_train` is not used); if 1 or smaller, a simple training / test division is performed."
   ]
  },
  {
   "cell_type": "code",
   "execution_count": 2,
   "metadata": {},
   "outputs": [],
   "source": [
    "def train_and_test(data, target, \n",
    "                   model = LinearRegression(), \n",
    "                   error_function = lambda y1, y2: np.sqrt(mean_squared_error(y1,y2)) / y2.std(), \n",
    "                   features = None, \n",
    "                   n_train = 0, \n",
    "                   randomize = True,\n",
    "                   k = 0): \n",
    "    '''\n",
    "    Divides data into a training set and a test set, trains model on the \n",
    "        training set, compute its prediction for the test set, and returns the \n",
    "        error. \n",
    "    \n",
    "    If features is None, the features are all the numerical columns except \n",
    "        target.\n",
    "    If n_train is 0, the training set contains close to 80% of the rows of data.\n",
    "    If randomize is True, the rows of data are randomly reschuffled before the\n",
    "        division into training and test sets. \n",
    "    \n",
    "    data: pandas dataframe\n",
    "    target: name of a numericla column in data\n",
    "    model: sklearn model\n",
    "    error_function: a function taking two series as argument and returning a \n",
    "        float\n",
    "    features: list of names of columns of data or None\n",
    "    n_train: positive integer or 0\n",
    "    randomize: bool\n",
    "    k: integer\n",
    "    '''\n",
    "    \n",
    "    # if randomize is True, randomly re-order the dataset\n",
    "    if(randomize):\n",
    "        data = data.sample(frac=1)\n",
    "    \n",
    "    # if features is not given take all the numerical columns except target\n",
    "    if features is None: \n",
    "        features = list(data.select_dtypes(include=[np.number]).columns)\n",
    "        features.remove(target)\n",
    "    \n",
    "    if(k <= 1):\n",
    "    \n",
    "        # if n_train is not given, take 80% of the data\n",
    "        if n_train == 0:\n",
    "            n_train = int(0.8*data.shape[0])\n",
    "\n",
    "        # features for the training set\n",
    "        X_train = data[features].iloc[:n_train]\n",
    "\n",
    "        # target for the training set\n",
    "        y_train = data[target].iloc[:n_train]\n",
    "\n",
    "        # features for the test set\n",
    "        X_test = data[features].iloc[n_train:]\n",
    "\n",
    "        # target for the test set\n",
    "        y_test = data[target].iloc[n_train:] \n",
    "\n",
    "        # fit the model on the training set\n",
    "        model.fit(X_train, y_train)\n",
    "\n",
    "        # compute and return the error function\n",
    "        return error_function(model.predict(X_test), y_test)\n",
    "    \n",
    "    else: \n",
    "        \n",
    "        errors = []\n",
    "        kf = KFold(n_splits = k, shuffle = randomize)\n",
    "        for train_index, test_index, in kf.split(data):\n",
    "            X_train = data[features].iloc[train_index]\n",
    "            y_train = data[target].iloc[train_index]\n",
    "            X_test = data[features].iloc[test_index]\n",
    "            y_test = data[target].iloc[test_index]\n",
    "            model.fit(X_train, y_train)\n",
    "            errors.append(error_function(model.predict(X_test), y_test))\n",
    "        print(errors)\n",
    "        print('Mean error: ' + str(np.mean(errors)))"
   ]
  },
  {
   "cell_type": "markdown",
   "metadata": {},
   "source": [
    "### Description of the dataset\n",
    "\n",
    "The data we will use, in the file `AmesHousing.txt`, is a [dataset on house sales in Ames from 2006 to 2010](http://www.amstat.org/publications/jse/v19n3/decock/AmesHousing.xls). \n",
    "It was compiled by Dean De Cock from Truman State University and is described in details in [this article of the Journal of Statistics Education](https://doi.org/10.1080/10691898.2011.11889627). \n",
    "The documentation is available [here](http://jse.amstat.org/v19n3/decock/DataDocumentation.txt).\n",
    "It contains, according to the article, 80 columns related to house sales, among which are 20 continuous variables, 14 discrete ones, 23 ordinal ones, and 23 cardinal ones.\n",
    "\n",
    "Let us import it, check the number of columns, and print the first few lines:"
   ]
  },
  {
   "cell_type": "code",
   "execution_count": 3,
   "metadata": {},
   "outputs": [
    {
     "data": {
      "text/html": [
       "<div>\n",
       "<style scoped>\n",
       "    .dataframe tbody tr th:only-of-type {\n",
       "        vertical-align: middle;\n",
       "    }\n",
       "\n",
       "    .dataframe tbody tr th {\n",
       "        vertical-align: top;\n",
       "    }\n",
       "\n",
       "    .dataframe thead th {\n",
       "        text-align: right;\n",
       "    }\n",
       "</style>\n",
       "<table border=\"1\" class=\"dataframe\">\n",
       "  <thead>\n",
       "    <tr style=\"text-align: right;\">\n",
       "      <th></th>\n",
       "      <th>Order</th>\n",
       "      <th>PID</th>\n",
       "      <th>MS SubClass</th>\n",
       "      <th>MS Zoning</th>\n",
       "      <th>Lot Frontage</th>\n",
       "      <th>Lot Area</th>\n",
       "      <th>Street</th>\n",
       "      <th>Alley</th>\n",
       "      <th>Lot Shape</th>\n",
       "      <th>Land Contour</th>\n",
       "      <th>...</th>\n",
       "      <th>Pool Area</th>\n",
       "      <th>Pool QC</th>\n",
       "      <th>Fence</th>\n",
       "      <th>Misc Feature</th>\n",
       "      <th>Misc Val</th>\n",
       "      <th>Mo Sold</th>\n",
       "      <th>Yr Sold</th>\n",
       "      <th>Sale Type</th>\n",
       "      <th>Sale Condition</th>\n",
       "      <th>SalePrice</th>\n",
       "    </tr>\n",
       "  </thead>\n",
       "  <tbody>\n",
       "    <tr>\n",
       "      <th>0</th>\n",
       "      <td>1</td>\n",
       "      <td>526301100</td>\n",
       "      <td>20</td>\n",
       "      <td>RL</td>\n",
       "      <td>141.0</td>\n",
       "      <td>31770</td>\n",
       "      <td>Pave</td>\n",
       "      <td>NaN</td>\n",
       "      <td>IR1</td>\n",
       "      <td>Lvl</td>\n",
       "      <td>...</td>\n",
       "      <td>0</td>\n",
       "      <td>NaN</td>\n",
       "      <td>NaN</td>\n",
       "      <td>NaN</td>\n",
       "      <td>0</td>\n",
       "      <td>5</td>\n",
       "      <td>2010</td>\n",
       "      <td>WD</td>\n",
       "      <td>Normal</td>\n",
       "      <td>215000</td>\n",
       "    </tr>\n",
       "    <tr>\n",
       "      <th>1</th>\n",
       "      <td>2</td>\n",
       "      <td>526350040</td>\n",
       "      <td>20</td>\n",
       "      <td>RH</td>\n",
       "      <td>80.0</td>\n",
       "      <td>11622</td>\n",
       "      <td>Pave</td>\n",
       "      <td>NaN</td>\n",
       "      <td>Reg</td>\n",
       "      <td>Lvl</td>\n",
       "      <td>...</td>\n",
       "      <td>0</td>\n",
       "      <td>NaN</td>\n",
       "      <td>MnPrv</td>\n",
       "      <td>NaN</td>\n",
       "      <td>0</td>\n",
       "      <td>6</td>\n",
       "      <td>2010</td>\n",
       "      <td>WD</td>\n",
       "      <td>Normal</td>\n",
       "      <td>105000</td>\n",
       "    </tr>\n",
       "    <tr>\n",
       "      <th>2</th>\n",
       "      <td>3</td>\n",
       "      <td>526351010</td>\n",
       "      <td>20</td>\n",
       "      <td>RL</td>\n",
       "      <td>81.0</td>\n",
       "      <td>14267</td>\n",
       "      <td>Pave</td>\n",
       "      <td>NaN</td>\n",
       "      <td>IR1</td>\n",
       "      <td>Lvl</td>\n",
       "      <td>...</td>\n",
       "      <td>0</td>\n",
       "      <td>NaN</td>\n",
       "      <td>NaN</td>\n",
       "      <td>Gar2</td>\n",
       "      <td>12500</td>\n",
       "      <td>6</td>\n",
       "      <td>2010</td>\n",
       "      <td>WD</td>\n",
       "      <td>Normal</td>\n",
       "      <td>172000</td>\n",
       "    </tr>\n",
       "    <tr>\n",
       "      <th>3</th>\n",
       "      <td>4</td>\n",
       "      <td>526353030</td>\n",
       "      <td>20</td>\n",
       "      <td>RL</td>\n",
       "      <td>93.0</td>\n",
       "      <td>11160</td>\n",
       "      <td>Pave</td>\n",
       "      <td>NaN</td>\n",
       "      <td>Reg</td>\n",
       "      <td>Lvl</td>\n",
       "      <td>...</td>\n",
       "      <td>0</td>\n",
       "      <td>NaN</td>\n",
       "      <td>NaN</td>\n",
       "      <td>NaN</td>\n",
       "      <td>0</td>\n",
       "      <td>4</td>\n",
       "      <td>2010</td>\n",
       "      <td>WD</td>\n",
       "      <td>Normal</td>\n",
       "      <td>244000</td>\n",
       "    </tr>\n",
       "    <tr>\n",
       "      <th>4</th>\n",
       "      <td>5</td>\n",
       "      <td>527105010</td>\n",
       "      <td>60</td>\n",
       "      <td>RL</td>\n",
       "      <td>74.0</td>\n",
       "      <td>13830</td>\n",
       "      <td>Pave</td>\n",
       "      <td>NaN</td>\n",
       "      <td>IR1</td>\n",
       "      <td>Lvl</td>\n",
       "      <td>...</td>\n",
       "      <td>0</td>\n",
       "      <td>NaN</td>\n",
       "      <td>MnPrv</td>\n",
       "      <td>NaN</td>\n",
       "      <td>0</td>\n",
       "      <td>3</td>\n",
       "      <td>2010</td>\n",
       "      <td>WD</td>\n",
       "      <td>Normal</td>\n",
       "      <td>189900</td>\n",
       "    </tr>\n",
       "  </tbody>\n",
       "</table>\n",
       "<p>5 rows × 82 columns</p>\n",
       "</div>"
      ],
      "text/plain": [
       "   Order        PID  MS SubClass MS Zoning  Lot Frontage  Lot Area Street  \\\n",
       "0      1  526301100           20        RL         141.0     31770   Pave   \n",
       "1      2  526350040           20        RH          80.0     11622   Pave   \n",
       "2      3  526351010           20        RL          81.0     14267   Pave   \n",
       "3      4  526353030           20        RL          93.0     11160   Pave   \n",
       "4      5  527105010           60        RL          74.0     13830   Pave   \n",
       "\n",
       "  Alley Lot Shape Land Contour  ... Pool Area Pool QC  Fence Misc Feature  \\\n",
       "0   NaN       IR1          Lvl  ...         0     NaN    NaN          NaN   \n",
       "1   NaN       Reg          Lvl  ...         0     NaN  MnPrv          NaN   \n",
       "2   NaN       IR1          Lvl  ...         0     NaN    NaN         Gar2   \n",
       "3   NaN       Reg          Lvl  ...         0     NaN    NaN          NaN   \n",
       "4   NaN       IR1          Lvl  ...         0     NaN  MnPrv          NaN   \n",
       "\n",
       "  Misc Val Mo Sold Yr Sold Sale Type  Sale Condition  SalePrice  \n",
       "0        0       5    2010       WD           Normal     215000  \n",
       "1        0       6    2010       WD           Normal     105000  \n",
       "2    12500       6    2010       WD           Normal     172000  \n",
       "3        0       4    2010       WD           Normal     244000  \n",
       "4        0       3    2010       WD           Normal     189900  \n",
       "\n",
       "[5 rows x 82 columns]"
      ]
     },
     "execution_count": 3,
     "metadata": {},
     "output_type": "execute_result"
    }
   ],
   "source": [
    "df = pd.read_csv('../Data/AmesHousing/AmesHousing.txt', delimiter = '\\t')\n",
    "df.head()"
   ]
  },
  {
   "cell_type": "markdown",
   "metadata": {},
   "source": [
    "It seems there are actually 82 columns. \n",
    "The reason for this difference is probably that the columns `Order` (which does not give information on the actual sale) and `SalePrice` (which will be the target) were not included in the count mentioned in the article.\n",
    "Let us now determine the number of lines and see if there are missing values:"
   ]
  },
  {
   "cell_type": "code",
   "execution_count": 4,
   "metadata": {},
   "outputs": [
    {
     "name": "stdout",
     "output_type": "stream",
     "text": [
      "Number of lines: 2930\n",
      "\n",
      "Missing values:\n"
     ]
    },
    {
     "data": {
      "text/plain": [
       "Pool QC           2917\n",
       "Misc Feature      2824\n",
       "Alley             2732\n",
       "Fence             2358\n",
       "Fireplace Qu      1422\n",
       "Lot Frontage       490\n",
       "Garage Qual        159\n",
       "Garage Yr Blt      159\n",
       "Garage Cond        159\n",
       "Garage Finish      159\n",
       "Garage Type        157\n",
       "Bsmt Exposure       83\n",
       "BsmtFin Type 2      81\n",
       "BsmtFin Type 1      80\n",
       "Bsmt Cond           80\n",
       "Bsmt Qual           80\n",
       "Mas Vnr Type        23\n",
       "Mas Vnr Area        23\n",
       "Bsmt Full Bath       2\n",
       "Bsmt Half Bath       2\n",
       "Garage Area          1\n",
       "Garage Cars          1\n",
       "Total Bsmt SF        1\n",
       "Bsmt Unf SF          1\n",
       "BsmtFin SF 2         1\n",
       "BsmtFin SF 1         1\n",
       "Electrical           1\n",
       "Exterior 2nd         0\n",
       "Exterior 1st         0\n",
       "Roof Matl            0\n",
       "dtype: int64"
      ]
     },
     "execution_count": 4,
     "metadata": {},
     "output_type": "execute_result"
    }
   ],
   "source": [
    "print('Number of lines: ' + str(df.shape[0]))\n",
    "print()\n",
    "print('Missing values:')\n",
    "df.isnull().sum().sort_values(ascending=False)[:30]"
   ]
  },
  {
   "cell_type": "markdown",
   "metadata": {},
   "source": [
    "The dataframe has 2930 lines. \n",
    "27 columns among the 82 have at least one missing value. \n",
    "Among them, 5 have more than half of their values missing.\n",
    "\n",
    "## Feature Engineering\n",
    "\n",
    "### Missing values\n",
    "\n",
    "Let us first deal with the columns having many missing values. \n",
    "We start with `Pool QC`, determining the pool quality, which has the argest number of them. \n",
    "Let us see which values it contains. "
   ]
  },
  {
   "cell_type": "code",
   "execution_count": 5,
   "metadata": {},
   "outputs": [
    {
     "data": {
      "text/plain": [
       "Ex    4\n",
       "Gd    4\n",
       "TA    3\n",
       "Fa    2\n",
       "Name: Pool QC, dtype: int64"
      ]
     },
     "execution_count": 5,
     "metadata": {},
     "output_type": "execute_result"
    }
   ],
   "source": [
    "df['Pool QC'].value_counts()"
   ]
  },
  {
   "cell_type": "markdown",
   "metadata": {},
   "source": [
    "Comparing this with the documenttaion, it seems that missing values correspond to `NA`, *i.e.*, no pool. \n",
    "Let us thus replace the missing values by the string `NA`:"
   ]
  },
  {
   "cell_type": "code",
   "execution_count": 6,
   "metadata": {},
   "outputs": [
    {
     "data": {
      "text/plain": [
       "NA    2917\n",
       "Ex       4\n",
       "Gd       4\n",
       "TA       3\n",
       "Fa       2\n",
       "Name: Pool QC, dtype: int64"
      ]
     },
     "execution_count": 6,
     "metadata": {},
     "output_type": "execute_result"
    }
   ],
   "source": [
    "df['Pool QC'] = df['Pool QC'].fillna('NA')\n",
    "df['Pool QC'].value_counts()"
   ]
  },
  {
   "cell_type": "markdown",
   "metadata": {},
   "source": [
    "According to the documentation, the same is true for the columns `Misc Feature`, `Alley`, `Fence`, `Fireplace Qu`, `Garage Qual`, `Garage Cond`, `Garage Finish`, `Garage Type`, `Bsmt Exposure`, `BsmtFin Type 2`, `BsmtFin Type 1`, `Bsmt Cond`, `Bsmt Qual`, and `Mas Vnr Type`: a value `NA` indicates the absence of the thing. \n",
    "There are, however, a few apparent inconsistencies. \n",
    "First, some values are not missing in `Garage Type` but are missing in other columns related to garages. \n",
    "Let us print the relevent columns for these rows:"
   ]
  },
  {
   "cell_type": "code",
   "execution_count": 7,
   "metadata": {},
   "outputs": [
    {
     "data": {
      "text/html": [
       "<div>\n",
       "<style scoped>\n",
       "    .dataframe tbody tr th:only-of-type {\n",
       "        vertical-align: middle;\n",
       "    }\n",
       "\n",
       "    .dataframe tbody tr th {\n",
       "        vertical-align: top;\n",
       "    }\n",
       "\n",
       "    .dataframe thead th {\n",
       "        text-align: right;\n",
       "    }\n",
       "</style>\n",
       "<table border=\"1\" class=\"dataframe\">\n",
       "  <thead>\n",
       "    <tr style=\"text-align: right;\">\n",
       "      <th></th>\n",
       "      <th>Garage Type</th>\n",
       "      <th>Garage Qual</th>\n",
       "      <th>Garage Yr Blt</th>\n",
       "      <th>Garage Cond</th>\n",
       "      <th>Garage Finish</th>\n",
       "    </tr>\n",
       "  </thead>\n",
       "  <tbody>\n",
       "    <tr>\n",
       "      <th>1356</th>\n",
       "      <td>Detchd</td>\n",
       "      <td>NaN</td>\n",
       "      <td>NaN</td>\n",
       "      <td>NaN</td>\n",
       "      <td>NaN</td>\n",
       "    </tr>\n",
       "    <tr>\n",
       "      <th>2236</th>\n",
       "      <td>Detchd</td>\n",
       "      <td>NaN</td>\n",
       "      <td>NaN</td>\n",
       "      <td>NaN</td>\n",
       "      <td>NaN</td>\n",
       "    </tr>\n",
       "  </tbody>\n",
       "</table>\n",
       "</div>"
      ],
      "text/plain": [
       "     Garage Type Garage Qual  Garage Yr Blt Garage Cond Garage Finish\n",
       "1356      Detchd         NaN            NaN         NaN           NaN\n",
       "2236      Detchd         NaN            NaN         NaN           NaN"
      ]
     },
     "execution_count": 7,
     "metadata": {},
     "output_type": "execute_result"
    }
   ],
   "source": [
    "cols_garage = ['Garage Type', 'Garage Qual', 'Garage Yr Blt', 'Garage Cond', 'Garage Finish']\n",
    "df[(df['Garage Type'].isnull() == False) & (df['Garage Qual'].isnull())][cols_garage]"
   ]
  },
  {
   "cell_type": "markdown",
   "metadata": {},
   "source": [
    "Both rows have detached garages; but they do not seem to have any peculiarity. \n",
    "Since we do not know whether the inconsistency is the information in `Garage Type` or the missing information in the other columns, let us remove these two rows:"
   ]
  },
  {
   "cell_type": "code",
   "execution_count": 8,
   "metadata": {},
   "outputs": [],
   "source": [
    "df.drop(df[(df['Garage Type'].isnull() == False) & (df['Garage Qual'].isnull())].index, inplace=True)"
   ]
  },
  {
   "cell_type": "markdown",
   "metadata": {},
   "source": [
    "Similarly, the column `Bsmt Exposure` has more missing values than the other columns refering to basements. "
   ]
  },
  {
   "cell_type": "code",
   "execution_count": 9,
   "metadata": {},
   "outputs": [
    {
     "data": {
      "text/html": [
       "<div>\n",
       "<style scoped>\n",
       "    .dataframe tbody tr th:only-of-type {\n",
       "        vertical-align: middle;\n",
       "    }\n",
       "\n",
       "    .dataframe tbody tr th {\n",
       "        vertical-align: top;\n",
       "    }\n",
       "\n",
       "    .dataframe thead th {\n",
       "        text-align: right;\n",
       "    }\n",
       "</style>\n",
       "<table border=\"1\" class=\"dataframe\">\n",
       "  <thead>\n",
       "    <tr style=\"text-align: right;\">\n",
       "      <th></th>\n",
       "      <th>Bsmt Exposure</th>\n",
       "      <th>BsmtFin Type 1</th>\n",
       "      <th>BsmtFin Type 2</th>\n",
       "      <th>Bsmt Cond</th>\n",
       "      <th>Bsmt Qual</th>\n",
       "    </tr>\n",
       "  </thead>\n",
       "  <tbody>\n",
       "    <tr>\n",
       "      <th>66</th>\n",
       "      <td>NaN</td>\n",
       "      <td>Unf</td>\n",
       "      <td>Unf</td>\n",
       "      <td>TA</td>\n",
       "      <td>Gd</td>\n",
       "    </tr>\n",
       "    <tr>\n",
       "      <th>1796</th>\n",
       "      <td>NaN</td>\n",
       "      <td>Unf</td>\n",
       "      <td>Unf</td>\n",
       "      <td>TA</td>\n",
       "      <td>Gd</td>\n",
       "    </tr>\n",
       "    <tr>\n",
       "      <th>2779</th>\n",
       "      <td>NaN</td>\n",
       "      <td>Unf</td>\n",
       "      <td>Unf</td>\n",
       "      <td>TA</td>\n",
       "      <td>Gd</td>\n",
       "    </tr>\n",
       "  </tbody>\n",
       "</table>\n",
       "</div>"
      ],
      "text/plain": [
       "     Bsmt Exposure BsmtFin Type 1 BsmtFin Type 2 Bsmt Cond Bsmt Qual\n",
       "66             NaN            Unf            Unf        TA        Gd\n",
       "1796           NaN            Unf            Unf        TA        Gd\n",
       "2779           NaN            Unf            Unf        TA        Gd"
      ]
     },
     "execution_count": 9,
     "metadata": {},
     "output_type": "execute_result"
    }
   ],
   "source": [
    "bsmt_cols = ['Bsmt Exposure', 'BsmtFin Type 1', 'BsmtFin Type 2', 'Bsmt Cond', 'Bsmt Qual']\n",
    "df[(df['Bsmt Exposure'].isnull()) & (df['Bsmt Qual'].isnull() == False)][bsmt_cols]"
   ]
  },
  {
   "cell_type": "markdown",
   "metadata": {},
   "source": [
    "There is also one row with a missing value in `BsmtFin Type 2` but not in the other columns relating to basement:"
   ]
  },
  {
   "cell_type": "code",
   "execution_count": 10,
   "metadata": {},
   "outputs": [
    {
     "data": {
      "text/html": [
       "<div>\n",
       "<style scoped>\n",
       "    .dataframe tbody tr th:only-of-type {\n",
       "        vertical-align: middle;\n",
       "    }\n",
       "\n",
       "    .dataframe tbody tr th {\n",
       "        vertical-align: top;\n",
       "    }\n",
       "\n",
       "    .dataframe thead th {\n",
       "        text-align: right;\n",
       "    }\n",
       "</style>\n",
       "<table border=\"1\" class=\"dataframe\">\n",
       "  <thead>\n",
       "    <tr style=\"text-align: right;\">\n",
       "      <th></th>\n",
       "      <th>Bsmt Exposure</th>\n",
       "      <th>BsmtFin Type 1</th>\n",
       "      <th>BsmtFin Type 2</th>\n",
       "      <th>Bsmt Cond</th>\n",
       "      <th>Bsmt Qual</th>\n",
       "    </tr>\n",
       "  </thead>\n",
       "  <tbody>\n",
       "    <tr>\n",
       "      <th>444</th>\n",
       "      <td>No</td>\n",
       "      <td>GLQ</td>\n",
       "      <td>NaN</td>\n",
       "      <td>TA</td>\n",
       "      <td>Gd</td>\n",
       "    </tr>\n",
       "  </tbody>\n",
       "</table>\n",
       "</div>"
      ],
      "text/plain": [
       "    Bsmt Exposure BsmtFin Type 1 BsmtFin Type 2 Bsmt Cond Bsmt Qual\n",
       "444            No            GLQ            NaN        TA        Gd"
      ]
     },
     "execution_count": 10,
     "metadata": {},
     "output_type": "execute_result"
    }
   ],
   "source": [
    "df[(df['BsmtFin Type 2'].isnull()) & (df['Bsmt Qual'].isnull() == False)][bsmt_cols]"
   ]
  },
  {
   "cell_type": "markdown",
   "metadata": {},
   "source": [
    "Since we do not know where the errors come from, let us delete these four rows:"
   ]
  },
  {
   "cell_type": "code",
   "execution_count": 11,
   "metadata": {},
   "outputs": [],
   "source": [
    "df.drop(df[(df['Bsmt Exposure'].isnull()) & (df['Bsmt Qual'].isnull() == False)].index, inplace=True)\n",
    "df.drop(df[(df['BsmtFin Type 2'].isnull()) & (df['Bsmt Qual'].isnull() == False)].index, inplace=True)"
   ]
  },
  {
   "cell_type": "markdown",
   "metadata": {},
   "source": [
    "Let us now fill the missing values in the columns `Misc Feature`, `Alley`, `Fence`, `Fireplace Qu`, `Garage Qual`, `Garage Cond`, `Garage Finish`, `Garage Type`, `Bsmt Exposure`, `BsmtFin Type 2`, `BsmtFin Type 1`, `Bsmt Cond`, `Bsmt Qual`, and `Mas Vnr Type` with the string `NA`: "
   ]
  },
  {
   "cell_type": "code",
   "execution_count": 12,
   "metadata": {},
   "outputs": [
    {
     "name": "stdout",
     "output_type": "stream",
     "text": [
      "Missing values:\n"
     ]
    },
    {
     "data": {
      "text/plain": [
       "Lot Frontage      490\n",
       "Garage Yr Blt     157\n",
       "Mas Vnr Area       23\n",
       "Bsmt Half Bath      2\n",
       "Bsmt Full Bath      2\n",
       "Bsmt Unf SF         1\n",
       "Electrical          1\n",
       "BsmtFin SF 2        1\n",
       "BsmtFin SF 1        1\n",
       "Total Bsmt SF       1\n",
       "Bsmt Exposure       0\n",
       "dtype: int64"
      ]
     },
     "execution_count": 12,
     "metadata": {},
     "output_type": "execute_result"
    }
   ],
   "source": [
    "cols_to_fill = ['Misc Feature', 'Alley', 'Fence', 'Fireplace Qu', 'Garage Qual', 'Garage Cond', \n",
    "                'Garage Finish', 'Garage Type', 'Bsmt Exposure', 'BsmtFin Type 2', 'BsmtFin Type 1', 'Bsmt Cond', \n",
    "                'Bsmt Qual', 'Mas Vnr Type']\n",
    "\n",
    "for col in cols_to_fill:\n",
    "    df[col] = df[col].fillna('NA')\n",
    "    \n",
    "print('Missing values:')\n",
    "df.isnull().sum().sort_values(ascending=False)[:11]"
   ]
  },
  {
   "cell_type": "markdown",
   "metadata": {},
   "source": [
    "We have already significantly reduced the number of missing values. \n",
    "Let us now deal with the column `Lot Frontage`, giving the number of feet of street connected to the property. \n",
    "Since it contains more than 10% of missing values and it is not clear from the documentation how they should be interpreted, making a guess could introduce a significant bias in the data. \n",
    "We thus decide to remove this column. \n",
    "\n",
    "We also remove the column `Garage Yr Blt`, as it is not clear how a value could be assigned for properties which do not have a garage. "
   ]
  },
  {
   "cell_type": "code",
   "execution_count": 13,
   "metadata": {},
   "outputs": [],
   "source": [
    "df = df.drop(['Lot Frontage', 'Garage Yr Blt'], axis=1)"
   ]
  },
  {
   "cell_type": "markdown",
   "metadata": {},
   "source": [
    "Let us now focus on the rows having a missign value for the column `Mas Vnr Area `: "
   ]
  },
  {
   "cell_type": "code",
   "execution_count": 14,
   "metadata": {},
   "outputs": [
    {
     "data": {
      "text/plain": [
       "55      NA\n",
       "484     NA\n",
       "517     NA\n",
       "538     NA\n",
       "867     NA\n",
       "1095    NA\n",
       "1119    NA\n",
       "1122    NA\n",
       "1127    NA\n",
       "1184    NA\n",
       "1454    NA\n",
       "1727    NA\n",
       "1751    NA\n",
       "1783    NA\n",
       "1799    NA\n",
       "1839    NA\n",
       "1840    NA\n",
       "2229    NA\n",
       "2260    NA\n",
       "2382    NA\n",
       "2392    NA\n",
       "2455    NA\n",
       "2823    NA\n",
       "Name: Mas Vnr Type, dtype: object"
      ]
     },
     "execution_count": 14,
     "metadata": {},
     "output_type": "execute_result"
    }
   ],
   "source": [
    "df[df['Mas Vnr Area'].isnull()]['Mas Vnr Type']"
   ]
  },
  {
   "cell_type": "markdown",
   "metadata": {},
   "source": [
    "These rows correspond to properties having no masonry veneer. \n",
    "We can thus set `Mas Vnr Area` to 0:"
   ]
  },
  {
   "cell_type": "code",
   "execution_count": 15,
   "metadata": {},
   "outputs": [
    {
     "data": {
      "text/plain": [
       "Bsmt Full Bath    2\n",
       "Bsmt Half Bath    2\n",
       "Electrical        1\n",
       "Bsmt Unf SF       1\n",
       "Total Bsmt SF     1\n",
       "BsmtFin SF 1      1\n",
       "BsmtFin SF 2      1\n",
       "BsmtFin Type 1    0\n",
       "dtype: int64"
      ]
     },
     "execution_count": 15,
     "metadata": {},
     "output_type": "execute_result"
    }
   ],
   "source": [
    "df['Mas Vnr Area'] = df['Mas Vnr Area'].fillna(0.)\n",
    "df.isnull().sum().sort_values(ascending=False)[:8]"
   ]
  },
  {
   "cell_type": "markdown",
   "metadata": {},
   "source": [
    "The majority of the remaining missing values concern basements. \n",
    "Let us look at the corresponding rows: "
   ]
  },
  {
   "cell_type": "code",
   "execution_count": 16,
   "metadata": {},
   "outputs": [
    {
     "data": {
      "text/html": [
       "<div>\n",
       "<style scoped>\n",
       "    .dataframe tbody tr th:only-of-type {\n",
       "        vertical-align: middle;\n",
       "    }\n",
       "\n",
       "    .dataframe tbody tr th {\n",
       "        vertical-align: top;\n",
       "    }\n",
       "\n",
       "    .dataframe thead th {\n",
       "        text-align: right;\n",
       "    }\n",
       "</style>\n",
       "<table border=\"1\" class=\"dataframe\">\n",
       "  <thead>\n",
       "    <tr style=\"text-align: right;\">\n",
       "      <th></th>\n",
       "      <th>Bsmt Exposure</th>\n",
       "      <th>BsmtFin Type 1</th>\n",
       "      <th>BsmtFin Type 2</th>\n",
       "      <th>Bsmt Cond</th>\n",
       "      <th>Bsmt Qual</th>\n",
       "    </tr>\n",
       "  </thead>\n",
       "  <tbody>\n",
       "    <tr>\n",
       "      <th>1341</th>\n",
       "      <td>NA</td>\n",
       "      <td>NA</td>\n",
       "      <td>NA</td>\n",
       "      <td>NA</td>\n",
       "      <td>NA</td>\n",
       "    </tr>\n",
       "    <tr>\n",
       "      <th>1497</th>\n",
       "      <td>NA</td>\n",
       "      <td>NA</td>\n",
       "      <td>NA</td>\n",
       "      <td>NA</td>\n",
       "      <td>NA</td>\n",
       "    </tr>\n",
       "  </tbody>\n",
       "</table>\n",
       "</div>"
      ],
      "text/plain": [
       "     Bsmt Exposure BsmtFin Type 1 BsmtFin Type 2 Bsmt Cond Bsmt Qual\n",
       "1341            NA             NA             NA        NA        NA\n",
       "1497            NA             NA             NA        NA        NA"
      ]
     },
     "execution_count": 16,
     "metadata": {},
     "output_type": "execute_result"
    }
   ],
   "source": [
    "df[(df['Bsmt Full Bath'].isnull()) | (df['Bsmt Half Bath'].isnull()) | (df['Bsmt Unf SF'].isnull()) | \n",
    "   (df['Total Bsmt SF'].isnull()) | (df['BsmtFin SF 1'].isnull()) | (df['BsmtFin SF 2'].isnull())][bsmt_cols]"
   ]
  },
  {
   "cell_type": "markdown",
   "metadata": {},
   "source": [
    "They correspond to two properties having no basement. \n",
    "We can thus set the corresponding values to 0: "
   ]
  },
  {
   "cell_type": "code",
   "execution_count": 17,
   "metadata": {},
   "outputs": [
    {
     "data": {
      "text/plain": [
       "Electrical    1\n",
       "SalePrice     0\n",
       "dtype: int64"
      ]
     },
     "execution_count": 17,
     "metadata": {},
     "output_type": "execute_result"
    }
   ],
   "source": [
    "cols_to_fill = ['Bsmt Full Bath', 'Bsmt Half Bath', 'Bsmt Unf SF', 'Total Bsmt SF', \n",
    "                'BsmtFin SF 1', 'BsmtFin SF 2']\n",
    "\n",
    "for col in cols_to_fill:\n",
    "    df[col].fillna(0., inplace=True)\n",
    "\n",
    "df.isnull().sum().sort_values(ascending=False)[:2]"
   ]
  },
  {
   "cell_type": "markdown",
   "metadata": {},
   "source": [
    "There remains only one missing value. \n",
    "Let us delete the corresponding row."
   ]
  },
  {
   "cell_type": "code",
   "execution_count": 18,
   "metadata": {},
   "outputs": [
    {
     "data": {
      "text/plain": [
       "SalePrice    0\n",
       "dtype: int64"
      ]
     },
     "execution_count": 18,
     "metadata": {},
     "output_type": "execute_result"
    }
   ],
   "source": [
    "df.drop(df[df['Electrical'].isnull()].index, inplace=True)\n",
    "df.isnull().sum().sort_values(ascending=False)[:1]"
   ]
  },
  {
   "cell_type": "markdown",
   "metadata": {},
   "source": [
    "### Dealing with years\n",
    "\n",
    "The two columns `Year Built` and `Year Remod/Add` are not very useful in themselves. \n",
    "What is more relevent than the years a property was built or remodeled is the time until it was sold. \n",
    "Let us thus replace these two columns by `Years_Built_Sold` and `Years_Remod_Sold`, giving the numbers of years between these events and the selling date:"
   ]
  },
  {
   "cell_type": "code",
   "execution_count": 19,
   "metadata": {},
   "outputs": [],
   "source": [
    "df['Years_Built_Sold'] = df['Yr Sold'] - df['Year Built']\n",
    "df['Years_Remod_Sold'] = df['Yr Sold'] - df['Year Remod/Add']\n",
    "df.drop(['Year Built', 'Year Remod/Add'], axis=1, inplace=True)"
   ]
  },
  {
   "cell_type": "markdown",
   "metadata": {},
   "source": [
    "### Dropping the columns which leak information on the sale\n",
    "\n",
    "We now drop the columns which leak information on the sale. \n",
    "There are 4 of them: `Mo Sold`, `Yr Sold`, `Sale Type`, and `Sale Condition`."
   ]
  },
  {
   "cell_type": "code",
   "execution_count": 20,
   "metadata": {},
   "outputs": [],
   "source": [
    "leaky_cols = ['Mo Sold', 'Yr Sold', 'Sale Type', 'Sale Condition']\n",
    "\n",
    "df.drop(leaky_cols, axis=1, inplace=True)"
   ]
  },
  {
   "cell_type": "markdown",
   "metadata": {},
   "source": [
    "### Dropping useless columns\n",
    "\n",
    "Let us also drop the columns `PID`, which we will not use, and `Electrical`, as it is undlear how to treat the properties with a mixed electrical system."
   ]
  },
  {
   "cell_type": "code",
   "execution_count": 21,
   "metadata": {},
   "outputs": [],
   "source": [
    "useless_cols = ['PID', 'Electrical']\n",
    "\n",
    "df.drop(useless_cols, axis=1, inplace=True)"
   ]
  },
  {
   "cell_type": "markdown",
   "metadata": {},
   "source": [
    "### Nominal columns\n",
    "\n",
    "Let us replace each nominal column by a set of dummy columns:"
   ]
  },
  {
   "cell_type": "code",
   "execution_count": 22,
   "metadata": {},
   "outputs": [],
   "source": [
    "nominal_cols = ['MS SubClass', 'MS Zoning', 'Street', 'Alley', 'Land Contour', 'Lot Config',\n",
    "                'Condition 1', 'Condition 2', 'House Style', 'Roof Style', 'Roof Matl', 'Exterior 1st',\n",
    "                'Exterior 2nd', 'Mas Vnr Type', 'Heating', 'Central Air', 'Garage Type', 'Misc Feature', \n",
    "                'Neighborhood']\n",
    "\n",
    "df_dummies_list = []\n",
    "for col in nominal_cols: \n",
    "    df_dummies = pd.get_dummies(df[col])\n",
    "    df_dummies.columns = [col + '_' + str(name_col_dum) for name_col_dum in df_dummies.columns]\n",
    "    df_dummies_list.append(df_dummies)\n",
    "    \n",
    "df = pd.concat([df] + df_dummies_list, axis=1, sort=False)\n",
    "\n",
    "for col in nominal_cols: \n",
    "    df.drop(col, axis=1, inplace=True)"
   ]
  },
  {
   "cell_type": "markdown",
   "metadata": {},
   "source": [
    "### Ordinal columns\n",
    "\n",
    "We define the function `ordinal_to_float` taking a dataframe, a column name, and a list containing the possible values in ascending order, and replacing this column by numerical values."
   ]
  },
  {
   "cell_type": "code",
   "execution_count": 23,
   "metadata": {},
   "outputs": [],
   "source": [
    "def ordinal_to_float(df, col, order): \n",
    "    '''\n",
    "    Replaces the entries of the column col in df by floats from 0. to the \n",
    "    number of different entries minus 1. \n",
    "    \n",
    "    df: dataframe\n",
    "    col: name of a column of df\n",
    "    order: list of possible values in ascending order\n",
    "    '''\n",
    "    replacements = {order[i]: float(i) for i in range(len(order))}\n",
    "    df[col] = df[col].replace(replacements)"
   ]
  },
  {
   "cell_type": "markdown",
   "metadata": {},
   "source": [
    "Let us apply it to all ordinal columns with an `object` type (for a linear regression, it does not matter whether the labels are inputted in ascending or descending order):"
   ]
  },
  {
   "cell_type": "code",
   "execution_count": 24,
   "metadata": {},
   "outputs": [],
   "source": [
    "ordinal_to_float(df, 'Lot Shape', ['Reg', 'IR1', 'IR2', 'IR3'])\n",
    "ordinal_to_float(df, 'Utilities', ['AllPub', 'NoSewr', 'NoSeWa', 'ELO'])\n",
    "ordinal_to_float(df, 'Land Slope', ['Gtl', 'Mod', 'Sev'])\n",
    "ordinal_to_float(df, 'Exter Qual', ['Ex', 'Gd', 'TA', 'Fa', 'Po', 'NA'])\n",
    "ordinal_to_float(df, 'Exter Cond', ['Ex', 'Gd', 'TA', 'Fa', 'Po', 'NA'])\n",
    "ordinal_to_float(df, 'Bsmt Qual', ['Ex', 'Gd', 'TA', 'Fa', 'Po', 'NA'])\n",
    "ordinal_to_float(df, 'Bsmt Cond', ['Ex', 'Gd', 'TA', 'Fa', 'Po', 'NA'])\n",
    "ordinal_to_float(df, 'Bsmt Exposure', ['Gd', 'TA', 'Fa', 'Po', 'NA'])\n",
    "ordinal_to_float(df, 'BsmtFin Type 1', ['GLQ', 'ALQ', 'BLQ', 'Rec', 'LwQ', 'Unf', 'NA'])\n",
    "ordinal_to_float(df, 'BsmtFin Type 2', ['GLQ', 'ALQ', 'BLQ', 'Rec', 'LwQ', 'Unf', 'NA'])\n",
    "ordinal_to_float(df, 'Heating QC', ['Ex', 'Gd', 'TA', 'Fa', 'Po'])\n",
    "ordinal_to_float(df, 'Kitchen Qual', ['Ex', 'Gd', 'TA', 'Fa', 'Po'])\n",
    "ordinal_to_float(df, 'Functional', ['Typ', 'Min1', 'Min2', 'Mod', 'Maj1', 'Maj2', 'Sev', 'Sal'])\n",
    "ordinal_to_float(df, 'Fireplace Qu', ['Ex', 'Gd', 'TA', 'Fa', 'Po', 'NA'])\n",
    "ordinal_to_float(df, 'Garage Finish', ['Fin', 'RFn', 'Unf', 'NA'])\n",
    "ordinal_to_float(df, 'Garage Qual', ['Ex', 'Gd', 'TA', 'Fa', 'Po', 'NA'])\n",
    "ordinal_to_float(df, 'Garage Cond', ['Ex', 'Gd', 'TA', 'Fa', 'Po', 'NA'])\n",
    "ordinal_to_float(df, 'Paved Drive', ['Y', 'P', 'N'])\n",
    "ordinal_to_float(df, 'Pool QC', ['Ex', 'Gd', 'TA', 'Fa', 'NA'])\n",
    "ordinal_to_float(df, 'Fence', ['GdPrv', 'MnPrv', 'GdWo', 'MnWw', 'NA'])"
   ]
  },
  {
   "cell_type": "markdown",
   "metadata": {},
   "source": [
    "### Choice of features\n",
    "\n",
    "To determine which features to include in the linear regression, let us first compute correlations of each feature with the sale price and show the 20 features with the highest correlation coefficient:"
   ]
  },
  {
   "cell_type": "code",
   "execution_count": 25,
   "metadata": {},
   "outputs": [
    {
     "name": "stdout",
     "output_type": "stream",
     "text": [
      "Overall Qual            0.799474\n",
      "Gr Liv Area             0.707241\n",
      "Kitchen Qual            0.673104\n",
      "Garage Cars             0.647719\n",
      "Garage Area             0.640200\n",
      "Total Bsmt SF           0.633529\n",
      "1st Flr SF              0.621869\n",
      "Bsmt Qual               0.607609\n",
      "Years_Built_Sold        0.559176\n",
      "Garage Finish           0.550653\n",
      "Full Bath               0.546139\n",
      "Years_Remod_Sold        0.535058\n",
      "Fireplace Qu            0.533855\n",
      "Mas Vnr Area            0.501961\n",
      "TotRms AbvGrd           0.495698\n",
      "Fireplaces              0.474578\n",
      "Heating QC              0.450192\n",
      "BsmtFin SF 1            0.433406\n",
      "Neighborhood_NridgHt    0.432951\n",
      "Mas Vnr Type_None       0.403691\n",
      "Name: SalePrice, dtype: float64\n"
     ]
    }
   ],
   "source": [
    "# starting from 1 to exclude the column SalePrice\n",
    "np.abs(df.corr()['SalePrice']).sort_values(ascending=False)[1:21]\n",
    "twenty_highest_cor = np.abs(df.corr()['SalePrice']).sort_values(ascending=False)[1:21]\n",
    "print(twenty_highest_cor)\n",
    "best_features = list(twenty_highest_cor.index)"
   ]
  },
  {
   "cell_type": "markdown",
   "metadata": {},
   "source": [
    "Let us also plot a correlation map of these 20 features to see if there are correlations aong them. \n",
    "To help visualization, we show the absolute values of the correlation coefficients."
   ]
  },
  {
   "cell_type": "code",
   "execution_count": 26,
   "metadata": {},
   "outputs": [
    {
     "data": {
      "image/png": "[encoded data removed]",
      "text/plain": [
       "<Figure size 1368x1080 with 2 Axes>"
      ]
     },
     "metadata": {
      "needs_background": "light"
     },
     "output_type": "display_data"
    }
   ],
   "source": [
    "df_t = df[best_features]\n",
    "\n",
    "f = plt.figure(figsize=(19, 15))\n",
    "plt.matshow(np.abs(df_t.corr()), fignum=f.number)\n",
    "plt.xticks(range(df_t.shape[1]), df_t.columns, fontsize=14, rotation=90)\n",
    "plt.yticks(range(df_t.shape[1]), df_t.columns, fontsize=14)\n",
    "cb = plt.colorbar()\n",
    "cb.ax.tick_params(labelsize=14)\n",
    "plt.show()"
   ]
  },
  {
   "cell_type": "markdown",
   "metadata": {},
   "source": [
    "There seems to be some high correlations. \n",
    "To see this more precisely, let us define the function `corr_higher_than` taking a threshold between 0 and 1 and showing where correlations are larger than this value."
   ]
  },
  {
   "cell_type": "code",
   "execution_count": 27,
   "metadata": {},
   "outputs": [],
   "source": [
    "def corr_higher_than(threshold):\n",
    "    f = plt.figure(figsize=(19, 15))\n",
    "    plt.matshow((np.abs(df_t.corr()) > threshold).astype(int), fignum=f.number)\n",
    "    plt.xticks(range(df_t.shape[1]), df_t.columns, fontsize=14, rotation=90)\n",
    "    plt.yticks(range(df_t.shape[1]), df_t.columns, fontsize=14)\n",
    "    cb = plt.colorbar()\n",
    "    cb.ax.tick_params(labelsize=14)\n",
    "    plt.show()"
   ]
  },
  {
   "cell_type": "markdown",
   "metadata": {},
   "source": [
    "Let us see which couples of features have correlations coefficients higher than 0.6:"
   ]
  },
  {
   "cell_type": "code",
   "execution_count": 28,
   "metadata": {},
   "outputs": [
    {
     "data": {
      "image/png": "[encoded data removed]",
      "text/plain": [
       "<Figure size 1368x1080 with 2 Axes>"
      ]
     },
     "metadata": {
      "needs_background": "light"
     },
     "output_type": "display_data"
    }
   ],
   "source": [
    "corr_higher_than(0.6)"
   ]
  },
  {
   "cell_type": "markdown",
   "metadata": {},
   "source": [
    "We remove one feature from each couple of different features with a correlation coefficient higher (in absolute value) than 0.6 to avoid counting the same information twice, aiming to keep the one which is more general or gives a more precise information. \n",
    "We thus remove the columns `Kitchen Qual`, `Bsmt Qual`, `Full Bath`, `TotRms AbvGrd`, `Years_Remod_Sold`, `Garage Cars`, `1st Floor SF`, `Fireplace Qu`, and `Mas Vnr Type_None`."
   ]
  },
  {
   "cell_type": "code",
   "execution_count": 29,
   "metadata": {},
   "outputs": [],
   "source": [
    "for col in ['Kitchen Qual', 'Bsmt Qual', 'Full Bath', 'TotRms AbvGrd', 'Years_Remod_Sold', 'Garage Cars', '1st Flr SF', 'Fireplace Qu', 'Mas Vnr Type_None']:\n",
    "    best_features.remove(col)"
   ]
  },
  {
   "cell_type": "markdown",
   "metadata": {},
   "source": [
    "Keep only these features and the target:"
   ]
  },
  {
   "cell_type": "code",
   "execution_count": 30,
   "metadata": {},
   "outputs": [],
   "source": [
    "df = df[best_features + ['SalePrice']]"
   ]
  },
  {
   "cell_type": "markdown",
   "metadata": {},
   "source": [
    "### Function performing the same transformations\n",
    "\n",
    "To apply the model we will train to new data, we will need to apply the same transformations to it. \n",
    "Let us define the function `transform_features` taking one dataframe as argument and returning the transformed one."
   ]
  },
  {
   "cell_type": "code",
   "execution_count": 31,
   "metadata": {},
   "outputs": [],
   "source": [
    "def transform_features(df_init):\n",
    "    \n",
    "    # copy the dataframe so that the original one is unmodified\n",
    "    df = df_init.copy() \n",
    "    \n",
    "    # delete rows \n",
    "    df.drop(df[(df['Garage Type'].isnull() == False) & (df['Garage Qual'].isnull())].index, inplace=True)\n",
    "    df.drop(df[(df['Bsmt Exposure'].isnull()) & (df['Bsmt Qual'].isnull() == False)].index, inplace=True)\n",
    "    df.drop(df[(df['BsmtFin Type 2'].isnull()) & (df['Bsmt Qual'].isnull() == False)].index, inplace=True)\n",
    "    df.drop(df[df['Electrical'].isnull()].index, inplace=True)\n",
    "    \n",
    "    # fill missing values with the string 'NA'\n",
    "    cols_to_fill = ['Misc Feature', 'Alley', 'Fence', 'Fireplace Qu', 'Garage Qual', 'Garage Cond', \n",
    "                'Garage Finish', 'Garage Type', 'Bsmt Exposure', 'BsmtFin Type 2', 'BsmtFin Type 1', 'Bsmt Cond', \n",
    "                'Bsmt Qual', 'Mas Vnr Type']\n",
    "    for col in cols_to_fill:\n",
    "        df[col] = df[col].fillna('NA')\n",
    "    \n",
    "    # set missing values to 0\n",
    "    cols_to_fill = ['Bsmt Full Bath', 'Bsmt Half Bath', 'Bsmt Unf SF', 'Total Bsmt SF', \n",
    "                'BsmtFin SF 1', 'BsmtFin SF 2', 'Mas Vnr Area']\n",
    "    for col in cols_to_fill:\n",
    "        df[col].fillna(0., inplace=True)\n",
    "        \n",
    "    # dealing with years\n",
    "    df['Years_Built_Sold'] = df['Yr Sold'] - df['Year Built']\n",
    "    df['Years_Remod_Sold'] = df['Yr Sold'] - df['Year Remod/Add']\n",
    "    df.drop(['Year Built', 'Year Remod/Add'], axis=1, inplace=True)\n",
    "    \n",
    "    \n",
    "    # replace nominal columns by dummies\n",
    "    nominal_cols = ['MS SubClass', 'MS Zoning', 'Street', 'Alley', 'Land Contour', 'Lot Config',\n",
    "                'Condition 1', 'Condition 2', 'House Style', 'Roof Style', 'Roof Matl', 'Exterior 1st',\n",
    "                'Exterior 2nd', 'Mas Vnr Type', 'Heating', 'Central Air', 'Garage Type', 'Misc Feature', \n",
    "                'Neighborhood']\n",
    "    df_dummies_list = []\n",
    "    for col in nominal_cols: \n",
    "        df_dummies = pd.get_dummies(df[col])\n",
    "        df_dummies.columns = [col + '_' + str(name_col_dum) for name_col_dum in df_dummies.columns]\n",
    "        df_dummies_list.append(df_dummies)\n",
    "    df = pd.concat([df] + df_dummies_list, axis=1, sort=False)\n",
    "    for col in nominal_cols: \n",
    "        df.drop(col, axis=1, inplace=True)\n",
    "    \n",
    "    # drop some columns\n",
    "    cols_to_drop = ['Lot Frontage', 'Garage Yr Blt', 'Mo Sold', \n",
    "                  'Yr Sold', 'Sale Type', 'Sale Condition', \n",
    "                  'PID', 'Electrical']\n",
    "    df = df.drop(cols_to_drop, axis=1)\n",
    "    \n",
    "    # convert strings in odinal columns to floats\n",
    "    ordinal_to_float(df, 'Lot Shape', ['Reg', 'IR1', 'IR2', 'IR3'])\n",
    "    ordinal_to_float(df, 'Utilities', ['AllPub', 'NoSewr', 'NoSeWa', 'ELO'])\n",
    "    ordinal_to_float(df, 'Land Slope', ['Gtl', 'Mod', 'Sev'])\n",
    "    ordinal_to_float(df, 'Exter Qual', ['Ex', 'Gd', 'TA', 'Fa', 'Po', 'NA'])\n",
    "    ordinal_to_float(df, 'Exter Cond', ['Ex', 'Gd', 'TA', 'Fa', 'Po', 'NA'])\n",
    "    ordinal_to_float(df, 'Bsmt Qual', ['Ex', 'Gd', 'TA', 'Fa', 'Po', 'NA'])\n",
    "    ordinal_to_float(df, 'Bsmt Cond', ['Ex', 'Gd', 'TA', 'Fa', 'Po', 'NA'])\n",
    "    ordinal_to_float(df, 'Bsmt Exposure', ['Gd', 'TA', 'Fa', 'Po', 'NA'])\n",
    "    ordinal_to_float(df, 'BsmtFin Type 1', ['GLQ', 'ALQ', 'BLQ', 'Rec', 'LwQ', 'Unf', 'NA'])\n",
    "    ordinal_to_float(df, 'BsmtFin Type 2', ['GLQ', 'ALQ', 'BLQ', 'Rec', 'LwQ', 'Unf', 'NA'])\n",
    "    ordinal_to_float(df, 'Heating QC', ['Ex', 'Gd', 'TA', 'Fa', 'Po'])\n",
    "    ordinal_to_float(df, 'Kitchen Qual', ['Ex', 'Gd', 'TA', 'Fa', 'Po'])\n",
    "    ordinal_to_float(df, 'Functional', ['Typ', 'Min1', 'Min2', 'Mod', 'Maj1', 'Maj2', 'Sev', 'Sal'])\n",
    "    ordinal_to_float(df, 'Fireplace Qu', ['Ex', 'Gd', 'TA', 'Fa', 'Po', 'NA'])\n",
    "    ordinal_to_float(df, 'Garage Finish', ['Fin', 'RFn', 'Unf', 'NA'])\n",
    "    ordinal_to_float(df, 'Garage Qual', ['Ex', 'Gd', 'TA', 'Fa', 'Po', 'NA'])\n",
    "    ordinal_to_float(df, 'Garage Cond', ['Ex', 'Gd', 'TA', 'Fa', 'Po', 'NA'])\n",
    "    ordinal_to_float(df, 'Paved Drive', ['Y', 'P', 'N'])\n",
    "    ordinal_to_float(df, 'Pool QC', ['Ex', 'Gd', 'TA', 'Fa', 'NA'])\n",
    "    ordinal_to_float(df, 'Fence', ['GdPrv', 'MnPrv', 'GdWo', 'MnWw', 'NA'])\n",
    "    \n",
    "    # feature selection\n",
    "    df = df[best_features + ['SalePrice']]\n",
    "    \n",
    "    return df"
   ]
  },
  {
   "cell_type": "markdown",
   "metadata": {},
   "source": [
    "## Training and testing the model\n",
    "\n",
    "Let us now test the model. \n",
    "To check that the whole process is working, we reload `df` and apply the function `transform_features` before training the model."
   ]
  },
  {
   "cell_type": "code",
   "execution_count": 32,
   "metadata": {},
   "outputs": [
    {
     "name": "stdout",
     "output_type": "stream",
     "text": [
      "\n",
      "Simple training/test division:\n",
      "0.4200102892855945\n",
      "\n",
      "5-fold cross-validation:\n",
      "[0.5674842159500895, 0.354767258551889, 0.4396809472000609, 0.40065851063269053, 0.4028815272727019]\n",
      "Mean error: 0.4330944919214864\n"
     ]
    }
   ],
   "source": [
    "df = pd.read_csv('../Data/AmesHousing/AmesHousing.txt', delimiter = '\\t')\n",
    "df = transform_features(df)\n",
    "\n",
    "print('\\nSimple training/test division:')\n",
    "print(train_and_test(df, 'SalePrice'))\n",
    "print('\\n5-fold cross-validation:')\n",
    "train_and_test(df, 'SalePrice', k=5)"
   ]
  },
  {
   "cell_type": "markdown",
   "metadata": {},
   "source": [
    "The mean squared error is typically close to 40% of the standard deviation of the target. \n",
    "This linear model thus captures some aspects of what determines the price of a house, although it is by no means perfect."
   ]
  },
  {
   "cell_type": "markdown",
   "metadata": {},
   "source": [
    "<font style=\"color:rgb(0,100,200)\"><b> To do: <ul>\n",
    "    <li> Try removing features whose correlation coefficient with each other is higher than 0.5. </li>\n",
    "    <li> Try keeping more columns. </li>\n",
    "</ul></b></font>"
   ]
  }
 ],
 "metadata": {
  "kernelspec": {
   "display_name": "Python 3",
   "language": "python",
   "name": "python3"
  },
  "language_info": {
   "codemirror_mode": {
    "name": "ipython",
    "version": 3
   },
   "file_extension": ".py",
   "mimetype": "text/x-python",
   "name": "python",
   "nbconvert_exporter": "python",
   "pygments_lexer": "ipython3",
   "version": "3.7.3"
  }
 },
 "nbformat": 4,
 "nbformat_minor": 4
}
