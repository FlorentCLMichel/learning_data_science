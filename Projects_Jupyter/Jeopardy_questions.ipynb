{
 "cells": [
  {
   "cell_type": "markdown",
   "metadata": {},
   "source": [
    "# Patterns of Jeopardy! questions <font style=\"color:rgb(0,100,200)\"><i>(Work in progress)</i></font>\n",
    "\n",
    "Jeopardy! is a popular American televised quizz competition. \n",
    "It has now aired more than 8000 episodes, was adapted in many other countries, and was ranked in 2013 among the 60 greatest shows in American television history by [TV Guide](https://www.tvguidemagazine.com/).\n",
    "More information can be found on [this wikipedia page](https://en.wikipedia.org/wiki/Jeopardy!). \n",
    "In this project, we will study a set of questions and answers which appeared in the show and try to find patterns which may help a candidate prepare for the game. \n",
    "\n",
    "## Data Cleaning\n",
    "\n",
    "The dataset, `JEOPARDY_CSV.csv`, can be found on [this reddit thread](https://www.reddit.com/r/datasets/comments/1uyd0t/200000_jeopardy_questions_in_a_json_file/). \n",
    "It contains 216,930 jeopardy questions and answers among the 252,583 which had been asked at the time of posting. \n",
    "Its columns are: \n",
    "* `category`: the question category, \n",
    "* `value`: the amount of money the question is worth (“None” for Final Jeopardy! and Tiebreaker questions),\n",
    "* `question`: text of the question,\n",
    "* `answer`: text of the answer,\n",
    "* `round`: the round of Jeopardy that the question was asked in: “Jeopardy!”, “Double Jeopardy!”, “Final Jeopardy!”, or “Tiebreaker”,\n",
    "* `show_number` : the episode number the question was asked in,\n",
    "* `air_date`: the show air date in format YYYY-MM-DD.\n",
    "\n",
    "Let us first import the modules we will need: "
   ]
  },
  {
   "cell_type": "code",
   "execution_count": 1,
   "metadata": {},
   "outputs": [],
   "source": [
    "import pandas as pd\n",
    "import numpy as np\n",
    "import matplotlib.pyplot as plt"
   ]
  },
  {
   "cell_type": "markdown",
   "metadata": {},
   "source": [
    "We then read the dataset in the dataframe `jeopardy` and print its first five rows:"
   ]
  },
  {
   "cell_type": "code",
   "execution_count": 2,
   "metadata": {},
   "outputs": [
    {
     "data": {
      "text/html": [
       "<div>\n",
       "<style scoped>\n",
       "    .dataframe tbody tr th:only-of-type {\n",
       "        vertical-align: middle;\n",
       "    }\n",
       "\n",
       "    .dataframe tbody tr th {\n",
       "        vertical-align: top;\n",
       "    }\n",
       "\n",
       "    .dataframe thead th {\n",
       "        text-align: right;\n",
       "    }\n",
       "</style>\n",
       "<table border=\"1\" class=\"dataframe\">\n",
       "  <thead>\n",
       "    <tr style=\"text-align: right;\">\n",
       "      <th></th>\n",
       "      <th>Show Number</th>\n",
       "      <th>Air Date</th>\n",
       "      <th>Round</th>\n",
       "      <th>Category</th>\n",
       "      <th>Value</th>\n",
       "      <th>Question</th>\n",
       "      <th>Answer</th>\n",
       "    </tr>\n",
       "  </thead>\n",
       "  <tbody>\n",
       "    <tr>\n",
       "      <th>0</th>\n",
       "      <td>4680</td>\n",
       "      <td>2004-12-31</td>\n",
       "      <td>Jeopardy!</td>\n",
       "      <td>HISTORY</td>\n",
       "      <td>$200</td>\n",
       "      <td>For the last 8 years of his life, Galileo was ...</td>\n",
       "      <td>Copernicus</td>\n",
       "    </tr>\n",
       "    <tr>\n",
       "      <th>1</th>\n",
       "      <td>4680</td>\n",
       "      <td>2004-12-31</td>\n",
       "      <td>Jeopardy!</td>\n",
       "      <td>ESPN's TOP 10 ALL-TIME ATHLETES</td>\n",
       "      <td>$200</td>\n",
       "      <td>No. 2: 1912 Olympian; football star at Carlisl...</td>\n",
       "      <td>Jim Thorpe</td>\n",
       "    </tr>\n",
       "    <tr>\n",
       "      <th>2</th>\n",
       "      <td>4680</td>\n",
       "      <td>2004-12-31</td>\n",
       "      <td>Jeopardy!</td>\n",
       "      <td>EVERYBODY TALKS ABOUT IT...</td>\n",
       "      <td>$200</td>\n",
       "      <td>The city of Yuma in this state has a record av...</td>\n",
       "      <td>Arizona</td>\n",
       "    </tr>\n",
       "    <tr>\n",
       "      <th>3</th>\n",
       "      <td>4680</td>\n",
       "      <td>2004-12-31</td>\n",
       "      <td>Jeopardy!</td>\n",
       "      <td>THE COMPANY LINE</td>\n",
       "      <td>$200</td>\n",
       "      <td>In 1963, live on \"The Art Linkletter Show\", th...</td>\n",
       "      <td>McDonald's</td>\n",
       "    </tr>\n",
       "    <tr>\n",
       "      <th>4</th>\n",
       "      <td>4680</td>\n",
       "      <td>2004-12-31</td>\n",
       "      <td>Jeopardy!</td>\n",
       "      <td>EPITAPHS &amp; TRIBUTES</td>\n",
       "      <td>$200</td>\n",
       "      <td>Signer of the Dec. of Indep., framer of the Co...</td>\n",
       "      <td>John Adams</td>\n",
       "    </tr>\n",
       "  </tbody>\n",
       "</table>\n",
       "</div>"
      ],
      "text/plain": [
       "   Show Number    Air Date      Round                         Category  Value  \\\n",
       "0         4680  2004-12-31  Jeopardy!                          HISTORY   $200   \n",
       "1         4680  2004-12-31  Jeopardy!  ESPN's TOP 10 ALL-TIME ATHLETES   $200   \n",
       "2         4680  2004-12-31  Jeopardy!      EVERYBODY TALKS ABOUT IT...   $200   \n",
       "3         4680  2004-12-31  Jeopardy!                 THE COMPANY LINE   $200   \n",
       "4         4680  2004-12-31  Jeopardy!              EPITAPHS & TRIBUTES   $200   \n",
       "\n",
       "                                            Question      Answer  \n",
       "0  For the last 8 years of his life, Galileo was ...  Copernicus  \n",
       "1  No. 2: 1912 Olympian; football star at Carlisl...  Jim Thorpe  \n",
       "2  The city of Yuma in this state has a record av...     Arizona  \n",
       "3  In 1963, live on \"The Art Linkletter Show\", th...  McDonald's  \n",
       "4  Signer of the Dec. of Indep., framer of the Co...  John Adams  "
      ]
     },
     "execution_count": 2,
     "metadata": {},
     "output_type": "execute_result"
    }
   ],
   "source": [
    "jeopardy = pd.read_csv('../Data/JEOPARDY_CSV.csv')\n",
    "jeopardy.head()"
   ]
  },
  {
   "cell_type": "markdown",
   "metadata": {},
   "source": [
    "Let us check the column names:"
   ]
  },
  {
   "cell_type": "code",
   "execution_count": 3,
   "metadata": {},
   "outputs": [
    {
     "data": {
      "text/plain": [
       "Index(['Show Number', ' Air Date', ' Round', ' Category', ' Value',\n",
       "       ' Question', ' Answer'],\n",
       "      dtype='object')"
      ]
     },
     "execution_count": 3,
     "metadata": {},
     "output_type": "execute_result"
    }
   ],
   "source": [
    "jeopardy.columns"
   ]
  },
  {
   "cell_type": "markdown",
   "metadata": {},
   "source": [
    "Some of them have a leading space. \n",
    "Let us get rid of it:"
   ]
  },
  {
   "cell_type": "code",
   "execution_count": 4,
   "metadata": {},
   "outputs": [
    {
     "data": {
      "text/plain": [
       "Index(['Show Number', 'Air Date', 'Round', 'Category', 'Value', 'Question',\n",
       "       'Answer'],\n",
       "      dtype='object')"
      ]
     },
     "execution_count": 4,
     "metadata": {},
     "output_type": "execute_result"
    }
   ],
   "source": [
    "def delete_leading_spaces(s):\n",
    "    '''\n",
    "    Returns the string s stripped of leading spaces\n",
    "    '''\n",
    "    while s[0] == ' ':\n",
    "        s = s[1:]\n",
    "    return s\n",
    "\n",
    "jeopardy.columns = map(delete_leading_spaces, jeopardy.columns)\n",
    "jeopardy.columns"
   ]
  },
  {
   "cell_type": "markdown",
   "metadata": {},
   "source": [
    "Let us now check for missing values: "
   ]
  },
  {
   "cell_type": "code",
   "execution_count": 5,
   "metadata": {},
   "outputs": [
    {
     "data": {
      "text/plain": [
       "Show Number    0\n",
       "Air Date       0\n",
       "Round          0\n",
       "Category       0\n",
       "Value          0\n",
       "Question       0\n",
       "Answer         2\n",
       "dtype: int64"
      ]
     },
     "execution_count": 5,
     "metadata": {},
     "output_type": "execute_result"
    }
   ],
   "source": [
    "jeopardy.isnull().sum()"
   ]
  },
  {
   "cell_type": "markdown",
   "metadata": {},
   "source": [
    "There are two missing values in the `Answer` column. \n",
    "Let us see where they are:"
   ]
  },
  {
   "cell_type": "code",
   "execution_count": 6,
   "metadata": {},
   "outputs": [
    {
     "data": {
      "text/html": [
       "<div>\n",
       "<style scoped>\n",
       "    .dataframe tbody tr th:only-of-type {\n",
       "        vertical-align: middle;\n",
       "    }\n",
       "\n",
       "    .dataframe tbody tr th {\n",
       "        vertical-align: top;\n",
       "    }\n",
       "\n",
       "    .dataframe thead th {\n",
       "        text-align: right;\n",
       "    }\n",
       "</style>\n",
       "<table border=\"1\" class=\"dataframe\">\n",
       "  <thead>\n",
       "    <tr style=\"text-align: right;\">\n",
       "      <th></th>\n",
       "      <th>Show Number</th>\n",
       "      <th>Air Date</th>\n",
       "      <th>Round</th>\n",
       "      <th>Category</th>\n",
       "      <th>Value</th>\n",
       "      <th>Question</th>\n",
       "      <th>Answer</th>\n",
       "    </tr>\n",
       "  </thead>\n",
       "  <tbody>\n",
       "    <tr>\n",
       "      <th>94817</th>\n",
       "      <td>4346</td>\n",
       "      <td>2003-06-23</td>\n",
       "      <td>Jeopardy!</td>\n",
       "      <td>GOING \"N\"SANE</td>\n",
       "      <td>$200</td>\n",
       "      <td>It often precedes \"and void\"</td>\n",
       "      <td>NaN</td>\n",
       "    </tr>\n",
       "    <tr>\n",
       "      <th>143297</th>\n",
       "      <td>6177</td>\n",
       "      <td>2011-06-21</td>\n",
       "      <td>Double Jeopardy!</td>\n",
       "      <td>NOTHING</td>\n",
       "      <td>$400</td>\n",
       "      <td>This word for \"nothing\" precedes \"and void\" to...</td>\n",
       "      <td>NaN</td>\n",
       "    </tr>\n",
       "  </tbody>\n",
       "</table>\n",
       "</div>"
      ],
      "text/plain": [
       "        Show Number    Air Date             Round       Category Value  \\\n",
       "94817          4346  2003-06-23         Jeopardy!  GOING \"N\"SANE  $200   \n",
       "143297         6177  2011-06-21  Double Jeopardy!        NOTHING  $400   \n",
       "\n",
       "                                                 Question Answer  \n",
       "94817                        It often precedes \"and void\"    NaN  \n",
       "143297  This word for \"nothing\" precedes \"and void\" to...    NaN  "
      ]
     },
     "execution_count": 6,
     "metadata": {},
     "output_type": "execute_result"
    }
   ],
   "source": [
    "jeopardy[jeopardy['Answer'].isnull()]"
   ]
  },
  {
   "cell_type": "markdown",
   "metadata": {},
   "source": [
    "The Answer to these two questions is “Null”, which seems to have confused Pandas when importaing the file. \n",
    "Let us correct this error: "
   ]
  },
  {
   "cell_type": "code",
   "execution_count": 7,
   "metadata": {},
   "outputs": [
    {
     "data": {
      "text/plain": [
       "Show Number    0\n",
       "Air Date       0\n",
       "Round          0\n",
       "Category       0\n",
       "Value          0\n",
       "Question       0\n",
       "Answer         0\n",
       "dtype: int64"
      ]
     },
     "execution_count": 7,
     "metadata": {},
     "output_type": "execute_result"
    }
   ],
   "source": [
    "jeopardy.fillna('Null', inplace=True)\n",
    "jeopardy.isnull().sum()"
   ]
  },
  {
   "cell_type": "markdown",
   "metadata": {},
   "source": [
    "We now convert the `Show Number` and `Value` column to integers:"
   ]
  },
  {
   "cell_type": "code",
   "execution_count": 8,
   "metadata": {},
   "outputs": [],
   "source": [
    "jeopardy['Show Number'] = jeopardy['Show Number'].astype(int)\n",
    "jeopardy['Value'] = jeopardy['Value'].str.replace('$','').str.replace(',','').replace('None',np.nan).astype(float)"
   ]
  },
  {
   "cell_type": "markdown",
   "metadata": {},
   "source": [
    "Finally, let us convert the `Air Date` column to datetime format:"
   ]
  },
  {
   "cell_type": "code",
   "execution_count": 9,
   "metadata": {},
   "outputs": [],
   "source": [
    "jeopardy['Air Date'] = pd.to_datetime(jeopardy['Air Date'], format = '%Y-%m-%d')"
   ]
  },
  {
   "cell_type": "markdown",
   "metadata": {},
   "source": [
    "We can use this to see in which year the questions present in the dataset were asked."
   ]
  },
  {
   "cell_type": "code",
   "execution_count": 10,
   "metadata": {},
   "outputs": [
    {
     "data": {
      "image/png": "[encoded data removed]",
      "text/plain": [
       "<Figure size 432x288 with 1 Axes>"
      ]
     },
     "metadata": {
      "needs_background": "light"
     },
     "output_type": "display_data"
    }
   ],
   "source": [
    "jeopardy['Air Date'].dt.year.value_counts(sort=False).plot(kind='bar')\n",
    "plt.xlabel('year')\n",
    "plt.ylabel('number of questions')\n",
    "plt.grid()\n",
    "plt.show()"
   ]
  },
  {
   "cell_type": "markdown",
   "metadata": {},
   "source": [
    "Most of the questions present in the dataset were asked between 1997 and 2011, with a few questions asked between 1984 and 1995. \n",
    "It would be interesting to see if the increase in the number of questions in and after 1996 as well as the drop in 2002 can be explained. \n",
    "But this is beyond the scope of the present study.\n",
    "\n",
    "The small number of questions for 2012 may be due to the fact that the dataset covers only the beginning of that year. \n",
    "Let us check this:"
   ]
  },
  {
   "cell_type": "code",
   "execution_count": 11,
   "metadata": {},
   "outputs": [
    {
     "data": {
      "text/plain": [
       "1    1093\n",
       "Name: Air Date, dtype: int64"
      ]
     },
     "execution_count": 11,
     "metadata": {},
     "output_type": "execute_result"
    }
   ],
   "source": [
    "jeopardy[jeopardy['Air Date'].dt.year == 2012]['Air Date'].dt.month.value_counts()"
   ]
  },
  {
   "cell_type": "markdown",
   "metadata": {},
   "source": [
    "The dataset extends only to January 2012. \n",
    "It is thus not surprizing to have only a few questions for that year. \n",
    "\n",
    "Let us now normalize the columns `Question` and `Answer` by converting them to lowercase and replacing punctuation marks with spaces:"
   ]
  },
  {
   "cell_type": "code",
   "execution_count": 12,
   "metadata": {},
   "outputs": [],
   "source": [
    "jeopardy['Question'] = jeopardy['Question'].str.replace('\\W',' ').str.lower()\n",
    "jeopardy['Answer'] = jeopardy['Answer'].str.replace('\\W',' ').str.lower()"
   ]
  },
  {
   "cell_type": "markdown",
   "metadata": {},
   "source": [
    "## Data Analysis\n",
    "\n",
    "### How often is the answer in the question?\n",
    "\n",
    "One possible tactic to find for the answer to a question is to look at question itself and see if it may contain part of the answer. \n",
    "Let us estimate how frequenctly it may succeed by counting the average fraction of words of the answer which are included in the question, excluding the word “the” which appear commonly in answers but does not change their meaning. "
   ]
  },
  {
   "cell_type": "code",
   "execution_count": 13,
   "metadata": {},
   "outputs": [
    {
     "name": "stdout",
     "output_type": "stream",
     "text": [
      "Fraction of words in answers appearing in questions: 5.84%\n"
     ]
    }
   ],
   "source": [
    "def fraction_answer_in_question(row):\n",
    "    '''\n",
    "    Returns the fraction of the number of words in the answer which are present in the question\n",
    "    '''\n",
    "    words_answer = row['Answer'].split(' ')\n",
    "    if 'the' in words_answer:\n",
    "        words_answer.remove('the')\n",
    "    # if the answer is empty, return 0\n",
    "    if len(words_answer) == 0: \n",
    "        return 0\n",
    "    words_question = row['Question'].split()\n",
    "    match_word = 0\n",
    "    for word in words_answer:\n",
    "        if word in words_question:\n",
    "            match_word += 1\n",
    "    return match_word / len(words_answer)\n",
    "\n",
    "jeopardy['Answer in question'] = jeopardy.apply(fraction_answer_in_question, axis=1)\n",
    "print('Fraction of words in answers appearing in questions: {:.2f}%'.format(100*jeopardy['Answer in question'].mean()))"
   ]
  },
  {
   "cell_type": "markdown",
   "metadata": {},
   "source": [
    "The fraction of words in the answers appearing in the corresponding questions is close to 6%, which is not a lot. \n",
    "Looking for the answer in the question can thus give a candidate only a limited boost (although it may be useful for winning close games).\n",
    "\n",
    "### How often are questions recycled? \n",
    "\n",
    "Let us now estimate the fraction of words in each question which has been recycled. \n",
    "We exclude words with 5 letters of less, as many of them are common words which contribute little to the actual meaning of the question.\n",
    "A sufficiently long word will be called recycled if it has already appeared in an earlier question. \n",
    "\n",
    "Let us first sort the `jeopardy` dataframe by air date:"
   ]
  },
  {
   "cell_type": "code",
   "execution_count": 14,
   "metadata": {},
   "outputs": [],
   "source": [
    "jeopardy = jeopardy.sort_values('Air Date')"
   ]
  },
  {
   "cell_type": "markdown",
   "metadata": {},
   "source": [
    "We now compute the fraction of each question which has been recycled, and save it in the `Fraction of Question Recycled` column:"
   ]
  },
  {
   "cell_type": "code",
   "execution_count": 15,
   "metadata": {},
   "outputs": [
    {
     "name": "stdout",
     "output_type": "stream",
     "text": [
      "Fraction of recycled questions: 89.92%\n"
     ]
    }
   ],
   "source": [
    "vocabulary = set([]) \n",
    "fraction_recycled = []\n",
    "for question in jeopardy['Question']:\n",
    "    words_question = question.split(' ')\n",
    "    match_count = 0\n",
    "    word_count = 0\n",
    "    for word in words_question:\n",
    "        if len(word) >= 6:\n",
    "            word_count += 1\n",
    "            if word in vocabulary:\n",
    "                match_count += 1\n",
    "            else: \n",
    "                vocabulary.add(word)\n",
    "    # if there is no long enough word, return 0\n",
    "    if word_count == 0:\n",
    "        fraction_recycled.append(0)\n",
    "    else: \n",
    "        fraction_recycled.append(match_count / word_count)\n",
    "        \n",
    "jeopardy['Fraction of Question Recycled'] = fraction_recycled\n",
    "print('Fraction of recycled questions: {:.2f}%'.format(100*jeopardy['Fraction of Question Recycled'].mean()))"
   ]
  },
  {
   "cell_type": "markdown",
   "metadata": {},
   "source": [
    "The fraction of recycled long words in questions is close to 90%. \n",
    "It thus seems that studying previous questions can give a good idea of which questions may be asked. \n",
    "\n",
    "Let us plot the evolution of the fraction of recycled questions with years:"
   ]
  },
  {
   "cell_type": "code",
   "execution_count": 16,
   "metadata": {},
   "outputs": [
    {
     "data": {
      "image/png": "[encoded data removed]",
      "text/plain": [
       "<Figure size 432x288 with 1 Axes>"
      ]
     },
     "metadata": {
      "needs_background": "light"
     },
     "output_type": "display_data"
    }
   ],
   "source": [
    "jeopardy['Air Year'] = jeopardy['Air Date'].dt.year\n",
    "jeopardy.groupby('Air Year').mean()['Fraction of Question Recycled'].plot()\n",
    "plt.grid()\n",
    "plt.ylabel('Fraction of Question Recycled')\n",
    "plt.show()"
   ]
  },
  {
   "cell_type": "markdown",
   "metadata": {},
   "source": [
    "The fraction of questions recycled has increased fast before 1990, before going above 90% in 2000 and staying nearly stable since then.\n",
    "\n",
    "### Most-used words in high-value questions\n",
    "\n",
    "Let us now determine the most-used words, focusing on questions with high values. \n",
    "Let us first plot a histogram of the question values to determine which of them may count as high-value:"
   ]
  },
  {
   "cell_type": "code",
   "execution_count": 17,
   "metadata": {},
   "outputs": [
    {
     "data": {
      "image/png": "[encoded data removed]",
      "text/plain": [
       "<Figure size 432x288 with 1 Axes>"
      ]
     },
     "metadata": {
      "needs_background": "light"
     },
     "output_type": "display_data"
    }
   ],
   "source": [
    "(np.log(jeopardy['Value'])/np.log(10)).hist()\n",
    "plt.xlabel('$\\log_{10}(value ($))$')\n",
    "plt.show()"
   ]
  },
  {
   "cell_type": "markdown",
   "metadata": {},
   "source": [
    "The peak of the distribution seems to be somewhere between \\\\$300 and \\\\$1000. \n",
    "Let us take \\\\$800 as a threshold."
   ]
  },
  {
   "cell_type": "code",
   "execution_count": 18,
   "metadata": {},
   "outputs": [
    {
     "data": {
      "text/plain": [
       "[('archive', 8328),\n",
       " ('target', 6969),\n",
       " ('_blank', 6937),\n",
       " ('country', 2535),\n",
       " ('called', 2503),\n",
       " ('american', 1542),\n",
       " ('president', 1376),\n",
       " ('became', 1371),\n",
       " ('french', 1368),\n",
       " ('before', 1232)]"
      ]
     },
     "execution_count": 18,
     "metadata": {},
     "output_type": "execute_result"
    }
   ],
   "source": [
    "nwords = 10\n",
    "threshold = 800\n",
    "freq_words_questions = {}\n",
    "for _, row in jeopardy.iterrows():\n",
    "    if row['Value'] >= threshold:\n",
    "        words_question = row['Question'].split(' ')\n",
    "        for word in words_question:\n",
    "            if len(word) >= 6:\n",
    "                if word in freq_words_questions:\n",
    "                    freq_words_questions[word] += 1\n",
    "                else:\n",
    "                    freq_words_questions[word] = 1\n",
    "sorted(freq_words_questions.items(), key=lambda item: -item[1])[:nwords]"
   ]
  },
  {
   "cell_type": "markdown",
   "metadata": {},
   "source": [
    "The words “archive”, “target”, and “_blank” do not provide much information (and the first and third seem to mostly appear in media contents of questions, such as urls). \n",
    "Discarding them, we find that the most used words in high-value questions are “country”, “called”, “american”, and “president”. \n",
    "A candidate who wants to earn a lot of money at Jeopardy! should thus study the world geography and American history.\n",
    "\n",
    "### Most frequenct categories\n",
    "\n",
    "To help a future candidate prepare for the game, it is useful to know which categories are most represented. \n",
    "Let us first see which of them appear most in all questions: "
   ]
  },
  {
   "cell_type": "code",
   "execution_count": 19,
   "metadata": {},
   "outputs": [
    {
     "name": "stdout",
     "output_type": "stream",
     "text": [
      "BEFORE & AFTER      547\n",
      "SCIENCE             519\n",
      "LITERATURE          496\n",
      "AMERICAN HISTORY    418\n",
      "POTPOURRI           401\n",
      "Name: Category, dtype: int64\n",
      "Percentage of questions covered: 1.10\n"
     ]
    }
   ],
   "source": [
    "res = jeopardy['Category'].value_counts()\n",
    "print(res.head(5))\n",
    "print('Percentage of questions covered: {:.2f}'.format(100*(res.head(5).sum()/res.sum())))"
   ]
  },
  {
   "cell_type": "markdown",
   "metadata": {},
   "source": [
    "These five categories taken together account for just over 1% of all questions asked. \n",
    "To be succesful, a candidate should thus study a broad range of topics instead of focusing on a few questions.\n",
    "\n",
    "Let us now restrict ourselves to high-value questions, with a thresholf of 800USD:"
   ]
  },
  {
   "cell_type": "code",
   "execution_count": 20,
   "metadata": {},
   "outputs": [
    {
     "name": "stdout",
     "output_type": "stream",
     "text": [
      "BEFORE & AFTER             304\n",
      "LITERATURE                 201\n",
      "SCIENCE                    198\n",
      "OPERA                      150\n",
      "COLLEGES & UNIVERSITIES    141\n",
      "Name: Category, dtype: int64\n",
      "Percentage of questions covered: 1.07\n"
     ]
    }
   ],
   "source": [
    "threshold = 800\n",
    "res = jeopardy[jeopardy['Value'] >= threshold]['Category'].value_counts()\n",
    "print(res.head(5))\n",
    "print('Percentage of questions covered: {:.2f}'.format(100*(res.head(5).sum()/res.sum())))"
   ]
  },
  {
   "cell_type": "markdown",
   "metadata": {},
   "source": [
    "The first three categories are the same as for all questions, with the ranks of “Literature” and “Science” exchanged. \n",
    "The five most frequenct categories again cover only a small fraction of all questions. \n",
    "\n",
    "Finally, let us see which categories have the highest total values:"
   ]
  },
  {
   "cell_type": "code",
   "execution_count": 21,
   "metadata": {},
   "outputs": [
    {
     "name": "stdout",
     "output_type": "stream",
     "text": [
      "Highest value categories\n",
      "Category\n",
      "BEFORE & AFTER    491900.0\n",
      "SCIENCE           361221.0\n",
      "LITERATURE        344900.0\n",
      "OPERA             254300.0\n",
      "WORD ORIGINS      251600.0\n",
      "Name: Value, dtype: float64\n",
      "Fraction of the total value covered: 1.06%\n"
     ]
    }
   ],
   "source": [
    "n_categories = 5\n",
    "res = jeopardy.groupby('Category')['Value'].sum().sort_values(ascending=False)\n",
    "print('Highest value categories')\n",
    "print(res.head(n_categories))\n",
    "print('Fraction of the total value covered: {:.2f}%'.format(100*res.head(n_categories).sum()/res.sum()))"
   ]
  },
  {
   "cell_type": "markdown",
   "metadata": {},
   "source": [
    "The three categories with a highest value are the same as the most frequent ones. \n",
    "We also find that they account for a small fraction of the total value only.\n",
    "\n",
    "## Conclusion\n",
    "\n",
    "In this short project, we looked at some statistics of the Jeopardy! questions and answers. \n",
    "We found that: \n",
    "* On average, a bit less that 6% of the answer is already in the question. \n",
    "Looking for the answer in the question can thus give a candidate a small advantage only. \n",
    "* More than 90% of questions asked after the year 2000 had already been asked before. \n",
    "A good strategy a future candidate can follow to be successful is thus to study previously-asked questions.\n",
    "* The three categories which appear most frecuently are “Before & after”, “Science”, and “Literature”. \n",
    "However, they account for only just over 1% of all questions. \n",
    "A future candidate should thus study a broader range of topics to be successful. "
   ]
  }
 ],
 "metadata": {
  "kernelspec": {
   "display_name": "Python 3",
   "language": "python",
   "name": "python3"
  },
  "language_info": {
   "codemirror_mode": {
    "name": "ipython",
    "version": 3
   },
   "file_extension": ".py",
   "mimetype": "text/x-python",
   "name": "python",
   "nbconvert_exporter": "python",
   "pygments_lexer": "ipython3",
   "version": "3.8.5"
  }
 },
 "nbformat": 4,
 "nbformat_minor": 4
}
