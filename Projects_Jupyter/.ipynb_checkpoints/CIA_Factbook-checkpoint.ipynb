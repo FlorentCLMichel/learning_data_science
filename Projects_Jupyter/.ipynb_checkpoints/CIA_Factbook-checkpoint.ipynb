{
 "cells": [
  {
   "cell_type": "markdown",
   "metadata": {},
   "source": [
    "# Exploring the CIA Factbook <font style='color:rgb(0,100,200)'> (Work In Progress) </font>\n",
    "\n",
    "In this project we explore the Central Intelligence Agency (CIA) World Factbook, a compendium of statistics about all countries on Earth. \n",
    "The database, `factbook.db`, was downloaded from [this GitHub repository](https://github.com/factbook) in January 2020. \n",
    "It was released on 1 November 2015 and has (as of 05 January 2020) never been updated. \n",
    "More information on the Factbook can be found on [“The World Factbook” Wikipedia page](https://en.wikipedia.org/wiki/The_World_Factbook). \n",
    "\n",
    "## Interfacing SQL with Pandas\n",
    "\n",
    "We will access information in the database using SQL queries, and analyse it using the Pandas library. \n",
    "To this end, we will define a connection `conn` to the database and a function `SQL_to_pandas` taking an SQL query and returning its result in a Pandas dataframe. \n",
    "First, we import the relevent packages:"
   ]
  },
  {
   "cell_type": "code",
   "execution_count": 1,
   "metadata": {},
   "outputs": [],
   "source": [
    "import sqlite3\n",
    "import pandas as pd\n",
    "import numpy as np\n",
    "import matplotlib.pyplot as plt"
   ]
  },
  {
   "cell_type": "markdown",
   "metadata": {},
   "source": [
    "We then define the connectin and `SQL_to_pandas` function:"
   ]
  },
  {
   "cell_type": "code",
   "execution_count": 2,
   "metadata": {},
   "outputs": [],
   "source": [
    "conn = sqlite3.connect('../Data/factbook.db')\n",
    "def SQL_to_pandas(query):\n",
    "    '''\n",
    "    Takes an SQL query and returns its results as a Pandas dataframe.\n",
    "    query: string\n",
    "    '''\n",
    "    df = pd.read_sql_query(query, conn)\n",
    "    return df"
   ]
  },
  {
   "cell_type": "markdown",
   "metadata": {},
   "source": [
    "# Data exploration\n",
    "\n",
    "To see what is in the database, let us print information on the tables it contains:"
   ]
  },
  {
   "cell_type": "code",
   "execution_count": 3,
   "metadata": {},
   "outputs": [
    {
     "data": {
      "text/html": [
       "<div>\n",
       "<style scoped>\n",
       "    .dataframe tbody tr th:only-of-type {\n",
       "        vertical-align: middle;\n",
       "    }\n",
       "\n",
       "    .dataframe tbody tr th {\n",
       "        vertical-align: top;\n",
       "    }\n",
       "\n",
       "    .dataframe thead th {\n",
       "        text-align: right;\n",
       "    }\n",
       "</style>\n",
       "<table border=\"1\" class=\"dataframe\">\n",
       "  <thead>\n",
       "    <tr style=\"text-align: right;\">\n",
       "      <th></th>\n",
       "      <th>type</th>\n",
       "      <th>name</th>\n",
       "      <th>tbl_name</th>\n",
       "      <th>rootpage</th>\n",
       "      <th>sql</th>\n",
       "    </tr>\n",
       "  </thead>\n",
       "  <tbody>\n",
       "    <tr>\n",
       "      <th>0</th>\n",
       "      <td>table</td>\n",
       "      <td>facts</td>\n",
       "      <td>facts</td>\n",
       "      <td>2</td>\n",
       "      <td>CREATE TABLE \"facts\" (\"id\" INTEGER PRIMARY KEY...</td>\n",
       "    </tr>\n",
       "    <tr>\n",
       "      <th>1</th>\n",
       "      <td>table</td>\n",
       "      <td>sqlite_sequence</td>\n",
       "      <td>sqlite_sequence</td>\n",
       "      <td>3</td>\n",
       "      <td>CREATE TABLE sqlite_sequence(name,seq)</td>\n",
       "    </tr>\n",
       "  </tbody>\n",
       "</table>\n",
       "</div>"
      ],
      "text/plain": [
       "    type             name         tbl_name  rootpage  \\\n",
       "0  table            facts            facts         2   \n",
       "1  table  sqlite_sequence  sqlite_sequence         3   \n",
       "\n",
       "                                                 sql  \n",
       "0  CREATE TABLE \"facts\" (\"id\" INTEGER PRIMARY KEY...  \n",
       "1             CREATE TABLE sqlite_sequence(name,seq)  "
      ]
     },
     "execution_count": 3,
     "metadata": {},
     "output_type": "execute_result"
    }
   ],
   "source": [
    "SQL_to_pandas('SELECT * FROM sqlite_master WHERE type=\"table\"')"
   ]
  },
  {
   "cell_type": "markdown",
   "metadata": {},
   "source": [
    "The database contains two tables: `facts` and `sqlite_sequence`. \n",
    "Let us print the 5 first rows of the former:"
   ]
  },
  {
   "cell_type": "code",
   "execution_count": 4,
   "metadata": {},
   "outputs": [
    {
     "data": {
      "text/html": [
       "<div>\n",
       "<style scoped>\n",
       "    .dataframe tbody tr th:only-of-type {\n",
       "        vertical-align: middle;\n",
       "    }\n",
       "\n",
       "    .dataframe tbody tr th {\n",
       "        vertical-align: top;\n",
       "    }\n",
       "\n",
       "    .dataframe thead th {\n",
       "        text-align: right;\n",
       "    }\n",
       "</style>\n",
       "<table border=\"1\" class=\"dataframe\">\n",
       "  <thead>\n",
       "    <tr style=\"text-align: right;\">\n",
       "      <th></th>\n",
       "      <th>id</th>\n",
       "      <th>code</th>\n",
       "      <th>name</th>\n",
       "      <th>area</th>\n",
       "      <th>area_land</th>\n",
       "      <th>area_water</th>\n",
       "      <th>population</th>\n",
       "      <th>population_growth</th>\n",
       "      <th>birth_rate</th>\n",
       "      <th>death_rate</th>\n",
       "      <th>migration_rate</th>\n",
       "      <th>created_at</th>\n",
       "      <th>updated_at</th>\n",
       "    </tr>\n",
       "  </thead>\n",
       "  <tbody>\n",
       "    <tr>\n",
       "      <th>0</th>\n",
       "      <td>1</td>\n",
       "      <td>af</td>\n",
       "      <td>Afghanistan</td>\n",
       "      <td>652230</td>\n",
       "      <td>652230</td>\n",
       "      <td>0</td>\n",
       "      <td>32564342</td>\n",
       "      <td>2.32</td>\n",
       "      <td>38.57</td>\n",
       "      <td>13.89</td>\n",
       "      <td>1.51</td>\n",
       "      <td>2015-11-01 13:19:49.461734</td>\n",
       "      <td>2015-11-01 13:19:49.461734</td>\n",
       "    </tr>\n",
       "    <tr>\n",
       "      <th>1</th>\n",
       "      <td>2</td>\n",
       "      <td>al</td>\n",
       "      <td>Albania</td>\n",
       "      <td>28748</td>\n",
       "      <td>27398</td>\n",
       "      <td>1350</td>\n",
       "      <td>3029278</td>\n",
       "      <td>0.30</td>\n",
       "      <td>12.92</td>\n",
       "      <td>6.58</td>\n",
       "      <td>3.30</td>\n",
       "      <td>2015-11-01 13:19:54.431082</td>\n",
       "      <td>2015-11-01 13:19:54.431082</td>\n",
       "    </tr>\n",
       "    <tr>\n",
       "      <th>2</th>\n",
       "      <td>3</td>\n",
       "      <td>ag</td>\n",
       "      <td>Algeria</td>\n",
       "      <td>2381741</td>\n",
       "      <td>2381741</td>\n",
       "      <td>0</td>\n",
       "      <td>39542166</td>\n",
       "      <td>1.84</td>\n",
       "      <td>23.67</td>\n",
       "      <td>4.31</td>\n",
       "      <td>0.92</td>\n",
       "      <td>2015-11-01 13:19:59.961286</td>\n",
       "      <td>2015-11-01 13:19:59.961286</td>\n",
       "    </tr>\n",
       "    <tr>\n",
       "      <th>3</th>\n",
       "      <td>4</td>\n",
       "      <td>an</td>\n",
       "      <td>Andorra</td>\n",
       "      <td>468</td>\n",
       "      <td>468</td>\n",
       "      <td>0</td>\n",
       "      <td>85580</td>\n",
       "      <td>0.12</td>\n",
       "      <td>8.13</td>\n",
       "      <td>6.96</td>\n",
       "      <td>0.00</td>\n",
       "      <td>2015-11-01 13:20:03.659945</td>\n",
       "      <td>2015-11-01 13:20:03.659945</td>\n",
       "    </tr>\n",
       "    <tr>\n",
       "      <th>4</th>\n",
       "      <td>5</td>\n",
       "      <td>ao</td>\n",
       "      <td>Angola</td>\n",
       "      <td>1246700</td>\n",
       "      <td>1246700</td>\n",
       "      <td>0</td>\n",
       "      <td>19625353</td>\n",
       "      <td>2.78</td>\n",
       "      <td>38.78</td>\n",
       "      <td>11.49</td>\n",
       "      <td>0.46</td>\n",
       "      <td>2015-11-01 13:20:08.625072</td>\n",
       "      <td>2015-11-01 13:20:08.625072</td>\n",
       "    </tr>\n",
       "  </tbody>\n",
       "</table>\n",
       "</div>"
      ],
      "text/plain": [
       "   id code         name     area  area_land  area_water  population  \\\n",
       "0   1   af  Afghanistan   652230     652230           0    32564342   \n",
       "1   2   al      Albania    28748      27398        1350     3029278   \n",
       "2   3   ag      Algeria  2381741    2381741           0    39542166   \n",
       "3   4   an      Andorra      468        468           0       85580   \n",
       "4   5   ao       Angola  1246700    1246700           0    19625353   \n",
       "\n",
       "   population_growth  birth_rate  death_rate  migration_rate  \\\n",
       "0               2.32       38.57       13.89            1.51   \n",
       "1               0.30       12.92        6.58            3.30   \n",
       "2               1.84       23.67        4.31            0.92   \n",
       "3               0.12        8.13        6.96            0.00   \n",
       "4               2.78       38.78       11.49            0.46   \n",
       "\n",
       "                   created_at                  updated_at  \n",
       "0  2015-11-01 13:19:49.461734  2015-11-01 13:19:49.461734  \n",
       "1  2015-11-01 13:19:54.431082  2015-11-01 13:19:54.431082  \n",
       "2  2015-11-01 13:19:59.961286  2015-11-01 13:19:59.961286  \n",
       "3  2015-11-01 13:20:03.659945  2015-11-01 13:20:03.659945  \n",
       "4  2015-11-01 13:20:08.625072  2015-11-01 13:20:08.625072  "
      ]
     },
     "execution_count": 4,
     "metadata": {},
     "output_type": "execute_result"
    }
   ],
   "source": [
    "SQL_to_pandas('SELECT * FROM facts LIMIT 5')"
   ]
  },
  {
   "cell_type": "markdown",
   "metadata": {},
   "source": [
    "It contains 13 columns: \n",
    "* `Id`: an integer given to each country, which seem to be listed in alphabetical order,\n",
    "* `code`: an appparently two-letter code for each country, \n",
    "* `name`: the country name,\n",
    "* `area`: the total area in square kilometers, \n",
    "* `area_land`: the area covered by land in square kilometers,\n",
    "* `area_water`: the area covered by water in square kilometers, \n",
    "* `population`: the total population, \n",
    "* `population_growth`: annual population growth as a percentage,\n",
    "* `birth_rate`: the birth rate (number of births a year per 1000 people),\n",
    "* `death_rate`: the death rate (number of deatth a year per 1000 people),\n",
    "* `migration_rate`: the migration rate,\n",
    "* `created_at`: the date and time when the entry was added (in year-month-day time format),\n",
    "* `updated_at`: the date and time when the entry was last updated (in year-month-day time format).\n",
    "\n",
    "Let us print the other table:"
   ]
  },
  {
   "cell_type": "code",
   "execution_count": 5,
   "metadata": {},
   "outputs": [
    {
     "data": {
      "text/html": [
       "<div>\n",
       "<style scoped>\n",
       "    .dataframe tbody tr th:only-of-type {\n",
       "        vertical-align: middle;\n",
       "    }\n",
       "\n",
       "    .dataframe tbody tr th {\n",
       "        vertical-align: top;\n",
       "    }\n",
       "\n",
       "    .dataframe thead th {\n",
       "        text-align: right;\n",
       "    }\n",
       "</style>\n",
       "<table border=\"1\" class=\"dataframe\">\n",
       "  <thead>\n",
       "    <tr style=\"text-align: right;\">\n",
       "      <th></th>\n",
       "      <th>name</th>\n",
       "      <th>seq</th>\n",
       "    </tr>\n",
       "  </thead>\n",
       "  <tbody>\n",
       "    <tr>\n",
       "      <th>0</th>\n",
       "      <td>facts</td>\n",
       "      <td>261</td>\n",
       "    </tr>\n",
       "  </tbody>\n",
       "</table>\n",
       "</div>"
      ],
      "text/plain": [
       "    name  seq\n",
       "0  facts  261"
      ]
     },
     "execution_count": 5,
     "metadata": {},
     "output_type": "execute_result"
    }
   ],
   "source": [
    "SQL_to_pandas('SELECT * FROM sqlite_sequence')"
   ]
  },
  {
   "cell_type": "markdown",
   "metadata": {},
   "source": [
    "This table contains only the number of rows in the other one.\n",
    "\n",
    "Let us focus on the populations and their variations. \n",
    "The following query prints the minima and maxima of the populations and their growths."
   ]
  },
  {
   "cell_type": "code",
   "execution_count": 6,
   "metadata": {},
   "outputs": [
    {
     "data": {
      "text/html": [
       "<style  type=\"text/css\" >\n",
       "</style><table id=\"T_50467b68_2fab_11ea_9870_4d17cb2b59a8\" ><thead>    <tr>        <th class=\"col_heading level0 col0\" >Lowest Population</th>        <th class=\"col_heading level0 col1\" >Highest Population</th>        <th class=\"col_heading level0 col2\" >Lowest Population Growth</th>        <th class=\"col_heading level0 col3\" >Highest Population Growth</th>    </tr></thead><tbody>\n",
       "                <tr>\n",
       "                                <td id=\"T_50467b68_2fab_11ea_9870_4d17cb2b59a8row0_col0\" class=\"data row0 col0\" >0</td>\n",
       "                        <td id=\"T_50467b68_2fab_11ea_9870_4d17cb2b59a8row0_col1\" class=\"data row0 col1\" >7256490011</td>\n",
       "                        <td id=\"T_50467b68_2fab_11ea_9870_4d17cb2b59a8row0_col2\" class=\"data row0 col2\" >0</td>\n",
       "                        <td id=\"T_50467b68_2fab_11ea_9870_4d17cb2b59a8row0_col3\" class=\"data row0 col3\" >4.02</td>\n",
       "            </tr>\n",
       "    </tbody></table>"
      ],
      "text/plain": [
       "<pandas.io.formats.style.Styler at 0x7fbc95741128>"
      ]
     },
     "execution_count": 6,
     "metadata": {},
     "output_type": "execute_result"
    }
   ],
   "source": [
    "SQL_to_pandas('''\n",
    "SELECT \n",
    "    MIN(population) AS \"Lowest Population\", \n",
    "    MAX(population) AS \"Highest Population\",\n",
    "    MIN(population_growth) AS \"Lowest Population Growth\", \n",
    "    MAX(population_growth) AS \"Highest Population Growth\"\n",
    "FROM facts\n",
    "''').style.hide_index() # hide the index for readability"
   ]
  },
  {
   "cell_type": "markdown",
   "metadata": {},
   "source": [
    "There seems to be two issues: \n",
    "* The lowest population is 0, which looks strange.\n",
    "* The highest population is larger that 7 billions, which looks like the total world population. \n",
    "\n",
    "To see what is going on, let us print the names of entries with lowest and highest populations:"
   ]
  },
  {
   "cell_type": "code",
   "execution_count": 7,
   "metadata": {},
   "outputs": [
    {
     "data": {
      "text/html": [
       "<style  type=\"text/css\" >\n",
       "</style><table id=\"T_50484448_2fab_11ea_9870_4d17cb2b59a8\" ><thead>    <tr>        <th class=\"col_heading level0 col0\" >id</th>        <th class=\"col_heading level0 col1\" >code</th>        <th class=\"col_heading level0 col2\" >name</th>        <th class=\"col_heading level0 col3\" >area</th>        <th class=\"col_heading level0 col4\" >area_land</th>        <th class=\"col_heading level0 col5\" >area_water</th>        <th class=\"col_heading level0 col6\" >population</th>        <th class=\"col_heading level0 col7\" >population_growth</th>        <th class=\"col_heading level0 col8\" >birth_rate</th>        <th class=\"col_heading level0 col9\" >death_rate</th>        <th class=\"col_heading level0 col10\" >migration_rate</th>        <th class=\"col_heading level0 col11\" >created_at</th>        <th class=\"col_heading level0 col12\" >updated_at</th>    </tr></thead><tbody>\n",
       "                <tr>\n",
       "                                <td id=\"T_50484448_2fab_11ea_9870_4d17cb2b59a8row0_col0\" class=\"data row0 col0\" >250</td>\n",
       "                        <td id=\"T_50484448_2fab_11ea_9870_4d17cb2b59a8row0_col1\" class=\"data row0 col1\" >ay</td>\n",
       "                        <td id=\"T_50484448_2fab_11ea_9870_4d17cb2b59a8row0_col2\" class=\"data row0 col2\" >Antarctica</td>\n",
       "                        <td id=\"T_50484448_2fab_11ea_9870_4d17cb2b59a8row0_col3\" class=\"data row0 col3\" >None</td>\n",
       "                        <td id=\"T_50484448_2fab_11ea_9870_4d17cb2b59a8row0_col4\" class=\"data row0 col4\" >280000</td>\n",
       "                        <td id=\"T_50484448_2fab_11ea_9870_4d17cb2b59a8row0_col5\" class=\"data row0 col5\" >None</td>\n",
       "                        <td id=\"T_50484448_2fab_11ea_9870_4d17cb2b59a8row0_col6\" class=\"data row0 col6\" >0</td>\n",
       "                        <td id=\"T_50484448_2fab_11ea_9870_4d17cb2b59a8row0_col7\" class=\"data row0 col7\" >nan</td>\n",
       "                        <td id=\"T_50484448_2fab_11ea_9870_4d17cb2b59a8row0_col8\" class=\"data row0 col8\" >nan</td>\n",
       "                        <td id=\"T_50484448_2fab_11ea_9870_4d17cb2b59a8row0_col9\" class=\"data row0 col9\" >nan</td>\n",
       "                        <td id=\"T_50484448_2fab_11ea_9870_4d17cb2b59a8row0_col10\" class=\"data row0 col10\" >None</td>\n",
       "                        <td id=\"T_50484448_2fab_11ea_9870_4d17cb2b59a8row0_col11\" class=\"data row0 col11\" >2015-11-01 13:38:44.885746</td>\n",
       "                        <td id=\"T_50484448_2fab_11ea_9870_4d17cb2b59a8row0_col12\" class=\"data row0 col12\" >2015-11-01 13:38:44.885746</td>\n",
       "            </tr>\n",
       "            <tr>\n",
       "                                <td id=\"T_50484448_2fab_11ea_9870_4d17cb2b59a8row1_col0\" class=\"data row1 col0\" >261</td>\n",
       "                        <td id=\"T_50484448_2fab_11ea_9870_4d17cb2b59a8row1_col1\" class=\"data row1 col1\" >xx</td>\n",
       "                        <td id=\"T_50484448_2fab_11ea_9870_4d17cb2b59a8row1_col2\" class=\"data row1 col2\" >World</td>\n",
       "                        <td id=\"T_50484448_2fab_11ea_9870_4d17cb2b59a8row1_col3\" class=\"data row1 col3\" >None</td>\n",
       "                        <td id=\"T_50484448_2fab_11ea_9870_4d17cb2b59a8row1_col4\" class=\"data row1 col4\" >nan</td>\n",
       "                        <td id=\"T_50484448_2fab_11ea_9870_4d17cb2b59a8row1_col5\" class=\"data row1 col5\" >None</td>\n",
       "                        <td id=\"T_50484448_2fab_11ea_9870_4d17cb2b59a8row1_col6\" class=\"data row1 col6\" >7256490011</td>\n",
       "                        <td id=\"T_50484448_2fab_11ea_9870_4d17cb2b59a8row1_col7\" class=\"data row1 col7\" >1.08</td>\n",
       "                        <td id=\"T_50484448_2fab_11ea_9870_4d17cb2b59a8row1_col8\" class=\"data row1 col8\" >18.6</td>\n",
       "                        <td id=\"T_50484448_2fab_11ea_9870_4d17cb2b59a8row1_col9\" class=\"data row1 col9\" >7.8</td>\n",
       "                        <td id=\"T_50484448_2fab_11ea_9870_4d17cb2b59a8row1_col10\" class=\"data row1 col10\" >None</td>\n",
       "                        <td id=\"T_50484448_2fab_11ea_9870_4d17cb2b59a8row1_col11\" class=\"data row1 col11\" >2015-11-01 13:39:09.910721</td>\n",
       "                        <td id=\"T_50484448_2fab_11ea_9870_4d17cb2b59a8row1_col12\" class=\"data row1 col12\" >2015-11-01 13:39:09.910721</td>\n",
       "            </tr>\n",
       "    </tbody></table>"
      ],
      "text/plain": [
       "<pandas.io.formats.style.Styler at 0x7fbc956c1e80>"
      ]
     },
     "execution_count": 7,
     "metadata": {},
     "output_type": "execute_result"
    }
   ],
   "source": [
    "SQL_to_pandas('''\n",
    "SELECT * FROM facts WHERE population IN\n",
    "    ((SELECT MIN(population) FROM facts), \n",
    "    (SELECT MAX(population) FROM facts))\n",
    "''').style.hide_index()"
   ]
  },
  {
   "cell_type": "markdown",
   "metadata": {},
   "source": [
    "There is one country with no population at all: Antartica. \n",
    "The highest reported population is that of the entire world. \n",
    "\n",
    "Let us now show histograms for the population, population growth, birth rate, and death rate, excluding these two particular entries:"
   ]
  },
  {
   "cell_type": "code",
   "execution_count": 8,
   "metadata": {},
   "outputs": [
    {
     "data": {
      "image/png": "[encoded data removed]",
      "text/plain": [
       "<Figure size 720x504 with 4 Axes>"
      ]
     },
     "metadata": {
      "needs_background": "light"
     },
     "output_type": "display_data"
    }
   ],
   "source": [
    "pop_birth_death = SQL_to_pandas('''\n",
    "SELECT population, population_growth, birth_rate, death_rate\n",
    "FROM facts\n",
    "WHERE  name NOT IN (\"Antartica\",\"World\")\n",
    "''')\n",
    "pop_birth_death.hist(figsize=(10,7))\n",
    "plt.show()"
   ]
  },
  {
   "cell_type": "markdown",
   "metadata": {},
   "source": [
    "We notice that a large majority of countries have less than 200 million inhabitants, while a few outliers have more than one billion. \n",
    "Let us remove look at the population distribution without these outliers:"
   ]
  },
  {
   "cell_type": "code",
   "execution_count": 9,
   "metadata": {},
   "outputs": [
    {
     "data": {
      "image/png": "[encoded data removed]",
      "text/plain": [
       "<Figure size 432x288 with 1 Axes>"
      ]
     },
     "metadata": {
      "needs_background": "light"
     },
     "output_type": "display_data"
    }
   ],
   "source": [
    "pop_no_outl = SQL_to_pandas('''\n",
    "SELECT population\n",
    "FROM facts\n",
    "WHERE population < 1000000000\n",
    "    AND population > 0\n",
    "''')\n",
    "pop_no_outl.hist()\n",
    "plt.show()"
   ]
  },
  {
   "cell_type": "markdown",
   "metadata": {},
   "source": [
    "Most countries seem to have less than 50,000,000 inhabitants. \n",
    "Let us focus on them:"
   ]
  },
  {
   "cell_type": "code",
   "execution_count": 10,
   "metadata": {},
   "outputs": [
    {
     "data": {
      "image/png": "[encoded data removed]",
      "text/plain": [
       "<Figure size 432x288 with 1 Axes>"
      ]
     },
     "metadata": {
      "needs_background": "light"
     },
     "output_type": "display_data"
    }
   ],
   "source": [
    "pop_small = SQL_to_pandas('''\n",
    "SELECT population\n",
    "FROM facts\n",
    "WHERE population < 50000000\n",
    "    AND population > 0\n",
    "''')\n",
    "pop_small.hist()\n",
    "plt.show()"
   ]
  },
  {
   "cell_type": "markdown",
   "metadata": {},
   "source": [
    "Given that the difference between highest and lowest populations spans orders of magnitudes, it may be more instructive to look at the logarithm of the population instead:"
   ]
  },
  {
   "cell_type": "code",
   "execution_count": 11,
   "metadata": {},
   "outputs": [
    {
     "data": {
      "image/png": "[encoded data removed]",
      "text/plain": [
       "<Figure size 432x288 with 1 Axes>"
      ]
     },
     "metadata": {
      "needs_background": "light"
     },
     "output_type": "display_data"
    }
   ],
   "source": [
    "pop_log = SQL_to_pandas('''\n",
    "SELECT population\n",
    "FROM facts\n",
    "WHERE name != \"World\"\n",
    "    AND population > 0\n",
    "''')\n",
    "pop_log['log(population)'] = np.log(pop_log['population'])/np.log(10)\n",
    "pop_log.drop('population', axis=1, inplace=True)\n",
    "pop_log.hist()\n",
    "plt.show()"
   ]
  },
  {
   "cell_type": "markdown",
   "metadata": {},
   "source": [
    "Let us now focus on the population density. "
   ]
  },
  {
   "cell_type": "code",
   "execution_count": 23,
   "metadata": {},
   "outputs": [
    {
     "data": {
      "image/png": "[encoded data removed]",
      "text/plain": [
       "<Figure size 432x288 with 1 Axes>"
      ]
     },
     "metadata": {
      "needs_background": "light"
     },
     "output_type": "display_data"
    }
   ],
   "source": [
    "pop_density = SQL_to_pandas('''\n",
    "SELECT name, CAST(population AS FLOAT) / area_land AS density\n",
    "FROM facts\n",
    "WHERE name != \"World\"\n",
    "    AND population > 0\n",
    "''')\n",
    "pop_density.hist()\n",
    "plt.title('Population density (inh. per sq. km)')\n",
    "plt.show()"
   ]
  },
  {
   "cell_type": "markdown",
   "metadata": {},
   "source": [
    "Most countries seem to have a density smaller than 2000 inhabitants per square kilometers, while a few have more. \n",
    "Let us see which countries have such a high density:"
   ]
  },
  {
   "cell_type": "code",
   "execution_count": 24,
   "metadata": {},
   "outputs": [
    {
     "data": {
      "text/html": [
       "<style  type=\"text/css\" >\n",
       "</style><table id=\"T_68b13f8e_2fac_11ea_9870_4d17cb2b59a8\" ><thead>    <tr>        <th class=\"col_heading level0 col0\" >name</th>        <th class=\"col_heading level0 col1\" >density</th>    </tr></thead><tbody>\n",
       "                <tr>\n",
       "                                <td id=\"T_68b13f8e_2fac_11ea_9870_4d17cb2b59a8row0_col0\" class=\"data row0 col0\" >Macau</td>\n",
       "                        <td id=\"T_68b13f8e_2fac_11ea_9870_4d17cb2b59a8row0_col1\" class=\"data row0 col1\" >21169</td>\n",
       "            </tr>\n",
       "            <tr>\n",
       "                                <td id=\"T_68b13f8e_2fac_11ea_9870_4d17cb2b59a8row1_col0\" class=\"data row1 col0\" >Monaco</td>\n",
       "                        <td id=\"T_68b13f8e_2fac_11ea_9870_4d17cb2b59a8row1_col1\" class=\"data row1 col1\" >15267.5</td>\n",
       "            </tr>\n",
       "            <tr>\n",
       "                                <td id=\"T_68b13f8e_2fac_11ea_9870_4d17cb2b59a8row2_col0\" class=\"data row2 col0\" >Singapore</td>\n",
       "                        <td id=\"T_68b13f8e_2fac_11ea_9870_4d17cb2b59a8row2_col1\" class=\"data row2 col1\" >8259.78</td>\n",
       "            </tr>\n",
       "            <tr>\n",
       "                                <td id=\"T_68b13f8e_2fac_11ea_9870_4d17cb2b59a8row3_col0\" class=\"data row3 col0\" >Hong Kong</td>\n",
       "                        <td id=\"T_68b13f8e_2fac_11ea_9870_4d17cb2b59a8row3_col1\" class=\"data row3 col1\" >6655.27</td>\n",
       "            </tr>\n",
       "            <tr>\n",
       "                                <td id=\"T_68b13f8e_2fac_11ea_9870_4d17cb2b59a8row4_col0\" class=\"data row4 col0\" >Gaza Strip</td>\n",
       "                        <td id=\"T_68b13f8e_2fac_11ea_9870_4d17cb2b59a8row4_col1\" class=\"data row4 col1\" >5191.82</td>\n",
       "            </tr>\n",
       "            <tr>\n",
       "                                <td id=\"T_68b13f8e_2fac_11ea_9870_4d17cb2b59a8row5_col0\" class=\"data row5 col0\" >Gibraltar</td>\n",
       "                        <td id=\"T_68b13f8e_2fac_11ea_9870_4d17cb2b59a8row5_col1\" class=\"data row5 col1\" >4876.33</td>\n",
       "            </tr>\n",
       "    </tbody></table>"
      ],
      "text/plain": [
       "<pandas.io.formats.style.Styler at 0x7fbc8b776ac8>"
      ]
     },
     "execution_count": 24,
     "metadata": {},
     "output_type": "execute_result"
    }
   ],
   "source": [
    "pop_density[pop_density['density'] > 2000].sort_values('density', ascending = False).style.hide_index()"
   ]
  },
  {
   "cell_type": "markdown",
   "metadata": {},
   "source": [
    "Six countries have such a high population density. \n",
    "The country with highest density is Macau, followed by Monaco and Singapore. \n",
    "\n",
    "Let us now look at the countries with smallest densities:"
   ]
  },
  {
   "cell_type": "code",
   "execution_count": 25,
   "metadata": {},
   "outputs": [
    {
     "data": {
      "text/html": [
       "<style  type=\"text/css\" >\n",
       "</style><table id=\"T_6a893c44_2fac_11ea_9870_4d17cb2b59a8\" ><thead>    <tr>        <th class=\"col_heading level0 col0\" >name</th>        <th class=\"col_heading level0 col1\" >density</th>    </tr></thead><tbody>\n",
       "                <tr>\n",
       "                                <td id=\"T_6a893c44_2fac_11ea_9870_4d17cb2b59a8row0_col0\" class=\"data row0 col0\" >Greenland</td>\n",
       "                        <td id=\"T_6a893c44_2fac_11ea_9870_4d17cb2b59a8row0_col1\" class=\"data row0 col1\" >0.0266531</td>\n",
       "            </tr>\n",
       "            <tr>\n",
       "                                <td id=\"T_6a893c44_2fac_11ea_9870_4d17cb2b59a8row1_col0\" class=\"data row1 col0\" >Svalbard</td>\n",
       "                        <td id=\"T_6a893c44_2fac_11ea_9870_4d17cb2b59a8row1_col1\" class=\"data row1 col1\" >0.0301716</td>\n",
       "            </tr>\n",
       "            <tr>\n",
       "                                <td id=\"T_6a893c44_2fac_11ea_9870_4d17cb2b59a8row2_col0\" class=\"data row2 col0\" >Falkland Islands (Islas Malvinas)</td>\n",
       "                        <td id=\"T_6a893c44_2fac_11ea_9870_4d17cb2b59a8row2_col1\" class=\"data row2 col1\" >0.276103</td>\n",
       "            </tr>\n",
       "            <tr>\n",
       "                                <td id=\"T_6a893c44_2fac_11ea_9870_4d17cb2b59a8row3_col0\" class=\"data row3 col0\" >Pitcairn Islands</td>\n",
       "                        <td id=\"T_6a893c44_2fac_11ea_9870_4d17cb2b59a8row3_col1\" class=\"data row3 col1\" >1.02128</td>\n",
       "            </tr>\n",
       "            <tr>\n",
       "                                <td id=\"T_6a893c44_2fac_11ea_9870_4d17cb2b59a8row4_col0\" class=\"data row4 col0\" >Mongolia</td>\n",
       "                        <td id=\"T_6a893c44_2fac_11ea_9870_4d17cb2b59a8row4_col1\" class=\"data row4 col1\" >1.92649</td>\n",
       "            </tr>\n",
       "    </tbody></table>"
      ],
      "text/plain": [
       "<pandas.io.formats.style.Styler at 0x7fbc8b776320>"
      ]
     },
     "execution_count": 25,
     "metadata": {},
     "output_type": "execute_result"
    }
   ],
   "source": [
    "pop_density.sort_values('density')[:5].style.hide_index()"
   ]
  },
  {
   "cell_type": "markdown",
   "metadata": {},
   "source": [
    "Greenland, the Falkland Islands, and Svalbard have a density inferior to 1 inhabitant per square kilometer. \n",
    "\n",
    "As we did for the population, let us plot an histogram the logarithm of the density:"
   ]
  },
  {
   "cell_type": "code",
   "execution_count": 29,
   "metadata": {},
   "outputs": [
    {
     "data": {
      "image/png": "[encoded data removed]",
      "text/plain": [
       "<Figure size 432x288 with 1 Axes>"
      ]
     },
     "metadata": {
      "needs_background": "light"
     },
     "output_type": "display_data"
    }
   ],
   "source": [
    "pop_density_log = SQL_to_pandas('''\n",
    "SELECT name, CAST(population AS FLOAT) / area_land AS density\n",
    "FROM facts\n",
    "WHERE name != \"World\"\n",
    "    AND population > 0\n",
    "''')\n",
    "pop_density_log['density_log'] = np.log(pop_density_log['density'])/np.log(10)\n",
    "pop_density_log.drop('density', axis=1, inplace=True)\n",
    "pop_density_log.hist()\n",
    "plt.title('log(Population density (inh. per sq. km))')\n",
    "plt.show()"
   ]
  },
  {
   "cell_type": "markdown",
   "metadata": {},
   "source": [
    "Finally, let us focus on the ratio of water to land:"
   ]
  },
  {
   "cell_type": "code",
   "execution_count": 41,
   "metadata": {},
   "outputs": [
    {
     "data": {
      "image/png": "[encoded data removed]",
      "text/plain": [
       "<Figure size 432x288 with 1 Axes>"
      ]
     },
     "metadata": {
      "needs_background": "light"
     },
     "output_type": "display_data"
    }
   ],
   "source": [
    "wat_to_lan = SQL_to_pandas('''\n",
    "SELECT name, CAST(area_water AS FLOAT) / area_land AS water_to_land\n",
    "FROM facts\n",
    "WHERE name != \"World\"\n",
    "''')\n",
    "wat_to_lan.hist()\n",
    "plt.title('Ratio of water to land')\n",
    "plt.show()"
   ]
  },
  {
   "cell_type": "markdown",
   "metadata": {},
   "source": [
    "There is one outlier with more than 800 times more water than land. \n",
    "Let us see which country it is:"
   ]
  },
  {
   "cell_type": "code",
   "execution_count": 42,
   "metadata": {},
   "outputs": [
    {
     "data": {
      "text/html": [
       "<style  type=\"text/css\" >\n",
       "</style><table id=\"T_922fef80_2fad_11ea_9870_4d17cb2b59a8\" ><thead>    <tr>        <th class=\"col_heading level0 col0\" >name</th>        <th class=\"col_heading level0 col1\" >water_to_land</th>    </tr></thead><tbody>\n",
       "                <tr>\n",
       "                                <td id=\"T_922fef80_2fad_11ea_9870_4d17cb2b59a8row0_col0\" class=\"data row0 col0\" >British Indian Ocean Territory</td>\n",
       "                        <td id=\"T_922fef80_2fad_11ea_9870_4d17cb2b59a8row0_col1\" class=\"data row0 col1\" >905.667</td>\n",
       "            </tr>\n",
       "    </tbody></table>"
      ],
      "text/plain": [
       "<pandas.io.formats.style.Styler at 0x7fbcb4744438>"
      ]
     },
     "execution_count": 42,
     "metadata": {},
     "output_type": "execute_result"
    }
   ],
   "source": [
    "wat_to_lan.sort_values('water_to_land', ascending=False)[:1].style.hide_index()"
   ]
  },
  {
   "cell_type": "markdown",
   "metadata": {},
   "source": [
    "The British Indian Ocean Territory is made mostly of water. \n",
    "\n",
    "Let us redraw the histogram without this outlier:"
   ]
  },
  {
   "cell_type": "code",
   "execution_count": 43,
   "metadata": {},
   "outputs": [
    {
     "data": {
      "image/png": "[encoded data removed]",
      "text/plain": [
       "<Figure size 432x288 with 1 Axes>"
      ]
     },
     "metadata": {
      "needs_background": "light"
     },
     "output_type": "display_data"
    }
   ],
   "source": [
    "wat_to_lan_2 = SQL_to_pandas('''\n",
    "SELECT name, CAST(area_water AS FLOAT) / area_land AS water_to_land\n",
    "FROM facts\n",
    "WHERE name != \"World\"\n",
    "    AND water_to_land < 900\n",
    "''')\n",
    "wat_to_lan_2.hist()\n",
    "plt.title('Ratio of water to land')\n",
    "plt.show()"
   ]
  },
  {
   "cell_type": "markdown",
   "metadata": {},
   "source": [
    "There is another outlier."
   ]
  },
  {
   "cell_type": "code",
   "execution_count": 44,
   "metadata": {},
   "outputs": [
    {
     "data": {
      "text/html": [
       "<style  type=\"text/css\" >\n",
       "</style><table id=\"T_96b534a2_2fad_11ea_9870_4d17cb2b59a8\" ><thead>    <tr>        <th class=\"col_heading level0 col0\" >name</th>        <th class=\"col_heading level0 col1\" >water_to_land</th>    </tr></thead><tbody>\n",
       "                <tr>\n",
       "                                <td id=\"T_96b534a2_2fad_11ea_9870_4d17cb2b59a8row0_col0\" class=\"data row0 col0\" >Virgin Islands</td>\n",
       "                        <td id=\"T_96b534a2_2fad_11ea_9870_4d17cb2b59a8row0_col1\" class=\"data row0 col1\" >4.52023</td>\n",
       "            </tr>\n",
       "    </tbody></table>"
      ],
      "text/plain": [
       "<pandas.io.formats.style.Styler at 0x7fbc8afd0630>"
      ]
     },
     "execution_count": 44,
     "metadata": {},
     "output_type": "execute_result"
    }
   ],
   "source": [
    "wat_to_lan_2.sort_values('water_to_land', ascending=False)[:1].style.hide_index()"
   ]
  },
  {
   "cell_type": "markdown",
   "metadata": {},
   "source": [
    "This country is the Virgin Islands, with more than 4 times as much water as lands.\n",
    "\n",
    "Let us redraw the histogram without this second outlier:"
   ]
  },
  {
   "cell_type": "code",
   "execution_count": 45,
   "metadata": {},
   "outputs": [
    {
     "data": {
      "image/png": "[encoded data removed]",
      "text/plain": [
       "<Figure size 432x288 with 1 Axes>"
      ]
     },
     "metadata": {
      "needs_background": "light"
     },
     "output_type": "display_data"
    }
   ],
   "source": [
    "wat_to_lan_3 = SQL_to_pandas('''\n",
    "SELECT name, CAST(area_water AS FLOAT) / area_land AS water_to_land\n",
    "FROM facts\n",
    "WHERE name != \"World\"\n",
    "    AND water_to_land < 4\n",
    "''')\n",
    "wat_to_lan_3.hist()\n",
    "plt.title('Ratio of water to land')\n",
    "plt.show()"
   ]
  },
  {
   "cell_type": "markdown",
   "metadata": {},
   "source": [
    "Most cuntries have more than 10 times as much land as they have water. \n",
    "It seems the British Indian Ocean Territory and Virgin Islands are the only countries with more water than land.\n",
    "Let us check this:"
   ]
  },
  {
   "cell_type": "code",
   "execution_count": 46,
   "metadata": {},
   "outputs": [
    {
     "data": {
      "text/html": [
       "<div>\n",
       "<style scoped>\n",
       "    .dataframe tbody tr th:only-of-type {\n",
       "        vertical-align: middle;\n",
       "    }\n",
       "\n",
       "    .dataframe tbody tr th {\n",
       "        vertical-align: top;\n",
       "    }\n",
       "\n",
       "    .dataframe thead th {\n",
       "        text-align: right;\n",
       "    }\n",
       "</style>\n",
       "<table border=\"1\" class=\"dataframe\">\n",
       "  <thead>\n",
       "    <tr style=\"text-align: right;\">\n",
       "      <th></th>\n",
       "      <th>name</th>\n",
       "      <th>water_to_land</th>\n",
       "    </tr>\n",
       "  </thead>\n",
       "  <tbody>\n",
       "    <tr>\n",
       "      <th>0</th>\n",
       "      <td>British Indian Ocean Territory</td>\n",
       "      <td>905.666667</td>\n",
       "    </tr>\n",
       "    <tr>\n",
       "      <th>1</th>\n",
       "      <td>Virgin Islands</td>\n",
       "      <td>4.520231</td>\n",
       "    </tr>\n",
       "  </tbody>\n",
       "</table>\n",
       "</div>"
      ],
      "text/plain": [
       "                             name  water_to_land\n",
       "0  British Indian Ocean Territory     905.666667\n",
       "1                  Virgin Islands       4.520231"
      ]
     },
     "execution_count": 46,
     "metadata": {},
     "output_type": "execute_result"
    }
   ],
   "source": [
    "SQL_to_pandas('''\n",
    "SELECT name, CAST(area_water AS FLOAT) / area_land AS water_to_land\n",
    "FROM facts\n",
    "WHERE water_to_land >= 1\n",
    "''')"
   ]
  },
  {
   "cell_type": "markdown",
   "metadata": {},
   "source": [
    "They are indeed the only two. \n",
    "\n",
    "Finally, let us see how many countries have no water area at all:"
   ]
  },
  {
   "cell_type": "code",
   "execution_count": 48,
   "metadata": {},
   "outputs": [
    {
     "data": {
      "text/html": [
       "<div>\n",
       "<style scoped>\n",
       "    .dataframe tbody tr th:only-of-type {\n",
       "        vertical-align: middle;\n",
       "    }\n",
       "\n",
       "    .dataframe tbody tr th {\n",
       "        vertical-align: top;\n",
       "    }\n",
       "\n",
       "    .dataframe thead th {\n",
       "        text-align: right;\n",
       "    }\n",
       "</style>\n",
       "<table border=\"1\" class=\"dataframe\">\n",
       "  <thead>\n",
       "    <tr style=\"text-align: right;\">\n",
       "      <th></th>\n",
       "      <th>COUNT(*)</th>\n",
       "    </tr>\n",
       "  </thead>\n",
       "  <tbody>\n",
       "    <tr>\n",
       "      <th>0</th>\n",
       "      <td>90</td>\n",
       "    </tr>\n",
       "  </tbody>\n",
       "</table>\n",
       "</div>"
      ],
      "text/plain": [
       "   COUNT(*)\n",
       "0        90"
      ]
     },
     "execution_count": 48,
     "metadata": {},
     "output_type": "execute_result"
    }
   ],
   "source": [
    "SQL_to_pandas('''\n",
    "SELECT COUNT(*)\n",
    "FROM facts\n",
    "WHERE area_water = 0\n",
    "''')"
   ]
  },
  {
   "cell_type": "markdown",
   "metadata": {},
   "source": [
    "There are 90 countries with no water area at all."
   ]
  }
 ],
 "metadata": {
  "kernelspec": {
   "display_name": "Python 3",
   "language": "python",
   "name": "python3"
  },
  "language_info": {
   "codemirror_mode": {
    "name": "ipython",
    "version": 3
   },
   "file_extension": ".py",
   "mimetype": "text/x-python",
   "name": "python",
   "nbconvert_exporter": "python",
   "pygments_lexer": "ipython3",
   "version": "3.7.3"
  }
 },
 "nbformat": 4,
 "nbformat_minor": 4
}
