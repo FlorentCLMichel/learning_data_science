{
 "cells": [
  {
   "cell_type": "markdown",
   "metadata": {},
   "source": [
    "# Handwritten digits reckognition\n",
    "\n",
    "In this notebook, we train a few simple models to reckognize handwritten digits. We will use a rather small dataset, so our results may not apply to more standard machine-learning problems which generally involve large ones. We also use only simple models: k-nearest neighbours and dense neural networks. The experiments below should be seen as illustrations of what simple machine learning approaches can do on relatively small datasets. \n",
    "\n",
    "(For larger images, convolutional neural networks usually give better results.)\n",
    "\n",
    "## Load and pre-process the data\n",
    "\n",
    "We will work with the [UCI handwritten digits dataset](https://archive.ics.uci.edu/ml/datasets/Optical+Recognition+of+Handwritten+Digits), consisting in 1797 images with 8 by 8 pixels each. These images are pictures of digits hand-written by 43 different people. We import it using scikit-learn:"
   ]
  },
  {
   "cell_type": "code",
   "execution_count": 1,
   "metadata": {},
   "outputs": [],
   "source": [
    "from sklearn.datasets import load_digits\n",
    "handwritten_numbers = load_digits()"
   ]
  },
  {
   "cell_type": "markdown",
   "metadata": {},
   "source": [
    "Extract the images and labels:"
   ]
  },
  {
   "cell_type": "code",
   "execution_count": 2,
   "metadata": {},
   "outputs": [],
   "source": [
    "images = handwritten_numbers['images']\n",
    "labels = handwritten_numbers['target']"
   ]
  },
  {
   "cell_type": "markdown",
   "metadata": {},
   "source": [
    "Let us plot a few images:"
   ]
  },
  {
   "cell_type": "code",
   "execution_count": 3,
   "metadata": {},
   "outputs": [
    {
     "data": {
      "image/png": "[encoded data removed]",
      "text/plain": [
       "<Figure size 432x288 with 6 Axes>"
      ]
     },
     "metadata": {
      "needs_background": "light"
     },
     "output_type": "display_data"
    }
   ],
   "source": [
    "# import pyplot\n",
    "import matplotlib.pyplot as plt\n",
    "\n",
    "# indices of the images to plot\n",
    "indices_to_plot = [[0, 100, 200],\n",
    "                 [1000, 1500, 1700]]\n",
    "\n",
    "# create the figure\n",
    "fig, axes = plt.subplots(len(indices_to_plot), len(indices_to_plot[0]))\n",
    "for i, l in enumerate(indices_to_plot):\n",
    "    for j, im in enumerate(l):\n",
    "        axes[i,j].imshow(images[im])\n",
    "\n",
    "# show the figure        \n",
    "plt.show()"
   ]
  },
  {
   "cell_type": "markdown",
   "metadata": {},
   "source": [
    "Let us now normalize the images by subtracting the minimum value of all pixels and dividing by the maximum value, so that all values are between 0 and 1:"
   ]
  },
  {
   "cell_type": "code",
   "execution_count": 4,
   "metadata": {},
   "outputs": [],
   "source": [
    "def normalize(images):\n",
    "    return (images-images.min()) / (images.max()-images.min())\n",
    "\n",
    "images = normalize(images)"
   ]
  },
  {
   "cell_type": "markdown",
   "metadata": {},
   "source": [
    "Let us also print the first 100 labels:"
   ]
  },
  {
   "cell_type": "code",
   "execution_count": 5,
   "metadata": {},
   "outputs": [
    {
     "name": "stdout",
     "output_type": "stream",
     "text": [
      "[0 1 2 3 4 5 6 7 8 9 0 1 2 3 4 5 6 7 8 9 0 1 2 3 4 5 6 7 8 9 0 9 5 5 6 5 0\n",
      " 9 8 9 8 4 1 7 7 3 5 1 0 0 2 2 7 8 2 0 1 2 6 3 3 7 3 3 4 6 6 6 4 9 1 5 0 9\n",
      " 5 2 8 2 0 0 1 7 6 3 2 1 7 4 6 3 1 3 9 1 7 6 8 4 3 1]\n"
     ]
    }
   ],
   "source": [
    "print(labels[:100])"
   ]
  },
  {
   "cell_type": "markdown",
   "metadata": {},
   "source": [
    "The images do not seem to be in any particular order. \n",
    "There is thus no need to shuffle them. \n",
    "(In a real-world project, this assertion would need to be supported by stronger arguments, for instance a precise statistcal analysis of the distribution of labels, or the data should be shuffled anyway.)\n",
    "Finally, we split the data into a training set and a test set, the later containing approximately 20% of the data. "
   ]
  },
  {
   "cell_type": "code",
   "execution_count": 6,
   "metadata": {},
   "outputs": [],
   "source": [
    "from numpy.random import choice\n",
    "from numpy import array\n",
    "\n",
    "# fraction of images used for the test\n",
    "fraction_test = 0.2\n",
    "\n",
    "# total number of images\n",
    "n_images = images.shape[0]\n",
    "\n",
    "# indices of the test set\n",
    "indices_test = choice(range(n_images), size=int(fraction_test*n_images), replace=False)\n",
    "\n",
    "# test set\n",
    "Xtest = array([images[i] for i in indices_test]) \n",
    "Ytest = array([labels[i] for i in indices_test]) \n",
    "\n",
    "# train set\n",
    "Xtrain = array([images[i] for i in range(n_images) if i not in indices_test]) \n",
    "Ytrain = array([labels[i] for i in range(n_images) if i not in indices_test]) "
   ]
  },
  {
   "cell_type": "markdown",
   "metadata": {},
   "source": [
    "## K-nearest neighbours\n",
    "\n",
    "The first algorithm we use is the k-nearest neighbours, using the `KNeighborsClassifier` class from scikit-learn. \n",
    "We first define a function to train such a model:"
   ]
  },
  {
   "cell_type": "code",
   "execution_count": 7,
   "metadata": {},
   "outputs": [],
   "source": [
    "# import the KNeighborsClassifier class\n",
    "from sklearn.neighbors import KNeighborsClassifier\n",
    "\n",
    "def train_knn(k, X, Y, **kwargs):\n",
    "    '''\n",
    "    Train a k-nearest neighbours model and return it. \n",
    "    \n",
    "    Arguments:\n",
    "        k (int): number of neighbours\n",
    "        X (array): train data\n",
    "        Y (array): train labels\n",
    "        kwargs: keywords arguments for the KNeighborsClassifer instance\n",
    "    '''\n",
    "    \n",
    "    # flatten each image\n",
    "    X = array([x.flatten() for x in X])\n",
    "    \n",
    "    model = KNeighborsClassifier(n_neighbors=k, **kwargs)\n",
    "    model.fit(X, Y)\n",
    "    return model"
   ]
  },
  {
   "cell_type": "markdown",
   "metadata": {},
   "source": [
    "We then define a function to test the model:"
   ]
  },
  {
   "cell_type": "code",
   "execution_count": 8,
   "metadata": {},
   "outputs": [],
   "source": [
    "def test_knn(model, X, Y):\n",
    "    '''\n",
    "    Test a k-nearest neighbours model and return its accuracy.\n",
    "    \n",
    "    Arguments:\n",
    "        model (KNeighborsClassifer): the model\n",
    "        X (array): test data\n",
    "        Y (array): test labels\n",
    "    '''\n",
    "    \n",
    "    # flatten each image\n",
    "    X = array([x.flatten() for x in X])\n",
    "    \n",
    "    return model.score(X, Y)"
   ]
  },
  {
   "cell_type": "markdown",
   "metadata": {},
   "source": [
    "Finally, we define a function performing n-fold cross-validation:"
   ]
  },
  {
   "cell_type": "code",
   "execution_count": 9,
   "metadata": {},
   "outputs": [],
   "source": [
    "from numpy.random import shuffle\n",
    "from numpy import ceil, concatenate\n",
    "\n",
    "def crossVal(n, train_function, test_function, params, X, Y, **kwargs):\n",
    "    '''\n",
    "    Perform an n-fold cross-validation and return the mean accuracy.\n",
    "    \n",
    "    Arguments: \n",
    "        n (int)\n",
    "        train_function (function): must take as arguments the parameter(s), \n",
    "            train data, and train labels\n",
    "        test_function (function): must take as arguments the model, test data, \n",
    "            and test labels, and return the accuracy\n",
    "        params (iterable): parameters for the model\n",
    "        X (array): train data\n",
    "        Y (array): train labels\n",
    "        kwargs: keyword arguments for the model\n",
    "    '''\n",
    "    \n",
    "    # number of elements per subset\n",
    "    n_els = int(ceil(len(Y)/n))\n",
    "    \n",
    "    # divide the data into n (approximately) equal subsets\n",
    "    indices_shuffled = array(range(len(Y)))\n",
    "    shuffle(indices_shuffled)\n",
    "    X_divided = [X[indices_shuffled[i*n_els:(i+1)*n_els]] for i in range(n-1)]\n",
    "    X_divided.append(X[indices_shuffled[(n-1)*n_els:-1]])\n",
    "    Y_divided = [Y[indices_shuffled[i*n_els:(i+1)*n_els]] for i in range(n-1)]\n",
    "    Y_divided.append(Y[indices_shuffled[(n-1)*n_els:-1]])\n",
    "    \n",
    "    # compute the accuracy for each fold\n",
    "    \n",
    "    accuracy = []\n",
    "    for i in range(n):\n",
    "        \n",
    "        # build the train and test data\n",
    "        X_train = concatenate([X_divided[j] for j in range(n) if j != i])\n",
    "        Y_train = concatenate([Y_divided[j] for j in range(n) if j != i])\n",
    "        X_test = X_divided[i]\n",
    "        Y_test = Y_divided[i]\n",
    "        \n",
    "        # train a model\n",
    "        model = train_function(*params, X_train, Y_train, **kwargs)\n",
    "        \n",
    "        # compute its accuracy\n",
    "        accuracy.append(test_function(model, X_test, Y_test))\n",
    "        \n",
    "    # return the mean value of the accuracy\n",
    "    return array(accuracy).mean()"
   ]
  },
  {
   "cell_type": "markdown",
   "metadata": {},
   "source": [
    "Let us plot the average accuracy for several values of $k$ for $n=4$: "
   ]
  },
  {
   "cell_type": "code",
   "execution_count": 10,
   "metadata": {},
   "outputs": [
    {
     "data": {
      "image/png": "[encoded data removed]",
      "text/plain": [
       "<Figure size 432x288 with 1 Axes>"
      ]
     },
     "metadata": {
      "needs_background": "light"
     },
     "output_type": "display_data"
    }
   ],
   "source": [
    "list_k = range(1,21)\n",
    "\n",
    "acc = [crossVal(4, train_knn, test_knn, (k,), Xtrain, Ytrain) for k in list_k]\n",
    "\n",
    "plt.plot(list_k, acc, r'.')\n",
    "plt.grid()\n",
    "plt.xlabel('$k$')\n",
    "plt.ylabel('CV accuracy')\n",
    "plt.show()"
   ]
  },
  {
   "cell_type": "markdown",
   "metadata": {},
   "source": [
    "It seems that models with a relatively small value of $k$ give the best results. \n",
    "let us train and test a model with $k=3$:"
   ]
  },
  {
   "cell_type": "code",
   "execution_count": 11,
   "metadata": {},
   "outputs": [
    {
     "data": {
      "text/plain": [
       "0.9888579387186629"
      ]
     },
     "execution_count": 11,
     "metadata": {},
     "output_type": "execute_result"
    }
   ],
   "source": [
    "k = 3\n",
    "model = train_knn(k, Xtrain, Ytrain)\n",
    "test_knn(model, Xtest, Ytest)"
   ]
  },
  {
   "cell_type": "markdown",
   "metadata": {},
   "source": [
    "This model has an accuracy close to 99%.\n",
    "\n",
    "## Perceptron with one single hidden layer\n",
    "\n",
    "Let us now use a very simple neural network, with only one hidden layer. \n",
    "We use the `MLPClassifier` class from scikit-learn. \n",
    "We first define a function to train the model:"
   ]
  },
  {
   "cell_type": "code",
   "execution_count": 12,
   "metadata": {},
   "outputs": [],
   "source": [
    "# import the MLPClassifier\n",
    "from sklearn.neural_network import MLPClassifier\n",
    "\n",
    "from sklearn.utils._testing import ignore_warnings\n",
    "from sklearn.exceptions import ConvergenceWarning\n",
    "\n",
    "# decorator to suppress a convergence warning (this warning should be dealt \n",
    "# with properly in real-world applications)\n",
    "@ignore_warnings(category=ConvergenceWarning)\n",
    "def train_P(ks, X, Y, **kwargs):\n",
    "    '''\n",
    "    Train a perceptron and return it. \n",
    "    \n",
    "    Arguments:\n",
    "        ks (list): number of neurons for each layer\n",
    "        X (array): train data\n",
    "        Y (array): train labels\n",
    "        kwargs: keywords arguments for the MLPClassifier instance\n",
    "    '''\n",
    "    \n",
    "    # flatten each image\n",
    "    X = array([x.flatten() for x in X])\n",
    "    \n",
    "    model = MLPClassifier(hidden_layer_sizes=k, **kwargs)\n",
    "    model.fit(X, Y)\n",
    "    return model"
   ]
  },
  {
   "cell_type": "markdown",
   "metadata": {},
   "source": [
    "Let us use cross-validation woth $n=4$ to select the optimal number of neurons:"
   ]
  },
  {
   "cell_type": "code",
   "execution_count": 13,
   "metadata": {},
   "outputs": [
    {
     "data": {
      "image/png": "[encoded data removed]",
      "text/plain": [
       "<Figure size 432x288 with 1 Axes>"
      ]
     },
     "metadata": {
      "needs_background": "light"
     },
     "output_type": "display_data"
    }
   ],
   "source": [
    "list_k = [8, 16, 32, 64, 128, 256]\n",
    "\n",
    "acc = [crossVal(4, train_P, test_knn, (k,), Xtrain, Ytrain) for k in list_k]\n",
    "\n",
    "plt.plot(list_k, acc, r'.')\n",
    "plt.grid()\n",
    "plt.xlabel('$k$')\n",
    "plt.ylabel('CV accuracy')\n",
    "plt.show()"
   ]
  },
  {
   "cell_type": "markdown",
   "metadata": {},
   "source": [
    "It seems that the best-performing model is the one with 128 neurons. \n",
    "Let us see how it performs: "
   ]
  },
  {
   "cell_type": "code",
   "execution_count": 14,
   "metadata": {},
   "outputs": [
    {
     "data": {
      "text/plain": [
       "0.7353760445682451"
      ]
     },
     "execution_count": 14,
     "metadata": {},
     "output_type": "execute_result"
    }
   ],
   "source": [
    "model = train_P(128, Xtrain, Ytrain)\n",
    "test_knn(model, Xtest, Ytest)"
   ]
  },
  {
   "cell_type": "markdown",
   "metadata": {},
   "source": [
    "This model has a testa ccuracy close to 98%. \n",
    "\n",
    "Let us plot the train and test accuracies of each model to see which of them overfits or underfits:"
   ]
  },
  {
   "cell_type": "code",
   "execution_count": 15,
   "metadata": {},
   "outputs": [
    {
     "data": {
      "image/png": "[encoded data removed]",
      "text/plain": [
       "<Figure size 432x288 with 1 Axes>"
      ]
     },
     "metadata": {
      "needs_background": "light"
     },
     "output_type": "display_data"
    }
   ],
   "source": [
    "train_acc = []\n",
    "test_acc = []\n",
    "\n",
    "for k in list_k:\n",
    "    model = train_P(k, Xtrain, Ytrain)\n",
    "    train_acc.append(test_knn(model, Xtrain, Ytrain))\n",
    "    test_acc.append(test_knn(model, Xtest, Ytest))\n",
    "    \n",
    "plt.plot(list_k, train_acc, r'.', label='train accuracy')\n",
    "plt.plot(list_k, test_acc, r'.', label='test accuracy')\n",
    "plt.legend()\n",
    "plt.grid()\n",
    "plt.xlabel('$k$')\n",
    "plt.show()"
   ]
  },
  {
   "cell_type": "markdown",
   "metadata": {},
   "source": [
    "All the models seem to overfit.\n",
    "\n",
    "## Perceptron with multiple hidden layers\n",
    "\n",
    "Let us now add a second hiden layer to our models."
   ]
  },
  {
   "cell_type": "code",
   "execution_count": 16,
   "metadata": {},
   "outputs": [
    {
     "name": "stdout",
     "output_type": "stream",
     "text": [
      "Shape: (2, 2), CV accuracy: 0.9797910830999067\n",
      "Shape: (3, 3), CV accuracy: 0.9777310924369748\n",
      "Shape: (2, 4), CV accuracy: 0.974953314659197\n",
      "Shape: (4, 2), CV accuracy: 0.9756302521008404\n",
      "Shape: (4, 4), CV accuracy: 0.9763538748832866\n",
      "Shape: (8, 8), CV accuracy: 0.9721638655462185\n",
      "Shape: (4, 12), CV accuracy: 0.9693860877684407\n",
      "Shape: (12, 4), CV accuracy: 0.979125816993464\n",
      "Shape: (16, 16), CV accuracy: 0.9791549953314659\n",
      "Shape: (32, 32), CV accuracy: 0.9770308123249299\n",
      "Shape: (64, 64), CV accuracy: 0.9763305322128851\n"
     ]
    }
   ],
   "source": [
    "list_ks = [(2,2), (3,3), (2,4), (4,2), (4,4), (8,8), (4,12), (12,4), (16,16), (32,32), (64,64)]\n",
    "\n",
    "for ks in list_ks: \n",
    "    print('Shape: ' + str(ks) + ', CV accuracy: ' + str(crossVal(4, train_P, test_knn, (ks,), Xtrain, Ytrain)))"
   ]
  },
  {
   "cell_type": "markdown",
   "metadata": {},
   "source": [
    "The best model seems to be the one with 2 neurons in the first hidden layer and 4 in the second one. \n",
    "(However, the performances of these models are very close. A more precise statistical analysys would be required to ascertain which is better.)\n",
    "Let us test it: "
   ]
  },
  {
   "cell_type": "code",
   "execution_count": 17,
   "metadata": {},
   "outputs": [
    {
     "data": {
      "text/plain": [
       "0.9860724233983287"
      ]
     },
     "execution_count": 17,
     "metadata": {},
     "output_type": "execute_result"
    }
   ],
   "source": [
    "model = train_P((2,4), Xtrain, Ytrain)\n",
    "test_knn(model, Xtest, Ytest)"
   ]
  },
  {
   "cell_type": "markdown",
   "metadata": {},
   "source": [
    "The accuracy is close to 98%.\n",
    "\n",
    "Finally, let us try with 3 layers: "
   ]
  },
  {
   "cell_type": "code",
   "execution_count": 18,
   "metadata": {},
   "outputs": [
    {
     "name": "stdout",
     "output_type": "stream",
     "text": [
      "Shape: (2, 2, 2), CV accuracy: 0.9770366479925303\n",
      "Shape: (2, 2, 4), CV accuracy: 0.9791141456582634\n",
      "Shape: (2, 4, 2), CV accuracy: 0.9756244164332399\n",
      "Shape: (2, 4, 4), CV accuracy: 0.97078081232493\n",
      "Shape: (2, 4, 8), CV accuracy: 0.9714285714285715\n",
      "Shape: (8, 4, 2), CV accuracy: 0.9770308123249299\n",
      "Shape: (4, 4, 2), CV accuracy: 0.97078081232493\n",
      "Shape: (4, 2, 2), CV accuracy: 0.9721405228758171\n"
     ]
    }
   ],
   "source": [
    "list_ks = [(2,2,2), (2,2,4), (2,4,2), (2,4,4), (2,4,8), (8,4,2), (4,4,2), (4,2,2)]\n",
    "\n",
    "for ks in list_ks: \n",
    "    print('Shape: ' + str(ks) + ', CV accuracy: ' + str(crossVal(4, train_P, test_knn, (ks,), Xtrain, Ytrain)))"
   ]
  },
  {
   "cell_type": "markdown",
   "metadata": {},
   "source": [
    "The models with shape (2,2,4) and (8,4,2) seem to have the best performance, although the differences are again too small to be statistically significant. \n",
    "Let us test them: "
   ]
  },
  {
   "cell_type": "code",
   "execution_count": 19,
   "metadata": {},
   "outputs": [
    {
     "name": "stdout",
     "output_type": "stream",
     "text": [
      "0.9832869080779945\n",
      "0.9777158774373259\n"
     ]
    }
   ],
   "source": [
    "model = train_P((2,2,4), Xtrain, Ytrain)\n",
    "print(test_knn(model, Xtest, Ytest))\n",
    "\n",
    "model = train_P((8,4,2), Xtrain, Ytrain)\n",
    "print(test_knn(model, Xtest, Ytest))"
   ]
  },
  {
   "cell_type": "markdown",
   "metadata": {},
   "source": [
    "They both have an accuracy close to 98%. \n",
    "\n",
    "In summary, it seems that simple perceptron models have a slightly lower accuracy than k-nearest neighbours for this problem."
   ]
  },
  {
   "cell_type": "code",
   "execution_count": null,
   "metadata": {},
   "outputs": [],
   "source": []
  }
 ],
 "metadata": {
  "kernelspec": {
   "display_name": "Python 3",
   "language": "python",
   "name": "python3"
  },
  "language_info": {
   "codemirror_mode": {
    "name": "ipython",
    "version": 3
   },
   "file_extension": ".py",
   "mimetype": "text/x-python",
   "name": "python",
   "nbconvert_exporter": "python",
   "pygments_lexer": "ipython3",
   "version": "3.8.5"
  }
 },
 "nbformat": 4,
 "nbformat_minor": 4
}
