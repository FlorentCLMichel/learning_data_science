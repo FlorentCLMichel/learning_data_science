{
 "cells": [
  {
   "cell_type": "markdown",
   "metadata": {},
   "source": [
    "# Winning probabilities at the 6/49 lottery game\n",
    "\n",
    "Lotto 6/49, launched on June 12, 1982, was the first Canadian Lottery game to allow players to choose their own numbers. \n",
    "Winning numbers are drawn every Wednesday and Saturday by the Interprovincial Lottery Corporation. \n",
    "Each time, 6 numbers are drawn wthout replacement from a set of 49, plus a bonus number. \n",
    "A player wins money if at least two of the first six are among the numbers they chose. \n",
    "To win the hoghest amount, called the ‘jackpot prize’, a player must have the first six correct numbers. \n",
    "\n",
    "Although most people start playing the lottery for fun, it can also turn into an addiction or some players, with potentially disastrous consequences. \n",
    "One important factor in the development of such addictions is the communication centred on the large amount of money the jackpot prize represents and on the change of life it can entail. \n",
    "This focus on a technically possible but unlikely outcome can overshadow how small its probability is, or, more prosaically, that a player is unlikely to win anything at all. \n",
    "\n",
    "In this short project, I will estimate some winning likelihoods, in the hope that realizing their smallness may help prevent addiction. \n",
    "I shall mostly use basic Python, in an effort to make the code as transparent as possible, and since the relatively small numbers involved do not require a lot of computing power. \n",
    "I recommend the use of a dedicated library, *e.g.* SciPy, if using the functions defined here on very large integers.\n",
    "\n",
    "## Basic combinatorial functions\n",
    "\n",
    "Let us first define two functions: \n",
    "* `factorial`, taking a non-negative integer $n$ and returning $n!$, \n",
    "* `combination`, taking two non-negative integers $n$ and $k$ and returning ${n\\choose k}$."
   ]
  },
  {
   "cell_type": "code",
   "execution_count": 1,
   "metadata": {},
   "outputs": [],
   "source": [
    "def factorial(n):\n",
    "    '''\n",
    "    returns the factorial of n \n",
    "    n: non-negative integer\n",
    "    '''\n",
    "    res = 1\n",
    "    for i in range(1, n+1):\n",
    "        res *= i\n",
    "    return res\n",
    "\n",
    "def combination(n,k):\n",
    "    '''\n",
    "    returns the number of combinations of k elements among n\n",
    "    n and k: non-negative integers \n",
    "    '''\n",
    "    if k > n:\n",
    "        return 0\n",
    "    else:\n",
    "        return factorial(n) / (factorial(n-k) * factorial(k))"
   ]
  },
  {
   "cell_type": "markdown",
   "metadata": {},
   "source": [
    "Let us also define the function `approximate_fraction_num` taking a float and returning a fraction close to it. \n",
    "It takes an optional parameter `max_num`, equal to 10 by default, representing the maximum acceptable value for the numerator."
   ]
  },
  {
   "cell_type": "code",
   "execution_count": 2,
   "metadata": {},
   "outputs": [],
   "source": [
    "def gcd(a, b):\n",
    "    '''\n",
    "    returns the greatest common divisor to a and b\n",
    "    a: positive integer\n",
    "    b: positive integer\n",
    "    '''\n",
    "    a_ = max(a,b)\n",
    "    b_ = min(a,b)\n",
    "    if b_ == 0:\n",
    "        return a_\n",
    "    r_ = a_ % b_\n",
    "    while(r_ != 0):\n",
    "        a_ = b_\n",
    "        b_ = r_\n",
    "        r_ = a_ % b_\n",
    "    return b_\n",
    "\n",
    "def approximate_fraction(f, max_den = 20):\n",
    "    '''\n",
    "    returns the numerator and denominator of a fraction approximating f, with \n",
    "    a maximum denominator max_den\n",
    "    f: float\n",
    "    max_den: positive integer\n",
    "    '''\n",
    "    if f == 0.:\n",
    "        return (0,1)\n",
    "    num = int(f * max_den)\n",
    "    if abs(f) * max_den - abs(num) > 0.5: \n",
    "        num += (f / abs(f))*1\n",
    "    r = gcd(abs(num), max_den)\n",
    "    num = int(num / r)\n",
    "    den = int(max_den / r)\n",
    "    return (num, den)\n",
    "\n",
    "def approximate_fraction_num(f, max_num = 10):\n",
    "    '''\n",
    "    returns the numerator and denominator of a fraction approximating f, with \n",
    "    a maximum numerator max_num\n",
    "    f: float\n",
    "    max_num: positive integer\n",
    "    '''\n",
    "    frac_inv = approximate_fraction(1./f, max_den = max_num)\n",
    "    return (frac_inv[1], frac_inv[0])"
   ]
  },
  {
   "cell_type": "markdown",
   "metadata": {},
   "source": [
    "## Some winning probabilities\n",
    "\n",
    "### Winning the jackpot prize in one try\n",
    "\n",
    "Let $n$ be the number of elements in the set and $k$ be the number of elements drawn (in the case of the 6/49 game, they are respectively 49 and 6). \n",
    "The probability $P_1(J)$ of winning the jackpot prize by playing once (*i.e.*, choosing a set of six numbers) is: \n",
    "$$ P_1(J) = {n \\choose k}^{-1} .$$\n",
    "Let us compute this number for $n = 49$ and $k = 6$: "
   ]
  },
  {
   "cell_type": "code",
   "execution_count": 3,
   "metadata": {},
   "outputs": [
    {
     "name": "stdout",
     "output_type": "stream",
     "text": [
      "Winning probability: 7.2e-08, i.e., 0.0000072, or 1 over 13983816\n"
     ]
    }
   ],
   "source": [
    "n = 49\n",
    "k = 6\n",
    "P_1_J = 1. / combination(n,k)\n",
    "frac = approximate_fraction_num(P_1_J)\n",
    "print('Winning probability: {:.1e}, i.e., {:.7f}, or {} over {}'.format(P_1_J, P_1_J*100, frac[0], frac[1]))"
   ]
  },
  {
   "cell_type": "markdown",
   "metadata": {},
   "source": [
    "The probability of winning the jackpot prize is smaller than one over ten millions, which is rather small.\n",
    "\n",
    "### Would I have won? \n",
    "\n",
    "To get more intuition about how small this number is, we want to write a function taking a six-numbers input and telling if, assuming this set was played many times, it would have won the jackpot prize at least once. \n",
    "To this end, we first load the dataset `649.csv`, containing results from previous draws."
   ]
  },
  {
   "cell_type": "code",
   "execution_count": 4,
   "metadata": {},
   "outputs": [
    {
     "name": "stdout",
     "output_type": "stream",
     "text": [
      "(3665, 11)\n"
     ]
    },
    {
     "data": {
      "text/html": [
       "<div>\n",
       "<style scoped>\n",
       "    .dataframe tbody tr th:only-of-type {\n",
       "        vertical-align: middle;\n",
       "    }\n",
       "\n",
       "    .dataframe tbody tr th {\n",
       "        vertical-align: top;\n",
       "    }\n",
       "\n",
       "    .dataframe thead th {\n",
       "        text-align: right;\n",
       "    }\n",
       "</style>\n",
       "<table border=\"1\" class=\"dataframe\">\n",
       "  <thead>\n",
       "    <tr style=\"text-align: right;\">\n",
       "      <th></th>\n",
       "      <th>PRODUCT</th>\n",
       "      <th>DRAW NUMBER</th>\n",
       "      <th>SEQUENCE NUMBER</th>\n",
       "      <th>DRAW DATE</th>\n",
       "      <th>NUMBER DRAWN 1</th>\n",
       "      <th>NUMBER DRAWN 2</th>\n",
       "      <th>NUMBER DRAWN 3</th>\n",
       "      <th>NUMBER DRAWN 4</th>\n",
       "      <th>NUMBER DRAWN 5</th>\n",
       "      <th>NUMBER DRAWN 6</th>\n",
       "      <th>BONUS NUMBER</th>\n",
       "    </tr>\n",
       "  </thead>\n",
       "  <tbody>\n",
       "    <tr>\n",
       "      <th>0</th>\n",
       "      <td>649</td>\n",
       "      <td>1</td>\n",
       "      <td>0</td>\n",
       "      <td>6/12/1982</td>\n",
       "      <td>3</td>\n",
       "      <td>11</td>\n",
       "      <td>12</td>\n",
       "      <td>14</td>\n",
       "      <td>41</td>\n",
       "      <td>43</td>\n",
       "      <td>13</td>\n",
       "    </tr>\n",
       "    <tr>\n",
       "      <th>1</th>\n",
       "      <td>649</td>\n",
       "      <td>2</td>\n",
       "      <td>0</td>\n",
       "      <td>6/19/1982</td>\n",
       "      <td>8</td>\n",
       "      <td>33</td>\n",
       "      <td>36</td>\n",
       "      <td>37</td>\n",
       "      <td>39</td>\n",
       "      <td>41</td>\n",
       "      <td>9</td>\n",
       "    </tr>\n",
       "    <tr>\n",
       "      <th>2</th>\n",
       "      <td>649</td>\n",
       "      <td>3</td>\n",
       "      <td>0</td>\n",
       "      <td>6/26/1982</td>\n",
       "      <td>1</td>\n",
       "      <td>6</td>\n",
       "      <td>23</td>\n",
       "      <td>24</td>\n",
       "      <td>27</td>\n",
       "      <td>39</td>\n",
       "      <td>34</td>\n",
       "    </tr>\n",
       "    <tr>\n",
       "      <th>3</th>\n",
       "      <td>649</td>\n",
       "      <td>4</td>\n",
       "      <td>0</td>\n",
       "      <td>7/3/1982</td>\n",
       "      <td>3</td>\n",
       "      <td>9</td>\n",
       "      <td>10</td>\n",
       "      <td>13</td>\n",
       "      <td>20</td>\n",
       "      <td>43</td>\n",
       "      <td>34</td>\n",
       "    </tr>\n",
       "    <tr>\n",
       "      <th>4</th>\n",
       "      <td>649</td>\n",
       "      <td>5</td>\n",
       "      <td>0</td>\n",
       "      <td>7/10/1982</td>\n",
       "      <td>5</td>\n",
       "      <td>14</td>\n",
       "      <td>21</td>\n",
       "      <td>31</td>\n",
       "      <td>34</td>\n",
       "      <td>47</td>\n",
       "      <td>45</td>\n",
       "    </tr>\n",
       "  </tbody>\n",
       "</table>\n",
       "</div>"
      ],
      "text/plain": [
       "   PRODUCT  DRAW NUMBER  SEQUENCE NUMBER  DRAW DATE  NUMBER DRAWN 1  \\\n",
       "0      649            1                0  6/12/1982               3   \n",
       "1      649            2                0  6/19/1982               8   \n",
       "2      649            3                0  6/26/1982               1   \n",
       "3      649            4                0   7/3/1982               3   \n",
       "4      649            5                0  7/10/1982               5   \n",
       "\n",
       "   NUMBER DRAWN 2  NUMBER DRAWN 3  NUMBER DRAWN 4  NUMBER DRAWN 5  \\\n",
       "0              11              12              14              41   \n",
       "1              33              36              37              39   \n",
       "2               6              23              24              27   \n",
       "3               9              10              13              20   \n",
       "4              14              21              31              34   \n",
       "\n",
       "   NUMBER DRAWN 6  BONUS NUMBER  \n",
       "0              43            13  \n",
       "1              41             9  \n",
       "2              39            34  \n",
       "3              43            34  \n",
       "4              47            45  "
      ]
     },
     "metadata": {},
     "output_type": "display_data"
    },
    {
     "data": {
      "text/html": [
       "<div>\n",
       "<style scoped>\n",
       "    .dataframe tbody tr th:only-of-type {\n",
       "        vertical-align: middle;\n",
       "    }\n",
       "\n",
       "    .dataframe tbody tr th {\n",
       "        vertical-align: top;\n",
       "    }\n",
       "\n",
       "    .dataframe thead th {\n",
       "        text-align: right;\n",
       "    }\n",
       "</style>\n",
       "<table border=\"1\" class=\"dataframe\">\n",
       "  <thead>\n",
       "    <tr style=\"text-align: right;\">\n",
       "      <th></th>\n",
       "      <th>PRODUCT</th>\n",
       "      <th>DRAW NUMBER</th>\n",
       "      <th>SEQUENCE NUMBER</th>\n",
       "      <th>DRAW DATE</th>\n",
       "      <th>NUMBER DRAWN 1</th>\n",
       "      <th>NUMBER DRAWN 2</th>\n",
       "      <th>NUMBER DRAWN 3</th>\n",
       "      <th>NUMBER DRAWN 4</th>\n",
       "      <th>NUMBER DRAWN 5</th>\n",
       "      <th>NUMBER DRAWN 6</th>\n",
       "      <th>BONUS NUMBER</th>\n",
       "    </tr>\n",
       "  </thead>\n",
       "  <tbody>\n",
       "    <tr>\n",
       "      <th>3660</th>\n",
       "      <td>649</td>\n",
       "      <td>3587</td>\n",
       "      <td>0</td>\n",
       "      <td>6/6/2018</td>\n",
       "      <td>10</td>\n",
       "      <td>15</td>\n",
       "      <td>23</td>\n",
       "      <td>38</td>\n",
       "      <td>40</td>\n",
       "      <td>41</td>\n",
       "      <td>35</td>\n",
       "    </tr>\n",
       "    <tr>\n",
       "      <th>3661</th>\n",
       "      <td>649</td>\n",
       "      <td>3588</td>\n",
       "      <td>0</td>\n",
       "      <td>6/9/2018</td>\n",
       "      <td>19</td>\n",
       "      <td>25</td>\n",
       "      <td>31</td>\n",
       "      <td>36</td>\n",
       "      <td>46</td>\n",
       "      <td>47</td>\n",
       "      <td>26</td>\n",
       "    </tr>\n",
       "    <tr>\n",
       "      <th>3662</th>\n",
       "      <td>649</td>\n",
       "      <td>3589</td>\n",
       "      <td>0</td>\n",
       "      <td>6/13/2018</td>\n",
       "      <td>6</td>\n",
       "      <td>22</td>\n",
       "      <td>24</td>\n",
       "      <td>31</td>\n",
       "      <td>32</td>\n",
       "      <td>34</td>\n",
       "      <td>16</td>\n",
       "    </tr>\n",
       "    <tr>\n",
       "      <th>3663</th>\n",
       "      <td>649</td>\n",
       "      <td>3590</td>\n",
       "      <td>0</td>\n",
       "      <td>6/16/2018</td>\n",
       "      <td>2</td>\n",
       "      <td>15</td>\n",
       "      <td>21</td>\n",
       "      <td>31</td>\n",
       "      <td>38</td>\n",
       "      <td>49</td>\n",
       "      <td>8</td>\n",
       "    </tr>\n",
       "    <tr>\n",
       "      <th>3664</th>\n",
       "      <td>649</td>\n",
       "      <td>3591</td>\n",
       "      <td>0</td>\n",
       "      <td>6/20/2018</td>\n",
       "      <td>14</td>\n",
       "      <td>24</td>\n",
       "      <td>31</td>\n",
       "      <td>35</td>\n",
       "      <td>37</td>\n",
       "      <td>48</td>\n",
       "      <td>17</td>\n",
       "    </tr>\n",
       "  </tbody>\n",
       "</table>\n",
       "</div>"
      ],
      "text/plain": [
       "      PRODUCT  DRAW NUMBER  SEQUENCE NUMBER  DRAW DATE  NUMBER DRAWN 1  \\\n",
       "3660      649         3587                0   6/6/2018              10   \n",
       "3661      649         3588                0   6/9/2018              19   \n",
       "3662      649         3589                0  6/13/2018               6   \n",
       "3663      649         3590                0  6/16/2018               2   \n",
       "3664      649         3591                0  6/20/2018              14   \n",
       "\n",
       "      NUMBER DRAWN 2  NUMBER DRAWN 3  NUMBER DRAWN 4  NUMBER DRAWN 5  \\\n",
       "3660              15              23              38              40   \n",
       "3661              25              31              36              46   \n",
       "3662              22              24              31              32   \n",
       "3663              15              21              31              38   \n",
       "3664              24              31              35              37   \n",
       "\n",
       "      NUMBER DRAWN 6  BONUS NUMBER  \n",
       "3660              41            35  \n",
       "3661              47            26  \n",
       "3662              34            16  \n",
       "3663              49             8  \n",
       "3664              48            17  "
      ]
     },
     "metadata": {},
     "output_type": "display_data"
    }
   ],
   "source": [
    "import pandas as pd\n",
    "df = pd.read_csv('../Data/649.csv')\n",
    "print(df.shape)\n",
    "display(df.head())\n",
    "display(df.tail())"
   ]
  },
  {
   "cell_type": "markdown",
   "metadata": {},
   "source": [
    "This dataset contains results from all drawings that occurred before 21st June 2018. \n",
    "Let us use it to build the list `drawings_6` of all drawings, excluding the bonus number. \n",
    "We cast them as sets since the order is not important."
   ]
  },
  {
   "cell_type": "code",
   "execution_count": 5,
   "metadata": {},
   "outputs": [],
   "source": [
    "df['drawing_6'] = df[['NUMBER DRAWN ' + str(i) for i in range(1,7)]].values.tolist()\n",
    "drawing_6 = list(df['drawing_6'].apply(set))"
   ]
  },
  {
   "cell_type": "markdown",
   "metadata": {},
   "source": [
    "We now define the function `has_aready_won` taking a six-numbers list or set and returning `True` if it has been drawn at least once and `False` otherwise (technically, it returns whether it has been drawn before June 21st 2018; but this only make a difference for a small number of sets):"
   ]
  },
  {
   "cell_type": "code",
   "execution_count": 6,
   "metadata": {},
   "outputs": [],
   "source": [
    "def has_already_won(numbers):\n",
    "    return set(numbers) in drawing_6"
   ]
  },
  {
   "cell_type": "markdown",
   "metadata": {},
   "source": [
    "Let us test it on two examples: one which was drawn and one which was not."
   ]
  },
  {
   "cell_type": "code",
   "execution_count": 7,
   "metadata": {},
   "outputs": [
    {
     "name": "stdout",
     "output_type": "stream",
     "text": [
      "True\n",
      "False\n"
     ]
    }
   ],
   "source": [
    "print(has_already_won([3,11,12,14,43,41]))\n",
    "print(has_already_won([3,11,13,14,43,41]))"
   ]
  },
  {
   "cell_type": "markdown",
   "metadata": {},
   "source": [
    "Let us now do a small experiment: we select a large number (say, 10000) of (not necessarily different) sets of six numbers at random, and count how much of them have been drawn at least once: "
   ]
  },
  {
   "cell_type": "code",
   "execution_count": 8,
   "metadata": {},
   "outputs": [
    {
     "name": "stdout",
     "output_type": "stream",
     "text": [
      "Among the 10000 sets, 2 have been drawn at least once\n"
     ]
    }
   ],
   "source": [
    "from numpy.random import choice, seed\n",
    "\n",
    "n_sets = 10000\n",
    "\n",
    "seed(1) # fix the seed to get the same result each time the code is run\n",
    "n_has_won = 0\n",
    "for i in range(n_sets): \n",
    "    test_set = choice(range(1,50), size=6, replace=False)\n",
    "    if has_already_won(test_set): \n",
    "        n_has_won += 1\n",
    "\n",
    "print('Among the {} sets, {} have been drawn at least once'.format(n_sets, n_has_won))"
   ]
  },
  {
   "cell_type": "markdown",
   "metadata": {},
   "source": [
    "Only 2 sets among the 1000 have been drawn at least once. \n",
    "The probability for a given set to be drawn one specific day is thus quite small!"
   ]
  },
  {
   "cell_type": "markdown",
   "metadata": {},
   "source": [
    "### Winning the jackpot price with several tickets\n",
    "\n",
    "Assuming we play $l$ different valid tickets, where $l$ is a positive integer, the probability $P_l(J)$ to win the jackpot prize is:\n",
    "$$P_l(J) = l \\times P_1(J).$$\n",
    "From the above results, having a probability of just 1 in 10 of winning would require playing more than one million sets of numbers. \n",
    "At the time of writing (21 April 2020), the cost of playing six numbers is CAD3. \n",
    "Having a probability to win the jackpot prize of more than one half requires buying more than 5,000,000 of them, for a total cost of CAD15,000,000. \n",
    "Since the jackpot prize is only CAD6,000,000 at the moment, this would incur a large loss of money even if winning.\n",
    "\n",
    "### Having a few matching numbers\n",
    "\n",
    "We now focus on smaller prizes. \n",
    "The function `proba_prize` below takes 4 inputs: \n",
    "* n (positive integer): the number of elements in the set, \n",
    "* k (positive integer): the number of elements to be chosen by the player, \n",
    "* l (positive integer): the number of elements that need to match for a given prize, excluding the bonus number, \n",
    "* b (boolean): whether the bonus number needs to match\n",
    "\n",
    "It returns the probability of winning the price when playing once. \n",
    "All inputs defaut to the jackpot prize setup."
   ]
  },
  {
   "cell_type": "code",
   "execution_count": 9,
   "metadata": {},
   "outputs": [],
   "source": [
    "def proba_prize(n=49, k=6, l=6, b=False):\n",
    "    proba_l_numbers = 0.\n",
    "    # compute the probability that at least l numbers match\n",
    "    for l_ in range(l, k+1):\n",
    "        # probability that exactly l_ elements match\n",
    "        # for each choice of l_ elements among the k, the number of draws where \n",
    "        # they match while the k-l_ others don't match is equal to the number of\n",
    "        # ways of choosing k-l_ elements among n-k\n",
    "        proba_l_numbers += combination(k,l_) * combination(n-k,k-l_) / combination(n,k)\n",
    "    if b:\n",
    "        # if the bonus number needs to match\n",
    "        return proba_l_numbers / n\n",
    "    else:\n",
    "        return proba_l_numbers"
   ]
  },
  {
   "cell_type": "markdown",
   "metadata": {},
   "source": [
    "Let us apply this function to $l \\in \\lbrace 2, 3, 4, 5, 6 \\rbrace$: "
   ]
  },
  {
   "cell_type": "code",
   "execution_count": 10,
   "metadata": {},
   "outputs": [
    {
     "name": "stdout",
     "output_type": "stream",
     "text": [
      "Probability of having at least 2 matching numbers: 1.51e-01, i.e., approximately 5 in 33, or one in 6\n",
      "Probability of having at least 3 matching numbers: 1.86e-02, i.e., approximately 10 in 537, or one in 53\n",
      "Probability of having at least 4 matching numbers: 9.87e-04, i.e., approximately one in 1013\n",
      "Probability of having at least 5 matching numbers: 1.85e-05, i.e., approximately 5 in 269958, or one in 53991\n",
      "Probability of having at least 6 matching numbers: 7.15e-08, i.e., approximately one in 13983816\n"
     ]
    }
   ],
   "source": [
    "for l in range(2, 7):\n",
    "    proba = proba_prize(l=l)\n",
    "    frac = approximate_fraction_num(proba)\n",
    "    if frac[0] == 1:\n",
    "        print('Probability of having at least {} matching numbers: {:.2e}, i.e., approximately one in {}'.format(l, proba, int(1./proba)))\n",
    "    else:\n",
    "        print('Probability of having at least {} matching numbers: {:.2e}, i.e., approximately {} in {}, or one in {}'.format(l, proba, frac[0], frac[1], int(1./proba)))"
   ]
  },
  {
   "cell_type": "markdown",
   "metadata": {},
   "source": [
    "Let us also compute the probability of winning the second prize, i.e., having 5 matching numbers plus the bonus number:"
   ]
  },
  {
   "cell_type": "code",
   "execution_count": 11,
   "metadata": {},
   "outputs": [
    {
     "name": "stdout",
     "output_type": "stream",
     "text": [
      "Probability of winning the second prize: 3.78e-07, i.e., approximately one in 2645586\n"
     ]
    }
   ],
   "source": [
    "proba = proba_prize(l=5, b=True)\n",
    "print('Probability of winning the second prize: {:.2e}, i.e., approximately one in {}'.format(proba, int(1./proba)))"
   ]
  },
  {
   "cell_type": "markdown",
   "metadata": {},
   "source": [
    "All these probabilities are rather small. \n",
    "Even the probability of having just two matching numbers, which, under the current rules (as of 12/02/2020) is the lowest possible prize and gives only a free ticket, is just one in six.\n",
    "\n",
    "## Average win (or loss)\n",
    "\n",
    "Finally, let us compute the average gain for each play, using data from [the bclc website](https://lotto.bclc.com/lotto-649-and-extra/prizes-and-odds.html) (valid on 21 April 2020). \n",
    "We use that, if $P$ is the probability of winning a prize $p$ and $N$ the number of players, the average number of players winning the prize is $N P$. The average gain for each player is thue $(P p) / (N P) = p / N$."
   ]
  },
  {
   "cell_type": "code",
   "execution_count": 12,
   "metadata": {},
   "outputs": [
    {
     "name": "stdout",
     "output_type": "stream",
     "text": [
      "Average gain: -1.59\n"
     ]
    }
   ],
   "source": [
    "n = 49\n",
    "k = 6\n",
    "\n",
    "# cost of playing in CAD\n",
    "cost_line = 3\n",
    "\n",
    "# prize amount in CAD\n",
    "prop_in_play = 0.47 # proportion of sales put in play\n",
    "\n",
    "# estimate for the number of players\n",
    "# The result actually does no depend on this number as, in each term in the \n",
    "# sum, it appears both on the numerator and denominator. However, we keep \n",
    "# it for clarity. \n",
    "number_players = 3000000 \n",
    "pools_fund = number_players * cost_line * prop_in_play\n",
    "prize_amount = [0.795*pools_fund, 0.06*pools_fund, 0.05*pools_fund, 0.095*pools_fund, 10., 5., 3.]\n",
    "\n",
    "average_gain = sum([prize_amount[i] / number_players for i in range(len(prize_amount))]) - cost_line\n",
    "print('Average gain: {:.2f}'.format(average_gain))"
   ]
  },
  {
   "cell_type": "markdown",
   "metadata": {},
   "source": [
    "On average, a player will thus lose more than half the price of a ticket. \n",
    "Let us see how much a regular player may lose in 10 years."
   ]
  },
  {
   "cell_type": "code",
   "execution_count": 13,
   "metadata": {},
   "outputs": [
    {
     "data": {
      "text/plain": [
       "-1659.2609529000001"
      ]
     },
     "execution_count": 13,
     "metadata": {},
     "output_type": "execute_result"
    }
   ],
   "source": [
    "# average gain * (two days a week) * (average number of days in a year)\n",
    "# * (number of years)\n",
    "average_gain * (2/7) * 365.2475 * 10"
   ]
  },
  {
   "cell_type": "markdown",
   "metadata": {},
   "source": [
    "A player playing twice a week for 10 years will, on average, lose more than CAD 1650."
   ]
  }
 ],
 "metadata": {
  "kernelspec": {
   "display_name": "Python 3",
   "language": "python",
   "name": "python3"
  },
  "language_info": {
   "codemirror_mode": {
    "name": "ipython",
    "version": 3
   },
   "file_extension": ".py",
   "mimetype": "text/x-python",
   "name": "python",
   "nbconvert_exporter": "python",
   "pygments_lexer": "ipython3",
   "version": "3.8.5"
  }
 },
 "nbformat": 4,
 "nbformat_minor": 4
}
