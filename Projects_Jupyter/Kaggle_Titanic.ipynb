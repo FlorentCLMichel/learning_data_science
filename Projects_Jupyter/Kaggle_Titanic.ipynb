{
 "cells": [
  {
   "cell_type": "markdown",
   "metadata": {},
   "source": [
    "# Kaggle Titanic project <font color=blue><i> (Work in progress) </i></font>\n",
    "\n",
    "In this project we explore data from the [“Titanic - Machine Learning from Disaster” Kaggle competition](https://www.kaggle.com/c/titanic/overview/description) and train a simple machine-learning model to predict whether a passenger has survived.\n",
    "\n",
    "## Introduction\n",
    "\n",
    "The RMS Titanic was a passenger liner completed on 2 April 1912 and operated by the Oceanic Steam Navigation Company (better known as the White Star Line), a British shipping company founded in 1845 and defunkt in 1934. \n",
    "It started its maiden voyage on 10 April 1912 from Southampton to New York, with an estimated 1,317 passengers and 885 crew members aboard. \n",
    "Unfortunately, it never reached its destination. \n",
    "On 14 April 1912, the Titanic collided with an iceberg about 600km south of Newfoundland, opening five of her sixteen watertight compartments to the sea. \n",
    "In the early hours of 15 April, the liner sank, causing the death of more than two thirds of those aboard, in part because there were too few lifeboats. \n",
    "\n",
    "Whether a particular passenger or crew member survived has, of course, an element of chance, and can not be fully predicted from information known before the collision. \n",
    "However, several factors made survival more or less likely. \n",
    "For instance, a “women and children first” policy was (at least partially) enforced, wherefrom adult women and children were given priority access to the lifeboats. \n",
    "In this project, we build a simple machine-learning model designed to learn these factors and predict whether a particular passenger or crew member has survived from prior information. \n",
    "\n",
    "Obviously, the interest of such a model does not lie in its predictions: the names of those who survived or died in the accident are already known for most of them; and it is unlikely that any algorithm could be more precise than official records, should they contain errors, if working only on prior information. \n",
    "Instead, we see it as an exercise to show how simple models perform. \n",
    "The workflow we lay out here could then be applied to other problems for which no such records exist.\n",
    "\n",
    "Before starting with the data exploration, let us load the modules that we will use: "
   ]
  },
  {
   "cell_type": "code",
   "execution_count": 1,
   "metadata": {},
   "outputs": [],
   "source": [
    "import numpy as np\n",
    "import pandas as pd\n",
    "import matplotlib.pyplot as plt\n",
    "import seaborn as sns\n",
    "from sklearn.model_selection import train_test_split, cross_val_score\n",
    "from sklearn import tree, svm\n",
    "from sklearn.ensemble import RandomForestClassifier\n",
    "from sklearn.preprocessing import OneHotEncoder\n",
    "from sklearn.neural_network import MLPClassifier\n",
    "from sklearn.neighbors import KNeighborsClassifier\n",
    "from copy import deepcopy"
   ]
  },
  {
   "cell_type": "markdown",
   "metadata": {},
   "source": [
    "## Data exploration\n",
    "\n",
    "Let us first load the train data and print five lines chosen randomly:"
   ]
  },
  {
   "cell_type": "code",
   "execution_count": 2,
   "metadata": {},
   "outputs": [
    {
     "data": {
      "text/html": [
       "<div>\n",
       "<style scoped>\n",
       "    .dataframe tbody tr th:only-of-type {\n",
       "        vertical-align: middle;\n",
       "    }\n",
       "\n",
       "    .dataframe tbody tr th {\n",
       "        vertical-align: top;\n",
       "    }\n",
       "\n",
       "    .dataframe thead th {\n",
       "        text-align: right;\n",
       "    }\n",
       "</style>\n",
       "<table border=\"1\" class=\"dataframe\">\n",
       "  <thead>\n",
       "    <tr style=\"text-align: right;\">\n",
       "      <th></th>\n",
       "      <th>PassengerId</th>\n",
       "      <th>Survived</th>\n",
       "      <th>Pclass</th>\n",
       "      <th>Name</th>\n",
       "      <th>Sex</th>\n",
       "      <th>Age</th>\n",
       "      <th>SibSp</th>\n",
       "      <th>Parch</th>\n",
       "      <th>Ticket</th>\n",
       "      <th>Fare</th>\n",
       "      <th>Cabin</th>\n",
       "      <th>Embarked</th>\n",
       "    </tr>\n",
       "  </thead>\n",
       "  <tbody>\n",
       "    <tr>\n",
       "      <th>285</th>\n",
       "      <td>286</td>\n",
       "      <td>0</td>\n",
       "      <td>3</td>\n",
       "      <td>Stankovic, Mr. Ivan</td>\n",
       "      <td>male</td>\n",
       "      <td>33.0</td>\n",
       "      <td>0</td>\n",
       "      <td>0</td>\n",
       "      <td>349239</td>\n",
       "      <td>8.6625</td>\n",
       "      <td>NaN</td>\n",
       "      <td>C</td>\n",
       "    </tr>\n",
       "    <tr>\n",
       "      <th>336</th>\n",
       "      <td>337</td>\n",
       "      <td>0</td>\n",
       "      <td>1</td>\n",
       "      <td>Pears, Mr. Thomas Clinton</td>\n",
       "      <td>male</td>\n",
       "      <td>29.0</td>\n",
       "      <td>1</td>\n",
       "      <td>0</td>\n",
       "      <td>113776</td>\n",
       "      <td>66.6000</td>\n",
       "      <td>C2</td>\n",
       "      <td>S</td>\n",
       "    </tr>\n",
       "    <tr>\n",
       "      <th>835</th>\n",
       "      <td>836</td>\n",
       "      <td>1</td>\n",
       "      <td>1</td>\n",
       "      <td>Compton, Miss. Sara Rebecca</td>\n",
       "      <td>female</td>\n",
       "      <td>39.0</td>\n",
       "      <td>1</td>\n",
       "      <td>1</td>\n",
       "      <td>PC 17756</td>\n",
       "      <td>83.1583</td>\n",
       "      <td>E49</td>\n",
       "      <td>C</td>\n",
       "    </tr>\n",
       "    <tr>\n",
       "      <th>750</th>\n",
       "      <td>751</td>\n",
       "      <td>1</td>\n",
       "      <td>2</td>\n",
       "      <td>Wells, Miss. Joan</td>\n",
       "      <td>female</td>\n",
       "      <td>4.0</td>\n",
       "      <td>1</td>\n",
       "      <td>1</td>\n",
       "      <td>29103</td>\n",
       "      <td>23.0000</td>\n",
       "      <td>NaN</td>\n",
       "      <td>S</td>\n",
       "    </tr>\n",
       "    <tr>\n",
       "      <th>187</th>\n",
       "      <td>188</td>\n",
       "      <td>1</td>\n",
       "      <td>1</td>\n",
       "      <td>Romaine, Mr. Charles Hallace (\"Mr C Rolmane\")</td>\n",
       "      <td>male</td>\n",
       "      <td>45.0</td>\n",
       "      <td>0</td>\n",
       "      <td>0</td>\n",
       "      <td>111428</td>\n",
       "      <td>26.5500</td>\n",
       "      <td>NaN</td>\n",
       "      <td>S</td>\n",
       "    </tr>\n",
       "  </tbody>\n",
       "</table>\n",
       "</div>"
      ],
      "text/plain": [
       "     PassengerId  Survived  Pclass  \\\n",
       "285          286         0       3   \n",
       "336          337         0       1   \n",
       "835          836         1       1   \n",
       "750          751         1       2   \n",
       "187          188         1       1   \n",
       "\n",
       "                                              Name     Sex   Age  SibSp  \\\n",
       "285                            Stankovic, Mr. Ivan    male  33.0      0   \n",
       "336                      Pears, Mr. Thomas Clinton    male  29.0      1   \n",
       "835                    Compton, Miss. Sara Rebecca  female  39.0      1   \n",
       "750                              Wells, Miss. Joan  female   4.0      1   \n",
       "187  Romaine, Mr. Charles Hallace (\"Mr C Rolmane\")    male  45.0      0   \n",
       "\n",
       "     Parch    Ticket     Fare Cabin Embarked  \n",
       "285      0    349239   8.6625   NaN        C  \n",
       "336      0    113776  66.6000    C2        S  \n",
       "835      1  PC 17756  83.1583   E49        C  \n",
       "750      1     29103  23.0000   NaN        S  \n",
       "187      0    111428  26.5500   NaN        S  "
      ]
     },
     "execution_count": 2,
     "metadata": {},
     "output_type": "execute_result"
    }
   ],
   "source": [
    "name_data_file = '../Data/Kaggle_Titanic/train.csv'\n",
    "data = pd.read_csv(name_data_file)\n",
    "data.sample(5)"
   ]
  },
  {
   "cell_type": "markdown",
   "metadata": {},
   "source": [
    "It seems that the the dataframe has 12 columns: \n",
    "\n",
    "* `PassengerId`, an identification number (equal to the line number in the dataframe indexed from 1), \n",
    "* `Survived`, a number equal to 1 if the passenger survived and 0 if it did not,\n",
    "* `Pclass`, the class (1 for first, 2 for second, and 3 for third),\n",
    "* `Name`, the full name of the passenger, \n",
    "* `sex`, the gender,\n",
    "* `Age`, the age,\n",
    "* `SibSp`, the number of siblings and spouses on the ship,\n",
    "* `Parch`, the number of parents or children on the ship,\n",
    "* `Ticket`, presumably the ticket number,\n",
    "* `Fare`, giving the cost of the ticket,\n",
    "* `Cabin`, presumably the cabin number,\n",
    "* `Embarked`, whether the passenger embarked at Southhampton, Cherbourg, or Queenstown (now Cobh).\n",
    "\n",
    "Let us print a summary of the data set:"
   ]
  },
  {
   "cell_type": "code",
   "execution_count": 3,
   "metadata": {},
   "outputs": [
    {
     "name": "stdout",
     "output_type": "stream",
     "text": [
      "<class 'pandas.core.frame.DataFrame'>\n",
      "RangeIndex: 891 entries, 0 to 890\n",
      "Data columns (total 12 columns):\n",
      " #   Column       Non-Null Count  Dtype  \n",
      "---  ------       --------------  -----  \n",
      " 0   PassengerId  891 non-null    int64  \n",
      " 1   Survived     891 non-null    int64  \n",
      " 2   Pclass       891 non-null    int64  \n",
      " 3   Name         891 non-null    object \n",
      " 4   Sex          891 non-null    object \n",
      " 5   Age          714 non-null    float64\n",
      " 6   SibSp        891 non-null    int64  \n",
      " 7   Parch        891 non-null    int64  \n",
      " 8   Ticket       891 non-null    object \n",
      " 9   Fare         891 non-null    float64\n",
      " 10  Cabin        204 non-null    object \n",
      " 11  Embarked     889 non-null    object \n",
      "dtypes: float64(2), int64(5), object(5)\n",
      "memory usage: 83.7+ KB\n",
      "None\n"
     ]
    }
   ],
   "source": [
    "print(data.info())"
   ]
  },
  {
   "cell_type": "markdown",
   "metadata": {},
   "source": [
    "We first notice that most of the entries for the `Cabin` column are missing. \n",
    "There are also 177 missing entries in the `Age` column and 2 in the `Embarked` column.\n",
    "\n",
    "### The `Survived` column\n",
    "\n",
    "Let us first check that the `Survived` column contains only two different values:"
   ]
  },
  {
   "cell_type": "code",
   "execution_count": 4,
   "metadata": {},
   "outputs": [
    {
     "data": {
      "text/plain": [
       "0    549\n",
       "1    342\n",
       "Name: Survived, dtype: int64"
      ]
     },
     "execution_count": 4,
     "metadata": {},
     "output_type": "execute_result"
    }
   ],
   "source": [
    "data['Survived'].value_counts()"
   ]
  },
  {
   "cell_type": "markdown",
   "metadata": {},
   "source": [
    "This is indeed the case. \n",
    "We also find it has significantly more 0s than 1s, which was expected as we know that less than half of passengers survived. \n",
    "\n",
    "### The `Pclass` column\n",
    "\n",
    "Let us see which values are in this column:"
   ]
  },
  {
   "cell_type": "code",
   "execution_count": 5,
   "metadata": {},
   "outputs": [
    {
     "data": {
      "text/plain": [
       "3    491\n",
       "1    216\n",
       "2    184\n",
       "Name: Pclass, dtype: int64"
      ]
     },
     "execution_count": 5,
     "metadata": {},
     "output_type": "execute_result"
    }
   ],
   "source": [
    "data['Pclass'].value_counts()"
   ]
  },
  {
   "cell_type": "markdown",
   "metadata": {},
   "source": [
    "It contains three values, as expected. \n",
    "We notice that more than half of the passengers were in third class. \n",
    "Interestingly, more passengers represented in the dataset were in first class than in second class.\n",
    "\n",
    "### The `Sex` column\n",
    "\n",
    "Let us do the same for the gender:"
   ]
  },
  {
   "cell_type": "code",
   "execution_count": 6,
   "metadata": {},
   "outputs": [
    {
     "data": {
      "text/plain": [
       "male      577\n",
       "female    314\n",
       "Name: Sex, dtype: int64"
      ]
     },
     "execution_count": 6,
     "metadata": {},
     "output_type": "execute_result"
    }
   ],
   "source": [
    "data['Sex'].value_counts()"
   ]
  },
  {
   "cell_type": "markdown",
   "metadata": {},
   "source": [
    "As expected (as other gender identities were not reckognized in the UK and USA at the time), two genders are represented: male and female. \n",
    "We notice there are significantly more men than women."
   ]
  },
  {
   "cell_type": "markdown",
   "metadata": {},
   "source": [
    "### The `Age` column\n",
    "\n",
    "Let us show some information about the `Age` column:"
   ]
  },
  {
   "cell_type": "code",
   "execution_count": 7,
   "metadata": {},
   "outputs": [
    {
     "name": "stdout",
     "output_type": "stream",
     "text": [
      "Minimum age: 0.42\n",
      "Maximum age: 80.0\n",
      "Mean age: 29.69911764705882\n",
      "Median age: 28.0\n"
     ]
    }
   ],
   "source": [
    "column = data['Age']\n",
    "quantity = 'age'\n",
    "print('Minimum {}: {}'.format(quantity, column.min()))\n",
    "print('Maximum {}: {}'.format(quantity, column.max()))\n",
    "print('Mean {}: {}'.format(quantity, column.mean()))\n",
    "print('Median {}: {}'.format(quantity, column.median()))"
   ]
  },
  {
   "cell_type": "markdown",
   "metadata": {},
   "source": [
    "The dataset contains information on people from 5 months old (about 0.42 years) to 80 years old. \n",
    "The median age is 28 and the average is close to 30. \n",
    "\n",
    "Let us show a histogram to have  abetter idea of the age distribution:"
   ]
  },
  {
   "cell_type": "code",
   "execution_count": 8,
   "metadata": {},
   "outputs": [
    {
     "data": {
      "image/png": "[encoded data removed]",
      "text/plain": [
       "<Figure size 432x288 with 1 Axes>"
      ]
     },
     "metadata": {
      "needs_background": "light"
     },
     "output_type": "display_data"
    }
   ],
   "source": [
    "column.hist()\n",
    "plt.xlabel(quantity)\n",
    "plt.xlim(column.min(), column.max())\n",
    "plt.show()"
   ]
  },
  {
   "cell_type": "markdown",
   "metadata": {},
   "source": [
    "### The `SibSp` and `Parch` columns"
   ]
  },
  {
   "cell_type": "code",
   "execution_count": 9,
   "metadata": {},
   "outputs": [
    {
     "name": "stdout",
     "output_type": "stream",
     "text": [
      "0    608\n",
      "1    209\n",
      "2     28\n",
      "4     18\n",
      "3     16\n",
      "8      7\n",
      "5      5\n",
      "Name: SibSp, dtype: int64\n",
      "0    678\n",
      "1    118\n",
      "2     80\n",
      "5      5\n",
      "3      5\n",
      "4      4\n",
      "6      1\n",
      "Name: Parch, dtype: int64\n"
     ]
    }
   ],
   "source": [
    "print(data['SibSp'].value_counts())\n",
    "print(data['Parch'].value_counts())"
   ]
  },
  {
   "cell_type": "markdown",
   "metadata": {},
   "source": [
    "Most passengenrs had no sibling, spouse, parent, nor children on the ship, and only few of them had more than 2.\n",
    "\n",
    "### The `Fare` column\n",
    "\n",
    "Let us show some information about the `Fare` column:"
   ]
  },
  {
   "cell_type": "code",
   "execution_count": 10,
   "metadata": {},
   "outputs": [
    {
     "name": "stdout",
     "output_type": "stream",
     "text": [
      "Minimum fare: 0.0\n",
      "Maximum fare: 512.3292\n",
      "Mean fare: 32.204207968574636\n",
      "Median fare: 14.4542\n"
     ]
    }
   ],
   "source": [
    "column = data['Fare']\n",
    "quantity = 'fare'\n",
    "print('Minimum {}: {}'.format(quantity, column.min()))\n",
    "print('Maximum {}: {}'.format(quantity, column.max()))\n",
    "print('Mean {}: {}'.format(quantity, column.mean()))\n",
    "print('Median {}: {}'.format(quantity, column.median()))"
   ]
  },
  {
   "cell_type": "markdown",
   "metadata": {},
   "source": [
    "The maximum fare is significantly higher than the mean, which is itself higher than the median, indicating a right-skewed distribution. \n",
    "\n",
    "Let us check this by plotting the histogram:"
   ]
  },
  {
   "cell_type": "code",
   "execution_count": 11,
   "metadata": {},
   "outputs": [
    {
     "data": {
      "image/png": "[encoded data removed]",
      "text/plain": [
       "<Figure size 432x288 with 1 Axes>"
      ]
     },
     "metadata": {
      "needs_background": "light"
     },
     "output_type": "display_data"
    }
   ],
   "source": [
    "column.hist()\n",
    "plt.xlabel(quantity)\n",
    "plt.xlim(column.min(), column.max())\n",
    "plt.show()"
   ]
  },
  {
   "cell_type": "markdown",
   "metadata": {},
   "source": [
    "It seems there were a few very expensive tickets. \n",
    "Let us re-plot the histogram after discarding them:"
   ]
  },
  {
   "cell_type": "code",
   "execution_count": 12,
   "metadata": {},
   "outputs": [
    {
     "data": {
      "image/png": "[encoded data removed]",
      "text/plain": [
       "<Figure size 432x288 with 1 Axes>"
      ]
     },
     "metadata": {
      "needs_background": "light"
     },
     "output_type": "display_data"
    }
   ],
   "source": [
    "threshold = 100\n",
    "column_b = column[column < threshold]\n",
    "column_b.hist()\n",
    "plt.xlabel(quantity)\n",
    "plt.xlim(column_b.min(), column_b.max())\n",
    "plt.show()"
   ]
  },
  {
   "cell_type": "markdown",
   "metadata": {},
   "source": [
    "There seems to be many relatively cheap tickets and a limited number of much more expensive ones. \n",
    "\n",
    "The lowest fare is 0, indicated there were some free tickets, possibly invitations. \n",
    "Let us see how many of them there were: "
   ]
  },
  {
   "cell_type": "code",
   "execution_count": 13,
   "metadata": {},
   "outputs": [
    {
     "data": {
      "text/plain": [
       "15"
      ]
     },
     "execution_count": 13,
     "metadata": {},
     "output_type": "execute_result"
    }
   ],
   "source": [
    "column[column == 0].count()"
   ]
  },
  {
   "cell_type": "markdown",
   "metadata": {},
   "source": [
    "There were 15 free tickets. \n",
    "Let us print the corresponding lines:"
   ]
  },
  {
   "cell_type": "code",
   "execution_count": 14,
   "metadata": {},
   "outputs": [
    {
     "data": {
      "text/html": [
       "<div>\n",
       "<style scoped>\n",
       "    .dataframe tbody tr th:only-of-type {\n",
       "        vertical-align: middle;\n",
       "    }\n",
       "\n",
       "    .dataframe tbody tr th {\n",
       "        vertical-align: top;\n",
       "    }\n",
       "\n",
       "    .dataframe thead th {\n",
       "        text-align: right;\n",
       "    }\n",
       "</style>\n",
       "<table border=\"1\" class=\"dataframe\">\n",
       "  <thead>\n",
       "    <tr style=\"text-align: right;\">\n",
       "      <th></th>\n",
       "      <th>PassengerId</th>\n",
       "      <th>Survived</th>\n",
       "      <th>Pclass</th>\n",
       "      <th>Name</th>\n",
       "      <th>Sex</th>\n",
       "      <th>Age</th>\n",
       "      <th>SibSp</th>\n",
       "      <th>Parch</th>\n",
       "      <th>Ticket</th>\n",
       "      <th>Fare</th>\n",
       "      <th>Cabin</th>\n",
       "      <th>Embarked</th>\n",
       "    </tr>\n",
       "  </thead>\n",
       "  <tbody>\n",
       "    <tr>\n",
       "      <th>179</th>\n",
       "      <td>180</td>\n",
       "      <td>0</td>\n",
       "      <td>3</td>\n",
       "      <td>Leonard, Mr. Lionel</td>\n",
       "      <td>male</td>\n",
       "      <td>36.0</td>\n",
       "      <td>0</td>\n",
       "      <td>0</td>\n",
       "      <td>LINE</td>\n",
       "      <td>0.0</td>\n",
       "      <td>NaN</td>\n",
       "      <td>S</td>\n",
       "    </tr>\n",
       "    <tr>\n",
       "      <th>263</th>\n",
       "      <td>264</td>\n",
       "      <td>0</td>\n",
       "      <td>1</td>\n",
       "      <td>Harrison, Mr. William</td>\n",
       "      <td>male</td>\n",
       "      <td>40.0</td>\n",
       "      <td>0</td>\n",
       "      <td>0</td>\n",
       "      <td>112059</td>\n",
       "      <td>0.0</td>\n",
       "      <td>B94</td>\n",
       "      <td>S</td>\n",
       "    </tr>\n",
       "    <tr>\n",
       "      <th>271</th>\n",
       "      <td>272</td>\n",
       "      <td>1</td>\n",
       "      <td>3</td>\n",
       "      <td>Tornquist, Mr. William Henry</td>\n",
       "      <td>male</td>\n",
       "      <td>25.0</td>\n",
       "      <td>0</td>\n",
       "      <td>0</td>\n",
       "      <td>LINE</td>\n",
       "      <td>0.0</td>\n",
       "      <td>NaN</td>\n",
       "      <td>S</td>\n",
       "    </tr>\n",
       "    <tr>\n",
       "      <th>277</th>\n",
       "      <td>278</td>\n",
       "      <td>0</td>\n",
       "      <td>2</td>\n",
       "      <td>Parkes, Mr. Francis \"Frank\"</td>\n",
       "      <td>male</td>\n",
       "      <td>NaN</td>\n",
       "      <td>0</td>\n",
       "      <td>0</td>\n",
       "      <td>239853</td>\n",
       "      <td>0.0</td>\n",
       "      <td>NaN</td>\n",
       "      <td>S</td>\n",
       "    </tr>\n",
       "    <tr>\n",
       "      <th>302</th>\n",
       "      <td>303</td>\n",
       "      <td>0</td>\n",
       "      <td>3</td>\n",
       "      <td>Johnson, Mr. William Cahoone Jr</td>\n",
       "      <td>male</td>\n",
       "      <td>19.0</td>\n",
       "      <td>0</td>\n",
       "      <td>0</td>\n",
       "      <td>LINE</td>\n",
       "      <td>0.0</td>\n",
       "      <td>NaN</td>\n",
       "      <td>S</td>\n",
       "    </tr>\n",
       "    <tr>\n",
       "      <th>413</th>\n",
       "      <td>414</td>\n",
       "      <td>0</td>\n",
       "      <td>2</td>\n",
       "      <td>Cunningham, Mr. Alfred Fleming</td>\n",
       "      <td>male</td>\n",
       "      <td>NaN</td>\n",
       "      <td>0</td>\n",
       "      <td>0</td>\n",
       "      <td>239853</td>\n",
       "      <td>0.0</td>\n",
       "      <td>NaN</td>\n",
       "      <td>S</td>\n",
       "    </tr>\n",
       "    <tr>\n",
       "      <th>466</th>\n",
       "      <td>467</td>\n",
       "      <td>0</td>\n",
       "      <td>2</td>\n",
       "      <td>Campbell, Mr. William</td>\n",
       "      <td>male</td>\n",
       "      <td>NaN</td>\n",
       "      <td>0</td>\n",
       "      <td>0</td>\n",
       "      <td>239853</td>\n",
       "      <td>0.0</td>\n",
       "      <td>NaN</td>\n",
       "      <td>S</td>\n",
       "    </tr>\n",
       "    <tr>\n",
       "      <th>481</th>\n",
       "      <td>482</td>\n",
       "      <td>0</td>\n",
       "      <td>2</td>\n",
       "      <td>Frost, Mr. Anthony Wood \"Archie\"</td>\n",
       "      <td>male</td>\n",
       "      <td>NaN</td>\n",
       "      <td>0</td>\n",
       "      <td>0</td>\n",
       "      <td>239854</td>\n",
       "      <td>0.0</td>\n",
       "      <td>NaN</td>\n",
       "      <td>S</td>\n",
       "    </tr>\n",
       "    <tr>\n",
       "      <th>597</th>\n",
       "      <td>598</td>\n",
       "      <td>0</td>\n",
       "      <td>3</td>\n",
       "      <td>Johnson, Mr. Alfred</td>\n",
       "      <td>male</td>\n",
       "      <td>49.0</td>\n",
       "      <td>0</td>\n",
       "      <td>0</td>\n",
       "      <td>LINE</td>\n",
       "      <td>0.0</td>\n",
       "      <td>NaN</td>\n",
       "      <td>S</td>\n",
       "    </tr>\n",
       "    <tr>\n",
       "      <th>633</th>\n",
       "      <td>634</td>\n",
       "      <td>0</td>\n",
       "      <td>1</td>\n",
       "      <td>Parr, Mr. William Henry Marsh</td>\n",
       "      <td>male</td>\n",
       "      <td>NaN</td>\n",
       "      <td>0</td>\n",
       "      <td>0</td>\n",
       "      <td>112052</td>\n",
       "      <td>0.0</td>\n",
       "      <td>NaN</td>\n",
       "      <td>S</td>\n",
       "    </tr>\n",
       "    <tr>\n",
       "      <th>674</th>\n",
       "      <td>675</td>\n",
       "      <td>0</td>\n",
       "      <td>2</td>\n",
       "      <td>Watson, Mr. Ennis Hastings</td>\n",
       "      <td>male</td>\n",
       "      <td>NaN</td>\n",
       "      <td>0</td>\n",
       "      <td>0</td>\n",
       "      <td>239856</td>\n",
       "      <td>0.0</td>\n",
       "      <td>NaN</td>\n",
       "      <td>S</td>\n",
       "    </tr>\n",
       "    <tr>\n",
       "      <th>732</th>\n",
       "      <td>733</td>\n",
       "      <td>0</td>\n",
       "      <td>2</td>\n",
       "      <td>Knight, Mr. Robert J</td>\n",
       "      <td>male</td>\n",
       "      <td>NaN</td>\n",
       "      <td>0</td>\n",
       "      <td>0</td>\n",
       "      <td>239855</td>\n",
       "      <td>0.0</td>\n",
       "      <td>NaN</td>\n",
       "      <td>S</td>\n",
       "    </tr>\n",
       "    <tr>\n",
       "      <th>806</th>\n",
       "      <td>807</td>\n",
       "      <td>0</td>\n",
       "      <td>1</td>\n",
       "      <td>Andrews, Mr. Thomas Jr</td>\n",
       "      <td>male</td>\n",
       "      <td>39.0</td>\n",
       "      <td>0</td>\n",
       "      <td>0</td>\n",
       "      <td>112050</td>\n",
       "      <td>0.0</td>\n",
       "      <td>A36</td>\n",
       "      <td>S</td>\n",
       "    </tr>\n",
       "    <tr>\n",
       "      <th>815</th>\n",
       "      <td>816</td>\n",
       "      <td>0</td>\n",
       "      <td>1</td>\n",
       "      <td>Fry, Mr. Richard</td>\n",
       "      <td>male</td>\n",
       "      <td>NaN</td>\n",
       "      <td>0</td>\n",
       "      <td>0</td>\n",
       "      <td>112058</td>\n",
       "      <td>0.0</td>\n",
       "      <td>B102</td>\n",
       "      <td>S</td>\n",
       "    </tr>\n",
       "    <tr>\n",
       "      <th>822</th>\n",
       "      <td>823</td>\n",
       "      <td>0</td>\n",
       "      <td>1</td>\n",
       "      <td>Reuchlin, Jonkheer. John George</td>\n",
       "      <td>male</td>\n",
       "      <td>38.0</td>\n",
       "      <td>0</td>\n",
       "      <td>0</td>\n",
       "      <td>19972</td>\n",
       "      <td>0.0</td>\n",
       "      <td>NaN</td>\n",
       "      <td>S</td>\n",
       "    </tr>\n",
       "  </tbody>\n",
       "</table>\n",
       "</div>"
      ],
      "text/plain": [
       "     PassengerId  Survived  Pclass                              Name   Sex  \\\n",
       "179          180         0       3               Leonard, Mr. Lionel  male   \n",
       "263          264         0       1             Harrison, Mr. William  male   \n",
       "271          272         1       3      Tornquist, Mr. William Henry  male   \n",
       "277          278         0       2       Parkes, Mr. Francis \"Frank\"  male   \n",
       "302          303         0       3   Johnson, Mr. William Cahoone Jr  male   \n",
       "413          414         0       2    Cunningham, Mr. Alfred Fleming  male   \n",
       "466          467         0       2             Campbell, Mr. William  male   \n",
       "481          482         0       2  Frost, Mr. Anthony Wood \"Archie\"  male   \n",
       "597          598         0       3               Johnson, Mr. Alfred  male   \n",
       "633          634         0       1     Parr, Mr. William Henry Marsh  male   \n",
       "674          675         0       2        Watson, Mr. Ennis Hastings  male   \n",
       "732          733         0       2              Knight, Mr. Robert J  male   \n",
       "806          807         0       1            Andrews, Mr. Thomas Jr  male   \n",
       "815          816         0       1                  Fry, Mr. Richard  male   \n",
       "822          823         0       1   Reuchlin, Jonkheer. John George  male   \n",
       "\n",
       "      Age  SibSp  Parch  Ticket  Fare Cabin Embarked  \n",
       "179  36.0      0      0    LINE   0.0   NaN        S  \n",
       "263  40.0      0      0  112059   0.0   B94        S  \n",
       "271  25.0      0      0    LINE   0.0   NaN        S  \n",
       "277   NaN      0      0  239853   0.0   NaN        S  \n",
       "302  19.0      0      0    LINE   0.0   NaN        S  \n",
       "413   NaN      0      0  239853   0.0   NaN        S  \n",
       "466   NaN      0      0  239853   0.0   NaN        S  \n",
       "481   NaN      0      0  239854   0.0   NaN        S  \n",
       "597  49.0      0      0    LINE   0.0   NaN        S  \n",
       "633   NaN      0      0  112052   0.0   NaN        S  \n",
       "674   NaN      0      0  239856   0.0   NaN        S  \n",
       "732   NaN      0      0  239855   0.0   NaN        S  \n",
       "806  39.0      0      0  112050   0.0   A36        S  \n",
       "815   NaN      0      0  112058   0.0  B102        S  \n",
       "822  38.0      0      0   19972   0.0   NaN        S  "
      ]
     },
     "execution_count": 14,
     "metadata": {},
     "output_type": "execute_result"
    }
   ],
   "source": [
    "data[data['Fare'] == 0]"
   ]
  },
  {
   "cell_type": "markdown",
   "metadata": {},
   "source": [
    "These tickets were all given to males embarking at Southhampton, and had no sibling, spouse, parent, nor children on the chip. \n",
    "Only one of them survived.\n",
    "\n",
    "### The `Embarked` column\n",
    "\n",
    "Finally, let us count the values in the `Embarked` column:"
   ]
  },
  {
   "cell_type": "code",
   "execution_count": 15,
   "metadata": {},
   "outputs": [
    {
     "name": "stdout",
     "output_type": "stream",
     "text": [
      "S    644\n",
      "C    168\n",
      "Q     77\n",
      "Name: Embarked, dtype: int64\n"
     ]
    }
   ],
   "source": [
    "print(data['Embarked'].value_counts())"
   ]
  },
  {
   "cell_type": "markdown",
   "metadata": {},
   "source": [
    "Most passengers embarked at Southampton. \n",
    "\n",
    "### Correlations\n",
    "\n",
    "Let us not plot the correlation map between all numerical quantities:"
   ]
  },
  {
   "cell_type": "code",
   "execution_count": 16,
   "metadata": {},
   "outputs": [
    {
     "data": {
      "image/png": "[encoded data removed]",
      "text/plain": [
       "<Figure size 432x288 with 2 Axes>"
      ]
     },
     "metadata": {
      "needs_background": "light"
     },
     "output_type": "display_data"
    }
   ],
   "source": [
    "sns.heatmap(data.corr(), annot=True, fmt=\".2f\", vmin=-1, vmax=1, cmap='coolwarm')\n",
    "plt.show()"
   ]
  },
  {
   "cell_type": "markdown",
   "metadata": {},
   "source": [
    "There is a significant negative correlation between the `Pclass` and `Fare` columns. \n",
    "This was expected, as first-class tickets tend to be more expensive than second-class ones, which themselves are more expensive than third-class ones. \n",
    "There is also a significant positive correlation between the `SibSp` and `Parch` columns and a negative correlation between `Pclass` and `Age` and between `SibSp` and `Age`."
   ]
  },
  {
   "cell_type": "markdown",
   "metadata": {},
   "source": [
    "## Data cleaning and feature engineering\n",
    "\n",
    "In most real-world problems, data cleaning (ensuring the data is as close to beigng correct as possible and has no missing values) and feature engineering (selecting or building the features the model will use) are two separate and importan tasks. \n",
    "However, since the dataset we use is already quite ‘clean’, and since most relevant features are already present in the dataset, we will not clearly distinguish these two steps here, and perform them somewhat simultaneously."
   ]
  },
  {
   "cell_type": "markdown",
   "metadata": {},
   "source": [
    "### The `Cabin` column\n",
    "\n",
    "Since most of the entries from this column are missing, and since the cabin number does not give any obvious information which could be correlated with the probability of survival, we will discard this column. \n",
    "We define the function `delete_cabin` performing this operation, to be sure it will be done in the same way on the training and test data."
   ]
  },
  {
   "cell_type": "code",
   "execution_count": 17,
   "metadata": {},
   "outputs": [],
   "source": [
    "def delete_cabin(df):\n",
    "    return df.drop('Cabin', 1)"
   ]
  },
  {
   "cell_type": "markdown",
   "metadata": {},
   "source": [
    "Let us apply it to `data`:"
   ]
  },
  {
   "cell_type": "code",
   "execution_count": 18,
   "metadata": {},
   "outputs": [
    {
     "data": {
      "text/html": [
       "<div>\n",
       "<style scoped>\n",
       "    .dataframe tbody tr th:only-of-type {\n",
       "        vertical-align: middle;\n",
       "    }\n",
       "\n",
       "    .dataframe tbody tr th {\n",
       "        vertical-align: top;\n",
       "    }\n",
       "\n",
       "    .dataframe thead th {\n",
       "        text-align: right;\n",
       "    }\n",
       "</style>\n",
       "<table border=\"1\" class=\"dataframe\">\n",
       "  <thead>\n",
       "    <tr style=\"text-align: right;\">\n",
       "      <th></th>\n",
       "      <th>PassengerId</th>\n",
       "      <th>Survived</th>\n",
       "      <th>Pclass</th>\n",
       "      <th>Name</th>\n",
       "      <th>Sex</th>\n",
       "      <th>Age</th>\n",
       "      <th>SibSp</th>\n",
       "      <th>Parch</th>\n",
       "      <th>Ticket</th>\n",
       "      <th>Fare</th>\n",
       "      <th>Embarked</th>\n",
       "    </tr>\n",
       "  </thead>\n",
       "  <tbody>\n",
       "    <tr>\n",
       "      <th>0</th>\n",
       "      <td>1</td>\n",
       "      <td>0</td>\n",
       "      <td>3</td>\n",
       "      <td>Braund, Mr. Owen Harris</td>\n",
       "      <td>male</td>\n",
       "      <td>22.0</td>\n",
       "      <td>1</td>\n",
       "      <td>0</td>\n",
       "      <td>A/5 21171</td>\n",
       "      <td>7.2500</td>\n",
       "      <td>S</td>\n",
       "    </tr>\n",
       "    <tr>\n",
       "      <th>1</th>\n",
       "      <td>2</td>\n",
       "      <td>1</td>\n",
       "      <td>1</td>\n",
       "      <td>Cumings, Mrs. John Bradley (Florence Briggs Th...</td>\n",
       "      <td>female</td>\n",
       "      <td>38.0</td>\n",
       "      <td>1</td>\n",
       "      <td>0</td>\n",
       "      <td>PC 17599</td>\n",
       "      <td>71.2833</td>\n",
       "      <td>C</td>\n",
       "    </tr>\n",
       "    <tr>\n",
       "      <th>2</th>\n",
       "      <td>3</td>\n",
       "      <td>1</td>\n",
       "      <td>3</td>\n",
       "      <td>Heikkinen, Miss. Laina</td>\n",
       "      <td>female</td>\n",
       "      <td>26.0</td>\n",
       "      <td>0</td>\n",
       "      <td>0</td>\n",
       "      <td>STON/O2. 3101282</td>\n",
       "      <td>7.9250</td>\n",
       "      <td>S</td>\n",
       "    </tr>\n",
       "    <tr>\n",
       "      <th>3</th>\n",
       "      <td>4</td>\n",
       "      <td>1</td>\n",
       "      <td>1</td>\n",
       "      <td>Futrelle, Mrs. Jacques Heath (Lily May Peel)</td>\n",
       "      <td>female</td>\n",
       "      <td>35.0</td>\n",
       "      <td>1</td>\n",
       "      <td>0</td>\n",
       "      <td>113803</td>\n",
       "      <td>53.1000</td>\n",
       "      <td>S</td>\n",
       "    </tr>\n",
       "    <tr>\n",
       "      <th>4</th>\n",
       "      <td>5</td>\n",
       "      <td>0</td>\n",
       "      <td>3</td>\n",
       "      <td>Allen, Mr. William Henry</td>\n",
       "      <td>male</td>\n",
       "      <td>35.0</td>\n",
       "      <td>0</td>\n",
       "      <td>0</td>\n",
       "      <td>373450</td>\n",
       "      <td>8.0500</td>\n",
       "      <td>S</td>\n",
       "    </tr>\n",
       "  </tbody>\n",
       "</table>\n",
       "</div>"
      ],
      "text/plain": [
       "   PassengerId  Survived  Pclass  \\\n",
       "0            1         0       3   \n",
       "1            2         1       1   \n",
       "2            3         1       3   \n",
       "3            4         1       1   \n",
       "4            5         0       3   \n",
       "\n",
       "                                                Name     Sex   Age  SibSp  \\\n",
       "0                            Braund, Mr. Owen Harris    male  22.0      1   \n",
       "1  Cumings, Mrs. John Bradley (Florence Briggs Th...  female  38.0      1   \n",
       "2                             Heikkinen, Miss. Laina  female  26.0      0   \n",
       "3       Futrelle, Mrs. Jacques Heath (Lily May Peel)  female  35.0      1   \n",
       "4                           Allen, Mr. William Henry    male  35.0      0   \n",
       "\n",
       "   Parch            Ticket     Fare Embarked  \n",
       "0      0         A/5 21171   7.2500        S  \n",
       "1      0          PC 17599  71.2833        C  \n",
       "2      0  STON/O2. 3101282   7.9250        S  \n",
       "3      0            113803  53.1000        S  \n",
       "4      0            373450   8.0500        S  "
      ]
     },
     "execution_count": 18,
     "metadata": {},
     "output_type": "execute_result"
    }
   ],
   "source": [
    "data = delete_cabin(data)\n",
    "data.head(5)"
   ]
  },
  {
   "cell_type": "markdown",
   "metadata": {},
   "source": [
    "### The `Age` column\n",
    "\n",
    "Let us print the lines for which the age is missing:"
   ]
  },
  {
   "cell_type": "code",
   "execution_count": 19,
   "metadata": {},
   "outputs": [
    {
     "data": {
      "text/html": [
       "<div>\n",
       "<style scoped>\n",
       "    .dataframe tbody tr th:only-of-type {\n",
       "        vertical-align: middle;\n",
       "    }\n",
       "\n",
       "    .dataframe tbody tr th {\n",
       "        vertical-align: top;\n",
       "    }\n",
       "\n",
       "    .dataframe thead th {\n",
       "        text-align: right;\n",
       "    }\n",
       "</style>\n",
       "<table border=\"1\" class=\"dataframe\">\n",
       "  <thead>\n",
       "    <tr style=\"text-align: right;\">\n",
       "      <th></th>\n",
       "      <th>PassengerId</th>\n",
       "      <th>Survived</th>\n",
       "      <th>Pclass</th>\n",
       "      <th>Name</th>\n",
       "      <th>Sex</th>\n",
       "      <th>Age</th>\n",
       "      <th>SibSp</th>\n",
       "      <th>Parch</th>\n",
       "      <th>Ticket</th>\n",
       "      <th>Fare</th>\n",
       "      <th>Embarked</th>\n",
       "    </tr>\n",
       "  </thead>\n",
       "  <tbody>\n",
       "    <tr>\n",
       "      <th>5</th>\n",
       "      <td>6</td>\n",
       "      <td>0</td>\n",
       "      <td>3</td>\n",
       "      <td>Moran, Mr. James</td>\n",
       "      <td>male</td>\n",
       "      <td>NaN</td>\n",
       "      <td>0</td>\n",
       "      <td>0</td>\n",
       "      <td>330877</td>\n",
       "      <td>8.4583</td>\n",
       "      <td>Q</td>\n",
       "    </tr>\n",
       "    <tr>\n",
       "      <th>17</th>\n",
       "      <td>18</td>\n",
       "      <td>1</td>\n",
       "      <td>2</td>\n",
       "      <td>Williams, Mr. Charles Eugene</td>\n",
       "      <td>male</td>\n",
       "      <td>NaN</td>\n",
       "      <td>0</td>\n",
       "      <td>0</td>\n",
       "      <td>244373</td>\n",
       "      <td>13.0000</td>\n",
       "      <td>S</td>\n",
       "    </tr>\n",
       "    <tr>\n",
       "      <th>19</th>\n",
       "      <td>20</td>\n",
       "      <td>1</td>\n",
       "      <td>3</td>\n",
       "      <td>Masselmani, Mrs. Fatima</td>\n",
       "      <td>female</td>\n",
       "      <td>NaN</td>\n",
       "      <td>0</td>\n",
       "      <td>0</td>\n",
       "      <td>2649</td>\n",
       "      <td>7.2250</td>\n",
       "      <td>C</td>\n",
       "    </tr>\n",
       "    <tr>\n",
       "      <th>26</th>\n",
       "      <td>27</td>\n",
       "      <td>0</td>\n",
       "      <td>3</td>\n",
       "      <td>Emir, Mr. Farred Chehab</td>\n",
       "      <td>male</td>\n",
       "      <td>NaN</td>\n",
       "      <td>0</td>\n",
       "      <td>0</td>\n",
       "      <td>2631</td>\n",
       "      <td>7.2250</td>\n",
       "      <td>C</td>\n",
       "    </tr>\n",
       "    <tr>\n",
       "      <th>28</th>\n",
       "      <td>29</td>\n",
       "      <td>1</td>\n",
       "      <td>3</td>\n",
       "      <td>O'Dwyer, Miss. Ellen \"Nellie\"</td>\n",
       "      <td>female</td>\n",
       "      <td>NaN</td>\n",
       "      <td>0</td>\n",
       "      <td>0</td>\n",
       "      <td>330959</td>\n",
       "      <td>7.8792</td>\n",
       "      <td>Q</td>\n",
       "    </tr>\n",
       "    <tr>\n",
       "      <th>...</th>\n",
       "      <td>...</td>\n",
       "      <td>...</td>\n",
       "      <td>...</td>\n",
       "      <td>...</td>\n",
       "      <td>...</td>\n",
       "      <td>...</td>\n",
       "      <td>...</td>\n",
       "      <td>...</td>\n",
       "      <td>...</td>\n",
       "      <td>...</td>\n",
       "      <td>...</td>\n",
       "    </tr>\n",
       "    <tr>\n",
       "      <th>859</th>\n",
       "      <td>860</td>\n",
       "      <td>0</td>\n",
       "      <td>3</td>\n",
       "      <td>Razi, Mr. Raihed</td>\n",
       "      <td>male</td>\n",
       "      <td>NaN</td>\n",
       "      <td>0</td>\n",
       "      <td>0</td>\n",
       "      <td>2629</td>\n",
       "      <td>7.2292</td>\n",
       "      <td>C</td>\n",
       "    </tr>\n",
       "    <tr>\n",
       "      <th>863</th>\n",
       "      <td>864</td>\n",
       "      <td>0</td>\n",
       "      <td>3</td>\n",
       "      <td>Sage, Miss. Dorothy Edith \"Dolly\"</td>\n",
       "      <td>female</td>\n",
       "      <td>NaN</td>\n",
       "      <td>8</td>\n",
       "      <td>2</td>\n",
       "      <td>CA. 2343</td>\n",
       "      <td>69.5500</td>\n",
       "      <td>S</td>\n",
       "    </tr>\n",
       "    <tr>\n",
       "      <th>868</th>\n",
       "      <td>869</td>\n",
       "      <td>0</td>\n",
       "      <td>3</td>\n",
       "      <td>van Melkebeke, Mr. Philemon</td>\n",
       "      <td>male</td>\n",
       "      <td>NaN</td>\n",
       "      <td>0</td>\n",
       "      <td>0</td>\n",
       "      <td>345777</td>\n",
       "      <td>9.5000</td>\n",
       "      <td>S</td>\n",
       "    </tr>\n",
       "    <tr>\n",
       "      <th>878</th>\n",
       "      <td>879</td>\n",
       "      <td>0</td>\n",
       "      <td>3</td>\n",
       "      <td>Laleff, Mr. Kristo</td>\n",
       "      <td>male</td>\n",
       "      <td>NaN</td>\n",
       "      <td>0</td>\n",
       "      <td>0</td>\n",
       "      <td>349217</td>\n",
       "      <td>7.8958</td>\n",
       "      <td>S</td>\n",
       "    </tr>\n",
       "    <tr>\n",
       "      <th>888</th>\n",
       "      <td>889</td>\n",
       "      <td>0</td>\n",
       "      <td>3</td>\n",
       "      <td>Johnston, Miss. Catherine Helen \"Carrie\"</td>\n",
       "      <td>female</td>\n",
       "      <td>NaN</td>\n",
       "      <td>1</td>\n",
       "      <td>2</td>\n",
       "      <td>W./C. 6607</td>\n",
       "      <td>23.4500</td>\n",
       "      <td>S</td>\n",
       "    </tr>\n",
       "  </tbody>\n",
       "</table>\n",
       "<p>177 rows × 11 columns</p>\n",
       "</div>"
      ],
      "text/plain": [
       "     PassengerId  Survived  Pclass                                      Name  \\\n",
       "5              6         0       3                          Moran, Mr. James   \n",
       "17            18         1       2              Williams, Mr. Charles Eugene   \n",
       "19            20         1       3                   Masselmani, Mrs. Fatima   \n",
       "26            27         0       3                   Emir, Mr. Farred Chehab   \n",
       "28            29         1       3             O'Dwyer, Miss. Ellen \"Nellie\"   \n",
       "..           ...       ...     ...                                       ...   \n",
       "859          860         0       3                          Razi, Mr. Raihed   \n",
       "863          864         0       3         Sage, Miss. Dorothy Edith \"Dolly\"   \n",
       "868          869         0       3               van Melkebeke, Mr. Philemon   \n",
       "878          879         0       3                        Laleff, Mr. Kristo   \n",
       "888          889         0       3  Johnston, Miss. Catherine Helen \"Carrie\"   \n",
       "\n",
       "        Sex  Age  SibSp  Parch      Ticket     Fare Embarked  \n",
       "5      male  NaN      0      0      330877   8.4583        Q  \n",
       "17     male  NaN      0      0      244373  13.0000        S  \n",
       "19   female  NaN      0      0        2649   7.2250        C  \n",
       "26     male  NaN      0      0        2631   7.2250        C  \n",
       "28   female  NaN      0      0      330959   7.8792        Q  \n",
       "..      ...  ...    ...    ...         ...      ...      ...  \n",
       "859    male  NaN      0      0        2629   7.2292        C  \n",
       "863  female  NaN      8      2    CA. 2343  69.5500        S  \n",
       "868    male  NaN      0      0      345777   9.5000        S  \n",
       "878    male  NaN      0      0      349217   7.8958        S  \n",
       "888  female  NaN      1      2  W./C. 6607  23.4500        S  \n",
       "\n",
       "[177 rows x 11 columns]"
      ]
     },
     "execution_count": 19,
     "metadata": {},
     "output_type": "execute_result"
    }
   ],
   "source": [
    "data[data['Age'].isnull()]"
   ]
  },
  {
   "cell_type": "markdown",
   "metadata": {},
   "source": [
    "There does not seem to be any obvious pattern. \n",
    "We can't discard the `Age` column as the ‘women and children first’ policy may well mak the age an important factor in predicting whether a passenger has survived. \n",
    "Instead, we propose to fill the missing value with an average. \n",
    "To be more granular, we will divide the passengers into different categories according to their title and the class they traveled in. \n",
    "\n",
    "Let us first create the `Title` column:"
   ]
  },
  {
   "cell_type": "code",
   "execution_count": 20,
   "metadata": {},
   "outputs": [
    {
     "data": {
      "text/html": [
       "<div>\n",
       "<style scoped>\n",
       "    .dataframe tbody tr th:only-of-type {\n",
       "        vertical-align: middle;\n",
       "    }\n",
       "\n",
       "    .dataframe tbody tr th {\n",
       "        vertical-align: top;\n",
       "    }\n",
       "\n",
       "    .dataframe thead th {\n",
       "        text-align: right;\n",
       "    }\n",
       "</style>\n",
       "<table border=\"1\" class=\"dataframe\">\n",
       "  <thead>\n",
       "    <tr style=\"text-align: right;\">\n",
       "      <th></th>\n",
       "      <th>PassengerId</th>\n",
       "      <th>Survived</th>\n",
       "      <th>Pclass</th>\n",
       "      <th>Name</th>\n",
       "      <th>Sex</th>\n",
       "      <th>Age</th>\n",
       "      <th>SibSp</th>\n",
       "      <th>Parch</th>\n",
       "      <th>Ticket</th>\n",
       "      <th>Fare</th>\n",
       "      <th>Embarked</th>\n",
       "      <th>Title</th>\n",
       "    </tr>\n",
       "  </thead>\n",
       "  <tbody>\n",
       "    <tr>\n",
       "      <th>0</th>\n",
       "      <td>1</td>\n",
       "      <td>0</td>\n",
       "      <td>3</td>\n",
       "      <td>Braund, Mr. Owen Harris</td>\n",
       "      <td>male</td>\n",
       "      <td>22.0</td>\n",
       "      <td>1</td>\n",
       "      <td>0</td>\n",
       "      <td>A/5 21171</td>\n",
       "      <td>7.2500</td>\n",
       "      <td>S</td>\n",
       "      <td>Mr.</td>\n",
       "    </tr>\n",
       "    <tr>\n",
       "      <th>1</th>\n",
       "      <td>2</td>\n",
       "      <td>1</td>\n",
       "      <td>1</td>\n",
       "      <td>Cumings, Mrs. John Bradley (Florence Briggs Th...</td>\n",
       "      <td>female</td>\n",
       "      <td>38.0</td>\n",
       "      <td>1</td>\n",
       "      <td>0</td>\n",
       "      <td>PC 17599</td>\n",
       "      <td>71.2833</td>\n",
       "      <td>C</td>\n",
       "      <td>Mrs.</td>\n",
       "    </tr>\n",
       "    <tr>\n",
       "      <th>2</th>\n",
       "      <td>3</td>\n",
       "      <td>1</td>\n",
       "      <td>3</td>\n",
       "      <td>Heikkinen, Miss. Laina</td>\n",
       "      <td>female</td>\n",
       "      <td>26.0</td>\n",
       "      <td>0</td>\n",
       "      <td>0</td>\n",
       "      <td>STON/O2. 3101282</td>\n",
       "      <td>7.9250</td>\n",
       "      <td>S</td>\n",
       "      <td>Miss.</td>\n",
       "    </tr>\n",
       "    <tr>\n",
       "      <th>3</th>\n",
       "      <td>4</td>\n",
       "      <td>1</td>\n",
       "      <td>1</td>\n",
       "      <td>Futrelle, Mrs. Jacques Heath (Lily May Peel)</td>\n",
       "      <td>female</td>\n",
       "      <td>35.0</td>\n",
       "      <td>1</td>\n",
       "      <td>0</td>\n",
       "      <td>113803</td>\n",
       "      <td>53.1000</td>\n",
       "      <td>S</td>\n",
       "      <td>Mrs.</td>\n",
       "    </tr>\n",
       "    <tr>\n",
       "      <th>4</th>\n",
       "      <td>5</td>\n",
       "      <td>0</td>\n",
       "      <td>3</td>\n",
       "      <td>Allen, Mr. William Henry</td>\n",
       "      <td>male</td>\n",
       "      <td>35.0</td>\n",
       "      <td>0</td>\n",
       "      <td>0</td>\n",
       "      <td>373450</td>\n",
       "      <td>8.0500</td>\n",
       "      <td>S</td>\n",
       "      <td>Mr.</td>\n",
       "    </tr>\n",
       "  </tbody>\n",
       "</table>\n",
       "</div>"
      ],
      "text/plain": [
       "   PassengerId  Survived  Pclass  \\\n",
       "0            1         0       3   \n",
       "1            2         1       1   \n",
       "2            3         1       3   \n",
       "3            4         1       1   \n",
       "4            5         0       3   \n",
       "\n",
       "                                                Name     Sex   Age  SibSp  \\\n",
       "0                            Braund, Mr. Owen Harris    male  22.0      1   \n",
       "1  Cumings, Mrs. John Bradley (Florence Briggs Th...  female  38.0      1   \n",
       "2                             Heikkinen, Miss. Laina  female  26.0      0   \n",
       "3       Futrelle, Mrs. Jacques Heath (Lily May Peel)  female  35.0      1   \n",
       "4                           Allen, Mr. William Henry    male  35.0      0   \n",
       "\n",
       "   Parch            Ticket     Fare Embarked  Title  \n",
       "0      0         A/5 21171   7.2500        S    Mr.  \n",
       "1      0          PC 17599  71.2833        C   Mrs.  \n",
       "2      0  STON/O2. 3101282   7.9250        S  Miss.  \n",
       "3      0            113803  53.1000        S   Mrs.  \n",
       "4      0            373450   8.0500        S    Mr.  "
      ]
     },
     "execution_count": 20,
     "metadata": {},
     "output_type": "execute_result"
    }
   ],
   "source": [
    "def create_title(df):\n",
    "    df['Title'] = df['Name'].str.extract('([a-zA-Z]+\\.)')\n",
    "\n",
    "create_title(data)\n",
    "data.head()"
   ]
  },
  {
   "cell_type": "markdown",
   "metadata": {},
   "source": [
    "We now build a dictionary of averages (the same dictionary will be used for the training and test data):"
   ]
  },
  {
   "cell_type": "code",
   "execution_count": 21,
   "metadata": {},
   "outputs": [
    {
     "data": {
      "text/plain": [
       "{(3, 'Mr.'): 28.724890829694324,\n",
       " (3, 'Mrs.'): 33.515151515151516,\n",
       " (3, 'Miss.'): 16.1231884057971,\n",
       " (3, 'Master.'): 5.350833333333334,\n",
       " (3, 'Don.'): nan,\n",
       " (3, 'Rev.'): nan,\n",
       " (3, 'Dr.'): nan,\n",
       " (3, 'Mme.'): nan,\n",
       " (3, 'Ms.'): nan,\n",
       " (3, 'Major.'): nan,\n",
       " (3, 'Lady.'): nan,\n",
       " (3, 'Sir.'): nan,\n",
       " (3, 'Mlle.'): nan,\n",
       " (3, 'Col.'): nan,\n",
       " (3, 'Capt.'): nan,\n",
       " (3, 'Countess.'): nan,\n",
       " (3, 'Jonkheer.'): nan,\n",
       " (1, 'Mr.'): 41.58045977011494,\n",
       " (1, 'Mrs.'): 40.88235294117647,\n",
       " (1, 'Miss.'): 30.0,\n",
       " (1, 'Master.'): 5.306666666666667,\n",
       " (1, 'Don.'): 40.0,\n",
       " (1, 'Rev.'): nan,\n",
       " (1, 'Dr.'): 43.75,\n",
       " (1, 'Mme.'): 24.0,\n",
       " (1, 'Ms.'): nan,\n",
       " (1, 'Major.'): 48.5,\n",
       " (1, 'Lady.'): 48.0,\n",
       " (1, 'Sir.'): 49.0,\n",
       " (1, 'Mlle.'): 24.0,\n",
       " (1, 'Col.'): 58.0,\n",
       " (1, 'Capt.'): 70.0,\n",
       " (1, 'Countess.'): 33.0,\n",
       " (1, 'Jonkheer.'): 38.0,\n",
       " (2, 'Mr.'): 32.76829268292683,\n",
       " (2, 'Mrs.'): 33.68292682926829,\n",
       " (2, 'Miss.'): 22.390625,\n",
       " (2, 'Master.'): 2.2588888888888885,\n",
       " (2, 'Don.'): nan,\n",
       " (2, 'Rev.'): 43.166666666666664,\n",
       " (2, 'Dr.'): 38.5,\n",
       " (2, 'Mme.'): nan,\n",
       " (2, 'Ms.'): 28.0,\n",
       " (2, 'Major.'): nan,\n",
       " (2, 'Lady.'): nan,\n",
       " (2, 'Sir.'): nan,\n",
       " (2, 'Mlle.'): nan,\n",
       " (2, 'Col.'): nan,\n",
       " (2, 'Capt.'): nan,\n",
       " (2, 'Countess.'): nan,\n",
       " (2, 'Jonkheer.'): nan}"
      ]
     },
     "execution_count": 21,
     "metadata": {},
     "output_type": "execute_result"
    }
   ],
   "source": [
    "avg_age_Pclass_Title = {\n",
    "    (Pclass,Title): \n",
    "        data[(data['Pclass']==Pclass) & (data['Title']==Title)]['Age'].mean() \n",
    "        for Pclass in data['Pclass'].unique()\n",
    "        for Title in data['Title'].unique()}\n",
    "\n",
    "avg_age_Pclass_Title"
   ]
  },
  {
   "cell_type": "markdown",
   "metadata": {},
   "source": [
    "We still have some NaN values. \n",
    "Let us thus also make a dictionary of average ages based on the title only:"
   ]
  },
  {
   "cell_type": "code",
   "execution_count": 22,
   "metadata": {},
   "outputs": [
    {
     "data": {
      "text/plain": [
       "{'Mr.': 32.368090452261306,\n",
       " 'Mrs.': 35.898148148148145,\n",
       " 'Miss.': 21.773972602739725,\n",
       " 'Master.': 4.574166666666667,\n",
       " 'Don.': 40.0,\n",
       " 'Rev.': 43.166666666666664,\n",
       " 'Dr.': 42.0,\n",
       " 'Mme.': 24.0,\n",
       " 'Ms.': 28.0,\n",
       " 'Major.': 48.5,\n",
       " 'Lady.': 48.0,\n",
       " 'Sir.': 49.0,\n",
       " 'Mlle.': 24.0,\n",
       " 'Col.': 58.0,\n",
       " 'Capt.': 70.0,\n",
       " 'Countess.': 33.0,\n",
       " 'Jonkheer.': 38.0}"
      ]
     },
     "execution_count": 22,
     "metadata": {},
     "output_type": "execute_result"
    }
   ],
   "source": [
    "avg_age_Title = {\n",
    "    Title: \n",
    "        data[(data['Title']==Title)]['Age'].mean() \n",
    "        for Title in data['Title'].unique()}\n",
    "\n",
    "avg_age_Title"
   ]
  },
  {
   "cell_type": "markdown",
   "metadata": {},
   "source": [
    "We also define a dictionary using only the `Pclass` column, in case a passenger's title is not included in the training data."
   ]
  },
  {
   "cell_type": "code",
   "execution_count": 23,
   "metadata": {},
   "outputs": [
    {
     "data": {
      "text/plain": [
       "{3: 25.14061971830986, 1: 38.233440860215055, 2: 29.87763005780347}"
      ]
     },
     "execution_count": 23,
     "metadata": {},
     "output_type": "execute_result"
    }
   ],
   "source": [
    "avg_age_Pclass = {\n",
    "    Pclass: \n",
    "        data[(data['Pclass']==Pclass)]['Age'].mean() \n",
    "        for Pclass in data['Pclass'].unique()}\n",
    "\n",
    "avg_age_Pclass"
   ]
  },
  {
   "cell_type": "markdown",
   "metadata": {},
   "source": [
    "We now define the function `fill_age`:"
   ]
  },
  {
   "cell_type": "code",
   "execution_count": 24,
   "metadata": {},
   "outputs": [
    {
     "name": "stdout",
     "output_type": "stream",
     "text": [
      "<class 'pandas.core.frame.DataFrame'>\n",
      "RangeIndex: 891 entries, 0 to 890\n",
      "Data columns (total 12 columns):\n",
      " #   Column       Non-Null Count  Dtype  \n",
      "---  ------       --------------  -----  \n",
      " 0   PassengerId  891 non-null    int64  \n",
      " 1   Survived     891 non-null    int64  \n",
      " 2   Pclass       891 non-null    int64  \n",
      " 3   Name         891 non-null    object \n",
      " 4   Sex          891 non-null    object \n",
      " 5   Age          891 non-null    float64\n",
      " 6   SibSp        891 non-null    int64  \n",
      " 7   Parch        891 non-null    int64  \n",
      " 8   Ticket       891 non-null    object \n",
      " 9   Fare         891 non-null    float64\n",
      " 10  Embarked     889 non-null    object \n",
      " 11  Title        891 non-null    object \n",
      "dtypes: float64(2), int64(5), object(5)\n",
      "memory usage: 83.7+ KB\n"
     ]
    }
   ],
   "source": [
    "def fill_age_row(row):\n",
    "    if not np.isnan(row['Age']):\n",
    "        return row['Age']\n",
    "    Pclass = row['Pclass']\n",
    "    Title = row['Title']\n",
    "    if (Pclass,Title) in avg_age_Pclass_Title:\n",
    "        avg1 = avg_age_Pclass_Title[(Pclass,Title)]\n",
    "        if np.isnan(avg1):\n",
    "            return avg_age_Title[Title]\n",
    "        return avg1\n",
    "    if Title in avg_age_Title:\n",
    "        return avg_age_Title[Title]\n",
    "    else:\n",
    "        return avg_age_Pclass[Pclass]\n",
    "\n",
    "def fill_age(df):\n",
    "    df['Age'] = df.apply(fill_age_row, axis=1)\n",
    "    \n",
    "fill_age(data)\n",
    "data.info()"
   ]
  },
  {
   "cell_type": "markdown",
   "metadata": {},
   "source": [
    "### The `Embarked` column\n",
    "\n",
    "This column has only a few missing values, which we will fill with the most common one, *i.e.*, `S`."
   ]
  },
  {
   "cell_type": "code",
   "execution_count": 25,
   "metadata": {},
   "outputs": [
    {
     "name": "stdout",
     "output_type": "stream",
     "text": [
      "<class 'pandas.core.frame.DataFrame'>\n",
      "RangeIndex: 891 entries, 0 to 890\n",
      "Data columns (total 12 columns):\n",
      " #   Column       Non-Null Count  Dtype  \n",
      "---  ------       --------------  -----  \n",
      " 0   PassengerId  891 non-null    int64  \n",
      " 1   Survived     891 non-null    int64  \n",
      " 2   Pclass       891 non-null    int64  \n",
      " 3   Name         891 non-null    object \n",
      " 4   Sex          891 non-null    object \n",
      " 5   Age          891 non-null    float64\n",
      " 6   SibSp        891 non-null    int64  \n",
      " 7   Parch        891 non-null    int64  \n",
      " 8   Ticket       891 non-null    object \n",
      " 9   Fare         891 non-null    float64\n",
      " 10  Embarked     891 non-null    object \n",
      " 11  Title        891 non-null    object \n",
      "dtypes: float64(2), int64(5), object(5)\n",
      "memory usage: 83.7+ KB\n"
     ]
    }
   ],
   "source": [
    "def fill_Embarked(df):\n",
    "    df['Embarked'] = df['Embarked'].fillna('S')\n",
    "\n",
    "fill_Embarked(data)\n",
    "data.info()"
   ]
  },
  {
   "cell_type": "markdown",
   "metadata": {},
   "source": [
    "### Discarding the irrelevent columns\n",
    "\n",
    "We choose to discard: \n",
    "* the Passenger ID, since it seems to have been assigned arbitrarily,\n",
    "* the Name, as it isis unlikely to have an impact on survival chances (apart, maybe, from the title),\n",
    "* the `Ticket` and `Fare` columns, as the relevent information they convey are probably already included in `Pclass`.\n",
    "\n",
    "Some comments: \n",
    "* The columns `Title` and `Sex` give overlapping information. However, some titles apply to both genders (for instance, there are one female doctor and several male ones in the dataset), and each gender can have several titles. We would thus lose information by discarding one of them.\n",
    "* There is also some overlap between the `Age` and `Title` columns; however, the first one is more precise and the second one can take different values for a given age. So, again, discarding one of them would induce some loss of information.\n",
    "* One may wonder wether keeping the `Age` column is relevant given that the title already gives an indication about the age. However, some titles, for instance `Miss`, can apply to adults as well as children. Moreover, even a title used only for adults may not differentiate between a young adult and an elderly, which may affect the survival chance.\n",
    "* One could argue that the title is not relevant, or that most of the information it conveys is already included in the gender and age. However, it could still hold some marginally relevant information on a person's background (for instance, if it indicates military training)."
   ]
  },
  {
   "cell_type": "code",
   "execution_count": 26,
   "metadata": {},
   "outputs": [
    {
     "data": {
      "text/html": [
       "<div>\n",
       "<style scoped>\n",
       "    .dataframe tbody tr th:only-of-type {\n",
       "        vertical-align: middle;\n",
       "    }\n",
       "\n",
       "    .dataframe tbody tr th {\n",
       "        vertical-align: top;\n",
       "    }\n",
       "\n",
       "    .dataframe thead th {\n",
       "        text-align: right;\n",
       "    }\n",
       "</style>\n",
       "<table border=\"1\" class=\"dataframe\">\n",
       "  <thead>\n",
       "    <tr style=\"text-align: right;\">\n",
       "      <th></th>\n",
       "      <th>Survived</th>\n",
       "      <th>Pclass</th>\n",
       "      <th>Sex</th>\n",
       "      <th>Age</th>\n",
       "      <th>SibSp</th>\n",
       "      <th>Parch</th>\n",
       "      <th>Embarked</th>\n",
       "      <th>Title</th>\n",
       "    </tr>\n",
       "  </thead>\n",
       "  <tbody>\n",
       "    <tr>\n",
       "      <th>0</th>\n",
       "      <td>0</td>\n",
       "      <td>3</td>\n",
       "      <td>male</td>\n",
       "      <td>22.0</td>\n",
       "      <td>1</td>\n",
       "      <td>0</td>\n",
       "      <td>S</td>\n",
       "      <td>Mr.</td>\n",
       "    </tr>\n",
       "    <tr>\n",
       "      <th>1</th>\n",
       "      <td>1</td>\n",
       "      <td>1</td>\n",
       "      <td>female</td>\n",
       "      <td>38.0</td>\n",
       "      <td>1</td>\n",
       "      <td>0</td>\n",
       "      <td>C</td>\n",
       "      <td>Mrs.</td>\n",
       "    </tr>\n",
       "    <tr>\n",
       "      <th>2</th>\n",
       "      <td>1</td>\n",
       "      <td>3</td>\n",
       "      <td>female</td>\n",
       "      <td>26.0</td>\n",
       "      <td>0</td>\n",
       "      <td>0</td>\n",
       "      <td>S</td>\n",
       "      <td>Miss.</td>\n",
       "    </tr>\n",
       "    <tr>\n",
       "      <th>3</th>\n",
       "      <td>1</td>\n",
       "      <td>1</td>\n",
       "      <td>female</td>\n",
       "      <td>35.0</td>\n",
       "      <td>1</td>\n",
       "      <td>0</td>\n",
       "      <td>S</td>\n",
       "      <td>Mrs.</td>\n",
       "    </tr>\n",
       "    <tr>\n",
       "      <th>4</th>\n",
       "      <td>0</td>\n",
       "      <td>3</td>\n",
       "      <td>male</td>\n",
       "      <td>35.0</td>\n",
       "      <td>0</td>\n",
       "      <td>0</td>\n",
       "      <td>S</td>\n",
       "      <td>Mr.</td>\n",
       "    </tr>\n",
       "  </tbody>\n",
       "</table>\n",
       "</div>"
      ],
      "text/plain": [
       "   Survived  Pclass     Sex   Age  SibSp  Parch Embarked  Title\n",
       "0         0       3    male  22.0      1      0        S    Mr.\n",
       "1         1       1  female  38.0      1      0        C   Mrs.\n",
       "2         1       3  female  26.0      0      0        S  Miss.\n",
       "3         1       1  female  35.0      1      0        S   Mrs.\n",
       "4         0       3    male  35.0      0      0        S    Mr."
      ]
     },
     "execution_count": 26,
     "metadata": {},
     "output_type": "execute_result"
    }
   ],
   "source": [
    "def drop_columns(df):\n",
    "    return df.drop(['PassengerId', 'Name', 'Ticket', 'Fare'], 1)\n",
    "\n",
    "data = drop_columns(data)\n",
    "data.head()"
   ]
  },
  {
   "cell_type": "markdown",
   "metadata": {},
   "source": [
    "### One-hot encoder\n",
    "\n",
    "Let us define a one-hot encoder for the categorical data:"
   ]
  },
  {
   "cell_type": "code",
   "execution_count": 27,
   "metadata": {},
   "outputs": [
    {
     "data": {
      "text/html": [
       "<div>\n",
       "<style scoped>\n",
       "    .dataframe tbody tr th:only-of-type {\n",
       "        vertical-align: middle;\n",
       "    }\n",
       "\n",
       "    .dataframe tbody tr th {\n",
       "        vertical-align: top;\n",
       "    }\n",
       "\n",
       "    .dataframe thead th {\n",
       "        text-align: right;\n",
       "    }\n",
       "</style>\n",
       "<table border=\"1\" class=\"dataframe\">\n",
       "  <thead>\n",
       "    <tr style=\"text-align: right;\">\n",
       "      <th></th>\n",
       "      <th>Survived</th>\n",
       "      <th>Pclass</th>\n",
       "      <th>Age</th>\n",
       "      <th>SibSp</th>\n",
       "      <th>Parch</th>\n",
       "      <th>x0_female</th>\n",
       "      <th>x0_male</th>\n",
       "      <th>x1_C</th>\n",
       "      <th>x1_Q</th>\n",
       "      <th>x1_S</th>\n",
       "      <th>...</th>\n",
       "      <th>x2_Major.</th>\n",
       "      <th>x2_Master.</th>\n",
       "      <th>x2_Miss.</th>\n",
       "      <th>x2_Mlle.</th>\n",
       "      <th>x2_Mme.</th>\n",
       "      <th>x2_Mr.</th>\n",
       "      <th>x2_Mrs.</th>\n",
       "      <th>x2_Ms.</th>\n",
       "      <th>x2_Rev.</th>\n",
       "      <th>x2_Sir.</th>\n",
       "    </tr>\n",
       "  </thead>\n",
       "  <tbody>\n",
       "    <tr>\n",
       "      <th>0</th>\n",
       "      <td>0</td>\n",
       "      <td>3</td>\n",
       "      <td>22.0</td>\n",
       "      <td>1</td>\n",
       "      <td>0</td>\n",
       "      <td>0.0</td>\n",
       "      <td>1.0</td>\n",
       "      <td>0.0</td>\n",
       "      <td>0.0</td>\n",
       "      <td>1.0</td>\n",
       "      <td>...</td>\n",
       "      <td>0.0</td>\n",
       "      <td>0.0</td>\n",
       "      <td>0.0</td>\n",
       "      <td>0.0</td>\n",
       "      <td>0.0</td>\n",
       "      <td>1.0</td>\n",
       "      <td>0.0</td>\n",
       "      <td>0.0</td>\n",
       "      <td>0.0</td>\n",
       "      <td>0.0</td>\n",
       "    </tr>\n",
       "    <tr>\n",
       "      <th>1</th>\n",
       "      <td>1</td>\n",
       "      <td>1</td>\n",
       "      <td>38.0</td>\n",
       "      <td>1</td>\n",
       "      <td>0</td>\n",
       "      <td>1.0</td>\n",
       "      <td>0.0</td>\n",
       "      <td>1.0</td>\n",
       "      <td>0.0</td>\n",
       "      <td>0.0</td>\n",
       "      <td>...</td>\n",
       "      <td>0.0</td>\n",
       "      <td>0.0</td>\n",
       "      <td>0.0</td>\n",
       "      <td>0.0</td>\n",
       "      <td>0.0</td>\n",
       "      <td>0.0</td>\n",
       "      <td>1.0</td>\n",
       "      <td>0.0</td>\n",
       "      <td>0.0</td>\n",
       "      <td>0.0</td>\n",
       "    </tr>\n",
       "    <tr>\n",
       "      <th>2</th>\n",
       "      <td>1</td>\n",
       "      <td>3</td>\n",
       "      <td>26.0</td>\n",
       "      <td>0</td>\n",
       "      <td>0</td>\n",
       "      <td>1.0</td>\n",
       "      <td>0.0</td>\n",
       "      <td>0.0</td>\n",
       "      <td>0.0</td>\n",
       "      <td>1.0</td>\n",
       "      <td>...</td>\n",
       "      <td>0.0</td>\n",
       "      <td>0.0</td>\n",
       "      <td>1.0</td>\n",
       "      <td>0.0</td>\n",
       "      <td>0.0</td>\n",
       "      <td>0.0</td>\n",
       "      <td>0.0</td>\n",
       "      <td>0.0</td>\n",
       "      <td>0.0</td>\n",
       "      <td>0.0</td>\n",
       "    </tr>\n",
       "    <tr>\n",
       "      <th>3</th>\n",
       "      <td>1</td>\n",
       "      <td>1</td>\n",
       "      <td>35.0</td>\n",
       "      <td>1</td>\n",
       "      <td>0</td>\n",
       "      <td>1.0</td>\n",
       "      <td>0.0</td>\n",
       "      <td>0.0</td>\n",
       "      <td>0.0</td>\n",
       "      <td>1.0</td>\n",
       "      <td>...</td>\n",
       "      <td>0.0</td>\n",
       "      <td>0.0</td>\n",
       "      <td>0.0</td>\n",
       "      <td>0.0</td>\n",
       "      <td>0.0</td>\n",
       "      <td>0.0</td>\n",
       "      <td>1.0</td>\n",
       "      <td>0.0</td>\n",
       "      <td>0.0</td>\n",
       "      <td>0.0</td>\n",
       "    </tr>\n",
       "    <tr>\n",
       "      <th>4</th>\n",
       "      <td>0</td>\n",
       "      <td>3</td>\n",
       "      <td>35.0</td>\n",
       "      <td>0</td>\n",
       "      <td>0</td>\n",
       "      <td>0.0</td>\n",
       "      <td>1.0</td>\n",
       "      <td>0.0</td>\n",
       "      <td>0.0</td>\n",
       "      <td>1.0</td>\n",
       "      <td>...</td>\n",
       "      <td>0.0</td>\n",
       "      <td>0.0</td>\n",
       "      <td>0.0</td>\n",
       "      <td>0.0</td>\n",
       "      <td>0.0</td>\n",
       "      <td>1.0</td>\n",
       "      <td>0.0</td>\n",
       "      <td>0.0</td>\n",
       "      <td>0.0</td>\n",
       "      <td>0.0</td>\n",
       "    </tr>\n",
       "  </tbody>\n",
       "</table>\n",
       "<p>5 rows × 27 columns</p>\n",
       "</div>"
      ],
      "text/plain": [
       "   Survived  Pclass   Age  SibSp  Parch  x0_female  x0_male  x1_C  x1_Q  x1_S  \\\n",
       "0         0       3  22.0      1      0        0.0      1.0   0.0   0.0   1.0   \n",
       "1         1       1  38.0      1      0        1.0      0.0   1.0   0.0   0.0   \n",
       "2         1       3  26.0      0      0        1.0      0.0   0.0   0.0   1.0   \n",
       "3         1       1  35.0      1      0        1.0      0.0   0.0   0.0   1.0   \n",
       "4         0       3  35.0      0      0        0.0      1.0   0.0   0.0   1.0   \n",
       "\n",
       "   ...  x2_Major.  x2_Master.  x2_Miss.  x2_Mlle.  x2_Mme.  x2_Mr.  x2_Mrs.  \\\n",
       "0  ...        0.0         0.0       0.0       0.0      0.0     1.0      0.0   \n",
       "1  ...        0.0         0.0       0.0       0.0      0.0     0.0      1.0   \n",
       "2  ...        0.0         0.0       1.0       0.0      0.0     0.0      0.0   \n",
       "3  ...        0.0         0.0       0.0       0.0      0.0     0.0      1.0   \n",
       "4  ...        0.0         0.0       0.0       0.0      0.0     1.0      0.0   \n",
       "\n",
       "   x2_Ms.  x2_Rev.  x2_Sir.  \n",
       "0     0.0      0.0      0.0  \n",
       "1     0.0      0.0      0.0  \n",
       "2     0.0      0.0      0.0  \n",
       "3     0.0      0.0      0.0  \n",
       "4     0.0      0.0      0.0  \n",
       "\n",
       "[5 rows x 27 columns]"
      ]
     },
     "execution_count": 27,
     "metadata": {},
     "output_type": "execute_result"
    }
   ],
   "source": [
    "cat_columns = ['Sex','Embarked','Title']\n",
    "ohe = OneHotEncoder(sparse=False, handle_unknown='ignore')\n",
    "ohe.fit(data[cat_columns])\n",
    "\n",
    "def to_cat(df):\n",
    "    one_hot_cols = pd.DataFrame(ohe.transform(df[cat_columns]), columns=ohe.get_feature_names())\n",
    "    df = df.drop(cat_columns, axis=1)\n",
    "    df = pd.concat([df, one_hot_cols], axis=1)\n",
    "    return df\n",
    "\n",
    "data = to_cat(data)\n",
    "data.head()"
   ]
  },
  {
   "cell_type": "markdown",
   "metadata": {},
   "source": [
    "### Single function to uniformize a dataset\n",
    "\n",
    "Let us gather the functions we have used to modify the `data` dataframe in a single function:"
   ]
  },
  {
   "cell_type": "code",
   "execution_count": 28,
   "metadata": {},
   "outputs": [],
   "source": [
    "def prepare(df):\n",
    "    df = delete_cabin(df)\n",
    "    create_title(df)\n",
    "    fill_age(df)\n",
    "    fill_Embarked(df)\n",
    "    df = drop_columns(df)\n",
    "    df = to_cat(df)\n",
    "    return df"
   ]
  },
  {
   "cell_type": "markdown",
   "metadata": {},
   "source": [
    "We will not use it on the training data as they have already been prepared. \n",
    "But it will be used to prepare the test data.\n",
    "\n",
    "## Choice of models\n",
    "\n",
    "### What models to use? \n",
    "\n",
    "We want to solve a classification problem (with two classes: ‘survived’ or ‘did not survive’) using a supervised model (since we know which class corresponds to each training sample). \n",
    "Five models which are often very effective in this case are decision trees, random forests, support vector machines, k-nearest neighbours, and multi-layer perceptrons. \n",
    "We will thus choose these models in the following.\n",
    "\n",
    "### Separation into training and test data"
   ]
  },
  {
   "cell_type": "code",
   "execution_count": 29,
   "metadata": {},
   "outputs": [],
   "source": [
    "# fix the random state o make the experiment reproducible\n",
    "random_state = 41\n",
    "\n",
    "# fraction of the lines to be used for the test\n",
    "fraction_test = 0.15\n",
    "\n",
    "y_data = data['Survived']\n",
    "x_data = data.drop(['Survived'], 1)\n",
    "x_train, x_test, y_train, y_test = train_test_split(x_data, y_data, \n",
    "                                                    test_size=fraction_test, \n",
    "                                                    random_state=random_state)"
   ]
  },
  {
   "cell_type": "markdown",
   "metadata": {},
   "source": [
    "### Some preliminary experiments\n",
    "\n",
    "To get a feel for which problems may arise and how to resolve them, let us first train and test two simple models (one decision tree and one random forest) with fixed parameters. \n",
    "Let us first extract validation data from the training data:"
   ]
  },
  {
   "cell_type": "code",
   "execution_count": 30,
   "metadata": {},
   "outputs": [],
   "source": [
    "# fraction of the lines to be used as validation data\n",
    "fraction_val = 0.15\n",
    "\n",
    "x_train_noval, x_val, y_train_noval, y_val = train_test_split(x_train, y_train, \n",
    "                                                  test_size=fraction_val, \n",
    "                                                  random_state=random_state)"
   ]
  },
  {
   "cell_type": "markdown",
   "metadata": {},
   "source": [
    "Let us then build and test a decision tree from the scikit-learn module with default parameters:"
   ]
  },
  {
   "cell_type": "code",
   "execution_count": 31,
   "metadata": {},
   "outputs": [
    {
     "name": "stdout",
     "output_type": "stream",
     "text": [
      "Accuracy: 0.8157894736842105\n"
     ]
    }
   ],
   "source": [
    "# generate the model\n",
    "model_tree_1 = tree.DecisionTreeClassifier()\n",
    "\n",
    "# fit the model on the train data\n",
    "model_tree_1.fit(x_train_noval, y_train_noval)\n",
    "\n",
    "# compute the accuracy\n",
    "acc = (model_tree_1.predict(x_val) == y_val).mean()\n",
    "print('Accuracy: {}'.format(acc))"
   ]
  },
  {
   "cell_type": "markdown",
   "metadata": {},
   "source": [
    "The accuracy is close to 80%. \n",
    "Given that we did not tune the hyperparameters at all, this looks like a good start. \n",
    "\n",
    "Let us now try with a random forest, also with default parameters:"
   ]
  },
  {
   "cell_type": "code",
   "execution_count": 32,
   "metadata": {},
   "outputs": [
    {
     "name": "stdout",
     "output_type": "stream",
     "text": [
      "Accuracy: 0.7719298245614035\n"
     ]
    }
   ],
   "source": [
    "# generate the model\n",
    "model_forest_1 = RandomForestClassifier()\n",
    "\n",
    "# fit the model on the train data\n",
    "model_forest_1.fit(x_train_noval, y_train_noval)\n",
    "\n",
    "# compute the accuracy\n",
    "acc = (model_forest_1.predict(x_val) == y_val).mean()\n",
    "print('Accuracy: {}'.format(acc))"
   ]
  },
  {
   "cell_type": "markdown",
   "metadata": {},
   "source": [
    "The accuracy is again close to 80%. \n",
    "\n",
    "With a support vector machine:"
   ]
  },
  {
   "cell_type": "code",
   "execution_count": 33,
   "metadata": {},
   "outputs": [
    {
     "name": "stdout",
     "output_type": "stream",
     "text": [
      "Accuracy: 0.6842105263157895\n"
     ]
    }
   ],
   "source": [
    "# generate the model\n",
    "model_svm_1 = svm.SVC()\n",
    "\n",
    "# fit the model on the train data\n",
    "model_svm_1.fit(x_train_noval, y_train_noval)\n",
    "\n",
    "# compute the accuracy\n",
    "acc = (model_svm_1.predict(x_val) == y_val).mean()\n",
    "print('Accuracy: {}'.format(acc))"
   ]
  },
  {
   "cell_type": "markdown",
   "metadata": {},
   "source": [
    "The accuracy is notably smaller, closer to 70%. \n",
    "\n",
    "Let us try with a k-nearest-veighbours classifier:"
   ]
  },
  {
   "cell_type": "code",
   "execution_count": 34,
   "metadata": {},
   "outputs": [
    {
     "name": "stdout",
     "output_type": "stream",
     "text": [
      "Accuracy: 0.8245614035087719\n"
     ]
    }
   ],
   "source": [
    "# generate the model\n",
    "model_knn_1 = KNeighborsClassifier()\n",
    "\n",
    "# fit the model on the train data\n",
    "model_knn_1.fit(x_train_noval, y_train_noval)\n",
    "\n",
    "# compute the accuracy\n",
    "acc = (model_knn_1.predict(x_val) == y_val).mean()\n",
    "print('Accuracy: {}'.format(acc))"
   ]
  },
  {
   "cell_type": "markdown",
   "metadata": {},
   "source": [
    "The accuracy is a bit above 82%.\n",
    "\n",
    "Finally, let us try with a multi-layer perceptron:"
   ]
  },
  {
   "cell_type": "code",
   "execution_count": 35,
   "metadata": {},
   "outputs": [
    {
     "name": "stdout",
     "output_type": "stream",
     "text": [
      "Accuracy: 0.7631578947368421\n"
     ]
    }
   ],
   "source": [
    "# generate the model\n",
    "model_MLP_1 = MLPClassifier()\n",
    "\n",
    "# fit the model on the train data\n",
    "model_MLP_1.fit(x_train_noval, y_train_noval)\n",
    "\n",
    "# compute the accuracy\n",
    "acc = (model_MLP_1.predict(x_val) == y_val).mean()\n",
    "print('Accuracy: {}'.format(acc))"
   ]
  },
  {
   "cell_type": "markdown",
   "metadata": {},
   "source": [
    "This model also has an accuracy close to 80%. \n",
    "\n",
    "Our goal in the next sections will be to try to increase this number by changing the hyperparameters of the model."
   ]
  },
  {
   "cell_type": "markdown",
   "metadata": {},
   "source": [
    "## Parameter optimization\n",
    "\n",
    "We will test different parameters using k-fold cross-validation, using the function `cross_val_score` from scikit-learn. \n",
    "Let us define a wrapper function `kfold` calling the `cross_val_score` function and computing the averaged accuracy:"
   ]
  },
  {
   "cell_type": "code",
   "execution_count": 36,
   "metadata": {},
   "outputs": [],
   "source": [
    "def kfold(model, cv=5): \n",
    "    scores = cross_val_score(model, x_train, y_train, cv=cv)\n",
    "    return scores.mean()"
   ]
  },
  {
   "cell_type": "markdown",
   "metadata": {},
   "source": [
    "To see how it works, let us try it on the above two models:"
   ]
  },
  {
   "cell_type": "code",
   "execution_count": 37,
   "metadata": {},
   "outputs": [
    {
     "name": "stdout",
     "output_type": "stream",
     "text": [
      "Tree accuracy: 0.7767166260020913\n",
      "Forest accuracy: 0.8031892645521088\n",
      "Perceprton accuracy: 0.7874085047054724\n"
     ]
    }
   ],
   "source": [
    "score_tree_1 = kfold(model_tree_1)\n",
    "score_forest_1 = kfold(model_forest_1)\n",
    "score_MLP_1 = kfold(model_MLP_1)\n",
    "print('Tree accuracy: {}'.format(score_tree_1))\n",
    "print('Forest accuracy: {}'.format(score_forest_1))\n",
    "print('Perceprton accuracy: {}'.format(score_MLP_1))"
   ]
  },
  {
   "cell_type": "markdown",
   "metadata": {},
   "source": [
    "The scores are again close to 80%.\n",
    "\n",
    "### Decision tree\n",
    "\n",
    "Let us first try with the different options for the criterion and strategy used for each split:"
   ]
  },
  {
   "cell_type": "code",
   "execution_count": 38,
   "metadata": {},
   "outputs": [
    {
     "name": "stdout",
     "output_type": "stream",
     "text": [
      "0.7780411293133496\n",
      "0.8018909027535728\n",
      "0.7859794353433252\n",
      "0.7834175670965494\n"
     ]
    }
   ],
   "source": [
    "options = [{'criterion': 'gini', 'splitter': 'best'},\n",
    "           {'criterion': 'gini', 'splitter': 'random'},\n",
    "           {'criterion': 'entropy', 'splitter': 'best'},\n",
    "           {'criterion': 'entropy', 'splitter': 'random'}\n",
    "          ]\n",
    "for opt in options: \n",
    "    model = tree.DecisionTreeClassifier(**opt)\n",
    "    print(kfold(model))"
   ]
  },
  {
   "cell_type": "markdown",
   "metadata": {},
   "source": [
    "These options do not seem to change the results much. \n",
    "Let us try some other options:"
   ]
  },
  {
   "cell_type": "code",
   "execution_count": 39,
   "metadata": {},
   "outputs": [
    {
     "name": "stdout",
     "output_type": "stream",
     "text": [
      "0.7899703729522483\n",
      "0.7886371558034159\n",
      "0.7622080864412688\n",
      "0.8123997908678982\n"
     ]
    }
   ],
   "source": [
    "options = [{'max_features': 'sqrt'},\n",
    "           {'max_features': 1},\n",
    "           {'max_depth': 1},\n",
    "           {'min_samples_split': 10},\n",
    "          ]\n",
    "for opt in options: \n",
    "    model = tree.DecisionTreeClassifier(**opt)\n",
    "    print(kfold(model))"
   ]
  },
  {
   "cell_type": "markdown",
   "metadata": {},
   "source": [
    "Forcing the tree to be very shallow seems to slightly reduce the accuracy. \n",
    "However, increasing the value of `min_sample_split` seems to give better results. \n",
    "Let us plot the evolution of the accuracy with this parameter:"
   ]
  },
  {
   "cell_type": "code",
   "execution_count": 40,
   "metadata": {},
   "outputs": [
    {
     "data": {
      "image/png": "[encoded data removed]",
      "text/plain": [
       "<Figure size 432x288 with 1 Axes>"
      ]
     },
     "metadata": {
      "needs_background": "light"
     },
     "output_type": "display_data"
    }
   ],
   "source": [
    "vals_sample_split = [1+int(1.5**i) for i in range(1,20)]\n",
    "\n",
    "acc = []\n",
    "for min_samples_split in vals_sample_split:\n",
    "    model = tree.DecisionTreeClassifier(min_samples_split = min_samples_split)\n",
    "    acc.append(kfold(model))\n",
    "    \n",
    "plt.plot(vals_sample_split, acc, '-o')\n",
    "plt.xscale('log')\n",
    "plt.xlabel('min_samples_split')\n",
    "plt.ylabel('k-fold accuracy')\n",
    "plt.grid()\n",
    "plt.show()"
   ]
  },
  {
   "cell_type": "markdown",
   "metadata": {},
   "source": [
    "The optimal value seems to be a bit above 10."
   ]
  },
  {
   "cell_type": "code",
   "execution_count": 41,
   "metadata": {},
   "outputs": [
    {
     "data": {
      "image/png": "[encoded data removed]",
      "text/plain": [
       "<Figure size 432x288 with 1 Axes>"
      ]
     },
     "metadata": {
      "needs_background": "light"
     },
     "output_type": "display_data"
    }
   ],
   "source": [
    "vals_sample_split = range(5,20)\n",
    "\n",
    "acc = []\n",
    "for min_samples_split in vals_sample_split:\n",
    "    model = tree.DecisionTreeClassifier(min_samples_split = min_samples_split)\n",
    "    acc.append(kfold(model))\n",
    "    \n",
    "plt.plot(vals_sample_split, acc, '-o')\n",
    "plt.xlabel('min_samples_split')\n",
    "plt.ylabel('k-fold accuracy')\n",
    "plt.grid()\n",
    "plt.show()"
   ]
  },
  {
   "cell_type": "markdown",
   "metadata": {},
   "source": [
    "It seeems that a value of 14 gives the best results."
   ]
  },
  {
   "cell_type": "code",
   "execution_count": 42,
   "metadata": {},
   "outputs": [
    {
     "name": "stdout",
     "output_type": "stream",
     "text": [
      "0.7794266294876263\n",
      "0.8137591495294527\n",
      "0.8163733008016731\n",
      "0.8163733008016731\n",
      "0.6248344370860928\n",
      "0.6248344370860928\n",
      "0.7622080864412688\n",
      "0.6248344370860928\n"
     ]
    }
   ],
   "source": [
    "options = [{'max_leaf_nodes': 5},\n",
    "           {'max_leaf_nodes': 20},\n",
    "           {'max_leaf_nodes': 200},\n",
    "           {'min_impurity_decrease': 0.},\n",
    "           {'min_impurity_decrease': 0.5},\n",
    "           {'min_impurity_decrease': 1.},\n",
    "           {'ccp_alpha': 0.1},\n",
    "           {'ccp_alpha': 0.5}\n",
    "          ]\n",
    "for opt in options: \n",
    "    model = tree.DecisionTreeClassifier(min_samples_split=14, **opt)\n",
    "    print(kfold(model))"
   ]
  },
  {
   "cell_type": "markdown",
   "metadata": {},
   "source": [
    "It seems that the only parameter for which the default value is not optimal is `min_samples_split`, which should be set to 14.\n",
    "\n",
    "Let us train this model and test it on the test data:"
   ]
  },
  {
   "cell_type": "code",
   "execution_count": 43,
   "metadata": {},
   "outputs": [
    {
     "name": "stdout",
     "output_type": "stream",
     "text": [
      "Accuracy: 0.8859649122807017\n"
     ]
    }
   ],
   "source": [
    "model_tree_2 = tree.DecisionTreeClassifier(min_samples_split=14)\n",
    "model_tree_2.fit(x_train, y_train)\n",
    "acc = (model_tree_2.predict(x_val) == y_val).mean()\n",
    "print('Accuracy: {}'.format(acc))"
   ]
  },
  {
   "cell_type": "markdown",
   "metadata": {},
   "source": [
    "The test accuracy is close to 0.89.\n",
    "\n",
    "### Random forest\n",
    "\n",
    "Let us now look for optimal parameters for the random forest classifier. "
   ]
  },
  {
   "cell_type": "code",
   "execution_count": 44,
   "metadata": {},
   "outputs": [
    {
     "name": "stdout",
     "output_type": "stream",
     "text": [
      "0.8256709654932031\n",
      "0.778093412338794\n",
      "0.823056814220983\n",
      "0.8336092715231789\n",
      "0.8283025444405716\n",
      "0.8256709654932033\n",
      "0.7767427675148134\n",
      "0.779383060299756\n",
      "0.8124346462181945\n",
      "0.8190484489369119\n",
      "0.8296270477518298\n",
      "0.8269954688044614\n",
      "0.8309602649006622\n",
      "0.8177500871383756\n",
      "0.829635761589404\n"
     ]
    }
   ],
   "source": [
    "options = [{},\n",
    "           {'n_estimators': 1},\n",
    "           {'n_estimators': 10},\n",
    "           {'n_estimators': 50},\n",
    "           {'n_estimators': 100},\n",
    "           {'n_estimators': 200}\n",
    "          ]\n",
    "for opt in options: \n",
    "    model = RandomForestClassifier(min_samples_split=14, **opt)\n",
    "    print(kfold(model))\n",
    "    \n",
    "options = [{'max_depth': 1},\n",
    "           {'max_depth': 2},\n",
    "           {'max_depth': 4},\n",
    "           {'max_depth': 8},\n",
    "           {'max_depth': 16},\n",
    "           {'max_depth': 100},\n",
    "           {'max_depth': 400},\n",
    "          ]\n",
    "for opt in options: \n",
    "    model = RandomForestClassifier(min_samples_split=14, **opt)\n",
    "    print(kfold(model))\n",
    "    \n",
    "options = [{'bootstrap': False},\n",
    "           {'bootstrap': True},\n",
    "          ]\n",
    "for opt in options: \n",
    "    model = RandomForestClassifier(min_samples_split=14, **opt)\n",
    "    print(kfold(model))"
   ]
  },
  {
   "cell_type": "markdown",
   "metadata": {},
   "source": [
    "None of these parameters seem to improve results over the default value. \n",
    "Let us check that the optimal value of `min_sample_split` is the same as for decision trees:"
   ]
  },
  {
   "cell_type": "code",
   "execution_count": 45,
   "metadata": {},
   "outputs": [
    {
     "data": {
      "image/png": "[encoded data removed]",
      "text/plain": [
       "<Figure size 432x288 with 1 Axes>"
      ]
     },
     "metadata": {
      "needs_background": "light"
     },
     "output_type": "display_data"
    },
    {
     "data": {
      "image/png": "[encoded data removed]",
      "text/plain": [
       "<Figure size 432x288 with 1 Axes>"
      ]
     },
     "metadata": {
      "needs_background": "light"
     },
     "output_type": "display_data"
    }
   ],
   "source": [
    "vals_sample_split = [1+int(1.5**i) for i in range(1,20)]\n",
    "\n",
    "acc = []\n",
    "for min_samples_split in vals_sample_split:\n",
    "    model = RandomForestClassifier(min_samples_split = min_samples_split)\n",
    "    acc.append(kfold(model))\n",
    "    \n",
    "plt.plot(vals_sample_split, acc, '-o')\n",
    "plt.xscale('log')\n",
    "plt.xlabel('min_samples_split')\n",
    "plt.ylabel('k-fold accuracy')\n",
    "plt.grid()\n",
    "plt.show()\n",
    "\n",
    "vals_sample_split = range(5,20)\n",
    "\n",
    "acc = []\n",
    "for min_samples_split in vals_sample_split:\n",
    "    model = RandomForestClassifier(min_samples_split = min_samples_split)\n",
    "    acc.append(kfold(model))\n",
    "    \n",
    "plt.plot(vals_sample_split, acc, '-o')\n",
    "plt.xscale('log')\n",
    "plt.xlabel('min_samples_split')\n",
    "plt.ylabel('k-fold accuracy')\n",
    "plt.grid()\n",
    "plt.show()"
   ]
  },
  {
   "cell_type": "markdown",
   "metadata": {},
   "source": [
    "The optimal value now seems to be 9. \n",
    "\n",
    "Let us train and test such a model:"
   ]
  },
  {
   "cell_type": "code",
   "execution_count": 46,
   "metadata": {},
   "outputs": [
    {
     "name": "stdout",
     "output_type": "stream",
     "text": [
      "Accuracy: 0.8947368421052632\n"
     ]
    }
   ],
   "source": [
    "model_forest_2 = RandomForestClassifier(min_samples_split=9)\n",
    "model_forest_2.fit(x_train, y_train)\n",
    "acc = (model_forest_2.predict(x_val) == y_val).mean()\n",
    "print('Accuracy: {}'.format(acc))"
   ]
  },
  {
   "cell_type": "markdown",
   "metadata": {},
   "source": [
    "The accuracy is again close to 0.89. \n",
    "\n",
    "### Support vector machine\n",
    "\n",
    "Let us try with different kernel functions:"
   ]
  },
  {
   "cell_type": "code",
   "execution_count": 47,
   "metadata": {},
   "outputs": [
    {
     "name": "stdout",
     "output_type": "stream",
     "text": [
      "0.8137504356918788\n",
      "0.6512722202858139\n",
      "0.5508278145695364\n"
     ]
    }
   ],
   "source": [
    "options = [{'kernel': 'linear'},\n",
    "           {'kernel': 'rbf'},\n",
    "           {'kernel': 'sigmoid'},\n",
    "          ]\n",
    "for opt in options: \n",
    "    model = svm.SVC(**opt)\n",
    "    print(kfold(model))"
   ]
  },
  {
   "cell_type": "markdown",
   "metadata": {},
   "source": [
    "A linear kernel seems to give the best result.\n",
    "\n",
    "### K-nearest neighbours\n",
    "\n",
    "Let us first try with the different weights and algorithms:"
   ]
  },
  {
   "cell_type": "code",
   "execution_count": 48,
   "metadata": {},
   "outputs": [
    {
     "name": "stdout",
     "output_type": "stream",
     "text": [
      "0.8044876263506449\n",
      "0.8084698501219938\n",
      "0.8044876263506449\n",
      "0.807110491460439\n",
      "0.804513767863367\n",
      "0.8071714883234578\n",
      "0.804513767863367\n",
      "0.8018560474032764\n"
     ]
    }
   ],
   "source": [
    "options = [{'weights': 'uniform', 'algorithm': 'auto'},\n",
    "           {'weights': 'uniform', 'algorithm': 'ball_tree'},\n",
    "           {'weights': 'uniform', 'algorithm': 'kd_tree'},\n",
    "           {'weights': 'uniform', 'algorithm': 'brute'},\n",
    "           {'weights': 'distance', 'algorithm': 'auto'},\n",
    "           {'weights': 'distance', 'algorithm': 'ball_tree'},\n",
    "           {'weights': 'distance', 'algorithm': 'kd_tree'},\n",
    "           {'weights': 'distance', 'algorithm': 'brute'},\n",
    "          ]\n",
    "for opt in options: \n",
    "    model = KNeighborsClassifier(**opt)\n",
    "    print(kfold(model))"
   ]
  },
  {
   "cell_type": "markdown",
   "metadata": {},
   "source": [
    "The differences are quite small, although the second set of options seems to give slightly better results. \n",
    "Let us now look at the effects of the number of neighbours: "
   ]
  },
  {
   "cell_type": "code",
   "execution_count": 49,
   "metadata": {},
   "outputs": [
    {
     "data": {
      "image/png": "[encoded data removed]",
      "text/plain": [
       "<Figure size 432x288 with 1 Axes>"
      ]
     },
     "metadata": {
      "needs_background": "light"
     },
     "output_type": "display_data"
    }
   ],
   "source": [
    "prev_options = {'weights': 'uniform', 'algorithm': 'ball_tree'}\n",
    "\n",
    "list_n_neighbours = [1, 2, 4, 8, 16, 32]\n",
    "\n",
    "acc = []\n",
    "for n in list_n_neighbours:\n",
    "    mmodel = KNeighborsClassifier(n_neighbors=n, **prev_options)\n",
    "    acc.append(kfold(model))\n",
    "    \n",
    "plt.plot(list_n_neighbours, acc, '-o')\n",
    "plt.xscale('log')\n",
    "plt.xlabel('number of neighbours')\n",
    "plt.ylabel('k-fold accuracy')\n",
    "plt.grid()\n",
    "plt.show()"
   ]
  },
  {
   "cell_type": "markdown",
   "metadata": {},
   "source": [
    "The number of neighbours does not seem to affect the accuracy at all. \n",
    "Let us now look at the `p` parameter:"
   ]
  },
  {
   "cell_type": "code",
   "execution_count": 50,
   "metadata": {},
   "outputs": [
    {
     "data": {
      "image/png": "[encoded data removed]",
      "text/plain": [
       "<Figure size 432x288 with 1 Axes>"
      ]
     },
     "metadata": {
      "needs_background": "light"
     },
     "output_type": "display_data"
    }
   ],
   "source": [
    "prev_options = {'weights': 'uniform', 'algorithm': 'ball_tree'}\n",
    "\n",
    "list_p = [1, 2, 3, 4]\n",
    "\n",
    "acc = []\n",
    "for p in list_p:\n",
    "    mmodel = KNeighborsClassifier(p=p, **prev_options)\n",
    "    acc.append(kfold(model))\n",
    "    \n",
    "plt.plot(list_p, acc, '-o')\n",
    "plt.xlabel('p')\n",
    "plt.ylabel('k-fold accuracy')\n",
    "plt.grid()\n",
    "plt.show()"
   ]
  },
  {
   "cell_type": "markdown",
   "metadata": {},
   "source": [
    "Changing this parameter also does not seem to affect the results.\n",
    "\n",
    "### Multi-layer perceptron\n",
    "\n",
    "Finally, let us do some experimets with a multi-layer perceptron. \n",
    "We increase the value of `max_iter` (200 by default) to 400 to ensure the models converge.\n",
    "\n",
    "We first look at different activation functions:"
   ]
  },
  {
   "cell_type": "code",
   "execution_count": 51,
   "metadata": {},
   "outputs": [
    {
     "name": "stdout",
     "output_type": "stream",
     "text": [
      "0.7979435343325201\n",
      "0.8097507842453815\n",
      "0.8164081561519694\n",
      "0.8190571627744859\n"
     ]
    }
   ],
   "source": [
    "options = [{}, # default activation: ReLU \n",
    "           {'activation': 'identity'},\n",
    "           {'activation': 'logistic'},\n",
    "           {'activation': 'tanh'},\n",
    "          ]\n",
    "for opt in options: \n",
    "    model = MLPClassifier(max_iter=400, **opt)\n",
    "    print(kfold(model))"
   ]
  },
  {
   "cell_type": "markdown",
   "metadata": {},
   "source": [
    "On average, the `tanh` activation function seems to work a bit better than the others. \n",
    "\n",
    "Let us look at the solver (we incerease `max_iter` to 10,000 to ensure the model with the lbfgs solver converges):"
   ]
  },
  {
   "cell_type": "code",
   "execution_count": 52,
   "metadata": {},
   "outputs": [
    {
     "name": "stdout",
     "output_type": "stream",
     "text": [
      "0.8058295573370513\n",
      "0.8190223074241896\n",
      "0.7397786685256186\n"
     ]
    }
   ],
   "source": [
    "options = [{}, # default activation: adam\n",
    "           {'solver': 'lbfgs'},\n",
    "           {'solver': 'sgd'},\n",
    "          ]\n",
    "for opt in options: \n",
    "    model = MLPClassifier(max_iter=10000, **opt)\n",
    "    print(kfold(model))"
   ]
  },
  {
   "cell_type": "markdown",
   "metadata": {},
   "source": [
    "The default solver seems to perform best.\n",
    "\n",
    "Let us now look at the size and number of hidden layers. \n",
    "We first try with only one hidden layer:"
   ]
  },
  {
   "cell_type": "code",
   "execution_count": 53,
   "metadata": {},
   "outputs": [
    {
     "data": {
      "image/png": "[encoded data removed]",
      "text/plain": [
       "<Figure size 432x288 with 1 Axes>"
      ]
     },
     "metadata": {
      "needs_background": "light"
     },
     "output_type": "display_data"
    }
   ],
   "source": [
    "size_hl = [1, 4, 16, 64, 256, 1024]\n",
    "\n",
    "acc = []\n",
    "for s in size_hl:\n",
    "    mmodel = MLPClassifier(max_iter=400, activation='tanh', \n",
    "                           hidden_layer_sizes=(s,))\n",
    "    acc.append(kfold(model))\n",
    "    \n",
    "plt.plot(size_hl, acc, '-o')\n",
    "plt.xscale('log')\n",
    "plt.xlabel('size of the hidden layer')\n",
    "plt.ylabel('k-fold accuracy')\n",
    "plt.grid()\n",
    "plt.show()"
   ]
  },
  {
   "cell_type": "markdown",
   "metadata": {},
   "source": [
    "The size of e hidden layers do not seem to affect the results much. \n",
    "In the following, we will use hidden layers of size 10. \n",
    "Let us now look at the effect of the number of hidden layers:"
   ]
  },
  {
   "cell_type": "code",
   "execution_count": 54,
   "metadata": {},
   "outputs": [
    {
     "data": {
      "image/png": "[encoded data removed]",
      "text/plain": [
       "<Figure size 432x288 with 1 Axes>"
      ]
     },
     "metadata": {
      "needs_background": "light"
     },
     "output_type": "display_data"
    }
   ],
   "source": [
    "n_hl = range(1,10)\n",
    "\n",
    "acc = []\n",
    "for n in n_hl:\n",
    "    mmodel = MLPClassifier(max_iter=400, activation='tanh', \n",
    "                           hidden_layer_sizes=[10]*n)\n",
    "    acc.append(kfold(model))\n",
    "    \n",
    "plt.plot(n_hl, acc, '-o')\n",
    "plt.xlabel('number of hidden layers')\n",
    "plt.ylabel('k-fold accuracy')\n",
    "plt.grid()\n",
    "plt.show()"
   ]
  },
  {
   "cell_type": "markdown",
   "metadata": {},
   "source": [
    "There is no clear advantage in using more than one hidden layer. \n",
    "\n",
    "Let us now try with the three strategies for the learning rate:"
   ]
  },
  {
   "cell_type": "code",
   "execution_count": 55,
   "metadata": {},
   "outputs": [
    {
     "name": "stdout",
     "output_type": "stream",
     "text": [
      "0.8150836528407112\n",
      "0.805803415824329\n",
      "0.8150487974904147\n"
     ]
    }
   ],
   "source": [
    "options = [{}, # default strategy: constant\n",
    "           {'learning_rate': 'invscaling'},\n",
    "           {'learning_rate': 'adaptive'},\n",
    "          ]\n",
    "for opt in options: \n",
    "    model = MLPClassifier(max_iter=1000, activation='tanh', \n",
    "                          hidden_layer_sizes=(10,), **opt)\n",
    "    print(kfold(model))"
   ]
  },
  {
   "cell_type": "markdown",
   "metadata": {},
   "source": [
    "There is no clear difference between these results. \n",
    "Try changing the value of the learning rate:"
   ]
  },
  {
   "cell_type": "code",
   "execution_count": 56,
   "metadata": {},
   "outputs": [
    {
     "name": "stdout",
     "output_type": "stream",
     "text": [
      "0.7229435343325201\n",
      "0.8256361101429069\n",
      "0.8256361101429069\n",
      "0.8044789125130707\n"
     ]
    }
   ],
   "source": [
    "options = [{'learning_rate_init': 0.1},\n",
    "           {'learning_rate_init': 0.01},\n",
    "           {'learning_rate_init': 0.001},\n",
    "           {'learning_rate_init': 0.0001},\n",
    "          ]\n",
    "for opt in options: \n",
    "    model = MLPClassifier(max_iter=10000, activation='tanh', \n",
    "                          hidden_layer_sizes=(10,), **opt)\n",
    "    print(kfold(model))"
   ]
  },
  {
   "cell_type": "markdown",
   "metadata": {},
   "source": [
    "The default value (0.001) seems to give the best results. \n",
    "\n",
    "Finally, let is try changing the three parameters `beta_1`, `beta_2`, and `epsilon` of the Adam solver:"
   ]
  },
  {
   "cell_type": "code",
   "execution_count": 57,
   "metadata": {},
   "outputs": [
    {
     "name": "stdout",
     "output_type": "stream",
     "text": [
      "0.6301150226559776\n",
      "0.816364586964099\n",
      "0.815074939003137\n",
      "0.8150575113279889\n",
      "0.8216713140467062\n",
      "0.821671314046706\n",
      "0.8110927152317879\n",
      "0.8163994423143952\n",
      "0.8124172185430464\n"
     ]
    }
   ],
   "source": [
    "options = [{'beta_1': 0.99},\n",
    "           {'beta_1': 0.8},\n",
    "           {'beta_1': 0.7},\n",
    "           {'beta_1': 0.6},\n",
    "           {'beta_2': 0.9999},\n",
    "           {'beta_2': 0.99},\n",
    "           {'epsilon': 10**(-9)},\n",
    "           {'epsilon': 10**(-7)},\n",
    "           {'epsilon': 10**(-6)},\n",
    "          ]\n",
    "for opt in options: \n",
    "    model = MLPClassifier(max_iter=1000, activation='tanh', \n",
    "                          hidden_layer_sizes=(10,), **opt)\n",
    "    print(kfold(model))"
   ]
  },
  {
   "cell_type": "markdown",
   "metadata": {},
   "source": [
    "Running this cell several times, there is marginal evidence that the smaller values of `beta_1` give better results. \n",
    "(But the results for the values 0.7 and 0.6 are not reaslly statistically distinguishable.)\n",
    "\n",
    "Let us train a model on the whole training set and evaluate it:"
   ]
  },
  {
   "cell_type": "code",
   "execution_count": 58,
   "metadata": {},
   "outputs": [
    {
     "name": "stdout",
     "output_type": "stream",
     "text": [
      "Accuracy: 0.8157894736842105\n"
     ]
    }
   ],
   "source": [
    "model_MLP_2 = MLPClassifier(max_iter=1000, activation='tanh', \n",
    "                          hidden_layer_sizes=(10,), beta_1=0.6)\n",
    "model_MLP_2.fit(x_train, y_train)\n",
    "acc = (model_MLP_2.predict(x_val) == y_val).mean()\n",
    "print('Accuracy: {}'.format(acc))"
   ]
  },
  {
   "cell_type": "markdown",
   "metadata": {},
   "source": [
    "The accuracy is only close to 0.82, suggesting that this model performs less well that a decision tree or forest. \n",
    "However, since the validation set is rather small, this difference may not be statistically significant."
   ]
  },
  {
   "cell_type": "markdown",
   "metadata": {},
   "source": [
    "## Training on the full available dataset\n",
    "\n",
    "### Train the models and predictions"
   ]
  },
  {
   "cell_type": "code",
   "execution_count": 59,
   "metadata": {},
   "outputs": [],
   "source": [
    "# define the models\n",
    "models = [\n",
    "    tree.DecisionTreeClassifier(min_samples_split=14),\n",
    "    RandomForestClassifier(min_samples_split=9),\n",
    "    svm.SVC(kernel='linear'),\n",
    "    KNeighborsClassifier(weights='uniform', algorithm='ball_tree'),\n",
    "    MLPClassifier(max_iter=1000, activation='tanh', \n",
    "                        hidden_layer_sizes=(10,), beta_1=0.6),\n",
    "]\n",
    "\n",
    "# train the models\n",
    "for model in models:\n",
    "    model.fit(x_data, y_data)\n",
    "\n",
    "# load the test data\n",
    "name_test_file = '../Data/Kaggle_Titanic/test.csv'\n",
    "test_data = prepare(pd.read_csv(name_test_file))\n",
    "\n",
    "# predictions\n",
    "predictions = [\n",
    "    model.predict(test_data)\n",
    "    for model in models\n",
    "]"
   ]
  },
  {
   "cell_type": "markdown",
   "metadata": {},
   "source": [
    "### Optimizing the choice of models\n",
    "\n",
    "Let us now see if using only a subset of the models could give better results. \n",
    "The function `try_models` below tests the average accuracy of an ensemble of models:"
   ]
  },
  {
   "cell_type": "code",
   "execution_count": 60,
   "metadata": {},
   "outputs": [],
   "source": [
    "def try_models(models_to_try, n_experiments=20, fraction_val=0.15):\n",
    "    \n",
    "    y_data = data['Survived']\n",
    "    x_data = data.drop(['Survived'], 1)\n",
    "    \n",
    "    accs = []\n",
    "    \n",
    "    for _ in range(n_experiments):\n",
    "    \n",
    "        models = deepcopy(models_to_try)\n",
    "        x_train, x_test, y_train, y_test = train_test_split(x_data, y_data, \n",
    "                                                    test_size=fraction_val)\n",
    "\n",
    "\n",
    "        # train the models\n",
    "        for model in models:\n",
    "            model.fit(x_train, y_train)\n",
    "\n",
    "        # predictions\n",
    "        predictions = [\n",
    "            model.predict(x_val)\n",
    "            for model in models\n",
    "        ]\n",
    "\n",
    "        prediction = sum(prediction for prediction in predictions) > len(models) // 2\n",
    "\n",
    "        accs.append((prediction == y_val).sum() / len(y_val))\n",
    "        \n",
    "    return (np.mean(accs), np.std(accs))"
   ]
  },
  {
   "cell_type": "markdown",
   "metadata": {},
   "source": [
    "Let us first try with each model separately:"
   ]
  },
  {
   "cell_type": "code",
   "execution_count": 61,
   "metadata": {},
   "outputs": [
    {
     "name": "stdout",
     "output_type": "stream",
     "text": [
      "0.875877192982456 ± 0.02005590064065557\n",
      "0.862719298245614 ± 0.019471906035458873\n",
      "0.774122807017544 ± 0.005460482279819614\n",
      "0.8754385964912281 ± 0.014573024320908902\n",
      "0.8171052631578949 ± 0.0184575661513165\n"
     ]
    }
   ],
   "source": [
    "models = [\n",
    "    tree.DecisionTreeClassifier(min_samples_split=14),\n",
    "    RandomForestClassifier(min_samples_split=9),\n",
    "    svm.SVC(kernel='linear'),\n",
    "    KNeighborsClassifier(weights='uniform', algorithm='ball_tree'),\n",
    "    MLPClassifier(max_iter=1000, activation='tanh', \n",
    "                        hidden_layer_sizes=(10,), beta_1=0.6),\n",
    "]\n",
    "\n",
    "for model in models:\n",
    "    res = try_models([model])\n",
    "    print('{} ± {}'.format(res[0],res[1]))"
   ]
  },
  {
   "cell_type": "markdown",
   "metadata": {},
   "source": [
    "The support vector machine and neural network seem to have the lowest accuracies. \n",
    "Met us try with the other three models:"
   ]
  },
  {
   "cell_type": "code",
   "execution_count": 62,
   "metadata": {},
   "outputs": [
    {
     "name": "stdout",
     "output_type": "stream",
     "text": [
      "0.8754385964912281 ± 0.025514104512717524\n"
     ]
    }
   ],
   "source": [
    "res = try_models([\n",
    "    tree.DecisionTreeClassifier(min_samples_split=14),\n",
    "    RandomForestClassifier(min_samples_split=9),\n",
    "    KNeighborsClassifier(weights='uniform', algorithm='ball_tree'),\n",
    "])\n",
    "print('{} ± {}'.format(res[0],res[1]))"
   ]
  },
  {
   "cell_type": "markdown",
   "metadata": {},
   "source": [
    "This seems to give the best results. \n",
    "Let us thus choose only these three models for our submission:"
   ]
  },
  {
   "cell_type": "code",
   "execution_count": 63,
   "metadata": {},
   "outputs": [],
   "source": [
    "# define the models\n",
    "models = [\n",
    "    tree.DecisionTreeClassifier(min_samples_split=14),\n",
    "    RandomForestClassifier(min_samples_split=9),\n",
    "    KNeighborsClassifier(weights='uniform', algorithm='ball_tree'),\n",
    "]\n",
    "\n",
    "# train the models\n",
    "for model in models:\n",
    "    model.fit(x_data, y_data)\n",
    "\n",
    "# load the test data\n",
    "name_test_file = '../Data/Kaggle_Titanic/test.csv'\n",
    "test_data = prepare(pd.read_csv(name_test_file))\n",
    "\n",
    "# predictions of each model\n",
    "predictions = [\n",
    "    model.predict(test_data)\n",
    "    for model in models\n",
    "]\n",
    "\n",
    "# final prediction\n",
    "prediction = sum(prediction for prediction in predictions) > len(models) // 2"
   ]
  },
  {
   "cell_type": "markdown",
   "metadata": {},
   "source": [
    "### Save the predictions\n",
    "\n",
    "Finally, let us save the predictions in the format required by Kaggle:"
   ]
  },
  {
   "cell_type": "code",
   "execution_count": 64,
   "metadata": {},
   "outputs": [],
   "source": [
    "submission = pd.DataFrame([pd.read_csv(name_test_file)['PassengerId'], prediction]).T\n",
    "submission.columns = ['PassengerId','Survived']\n",
    "submission.to_csv('../Data_cleaned/Kaggle_Titanic/submission1.csv', index=False)"
   ]
  },
  {
   "cell_type": "markdown",
   "metadata": {},
   "source": [
    "## Results and discussion"
   ]
  },
  {
   "cell_type": "markdown",
   "metadata": {},
   "source": [
    "## Possible improvements"
   ]
  },
  {
   "cell_type": "code",
   "execution_count": null,
   "metadata": {},
   "outputs": [],
   "source": []
  }
 ],
 "metadata": {
  "kernelspec": {
   "display_name": "Python 3",
   "language": "python",
   "name": "python3"
  },
  "language_info": {
   "codemirror_mode": {
    "name": "ipython",
    "version": 3
   },
   "file_extension": ".py",
   "mimetype": "text/x-python",
   "name": "python",
   "nbconvert_exporter": "python",
   "pygments_lexer": "ipython3",
   "version": "3.8.5"
  }
 },
 "nbformat": 4,
 "nbformat_minor": 4
}
