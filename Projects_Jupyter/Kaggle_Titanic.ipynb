{
 "cells": [
  {
   "cell_type": "markdown",
   "metadata": {},
   "source": [
    "# Kaggle Titanic project <font color=blue><i> (Work in progress) </i></font>\n",
    "\n",
    "In this project we explore the data from the [“Titanic - Machine Learning from Disaster” Kaggle competition](https://www.kaggle.com/c/titanic/overview/description) and train a simple machine-learning model to predict whether a passenger has survived.\n",
    "\n",
    "## Introduction\n",
    "\n",
    "The RMS Titanic was a passenger liner completed on 2 April 1912 and operated by the Oceanic Steam Navigation Company (better known as the White Star Line), a British shipping company founded in 1845 and defunkt in 1934. \n",
    "It started its maiden voyage on 10 April 1912 from Southampton to New York, with an estimateed 1,317 passengers and 885 crew members aboard. \n",
    "Unfortunately, it never reached its destination. \n",
    "On 14 April 1912, the Titanic collided with an iceberg about 600km south of Newfoundland, opening five of her sixteen watertight compartments to the sea. \n",
    "In the early hours of 15 April, the liner sank, causing the death of more than two third of those aboard, in part because there were too few lifeboats. \n",
    "\n",
    "Whether a particular paassenger or crew member survived has, of course, an element of chance, and can not be fully predicted from information known before the collision. \n",
    "However, several factors made survival more or less likely. \n",
    "For instance, a “women and children first” policy was (at least partially) enforced, wherefrom adult women and children were given priority access to the lifeboats. \n",
    "In this project, we build a simple machine-learning model designed to learn these factors and predict whether a particular passenger or crew member has survived from prior information. \n",
    "\n",
    "Obviously, the interest of such a model does not lie in its predictions: the names of those who survived or died in the accident are already known for most of them; and it is unlikely that any algorithm could be more precise than official records, should they contain errors, if working only on prior information. \n",
    "Instead, we see it as an exercise to show how simple models perform on these kinds of problems. \n",
    "The workflow we lay out here could then be applied to other problems for which no such records exist."
   ]
  },
  {
   "cell_type": "markdown",
   "metadata": {},
   "source": [
    "## Data exploration"
   ]
  },
  {
   "cell_type": "markdown",
   "metadata": {},
   "source": [
    "## Data cleaning"
   ]
  },
  {
   "cell_type": "markdown",
   "metadata": {},
   "source": [
    "## Feature engineering"
   ]
  },
  {
   "cell_type": "markdown",
   "metadata": {},
   "source": [
    "## Choice of models"
   ]
  },
  {
   "cell_type": "markdown",
   "metadata": {},
   "source": [
    "## Parameter optimization"
   ]
  },
  {
   "cell_type": "markdown",
   "metadata": {},
   "source": [
    "## Training"
   ]
  },
  {
   "cell_type": "markdown",
   "metadata": {},
   "source": [
    "## Results"
   ]
  }
 ],
 "metadata": {
  "kernelspec": {
   "display_name": "Python 3",
   "language": "python",
   "name": "python3"
  },
  "language_info": {
   "codemirror_mode": {
    "name": "ipython",
    "version": 3
   },
   "file_extension": ".py",
   "mimetype": "text/x-python",
   "name": "python",
   "nbconvert_exporter": "python",
   "pygments_lexer": "ipython3",
   "version": "3.8.5"
  }
 },
 "nbformat": 4,
 "nbformat_minor": 4
}
