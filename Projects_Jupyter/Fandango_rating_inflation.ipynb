{
 "cells": [
  {
   "cell_type": "markdown",
   "metadata": {},
   "source": [
    "# Was the rating inflation on Fandango corrected?\n",
    "\n",
    "[Fandango](https://www.fandango.com/), an NBCUniversal subsidiary, is a popular movie rating aggregator, providing user reviews and scores for movies as well as tickets for more than 45,000 screens. At the time of writing (30 January 2020) it assignes two scores to each released movie, each of them being an integer between 0 and 100. \n",
    "The first one is provied by the aggregator [Rotten Tomatoes](https://www.rottentomatoes.com/) and the second one is an “audience score” from Fandango.\n",
    "\n",
    "Back in 2015, it assigned to each movie between 0 and 5 stars, with possible half stars. \n",
    "The journalist Walt Hickey, from [Five ThirtyEight](https://fivethirtyeight.com/), found this score was, on average, suspiciously large on two counts (his resuts are reported in [this article](https://fivethirtyeight.com/features/fandango-movies-ratings/)): \n",
    "* ratings from Fandango were typicaly higher than those of the aggregators IMDb, Metacritic, and Rotten Tomatoes, \n",
    "* rounding the average rating to a half-star seemed to increase the rating most of the times.\n",
    "\n",
    "The main aim of this project is to understand whether these effects were corrected after publication of this article. \n",
    "Obviously, the new rating system significantly reduces the impact of rounding, as a difference of one percent is much smaller than half a star in a five-star system (corresponding to 10%). \n",
    "We will thus focus on an earlier period, when the star system was still used.\n",
    "The two main questions we aim at answering are: \n",
    "* Have the Fandango ratings of popular movies decreased in the year after publication of the article by Hickey? (This would be expected if, as Fandango later claimed, his findings were due to a bug to be corrected soon.)\n",
    "* How did they compare to ratings by other aggregators?\n",
    "\n",
    "Let us import the relevent packages and define a variable `path` containing the path to the folder where the datasets are located: "
   ]
  },
  {
   "cell_type": "code",
   "execution_count": 1,
   "metadata": {},
   "outputs": [],
   "source": [
    "import pandas as pd\n",
    "import numpy as np\n",
    "import matplotlib.pyplot as plt\n",
    "import seaborn as sns\n",
    "\n",
    "path = '../Data/Fandango_ratings/'"
   ]
  },
  {
   "cell_type": "markdown",
   "metadata": {},
   "source": [
    "## Change in the Fandango ratings after the article's publication\n",
    "\n",
    "### Data preparation\n",
    "\n",
    "We will use two datasets: `fandango_score_comparison.csv`, pulled on 24 August 2015, used by Walt Hickey in the aforementioned article, and available on [the FiveThirtyEight GitHub repository](https://github.com/fivethirtyeight/data/tree/master/fandango) and `movie_ratings_16_17`, up to date on 22 March 2017, available on [Alex Olteanu's GitHub repository](https://github.com/mircealex/Movie_ratings_2016_17), and used in [this article](https://www.freecodecamp.org/news/whose-reviews-should-you-trust-imdb-rotten-tomatoes-metacritic-or-fandango-7d1010c6cf19/). \n",
    "The corresponding Pandas dataframes are called `ratings_Fandango_before` and `ratings_Fandango_after`, the suffix before/after referring to the publication of Walt Hickey's article.\n",
    "\n",
    "In this section, we are only interested in ratings on the Fandango wabsite, and (temporarily) discard other aggregators. \n",
    "We thus load only the relevent columns from the datasets:"
   ]
  },
  {
   "cell_type": "code",
   "execution_count": 2,
   "metadata": {},
   "outputs": [],
   "source": [
    "cols_before = ['FILM', 'Fandango_Stars', 'Fandango_Ratingvalue', 'Fandango_votes', 'Fandango_Difference'] # columns to be kept in the “before” dataframe\n",
    "cols_after = ['movie', 'year', 'fandango'] # columns to be kept in the “after” dataframe\n",
    "\n",
    "ratings_Fandango_before = pd.read_csv(path+'fandango_score_comparison.csv')[cols_before]\n",
    "ratings_Fandango_after = pd.read_csv(path+'movie_ratings_16_17.csv')[cols_after]"
   ]
  },
  {
   "cell_type": "markdown",
   "metadata": {},
   "source": [
    "Let us describe these columns from the documentation in the two GitHub repositories. \n",
    "In the `ratings_Fandango_before` dataset, \n",
    "* `FILM` is the title of the film, \n",
    "* `Fandango_Stars` is the number of stars the film had on its Fandango movie page,\n",
    "* `Fandango_Ratingvalue` is the Fandango rating value for the film as pulled from the HTML of each page, *i.e.*, the actual average over user ratings before rounding,\n",
    "* `Fandango_votes` is the number of user votes the film had on Fandango, \n",
    "* `Fandango_Difference` is the difference between the presented Fandango_Stars and the actual Fandango_Ratingvalue. \n",
    "\n",
    "In the `ratings_Fandango_after` dataset, \n",
    "* `movie` is the title of the film, \n",
    "* `year` is its release year, \n",
    "* `fandango` is its Fandango rating.\n",
    "\n",
    "Let us briefly describe the datasets:"
   ]
  },
  {
   "cell_type": "code",
   "execution_count": 3,
   "metadata": {},
   "outputs": [
    {
     "data": {
      "text/html": [
       "<div>\n",
       "<style scoped>\n",
       "    .dataframe tbody tr th:only-of-type {\n",
       "        vertical-align: middle;\n",
       "    }\n",
       "\n",
       "    .dataframe tbody tr th {\n",
       "        vertical-align: top;\n",
       "    }\n",
       "\n",
       "    .dataframe thead th {\n",
       "        text-align: right;\n",
       "    }\n",
       "</style>\n",
       "<table border=\"1\" class=\"dataframe\">\n",
       "  <thead>\n",
       "    <tr style=\"text-align: right;\">\n",
       "      <th></th>\n",
       "      <th>Fandango_Stars</th>\n",
       "      <th>Fandango_Ratingvalue</th>\n",
       "      <th>Fandango_votes</th>\n",
       "      <th>Fandango_Difference</th>\n",
       "    </tr>\n",
       "  </thead>\n",
       "  <tbody>\n",
       "    <tr>\n",
       "      <th>count</th>\n",
       "      <td>146.000000</td>\n",
       "      <td>146.000000</td>\n",
       "      <td>146.000000</td>\n",
       "      <td>146.000000</td>\n",
       "    </tr>\n",
       "    <tr>\n",
       "      <th>mean</th>\n",
       "      <td>4.089041</td>\n",
       "      <td>3.845205</td>\n",
       "      <td>3848.787671</td>\n",
       "      <td>0.243836</td>\n",
       "    </tr>\n",
       "    <tr>\n",
       "      <th>std</th>\n",
       "      <td>0.540386</td>\n",
       "      <td>0.502831</td>\n",
       "      <td>6357.778617</td>\n",
       "      <td>0.152665</td>\n",
       "    </tr>\n",
       "    <tr>\n",
       "      <th>min</th>\n",
       "      <td>3.000000</td>\n",
       "      <td>2.700000</td>\n",
       "      <td>35.000000</td>\n",
       "      <td>0.000000</td>\n",
       "    </tr>\n",
       "    <tr>\n",
       "      <th>25%</th>\n",
       "      <td>3.500000</td>\n",
       "      <td>3.500000</td>\n",
       "      <td>222.250000</td>\n",
       "      <td>0.100000</td>\n",
       "    </tr>\n",
       "    <tr>\n",
       "      <th>50%</th>\n",
       "      <td>4.000000</td>\n",
       "      <td>3.900000</td>\n",
       "      <td>1446.000000</td>\n",
       "      <td>0.200000</td>\n",
       "    </tr>\n",
       "    <tr>\n",
       "      <th>75%</th>\n",
       "      <td>4.500000</td>\n",
       "      <td>4.200000</td>\n",
       "      <td>4439.500000</td>\n",
       "      <td>0.400000</td>\n",
       "    </tr>\n",
       "    <tr>\n",
       "      <th>max</th>\n",
       "      <td>5.000000</td>\n",
       "      <td>4.800000</td>\n",
       "      <td>34846.000000</td>\n",
       "      <td>0.500000</td>\n",
       "    </tr>\n",
       "  </tbody>\n",
       "</table>\n",
       "</div>"
      ],
      "text/plain": [
       "       Fandango_Stars  Fandango_Ratingvalue  Fandango_votes  \\\n",
       "count      146.000000            146.000000      146.000000   \n",
       "mean         4.089041              3.845205     3848.787671   \n",
       "std          0.540386              0.502831     6357.778617   \n",
       "min          3.000000              2.700000       35.000000   \n",
       "25%          3.500000              3.500000      222.250000   \n",
       "50%          4.000000              3.900000     1446.000000   \n",
       "75%          4.500000              4.200000     4439.500000   \n",
       "max          5.000000              4.800000    34846.000000   \n",
       "\n",
       "       Fandango_Difference  \n",
       "count           146.000000  \n",
       "mean              0.243836  \n",
       "std               0.152665  \n",
       "min               0.000000  \n",
       "25%               0.100000  \n",
       "50%               0.200000  \n",
       "75%               0.400000  \n",
       "max               0.500000  "
      ]
     },
     "execution_count": 3,
     "metadata": {},
     "output_type": "execute_result"
    }
   ],
   "source": [
    "ratings_Fandango_before.describe()"
   ]
  },
  {
   "cell_type": "markdown",
   "metadata": {},
   "source": [
    "The dataframe `ratings_Fandango_before` has 146 rows and apparently no missing values. \n",
    "We notice immediately two things, already noted in Walt Hickey's article: \n",
    "* The number of stars awarded to a movie is never smaller than the average rating.\n",
    "* The difference can be large, with a maximum value of a whole half star and a mean slightly above 0.25. \n",
    "This suggests that the rounding is mostly done upwards."
   ]
  },
  {
   "cell_type": "code",
   "execution_count": 4,
   "metadata": {},
   "outputs": [
    {
     "data": {
      "text/html": [
       "<div>\n",
       "<style scoped>\n",
       "    .dataframe tbody tr th:only-of-type {\n",
       "        vertical-align: middle;\n",
       "    }\n",
       "\n",
       "    .dataframe tbody tr th {\n",
       "        vertical-align: top;\n",
       "    }\n",
       "\n",
       "    .dataframe thead th {\n",
       "        text-align: right;\n",
       "    }\n",
       "</style>\n",
       "<table border=\"1\" class=\"dataframe\">\n",
       "  <thead>\n",
       "    <tr style=\"text-align: right;\">\n",
       "      <th></th>\n",
       "      <th>year</th>\n",
       "      <th>fandango</th>\n",
       "    </tr>\n",
       "  </thead>\n",
       "  <tbody>\n",
       "    <tr>\n",
       "      <th>count</th>\n",
       "      <td>214.000000</td>\n",
       "      <td>214.000000</td>\n",
       "    </tr>\n",
       "    <tr>\n",
       "      <th>mean</th>\n",
       "      <td>2016.107477</td>\n",
       "      <td>3.894860</td>\n",
       "    </tr>\n",
       "    <tr>\n",
       "      <th>std</th>\n",
       "      <td>0.310444</td>\n",
       "      <td>0.516781</td>\n",
       "    </tr>\n",
       "    <tr>\n",
       "      <th>min</th>\n",
       "      <td>2016.000000</td>\n",
       "      <td>2.500000</td>\n",
       "    </tr>\n",
       "    <tr>\n",
       "      <th>25%</th>\n",
       "      <td>2016.000000</td>\n",
       "      <td>3.500000</td>\n",
       "    </tr>\n",
       "    <tr>\n",
       "      <th>50%</th>\n",
       "      <td>2016.000000</td>\n",
       "      <td>4.000000</td>\n",
       "    </tr>\n",
       "    <tr>\n",
       "      <th>75%</th>\n",
       "      <td>2016.000000</td>\n",
       "      <td>4.500000</td>\n",
       "    </tr>\n",
       "    <tr>\n",
       "      <th>max</th>\n",
       "      <td>2017.000000</td>\n",
       "      <td>5.000000</td>\n",
       "    </tr>\n",
       "  </tbody>\n",
       "</table>\n",
       "</div>"
      ],
      "text/plain": [
       "              year    fandango\n",
       "count   214.000000  214.000000\n",
       "mean   2016.107477    3.894860\n",
       "std       0.310444    0.516781\n",
       "min    2016.000000    2.500000\n",
       "25%    2016.000000    3.500000\n",
       "50%    2016.000000    4.000000\n",
       "75%    2016.000000    4.500000\n",
       "max    2017.000000    5.000000"
      ]
     },
     "execution_count": 4,
     "metadata": {},
     "output_type": "execute_result"
    }
   ],
   "source": [
    "ratings_Fandango_after.describe()"
   ]
  },
  {
   "cell_type": "markdown",
   "metadata": {},
   "source": [
    "The dataframe `ratings_Fandango_after` has 214 rows and no missing value in its numerical columns. \n",
    "The three quartiles and maximum value of the rating are the same as in the previous dataset. \n",
    "The minimum value (2.5 versus 3.0) and mean value (slightly below 3.9 versus slightly below 4.1) are smaller, with a z-score close to 3.4 for the latter (see calculation in the cell below). \n",
    "It thus seems that, **on average, the ratings on Fandango have decreased after the publication of Walt Hickey's article by a statistically significant amount**."
   ]
  },
  {
   "cell_type": "code",
   "execution_count": 5,
   "metadata": {},
   "outputs": [
    {
     "name": "stdout",
     "output_type": "stream",
     "text": [
      "Z-score for the difference between the average numbers of stars: 3.4\n"
     ]
    }
   ],
   "source": [
    "sigma_before = ratings_Fandango_before['Fandango_Stars'].std()\n",
    "sigma_after = ratings_Fandango_after['fandango'].std()\n",
    "n_films_before = ratings_Fandango_before.shape[0]\n",
    "n_films_after = ratings_Fandango_after.shape[0]\n",
    "mean_before = ratings_Fandango_before['Fandango_Stars'].mean()\n",
    "mean_after = ratings_Fandango_after['fandango'].mean()\n",
    "\n",
    "ste_diff = np.sqrt(sigma_before**2 / n_films_before + sigma_after**2 / n_films_after)\n",
    "z_score = (mean_before - mean_after) / ste_diff\n",
    "\n",
    "print('Z-score for the difference between the average numbers of stars: {:.1f}'.format(z_score))"
   ]
  },
  {
   "cell_type": "markdown",
   "metadata": {},
   "source": [
    "An important preliminary step before starting the analysis is to determine whether the samples provided by the datasets are representative. \n",
    "According to the `README.txt` file present in [the FiveThirtyEight GitHub repository](https://github.com/fivethirtyeight/data/tree/master/fandango), the first dataset contains all released movies which had at least 30 user reviews on Fandango as well as a Rotten Tomatoes rating, a Rotten Tomatoes User rating, a Metacritic score, a Metacritic User score, and an IMDb score on 24 August 2015. \n",
    "This may exclude movies which were less popular of released too recently. \n",
    "To understand which movies were excluded and whether this affects the results, let us compare with the information in `fandango_scrape.csv`, which contains all the information Walt Hickey pulled from Fandango."
   ]
  },
  {
   "cell_type": "code",
   "execution_count": 6,
   "metadata": {},
   "outputs": [
    {
     "data": {
      "text/html": [
       "<div>\n",
       "<style scoped>\n",
       "    .dataframe tbody tr th:only-of-type {\n",
       "        vertical-align: middle;\n",
       "    }\n",
       "\n",
       "    .dataframe tbody tr th {\n",
       "        vertical-align: top;\n",
       "    }\n",
       "\n",
       "    .dataframe thead th {\n",
       "        text-align: right;\n",
       "    }\n",
       "</style>\n",
       "<table border=\"1\" class=\"dataframe\">\n",
       "  <thead>\n",
       "    <tr style=\"text-align: right;\">\n",
       "      <th></th>\n",
       "      <th>STARS</th>\n",
       "      <th>RATING</th>\n",
       "      <th>VOTES</th>\n",
       "    </tr>\n",
       "  </thead>\n",
       "  <tbody>\n",
       "    <tr>\n",
       "      <th>count</th>\n",
       "      <td>510.000000</td>\n",
       "      <td>510.000000</td>\n",
       "      <td>510.000000</td>\n",
       "    </tr>\n",
       "    <tr>\n",
       "      <th>mean</th>\n",
       "      <td>3.532353</td>\n",
       "      <td>3.351765</td>\n",
       "      <td>1134.364706</td>\n",
       "    </tr>\n",
       "    <tr>\n",
       "      <th>std</th>\n",
       "      <td>1.585616</td>\n",
       "      <td>1.512628</td>\n",
       "      <td>3809.952176</td>\n",
       "    </tr>\n",
       "    <tr>\n",
       "      <th>min</th>\n",
       "      <td>0.000000</td>\n",
       "      <td>0.000000</td>\n",
       "      <td>0.000000</td>\n",
       "    </tr>\n",
       "    <tr>\n",
       "      <th>25%</th>\n",
       "      <td>3.500000</td>\n",
       "      <td>3.025000</td>\n",
       "      <td>2.000000</td>\n",
       "    </tr>\n",
       "    <tr>\n",
       "      <th>50%</th>\n",
       "      <td>4.000000</td>\n",
       "      <td>3.800000</td>\n",
       "      <td>17.500000</td>\n",
       "    </tr>\n",
       "    <tr>\n",
       "      <th>75%</th>\n",
       "      <td>4.500000</td>\n",
       "      <td>4.300000</td>\n",
       "      <td>183.500000</td>\n",
       "    </tr>\n",
       "    <tr>\n",
       "      <th>max</th>\n",
       "      <td>5.000000</td>\n",
       "      <td>5.000000</td>\n",
       "      <td>34846.000000</td>\n",
       "    </tr>\n",
       "  </tbody>\n",
       "</table>\n",
       "</div>"
      ],
      "text/plain": [
       "            STARS      RATING         VOTES\n",
       "count  510.000000  510.000000    510.000000\n",
       "mean     3.532353    3.351765   1134.364706\n",
       "std      1.585616    1.512628   3809.952176\n",
       "min      0.000000    0.000000      0.000000\n",
       "25%      3.500000    3.025000      2.000000\n",
       "50%      4.000000    3.800000     17.500000\n",
       "75%      4.500000    4.300000    183.500000\n",
       "max      5.000000    5.000000  34846.000000"
      ]
     },
     "execution_count": 6,
     "metadata": {},
     "output_type": "execute_result"
    }
   ],
   "source": [
    "ratings_Fandango_before_full = pd.read_csv(path+'fandango_scrape.csv')\n",
    "ratings_Fandango_before_full.describe()"
   ]
  },
  {
   "cell_type": "markdown",
   "metadata": {},
   "source": [
    "This file has significantly more entries than `fandango_score_comparison.csv` (510 versus 146). \n",
    "The mean number of stars is also significantly lower, and the standard deviation of the numbers of stars and ratings are three times larger. \n",
    "However, directly comparing the two datasets may not be relevent as movies with less than 30 user reviews may bias the results. \n",
    "Let us thus restrict attention to films with 30 user votes or more."
   ]
  },
  {
   "cell_type": "code",
   "execution_count": 7,
   "metadata": {},
   "outputs": [
    {
     "data": {
      "text/html": [
       "<div>\n",
       "<style scoped>\n",
       "    .dataframe tbody tr th:only-of-type {\n",
       "        vertical-align: middle;\n",
       "    }\n",
       "\n",
       "    .dataframe tbody tr th {\n",
       "        vertical-align: top;\n",
       "    }\n",
       "\n",
       "    .dataframe thead th {\n",
       "        text-align: right;\n",
       "    }\n",
       "</style>\n",
       "<table border=\"1\" class=\"dataframe\">\n",
       "  <thead>\n",
       "    <tr style=\"text-align: right;\">\n",
       "      <th></th>\n",
       "      <th>STARS</th>\n",
       "      <th>RATING</th>\n",
       "      <th>VOTES</th>\n",
       "    </tr>\n",
       "  </thead>\n",
       "  <tbody>\n",
       "    <tr>\n",
       "      <th>count</th>\n",
       "      <td>212.000000</td>\n",
       "      <td>212.000000</td>\n",
       "      <td>212.000000</td>\n",
       "    </tr>\n",
       "    <tr>\n",
       "      <th>mean</th>\n",
       "      <td>4.188679</td>\n",
       "      <td>3.943396</td>\n",
       "      <td>2719.160377</td>\n",
       "    </tr>\n",
       "    <tr>\n",
       "      <th>std</th>\n",
       "      <td>0.561197</td>\n",
       "      <td>0.531031</td>\n",
       "      <td>5540.562689</td>\n",
       "    </tr>\n",
       "    <tr>\n",
       "      <th>min</th>\n",
       "      <td>3.000000</td>\n",
       "      <td>2.700000</td>\n",
       "      <td>30.000000</td>\n",
       "    </tr>\n",
       "    <tr>\n",
       "      <th>25%</th>\n",
       "      <td>4.000000</td>\n",
       "      <td>3.600000</td>\n",
       "      <td>66.000000</td>\n",
       "    </tr>\n",
       "    <tr>\n",
       "      <th>50%</th>\n",
       "      <td>4.500000</td>\n",
       "      <td>4.000000</td>\n",
       "      <td>466.000000</td>\n",
       "    </tr>\n",
       "    <tr>\n",
       "      <th>75%</th>\n",
       "      <td>4.500000</td>\n",
       "      <td>4.325000</td>\n",
       "      <td>2728.000000</td>\n",
       "    </tr>\n",
       "    <tr>\n",
       "      <th>max</th>\n",
       "      <td>5.000000</td>\n",
       "      <td>4.900000</td>\n",
       "      <td>34846.000000</td>\n",
       "    </tr>\n",
       "  </tbody>\n",
       "</table>\n",
       "</div>"
      ],
      "text/plain": [
       "            STARS      RATING         VOTES\n",
       "count  212.000000  212.000000    212.000000\n",
       "mean     4.188679    3.943396   2719.160377\n",
       "std      0.561197    0.531031   5540.562689\n",
       "min      3.000000    2.700000     30.000000\n",
       "25%      4.000000    3.600000     66.000000\n",
       "50%      4.500000    4.000000    466.000000\n",
       "75%      4.500000    4.325000   2728.000000\n",
       "max      5.000000    4.900000  34846.000000"
      ]
     },
     "execution_count": 7,
     "metadata": {},
     "output_type": "execute_result"
    }
   ],
   "source": [
    "ratings_Fandango_before_30 = ratings_Fandango_before_full[ratings_Fandango_before_full['VOTES'] >= 30]\n",
    "ratings_Fandango_before_30.describe()"
   ]
  },
  {
   "cell_type": "markdown",
   "metadata": {},
   "source": [
    "This yields a bit more entries than in the first dataset (212 versus 146), but comparable values for the average number of stars, ratings, and their standard deviations. \n",
    "More importantly, the difference between the average number of stars and averaged rating is close to 0.25, as in the original dataset (see cell below). "
   ]
  },
  {
   "cell_type": "code",
   "execution_count": 8,
   "metadata": {},
   "outputs": [
    {
     "name": "stdout",
     "output_type": "stream",
     "text": [
      "Difference between the average number of stars and rating for all movies with 30 reviews or more on Fandango: 0.25±0.05\n",
      "Difference between the average number of stars and rating for movies in the first dataset: 0.24±0.06\n"
     ]
    }
   ],
   "source": [
    "n_films_before_30 = ratings_Fandango_before_30.shape[0]\n",
    "mean_stars_before_30 = ratings_Fandango_before_30['STARS'].mean()\n",
    "std_stars_before_30 = ratings_Fandango_before_30['STARS'].std()\n",
    "mean_rating_before_30 = ratings_Fandango_before_30['RATING'].mean()\n",
    "std_rating_before_30 = ratings_Fandango_before_30['RATING'].std()\n",
    "\n",
    "diff_stars_rating_before_30 = mean_stars_before_30 - mean_rating_before_30\n",
    "std_diff_stars_rating_before_30 = np.sqrt(std_stars_before_30**2 / n_films_before_30 + std_rating_before_30**2 / n_films_before_30)\n",
    "print('Difference between the average number of stars and rating for all movies with 30 reviews or more on Fandango: {:.2f}±{:.2f}'.format(diff_stars_rating_before_30, std_diff_stars_rating_before_30))\n",
    "\n",
    "n_films_before = ratings_Fandango_before.shape[0]\n",
    "mean_stars_before = ratings_Fandango_before['Fandango_Stars'].mean()\n",
    "std_stars_before = ratings_Fandango_before['Fandango_Stars'].std()\n",
    "mean_rating_before = ratings_Fandango_before['Fandango_Ratingvalue'].mean()\n",
    "std_rating_before = ratings_Fandango_before['Fandango_Ratingvalue'].std()\n",
    "\n",
    "diff_stars_rating_before = mean_stars_before - mean_rating_before\n",
    "std_diff_stars_rating_before = np.sqrt(std_stars_before**2 / n_films_before + std_rating_before**2 / n_films_before)\n",
    "print('Difference between the average number of stars and rating for movies in the first dataset: {:.2f}±{:.2f}'.format(diff_stars_rating_before, std_diff_stars_rating_before))"
   ]
  },
  {
   "cell_type": "markdown",
   "metadata": {},
   "source": [
    "The ReadMe file in [Alex Olteanu's GitHub repository](https://github.com/mircealex/Movie_ratings_2016_17) does not tell precisely how the movies were selected, but indicates they are a subset of the most popular ones. \n",
    "Given the size of the sample, it seems reasonable to assume that it contains most popular movies. \n",
    "The limitations of these datasets are the reasons why our analysis is restricted to popular movies and to these two periods of time (before 24 August 2015 and 2016). \n",
    "A more ambitious project, for instance extending the analysis to ratings currently provided by Fandango, would require collecting new data.\n",
    "\n",
    "Since we are interested in the average rating in 2016, we restrict the “after” dataset to movies released that year."
   ]
  },
  {
   "cell_type": "code",
   "execution_count": 9,
   "metadata": {},
   "outputs": [],
   "source": [
    "ratings_Fandango_after = ratings_Fandango_after[ratings_Fandango_after['year'] == 2016]"
   ]
  },
  {
   "cell_type": "markdown",
   "metadata": {},
   "source": [
    "### Comparing the rating distributions\n",
    "\n",
    "Let us first show kernel density plots of the number of stars for the two sets of films, using the `fiethirtyeight` style. \n",
    "We choose a bandwith value of 0.25, half the distance between two possible scores. \n",
    "(Choosing a smaller value seems to lead to overfitting.)"
   ]
  },
  {
   "cell_type": "code",
   "execution_count": 10,
   "metadata": {},
   "outputs": [
    {
     "data": {
      "image/png": "[encoded data removed]",
      "text/plain": [
       "<Figure size 432x288 with 1 Axes>"
      ]
     },
     "metadata": {},
     "output_type": "display_data"
    }
   ],
   "source": [
    "plt.style.use('fivethirtyeight')\n",
    "sns.kdeplot(ratings_Fandango_before['Fandango_Stars'], bw=0.25, shade=True, label='before')\n",
    "sns.kdeplot(ratings_Fandango_after['fandango'], bw=0.25, shade=True, label='after')\n",
    "plt.xticks(np.arange(0,5,0.5))\n",
    "plt.xlabel('number of stars')\n",
    "plt.ylabel('kernel density estimation')\n",
    "plt.xlim(0,5)\n",
    "plt.title('Distribution of the number of stars before \\n and after publication of Walt Hickey\\'s article')\n",
    "plt.legend()\n",
    "plt.show()"
   ]
  },
  {
   "cell_type": "markdown",
   "metadata": {},
   "source": [
    "We notice that: \n",
    "* Both distributions are left-skewed, with most values close to the high end of the range.\n",
    "* The distribution of ratings for films released in 2016 is a bit less skewed than the distribution obtained before publication of the article, with a peak near 4, versus nearly 4.5 for the other distribution. \n",
    "It is also nearly symmetric between 3 and 5, while the “before” distribution decreases after the peak much faster than it increases before the peak.\n",
    "\n",
    "These plots seem to indicate that there has been a change of rating system after publication of the article, leading to slightly lower ratings.\n",
    "\n",
    "To get a more granular view, let us plot the two frequency distributions. \n",
    "Since the datasets have different numbers of movies, we show relative distributions, expressed as percentages. "
   ]
  },
  {
   "cell_type": "code",
   "execution_count": 11,
   "metadata": {},
   "outputs": [
    {
     "data": {
      "image/png": "[encoded data removed]",
      "text/plain": [
       "<Figure size 432x288 with 1 Axes>"
      ]
     },
     "metadata": {},
     "output_type": "display_data"
    }
   ],
   "source": [
    "freqs_before = (100*ratings_Fandango_before['Fandango_Stars'].value_counts(normalize=True))\n",
    "freqs_after = (100*ratings_Fandango_after['fandango'].value_counts(normalize=True))\n",
    "freqs_before_and_after = pd.DataFrame([freqs_before, freqs_after]).transpose()\n",
    "freqs_before_and_after.columns = ['before', 'after']\n",
    "freqs_before_and_after.plot.bar()\n",
    "plt.ylabel('%')\n",
    "plt.xlabel('number of stars')\n",
    "plt.title('Distribution of the number of stars')\n",
    "plt.show()"
   ]
  },
  {
   "cell_type": "markdown",
   "metadata": {},
   "source": [
    "We notice that: \n",
    "* As already noted, the “after” distribution is peaked at 4 while the “before” one is peaked at 4.5. \n",
    "* The former has much less movies with 5-star ratings.\n",
    "* It has a few movies rated only 2.5 stars, while the “before” destribution has no rating below 3 stars.\n",
    "\n",
    "This again indicates generally lower ratings after publication of the article."
   ]
  },
  {
   "cell_type": "markdown",
   "metadata": {},
   "source": [
    "## Fandango vs other aggregators\n",
    "\n",
    "We now compare ratings on Fandango with those of other aggregators."
   ]
  },
  {
   "cell_type": "code",
   "execution_count": 12,
   "metadata": {},
   "outputs": [],
   "source": [
    "# keep ony columns with normalized scores\n",
    "cols_score_before = ['RT_norm', 'RT_user_norm', 'Metacritic_norm', 'Metacritic_user_nom', 'IMDB_norm', 'Fandango_Stars']\n",
    "cols_score_after = ['metascore', 'imdb', 'tmeter', 'fandango']\n",
    "\n",
    "all_ratings_before = pd.read_csv(path+'fandango_score_comparison.csv')[cols_score_before]\n",
    "all_ratings_after = pd.read_csv(path+'movie_ratings_16_17.csv')[cols_score_after]"
   ]
  },
  {
   "cell_type": "markdown",
   "metadata": {},
   "source": [
    "Let us normalize all columns in the dataset `all_ratings_after` to give scores over 5."
   ]
  },
  {
   "cell_type": "code",
   "execution_count": 13,
   "metadata": {},
   "outputs": [],
   "source": [
    "all_ratings_after['metascore'] = 5*all_ratings_after['metascore']/100\n",
    "all_ratings_after['imdb'] = 5*all_ratings_after['imdb']/10\n",
    "all_ratings_after['tmeter'] = 5*all_ratings_after['tmeter']/100"
   ]
  },
  {
   "cell_type": "markdown",
   "metadata": {},
   "source": [
    "Let us now show the averages of the different scores. \n",
    "The black bars show the standard error."
   ]
  },
  {
   "cell_type": "code",
   "execution_count": 14,
   "metadata": {},
   "outputs": [
    {
     "data": {
      "image/png": "[encoded data removed]",
      "text/plain": [
       "<Figure size 432x288 with 1 Axes>"
      ]
     },
     "metadata": {},
     "output_type": "display_data"
    },
    {
     "data": {
      "image/png": "[encoded data removed]",
      "text/plain": [
       "<Figure size 432x288 with 1 Axes>"
      ]
     },
     "metadata": {},
     "output_type": "display_data"
    }
   ],
   "source": [
    "all_ratings_before.mean().plot(kind='bar', yerr = all_ratings_before.std()/np.sqrt(all_ratings_before.count()))\n",
    "plt.title('Normalized scores before Hickey\\'s article')\n",
    "plt.show()\n",
    "\n",
    "all_ratings_after.mean().plot(kind='bar', yerr = all_ratings_after.std()/np.sqrt(all_ratings_after.count()))\n",
    "plt.title('Normalized scores after Hickey\\'s article')\n",
    "plt.show()"
   ]
  },
  {
   "cell_type": "markdown",
   "metadata": {},
   "source": [
    "**The scores shown on Fandango remained significantly larger on average than those of other aggregators, with an average score close to 4 while others have average values below or slightly above 3.**"
   ]
  },
  {
   "cell_type": "markdown",
   "metadata": {},
   "source": [
    "## Conclusions \n",
    "\n",
    "Our study found a small but statistically significant decrease in Fandango ratings in the year after publication of Walt Hickey's article. \n",
    "This suggests the article prompted a change in the way user ratings are handled. \n",
    "However, Fandango scores remained significantly higher than those of other aggregators. \n",
    "The rating inflation pointed by the article thus seems to have been only partially corrected.\n",
    "\n",
    "It would be interesting to see what is the current status, and in particular whether Fandango's “audience score” differs from that of other aggrregators in a statistically significant way. \n",
    "Since answering this question requires collecting new data and is outside the scope of the present work, we leave it for a future project."
   ]
  }
 ],
 "metadata": {
  "kernelspec": {
   "display_name": "Python 3",
   "language": "python",
   "name": "python3"
  },
  "language_info": {
   "codemirror_mode": {
    "name": "ipython",
    "version": 3
   },
   "file_extension": ".py",
   "mimetype": "text/x-python",
   "name": "python",
   "nbconvert_exporter": "python",
   "pygments_lexer": "ipython3",
   "version": "3.7.3"
  }
 },
 "nbformat": 4,
 "nbformat_minor": 4
}
