{
 "cells": [
  {
   "cell_type": "markdown",
   "metadata": {},
   "source": [
    "# Star Wars Survey \n",
    "\n",
    "In this project we analyse data from a FiveThirtyEight survey on the first two Star Wars trilogies, whose results are reported in [this article](https://fivethirtyeight.com/features/americas-favorite-star-wars-movies-and-least-favorite-characters/) published on 22 July 2014.\n",
    "We are particularly interested in determining which movies and characters are best liked by fans.\n",
    "\n",
    "## Data cleaning\n",
    "\n",
    "The dataset, `StarWars.csv`, was created by the FiveThirtyEight team and is encoded in ISO-8859-1. \n",
    "Some of its most important columns are: \n",
    "\n",
    "* `RespondentID`: an anonymized ID for each respondent\n",
    "* `Gender`: the respondent's gender\n",
    "* `Age`: the respondent's age\n",
    "* `Household Income`: the respondent's household income\n",
    "* `Education`: the respondent's education level\n",
    "* `Location (Census Region)`: where the respondent lives\n",
    "* `Have you seen any of the 6 films in the Star Wars franchise?`: whether the respondent has seen any of the films in the first two trilogies\n",
    "* `Do you consider yourself to be a fan of the Star Wars film franchise?`: whether the respondent considers themselves a fan\n",
    "\n",
    "We first load it into the Pandas dataframe `star_wars` and display the first 10 rows to look for possible inconsistencies."
   ]
  },
  {
   "cell_type": "code",
   "execution_count": 1,
   "metadata": {},
   "outputs": [
    {
     "data": {
      "text/html": [
       "<div>\n",
       "<style scoped>\n",
       "    .dataframe tbody tr th:only-of-type {\n",
       "        vertical-align: middle;\n",
       "    }\n",
       "\n",
       "    .dataframe tbody tr th {\n",
       "        vertical-align: top;\n",
       "    }\n",
       "\n",
       "    .dataframe thead th {\n",
       "        text-align: right;\n",
       "    }\n",
       "</style>\n",
       "<table border=\"1\" class=\"dataframe\">\n",
       "  <thead>\n",
       "    <tr style=\"text-align: right;\">\n",
       "      <th></th>\n",
       "      <th>RespondentID</th>\n",
       "      <th>Have you seen any of the 6 films in the Star Wars franchise?</th>\n",
       "      <th>Do you consider yourself to be a fan of the Star Wars film franchise?</th>\n",
       "      <th>Which of the following Star Wars films have you seen? Please select all that apply.</th>\n",
       "      <th>Unnamed: 4</th>\n",
       "      <th>Unnamed: 5</th>\n",
       "      <th>Unnamed: 6</th>\n",
       "      <th>Unnamed: 7</th>\n",
       "      <th>Unnamed: 8</th>\n",
       "      <th>Please rank the Star Wars films in order of preference with 1 being your favorite film in the franchise and 6 being your least favorite film.</th>\n",
       "      <th>...</th>\n",
       "      <th>Unnamed: 28</th>\n",
       "      <th>Which character shot first?</th>\n",
       "      <th>Are you familiar with the Expanded Universe?</th>\n",
       "      <th>Do you consider yourself to be a fan of the Expanded Universe?æ</th>\n",
       "      <th>Do you consider yourself to be a fan of the Star Trek franchise?</th>\n",
       "      <th>Gender</th>\n",
       "      <th>Age</th>\n",
       "      <th>Household Income</th>\n",
       "      <th>Education</th>\n",
       "      <th>Location (Census Region)</th>\n",
       "    </tr>\n",
       "  </thead>\n",
       "  <tbody>\n",
       "    <tr>\n",
       "      <th>0</th>\n",
       "      <td>NaN</td>\n",
       "      <td>Response</td>\n",
       "      <td>Response</td>\n",
       "      <td>Star Wars: Episode I  The Phantom Menace</td>\n",
       "      <td>Star Wars: Episode II  Attack of the Clones</td>\n",
       "      <td>Star Wars: Episode III  Revenge of the Sith</td>\n",
       "      <td>Star Wars: Episode IV  A New Hope</td>\n",
       "      <td>Star Wars: Episode V The Empire Strikes Back</td>\n",
       "      <td>Star Wars: Episode VI Return of the Jedi</td>\n",
       "      <td>Star Wars: Episode I  The Phantom Menace</td>\n",
       "      <td>...</td>\n",
       "      <td>Yoda</td>\n",
       "      <td>Response</td>\n",
       "      <td>Response</td>\n",
       "      <td>Response</td>\n",
       "      <td>Response</td>\n",
       "      <td>Response</td>\n",
       "      <td>Response</td>\n",
       "      <td>Response</td>\n",
       "      <td>Response</td>\n",
       "      <td>Response</td>\n",
       "    </tr>\n",
       "    <tr>\n",
       "      <th>1</th>\n",
       "      <td>3.292880e+09</td>\n",
       "      <td>Yes</td>\n",
       "      <td>Yes</td>\n",
       "      <td>Star Wars: Episode I  The Phantom Menace</td>\n",
       "      <td>Star Wars: Episode II  Attack of the Clones</td>\n",
       "      <td>Star Wars: Episode III  Revenge of the Sith</td>\n",
       "      <td>Star Wars: Episode IV  A New Hope</td>\n",
       "      <td>Star Wars: Episode V The Empire Strikes Back</td>\n",
       "      <td>Star Wars: Episode VI Return of the Jedi</td>\n",
       "      <td>3</td>\n",
       "      <td>...</td>\n",
       "      <td>Very favorably</td>\n",
       "      <td>I don't understand this question</td>\n",
       "      <td>Yes</td>\n",
       "      <td>No</td>\n",
       "      <td>No</td>\n",
       "      <td>Male</td>\n",
       "      <td>18-29</td>\n",
       "      <td>NaN</td>\n",
       "      <td>High school degree</td>\n",
       "      <td>South Atlantic</td>\n",
       "    </tr>\n",
       "    <tr>\n",
       "      <th>2</th>\n",
       "      <td>3.292880e+09</td>\n",
       "      <td>No</td>\n",
       "      <td>NaN</td>\n",
       "      <td>NaN</td>\n",
       "      <td>NaN</td>\n",
       "      <td>NaN</td>\n",
       "      <td>NaN</td>\n",
       "      <td>NaN</td>\n",
       "      <td>NaN</td>\n",
       "      <td>NaN</td>\n",
       "      <td>...</td>\n",
       "      <td>NaN</td>\n",
       "      <td>NaN</td>\n",
       "      <td>NaN</td>\n",
       "      <td>NaN</td>\n",
       "      <td>Yes</td>\n",
       "      <td>Male</td>\n",
       "      <td>18-29</td>\n",
       "      <td>$0 - $24,999</td>\n",
       "      <td>Bachelor degree</td>\n",
       "      <td>West South Central</td>\n",
       "    </tr>\n",
       "    <tr>\n",
       "      <th>3</th>\n",
       "      <td>3.292765e+09</td>\n",
       "      <td>Yes</td>\n",
       "      <td>No</td>\n",
       "      <td>Star Wars: Episode I  The Phantom Menace</td>\n",
       "      <td>Star Wars: Episode II  Attack of the Clones</td>\n",
       "      <td>Star Wars: Episode III  Revenge of the Sith</td>\n",
       "      <td>NaN</td>\n",
       "      <td>NaN</td>\n",
       "      <td>NaN</td>\n",
       "      <td>1</td>\n",
       "      <td>...</td>\n",
       "      <td>Unfamiliar (N/A)</td>\n",
       "      <td>I don't understand this question</td>\n",
       "      <td>No</td>\n",
       "      <td>NaN</td>\n",
       "      <td>No</td>\n",
       "      <td>Male</td>\n",
       "      <td>18-29</td>\n",
       "      <td>$0 - $24,999</td>\n",
       "      <td>High school degree</td>\n",
       "      <td>West North Central</td>\n",
       "    </tr>\n",
       "    <tr>\n",
       "      <th>4</th>\n",
       "      <td>3.292763e+09</td>\n",
       "      <td>Yes</td>\n",
       "      <td>Yes</td>\n",
       "      <td>Star Wars: Episode I  The Phantom Menace</td>\n",
       "      <td>Star Wars: Episode II  Attack of the Clones</td>\n",
       "      <td>Star Wars: Episode III  Revenge of the Sith</td>\n",
       "      <td>Star Wars: Episode IV  A New Hope</td>\n",
       "      <td>Star Wars: Episode V The Empire Strikes Back</td>\n",
       "      <td>Star Wars: Episode VI Return of the Jedi</td>\n",
       "      <td>5</td>\n",
       "      <td>...</td>\n",
       "      <td>Very favorably</td>\n",
       "      <td>I don't understand this question</td>\n",
       "      <td>No</td>\n",
       "      <td>NaN</td>\n",
       "      <td>Yes</td>\n",
       "      <td>Male</td>\n",
       "      <td>18-29</td>\n",
       "      <td>$100,000 - $149,999</td>\n",
       "      <td>Some college or Associate degree</td>\n",
       "      <td>West North Central</td>\n",
       "    </tr>\n",
       "    <tr>\n",
       "      <th>5</th>\n",
       "      <td>3.292731e+09</td>\n",
       "      <td>Yes</td>\n",
       "      <td>Yes</td>\n",
       "      <td>Star Wars: Episode I  The Phantom Menace</td>\n",
       "      <td>Star Wars: Episode II  Attack of the Clones</td>\n",
       "      <td>Star Wars: Episode III  Revenge of the Sith</td>\n",
       "      <td>Star Wars: Episode IV  A New Hope</td>\n",
       "      <td>Star Wars: Episode V The Empire Strikes Back</td>\n",
       "      <td>Star Wars: Episode VI Return of the Jedi</td>\n",
       "      <td>5</td>\n",
       "      <td>...</td>\n",
       "      <td>Somewhat favorably</td>\n",
       "      <td>Greedo</td>\n",
       "      <td>Yes</td>\n",
       "      <td>No</td>\n",
       "      <td>No</td>\n",
       "      <td>Male</td>\n",
       "      <td>18-29</td>\n",
       "      <td>$100,000 - $149,999</td>\n",
       "      <td>Some college or Associate degree</td>\n",
       "      <td>West North Central</td>\n",
       "    </tr>\n",
       "    <tr>\n",
       "      <th>6</th>\n",
       "      <td>3.292719e+09</td>\n",
       "      <td>Yes</td>\n",
       "      <td>Yes</td>\n",
       "      <td>Star Wars: Episode I  The Phantom Menace</td>\n",
       "      <td>Star Wars: Episode II  Attack of the Clones</td>\n",
       "      <td>Star Wars: Episode III  Revenge of the Sith</td>\n",
       "      <td>Star Wars: Episode IV  A New Hope</td>\n",
       "      <td>Star Wars: Episode V The Empire Strikes Back</td>\n",
       "      <td>Star Wars: Episode VI Return of the Jedi</td>\n",
       "      <td>1</td>\n",
       "      <td>...</td>\n",
       "      <td>Very favorably</td>\n",
       "      <td>Han</td>\n",
       "      <td>Yes</td>\n",
       "      <td>No</td>\n",
       "      <td>Yes</td>\n",
       "      <td>Male</td>\n",
       "      <td>18-29</td>\n",
       "      <td>$25,000 - $49,999</td>\n",
       "      <td>Bachelor degree</td>\n",
       "      <td>Middle Atlantic</td>\n",
       "    </tr>\n",
       "    <tr>\n",
       "      <th>7</th>\n",
       "      <td>3.292685e+09</td>\n",
       "      <td>Yes</td>\n",
       "      <td>Yes</td>\n",
       "      <td>Star Wars: Episode I  The Phantom Menace</td>\n",
       "      <td>Star Wars: Episode II  Attack of the Clones</td>\n",
       "      <td>Star Wars: Episode III  Revenge of the Sith</td>\n",
       "      <td>Star Wars: Episode IV  A New Hope</td>\n",
       "      <td>Star Wars: Episode V The Empire Strikes Back</td>\n",
       "      <td>Star Wars: Episode VI Return of the Jedi</td>\n",
       "      <td>6</td>\n",
       "      <td>...</td>\n",
       "      <td>Very favorably</td>\n",
       "      <td>Han</td>\n",
       "      <td>Yes</td>\n",
       "      <td>No</td>\n",
       "      <td>No</td>\n",
       "      <td>Male</td>\n",
       "      <td>18-29</td>\n",
       "      <td>NaN</td>\n",
       "      <td>High school degree</td>\n",
       "      <td>East North Central</td>\n",
       "    </tr>\n",
       "    <tr>\n",
       "      <th>8</th>\n",
       "      <td>3.292664e+09</td>\n",
       "      <td>Yes</td>\n",
       "      <td>Yes</td>\n",
       "      <td>Star Wars: Episode I  The Phantom Menace</td>\n",
       "      <td>Star Wars: Episode II  Attack of the Clones</td>\n",
       "      <td>Star Wars: Episode III  Revenge of the Sith</td>\n",
       "      <td>Star Wars: Episode IV  A New Hope</td>\n",
       "      <td>Star Wars: Episode V The Empire Strikes Back</td>\n",
       "      <td>Star Wars: Episode VI Return of the Jedi</td>\n",
       "      <td>4</td>\n",
       "      <td>...</td>\n",
       "      <td>Very favorably</td>\n",
       "      <td>Han</td>\n",
       "      <td>No</td>\n",
       "      <td>NaN</td>\n",
       "      <td>Yes</td>\n",
       "      <td>Male</td>\n",
       "      <td>18-29</td>\n",
       "      <td>NaN</td>\n",
       "      <td>High school degree</td>\n",
       "      <td>South Atlantic</td>\n",
       "    </tr>\n",
       "    <tr>\n",
       "      <th>9</th>\n",
       "      <td>3.292654e+09</td>\n",
       "      <td>Yes</td>\n",
       "      <td>Yes</td>\n",
       "      <td>Star Wars: Episode I  The Phantom Menace</td>\n",
       "      <td>Star Wars: Episode II  Attack of the Clones</td>\n",
       "      <td>Star Wars: Episode III  Revenge of the Sith</td>\n",
       "      <td>Star Wars: Episode IV  A New Hope</td>\n",
       "      <td>Star Wars: Episode V The Empire Strikes Back</td>\n",
       "      <td>Star Wars: Episode VI Return of the Jedi</td>\n",
       "      <td>5</td>\n",
       "      <td>...</td>\n",
       "      <td>Somewhat favorably</td>\n",
       "      <td>Han</td>\n",
       "      <td>No</td>\n",
       "      <td>NaN</td>\n",
       "      <td>No</td>\n",
       "      <td>Male</td>\n",
       "      <td>18-29</td>\n",
       "      <td>$0 - $24,999</td>\n",
       "      <td>Some college or Associate degree</td>\n",
       "      <td>South Atlantic</td>\n",
       "    </tr>\n",
       "  </tbody>\n",
       "</table>\n",
       "<p>10 rows × 38 columns</p>\n",
       "</div>"
      ],
      "text/plain": [
       "   RespondentID Have you seen any of the 6 films in the Star Wars franchise?  \\\n",
       "0           NaN                                           Response             \n",
       "1  3.292880e+09                                                Yes             \n",
       "2  3.292880e+09                                                 No             \n",
       "3  3.292765e+09                                                Yes             \n",
       "4  3.292763e+09                                                Yes             \n",
       "5  3.292731e+09                                                Yes             \n",
       "6  3.292719e+09                                                Yes             \n",
       "7  3.292685e+09                                                Yes             \n",
       "8  3.292664e+09                                                Yes             \n",
       "9  3.292654e+09                                                Yes             \n",
       "\n",
       "  Do you consider yourself to be a fan of the Star Wars film franchise?  \\\n",
       "0                                           Response                      \n",
       "1                                                Yes                      \n",
       "2                                                NaN                      \n",
       "3                                                 No                      \n",
       "4                                                Yes                      \n",
       "5                                                Yes                      \n",
       "6                                                Yes                      \n",
       "7                                                Yes                      \n",
       "8                                                Yes                      \n",
       "9                                                Yes                      \n",
       "\n",
       "  Which of the following Star Wars films have you seen? Please select all that apply.  \\\n",
       "0           Star Wars: Episode I  The Phantom Menace                                    \n",
       "1           Star Wars: Episode I  The Phantom Menace                                    \n",
       "2                                                NaN                                    \n",
       "3           Star Wars: Episode I  The Phantom Menace                                    \n",
       "4           Star Wars: Episode I  The Phantom Menace                                    \n",
       "5           Star Wars: Episode I  The Phantom Menace                                    \n",
       "6           Star Wars: Episode I  The Phantom Menace                                    \n",
       "7           Star Wars: Episode I  The Phantom Menace                                    \n",
       "8           Star Wars: Episode I  The Phantom Menace                                    \n",
       "9           Star Wars: Episode I  The Phantom Menace                                    \n",
       "\n",
       "                                    Unnamed: 4  \\\n",
       "0  Star Wars: Episode II  Attack of the Clones   \n",
       "1  Star Wars: Episode II  Attack of the Clones   \n",
       "2                                          NaN   \n",
       "3  Star Wars: Episode II  Attack of the Clones   \n",
       "4  Star Wars: Episode II  Attack of the Clones   \n",
       "5  Star Wars: Episode II  Attack of the Clones   \n",
       "6  Star Wars: Episode II  Attack of the Clones   \n",
       "7  Star Wars: Episode II  Attack of the Clones   \n",
       "8  Star Wars: Episode II  Attack of the Clones   \n",
       "9  Star Wars: Episode II  Attack of the Clones   \n",
       "\n",
       "                                    Unnamed: 5  \\\n",
       "0  Star Wars: Episode III  Revenge of the Sith   \n",
       "1  Star Wars: Episode III  Revenge of the Sith   \n",
       "2                                          NaN   \n",
       "3  Star Wars: Episode III  Revenge of the Sith   \n",
       "4  Star Wars: Episode III  Revenge of the Sith   \n",
       "5  Star Wars: Episode III  Revenge of the Sith   \n",
       "6  Star Wars: Episode III  Revenge of the Sith   \n",
       "7  Star Wars: Episode III  Revenge of the Sith   \n",
       "8  Star Wars: Episode III  Revenge of the Sith   \n",
       "9  Star Wars: Episode III  Revenge of the Sith   \n",
       "\n",
       "                          Unnamed: 6  \\\n",
       "0  Star Wars: Episode IV  A New Hope   \n",
       "1  Star Wars: Episode IV  A New Hope   \n",
       "2                                NaN   \n",
       "3                                NaN   \n",
       "4  Star Wars: Episode IV  A New Hope   \n",
       "5  Star Wars: Episode IV  A New Hope   \n",
       "6  Star Wars: Episode IV  A New Hope   \n",
       "7  Star Wars: Episode IV  A New Hope   \n",
       "8  Star Wars: Episode IV  A New Hope   \n",
       "9  Star Wars: Episode IV  A New Hope   \n",
       "\n",
       "                                     Unnamed: 7  \\\n",
       "0  Star Wars: Episode V The Empire Strikes Back   \n",
       "1  Star Wars: Episode V The Empire Strikes Back   \n",
       "2                                           NaN   \n",
       "3                                           NaN   \n",
       "4  Star Wars: Episode V The Empire Strikes Back   \n",
       "5  Star Wars: Episode V The Empire Strikes Back   \n",
       "6  Star Wars: Episode V The Empire Strikes Back   \n",
       "7  Star Wars: Episode V The Empire Strikes Back   \n",
       "8  Star Wars: Episode V The Empire Strikes Back   \n",
       "9  Star Wars: Episode V The Empire Strikes Back   \n",
       "\n",
       "                                 Unnamed: 8  \\\n",
       "0  Star Wars: Episode VI Return of the Jedi   \n",
       "1  Star Wars: Episode VI Return of the Jedi   \n",
       "2                                       NaN   \n",
       "3                                       NaN   \n",
       "4  Star Wars: Episode VI Return of the Jedi   \n",
       "5  Star Wars: Episode VI Return of the Jedi   \n",
       "6  Star Wars: Episode VI Return of the Jedi   \n",
       "7  Star Wars: Episode VI Return of the Jedi   \n",
       "8  Star Wars: Episode VI Return of the Jedi   \n",
       "9  Star Wars: Episode VI Return of the Jedi   \n",
       "\n",
       "  Please rank the Star Wars films in order of preference with 1 being your favorite film in the franchise and 6 being your least favorite film.  \\\n",
       "0           Star Wars: Episode I  The Phantom Menace                                                                                              \n",
       "1                                                  3                                                                                              \n",
       "2                                                NaN                                                                                              \n",
       "3                                                  1                                                                                              \n",
       "4                                                  5                                                                                              \n",
       "5                                                  5                                                                                              \n",
       "6                                                  1                                                                                              \n",
       "7                                                  6                                                                                              \n",
       "8                                                  4                                                                                              \n",
       "9                                                  5                                                                                              \n",
       "\n",
       "   ...         Unnamed: 28       Which character shot first?  \\\n",
       "0  ...                Yoda                          Response   \n",
       "1  ...      Very favorably  I don't understand this question   \n",
       "2  ...                 NaN                               NaN   \n",
       "3  ...    Unfamiliar (N/A)  I don't understand this question   \n",
       "4  ...      Very favorably  I don't understand this question   \n",
       "5  ...  Somewhat favorably                            Greedo   \n",
       "6  ...      Very favorably                               Han   \n",
       "7  ...      Very favorably                               Han   \n",
       "8  ...      Very favorably                               Han   \n",
       "9  ...  Somewhat favorably                               Han   \n",
       "\n",
       "  Are you familiar with the Expanded Universe?  \\\n",
       "0                                     Response   \n",
       "1                                          Yes   \n",
       "2                                          NaN   \n",
       "3                                           No   \n",
       "4                                           No   \n",
       "5                                          Yes   \n",
       "6                                          Yes   \n",
       "7                                          Yes   \n",
       "8                                           No   \n",
       "9                                           No   \n",
       "\n",
       "  Do you consider yourself to be a fan of the Expanded Universe?æ  \\\n",
       "0                                           Response                 \n",
       "1                                                 No                 \n",
       "2                                                NaN                 \n",
       "3                                                NaN                 \n",
       "4                                                NaN                 \n",
       "5                                                 No                 \n",
       "6                                                 No                 \n",
       "7                                                 No                 \n",
       "8                                                NaN                 \n",
       "9                                                NaN                 \n",
       "\n",
       "  Do you consider yourself to be a fan of the Star Trek franchise?    Gender  \\\n",
       "0                                           Response                Response   \n",
       "1                                                 No                    Male   \n",
       "2                                                Yes                    Male   \n",
       "3                                                 No                    Male   \n",
       "4                                                Yes                    Male   \n",
       "5                                                 No                    Male   \n",
       "6                                                Yes                    Male   \n",
       "7                                                 No                    Male   \n",
       "8                                                Yes                    Male   \n",
       "9                                                 No                    Male   \n",
       "\n",
       "        Age     Household Income                         Education  \\\n",
       "0  Response             Response                          Response   \n",
       "1     18-29                  NaN                High school degree   \n",
       "2     18-29         $0 - $24,999                   Bachelor degree   \n",
       "3     18-29         $0 - $24,999                High school degree   \n",
       "4     18-29  $100,000 - $149,999  Some college or Associate degree   \n",
       "5     18-29  $100,000 - $149,999  Some college or Associate degree   \n",
       "6     18-29    $25,000 - $49,999                   Bachelor degree   \n",
       "7     18-29                  NaN                High school degree   \n",
       "8     18-29                  NaN                High school degree   \n",
       "9     18-29         $0 - $24,999  Some college or Associate degree   \n",
       "\n",
       "  Location (Census Region)  \n",
       "0                 Response  \n",
       "1           South Atlantic  \n",
       "2       West South Central  \n",
       "3       West North Central  \n",
       "4       West North Central  \n",
       "5       West North Central  \n",
       "6          Middle Atlantic  \n",
       "7       East North Central  \n",
       "8           South Atlantic  \n",
       "9           South Atlantic  \n",
       "\n",
       "[10 rows x 38 columns]"
      ]
     },
     "execution_count": 1,
     "metadata": {},
     "output_type": "execute_result"
    }
   ],
   "source": [
    "import numpy as np\n",
    "import pandas as pd\n",
    "import matplotlib.pyplot as plt\n",
    "\n",
    "star_wars = pd.read_csv('../Data/StarWars.csv', encoding='ISO-8859-1')\n",
    "star_wars.head(10)"
   ]
  },
  {
   "cell_type": "markdown",
   "metadata": {},
   "source": [
    "The first line does not contain data, but only clarifies the meanings of some columns.\n",
    "\n",
    "Number and types of objects in each column:"
   ]
  },
  {
   "cell_type": "code",
   "execution_count": 2,
   "metadata": {},
   "outputs": [
    {
     "name": "stdout",
     "output_type": "stream",
     "text": [
      "<class 'pandas.core.frame.DataFrame'>\n",
      "RangeIndex: 1187 entries, 0 to 1186\n",
      "Data columns (total 38 columns):\n",
      "RespondentID                                                                                                                                     1186 non-null float64\n",
      "Have you seen any of the 6 films in the Star Wars franchise?                                                                                     1187 non-null object\n",
      "Do you consider yourself to be a fan of the Star Wars film franchise?                                                                            837 non-null object\n",
      "Which of the following Star Wars films have you seen? Please select all that apply.                                                              674 non-null object\n",
      "Unnamed: 4                                                                                                                                       572 non-null object\n",
      "Unnamed: 5                                                                                                                                       551 non-null object\n",
      "Unnamed: 6                                                                                                                                       608 non-null object\n",
      "Unnamed: 7                                                                                                                                       759 non-null object\n",
      "Unnamed: 8                                                                                                                                       739 non-null object\n",
      "Please rank the Star Wars films in order of preference with 1 being your favorite film in the franchise and 6 being your least favorite film.    836 non-null object\n",
      "Unnamed: 10                                                                                                                                      837 non-null object\n",
      "Unnamed: 11                                                                                                                                      836 non-null object\n",
      "Unnamed: 12                                                                                                                                      837 non-null object\n",
      "Unnamed: 13                                                                                                                                      837 non-null object\n",
      "Unnamed: 14                                                                                                                                      837 non-null object\n",
      "Please state whether you view the following characters favorably, unfavorably, or are unfamiliar with him/her.                                   830 non-null object\n",
      "Unnamed: 16                                                                                                                                      832 non-null object\n",
      "Unnamed: 17                                                                                                                                      832 non-null object\n",
      "Unnamed: 18                                                                                                                                      824 non-null object\n",
      "Unnamed: 19                                                                                                                                      826 non-null object\n",
      "Unnamed: 20                                                                                                                                      815 non-null object\n",
      "Unnamed: 21                                                                                                                                      827 non-null object\n",
      "Unnamed: 22                                                                                                                                      821 non-null object\n",
      "Unnamed: 23                                                                                                                                      813 non-null object\n",
      "Unnamed: 24                                                                                                                                      828 non-null object\n",
      "Unnamed: 25                                                                                                                                      831 non-null object\n",
      "Unnamed: 26                                                                                                                                      822 non-null object\n",
      "Unnamed: 27                                                                                                                                      815 non-null object\n",
      "Unnamed: 28                                                                                                                                      827 non-null object\n",
      "Which character shot first?                                                                                                                      829 non-null object\n",
      "Are you familiar with the Expanded Universe?                                                                                                     829 non-null object\n",
      "Do you consider yourself to be a fan of the Expanded Universe?æ                                                                                 214 non-null object\n",
      "Do you consider yourself to be a fan of the Star Trek franchise?                                                                                 1069 non-null object\n",
      "Gender                                                                                                                                           1047 non-null object\n",
      "Age                                                                                                                                              1047 non-null object\n",
      "Household Income                                                                                                                                 859 non-null object\n",
      "Education                                                                                                                                        1037 non-null object\n",
      "Location (Census Region)                                                                                                                         1044 non-null object\n",
      "dtypes: float64(1), object(37)\n",
      "memory usage: 352.5+ KB\n"
     ]
    }
   ],
   "source": [
    "star_wars.info()"
   ]
  },
  {
   "cell_type": "markdown",
   "metadata": {},
   "source": [
    "There are 38 columns. \n",
    "All columns seem to contain strings except the first (`RespondentID`), which contains floats. \n",
    "All columns except the second one (`Have you seen any of the 6 films in the Star Wars franchise?`) have at least one null value. \n",
    "The first column has only one null value, on the first row; the others have more. \n",
    "There also seems to be two useless characters at the end of the column name `Do you consider yourself to be a fan of the Expanded Universe?æ`.\n",
    "\n",
    "Let us rename some columns using shorter and/or more informative titles and delete the first row. \n",
    "Columns 15 to 28 are renamed using the information in the first row."
   ]
  },
  {
   "cell_type": "code",
   "execution_count": 3,
   "metadata": {},
   "outputs": [
    {
     "name": "stdout",
     "output_type": "stream",
     "text": [
      "<class 'pandas.core.frame.DataFrame'>\n",
      "RangeIndex: 1186 entries, 1 to 1186\n",
      "Data columns (total 38 columns):\n",
      "RespondentID            1186 non-null float64\n",
      "seen_any                1186 non-null object\n",
      "fan                     836 non-null object\n",
      "seen_1                  673 non-null object\n",
      "seen_2                  571 non-null object\n",
      "seen_3                  550 non-null object\n",
      "seen_4                  607 non-null object\n",
      "seen_5                  758 non-null object\n",
      "seen_6                  738 non-null object\n",
      "order_pref_1            835 non-null object\n",
      "order_pref_2            836 non-null object\n",
      "order_pref_3            835 non-null object\n",
      "order_pref_4            836 non-null object\n",
      "order_pref_5            836 non-null object\n",
      "order_pref_6            836 non-null object\n",
      "Han Solo                829 non-null object\n",
      "Luke Skywalker          831 non-null object\n",
      "Princess Leia Organa    831 non-null object\n",
      "Anakin Skywalker        823 non-null object\n",
      "Obi Wan Kenobi          825 non-null object\n",
      "Emperor Palpatine       814 non-null object\n",
      "Darth Vader             826 non-null object\n",
      "Lando Calrissian        820 non-null object\n",
      "Boba Fett               812 non-null object\n",
      "C-3P0                   827 non-null object\n",
      "R2 D2                   830 non-null object\n",
      "Jar Jar Binks           821 non-null object\n",
      "Padme Amidala           814 non-null object\n",
      "Yoda                    826 non-null object\n",
      "shot_first              828 non-null object\n",
      "fam_exp_universe        828 non-null object\n",
      "fan_exp_universe        213 non-null object\n",
      "fan_star_treck          1068 non-null object\n",
      "Gender                  1046 non-null object\n",
      "Age                     1046 non-null object\n",
      "Income                  858 non-null object\n",
      "Education               1036 non-null object\n",
      "Location                1043 non-null object\n",
      "dtypes: float64(1), object(37)\n",
      "memory usage: 352.2+ KB\n"
     ]
    }
   ],
   "source": [
    "dict_replace_cols = {\n",
    "    'Have you seen any of the 6 films in the Star Wars franchise?': 'seen_any',\n",
    "    'Do you consider yourself to be a fan of the Star Wars film franchise?': 'fan',\n",
    "    'Which of the following Star Wars films have you seen? Please select all that apply.': 'seen_1',\n",
    "    'Unnamed: 4': 'seen_2',\n",
    "    'Unnamed: 5': 'seen_3',\n",
    "    'Unnamed: 6': 'seen_4',\n",
    "    'Unnamed: 7': 'seen_5',\n",
    "    'Unnamed: 8': 'seen_6',\n",
    "    'Please rank the Star Wars films in order of preference with 1 being your favorite film in the franchise and 6 being your least favorite film.': 'order_pref_1',\n",
    "    'Unnamed: 10': 'order_pref_2',\n",
    "    'Unnamed: 11': 'order_pref_3',\n",
    "    'Unnamed: 12': 'order_pref_4',\n",
    "    'Unnamed: 13': 'order_pref_5',\n",
    "    'Unnamed: 14': 'order_pref_6',\n",
    "    'Which character shot first?': 'shot_first',\n",
    "    'Are you familiar with the Expanded Universe?': 'fam_exp_universe',\n",
    "    'Do you consider yourself to be a fan of the Expanded Universe?æ': 'fan_exp_universe',\n",
    "    'Do you consider yourself to be a fan of the Star Trek franchise?': 'fan_star_treck',\n",
    "    'Household Income': 'Income',\n",
    "    'Location (Census Region)': 'Location'\n",
    "}\n",
    "star_wars.rename(columns = dict_replace_cols, inplace=True)\n",
    "\n",
    "cols_names = list(star_wars.columns)\n",
    "for i in list(range(15,29)):\n",
    "    cols_names[i] = star_wars.iloc[0,i]\n",
    "star_wars.columns = cols_names\n",
    "\n",
    "star_wars = star_wars.iloc[1:]\n",
    "\n",
    "star_wars.info()"
   ]
  },
  {
   "cell_type": "markdown",
   "metadata": {},
   "source": [
    "Convert the values in the first column to integers: "
   ]
  },
  {
   "cell_type": "code",
   "execution_count": 4,
   "metadata": {},
   "outputs": [],
   "source": [
    "star_wars.iloc[:,0] = star_wars.iloc[:,0].astype(int)"
   ]
  },
  {
   "cell_type": "markdown",
   "metadata": {},
   "source": [
    "The titles of columns 1, 2, 31, 32, and 33 (with the convention that the first column has index 0) are yes/no questions. \n",
    "These columns contain the values 'Yes' and 'No'. \n",
    "To ease the analysis, we convert them to the boolean values `True` and `False`."
   ]
  },
  {
   "cell_type": "code",
   "execution_count": 5,
   "metadata": {},
   "outputs": [],
   "source": [
    "yes_no_dict = {'Yes': True, 'No': False}\n",
    "column_indices = [1, 2, 30, 31, 32]\n",
    "for col in column_indices:\n",
    "    star_wars.iloc[:,col] = star_wars.iloc[:,col].map(yes_no_dict)"
   ]
  },
  {
   "cell_type": "code",
   "execution_count": 6,
   "metadata": {},
   "outputs": [
    {
     "data": {
      "text/html": [
       "<div>\n",
       "<style scoped>\n",
       "    .dataframe tbody tr th:only-of-type {\n",
       "        vertical-align: middle;\n",
       "    }\n",
       "\n",
       "    .dataframe tbody tr th {\n",
       "        vertical-align: top;\n",
       "    }\n",
       "\n",
       "    .dataframe thead th {\n",
       "        text-align: right;\n",
       "    }\n",
       "</style>\n",
       "<table border=\"1\" class=\"dataframe\">\n",
       "  <thead>\n",
       "    <tr style=\"text-align: right;\">\n",
       "      <th></th>\n",
       "      <th>RespondentID</th>\n",
       "      <th>seen_any</th>\n",
       "      <th>fan</th>\n",
       "      <th>seen_1</th>\n",
       "      <th>seen_2</th>\n",
       "      <th>seen_3</th>\n",
       "      <th>seen_4</th>\n",
       "      <th>seen_5</th>\n",
       "      <th>seen_6</th>\n",
       "      <th>order_pref_1</th>\n",
       "      <th>...</th>\n",
       "      <th>Yoda</th>\n",
       "      <th>shot_first</th>\n",
       "      <th>fam_exp_universe</th>\n",
       "      <th>fan_exp_universe</th>\n",
       "      <th>fan_star_treck</th>\n",
       "      <th>Gender</th>\n",
       "      <th>Age</th>\n",
       "      <th>Income</th>\n",
       "      <th>Education</th>\n",
       "      <th>Location</th>\n",
       "    </tr>\n",
       "  </thead>\n",
       "  <tbody>\n",
       "    <tr>\n",
       "      <th>1</th>\n",
       "      <td>3292879998</td>\n",
       "      <td>True</td>\n",
       "      <td>True</td>\n",
       "      <td>Star Wars: Episode I  The Phantom Menace</td>\n",
       "      <td>Star Wars: Episode II  Attack of the Clones</td>\n",
       "      <td>Star Wars: Episode III  Revenge of the Sith</td>\n",
       "      <td>Star Wars: Episode IV  A New Hope</td>\n",
       "      <td>Star Wars: Episode V The Empire Strikes Back</td>\n",
       "      <td>Star Wars: Episode VI Return of the Jedi</td>\n",
       "      <td>3</td>\n",
       "      <td>...</td>\n",
       "      <td>Very favorably</td>\n",
       "      <td>I don't understand this question</td>\n",
       "      <td>True</td>\n",
       "      <td>False</td>\n",
       "      <td>False</td>\n",
       "      <td>Male</td>\n",
       "      <td>18-29</td>\n",
       "      <td>NaN</td>\n",
       "      <td>High school degree</td>\n",
       "      <td>South Atlantic</td>\n",
       "    </tr>\n",
       "    <tr>\n",
       "      <th>2</th>\n",
       "      <td>3292879538</td>\n",
       "      <td>False</td>\n",
       "      <td>NaN</td>\n",
       "      <td>NaN</td>\n",
       "      <td>NaN</td>\n",
       "      <td>NaN</td>\n",
       "      <td>NaN</td>\n",
       "      <td>NaN</td>\n",
       "      <td>NaN</td>\n",
       "      <td>NaN</td>\n",
       "      <td>...</td>\n",
       "      <td>NaN</td>\n",
       "      <td>NaN</td>\n",
       "      <td>NaN</td>\n",
       "      <td>NaN</td>\n",
       "      <td>True</td>\n",
       "      <td>Male</td>\n",
       "      <td>18-29</td>\n",
       "      <td>$0 - $24,999</td>\n",
       "      <td>Bachelor degree</td>\n",
       "      <td>West South Central</td>\n",
       "    </tr>\n",
       "    <tr>\n",
       "      <th>3</th>\n",
       "      <td>3292765271</td>\n",
       "      <td>True</td>\n",
       "      <td>False</td>\n",
       "      <td>Star Wars: Episode I  The Phantom Menace</td>\n",
       "      <td>Star Wars: Episode II  Attack of the Clones</td>\n",
       "      <td>Star Wars: Episode III  Revenge of the Sith</td>\n",
       "      <td>NaN</td>\n",
       "      <td>NaN</td>\n",
       "      <td>NaN</td>\n",
       "      <td>1</td>\n",
       "      <td>...</td>\n",
       "      <td>Unfamiliar (N/A)</td>\n",
       "      <td>I don't understand this question</td>\n",
       "      <td>False</td>\n",
       "      <td>NaN</td>\n",
       "      <td>False</td>\n",
       "      <td>Male</td>\n",
       "      <td>18-29</td>\n",
       "      <td>$0 - $24,999</td>\n",
       "      <td>High school degree</td>\n",
       "      <td>West North Central</td>\n",
       "    </tr>\n",
       "    <tr>\n",
       "      <th>4</th>\n",
       "      <td>3292763116</td>\n",
       "      <td>True</td>\n",
       "      <td>True</td>\n",
       "      <td>Star Wars: Episode I  The Phantom Menace</td>\n",
       "      <td>Star Wars: Episode II  Attack of the Clones</td>\n",
       "      <td>Star Wars: Episode III  Revenge of the Sith</td>\n",
       "      <td>Star Wars: Episode IV  A New Hope</td>\n",
       "      <td>Star Wars: Episode V The Empire Strikes Back</td>\n",
       "      <td>Star Wars: Episode VI Return of the Jedi</td>\n",
       "      <td>5</td>\n",
       "      <td>...</td>\n",
       "      <td>Very favorably</td>\n",
       "      <td>I don't understand this question</td>\n",
       "      <td>False</td>\n",
       "      <td>NaN</td>\n",
       "      <td>True</td>\n",
       "      <td>Male</td>\n",
       "      <td>18-29</td>\n",
       "      <td>$100,000 - $149,999</td>\n",
       "      <td>Some college or Associate degree</td>\n",
       "      <td>West North Central</td>\n",
       "    </tr>\n",
       "    <tr>\n",
       "      <th>5</th>\n",
       "      <td>3292731220</td>\n",
       "      <td>True</td>\n",
       "      <td>True</td>\n",
       "      <td>Star Wars: Episode I  The Phantom Menace</td>\n",
       "      <td>Star Wars: Episode II  Attack of the Clones</td>\n",
       "      <td>Star Wars: Episode III  Revenge of the Sith</td>\n",
       "      <td>Star Wars: Episode IV  A New Hope</td>\n",
       "      <td>Star Wars: Episode V The Empire Strikes Back</td>\n",
       "      <td>Star Wars: Episode VI Return of the Jedi</td>\n",
       "      <td>5</td>\n",
       "      <td>...</td>\n",
       "      <td>Somewhat favorably</td>\n",
       "      <td>Greedo</td>\n",
       "      <td>True</td>\n",
       "      <td>False</td>\n",
       "      <td>False</td>\n",
       "      <td>Male</td>\n",
       "      <td>18-29</td>\n",
       "      <td>$100,000 - $149,999</td>\n",
       "      <td>Some college or Associate degree</td>\n",
       "      <td>West North Central</td>\n",
       "    </tr>\n",
       "  </tbody>\n",
       "</table>\n",
       "<p>5 rows × 38 columns</p>\n",
       "</div>"
      ],
      "text/plain": [
       "   RespondentID  seen_any    fan                                    seen_1  \\\n",
       "1    3292879998      True   True  Star Wars: Episode I  The Phantom Menace   \n",
       "2    3292879538     False    NaN                                       NaN   \n",
       "3    3292765271      True  False  Star Wars: Episode I  The Phantom Menace   \n",
       "4    3292763116      True   True  Star Wars: Episode I  The Phantom Menace   \n",
       "5    3292731220      True   True  Star Wars: Episode I  The Phantom Menace   \n",
       "\n",
       "                                        seen_2  \\\n",
       "1  Star Wars: Episode II  Attack of the Clones   \n",
       "2                                          NaN   \n",
       "3  Star Wars: Episode II  Attack of the Clones   \n",
       "4  Star Wars: Episode II  Attack of the Clones   \n",
       "5  Star Wars: Episode II  Attack of the Clones   \n",
       "\n",
       "                                        seen_3  \\\n",
       "1  Star Wars: Episode III  Revenge of the Sith   \n",
       "2                                          NaN   \n",
       "3  Star Wars: Episode III  Revenge of the Sith   \n",
       "4  Star Wars: Episode III  Revenge of the Sith   \n",
       "5  Star Wars: Episode III  Revenge of the Sith   \n",
       "\n",
       "                              seen_4  \\\n",
       "1  Star Wars: Episode IV  A New Hope   \n",
       "2                                NaN   \n",
       "3                                NaN   \n",
       "4  Star Wars: Episode IV  A New Hope   \n",
       "5  Star Wars: Episode IV  A New Hope   \n",
       "\n",
       "                                         seen_5  \\\n",
       "1  Star Wars: Episode V The Empire Strikes Back   \n",
       "2                                           NaN   \n",
       "3                                           NaN   \n",
       "4  Star Wars: Episode V The Empire Strikes Back   \n",
       "5  Star Wars: Episode V The Empire Strikes Back   \n",
       "\n",
       "                                     seen_6 order_pref_1  ...  \\\n",
       "1  Star Wars: Episode VI Return of the Jedi            3  ...   \n",
       "2                                       NaN          NaN  ...   \n",
       "3                                       NaN            1  ...   \n",
       "4  Star Wars: Episode VI Return of the Jedi            5  ...   \n",
       "5  Star Wars: Episode VI Return of the Jedi            5  ...   \n",
       "\n",
       "                 Yoda                        shot_first fam_exp_universe  \\\n",
       "1      Very favorably  I don't understand this question             True   \n",
       "2                 NaN                               NaN              NaN   \n",
       "3    Unfamiliar (N/A)  I don't understand this question            False   \n",
       "4      Very favorably  I don't understand this question            False   \n",
       "5  Somewhat favorably                            Greedo             True   \n",
       "\n",
       "  fan_exp_universe fan_star_treck Gender    Age               Income  \\\n",
       "1            False          False   Male  18-29                  NaN   \n",
       "2              NaN           True   Male  18-29         $0 - $24,999   \n",
       "3              NaN          False   Male  18-29         $0 - $24,999   \n",
       "4              NaN           True   Male  18-29  $100,000 - $149,999   \n",
       "5            False          False   Male  18-29  $100,000 - $149,999   \n",
       "\n",
       "                          Education            Location  \n",
       "1                High school degree      South Atlantic  \n",
       "2                   Bachelor degree  West South Central  \n",
       "3                High school degree  West North Central  \n",
       "4  Some college or Associate degree  West North Central  \n",
       "5  Some college or Associate degree  West North Central  \n",
       "\n",
       "[5 rows x 38 columns]"
      ]
     },
     "execution_count": 6,
     "metadata": {},
     "output_type": "execute_result"
    }
   ],
   "source": [
    "star_wars.head()"
   ]
  },
  {
   "cell_type": "markdown",
   "metadata": {},
   "source": [
    "Convert columns 2 to 8 to bool values: "
   ]
  },
  {
   "cell_type": "code",
   "execution_count": 7,
   "metadata": {},
   "outputs": [],
   "source": [
    "def is_string(val):\n",
    "    return type(val) == str\n",
    "\n",
    "for i in range(3,9):\n",
    "    star_wars.iloc[:,i] = star_wars.iloc[:,i].map(is_string)"
   ]
  },
  {
   "cell_type": "markdown",
   "metadata": {},
   "source": [
    "Convert the orders of preference to numerical values:"
   ]
  },
  {
   "cell_type": "code",
   "execution_count": 8,
   "metadata": {},
   "outputs": [],
   "source": [
    "star_wars[star_wars.columns[9:15]] = star_wars[star_wars.columns[9:15]].astype(float)"
   ]
  },
  {
   "cell_type": "code",
   "execution_count": 9,
   "metadata": {},
   "outputs": [
    {
     "data": {
      "text/html": [
       "<div>\n",
       "<style scoped>\n",
       "    .dataframe tbody tr th:only-of-type {\n",
       "        vertical-align: middle;\n",
       "    }\n",
       "\n",
       "    .dataframe tbody tr th {\n",
       "        vertical-align: top;\n",
       "    }\n",
       "\n",
       "    .dataframe thead th {\n",
       "        text-align: right;\n",
       "    }\n",
       "</style>\n",
       "<table border=\"1\" class=\"dataframe\">\n",
       "  <thead>\n",
       "    <tr style=\"text-align: right;\">\n",
       "      <th></th>\n",
       "      <th>RespondentID</th>\n",
       "      <th>seen_any</th>\n",
       "      <th>fan</th>\n",
       "      <th>seen_1</th>\n",
       "      <th>seen_2</th>\n",
       "      <th>seen_3</th>\n",
       "      <th>seen_4</th>\n",
       "      <th>seen_5</th>\n",
       "      <th>seen_6</th>\n",
       "      <th>order_pref_1</th>\n",
       "      <th>...</th>\n",
       "      <th>Yoda</th>\n",
       "      <th>shot_first</th>\n",
       "      <th>fam_exp_universe</th>\n",
       "      <th>fan_exp_universe</th>\n",
       "      <th>fan_star_treck</th>\n",
       "      <th>Gender</th>\n",
       "      <th>Age</th>\n",
       "      <th>Income</th>\n",
       "      <th>Education</th>\n",
       "      <th>Location</th>\n",
       "    </tr>\n",
       "  </thead>\n",
       "  <tbody>\n",
       "    <tr>\n",
       "      <th>1</th>\n",
       "      <td>3292879998</td>\n",
       "      <td>True</td>\n",
       "      <td>True</td>\n",
       "      <td>True</td>\n",
       "      <td>True</td>\n",
       "      <td>True</td>\n",
       "      <td>True</td>\n",
       "      <td>True</td>\n",
       "      <td>True</td>\n",
       "      <td>3.0</td>\n",
       "      <td>...</td>\n",
       "      <td>Very favorably</td>\n",
       "      <td>I don't understand this question</td>\n",
       "      <td>True</td>\n",
       "      <td>False</td>\n",
       "      <td>False</td>\n",
       "      <td>Male</td>\n",
       "      <td>18-29</td>\n",
       "      <td>NaN</td>\n",
       "      <td>High school degree</td>\n",
       "      <td>South Atlantic</td>\n",
       "    </tr>\n",
       "    <tr>\n",
       "      <th>2</th>\n",
       "      <td>3292879538</td>\n",
       "      <td>False</td>\n",
       "      <td>NaN</td>\n",
       "      <td>False</td>\n",
       "      <td>False</td>\n",
       "      <td>False</td>\n",
       "      <td>False</td>\n",
       "      <td>False</td>\n",
       "      <td>False</td>\n",
       "      <td>NaN</td>\n",
       "      <td>...</td>\n",
       "      <td>NaN</td>\n",
       "      <td>NaN</td>\n",
       "      <td>NaN</td>\n",
       "      <td>NaN</td>\n",
       "      <td>True</td>\n",
       "      <td>Male</td>\n",
       "      <td>18-29</td>\n",
       "      <td>$0 - $24,999</td>\n",
       "      <td>Bachelor degree</td>\n",
       "      <td>West South Central</td>\n",
       "    </tr>\n",
       "    <tr>\n",
       "      <th>3</th>\n",
       "      <td>3292765271</td>\n",
       "      <td>True</td>\n",
       "      <td>False</td>\n",
       "      <td>True</td>\n",
       "      <td>True</td>\n",
       "      <td>True</td>\n",
       "      <td>False</td>\n",
       "      <td>False</td>\n",
       "      <td>False</td>\n",
       "      <td>1.0</td>\n",
       "      <td>...</td>\n",
       "      <td>Unfamiliar (N/A)</td>\n",
       "      <td>I don't understand this question</td>\n",
       "      <td>False</td>\n",
       "      <td>NaN</td>\n",
       "      <td>False</td>\n",
       "      <td>Male</td>\n",
       "      <td>18-29</td>\n",
       "      <td>$0 - $24,999</td>\n",
       "      <td>High school degree</td>\n",
       "      <td>West North Central</td>\n",
       "    </tr>\n",
       "    <tr>\n",
       "      <th>4</th>\n",
       "      <td>3292763116</td>\n",
       "      <td>True</td>\n",
       "      <td>True</td>\n",
       "      <td>True</td>\n",
       "      <td>True</td>\n",
       "      <td>True</td>\n",
       "      <td>True</td>\n",
       "      <td>True</td>\n",
       "      <td>True</td>\n",
       "      <td>5.0</td>\n",
       "      <td>...</td>\n",
       "      <td>Very favorably</td>\n",
       "      <td>I don't understand this question</td>\n",
       "      <td>False</td>\n",
       "      <td>NaN</td>\n",
       "      <td>True</td>\n",
       "      <td>Male</td>\n",
       "      <td>18-29</td>\n",
       "      <td>$100,000 - $149,999</td>\n",
       "      <td>Some college or Associate degree</td>\n",
       "      <td>West North Central</td>\n",
       "    </tr>\n",
       "    <tr>\n",
       "      <th>5</th>\n",
       "      <td>3292731220</td>\n",
       "      <td>True</td>\n",
       "      <td>True</td>\n",
       "      <td>True</td>\n",
       "      <td>True</td>\n",
       "      <td>True</td>\n",
       "      <td>True</td>\n",
       "      <td>True</td>\n",
       "      <td>True</td>\n",
       "      <td>5.0</td>\n",
       "      <td>...</td>\n",
       "      <td>Somewhat favorably</td>\n",
       "      <td>Greedo</td>\n",
       "      <td>True</td>\n",
       "      <td>False</td>\n",
       "      <td>False</td>\n",
       "      <td>Male</td>\n",
       "      <td>18-29</td>\n",
       "      <td>$100,000 - $149,999</td>\n",
       "      <td>Some college or Associate degree</td>\n",
       "      <td>West North Central</td>\n",
       "    </tr>\n",
       "  </tbody>\n",
       "</table>\n",
       "<p>5 rows × 38 columns</p>\n",
       "</div>"
      ],
      "text/plain": [
       "   RespondentID  seen_any    fan  seen_1  seen_2  seen_3  seen_4  seen_5  \\\n",
       "1    3292879998      True   True    True    True    True    True    True   \n",
       "2    3292879538     False    NaN   False   False   False   False   False   \n",
       "3    3292765271      True  False    True    True    True   False   False   \n",
       "4    3292763116      True   True    True    True    True    True    True   \n",
       "5    3292731220      True   True    True    True    True    True    True   \n",
       "\n",
       "   seen_6  order_pref_1  ...                Yoda  \\\n",
       "1    True           3.0  ...      Very favorably   \n",
       "2   False           NaN  ...                 NaN   \n",
       "3   False           1.0  ...    Unfamiliar (N/A)   \n",
       "4    True           5.0  ...      Very favorably   \n",
       "5    True           5.0  ...  Somewhat favorably   \n",
       "\n",
       "                         shot_first  fam_exp_universe  fan_exp_universe  \\\n",
       "1  I don't understand this question              True             False   \n",
       "2                               NaN               NaN               NaN   \n",
       "3  I don't understand this question             False               NaN   \n",
       "4  I don't understand this question             False               NaN   \n",
       "5                            Greedo              True             False   \n",
       "\n",
       "   fan_star_treck Gender    Age               Income  \\\n",
       "1           False   Male  18-29                  NaN   \n",
       "2            True   Male  18-29         $0 - $24,999   \n",
       "3           False   Male  18-29         $0 - $24,999   \n",
       "4            True   Male  18-29  $100,000 - $149,999   \n",
       "5           False   Male  18-29  $100,000 - $149,999   \n",
       "\n",
       "                          Education            Location  \n",
       "1                High school degree      South Atlantic  \n",
       "2                   Bachelor degree  West South Central  \n",
       "3                High school degree  West North Central  \n",
       "4  Some college or Associate degree  West North Central  \n",
       "5  Some college or Associate degree  West North Central  \n",
       "\n",
       "[5 rows x 38 columns]"
      ]
     },
     "execution_count": 9,
     "metadata": {},
     "output_type": "execute_result"
    }
   ],
   "source": [
    "star_wars.head()"
   ]
  },
  {
   "cell_type": "markdown",
   "metadata": {},
   "source": [
    "## Analysis: best- and worst-liked movies\n",
    "\n",
    "As a first indication of how much each movie is liked, we show the average ranking for each of them. \n",
    "The error bars show one standard error on each side of the average."
   ]
  },
  {
   "cell_type": "code",
   "execution_count": 10,
   "metadata": {},
   "outputs": [
    {
     "data": {
      "image/png": "[encoded data removed]",
      "text/plain": [
       "<Figure size 432x288 with 1 Axes>"
      ]
     },
     "metadata": {
      "needs_background": "light"
     },
     "output_type": "display_data"
    }
   ],
   "source": [
    "ave_rankings = star_wars.iloc[:,9:15].apply(np.mean)\n",
    "ste_rankings = star_wars.iloc[:,9:15].apply(np.std) / np.sqrt(star_wars.iloc[:,9:15].count())\n",
    "ave_rankings.index = range(1,7)\n",
    "ave_rankings.plot.bar(yerr = list(ste_rankings), rot = 0)\n",
    "plt.xlabel('movie')\n",
    "plt.ylabel('average ranking')\n",
    "plt.show()"
   ]
  },
  {
   "cell_type": "markdown",
   "metadata": {},
   "source": [
    "The fifth episode has the best ranking by a statistically significant margin. \n",
    "The third episode has the worst ranking by a statistically significant margin. \n",
    "\n",
    "Let us now shos the number of views."
   ]
  },
  {
   "cell_type": "code",
   "execution_count": 11,
   "metadata": {},
   "outputs": [
    {
     "data": {
      "image/png": "[encoded data removed]",
      "text/plain": [
       "<Figure size 432x288 with 1 Axes>"
      ]
     },
     "metadata": {
      "needs_background": "light"
     },
     "output_type": "display_data"
    }
   ],
   "source": [
    "n_views = star_wars.iloc[:,3:9].apply(np.sum)\n",
    "n_views.index = range(1,7)\n",
    "n_views.plot.bar(rot = 0)\n",
    "plt.xlabel('movie')\n",
    "plt.ylabel('number of viewers')\n",
    "plt.show()"
   ]
  },
  {
   "cell_type": "markdown",
   "metadata": {},
   "source": [
    "The fifth episode has the largest number of views, while the third one has the lowest number of views. \n",
    "More generally, the number of respondents to have seen a movie showe a significant negative correlation with the ranking.\n",
    "\n",
    "Let us now perform the same analysis for different groups of respondents. \n",
    "We first define the functions `plot_rankings_by` and `plot_n_viewers_by` doing the bar plots given a column name used to distinguish respondents."
   ]
  },
  {
   "cell_type": "code",
   "execution_count": 12,
   "metadata": {},
   "outputs": [],
   "source": [
    "def plot_rankings_by(col_name, pos_legend=None):\n",
    "    groups = list(star_wars[col_name].dropna().unique())\n",
    "    data_ave = []\n",
    "    data_ste = []\n",
    "    for group in groups:\n",
    "        df = star_wars[star_wars[col_name] == group].iloc[:,9:15]\n",
    "        data_ave.append(list(df.apply(np.mean)))\n",
    "        data_ste.append(df.apply(np.std) / np.sqrt(df.count()))\n",
    "    df_ave = pd.DataFrame(data_ave).transpose()\n",
    "    df_ave.index = index=range(1,7)\n",
    "    df_ave.columns = groups\n",
    "    df_ave.plot.bar(yerr = data_ste, rot = 0)\n",
    "    plt.xlabel('movie')\n",
    "    plt.ylabel('average ranking')\n",
    "    if(pos_legend != None):\n",
    "        plt.legend(bbox_to_anchor=pos_legend)\n",
    "    plt.show()\n",
    "    \n",
    "def plot_n_viewers_by(col_name, pos_legend=None):\n",
    "    groups = list(star_wars[col_name].dropna().unique())\n",
    "    data_count = []\n",
    "    for group in groups:\n",
    "        df = star_wars[star_wars[col_name] == group].iloc[:,3:9]\n",
    "        data_count.append(list(df.apply(np.sum)))\n",
    "    df_ave = pd.DataFrame(data_count).transpose()\n",
    "    df_ave.index = index=range(1,7)\n",
    "    df_ave.columns = groups\n",
    "    df_ave.plot.bar(rot = 0)\n",
    "    plt.xlabel('movie')\n",
    "    plt.ylabel('number of viewers')\n",
    "    if(pos_legend != None):\n",
    "        plt.legend(bbox_to_anchor=pos_legend)\n",
    "    plt.show()"
   ]
  },
  {
   "cell_type": "markdown",
   "metadata": {},
   "source": [
    "We first divide the respondents by gender."
   ]
  },
  {
   "cell_type": "code",
   "execution_count": 13,
   "metadata": {},
   "outputs": [
    {
     "data": {
      "image/png": "[encoded data removed]",
      "text/plain": [
       "<Figure size 432x288 with 1 Axes>"
      ]
     },
     "metadata": {
      "needs_background": "light"
     },
     "output_type": "display_data"
    },
    {
     "data": {
      "image/png": "[encoded data removed]",
      "text/plain": [
       "<Figure size 432x288 with 1 Axes>"
      ]
     },
     "metadata": {
      "needs_background": "light"
     },
     "output_type": "display_data"
    }
   ],
   "source": [
    "plot_rankings_by('Gender')\n",
    "plot_n_viewers_by('Gender')"
   ]
  },
  {
   "cell_type": "markdown",
   "metadata": {},
   "source": [
    "We notice that:\n",
    "* On average, women have a better opinion than men of the first episode and a lower opinion of the fourth.\n",
    "* Each episode has more male than female viewers. The gap is largest for the third episode and smallest for the fifth. \n",
    "Interestingly, the fraction of women having seen an episode seems to decrease with its average ranking. \n",
    "\n",
    "Let us compute the correlation coeficient between these two variables, as well as with the number of viewers."
   ]
  },
  {
   "cell_type": "code",
   "execution_count": 14,
   "metadata": {},
   "outputs": [
    {
     "name": "stdout",
     "output_type": "stream",
     "text": [
      "correlation coefficient between the fraction of female viewers and average ranking: -0.8460698256979539\n",
      "correlation coefficient between the fraction of female viewers and number of viewers: 0.9942656122597326\n"
     ]
    }
   ],
   "source": [
    "n_female_viewers = star_wars[star_wars['Gender'] == 'Female'].iloc[:,3:9].apply(np.sum)\n",
    "n_male_viewers = star_wars[star_wars['Gender'] == 'Male'].iloc[:,3:9].apply(np.sum)\n",
    "frac_female_viewers = n_female_viewers / (n_female_viewers + n_male_viewers)\n",
    "\n",
    "print('correlation coefficient between the fraction of female viewers and average ranking: {}'.format(np.corrcoef(list(frac_female_viewers), list(ave_rankings))[0][1]))\n",
    "print('correlation coefficient between the fraction of female viewers and number of viewers: {}'.format(np.corrcoef(list(frac_female_viewers), list(n_views))[0][1]))"
   ]
  },
  {
   "cell_type": "markdown",
   "metadata": {},
   "source": [
    "*There is a strong negative correlation between the fraction of female viewers and average  ranking, and a very strong positive correlation between the fraction of female viewers and total number of viewers.*\n",
    "\n",
    "Let us now distinguish between viewers depending on whether they identify as fans of the tar Wars franchise."
   ]
  },
  {
   "cell_type": "code",
   "execution_count": 15,
   "metadata": {},
   "outputs": [
    {
     "data": {
      "image/png": "[encoded data removed]",
      "text/plain": [
       "<Figure size 432x288 with 1 Axes>"
      ]
     },
     "metadata": {
      "needs_background": "light"
     },
     "output_type": "display_data"
    },
    {
     "data": {
      "image/png": "[encoded data removed]",
      "text/plain": [
       "<Figure size 432x288 with 1 Axes>"
      ]
     },
     "metadata": {
      "needs_background": "light"
     },
     "output_type": "display_data"
    }
   ],
   "source": [
    "plot_rankings_by('fan')\n",
    "plot_n_viewers_by('fan')"
   ]
  },
  {
   "cell_type": "markdown",
   "metadata": {},
   "source": [
    "*Respondents who identify as fans have a significantly higher opinion of the oldest trilogy (episodes 4, 5, and 6) and a lower opinion of te newer one (episodes 1, 2, and 3).* \n",
    "For each episode, a large majority of respondents who has seen it identifies as a fan of the franchise.\n",
    "\n",
    "Finally, let us distinguish between viewers depending on whether they identify as fans of the Start Treck franchise."
   ]
  },
  {
   "cell_type": "code",
   "execution_count": 16,
   "metadata": {},
   "outputs": [
    {
     "data": {
      "image/png": "[encoded data removed]",
      "text/plain": [
       "<Figure size 432x288 with 1 Axes>"
      ]
     },
     "metadata": {
      "needs_background": "light"
     },
     "output_type": "display_data"
    },
    {
     "data": {
      "image/png": "[encoded data removed]",
      "text/plain": [
       "<Figure size 432x288 with 1 Axes>"
      ]
     },
     "metadata": {
      "needs_background": "light"
     },
     "output_type": "display_data"
    }
   ],
   "source": [
    "plot_rankings_by('fan_star_treck')\n",
    "plot_n_viewers_by('fan_star_treck')"
   ]
  },
  {
   "cell_type": "markdown",
   "metadata": {},
   "source": [
    "Viewers who identify as fans of the Star Treck franchise tend to also have a better opinion of the older trilogy and and lower opinion of the newer one. \n",
    "They also from a majority (although smaller than that of Star Wars self-identified fans) in the viewership of each episode. \n",
    "\n",
    "Let us do the same for the `Education` column:"
   ]
  },
  {
   "cell_type": "code",
   "execution_count": 17,
   "metadata": {},
   "outputs": [
    {
     "data": {
      "image/png": "[encoded data removed]",
      "text/plain": [
       "<Figure size 432x288 with 1 Axes>"
      ]
     },
     "metadata": {
      "needs_background": "light"
     },
     "output_type": "display_data"
    },
    {
     "data": {
      "image/png": "[encoded data removed]",
      "text/plain": [
       "<Figure size 432x288 with 1 Axes>"
      ]
     },
     "metadata": {
      "needs_background": "light"
     },
     "output_type": "display_data"
    }
   ],
   "source": [
    "plot_rankings_by('Education', (1.65, 1.))\n",
    "plot_n_viewers_by('Education', (1.65, 1.))"
   ]
  },
  {
   "cell_type": "markdown",
   "metadata": {},
   "source": [
    "It seems that viewers with less than high school degree have, on average, a better opinion of the fifth movie and a worse opinion of the first two. \n",
    "However, the difference are smaller than two standard deviations and thus not very significant.\n",
    "\n",
    "Finally, let us divide viewers according to their answer to the question “Who shot first” (referring to a scene in the 1977 version of episode IV which was edited in 1997, see [this Wikipedia page](https://en.wikipedia.org/wiki/Han_shot_first) for more information)."
   ]
  },
  {
   "cell_type": "code",
   "execution_count": 18,
   "metadata": {},
   "outputs": [
    {
     "data": {
      "image/png": "[encoded data removed]",
      "text/plain": [
       "<Figure size 432x288 with 1 Axes>"
      ]
     },
     "metadata": {
      "needs_background": "light"
     },
     "output_type": "display_data"
    },
    {
     "data": {
      "image/png": "[encoded data removed]",
      "text/plain": [
       "<Figure size 432x288 with 1 Axes>"
      ]
     },
     "metadata": {
      "needs_background": "light"
     },
     "output_type": "display_data"
    }
   ],
   "source": [
    "plot_rankings_by('shot_first', (1.65, 1.))\n",
    "plot_n_viewers_by('shot_first', (1.65, 1.))"
   ]
  },
  {
   "cell_type": "markdown",
   "metadata": {},
   "source": [
    "We first ntice that a plurality of viewers think that Han Solo shot first (in accordance with the 1977 version). \n",
    "These, and, to a lesser extent, viwers who think Greedo shot first (in accordance with the 1997 version) rate the omde trilogy higer than viewers who fo not understand the question. \n",
    "This seems to support the above observation that the older trilogy is especially popular among fans of the franchise, who probably pay more attention to details than non-fans.\n",
    "\n",
    "## Analysis: Best- and worst-liked characters\n",
    "\n",
    "We now would like to find the best- and worst-liked characters. \n",
    "To this end, we first need to replace the values in columns 15 to 28 by numbers. \n",
    "Let us see which values they contain: "
   ]
  },
  {
   "cell_type": "code",
   "execution_count": 19,
   "metadata": {},
   "outputs": [
    {
     "data": {
      "text/plain": [
       "Very favorably                                 5166\n",
       "Somewhat favorably                             2569\n",
       "Neither favorably nor unfavorably (neutral)    1647\n",
       "Unfamiliar (N/A)                                852\n",
       "Somewhat unfavorably                            654\n",
       "Very unfavorably                                641\n",
       "dtype: int64"
      ]
     },
     "execution_count": 19,
     "metadata": {},
     "output_type": "execute_result"
    }
   ],
   "source": [
    "first_col_char = 15\n",
    "last_col_char = 28\n",
    "pd.Series(np.concatenate(star_wars.iloc[:,first_col_char:last_col_char+1].values)).value_counts()"
   ]
  },
  {
   "cell_type": "markdown",
   "metadata": {},
   "source": [
    "We assign to each of these values a score: \n",
    "* “Very favorably” → +2\n",
    "* “Somewhat favorably” → +1\n",
    "* “Neither favorably nor unfavorably (neutral)” → 0\n",
    "* “Unfamiliar (N/A)” → 0\n",
    "* “Somewhat unfavorably” → -1\n",
    "* “Very unfavorably” → -2"
   ]
  },
  {
   "cell_type": "code",
   "execution_count": 20,
   "metadata": {},
   "outputs": [],
   "source": [
    "replacements = {\n",
    "    'Very favorably': 2,\n",
    "    'Somewhat favorably': 1, \n",
    "    'Neither favorably nor unfavorably (neutral)': 0, \n",
    "    'Unfamiliar (N/A)': 0,\n",
    "    'Somewhat unfavorably': -1,\n",
    "    'Very unfavorably': -2\n",
    "}\n",
    "for i in range(first_col_char, last_col_char+1):\n",
    "    star_wars.iloc[:,i].replace(replacements, inplace=True)"
   ]
  },
  {
   "cell_type": "markdown",
   "metadata": {},
   "source": [
    "We build two dictionaries `pop_char`with keys equal to character names and values equal to their average and the standard error: "
   ]
  },
  {
   "cell_type": "code",
   "execution_count": 21,
   "metadata": {},
   "outputs": [],
   "source": [
    "pop_char = {}\n",
    "for i in range(first_col_char, last_col_char+1):\n",
    "    pop_char[star_wars.columns[i]] = [\n",
    "        star_wars.iloc[:,i].mean(), # average\n",
    "        star_wars.iloc[:,i].std() / star_wars.iloc[:,i].count() # standard error\n",
    "    ]"
   ]
  },
  {
   "cell_type": "markdown",
   "metadata": {},
   "source": [
    "Let us plot the result: "
   ]
  },
  {
   "cell_type": "code",
   "execution_count": 22,
   "metadata": {},
   "outputs": [
    {
     "data": {
      "image/png": "[encoded data removed]",
      "text/plain": [
       "<Figure size 432x288 with 1 Axes>"
      ]
     },
     "metadata": {
      "needs_background": "light"
     },
     "output_type": "display_data"
    }
   ],
   "source": [
    "characters = pd.DataFrame.from_dict(pop_char, orient='index').sort_values(0, ascending=False) # dataframe containing the results\n",
    "characters.plot.bar(y=0, yerr=1, legend=False)\n",
    "plt.grid()\n",
    "plt.title('Average rating of Star Wars characters')\n",
    "plt.show()"
   ]
  },
  {
   "cell_type": "markdown",
   "metadata": {},
   "source": [
    "A few points are readily apparent: \n",
    "* Only one character, Jar Jar Binks, has a negative average. \n",
    "* Most characters who appear in the older trilogy are more popular than characters who feature only in the newer one. (Two notable exceptions from this rule are Carth Vader and Emperor Palpatine.)\n",
    "* There is a wide gap between the six bestliked characters and the others. "
   ]
  },
  {
   "cell_type": "code",
   "execution_count": 23,
   "metadata": {},
   "outputs": [
    {
     "name": "stdout",
     "output_type": "stream",
     "text": [
      "Han Solo has an average rating of 1.642±0.001.\n",
      "Yoda has an average rating of 1.610±0.001.\n",
      "Obi Wan Kenobi has an average rating of 1.599±0.001.\n",
      "Luke Skywalker has an average rating of 1.569±0.001.\n",
      "R2 D2 has an average rating of 1.551±0.001.\n",
      "Princess Leia Organa has an average rating of 1.540±0.001.\n",
      "C-3P0 has an average rating of 1.378±0.001.\n",
      "Anakin Skywalker has an average rating of 0.727±0.001.\n",
      "Lando Calrissian has an average rating of 0.522±0.001.\n",
      "Padme Amidala has an average rating of 0.483±0.001.\n",
      "Darth Vader has an average rating of 0.473±0.002.\n",
      "Boba Fett has an average rating of 0.299±0.001.\n",
      "Emperor Palpatine has an average rating of 0.058±0.001.\n",
      "Jar Jar Binks has an average rating of -0.190±0.002.\n"
     ]
    }
   ],
   "source": [
    "for char in characters.index: \n",
    "    print('{} has an average rating of {:.3f}±{:.3f}.'.format(char, characters.loc[char, 0], characters.loc[char, 1]))"
   ]
  },
  {
   "cell_type": "markdown",
   "metadata": {},
   "source": [
    "The three best-liked characters, by statistically significant margins, are Han Solo, Yoda, and Obi Wan Kenobi. \n",
    "The three least-likes characters, also by statistically significant margins, are Boba Fett, Emperor Palpatine, and Jar Jar Binks. \n",
    "\n",
    "We are also interested in seeing if this ranking differes for fans of the franchise, who are more likely to see new movies or buy Star-Wars related products."
   ]
  },
  {
   "cell_type": "code",
   "execution_count": 24,
   "metadata": {},
   "outputs": [
    {
     "data": {
      "image/png": "[encoded data removed]",
      "text/plain": [
       "<Figure size 432x288 with 1 Axes>"
      ]
     },
     "metadata": {
      "needs_background": "light"
     },
     "output_type": "display_data"
    }
   ],
   "source": [
    "pop_char_fans = {}\n",
    "for i in range(first_col_char, last_col_char+1):\n",
    "    pop_char_fans[star_wars.columns[i]] = [\n",
    "        star_wars[star_wars['fan']==True].iloc[:,i].mean(), # average\n",
    "        star_wars[star_wars['fan']==True].iloc[:,i].std() / star_wars[star_wars['fan']==True].iloc[:,i].count() # standard error\n",
    "    ]\n",
    "    \n",
    "characters_fans = pd.DataFrame.from_dict(pop_char_fans, orient='index').sort_values(0, ascending=False) # dataframe containing the results\n",
    "characters_fans.plot.bar(y=0, yerr=1, legend=False)\n",
    "plt.grid()\n",
    "plt.title('Average rating of Star Wars characters according to fans')\n",
    "plt.show()"
   ]
  },
  {
   "cell_type": "markdown",
   "metadata": {},
   "source": [
    "Character ratings from fans is close to that by all viewers, although most characters have a slightly higher rating. \n",
    "\n",
    "Finally, we could like to see how character ratings vary with gender."
   ]
  },
  {
   "cell_type": "code",
   "execution_count": 25,
   "metadata": {},
   "outputs": [
    {
     "data": {
      "image/png": "[encoded data removed]",
      "text/plain": [
       "<Figure size 432x288 with 1 Axes>"
      ]
     },
     "metadata": {
      "needs_background": "light"
     },
     "output_type": "display_data"
    }
   ],
   "source": [
    "pop_char_gender = {}\n",
    "for i in range(first_col_char, last_col_char+1):\n",
    "    pop_char_gender[star_wars.columns[i]] = [\n",
    "        star_wars[star_wars['Gender'] == 'Female'].iloc[:,i].mean(), # average\n",
    "        star_wars[star_wars['Gender'] == 'Female'].iloc[:,i].std() / star_wars[star_wars['Gender'] == 'Female'].iloc[:,i].count(), # standard error\n",
    "        star_wars[star_wars['Gender'] == 'Male'].iloc[:,i].mean(), # average\n",
    "        star_wars[star_wars['Gender'] == 'Male'].iloc[:,i].std() / star_wars[star_wars['Gender'] == 'Male'].iloc[:,i].count() # standard error\n",
    "    ]\n",
    "    \n",
    "characters_by_gender = pd.DataFrame.from_dict(pop_char_gender, orient='index').sort_values(0, ascending=False) # dataframe containing the results\n",
    "characters_by_gender.columns = ['Women', 'Women_err', 'Men', 'Men_err']\n",
    "characters_by_gender.plot.bar(y=['Women','Men'], yerr=characters_by_gender[['Women_err','Men_err']], legend=True)\n",
    "plt.grid()\n",
    "plt.title('Average rating of Star Wars characters according to fans')\n",
    "plt.show()"
   ]
  },
  {
   "cell_type": "markdown",
   "metadata": {},
   "source": [
    "There are a few significant differences: \n",
    "* The two robots R2D2 and C3PO are better liked by women than men, the former being even women's favourite character. \n",
    "* Men like the antagonists Darth Vader, Bobba Fett, and Emperor Palpatine better than women do.\n",
    "* Men tend to dislike Jar Jar Binks, while women are nearly neutral about him on average. \n",
    "\n",
    "## Conclusions\n",
    "\n",
    "In this short project, we explored a survey on the first two Star Wars trilogies  and found that:\n",
    "* the older trilogy is more popular than the newer, especially among self-identified fans of the franchise, \n",
    "* there is a significant positive correlation between the number of viewers of a film, how well-liked it is, and the fraction of female viewers,\n",
    "* Han Solo is the best-liked character overall, altough R2D2 is women's favourite character,\n",
    "* men tend to dislike Jar Jar Binks, while women are nearly neutral about him on average.\n",
    "\n",
    "One conclusion is that products focusing on the older trilogy and featuring Han Solo and/or R2D2 are expected to be popular among Star Wars fans."
   ]
  }
 ],
 "metadata": {
  "kernelspec": {
   "display_name": "Python 3",
   "language": "python",
   "name": "python3"
  },
  "language_info": {
   "codemirror_mode": {
    "name": "ipython",
    "version": 3
   },
   "file_extension": ".py",
   "mimetype": "text/x-python",
   "name": "python",
   "nbconvert_exporter": "python",
   "pygments_lexer": "ipython3",
   "version": "3.7.3"
  }
 },
 "nbformat": 4,
 "nbformat_minor": 4
}
