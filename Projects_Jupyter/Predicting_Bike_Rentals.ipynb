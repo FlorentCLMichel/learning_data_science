{
 "cells": [
  {
   "cell_type": "markdown",
   "metadata": {},
   "source": [
    "# Predicting the number of bikes rented per hour\n",
    "\n",
    "In this project, we use a few simple machine-learning models (linear regression, decision tree, and random forest) to predict te number of bikes rented by the hour in Washington, D.C.. \n",
    "Like many other American cities, Washington, D.C. has a communal bike-renting service. \n",
    "Bikes can be rented for eiteher one hour or one day. \n",
    "\n",
    "One important problem for cities setting or and maintaning similar services is to estimate how many bicycles are needed and where, to ensure the number of bikes on offer is high enough to cover the residents' needs while avoiding the extra costs and space obstruction of keeping more bikes than necessary. \n",
    "We here deal with the first question, and aim at predicting the number of bikes rented per hour. \n",
    "\n",
    "## The Dataset\n",
    "\n",
    "We will work with a dataset containing the hourly and daily count of rental bikes between years 2011 and 2012 in Capital bikeshare system from the [UC Irvine Machine Learning Repository](http://archive.ics.uci.edu/ml/datasets/Bike+Sharing+Dataset). \n",
    "It was compiled by Hadi Fanaee from the Laboratory of Artificial Intelligence and Decision Support (LIAAD), University of Porto . \n",
    "\n",
    "We first import the packages we will need: "
   ]
  },
  {
   "cell_type": "code",
   "execution_count": 38,
   "metadata": {},
   "outputs": [],
   "source": [
    "# Pandas to work with the dataset\n",
    "import pandas as pd\n",
    "\n",
    "# Numpy for numeric calculations\n",
    "import numpy as np\n",
    "\n",
    "# Pyplot for plots\n",
    "import matplotlib.pyplot as plt\n",
    "\n",
    "# Linear regression model\n",
    "from sklearn.linear_model import LinearRegression\n",
    "\n",
    "# Decision tree\n",
    "from sklearn.tree import DecisionTreeRegressor\n",
    "\n",
    "# Random forest\n",
    "from sklearn.ensemble import RandomForestRegressor\n",
    "\n",
    "# Mean squared error\n",
    "from sklearn.metrics import mean_squared_error"
   ]
  },
  {
   "cell_type": "markdown",
   "metadata": {},
   "source": [
    "Load the dataset and print the first few rows: "
   ]
  },
  {
   "cell_type": "code",
   "execution_count": 2,
   "metadata": {},
   "outputs": [
    {
     "data": {
      "text/html": [
       "<div>\n",
       "<style scoped>\n",
       "    .dataframe tbody tr th:only-of-type {\n",
       "        vertical-align: middle;\n",
       "    }\n",
       "\n",
       "    .dataframe tbody tr th {\n",
       "        vertical-align: top;\n",
       "    }\n",
       "\n",
       "    .dataframe thead th {\n",
       "        text-align: right;\n",
       "    }\n",
       "</style>\n",
       "<table border=\"1\" class=\"dataframe\">\n",
       "  <thead>\n",
       "    <tr style=\"text-align: right;\">\n",
       "      <th></th>\n",
       "      <th>instant</th>\n",
       "      <th>dteday</th>\n",
       "      <th>season</th>\n",
       "      <th>yr</th>\n",
       "      <th>mnth</th>\n",
       "      <th>hr</th>\n",
       "      <th>holiday</th>\n",
       "      <th>weekday</th>\n",
       "      <th>workingday</th>\n",
       "      <th>weathersit</th>\n",
       "      <th>temp</th>\n",
       "      <th>atemp</th>\n",
       "      <th>hum</th>\n",
       "      <th>windspeed</th>\n",
       "      <th>casual</th>\n",
       "      <th>registered</th>\n",
       "      <th>cnt</th>\n",
       "    </tr>\n",
       "  </thead>\n",
       "  <tbody>\n",
       "    <tr>\n",
       "      <th>0</th>\n",
       "      <td>1</td>\n",
       "      <td>2011-01-01</td>\n",
       "      <td>1</td>\n",
       "      <td>0</td>\n",
       "      <td>1</td>\n",
       "      <td>0</td>\n",
       "      <td>0</td>\n",
       "      <td>6</td>\n",
       "      <td>0</td>\n",
       "      <td>1</td>\n",
       "      <td>0.24</td>\n",
       "      <td>0.2879</td>\n",
       "      <td>0.81</td>\n",
       "      <td>0.0</td>\n",
       "      <td>3</td>\n",
       "      <td>13</td>\n",
       "      <td>16</td>\n",
       "    </tr>\n",
       "    <tr>\n",
       "      <th>1</th>\n",
       "      <td>2</td>\n",
       "      <td>2011-01-01</td>\n",
       "      <td>1</td>\n",
       "      <td>0</td>\n",
       "      <td>1</td>\n",
       "      <td>1</td>\n",
       "      <td>0</td>\n",
       "      <td>6</td>\n",
       "      <td>0</td>\n",
       "      <td>1</td>\n",
       "      <td>0.22</td>\n",
       "      <td>0.2727</td>\n",
       "      <td>0.80</td>\n",
       "      <td>0.0</td>\n",
       "      <td>8</td>\n",
       "      <td>32</td>\n",
       "      <td>40</td>\n",
       "    </tr>\n",
       "    <tr>\n",
       "      <th>2</th>\n",
       "      <td>3</td>\n",
       "      <td>2011-01-01</td>\n",
       "      <td>1</td>\n",
       "      <td>0</td>\n",
       "      <td>1</td>\n",
       "      <td>2</td>\n",
       "      <td>0</td>\n",
       "      <td>6</td>\n",
       "      <td>0</td>\n",
       "      <td>1</td>\n",
       "      <td>0.22</td>\n",
       "      <td>0.2727</td>\n",
       "      <td>0.80</td>\n",
       "      <td>0.0</td>\n",
       "      <td>5</td>\n",
       "      <td>27</td>\n",
       "      <td>32</td>\n",
       "    </tr>\n",
       "    <tr>\n",
       "      <th>3</th>\n",
       "      <td>4</td>\n",
       "      <td>2011-01-01</td>\n",
       "      <td>1</td>\n",
       "      <td>0</td>\n",
       "      <td>1</td>\n",
       "      <td>3</td>\n",
       "      <td>0</td>\n",
       "      <td>6</td>\n",
       "      <td>0</td>\n",
       "      <td>1</td>\n",
       "      <td>0.24</td>\n",
       "      <td>0.2879</td>\n",
       "      <td>0.75</td>\n",
       "      <td>0.0</td>\n",
       "      <td>3</td>\n",
       "      <td>10</td>\n",
       "      <td>13</td>\n",
       "    </tr>\n",
       "    <tr>\n",
       "      <th>4</th>\n",
       "      <td>5</td>\n",
       "      <td>2011-01-01</td>\n",
       "      <td>1</td>\n",
       "      <td>0</td>\n",
       "      <td>1</td>\n",
       "      <td>4</td>\n",
       "      <td>0</td>\n",
       "      <td>6</td>\n",
       "      <td>0</td>\n",
       "      <td>1</td>\n",
       "      <td>0.24</td>\n",
       "      <td>0.2879</td>\n",
       "      <td>0.75</td>\n",
       "      <td>0.0</td>\n",
       "      <td>0</td>\n",
       "      <td>1</td>\n",
       "      <td>1</td>\n",
       "    </tr>\n",
       "  </tbody>\n",
       "</table>\n",
       "</div>"
      ],
      "text/plain": [
       "   instant      dteday  season  yr  mnth  hr  holiday  weekday  workingday  \\\n",
       "0        1  2011-01-01       1   0     1   0        0        6           0   \n",
       "1        2  2011-01-01       1   0     1   1        0        6           0   \n",
       "2        3  2011-01-01       1   0     1   2        0        6           0   \n",
       "3        4  2011-01-01       1   0     1   3        0        6           0   \n",
       "4        5  2011-01-01       1   0     1   4        0        6           0   \n",
       "\n",
       "   weathersit  temp   atemp   hum  windspeed  casual  registered  cnt  \n",
       "0           1  0.24  0.2879  0.81        0.0       3          13   16  \n",
       "1           1  0.22  0.2727  0.80        0.0       8          32   40  \n",
       "2           1  0.22  0.2727  0.80        0.0       5          27   32  \n",
       "3           1  0.24  0.2879  0.75        0.0       3          10   13  \n",
       "4           1  0.24  0.2879  0.75        0.0       0           1    1  "
      ]
     },
     "execution_count": 2,
     "metadata": {},
     "output_type": "execute_result"
    }
   ],
   "source": [
    "bike_rentals = pd.read_csv('../Data/Bike-Sharing-Dataset/hour.csv')\n",
    "bike_rentals.head()"
   ]
  },
  {
   "cell_type": "markdown",
   "metadata": {},
   "source": [
    "Let us see whether there are missing values: "
   ]
  },
  {
   "cell_type": "code",
   "execution_count": 3,
   "metadata": {},
   "outputs": [
    {
     "name": "stdout",
     "output_type": "stream",
     "text": [
      "<class 'pandas.core.frame.DataFrame'>\n",
      "RangeIndex: 17379 entries, 0 to 17378\n",
      "Data columns (total 17 columns):\n",
      " #   Column      Non-Null Count  Dtype  \n",
      "---  ------      --------------  -----  \n",
      " 0   instant     17379 non-null  int64  \n",
      " 1   dteday      17379 non-null  object \n",
      " 2   season      17379 non-null  int64  \n",
      " 3   yr          17379 non-null  int64  \n",
      " 4   mnth        17379 non-null  int64  \n",
      " 5   hr          17379 non-null  int64  \n",
      " 6   holiday     17379 non-null  int64  \n",
      " 7   weekday     17379 non-null  int64  \n",
      " 8   workingday  17379 non-null  int64  \n",
      " 9   weathersit  17379 non-null  int64  \n",
      " 10  temp        17379 non-null  float64\n",
      " 11  atemp       17379 non-null  float64\n",
      " 12  hum         17379 non-null  float64\n",
      " 13  windspeed   17379 non-null  float64\n",
      " 14  casual      17379 non-null  int64  \n",
      " 15  registered  17379 non-null  int64  \n",
      " 16  cnt         17379 non-null  int64  \n",
      "dtypes: float64(4), int64(12), object(1)\n",
      "memory usage: 2.3+ MB\n"
     ]
    }
   ],
   "source": [
    "bike_rentals.info()"
   ]
  },
  {
   "cell_type": "markdown",
   "metadata": {},
   "source": [
    "It seems there is no missing value. \n",
    "\n",
    "In principle, the `cnt` column, giving the total number of rentals, should be the sum of the `casual` and `registered` ones. \n",
    "Let us check this: "
   ]
  },
  {
   "cell_type": "code",
   "execution_count": 4,
   "metadata": {},
   "outputs": [
    {
     "data": {
      "text/plain": [
       "True    17379\n",
       "dtype: int64"
      ]
     },
     "execution_count": 4,
     "metadata": {},
     "output_type": "execute_result"
    }
   ],
   "source": [
    "(bike_rentals['cnt'] == bike_rentals['casual'] + bike_rentals['registered']).value_counts()"
   ]
  },
  {
   "cell_type": "markdown",
   "metadata": {},
   "source": [
    "This is indeed the case. \n",
    "The dataset thus seems consistent in this regard. \n",
    "\n",
    "Our target variable will be the `cst` column, giving the total number of rentals for each hour. \n",
    "Let us plot a histogram to get a glimpse of its distribution: "
   ]
  },
  {
   "cell_type": "code",
   "execution_count": 5,
   "metadata": {},
   "outputs": [
    {
     "data": {
      "image/png": "[encoded data removed]",
      "text/plain": [
       "<Figure size 432x288 with 1 Axes>"
      ]
     },
     "metadata": {
      "needs_background": "light"
     },
     "output_type": "display_data"
    }
   ],
   "source": [
    "bike_rentals['cnt'].hist()\n",
    "plt.xlabel('number of rentals')\n",
    "plt.show()"
   ]
  },
  {
   "cell_type": "markdown",
   "metadata": {},
   "source": [
    "The distribution seems to be monotonically decreasing, with numbers smaller than 100 for nearly half of the rows. \n",
    "\n",
    "Let us now see how the other numeric coluns are correlated with `cnt`: "
   ]
  },
  {
   "cell_type": "code",
   "execution_count": 6,
   "metadata": {},
   "outputs": [
    {
     "data": {
      "text/plain": [
       "cnt           1.000000\n",
       "registered    0.972151\n",
       "casual        0.694564\n",
       "temp          0.404772\n",
       "atemp         0.400929\n",
       "hr            0.394071\n",
       "instant       0.278379\n",
       "yr            0.250495\n",
       "season        0.178056\n",
       "mnth          0.120638\n",
       "windspeed     0.093234\n",
       "workingday    0.030284\n",
       "weekday       0.026900\n",
       "holiday      -0.030927\n",
       "weathersit   -0.142426\n",
       "hum          -0.322911\n",
       "Name: cnt, dtype: float64"
      ]
     },
     "execution_count": 6,
     "metadata": {},
     "output_type": "execute_result"
    }
   ],
   "source": [
    "bike_rentals.corr()['cnt'].sort_values(ascending=False)"
   ]
  },
  {
   "cell_type": "markdown",
   "metadata": {},
   "source": [
    "The two columns `registered` and `casual` are strongly correlated with `cnt`. \n",
    "This is not surprising as the later is the sum of the former two. \n",
    "The corelation is significantly stronger for the `registered` column, which indicates that registered users account for most rentals.\n",
    "\n",
    "The next variables showing strongest correlation with `cnt` are the temperature (`temp`) and felt temperature (`atemp`), closely followed by the hour (`hr`). \n",
    "The humidity (`hum`) also has a significant  negative correlation.\n",
    "\n",
    "We can not use the `registered` and `casual` columns to make predictions as they are part of what we want to predict. \n",
    "It thus seems that the most relevent factors to focus on are the temperature, felt temperature, and humidity.\n",
    "\n",
    "Let us see whether they are correlated to each others:"
   ]
  },
  {
   "cell_type": "code",
   "execution_count": 7,
   "metadata": {},
   "outputs": [
    {
     "data": {
      "text/html": [
       "<div>\n",
       "<style scoped>\n",
       "    .dataframe tbody tr th:only-of-type {\n",
       "        vertical-align: middle;\n",
       "    }\n",
       "\n",
       "    .dataframe tbody tr th {\n",
       "        vertical-align: top;\n",
       "    }\n",
       "\n",
       "    .dataframe thead th {\n",
       "        text-align: right;\n",
       "    }\n",
       "</style>\n",
       "<table border=\"1\" class=\"dataframe\">\n",
       "  <thead>\n",
       "    <tr style=\"text-align: right;\">\n",
       "      <th></th>\n",
       "      <th>temp</th>\n",
       "      <th>atemp</th>\n",
       "      <th>hr</th>\n",
       "      <th>hum</th>\n",
       "    </tr>\n",
       "  </thead>\n",
       "  <tbody>\n",
       "    <tr>\n",
       "      <th>temp</th>\n",
       "      <td>1.000000</td>\n",
       "      <td>0.987672</td>\n",
       "      <td>0.137603</td>\n",
       "      <td>-0.069881</td>\n",
       "    </tr>\n",
       "    <tr>\n",
       "      <th>atemp</th>\n",
       "      <td>0.987672</td>\n",
       "      <td>1.000000</td>\n",
       "      <td>0.133750</td>\n",
       "      <td>-0.051918</td>\n",
       "    </tr>\n",
       "    <tr>\n",
       "      <th>hr</th>\n",
       "      <td>0.137603</td>\n",
       "      <td>0.133750</td>\n",
       "      <td>1.000000</td>\n",
       "      <td>-0.276498</td>\n",
       "    </tr>\n",
       "    <tr>\n",
       "      <th>hum</th>\n",
       "      <td>-0.069881</td>\n",
       "      <td>-0.051918</td>\n",
       "      <td>-0.276498</td>\n",
       "      <td>1.000000</td>\n",
       "    </tr>\n",
       "  </tbody>\n",
       "</table>\n",
       "</div>"
      ],
      "text/plain": [
       "           temp     atemp        hr       hum\n",
       "temp   1.000000  0.987672  0.137603 -0.069881\n",
       "atemp  0.987672  1.000000  0.133750 -0.051918\n",
       "hr     0.137603  0.133750  1.000000 -0.276498\n",
       "hum   -0.069881 -0.051918 -0.276498  1.000000"
      ]
     },
     "execution_count": 7,
     "metadata": {},
     "output_type": "execute_result"
    }
   ],
   "source": [
    "cols = ['temp', 'atemp', 'hr', 'hum']\n",
    "bike_rentals[cols].corr()"
   ]
  },
  {
   "cell_type": "markdown",
   "metadata": {},
   "source": [
    "There is a very strong correlation (close to 0.988) between the temperature and felt temperature. \n",
    "It may thus be relevent to include only one of these two columns as they contain essenntially the same information.\n",
    "\n",
    "## Feature engineering\n",
    "\n",
    "### Time of the day\n",
    "\n",
    "Let us first divide the day into 4 equal periods: morning from 6:00 to 11:59, afternoon from 12:00 to 17:59, evening from 18:00 to 23:59, and night from 0:00 to 5:59, associated respectively with the labels 1, 2, 3, and 4. \n",
    "We wall this column `time_label`."
   ]
  },
  {
   "cell_type": "code",
   "execution_count": 8,
   "metadata": {},
   "outputs": [
    {
     "data": {
      "text/html": [
       "<div>\n",
       "<style scoped>\n",
       "    .dataframe tbody tr th:only-of-type {\n",
       "        vertical-align: middle;\n",
       "    }\n",
       "\n",
       "    .dataframe tbody tr th {\n",
       "        vertical-align: top;\n",
       "    }\n",
       "\n",
       "    .dataframe thead th {\n",
       "        text-align: right;\n",
       "    }\n",
       "</style>\n",
       "<table border=\"1\" class=\"dataframe\">\n",
       "  <thead>\n",
       "    <tr style=\"text-align: right;\">\n",
       "      <th></th>\n",
       "      <th>instant</th>\n",
       "      <th>dteday</th>\n",
       "      <th>season</th>\n",
       "      <th>yr</th>\n",
       "      <th>mnth</th>\n",
       "      <th>hr</th>\n",
       "      <th>holiday</th>\n",
       "      <th>weekday</th>\n",
       "      <th>workingday</th>\n",
       "      <th>weathersit</th>\n",
       "      <th>temp</th>\n",
       "      <th>atemp</th>\n",
       "      <th>hum</th>\n",
       "      <th>windspeed</th>\n",
       "      <th>casual</th>\n",
       "      <th>registered</th>\n",
       "      <th>cnt</th>\n",
       "      <th>time_label</th>\n",
       "    </tr>\n",
       "  </thead>\n",
       "  <tbody>\n",
       "    <tr>\n",
       "      <th>0</th>\n",
       "      <td>1</td>\n",
       "      <td>2011-01-01</td>\n",
       "      <td>1</td>\n",
       "      <td>0</td>\n",
       "      <td>1</td>\n",
       "      <td>0</td>\n",
       "      <td>0</td>\n",
       "      <td>6</td>\n",
       "      <td>0</td>\n",
       "      <td>1</td>\n",
       "      <td>0.24</td>\n",
       "      <td>0.2879</td>\n",
       "      <td>0.81</td>\n",
       "      <td>0.0</td>\n",
       "      <td>3</td>\n",
       "      <td>13</td>\n",
       "      <td>16</td>\n",
       "      <td>4</td>\n",
       "    </tr>\n",
       "    <tr>\n",
       "      <th>1</th>\n",
       "      <td>2</td>\n",
       "      <td>2011-01-01</td>\n",
       "      <td>1</td>\n",
       "      <td>0</td>\n",
       "      <td>1</td>\n",
       "      <td>1</td>\n",
       "      <td>0</td>\n",
       "      <td>6</td>\n",
       "      <td>0</td>\n",
       "      <td>1</td>\n",
       "      <td>0.22</td>\n",
       "      <td>0.2727</td>\n",
       "      <td>0.80</td>\n",
       "      <td>0.0</td>\n",
       "      <td>8</td>\n",
       "      <td>32</td>\n",
       "      <td>40</td>\n",
       "      <td>4</td>\n",
       "    </tr>\n",
       "    <tr>\n",
       "      <th>2</th>\n",
       "      <td>3</td>\n",
       "      <td>2011-01-01</td>\n",
       "      <td>1</td>\n",
       "      <td>0</td>\n",
       "      <td>1</td>\n",
       "      <td>2</td>\n",
       "      <td>0</td>\n",
       "      <td>6</td>\n",
       "      <td>0</td>\n",
       "      <td>1</td>\n",
       "      <td>0.22</td>\n",
       "      <td>0.2727</td>\n",
       "      <td>0.80</td>\n",
       "      <td>0.0</td>\n",
       "      <td>5</td>\n",
       "      <td>27</td>\n",
       "      <td>32</td>\n",
       "      <td>4</td>\n",
       "    </tr>\n",
       "    <tr>\n",
       "      <th>3</th>\n",
       "      <td>4</td>\n",
       "      <td>2011-01-01</td>\n",
       "      <td>1</td>\n",
       "      <td>0</td>\n",
       "      <td>1</td>\n",
       "      <td>3</td>\n",
       "      <td>0</td>\n",
       "      <td>6</td>\n",
       "      <td>0</td>\n",
       "      <td>1</td>\n",
       "      <td>0.24</td>\n",
       "      <td>0.2879</td>\n",
       "      <td>0.75</td>\n",
       "      <td>0.0</td>\n",
       "      <td>3</td>\n",
       "      <td>10</td>\n",
       "      <td>13</td>\n",
       "      <td>4</td>\n",
       "    </tr>\n",
       "    <tr>\n",
       "      <th>4</th>\n",
       "      <td>5</td>\n",
       "      <td>2011-01-01</td>\n",
       "      <td>1</td>\n",
       "      <td>0</td>\n",
       "      <td>1</td>\n",
       "      <td>4</td>\n",
       "      <td>0</td>\n",
       "      <td>6</td>\n",
       "      <td>0</td>\n",
       "      <td>1</td>\n",
       "      <td>0.24</td>\n",
       "      <td>0.2879</td>\n",
       "      <td>0.75</td>\n",
       "      <td>0.0</td>\n",
       "      <td>0</td>\n",
       "      <td>1</td>\n",
       "      <td>1</td>\n",
       "      <td>4</td>\n",
       "    </tr>\n",
       "  </tbody>\n",
       "</table>\n",
       "</div>"
      ],
      "text/plain": [
       "   instant      dteday  season  yr  mnth  hr  holiday  weekday  workingday  \\\n",
       "0        1  2011-01-01       1   0     1   0        0        6           0   \n",
       "1        2  2011-01-01       1   0     1   1        0        6           0   \n",
       "2        3  2011-01-01       1   0     1   2        0        6           0   \n",
       "3        4  2011-01-01       1   0     1   3        0        6           0   \n",
       "4        5  2011-01-01       1   0     1   4        0        6           0   \n",
       "\n",
       "   weathersit  temp   atemp   hum  windspeed  casual  registered  cnt  \\\n",
       "0           1  0.24  0.2879  0.81        0.0       3          13   16   \n",
       "1           1  0.22  0.2727  0.80        0.0       8          32   40   \n",
       "2           1  0.22  0.2727  0.80        0.0       5          27   32   \n",
       "3           1  0.24  0.2879  0.75        0.0       3          10   13   \n",
       "4           1  0.24  0.2879  0.75        0.0       0           1    1   \n",
       "\n",
       "   time_label  \n",
       "0           4  \n",
       "1           4  \n",
       "2           4  \n",
       "3           4  \n",
       "4           4  "
      ]
     },
     "execution_count": 8,
     "metadata": {},
     "output_type": "execute_result"
    }
   ],
   "source": [
    "def label_hour(hr):\n",
    "    '''\n",
    "    labels the hour hr with 1 (morning), 2 (afternoon), 3 (evening), or 4 \n",
    "    (night)\n",
    "    \n",
    "    hr: integer between 0 and 23 (included)\n",
    "    '''\n",
    "    if hr < 6:\n",
    "        return 4\n",
    "    if hr < 12:\n",
    "        return 1\n",
    "    if hr < 18:\n",
    "        return 2\n",
    "    return 3\n",
    "\n",
    "bike_rentals['time_label'] = bike_rentals['hr'].apply(label_hour)\n",
    "bike_rentals.head()"
   ]
  },
  {
   "cell_type": "markdown",
   "metadata": {},
   "source": [
    "### Dropping ununcessary columns\n",
    "\n",
    "The column `instant` serves an an index, and does not contain any actual information. \n",
    "We will also not make use of the `dteday`, `registered`, `casual`, and `atemp` columns.\n",
    "Let us drop them:"
   ]
  },
  {
   "cell_type": "code",
   "execution_count": 9,
   "metadata": {},
   "outputs": [
    {
     "data": {
      "text/html": [
       "<div>\n",
       "<style scoped>\n",
       "    .dataframe tbody tr th:only-of-type {\n",
       "        vertical-align: middle;\n",
       "    }\n",
       "\n",
       "    .dataframe tbody tr th {\n",
       "        vertical-align: top;\n",
       "    }\n",
       "\n",
       "    .dataframe thead th {\n",
       "        text-align: right;\n",
       "    }\n",
       "</style>\n",
       "<table border=\"1\" class=\"dataframe\">\n",
       "  <thead>\n",
       "    <tr style=\"text-align: right;\">\n",
       "      <th></th>\n",
       "      <th>season</th>\n",
       "      <th>yr</th>\n",
       "      <th>mnth</th>\n",
       "      <th>hr</th>\n",
       "      <th>holiday</th>\n",
       "      <th>weekday</th>\n",
       "      <th>workingday</th>\n",
       "      <th>weathersit</th>\n",
       "      <th>temp</th>\n",
       "      <th>hum</th>\n",
       "      <th>windspeed</th>\n",
       "      <th>cnt</th>\n",
       "      <th>time_label</th>\n",
       "    </tr>\n",
       "  </thead>\n",
       "  <tbody>\n",
       "    <tr>\n",
       "      <th>0</th>\n",
       "      <td>1</td>\n",
       "      <td>0</td>\n",
       "      <td>1</td>\n",
       "      <td>0</td>\n",
       "      <td>0</td>\n",
       "      <td>6</td>\n",
       "      <td>0</td>\n",
       "      <td>1</td>\n",
       "      <td>0.24</td>\n",
       "      <td>0.81</td>\n",
       "      <td>0.0</td>\n",
       "      <td>16</td>\n",
       "      <td>4</td>\n",
       "    </tr>\n",
       "    <tr>\n",
       "      <th>1</th>\n",
       "      <td>1</td>\n",
       "      <td>0</td>\n",
       "      <td>1</td>\n",
       "      <td>1</td>\n",
       "      <td>0</td>\n",
       "      <td>6</td>\n",
       "      <td>0</td>\n",
       "      <td>1</td>\n",
       "      <td>0.22</td>\n",
       "      <td>0.80</td>\n",
       "      <td>0.0</td>\n",
       "      <td>40</td>\n",
       "      <td>4</td>\n",
       "    </tr>\n",
       "    <tr>\n",
       "      <th>2</th>\n",
       "      <td>1</td>\n",
       "      <td>0</td>\n",
       "      <td>1</td>\n",
       "      <td>2</td>\n",
       "      <td>0</td>\n",
       "      <td>6</td>\n",
       "      <td>0</td>\n",
       "      <td>1</td>\n",
       "      <td>0.22</td>\n",
       "      <td>0.80</td>\n",
       "      <td>0.0</td>\n",
       "      <td>32</td>\n",
       "      <td>4</td>\n",
       "    </tr>\n",
       "    <tr>\n",
       "      <th>3</th>\n",
       "      <td>1</td>\n",
       "      <td>0</td>\n",
       "      <td>1</td>\n",
       "      <td>3</td>\n",
       "      <td>0</td>\n",
       "      <td>6</td>\n",
       "      <td>0</td>\n",
       "      <td>1</td>\n",
       "      <td>0.24</td>\n",
       "      <td>0.75</td>\n",
       "      <td>0.0</td>\n",
       "      <td>13</td>\n",
       "      <td>4</td>\n",
       "    </tr>\n",
       "    <tr>\n",
       "      <th>4</th>\n",
       "      <td>1</td>\n",
       "      <td>0</td>\n",
       "      <td>1</td>\n",
       "      <td>4</td>\n",
       "      <td>0</td>\n",
       "      <td>6</td>\n",
       "      <td>0</td>\n",
       "      <td>1</td>\n",
       "      <td>0.24</td>\n",
       "      <td>0.75</td>\n",
       "      <td>0.0</td>\n",
       "      <td>1</td>\n",
       "      <td>4</td>\n",
       "    </tr>\n",
       "  </tbody>\n",
       "</table>\n",
       "</div>"
      ],
      "text/plain": [
       "   season  yr  mnth  hr  holiday  weekday  workingday  weathersit  temp   hum  \\\n",
       "0       1   0     1   0        0        6           0           1  0.24  0.81   \n",
       "1       1   0     1   1        0        6           0           1  0.22  0.80   \n",
       "2       1   0     1   2        0        6           0           1  0.22  0.80   \n",
       "3       1   0     1   3        0        6           0           1  0.24  0.75   \n",
       "4       1   0     1   4        0        6           0           1  0.24  0.75   \n",
       "\n",
       "   windspeed  cnt  time_label  \n",
       "0        0.0   16           4  \n",
       "1        0.0   40           4  \n",
       "2        0.0   32           4  \n",
       "3        0.0   13           4  \n",
       "4        0.0    1           4  "
      ]
     },
     "execution_count": 9,
     "metadata": {},
     "output_type": "execute_result"
    }
   ],
   "source": [
    "bike_rentals = bike_rentals.drop(['instant', 'dteday', 'registered', 'casual', 'atemp'], axis=1)\n",
    "bike_rentals.head()"
   ]
  },
  {
   "cell_type": "markdown",
   "metadata": {},
   "source": [
    "## Separation into training and validation sets\n",
    "\n",
    "We now divide the dataset into a training set `train` with about 80% of the data and a validation set `test` with the remaining data. \n",
    "The performance of the models will be estimated using the mean squared error. "
   ]
  },
  {
   "cell_type": "code",
   "execution_count": 10,
   "metadata": {},
   "outputs": [
    {
     "data": {
      "text/html": [
       "<div>\n",
       "<style scoped>\n",
       "    .dataframe tbody tr th:only-of-type {\n",
       "        vertical-align: middle;\n",
       "    }\n",
       "\n",
       "    .dataframe tbody tr th {\n",
       "        vertical-align: top;\n",
       "    }\n",
       "\n",
       "    .dataframe thead th {\n",
       "        text-align: right;\n",
       "    }\n",
       "</style>\n",
       "<table border=\"1\" class=\"dataframe\">\n",
       "  <thead>\n",
       "    <tr style=\"text-align: right;\">\n",
       "      <th></th>\n",
       "      <th>season</th>\n",
       "      <th>yr</th>\n",
       "      <th>mnth</th>\n",
       "      <th>hr</th>\n",
       "      <th>holiday</th>\n",
       "      <th>weekday</th>\n",
       "      <th>workingday</th>\n",
       "      <th>weathersit</th>\n",
       "      <th>temp</th>\n",
       "      <th>hum</th>\n",
       "      <th>windspeed</th>\n",
       "      <th>cnt</th>\n",
       "      <th>time_label</th>\n",
       "    </tr>\n",
       "  </thead>\n",
       "  <tbody>\n",
       "    <tr>\n",
       "      <th>3555</th>\n",
       "      <td>2</td>\n",
       "      <td>0</td>\n",
       "      <td>6</td>\n",
       "      <td>1</td>\n",
       "      <td>0</td>\n",
       "      <td>4</td>\n",
       "      <td>1</td>\n",
       "      <td>1</td>\n",
       "      <td>0.72</td>\n",
       "      <td>0.38</td>\n",
       "      <td>0.1045</td>\n",
       "      <td>15</td>\n",
       "      <td>4</td>\n",
       "    </tr>\n",
       "    <tr>\n",
       "      <th>16834</th>\n",
       "      <td>4</td>\n",
       "      <td>1</td>\n",
       "      <td>12</td>\n",
       "      <td>5</td>\n",
       "      <td>0</td>\n",
       "      <td>0</td>\n",
       "      <td>0</td>\n",
       "      <td>2</td>\n",
       "      <td>0.40</td>\n",
       "      <td>0.87</td>\n",
       "      <td>0.1045</td>\n",
       "      <td>8</td>\n",
       "      <td>4</td>\n",
       "    </tr>\n",
       "    <tr>\n",
       "      <th>6971</th>\n",
       "      <td>4</td>\n",
       "      <td>0</td>\n",
       "      <td>10</td>\n",
       "      <td>2</td>\n",
       "      <td>0</td>\n",
       "      <td>0</td>\n",
       "      <td>0</td>\n",
       "      <td>1</td>\n",
       "      <td>0.34</td>\n",
       "      <td>0.87</td>\n",
       "      <td>0.0896</td>\n",
       "      <td>50</td>\n",
       "      <td>4</td>\n",
       "    </tr>\n",
       "    <tr>\n",
       "      <th>5165</th>\n",
       "      <td>3</td>\n",
       "      <td>0</td>\n",
       "      <td>8</td>\n",
       "      <td>3</td>\n",
       "      <td>0</td>\n",
       "      <td>1</td>\n",
       "      <td>1</td>\n",
       "      <td>1</td>\n",
       "      <td>0.66</td>\n",
       "      <td>0.89</td>\n",
       "      <td>0.0000</td>\n",
       "      <td>1</td>\n",
       "      <td>4</td>\n",
       "    </tr>\n",
       "    <tr>\n",
       "      <th>8913</th>\n",
       "      <td>1</td>\n",
       "      <td>1</td>\n",
       "      <td>1</td>\n",
       "      <td>6</td>\n",
       "      <td>0</td>\n",
       "      <td>4</td>\n",
       "      <td>1</td>\n",
       "      <td>3</td>\n",
       "      <td>0.36</td>\n",
       "      <td>0.93</td>\n",
       "      <td>0.1343</td>\n",
       "      <td>89</td>\n",
       "      <td>1</td>\n",
       "    </tr>\n",
       "  </tbody>\n",
       "</table>\n",
       "</div>"
      ],
      "text/plain": [
       "       season  yr  mnth  hr  holiday  weekday  workingday  weathersit  temp  \\\n",
       "3555        2   0     6   1        0        4           1           1  0.72   \n",
       "16834       4   1    12   5        0        0           0           2  0.40   \n",
       "6971        4   0    10   2        0        0           0           1  0.34   \n",
       "5165        3   0     8   3        0        1           1           1  0.66   \n",
       "8913        1   1     1   6        0        4           1           3  0.36   \n",
       "\n",
       "        hum  windspeed  cnt  time_label  \n",
       "3555   0.38     0.1045   15           4  \n",
       "16834  0.87     0.1045    8           4  \n",
       "6971   0.87     0.0896   50           4  \n",
       "5165   0.89     0.0000    1           4  \n",
       "8913   0.93     0.1343   89           1  "
      ]
     },
     "metadata": {},
     "output_type": "display_data"
    },
    {
     "data": {
      "text/html": [
       "<div>\n",
       "<style scoped>\n",
       "    .dataframe tbody tr th:only-of-type {\n",
       "        vertical-align: middle;\n",
       "    }\n",
       "\n",
       "    .dataframe tbody tr th {\n",
       "        vertical-align: top;\n",
       "    }\n",
       "\n",
       "    .dataframe thead th {\n",
       "        text-align: right;\n",
       "    }\n",
       "</style>\n",
       "<table border=\"1\" class=\"dataframe\">\n",
       "  <thead>\n",
       "    <tr style=\"text-align: right;\">\n",
       "      <th></th>\n",
       "      <th>season</th>\n",
       "      <th>yr</th>\n",
       "      <th>mnth</th>\n",
       "      <th>hr</th>\n",
       "      <th>holiday</th>\n",
       "      <th>weekday</th>\n",
       "      <th>workingday</th>\n",
       "      <th>weathersit</th>\n",
       "      <th>temp</th>\n",
       "      <th>hum</th>\n",
       "      <th>windspeed</th>\n",
       "      <th>cnt</th>\n",
       "      <th>time_label</th>\n",
       "    </tr>\n",
       "  </thead>\n",
       "  <tbody>\n",
       "    <tr>\n",
       "      <th>8</th>\n",
       "      <td>1</td>\n",
       "      <td>0</td>\n",
       "      <td>1</td>\n",
       "      <td>8</td>\n",
       "      <td>0</td>\n",
       "      <td>6</td>\n",
       "      <td>0</td>\n",
       "      <td>1</td>\n",
       "      <td>0.24</td>\n",
       "      <td>0.75</td>\n",
       "      <td>0.0000</td>\n",
       "      <td>8</td>\n",
       "      <td>1</td>\n",
       "    </tr>\n",
       "    <tr>\n",
       "      <th>14</th>\n",
       "      <td>1</td>\n",
       "      <td>0</td>\n",
       "      <td>1</td>\n",
       "      <td>14</td>\n",
       "      <td>0</td>\n",
       "      <td>6</td>\n",
       "      <td>0</td>\n",
       "      <td>2</td>\n",
       "      <td>0.46</td>\n",
       "      <td>0.72</td>\n",
       "      <td>0.2836</td>\n",
       "      <td>106</td>\n",
       "      <td>2</td>\n",
       "    </tr>\n",
       "    <tr>\n",
       "      <th>17</th>\n",
       "      <td>1</td>\n",
       "      <td>0</td>\n",
       "      <td>1</td>\n",
       "      <td>17</td>\n",
       "      <td>0</td>\n",
       "      <td>6</td>\n",
       "      <td>0</td>\n",
       "      <td>2</td>\n",
       "      <td>0.44</td>\n",
       "      <td>0.82</td>\n",
       "      <td>0.2836</td>\n",
       "      <td>67</td>\n",
       "      <td>2</td>\n",
       "    </tr>\n",
       "    <tr>\n",
       "      <th>23</th>\n",
       "      <td>1</td>\n",
       "      <td>0</td>\n",
       "      <td>1</td>\n",
       "      <td>23</td>\n",
       "      <td>0</td>\n",
       "      <td>6</td>\n",
       "      <td>0</td>\n",
       "      <td>2</td>\n",
       "      <td>0.46</td>\n",
       "      <td>0.88</td>\n",
       "      <td>0.2985</td>\n",
       "      <td>39</td>\n",
       "      <td>3</td>\n",
       "    </tr>\n",
       "    <tr>\n",
       "      <th>25</th>\n",
       "      <td>1</td>\n",
       "      <td>0</td>\n",
       "      <td>1</td>\n",
       "      <td>1</td>\n",
       "      <td>0</td>\n",
       "      <td>0</td>\n",
       "      <td>0</td>\n",
       "      <td>2</td>\n",
       "      <td>0.44</td>\n",
       "      <td>0.94</td>\n",
       "      <td>0.2537</td>\n",
       "      <td>17</td>\n",
       "      <td>4</td>\n",
       "    </tr>\n",
       "  </tbody>\n",
       "</table>\n",
       "</div>"
      ],
      "text/plain": [
       "    season  yr  mnth  hr  holiday  weekday  workingday  weathersit  temp  \\\n",
       "8        1   0     1   8        0        6           0           1  0.24   \n",
       "14       1   0     1  14        0        6           0           2  0.46   \n",
       "17       1   0     1  17        0        6           0           2  0.44   \n",
       "23       1   0     1  23        0        6           0           2  0.46   \n",
       "25       1   0     1   1        0        0           0           2  0.44   \n",
       "\n",
       "     hum  windspeed  cnt  time_label  \n",
       "8   0.75     0.0000    8           1  \n",
       "14  0.72     0.2836  106           2  \n",
       "17  0.82     0.2836   67           2  \n",
       "23  0.88     0.2985   39           3  \n",
       "25  0.94     0.2537   17           4  "
      ]
     },
     "metadata": {},
     "output_type": "display_data"
    }
   ],
   "source": [
    "# we set a random state to make the results reproducible\n",
    "train = bike_rentals.sample(frac = 0.8, random_state = 25)\n",
    "test = bike_rentals[~bike_rentals.index.isin(train.index)]\n",
    "\n",
    "display(train.head())\n",
    "display(test.head())"
   ]
  },
  {
   "cell_type": "markdown",
   "metadata": {},
   "source": [
    "## Linear Regression\n",
    "\n",
    "The first model we will use is a linear regression. \n",
    "We shall build four models with a different number of features.\n",
    "\n",
    "### Two features\n",
    "\n",
    "We first build a model with two features only. \n",
    "To select them, let us see which ones are strongly correlated with the rarget:"
   ]
  },
  {
   "cell_type": "code",
   "execution_count": 11,
   "metadata": {},
   "outputs": [
    {
     "data": {
      "text/plain": [
       "cnt           1.000000\n",
       "temp          0.404772\n",
       "hr            0.394071\n",
       "time_label    0.378318\n",
       "hum           0.322911\n",
       "yr            0.250495\n",
       "season        0.178056\n",
       "weathersit    0.142426\n",
       "mnth          0.120638\n",
       "windspeed     0.093234\n",
       "holiday       0.030927\n",
       "workingday    0.030284\n",
       "weekday       0.026900\n",
       "Name: cnt, dtype: float64"
      ]
     },
     "execution_count": 11,
     "metadata": {},
     "output_type": "execute_result"
    }
   ],
   "source": [
    "target = 'cnt'\n",
    "\n",
    "abs(bike_rentals.corr()[target]).sort_values(ascending=False)"
   ]
  },
  {
   "cell_type": "markdown",
   "metadata": {},
   "source": [
    "The four columns showing strongest correlations with the target are `temp`, `hr`, `time_label`, and `hum`. \n",
    "Let us see how correlated they are with each others:"
   ]
  },
  {
   "cell_type": "code",
   "execution_count": 12,
   "metadata": {},
   "outputs": [
    {
     "data": {
      "text/html": [
       "<div>\n",
       "<style scoped>\n",
       "    .dataframe tbody tr th:only-of-type {\n",
       "        vertical-align: middle;\n",
       "    }\n",
       "\n",
       "    .dataframe tbody tr th {\n",
       "        vertical-align: top;\n",
       "    }\n",
       "\n",
       "    .dataframe thead th {\n",
       "        text-align: right;\n",
       "    }\n",
       "</style>\n",
       "<table border=\"1\" class=\"dataframe\">\n",
       "  <thead>\n",
       "    <tr style=\"text-align: right;\">\n",
       "      <th></th>\n",
       "      <th>temp</th>\n",
       "      <th>hr</th>\n",
       "      <th>time_label</th>\n",
       "      <th>hum</th>\n",
       "    </tr>\n",
       "  </thead>\n",
       "  <tbody>\n",
       "    <tr>\n",
       "      <th>temp</th>\n",
       "      <td>1.000000</td>\n",
       "      <td>0.137603</td>\n",
       "      <td>-0.061551</td>\n",
       "      <td>-0.069881</td>\n",
       "    </tr>\n",
       "    <tr>\n",
       "      <th>hr</th>\n",
       "      <td>0.137603</td>\n",
       "      <td>1.000000</td>\n",
       "      <td>-0.187486</td>\n",
       "      <td>-0.276498</td>\n",
       "    </tr>\n",
       "    <tr>\n",
       "      <th>time_label</th>\n",
       "      <td>-0.061551</td>\n",
       "      <td>-0.187486</td>\n",
       "      <td>1.000000</td>\n",
       "      <td>0.144593</td>\n",
       "    </tr>\n",
       "    <tr>\n",
       "      <th>hum</th>\n",
       "      <td>-0.069881</td>\n",
       "      <td>-0.276498</td>\n",
       "      <td>0.144593</td>\n",
       "      <td>1.000000</td>\n",
       "    </tr>\n",
       "  </tbody>\n",
       "</table>\n",
       "</div>"
      ],
      "text/plain": [
       "                temp        hr  time_label       hum\n",
       "temp        1.000000  0.137603   -0.061551 -0.069881\n",
       "hr          0.137603  1.000000   -0.187486 -0.276498\n",
       "time_label -0.061551 -0.187486    1.000000  0.144593\n",
       "hum        -0.069881 -0.276498    0.144593  1.000000"
      ]
     },
     "execution_count": 12,
     "metadata": {},
     "output_type": "execute_result"
    }
   ],
   "source": [
    "cols = ['temp', 'hr', 'time_label', 'hum']\n",
    "bike_rentals[cols].corr()"
   ]
  },
  {
   "cell_type": "markdown",
   "metadata": {},
   "source": [
    "They do not seem to be strongly correlated with each others. "
   ]
  },
  {
   "cell_type": "code",
   "execution_count": 13,
   "metadata": {},
   "outputs": [
    {
     "name": "stdout",
     "output_type": "stream",
     "text": [
      "rmse / std = 0.8360627576110233\n",
      "Correlation coefficient: 0.548700907174461\n"
     ]
    }
   ],
   "source": [
    "features = ['temp', 'hr']\n",
    "\n",
    "lr1 = LinearRegression()\n",
    "lr1.fit(train[features], train[target])\n",
    "\n",
    "predictions = lr1.predict(test[features])\n",
    "rmse = np.sqrt(mean_squared_error(predictions, test[target]))\n",
    "relat_rmse = rmse / test[target].std()\n",
    "\n",
    "print('rmse / std = ' + str(relat_rmse))\n",
    "print('Correlation coefficient: ' + str(test[target].reset_index(drop=True).corr(pd.Series(predictions))))"
   ]
  },
  {
   "cell_type": "markdown",
   "metadata": {},
   "source": [
    "The root mean squared error is about 84% of the test data standard error, and the correlation coefficient between the prediction and actual values is just below 0.55. \n",
    "Our model is thus not very accurate, although it is predicting something.\n",
    "\n",
    "### Four features\n",
    "\n",
    "Let ud now try adding the features `time_label` and `hum`."
   ]
  },
  {
   "cell_type": "code",
   "execution_count": 14,
   "metadata": {},
   "outputs": [
    {
     "name": "stdout",
     "output_type": "stream",
     "text": [
      "rmse / std = 0.7679587887826516\n",
      "Correlation coefficient: 0.6404048748629122\n"
     ]
    }
   ],
   "source": [
    "features = ['temp', 'hr', 'time_label', 'hum']\n",
    "\n",
    "lr2 = LinearRegression()\n",
    "lr2.fit(train[features], train[target])\n",
    "\n",
    "predictions = lr2.predict(test[features])\n",
    "rmse = np.sqrt(mean_squared_error(predictions, test[target]))\n",
    "relat_rmse = rmse / test[target].std()\n",
    "\n",
    "print('rmse / std = ' + str(relat_rmse))\n",
    "print('Correlation coefficient: ' + str(test[target].reset_index(drop=True).corr(pd.Series(predictions))))"
   ]
  },
  {
   "cell_type": "markdown",
   "metadata": {},
   "source": [
    "This model is a little bit more accurate than the previous one.\n",
    "\n",
    "### Six features\n",
    "\n",
    "Let us add the `yr` and `season` columns:"
   ]
  },
  {
   "cell_type": "code",
   "execution_count": 15,
   "metadata": {},
   "outputs": [
    {
     "name": "stdout",
     "output_type": "stream",
     "text": [
      "rmse / std = 0.7300569849225247\n",
      "Correlation coefficient: 0.683378384192659\n"
     ]
    }
   ],
   "source": [
    "features = ['temp', 'hr', 'time_label', 'hum', 'yr', 'season']\n",
    "\n",
    "lr4 = LinearRegression()\n",
    "lr4.fit(train[features], train[target])\n",
    "\n",
    "predictions = lr4.predict(test[features])\n",
    "rmse = np.sqrt(mean_squared_error(predictions, test[target]))\n",
    "relat_rmse = rmse / test[target].std()\n",
    "\n",
    "print('rmse / std = ' + str(relat_rmse))\n",
    "print('Correlation coefficient: ' + str(test[target].reset_index(drop=True).corr(pd.Series(predictions))))"
   ]
  },
  {
   "cell_type": "markdown",
   "metadata": {},
   "source": [
    "This model performs a bit better than the previous one. "
   ]
  },
  {
   "cell_type": "markdown",
   "metadata": {},
   "source": [
    "### All features\n",
    "\n",
    "Let us now use all features:"
   ]
  },
  {
   "cell_type": "code",
   "execution_count": 16,
   "metadata": {},
   "outputs": [
    {
     "name": "stdout",
     "output_type": "stream",
     "text": [
      "rmse / std = 0.7285471221750136\n",
      "Correlation coefficient: 0.6850000447693583\n"
     ]
    }
   ],
   "source": [
    "features = ['temp', 'hr', 'time_label', 'hum', 'yr', 'season', 'weathersit', 'mnth', 'windspeed', 'holiday', 'workingday', 'weekday']\n",
    "\n",
    "lr4 = LinearRegression()\n",
    "lr4.fit(train[features], train[target])\n",
    "\n",
    "predictions = lr4.predict(test[features])\n",
    "rmse = np.sqrt(mean_squared_error(predictions, test[target]))\n",
    "relat_rmse = rmse / test[target].std()\n",
    "\n",
    "print('rmse / std = ' + str(relat_rmse))\n",
    "print('Correlation coefficient: ' + str(test[target].reset_index(drop=True).corr(pd.Series(predictions))))"
   ]
  },
  {
   "cell_type": "markdown",
   "metadata": {},
   "source": [
    "This model performs slightly better than the one with four features and very slightly worse than that with six features (but the difference may not be statistically significant).\n",
    "\n",
    "## Decision tree\n",
    "\n",
    "Let us now train a decision tree on the same data, with the same features as above.\n",
    "\n",
    "### Two features"
   ]
  },
  {
   "cell_type": "code",
   "execution_count": 20,
   "metadata": {},
   "outputs": [
    {
     "name": "stdout",
     "output_type": "stream",
     "text": [
      "rmse / std = 0.6050216411159434\n",
      "Correlation coefficient: 0.7969085584906862\n"
     ]
    }
   ],
   "source": [
    "features = ['temp', 'hr']\n",
    "\n",
    "dt1 = DecisionTreeRegressor()\n",
    "dt1.fit(train[features], train[target])\n",
    "\n",
    "predictions = dt1.predict(test[features])\n",
    "rmse = np.sqrt(mean_squared_error(predictions, test[target]))\n",
    "relat_rmse = rmse / test[target].std()\n",
    "\n",
    "print('rmse / std = ' + str(relat_rmse))\n",
    "print('Correlation coefficient: ' + str(test[target].reset_index(drop=True).corr(pd.Series(predictions))))"
   ]
  },
  {
   "cell_type": "markdown",
   "metadata": {},
   "source": [
    "This is already better than all the linear regression models we tried.\n",
    "\n",
    "### Four features"
   ]
  },
  {
   "cell_type": "code",
   "execution_count": 21,
   "metadata": {},
   "outputs": [
    {
     "name": "stdout",
     "output_type": "stream",
     "text": [
      "rmse / std = 0.7279297447600013\n",
      "Correlation coefficient: 0.7290579211127172\n"
     ]
    }
   ],
   "source": [
    "features = ['temp', 'hr', 'time_label', 'hum']\n",
    "\n",
    "dt2 = DecisionTreeRegressor()\n",
    "dt2.fit(train[features], train[target])\n",
    "\n",
    "predictions = dt2.predict(test[features])\n",
    "rmse = np.sqrt(mean_squared_error(predictions, test[target]))\n",
    "relat_rmse = rmse / test[target].std()\n",
    "\n",
    "print('rmse / std = ' + str(relat_rmse))\n",
    "print('Correlation coefficient: ' + str(test[target].reset_index(drop=True).corr(pd.Series(predictions))))"
   ]
  },
  {
   "cell_type": "markdown",
   "metadata": {},
   "source": [
    "Results are slightly worse than those obtained with two features only.\n",
    "\n",
    "### Six features"
   ]
  },
  {
   "cell_type": "code",
   "execution_count": 22,
   "metadata": {},
   "outputs": [
    {
     "name": "stdout",
     "output_type": "stream",
     "text": [
      "rmse / std = 0.6312682441774711\n",
      "Correlation coefficient: 0.8020898883849062\n"
     ]
    }
   ],
   "source": [
    "features = ['temp', 'hr', 'time_label', 'hum', 'yr', 'season']\n",
    "\n",
    "dt3 = DecisionTreeRegressor()\n",
    "dt3.fit(train[features], train[target])\n",
    "\n",
    "predictions = dt3.predict(test[features])\n",
    "rmse = np.sqrt(mean_squared_error(predictions, test[target]))\n",
    "relat_rmse = rmse / test[target].std()\n",
    "\n",
    "print('rmse / std = ' + str(relat_rmse))\n",
    "print('Correlation coefficient: ' + str(test[target].reset_index(drop=True).corr(pd.Series(predictions))))"
   ]
  },
  {
   "cell_type": "markdown",
   "metadata": {},
   "source": [
    "These results are close to those obtained with two features, and better than those obtained with four.\n",
    "\n",
    "### All features"
   ]
  },
  {
   "cell_type": "code",
   "execution_count": 23,
   "metadata": {},
   "outputs": [
    {
     "name": "stdout",
     "output_type": "stream",
     "text": [
      "rmse / std = 0.31718225120695914\n",
      "Correlation coefficient: 0.9494605246389439\n"
     ]
    }
   ],
   "source": [
    "features = ['temp', 'hr', 'time_label', 'hum', 'yr', 'season', 'weathersit', 'mnth', 'windspeed', 'holiday', 'workingday', 'weekday']\n",
    "\n",
    "dt4 = DecisionTreeRegressor()\n",
    "dt4.fit(train[features], train[target])\n",
    "\n",
    "predictions = dt4.predict(test[features])\n",
    "rmse = np.sqrt(mean_squared_error(predictions, test[target]))\n",
    "relat_rmse = rmse / test[target].std()\n",
    "\n",
    "print('rmse / std = ' + str(relat_rmse))\n",
    "print('Correlation coefficient: ' + str(test[target].reset_index(drop=True).corr(pd.Series(predictions))))"
   ]
  },
  {
   "cell_type": "markdown",
   "metadata": {},
   "source": [
    "A classification tree trained with all features gives significantly better results than other decision trees as well as the linear models. \n",
    "The correlation coefficient between the predictions and actual values in the validation set is close to 0.95, and the root mean squared error is only slightly above 32% of the standard deviation.\n",
    "\n",
    "Let us see if we can improve the results by changing the `min_samples_leaf` and `max_depth` parameters. "
   ]
  },
  {
   "cell_type": "code",
   "execution_count": 60,
   "metadata": {},
   "outputs": [
    {
     "data": {
      "text/html": [
       "<div>\n",
       "<style scoped>\n",
       "    .dataframe tbody tr th:only-of-type {\n",
       "        vertical-align: middle;\n",
       "    }\n",
       "\n",
       "    .dataframe tbody tr th {\n",
       "        vertical-align: top;\n",
       "    }\n",
       "\n",
       "    .dataframe thead th {\n",
       "        text-align: right;\n",
       "    }\n",
       "</style>\n",
       "<table border=\"1\" class=\"dataframe\">\n",
       "  <thead>\n",
       "    <tr style=\"text-align: right;\">\n",
       "      <th></th>\n",
       "      <th>1</th>\n",
       "      <th>3</th>\n",
       "      <th>9</th>\n",
       "      <th>27</th>\n",
       "      <th>81</th>\n",
       "      <th>243</th>\n",
       "    </tr>\n",
       "  </thead>\n",
       "  <tbody>\n",
       "    <tr>\n",
       "      <th>2</th>\n",
       "      <td>0.763632</td>\n",
       "      <td>0.763632</td>\n",
       "      <td>0.763632</td>\n",
       "      <td>0.763632</td>\n",
       "      <td>0.763632</td>\n",
       "      <td>0.763632</td>\n",
       "    </tr>\n",
       "    <tr>\n",
       "      <th>6</th>\n",
       "      <td>0.544955</td>\n",
       "      <td>0.544952</td>\n",
       "      <td>0.544947</td>\n",
       "      <td>0.544936</td>\n",
       "      <td>0.548840</td>\n",
       "      <td>0.557716</td>\n",
       "    </tr>\n",
       "    <tr>\n",
       "      <th>18</th>\n",
       "      <td>0.319017</td>\n",
       "      <td>0.300818</td>\n",
       "      <td>0.301207</td>\n",
       "      <td>0.321996</td>\n",
       "      <td>0.388717</td>\n",
       "      <td>0.528185</td>\n",
       "    </tr>\n",
       "    <tr>\n",
       "      <th>56</th>\n",
       "      <td>0.318842</td>\n",
       "      <td>0.301634</td>\n",
       "      <td>0.301213</td>\n",
       "      <td>0.321996</td>\n",
       "      <td>0.388717</td>\n",
       "      <td>0.528185</td>\n",
       "    </tr>\n",
       "    <tr>\n",
       "      <th>168</th>\n",
       "      <td>0.319664</td>\n",
       "      <td>0.299684</td>\n",
       "      <td>0.301037</td>\n",
       "      <td>0.321996</td>\n",
       "      <td>0.388717</td>\n",
       "      <td>0.528185</td>\n",
       "    </tr>\n",
       "    <tr>\n",
       "      <th>504</th>\n",
       "      <td>0.319235</td>\n",
       "      <td>0.299632</td>\n",
       "      <td>0.301087</td>\n",
       "      <td>0.321996</td>\n",
       "      <td>0.388717</td>\n",
       "      <td>0.528185</td>\n",
       "    </tr>\n",
       "  </tbody>\n",
       "</table>\n",
       "</div>"
      ],
      "text/plain": [
       "          1         3         9         27        81        243\n",
       "2    0.763632  0.763632  0.763632  0.763632  0.763632  0.763632\n",
       "6    0.544955  0.544952  0.544947  0.544936  0.548840  0.557716\n",
       "18   0.319017  0.300818  0.301207  0.321996  0.388717  0.528185\n",
       "56   0.318842  0.301634  0.301213  0.321996  0.388717  0.528185\n",
       "168  0.319664  0.299684  0.301037  0.321996  0.388717  0.528185\n",
       "504  0.319235  0.299632  0.301087  0.321996  0.388717  0.528185"
      ]
     },
     "metadata": {},
     "output_type": "display_data"
    },
    {
     "data": {
      "image/png": "[encoded data removed]",
      "text/plain": [
       "<Figure size 432x288 with 2 Axes>"
      ]
     },
     "metadata": {
      "needs_background": "light"
     },
     "output_type": "display_data"
    }
   ],
   "source": [
    "list_max_depth = [2, 6, 18, 56, 168, 504]\n",
    "list_min_samples_leaf = [1, 3, 9, 27, 81, 243]\n",
    "res = []\n",
    "for max_depth in list_max_depth:\n",
    "    res.append([])\n",
    "    for min_samples_leaf in list_min_samples_leaf:\n",
    "        dt = DecisionTreeRegressor(max_depth = max_depth, min_samples_leaf = min_samples_leaf)\n",
    "        dt.fit(train[features], train[target])\n",
    "        predictions = dt.predict(test[features])\n",
    "        rmse = np.sqrt(mean_squared_error(predictions, test[target]))\n",
    "        relat_rmse = rmse / test[target].std()\n",
    "        res[-1].append(relat_rmse)\n",
    "        \n",
    "display(pd.DataFrame(res, columns=list_min_samples_leaf, index=list_max_depth))\n",
    "\n",
    "plt.imshow(res)\n",
    "plt.colorbar()\n",
    "plt.show()"
   ]
  },
  {
   "cell_type": "markdown",
   "metadata": {},
   "source": [
    "The best parameters have a low value for `min_samples_leaf` and a relatively high value for `max_depth`. \n",
    "The performance is thenclose to the default one.\n",
    "\n",
    "## Random forest\n",
    "\n",
    "Finally, let us train a random forest classifier. \n",
    "\n",
    "### Two features"
   ]
  },
  {
   "cell_type": "code",
   "execution_count": 39,
   "metadata": {},
   "outputs": [
    {
     "name": "stdout",
     "output_type": "stream",
     "text": [
      "rmse / std = 0.6046177338627762\n",
      "Correlation coefficient: 0.7972360349598944\n"
     ]
    }
   ],
   "source": [
    "features = ['temp', 'hr']\n",
    "\n",
    "rf1 = RandomForestRegressor()\n",
    "rf1.fit(train[features], train[target])\n",
    "\n",
    "predictions = rf1.predict(test[features])\n",
    "rmse = np.sqrt(mean_squared_error(predictions, test[target]))\n",
    "relat_rmse = rmse / test[target].std()\n",
    "\n",
    "print('rmse / std = ' + str(relat_rmse))\n",
    "print('Correlation coefficient: ' + str(test[target].reset_index(drop=True).corr(pd.Series(predictions))))"
   ]
  },
  {
   "cell_type": "markdown",
   "metadata": {},
   "source": [
    "Results are close to those obtained with a single tree."
   ]
  },
  {
   "cell_type": "markdown",
   "metadata": {},
   "source": [
    "This is already better than all the linear regression models we tried.\n",
    "\n",
    "### Four features"
   ]
  },
  {
   "cell_type": "code",
   "execution_count": 40,
   "metadata": {},
   "outputs": [
    {
     "name": "stdout",
     "output_type": "stream",
     "text": [
      "rmse / std = 0.6323355324517869\n",
      "Correlation coefficient: 0.7844176141814561\n"
     ]
    }
   ],
   "source": [
    "features = ['temp', 'hr', 'time_label', 'hum']\n",
    "\n",
    "rf2 = RandomForestRegressor()\n",
    "rf2.fit(train[features], train[target])\n",
    "\n",
    "predictions = rf2.predict(test[features])\n",
    "rmse = np.sqrt(mean_squared_error(predictions, test[target]))\n",
    "relat_rmse = rmse / test[target].std()\n",
    "\n",
    "print('rmse / std = ' + str(relat_rmse))\n",
    "print('Correlation coefficient: ' + str(test[target].reset_index(drop=True).corr(pd.Series(predictions))))"
   ]
  },
  {
   "cell_type": "markdown",
   "metadata": {},
   "source": [
    "Results are close to those obtained with two or four features.\n",
    "\n",
    "### Six features"
   ]
  },
  {
   "cell_type": "code",
   "execution_count": 42,
   "metadata": {},
   "outputs": [
    {
     "name": "stdout",
     "output_type": "stream",
     "text": [
      "rmse / std = 0.6312682441774711\n",
      "Correlation coefficient: 0.8020898883849062\n"
     ]
    }
   ],
   "source": [
    "features = ['temp', 'hr', 'time_label', 'hum', 'yr', 'season']\n",
    "\n",
    "rf3 = RandomForestRegressor()\n",
    "rf3.fit(train[features], train[target])\n",
    "\n",
    "predictions = dt3.predict(test[features])\n",
    "rmse = np.sqrt(mean_squared_error(predictions, test[target]))\n",
    "relat_rmse = rmse / test[target].std()\n",
    "\n",
    "print('rmse / std = ' + str(relat_rmse))\n",
    "print('Correlation coefficient: ' + str(test[target].reset_index(drop=True).corr(pd.Series(predictions))))"
   ]
  },
  {
   "cell_type": "markdown",
   "metadata": {},
   "source": [
    "These results are close to those obtained with two features, and better than those obtained with four.\n",
    "\n",
    "### All features"
   ]
  },
  {
   "cell_type": "code",
   "execution_count": 46,
   "metadata": {},
   "outputs": [
    {
     "name": "stdout",
     "output_type": "stream",
     "text": [
      "rmse / std = 0.23443032893508098\n",
      "Correlation coefficient: 0.9721405634830003\n"
     ]
    }
   ],
   "source": [
    "features = ['temp', 'hr', 'time_label', 'hum', 'yr', 'season', 'weathersit', 'mnth', 'windspeed', 'holiday', 'workingday', 'weekday']\n",
    "\n",
    "rf4 = RandomForestRegressor()\n",
    "rf4.fit(train[features], train[target])\n",
    "\n",
    "predictions = rf4.predict(test[features])\n",
    "rmse = np.sqrt(mean_squared_error(predictions, test[target]))\n",
    "relat_rmse = rmse / test[target].std()\n",
    "\n",
    "print('rmse / std = ' + str(relat_rmse))\n",
    "print('Correlation coefficient: ' + str(test[target].reset_index(drop=True).corr(pd.Series(predictions))))"
   ]
  },
  {
   "cell_type": "markdown",
   "metadata": {},
   "source": [
    "A random forest trained with all features achives even better results than a single decision tree. \n",
    "\n",
    "As done above, let us try to vary the parameters `max_depth` and `min_sample_leaf`."
   ]
  },
  {
   "cell_type": "code",
   "execution_count": 63,
   "metadata": {},
   "outputs": [
    {
     "name": "stdout",
     "output_type": "stream",
     "text": [
      "504\t243                                                                                             \n"
     ]
    },
    {
     "data": {
      "text/html": [
       "<div>\n",
       "<style scoped>\n",
       "    .dataframe tbody tr th:only-of-type {\n",
       "        vertical-align: middle;\n",
       "    }\n",
       "\n",
       "    .dataframe tbody tr th {\n",
       "        vertical-align: top;\n",
       "    }\n",
       "\n",
       "    .dataframe thead th {\n",
       "        text-align: right;\n",
       "    }\n",
       "</style>\n",
       "<table border=\"1\" class=\"dataframe\">\n",
       "  <thead>\n",
       "    <tr style=\"text-align: right;\">\n",
       "      <th></th>\n",
       "      <th>1</th>\n",
       "      <th>3</th>\n",
       "      <th>9</th>\n",
       "      <th>27</th>\n",
       "      <th>81</th>\n",
       "      <th>243</th>\n",
       "    </tr>\n",
       "  </thead>\n",
       "  <tbody>\n",
       "    <tr>\n",
       "      <th>2</th>\n",
       "      <td>0.759945</td>\n",
       "      <td>0.760081</td>\n",
       "      <td>0.760696</td>\n",
       "      <td>0.759567</td>\n",
       "      <td>0.760086</td>\n",
       "      <td>0.760184</td>\n",
       "    </tr>\n",
       "    <tr>\n",
       "      <th>6</th>\n",
       "      <td>0.528177</td>\n",
       "      <td>0.529396</td>\n",
       "      <td>0.528702</td>\n",
       "      <td>0.528480</td>\n",
       "      <td>0.533285</td>\n",
       "      <td>0.570715</td>\n",
       "    </tr>\n",
       "    <tr>\n",
       "      <th>18</th>\n",
       "      <td>0.234554</td>\n",
       "      <td>0.240466</td>\n",
       "      <td>0.260441</td>\n",
       "      <td>0.307688</td>\n",
       "      <td>0.422828</td>\n",
       "      <td>0.559014</td>\n",
       "    </tr>\n",
       "    <tr>\n",
       "      <th>56</th>\n",
       "      <td>0.234124</td>\n",
       "      <td>0.240470</td>\n",
       "      <td>0.261653</td>\n",
       "      <td>0.310808</td>\n",
       "      <td>0.425897</td>\n",
       "      <td>0.562053</td>\n",
       "    </tr>\n",
       "    <tr>\n",
       "      <th>168</th>\n",
       "      <td>0.233234</td>\n",
       "      <td>0.238899</td>\n",
       "      <td>0.260210</td>\n",
       "      <td>0.310615</td>\n",
       "      <td>0.420813</td>\n",
       "      <td>0.556631</td>\n",
       "    </tr>\n",
       "    <tr>\n",
       "      <th>504</th>\n",
       "      <td>0.236283</td>\n",
       "      <td>0.239762</td>\n",
       "      <td>0.260822</td>\n",
       "      <td>0.312560</td>\n",
       "      <td>0.422430</td>\n",
       "      <td>0.558831</td>\n",
       "    </tr>\n",
       "  </tbody>\n",
       "</table>\n",
       "</div>"
      ],
      "text/plain": [
       "          1         3         9         27        81        243\n",
       "2    0.759945  0.760081  0.760696  0.759567  0.760086  0.760184\n",
       "6    0.528177  0.529396  0.528702  0.528480  0.533285  0.570715\n",
       "18   0.234554  0.240466  0.260441  0.307688  0.422828  0.559014\n",
       "56   0.234124  0.240470  0.261653  0.310808  0.425897  0.562053\n",
       "168  0.233234  0.238899  0.260210  0.310615  0.420813  0.556631\n",
       "504  0.236283  0.239762  0.260822  0.312560  0.422430  0.558831"
      ]
     },
     "metadata": {},
     "output_type": "display_data"
    },
    {
     "data": {
      "image/png": "[encoded data removed]",
      "text/plain": [
       "<Figure size 432x288 with 2 Axes>"
      ]
     },
     "metadata": {
      "needs_background": "light"
     },
     "output_type": "display_data"
    }
   ],
   "source": [
    "list_max_depth = [2, 6, 18, 56, 168, 504]\n",
    "list_min_samples_leaf = [1, 3, 9, 27, 81, 243]\n",
    "res = []\n",
    "for max_depth in list_max_depth:\n",
    "    res.append([])\n",
    "    for min_samples_leaf in list_min_samples_leaf:\n",
    "        print(' '*100, end = '\\r')\n",
    "        print(str(max_depth) + '\\t' + str(min_samples_leaf), end = '\\r')\n",
    "        rf = RandomForestRegressor(max_depth = max_depth, min_samples_leaf = min_samples_leaf)\n",
    "        rf.fit(train[features], train[target])\n",
    "        predictions = rf.predict(test[features])\n",
    "        rmse = np.sqrt(mean_squared_error(predictions, test[target]))\n",
    "        relat_rmse = rmse / test[target].std()\n",
    "        res[-1].append(relat_rmse)\n",
    "print()\n",
    "        \n",
    "display(pd.DataFrame(res, columns=list_min_samples_leaf, index=list_max_depth))\n",
    "\n",
    "plt.imshow(res)\n",
    "plt.colorbar()\n",
    "plt.show()"
   ]
  },
  {
   "cell_type": "markdown",
   "metadata": {},
   "source": [
    "The best parameters have a low value for `min_samples_leaf` and a relatively high value for `max_depth`. \n",
    "The performance is thenclose to the default one.\n",
    "\n",
    "Let us also try to change the number of estimators:"
   ]
  },
  {
   "cell_type": "code",
   "execution_count": 65,
   "metadata": {},
   "outputs": [
    {
     "name": "stdout",
     "output_type": "stream",
     "text": [
      "900                                                                                                 \n"
     ]
    },
    {
     "data": {
      "image/png": "[encoded data removed]",
      "text/plain": [
       "<Figure size 432x288 with 1 Axes>"
      ]
     },
     "metadata": {
      "needs_background": "light"
     },
     "output_type": "display_data"
    }
   ],
   "source": [
    "list_n_estimators = [1, 3, 10, 30, 100, 300, 900]\n",
    "res = []\n",
    "\n",
    "for n_estimators in list_n_estimators:\n",
    "    print(' '*100, end = '\\r')\n",
    "    print(str(n_estimators), end = '\\r')\n",
    "    rf = RandomForestRegressor(n_estimators = n_estimators)\n",
    "    rf.fit(train[features], train[target])\n",
    "    predictions = rf.predict(test[features])\n",
    "    rmse = np.sqrt(mean_squared_error(predictions, test[target]))\n",
    "    relat_rmse = rmse / test[target].std()\n",
    "    res.append(relat_rmse)\n",
    "print()\n",
    "\n",
    "plt.semilogx(list_n_estimators, res, r'.')\n",
    "plt.xlabel('number of estimators')\n",
    "plt.ylabel('relative rmse')\n",
    "plt.grid()\n",
    "plt.show()"
   ]
  },
  {
   "cell_type": "markdown",
   "metadata": {},
   "source": [
    "The error seems to decrease with the number of estimators increases, before becoming nearly constant when there are more than 300 of them. \n",
    "\n",
    "Let us compute the error and correlation coefficient with 100 estimators:"
   ]
  },
  {
   "cell_type": "code",
   "execution_count": 66,
   "metadata": {},
   "outputs": [
    {
     "name": "stdout",
     "output_type": "stream",
     "text": [
      "rmse / std = 0.23489673285685309\n",
      "Correlation coefficient: 0.9720309839927382\n"
     ]
    }
   ],
   "source": [
    "features = ['temp', 'hr', 'time_label', 'hum', 'yr', 'season', 'weathersit', 'mnth', 'windspeed', 'holiday', 'workingday', 'weekday']\n",
    "\n",
    "rf5 = RandomForestRegressor(n_estimators = 300)\n",
    "rf5.fit(train[features], train[target])\n",
    "\n",
    "predictions = rf5.predict(test[features])\n",
    "rmse = np.sqrt(mean_squared_error(predictions, test[target]))\n",
    "relat_rmse = rmse / test[target].std()\n",
    "\n",
    "print('rmse / std = ' + str(relat_rmse))\n",
    "print('Correlation coefficient: ' + str(test[target].reset_index(drop=True).corr(pd.Series(predictions))))"
   ]
  },
  {
   "cell_type": "markdown",
   "metadata": {},
   "source": [
    "These results are similar to those obtained with the default value (100)."
   ]
  },
  {
   "cell_type": "markdown",
   "metadata": {},
   "source": [
    "## Conclusions\n",
    "\n",
    "In this pproject, we trained a few simple machine learning models to predic the number of bikes rented per hour depending on weather conditions, the date, and the time. \n",
    "We found that **a random forest performs significantly better than a linear regressor and slightly better than a single decision tree**. \n",
    "This is especialy true when using all the features to train the model. \n",
    "We found the minimum error is obtained with 100 or more estimators. \n",
    "The root mean squared error is then smaller than 25% of the validation data's standard deviation, and the correlation coefficient between the prediction and data is higher than 97%.\n",
    "\n",
    "<font style=\"color:rgb(0,100,200)\"><b>To do: <ul>\n",
    "    <li> predict the casual column </li>\n",
    "    <li> predict the registered column </li>\n",
    "</ul></b></font>"
   ]
  }
 ],
 "metadata": {
  "kernelspec": {
   "display_name": "Python 3",
   "language": "python",
   "name": "python3"
  },
  "language_info": {
   "codemirror_mode": {
    "name": "ipython",
    "version": 3
   },
   "file_extension": ".py",
   "mimetype": "text/x-python",
   "name": "python",
   "nbconvert_exporter": "python",
   "pygments_lexer": "ipython3",
   "version": "3.7.0"
  }
 },
 "nbformat": 4,
 "nbformat_minor": 4
}
