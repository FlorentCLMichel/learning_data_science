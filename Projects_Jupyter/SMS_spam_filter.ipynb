{
 "cells": [
  {
   "cell_type": "markdown",
   "metadata": {},
   "source": [
    "# SMS spam filter using a naive Bayes algorithm\n",
    "\n",
    "The aim of this project is to build a simple Short Message Service (SMS) spam filter, *i.e.*, a function taking a string as input and returning `True` if the message is a spam, and `False` if it is not.\n",
    "We will use a multinomial Bayes algorithm, which is first trained on a corpu of spam and non-spam messages. \n",
    "\n",
    "## A few words on the algorithm\n",
    "\n",
    "Schematically, the algorithm works in the following way. \n",
    "We start from a corpus of many text messages labeled as spam or non-spam. \n",
    "Let $N_s$ be the total number of words in spam messages and $N_{ns}$ the tota number of words in non-spam messages. \n",
    "Let $V$ be the size of the vocabulary, *i.e.*, the total number of different words in the corpus. \n",
    "Let us choose a positive number $\\alpha$, hereafter called the smoothing parameter.\n",
    "For each word $w$, we denote by $N_{w|s}$ the number of times $w$ appears in spam messages and by $N_{w|ns}$ the number of times it appears in non-spam messages. \n",
    "We then define the two weights $p_{w|s}$ and $p_{w|ns}$ by: \n",
    "$$p_{w|s} = \\frac{N_{w|s} + \\alpha}{N_s + \\alpha V}$$\n",
    "and\n",
    "$$p_{w|ns} = \\frac{N_{w|ns} + \\alpha}{N_{ns} + \\alpha V}.$$\n",
    "\n",
    "To build some intuition as to what these weights mean, let us consider two particular cases: \n",
    "* If $\\alpha = 0$, we have $p_{w|s} = \\frac{N_{w|s}}{N_s}$: this is he number of times the word $w$ apears in spam messages divided by the total number of words in spams.\n",
    "Assuming the corpus we are working with is representative, $p_{w|s}$ should thus be close to the probability for a word randomly chosen in a set of spam messages to be equal to $w$. \n",
    "Similarly, $p_{w|ns}$ should be close to the probability for a word randomly chosen in a set of non-spam messages to be equal to $w$. \n",
    "These are the weights one would use in a standard Bayesian analysys.\n",
    "* The problem with these weight is that they vanish if $N_{w|s} = 0$ or $N_{w|ns} = 0$, respectively, *i.e.*, if the word $w$ never appears in spam or in non-spam messages present in the corpus. \n",
    "This is a problem because new messages may contain this word. \n",
    "For instance, if our spam filter were trained with the standard Bayesian weights, any message which contains a word which, in the corpus used for training, is present only in non-spam messages, would be classified as non-spam even if the rest of its content clearly indicates it is a spam.\n",
    "The parameter $\\alpha$ is introduced to circumvent this limitation. \n",
    "Indeed, if $N_{w|s} = 0$, for instance, we get $p_{w|s} = \\frac{\\alpha}{N_s + \\alpha V}$: a typically small, but non-vanishing number. \n",
    "* This parameter also prevents the denominator from being small if the corpus contains too few spam or non-spam messages. \n",
    "For instance, if $N_s \\ll V$, we get $p_{w|s} = \\frac{N_{w|s} + \\alpha}{\\alpha V}$. \n",
    "The larger denominator can prevent the model from being too sensitive to small variations in $N_{w|s}$.\n",
    "\n",
    "Let $m$ be a message (not necessarily in the corpus) made of a succession of $n$ words $w_1$, $w_2$, ..., $w_n$. \n",
    "We define the two weights $p_{m|s}$ and $p_{m|ns}$ by: \n",
    "$$p_{m|s} = \\prod_{i=1}^n p_{w_i|s}$$\n",
    "and \n",
    "$$p_{m|ns} = \\prod_{i=1}^n p_{w_i|ns}.$$\n",
    "(Notice that these definitions are compatible with the above ones if $m$ has exactly one word.)\n",
    "We then estimate the probability $P_{s|m}$ that $m$ is a spam as \n",
    "$$P_{s|m} \\equiv \\frac{p_{m|s} P_s}{p_{m|s} P_s + p_{m|ns} (1-P_s)},$$\n",
    "where $P_s$ is the probability that any message is a spam, and label it as spam if $P_{s|m} > 0.5$.\n",
    "\n",
    "For $\\alpha = 0$ and assuming that each word composing $m$ is in the corpus, $P_{s|m}$ would be the probability that $m$ is a spam given by Bayes' theorem starting from a prior $P_s$ and assuming the words are independent of each others. \n",
    "As mentioned above, the parameter $\\alpha$ is introduced to account for words missing in spams or non-spams in the corpus. \n",
    "In the following, we will first choose the prior $P_s = 0.5$, minimizing the Shannon entropy. \n",
    "It could be tempting to improve the estimate by choosing a different prior, *i.e.*, taking the ratio of spam messages in the corpus. \n",
    "However, this would increase the dependence of the outcome in the representativity of the corpus. \n",
    "For this reason, in this project we will first stick to a prior of $0.5$. \n",
    "We will then see whether changing the prior can improve the results. \n",
    "\n",
    "The corpus we will use is in the text file `SMSSpamCollection`, downloaded from [The UCI Machine Learning Repository](https://archive.ics.uci.edu/ml/datasets/sms+spam+collection) on 23 February 2020. \n",
    "It was very slightly modified (I added a quotation mark at the end of line 5082) to ease the import as a Pandas dataframe.\n",
    "It consists of 425 SMS spam messages collected from the Grumbletext website (which seems to be offline at the time of writing (23/02/2020)), 3,375 SMS messages randomly selected from the 10,000 of the NUS SMS Corpus (also offline at the time of writing), 450 SMS ham messages collected from [Caroline Tag's PhD Thesis](https://etheses.bham.ac.uk/id/eprint/253/1/Tagg09PhD.pdf), and 1324 messages from the [SMS Spam Corpus v.0.1 Big](https://www.esp.uem.es/jmgomez/smsspamcorpus/).\n",
    "\n",
    "## Data Exploration\n",
    "\n",
    "Let us first import the Pandas module, which we will use to read and explore the corpus, and the Re module to work with regular expressions.\n",
    "We alsoimport the Pyplot library, which will be used to produce a plot."
   ]
  },
  {
   "cell_type": "code",
   "execution_count": 1,
   "metadata": {},
   "outputs": [],
   "source": [
    "import pandas as pd\n",
    "import re\n",
    "from matplotlib import pyplot as plt"
   ]
  },
  {
   "cell_type": "markdown",
   "metadata": {},
   "source": [
    "We then load the corpus in the `corpus` dataframe:"
   ]
  },
  {
   "cell_type": "code",
   "execution_count": 2,
   "metadata": {},
   "outputs": [],
   "source": [
    "# two columns separated by a tab, no header\n",
    "# the first column is the label and the second one the message\n",
    "corpus = pd.read_csv('../Data/smsspamcollection/SMSSpamCollection', sep='\\t', header=None, names=['Label', 'SMS'])"
   ]
  },
  {
   "cell_type": "markdown",
   "metadata": {},
   "source": [
    "To ease the analysis, we convert the column `Label` to boolean values, replacing `ham` (denoting a non-spam message) by `False` and `spam` by `True`:"
   ]
  },
  {
   "cell_type": "code",
   "execution_count": 3,
   "metadata": {},
   "outputs": [],
   "source": [
    "corpus['Label'] = corpus['Label'].replace({'ham':False, 'spam':True})"
   ]
  },
  {
   "cell_type": "markdown",
   "metadata": {},
   "source": [
    "Let us print a few informations about the dataframe:"
   ]
  },
  {
   "cell_type": "code",
   "execution_count": 4,
   "metadata": {},
   "outputs": [
    {
     "data": {
      "text/html": [
       "<div>\n",
       "<style scoped>\n",
       "    .dataframe tbody tr th:only-of-type {\n",
       "        vertical-align: middle;\n",
       "    }\n",
       "\n",
       "    .dataframe tbody tr th {\n",
       "        vertical-align: top;\n",
       "    }\n",
       "\n",
       "    .dataframe thead th {\n",
       "        text-align: right;\n",
       "    }\n",
       "</style>\n",
       "<table border=\"1\" class=\"dataframe\">\n",
       "  <thead>\n",
       "    <tr style=\"text-align: right;\">\n",
       "      <th></th>\n",
       "      <th>Label</th>\n",
       "      <th>SMS</th>\n",
       "    </tr>\n",
       "  </thead>\n",
       "  <tbody>\n",
       "    <tr>\n",
       "      <th>count</th>\n",
       "      <td>5574</td>\n",
       "      <td>5574</td>\n",
       "    </tr>\n",
       "    <tr>\n",
       "      <th>unique</th>\n",
       "      <td>2</td>\n",
       "      <td>5171</td>\n",
       "    </tr>\n",
       "    <tr>\n",
       "      <th>top</th>\n",
       "      <td>False</td>\n",
       "      <td>Sorry, I'll call later</td>\n",
       "    </tr>\n",
       "    <tr>\n",
       "      <th>freq</th>\n",
       "      <td>4827</td>\n",
       "      <td>30</td>\n",
       "    </tr>\n",
       "  </tbody>\n",
       "</table>\n",
       "</div>"
      ],
      "text/plain": [
       "        Label                     SMS\n",
       "count    5574                    5574\n",
       "unique      2                    5171\n",
       "top     False  Sorry, I'll call later\n",
       "freq     4827                      30"
      ]
     },
     "metadata": {},
     "output_type": "display_data"
    },
    {
     "name": "stdout",
     "output_type": "stream",
     "text": [
      "0.8659849300322928\n"
     ]
    }
   ],
   "source": [
    "summary = corpus.describe()\n",
    "display(summary)\n",
    "nrows = summary.loc['count','Label']\n",
    "print(summary.loc['freq','Label']/nrows)"
   ]
  },
  {
   "cell_type": "markdown",
   "metadata": {},
   "source": [
    "It has 5574 rows, as expected. \n",
    "Most of them (4825, *i.e.*, approximately 87%) correpond to non-spam messages.\n",
    "\n",
    "## Training and test sets\n",
    "\n",
    "We now separate the corpus into a training and a test sets. \n",
    "The later will contain approximately 20% of all messages. "
   ]
  },
  {
   "cell_type": "code",
   "execution_count": 5,
   "metadata": {},
   "outputs": [],
   "source": [
    "# fraction of messages used for the test\n",
    "frac_test = 0.2\n",
    "\n",
    "# randomizing the sample, using a  particular random state to make the results \n",
    "# reproducible (this should not be done in real-world applications!)\n",
    "corpus_rand = corpus.sample(frac=1, random_state=1)\n",
    "\n",
    "# separate it into the training and test dataframes\n",
    "n_messages_training = int((1.-frac_test)*nrows)\n",
    "corpus_training = corpus_rand.iloc[:n_messages_training]\n",
    "corpus_test = corpus_rand.iloc[n_messages_training:]"
   ]
  },
  {
   "cell_type": "markdown",
   "metadata": {},
   "source": [
    "To see whether they are representative, let us compute the percentage of spam messages in each of these dataframes:"
   ]
  },
  {
   "cell_type": "code",
   "execution_count": 6,
   "metadata": {},
   "outputs": [
    {
     "name": "stdout",
     "output_type": "stream",
     "text": [
      "Percentage of spam messages in the training dataframe: 13.47835837631756%\n",
      "Percentage of spam messages in the test dataframe: 13.094170403587444%\n"
     ]
    }
   ],
   "source": [
    "def percentage_spam(df):\n",
    "    return 100 * df['Label'].sum() / df.shape[0]\n",
    "\n",
    "phrase = 'Percentage of spam messages in the {} dataframe: {}%'\n",
    "print(phrase.format('training', percentage_spam(corpus_training)))\n",
    "print(phrase.format('test', percentage_spam(corpus_test)))"
   ]
  },
  {
   "cell_type": "markdown",
   "metadata": {},
   "source": [
    "Both dataframes have between 13.0% and 13.5% of spam messages, which is close to the percentage of spams in the full corpus. \n",
    "They thus seem to be representative. \n",
    "\n",
    "## Building the corpus of words\n",
    "\n",
    "We now want to extract the words from messages in the traning set. \n",
    "To this end, we first replace all non-alphanumerical characters by spaces and convert all letters to lowercase: "
   ]
  },
  {
   "cell_type": "code",
   "execution_count": 7,
   "metadata": {},
   "outputs": [
    {
     "data": {
      "text/html": [
       "<div>\n",
       "<style scoped>\n",
       "    .dataframe tbody tr th:only-of-type {\n",
       "        vertical-align: middle;\n",
       "    }\n",
       "\n",
       "    .dataframe tbody tr th {\n",
       "        vertical-align: top;\n",
       "    }\n",
       "\n",
       "    .dataframe thead th {\n",
       "        text-align: right;\n",
       "    }\n",
       "</style>\n",
       "<table border=\"1\" class=\"dataframe\">\n",
       "  <thead>\n",
       "    <tr style=\"text-align: right;\">\n",
       "      <th></th>\n",
       "      <th>Label</th>\n",
       "      <th>SMS</th>\n",
       "    </tr>\n",
       "  </thead>\n",
       "  <tbody>\n",
       "    <tr>\n",
       "      <th>1447</th>\n",
       "      <td>False</td>\n",
       "      <td>looks like u wil b getting a headstart im leav...</td>\n",
       "    </tr>\n",
       "    <tr>\n",
       "      <th>2032</th>\n",
       "      <td>False</td>\n",
       "      <td>i noe la    u wana pei bf oso rite    k lor  o...</td>\n",
       "    </tr>\n",
       "    <tr>\n",
       "      <th>4432</th>\n",
       "      <td>False</td>\n",
       "      <td>2mro i am not coming to gym machan  goodnight</td>\n",
       "    </tr>\n",
       "    <tr>\n",
       "      <th>4888</th>\n",
       "      <td>True</td>\n",
       "      <td>todays vodafone numbers ending with 4882 are s...</td>\n",
       "    </tr>\n",
       "    <tr>\n",
       "      <th>5276</th>\n",
       "      <td>False</td>\n",
       "      <td>hi  hope ur day   good  back from walk  table ...</td>\n",
       "    </tr>\n",
       "    <tr>\n",
       "      <th>...</th>\n",
       "      <td>...</td>\n",
       "      <td>...</td>\n",
       "    </tr>\n",
       "    <tr>\n",
       "      <th>4255</th>\n",
       "      <td>False</td>\n",
       "      <td>how about clothes  jewelry  and trips</td>\n",
       "    </tr>\n",
       "    <tr>\n",
       "      <th>1982</th>\n",
       "      <td>False</td>\n",
       "      <td>sorry  i ll call later in meeting any thing re...</td>\n",
       "    </tr>\n",
       "    <tr>\n",
       "      <th>4755</th>\n",
       "      <td>False</td>\n",
       "      <td>ok lor    or u wan me go look 4 u</td>\n",
       "    </tr>\n",
       "    <tr>\n",
       "      <th>4020</th>\n",
       "      <td>True</td>\n",
       "      <td>u ve been selected to stay in 1 of 250 top bri...</td>\n",
       "    </tr>\n",
       "    <tr>\n",
       "      <th>371</th>\n",
       "      <td>False</td>\n",
       "      <td>hello my boytoy     geeee i miss you already a...</td>\n",
       "    </tr>\n",
       "  </tbody>\n",
       "</table>\n",
       "<p>4459 rows × 2 columns</p>\n",
       "</div>"
      ],
      "text/plain": [
       "      Label                                                SMS\n",
       "1447  False  looks like u wil b getting a headstart im leav...\n",
       "2032  False  i noe la    u wana pei bf oso rite    k lor  o...\n",
       "4432  False     2mro i am not coming to gym machan  goodnight \n",
       "4888   True  todays vodafone numbers ending with 4882 are s...\n",
       "5276  False  hi  hope ur day   good  back from walk  table ...\n",
       "...     ...                                                ...\n",
       "4255  False             how about clothes  jewelry  and trips \n",
       "1982  False  sorry  i ll call later in meeting any thing re...\n",
       "4755  False                 ok lor    or u wan me go look 4 u \n",
       "4020   True  u ve been selected to stay in 1 of 250 top bri...\n",
       "371   False  hello my boytoy     geeee i miss you already a...\n",
       "\n",
       "[4459 rows x 2 columns]"
      ]
     },
     "execution_count": 7,
     "metadata": {},
     "output_type": "execute_result"
    }
   ],
   "source": [
    "corpus_training = corpus_training.copy() # to prevent an irrelevant warning\n",
    "corpus_training['SMS'] = corpus_training['SMS'].str.replace('\\W', ' ')\n",
    "corpus_training = corpus_training.copy() # to prevent a false warning\n",
    "corpus_training.loc[:,'SMS'] = corpus_training['SMS'].str.lower()\n",
    "corpus_training"
   ]
  },
  {
   "cell_type": "markdown",
   "metadata": {},
   "source": [
    "We now define the set `vocabulary` containing all the words present in training messages:"
   ]
  },
  {
   "cell_type": "code",
   "execution_count": 8,
   "metadata": {},
   "outputs": [],
   "source": [
    "vocabulary = {w for i in range(corpus_training.shape[0]) for w in corpus_training.iloc[i, 1].split()}"
   ]
  },
  {
   "cell_type": "markdown",
   "metadata": {},
   "source": [
    "The two dictionaries `count_words_spam` and `count_words_non_spam` count the number of occurrences of each word in the spam and non-spam messages, respectively:"
   ]
  },
  {
   "cell_type": "code",
   "execution_count": 9,
   "metadata": {},
   "outputs": [],
   "source": [
    "count_words_spam = dict()\n",
    "count_words_non_spam = dict()\n",
    "for i in range(corpus_training.shape[0]):\n",
    "    if corpus_training.iloc[i,0]: # if the message is a spam\n",
    "        for w in corpus_training.iloc[i, 1].split():\n",
    "            if w in count_words_spam:\n",
    "                count_words_spam[w] += 1\n",
    "            else:\n",
    "                count_words_spam[w] = 1\n",
    "    else:\n",
    "        for w in corpus_training.iloc[i, 1].split():\n",
    "            if w in count_words_non_spam:\n",
    "                count_words_non_spam[w] += 1\n",
    "            else:\n",
    "                count_words_non_spam[w] = 1"
   ]
  },
  {
   "cell_type": "markdown",
   "metadata": {},
   "source": [
    "We now compute the total number `Ns` of words in spams, `Nns` of words in non-spam messages, and the size `V` of the vocabulary:"
   ]
  },
  {
   "cell_type": "code",
   "execution_count": 10,
   "metadata": {},
   "outputs": [],
   "source": [
    "Ns = sum(count_words_spam.values())\n",
    "Nns = sum(count_words_non_spam.values())\n",
    "V = len(vocabulary)"
   ]
  },
  {
   "cell_type": "markdown",
   "metadata": {},
   "source": [
    "The prior probability of a message being a spam, `Ps`, is set to 0.5, and the smoothing parameter `alpha` to 1."
   ]
  },
  {
   "cell_type": "code",
   "execution_count": 11,
   "metadata": {},
   "outputs": [],
   "source": [
    "Ps = 0.5\n",
    "alpha = 1."
   ]
  },
  {
   "cell_type": "markdown",
   "metadata": {},
   "source": [
    "## Computing $p_{w|s}$ and $p_{w|ns}$\n",
    "\n",
    "To make the spam filter more efficient, we pre-compute the conditional probabilities for each word in the vocabulary to appear given that a message is or is not a spam. \n",
    "The results are stored in the dictionaries `p_w_s` and `p_w_ns`. \n",
    "We also define the weight `p_not_in_V_s` and `p_not_in_V_ns` for a word not in the vocabulary."
   ]
  },
  {
   "cell_type": "code",
   "execution_count": 12,
   "metadata": {},
   "outputs": [],
   "source": [
    "p_w_s = {w: (count_words_spam[w] + alpha) / (Ns + alpha*V) for w in count_words_spam}\n",
    "p_w_ns = {w: (count_words_non_spam[w] + alpha) / (Nns + alpha*V) for w in count_words_non_spam}\n",
    "\n",
    "p_not_in_V_s = alpha / (Ns + alpha*V)\n",
    "p_not_in_V_ns = alpha / (Nns + alpha*V)"
   ]
  },
  {
   "cell_type": "markdown",
   "metadata": {},
   "source": [
    "## The `classify` function\n",
    "\n",
    "We define the `classify` function taking a message as a string and returning `True ` if it seems to be a spam and `False` otherwise. \n",
    "If the argument `probability` is set to `True`, it returns the probability that the message is a spam instead."
   ]
  },
  {
   "cell_type": "code",
   "execution_count": 13,
   "metadata": {},
   "outputs": [],
   "source": [
    "def classify(message, probability=False, \n",
    "             threshold = 0.5, minval = 10.**(-50)):\n",
    "    '''\n",
    "    Function to estimate if the message seems to be a spam.\n",
    "    If probability is False, it returns True if the message seems to be a spam \n",
    "    and False otherwise. \n",
    "    If probability is True, it returns the estimated probability for the \n",
    "    message to be a spam.\n",
    "    If weights fall below minval, we increase them to avoid reaching 0.\n",
    "    The parameters thresholdis the probability above which we consider the \n",
    "    message is a spam.\n",
    "    '''\n",
    "    \n",
    "    # convert the message to lowercase and replace non-alphanumerical characters by spaces\n",
    "    message = re.sub('\\W', ' ', message).lower()\n",
    "    \n",
    "    # split the message into words\n",
    "    words = message.split()\n",
    "    \n",
    "    # if there is no word, stop the analysis\n",
    "    if not words:\n",
    "        print('I can\\'t find any word in this message')\n",
    "        return None\n",
    "    \n",
    "    # compute p_{m|s} and p_{m|ns}\n",
    "    p_m_s = 1.\n",
    "    p_m_ns = 1.\n",
    "    for w in words:\n",
    "        if w in p_w_s: \n",
    "            p_m_s *= p_w_s[w]\n",
    "        else: \n",
    "            p_m_s *= p_not_in_V_s\n",
    "        if w in p_w_ns: \n",
    "            p_m_ns *= p_w_ns[w]\n",
    "        else: \n",
    "            p_m_ns *= p_not_in_V_ns\n",
    "        while (p_m_s < minval) or (p_m_ns < minval): \n",
    "            p_m_s *= 2\n",
    "            p_m_ns *= 2\n",
    "            \n",
    "    # compute P_{s|m}\n",
    "    P_s_m = p_m_s * Ps / (p_m_s * Ps + p_m_ns * (1.-Ps))\n",
    "    \n",
    "    if probability:\n",
    "        return P_s_m\n",
    "    else:\n",
    "        return P_s_m > threshold"
   ]
  },
  {
   "cell_type": "markdown",
   "metadata": {},
   "source": [
    "Let us test it on two messages: one which is probably a spam and one which is probably not."
   ]
  },
  {
   "cell_type": "code",
   "execution_count": 14,
   "metadata": {},
   "outputs": [
    {
     "name": "stdout",
     "output_type": "stream",
     "text": [
      "True\n",
      "False\n"
     ]
    }
   ],
   "source": [
    "probably_spam = 'WINNER!! This is the secret code to unlock the money: C3421.'\n",
    "probably_non_spam = \"Sounds good, Tom, then see u there\"\n",
    "\n",
    "print(classify(probably_spam))\n",
    "print(classify(probably_non_spam))"
   ]
  },
  {
   "cell_type": "markdown",
   "metadata": {},
   "source": [
    "## Testing the `classify` function\n",
    "\n",
    "Let us now test this function on the test set. \n",
    "We define the accuracy as the fraction of messages correctly labeled. \n",
    "We store the indices of the mislabeled messages in the list `mislabeled`."
   ]
  },
  {
   "cell_type": "code",
   "execution_count": 15,
   "metadata": {},
   "outputs": [
    {
     "name": "stdout",
     "output_type": "stream",
     "text": [
      "The accuracy is: 0.963\n"
     ]
    }
   ],
   "source": [
    "correct = 0\n",
    "total = 0\n",
    "mislabeled = []\n",
    "\n",
    "for i in range(corpus_test.shape[0]):\n",
    "    total += 1\n",
    "    if classify(corpus_test.iloc[i,1]) == corpus_test.iloc[i,0]:\n",
    "        correct += 1\n",
    "    else: \n",
    "        mislabeled.append(i)\n",
    "\n",
    "accuracy = correct / total\n",
    "print('The accuracy is: {:.3f}'.format(accuracy))"
   ]
  },
  {
   "cell_type": "markdown",
   "metadata": {},
   "source": [
    "Our spam filter reaches an accuracy of 0.96, which is fairly good.\n",
    "\n",
    "## Changing the prior\n",
    "\n",
    "Let us now see what happens if taking as prior the fraction of spams in the training set."
   ]
  },
  {
   "cell_type": "code",
   "execution_count": 16,
   "metadata": {},
   "outputs": [
    {
     "name": "stdout",
     "output_type": "stream",
     "text": [
      "The accuracy is: 0.984\n"
     ]
    }
   ],
   "source": [
    "N_s_training = corpus_training['Label'].sum()\n",
    "N_ns_training = corpus_training.shape[0] - N_s_training\n",
    "Ps = N_s_training / (N_s_training + N_ns_training)\n",
    "\n",
    "correct = 0\n",
    "total = 0\n",
    "mislabeled = []\n",
    "\n",
    "for i in range(corpus_test.shape[0]):\n",
    "    total += 1\n",
    "    if classify(corpus_test.iloc[i,1]) == corpus_test.iloc[i,0]:\n",
    "        correct += 1\n",
    "    else: \n",
    "        mislabeled.append(i)\n",
    "\n",
    "accuracy = correct / total\n",
    "print('The accuracy is: {:.3f}'.format(accuracy))"
   ]
  },
  {
   "cell_type": "markdown",
   "metadata": {},
   "source": [
    "The accuracy becomes larger than 0.98, which seems to indicate that it is a more suitable choice of prior. \n",
    "Let us see which messages are still mislabeled: "
   ]
  },
  {
   "cell_type": "code",
   "execution_count": 17,
   "metadata": {},
   "outputs": [
    {
     "data": {
      "text/html": [
       "<div>\n",
       "<style scoped>\n",
       "    .dataframe tbody tr th:only-of-type {\n",
       "        vertical-align: middle;\n",
       "    }\n",
       "\n",
       "    .dataframe tbody tr th {\n",
       "        vertical-align: top;\n",
       "    }\n",
       "\n",
       "    .dataframe thead th {\n",
       "        text-align: right;\n",
       "    }\n",
       "</style>\n",
       "<table border=\"1\" class=\"dataframe\">\n",
       "  <thead>\n",
       "    <tr style=\"text-align: right;\">\n",
       "      <th></th>\n",
       "      <th>Label</th>\n",
       "      <th>SMS</th>\n",
       "    </tr>\n",
       "  </thead>\n",
       "  <tbody>\n",
       "    <tr>\n",
       "      <th>3460</th>\n",
       "      <td>True</td>\n",
       "      <td>Not heard from U4 a while. Call me now am here...</td>\n",
       "    </tr>\n",
       "    <tr>\n",
       "      <th>3890</th>\n",
       "      <td>False</td>\n",
       "      <td>Unlimited texts. Limited minutes.</td>\n",
       "    </tr>\n",
       "    <tr>\n",
       "      <th>991</th>\n",
       "      <td>False</td>\n",
       "      <td>26th OF JULY</td>\n",
       "    </tr>\n",
       "    <tr>\n",
       "      <th>989</th>\n",
       "      <td>False</td>\n",
       "      <td>Yun ah.the ubi one say if ü wan call by tomorr...</td>\n",
       "    </tr>\n",
       "    <tr>\n",
       "      <th>4488</th>\n",
       "      <td>False</td>\n",
       "      <td>Miss call miss call khelate kintu opponenter m...</td>\n",
       "    </tr>\n",
       "    <tr>\n",
       "      <th>326</th>\n",
       "      <td>False</td>\n",
       "      <td>No calls..messages..missed calls</td>\n",
       "    </tr>\n",
       "    <tr>\n",
       "      <th>3149</th>\n",
       "      <td>False</td>\n",
       "      <td>CHEERS U TEX MECAUSE U WEREBORED! YEAH OKDEN H...</td>\n",
       "    </tr>\n",
       "    <tr>\n",
       "      <th>2419</th>\n",
       "      <td>False</td>\n",
       "      <td>Madam,regret disturbance.might receive a refer...</td>\n",
       "    </tr>\n",
       "    <tr>\n",
       "      <th>3864</th>\n",
       "      <td>True</td>\n",
       "      <td>Oh my god! I've found your number again! I'm s...</td>\n",
       "    </tr>\n",
       "    <tr>\n",
       "      <th>4676</th>\n",
       "      <td>True</td>\n",
       "      <td>Hi babe its Chloe, how r u? I was smashed on s...</td>\n",
       "    </tr>\n",
       "    <tr>\n",
       "      <th>3094</th>\n",
       "      <td>False</td>\n",
       "      <td>staff.science.nus.edu.sg/~phyhcmk/teaching/pc1323</td>\n",
       "    </tr>\n",
       "    <tr>\n",
       "      <th>5336</th>\n",
       "      <td>False</td>\n",
       "      <td>Garbage bags, eggs, jam, bread, hannaford whea...</td>\n",
       "    </tr>\n",
       "    <tr>\n",
       "      <th>886</th>\n",
       "      <td>False</td>\n",
       "      <td>Gibbs unsold.mike hussey</td>\n",
       "    </tr>\n",
       "    <tr>\n",
       "      <th>5455</th>\n",
       "      <td>False</td>\n",
       "      <td>Except theres a chick with huge boobs.</td>\n",
       "    </tr>\n",
       "    <tr>\n",
       "      <th>1638</th>\n",
       "      <td>True</td>\n",
       "      <td>0A$NETWORKS allow companies to bill for SMS, s...</td>\n",
       "    </tr>\n",
       "    <tr>\n",
       "      <th>2171</th>\n",
       "      <td>False</td>\n",
       "      <td>CAN I PLEASE COME UP NOW IMIN TOWN.DONTMATTER ...</td>\n",
       "    </tr>\n",
       "    <tr>\n",
       "      <th>869</th>\n",
       "      <td>True</td>\n",
       "      <td>Hello. We need some posh birds and chaps to us...</td>\n",
       "    </tr>\n",
       "    <tr>\n",
       "      <th>3270</th>\n",
       "      <td>False</td>\n",
       "      <td>Raviyog Peripherals bhayandar east</td>\n",
       "    </tr>\n",
       "  </tbody>\n",
       "</table>\n",
       "</div>"
      ],
      "text/plain": [
       "      Label                                                SMS\n",
       "3460   True  Not heard from U4 a while. Call me now am here...\n",
       "3890  False                  Unlimited texts. Limited minutes.\n",
       "991   False                                       26th OF JULY\n",
       "989   False  Yun ah.the ubi one say if ü wan call by tomorr...\n",
       "4488  False  Miss call miss call khelate kintu opponenter m...\n",
       "326   False                   No calls..messages..missed calls\n",
       "3149  False  CHEERS U TEX MECAUSE U WEREBORED! YEAH OKDEN H...\n",
       "2419  False  Madam,regret disturbance.might receive a refer...\n",
       "3864   True  Oh my god! I've found your number again! I'm s...\n",
       "4676   True  Hi babe its Chloe, how r u? I was smashed on s...\n",
       "3094  False  staff.science.nus.edu.sg/~phyhcmk/teaching/pc1323\n",
       "5336  False  Garbage bags, eggs, jam, bread, hannaford whea...\n",
       "886   False                           Gibbs unsold.mike hussey\n",
       "5455  False             Except theres a chick with huge boobs.\n",
       "1638   True  0A$NETWORKS allow companies to bill for SMS, s...\n",
       "2171  False  CAN I PLEASE COME UP NOW IMIN TOWN.DONTMATTER ...\n",
       "869    True  Hello. We need some posh birds and chaps to us...\n",
       "3270  False                 Raviyog Peripherals bhayandar east"
      ]
     },
     "execution_count": 17,
     "metadata": {},
     "output_type": "execute_result"
    }
   ],
   "source": [
    "corpus_test.iloc[mislabeled]"
   ]
  },
  {
   "cell_type": "markdown",
   "metadata": {},
   "source": [
    "Most of them are genuine messages mislabeled as spams.\n",
    "\n",
    "## Taking new messages into account\n",
    "\n",
    "One of the features of machine learning compared with classical statistical anaysis is the possibility to continually learn by including new information. \n",
    "To take advantage of this, we define the function `update` taking a message as a string, a label `True` or `False`, and updating the parameters. "
   ]
  },
  {
   "cell_type": "code",
   "execution_count": 18,
   "metadata": {},
   "outputs": [],
   "source": [
    "def update(message, is_spam, change_prior=False):\n",
    "    '''\n",
    "    This function updates the spam filter given a new message and a label \n",
    "    is_spam equal to true if it is a spam and False otherwise. \n",
    "    If change_prior is true, the prior Ps is updated\n",
    "    \n",
    "    message: string\n",
    "    is_spam: bool\n",
    "    change_prior: bool (optional)\n",
    "    '''\n",
    "    \n",
    "    # define variables as global to be able to modify them \n",
    "    global N_s_training, N_ns_training, Ps, p_w_s, p_w_ns, p_not_in_V_s, \\\n",
    "           p_not_in_V_ns, count_words_spam, count_words_non_spam, Ns, Nns, \\\n",
    "           vocabulary, V\n",
    "    \n",
    "    # add new words to the vocabulary\n",
    "    \n",
    "    if is_spam:\n",
    "        N_s_training += 1\n",
    "        for word in re.sub('\\W', ' ', message).lower().split():\n",
    "            vocabulary.add(word)\n",
    "            if w in count_words_spam:\n",
    "                count_words_spam[w] += 1\n",
    "            else:\n",
    "                count_words_spam[w] = 1\n",
    "        V = len(vocabulary)\n",
    "        Ns = sum(count_words_spam[w] for w in count_words_spam)\n",
    "    else:    \n",
    "        N_ns_training += 1\n",
    "        for word in re.sub('\\W', ' ', message).lower().split():\n",
    "            vocabulary.add(word)\n",
    "            if w in count_words_non_spam:\n",
    "                count_words_non_spam[w] += 1\n",
    "            else:\n",
    "                count_words_non_spam[w] = 1\n",
    "        V = len(vocabulary)\n",
    "        Nns = sum(count_words_non_spam[w] for w in count_words_non_spam)\n",
    "        \n",
    "    if change_prior:\n",
    "        Ps = N_s_training / (N_s_training + N_ns_training)\n",
    "    \n",
    "    p_w_s = {w: (count_words_spam[w] + alpha) / (Ns + alpha*V) for w in count_words_spam}\n",
    "    p_w_ns = {w: (count_words_non_spam[w] + alpha) / (Nns + alpha*V) for w in count_words_non_spam}\n",
    "\n",
    "    p_not_in_V_s = alpha / (Ns + alpha*V)\n",
    "    p_not_in_V_ns = alpha / (Nns + alpha*V)"
   ]
  },
  {
   "cell_type": "markdown",
   "metadata": {},
   "source": [
    "## Changing the value of $\\alpha$\n",
    "\n",
    "Let us now see how changing $\\alpha$ affects the results. \n",
    "To this end, we define the function `update_alpha_and_train` wich changes the value of $\\alpha$, re-trains the model, and prints its acuracy."
   ]
  },
  {
   "cell_type": "code",
   "execution_count": 19,
   "metadata": {},
   "outputs": [],
   "source": [
    "def update_alpha_and_train(new_alpha):\n",
    "    '''\n",
    "    update the value fof alpha, re-train the model, and return its accuracy\n",
    "    '''\n",
    "    global alpha, p_w_s, p_w_ns, p_not_in_V_s, p_not_in_V_ns\n",
    "    \n",
    "    # update alpha\n",
    "    alpha = new_alpha\n",
    "\n",
    "    # re-compute the weights\n",
    "    p_w_s = {w: (count_words_spam[w] + alpha) / (Ns + alpha*V) for w in count_words_spam}\n",
    "    p_w_ns = {w: (count_words_non_spam[w] + alpha) / (Nns + alpha*V) for w in count_words_non_spam}\n",
    "\n",
    "    p_not_in_V_s = alpha / (Ns + alpha*V)\n",
    "    p_not_in_V_ns = alpha / (Nns + alpha*V)\n",
    "\n",
    "    correct = 0\n",
    "    total = 0\n",
    "    mislabeled = []\n",
    "\n",
    "    for i in range(corpus_test.shape[0]):\n",
    "        total += 1\n",
    "        if classify(corpus_test.iloc[i,1]) == corpus_test.iloc[i,0]:\n",
    "            correct += 1\n",
    "        else: \n",
    "            mislabeled.append(i)\n",
    "\n",
    "    accuracy = correct / total\n",
    "    return accuracy"
   ]
  },
  {
   "cell_type": "markdown",
   "metadata": {},
   "source": [
    "We try with $\\alpha$ ranging from 0.0001 to 10:"
   ]
  },
  {
   "cell_type": "code",
   "execution_count": 20,
   "metadata": {},
   "outputs": [
    {
     "data": {
      "image/png": "[encoded data removed]",
      "text/plain": [
       "<Figure size 432x288 with 1 Axes>"
      ]
     },
     "metadata": {
      "needs_background": "light"
     },
     "output_type": "display_data"
    }
   ],
   "source": [
    "alpha_min = 0.0001\n",
    "alpha_max = 10.\n",
    "n_values = 100\n",
    "\n",
    "alpha_values = [alpha_min*(alpha_max/alpha_min)**(i/(n_values+1)) for i in range(n_values)]\n",
    "acc_values = list(map(update_alpha_and_train, alpha_values))\n",
    "\n",
    "plt.semilogx(alpha_values, acc_values)\n",
    "plt.xlim(alpha_min, alpha_max)\n",
    "plt.xlabel(r'$\\alpha$')\n",
    "plt.ylabel('accuracy')\n",
    "plt.grid()"
   ]
  },
  {
   "cell_type": "markdown",
   "metadata": {},
   "source": [
    "The resulting accuracy seems to be virtually independent of $\\alpha$, although choosing $\\alpha = 0.01$ seems to give the best results, with an accuracy of $0.99$.\n",
    "\n",
    "## Conclusion\n",
    "\n",
    "In this project, we built a classifier to determine whether an SMS is a spam or not, using a naive Bayes algorithm. \n",
    "We found that best results are achived when whoosing as prior the fraction of spam messages in the corpus and a value of the smoothing parameter close to 0.01. \n",
    "The resulting accuracy was 99%. \n",
    "\n",
    "This indcates that, if this model were to be used in real-world applications, a good prior to start with would be the fraction of SMS received by a user that are spam. \n",
    "The optimum value of $\\alpha$ will likely depend on the size ot the corpus (we expect it to decrease as the size of the corpus increses). \n",
    "From our results, taking $\\alpha = 0.01$ should be a good starting value if the available corpus has a few thousand messages. "
   ]
  }
 ],
 "metadata": {
  "kernelspec": {
   "display_name": "Python 3",
   "language": "python",
   "name": "python3"
  },
  "language_info": {
   "codemirror_mode": {
    "name": "ipython",
    "version": 3
   },
   "file_extension": ".py",
   "mimetype": "text/x-python",
   "name": "python",
   "nbconvert_exporter": "python",
   "pygments_lexer": "ipython3",
   "version": "3.8.5"
  }
 },
 "nbformat": 4,
 "nbformat_minor": 4
}
