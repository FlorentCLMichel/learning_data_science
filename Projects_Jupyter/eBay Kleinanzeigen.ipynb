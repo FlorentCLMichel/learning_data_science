{
 "cells": [
  {
   "cell_type": "markdown",
   "metadata": {},
   "source": [
    "# Exploring a datase of used cars from eBay Kleinanzeigen"
   ]
  },
  {
   "cell_type": "markdown",
   "metadata": {},
   "source": [
    "## Introduction\n",
    "\n",
    "In this short project, we clean a dataset of cars sold on eBay to prepare for a statistical analysis. \n",
    "Our main goals are: \n",
    "* to make the dataset usable for statistical analysis\n",
    "* to determine the most popular and expensive brands."
   ]
  },
  {
   "cell_type": "markdown",
   "metadata": {},
   "source": [
    "## The dataset\n",
    "\n",
    "The dataset we work with, downloaded from [Dataquest](https://app.dataquest.io/m/294/guided-project%3A-exploring-ebay-car-sales-data), is a modified version of a database scrapped by Orges Leka from Ebay-Kleinanzeigen, available on [Kaggle](https://www.kaggle.com/orgesleka/used-cars-database/data). The original dataset was created on 19 November 2016, last updated (at the time of writing) on 28 November 2016, and contains data of ads for more than 370000 used cars. The one we will use contains a subset of 50000 rows. \n",
    "For learning purposes, the data was made less clean than the original. \n",
    "\n",
    "It has 20 columns: \n",
    "* `dateCrawled`: date when the ad was crawled, \n",
    "* `name`: name of the car,\n",
    "* `seller`: indicates whether the seller is private or a professional dealer,\n",
    "* `offertype`: the type of listing,\n",
    "* `price`: the price on the ad,\n",
    "* `abtest`: whether the listing is included in an A/B test,\n",
    "* `vehicleType`: the type of vehicle,\n",
    "* `yearOfRegistration`: year when the vehicle was first registered,\n",
    "* `gearbox`: the transmission type, \n",
    "* `powerPS`: power of the vehicle in PS (1PS $\\approx$ 0.7355kW),\n",
    "* `model`: the model of the vehicle,\n",
    "* `kilometer` : how many kilometers the vehicle has driven,\n",
    "* `monthOfRegistration`: month when the vehicle was first registered,\n",
    "* `fuelType`: type of fuel used by the vehicle, \n",
    "* `brand`: the brand of the vehicle, \n",
    "* `notRepairedDamage`: whether the vehicle has some unrepaired damage, \n",
    "* `dateCreated`: creation date for the eBay listing, \n",
    "* `nrOfPictures`: supposedly the number of pictures in the ad, actually always 0 due to a bug, \n",
    "* `postalCode`: postal code for the location of the vehicle,\n",
    "* `lastSeenOnline`: when the crawler saw the ad online last.\n",
    "\n",
    "We first import the Pandas and NumPy libraries, which we will use extensively in this project."
   ]
  },
  {
   "cell_type": "code",
   "execution_count": 1,
   "metadata": {},
   "outputs": [],
   "source": [
    "import numpy as np\n",
    "import pandas as pd"
   ]
  },
  {
   "cell_type": "markdown",
   "metadata": {},
   "source": [
    "We then import the dataset as the Pandas dataframe `autos` and print basic information as well as its first 10 rows. By trial and errors, we found that the encoding is Latin-1. "
   ]
  },
  {
   "cell_type": "code",
   "execution_count": 2,
   "metadata": {},
   "outputs": [
    {
     "name": "stdout",
     "output_type": "stream",
     "text": [
      "<class 'pandas.core.frame.DataFrame'>\n",
      "RangeIndex: 50000 entries, 0 to 49999\n",
      "Data columns (total 20 columns):\n",
      "dateCrawled            50000 non-null object\n",
      "name                   50000 non-null object\n",
      "seller                 50000 non-null object\n",
      "offerType              50000 non-null object\n",
      "price                  50000 non-null object\n",
      "abtest                 50000 non-null object\n",
      "vehicleType            44905 non-null object\n",
      "yearOfRegistration     50000 non-null int64\n",
      "gearbox                47320 non-null object\n",
      "powerPS                50000 non-null int64\n",
      "model                  47242 non-null object\n",
      "odometer               50000 non-null object\n",
      "monthOfRegistration    50000 non-null int64\n",
      "fuelType               45518 non-null object\n",
      "brand                  50000 non-null object\n",
      "notRepairedDamage      40171 non-null object\n",
      "dateCreated            50000 non-null object\n",
      "nrOfPictures           50000 non-null int64\n",
      "postalCode             50000 non-null int64\n",
      "lastSeen               50000 non-null object\n",
      "dtypes: int64(5), object(15)\n",
      "memory usage: 7.6+ MB\n",
      "None\n"
     ]
    },
    {
     "data": {
      "text/html": [
       "<div>\n",
       "<style scoped>\n",
       "    .dataframe tbody tr th:only-of-type {\n",
       "        vertical-align: middle;\n",
       "    }\n",
       "\n",
       "    .dataframe tbody tr th {\n",
       "        vertical-align: top;\n",
       "    }\n",
       "\n",
       "    .dataframe thead th {\n",
       "        text-align: right;\n",
       "    }\n",
       "</style>\n",
       "<table border=\"1\" class=\"dataframe\">\n",
       "  <thead>\n",
       "    <tr style=\"text-align: right;\">\n",
       "      <th></th>\n",
       "      <th>dateCrawled</th>\n",
       "      <th>name</th>\n",
       "      <th>seller</th>\n",
       "      <th>offerType</th>\n",
       "      <th>price</th>\n",
       "      <th>abtest</th>\n",
       "      <th>vehicleType</th>\n",
       "      <th>yearOfRegistration</th>\n",
       "      <th>gearbox</th>\n",
       "      <th>powerPS</th>\n",
       "      <th>model</th>\n",
       "      <th>odometer</th>\n",
       "      <th>monthOfRegistration</th>\n",
       "      <th>fuelType</th>\n",
       "      <th>brand</th>\n",
       "      <th>notRepairedDamage</th>\n",
       "      <th>dateCreated</th>\n",
       "      <th>nrOfPictures</th>\n",
       "      <th>postalCode</th>\n",
       "      <th>lastSeen</th>\n",
       "    </tr>\n",
       "  </thead>\n",
       "  <tbody>\n",
       "    <tr>\n",
       "      <th>0</th>\n",
       "      <td>2016-03-26 17:47:46</td>\n",
       "      <td>Peugeot_807_160_NAVTECH_ON_BOARD</td>\n",
       "      <td>privat</td>\n",
       "      <td>Angebot</td>\n",
       "      <td>$5,000</td>\n",
       "      <td>control</td>\n",
       "      <td>bus</td>\n",
       "      <td>2004</td>\n",
       "      <td>manuell</td>\n",
       "      <td>158</td>\n",
       "      <td>andere</td>\n",
       "      <td>150,000km</td>\n",
       "      <td>3</td>\n",
       "      <td>lpg</td>\n",
       "      <td>peugeot</td>\n",
       "      <td>nein</td>\n",
       "      <td>2016-03-26 00:00:00</td>\n",
       "      <td>0</td>\n",
       "      <td>79588</td>\n",
       "      <td>2016-04-06 06:45:54</td>\n",
       "    </tr>\n",
       "    <tr>\n",
       "      <th>1</th>\n",
       "      <td>2016-04-04 13:38:56</td>\n",
       "      <td>BMW_740i_4_4_Liter_HAMANN_UMBAU_Mega_Optik</td>\n",
       "      <td>privat</td>\n",
       "      <td>Angebot</td>\n",
       "      <td>$8,500</td>\n",
       "      <td>control</td>\n",
       "      <td>limousine</td>\n",
       "      <td>1997</td>\n",
       "      <td>automatik</td>\n",
       "      <td>286</td>\n",
       "      <td>7er</td>\n",
       "      <td>150,000km</td>\n",
       "      <td>6</td>\n",
       "      <td>benzin</td>\n",
       "      <td>bmw</td>\n",
       "      <td>nein</td>\n",
       "      <td>2016-04-04 00:00:00</td>\n",
       "      <td>0</td>\n",
       "      <td>71034</td>\n",
       "      <td>2016-04-06 14:45:08</td>\n",
       "    </tr>\n",
       "    <tr>\n",
       "      <th>2</th>\n",
       "      <td>2016-03-26 18:57:24</td>\n",
       "      <td>Volkswagen_Golf_1.6_United</td>\n",
       "      <td>privat</td>\n",
       "      <td>Angebot</td>\n",
       "      <td>$8,990</td>\n",
       "      <td>test</td>\n",
       "      <td>limousine</td>\n",
       "      <td>2009</td>\n",
       "      <td>manuell</td>\n",
       "      <td>102</td>\n",
       "      <td>golf</td>\n",
       "      <td>70,000km</td>\n",
       "      <td>7</td>\n",
       "      <td>benzin</td>\n",
       "      <td>volkswagen</td>\n",
       "      <td>nein</td>\n",
       "      <td>2016-03-26 00:00:00</td>\n",
       "      <td>0</td>\n",
       "      <td>35394</td>\n",
       "      <td>2016-04-06 20:15:37</td>\n",
       "    </tr>\n",
       "    <tr>\n",
       "      <th>3</th>\n",
       "      <td>2016-03-12 16:58:10</td>\n",
       "      <td>Smart_smart_fortwo_coupe_softouch/F1/Klima/Pan...</td>\n",
       "      <td>privat</td>\n",
       "      <td>Angebot</td>\n",
       "      <td>$4,350</td>\n",
       "      <td>control</td>\n",
       "      <td>kleinwagen</td>\n",
       "      <td>2007</td>\n",
       "      <td>automatik</td>\n",
       "      <td>71</td>\n",
       "      <td>fortwo</td>\n",
       "      <td>70,000km</td>\n",
       "      <td>6</td>\n",
       "      <td>benzin</td>\n",
       "      <td>smart</td>\n",
       "      <td>nein</td>\n",
       "      <td>2016-03-12 00:00:00</td>\n",
       "      <td>0</td>\n",
       "      <td>33729</td>\n",
       "      <td>2016-03-15 03:16:28</td>\n",
       "    </tr>\n",
       "    <tr>\n",
       "      <th>4</th>\n",
       "      <td>2016-04-01 14:38:50</td>\n",
       "      <td>Ford_Focus_1_6_Benzin_TÜV_neu_ist_sehr_gepfleg...</td>\n",
       "      <td>privat</td>\n",
       "      <td>Angebot</td>\n",
       "      <td>$1,350</td>\n",
       "      <td>test</td>\n",
       "      <td>kombi</td>\n",
       "      <td>2003</td>\n",
       "      <td>manuell</td>\n",
       "      <td>0</td>\n",
       "      <td>focus</td>\n",
       "      <td>150,000km</td>\n",
       "      <td>7</td>\n",
       "      <td>benzin</td>\n",
       "      <td>ford</td>\n",
       "      <td>nein</td>\n",
       "      <td>2016-04-01 00:00:00</td>\n",
       "      <td>0</td>\n",
       "      <td>39218</td>\n",
       "      <td>2016-04-01 14:38:50</td>\n",
       "    </tr>\n",
       "    <tr>\n",
       "      <th>5</th>\n",
       "      <td>2016-03-21 13:47:45</td>\n",
       "      <td>Chrysler_Grand_Voyager_2.8_CRD_Aut.Limited_Sto...</td>\n",
       "      <td>privat</td>\n",
       "      <td>Angebot</td>\n",
       "      <td>$7,900</td>\n",
       "      <td>test</td>\n",
       "      <td>bus</td>\n",
       "      <td>2006</td>\n",
       "      <td>automatik</td>\n",
       "      <td>150</td>\n",
       "      <td>voyager</td>\n",
       "      <td>150,000km</td>\n",
       "      <td>4</td>\n",
       "      <td>diesel</td>\n",
       "      <td>chrysler</td>\n",
       "      <td>NaN</td>\n",
       "      <td>2016-03-21 00:00:00</td>\n",
       "      <td>0</td>\n",
       "      <td>22962</td>\n",
       "      <td>2016-04-06 09:45:21</td>\n",
       "    </tr>\n",
       "    <tr>\n",
       "      <th>6</th>\n",
       "      <td>2016-03-20 17:55:21</td>\n",
       "      <td>VW_Golf_III_GT_Special_Electronic_Green_Metall...</td>\n",
       "      <td>privat</td>\n",
       "      <td>Angebot</td>\n",
       "      <td>$300</td>\n",
       "      <td>test</td>\n",
       "      <td>limousine</td>\n",
       "      <td>1995</td>\n",
       "      <td>manuell</td>\n",
       "      <td>90</td>\n",
       "      <td>golf</td>\n",
       "      <td>150,000km</td>\n",
       "      <td>8</td>\n",
       "      <td>benzin</td>\n",
       "      <td>volkswagen</td>\n",
       "      <td>NaN</td>\n",
       "      <td>2016-03-20 00:00:00</td>\n",
       "      <td>0</td>\n",
       "      <td>31535</td>\n",
       "      <td>2016-03-23 02:48:59</td>\n",
       "    </tr>\n",
       "    <tr>\n",
       "      <th>7</th>\n",
       "      <td>2016-03-16 18:55:19</td>\n",
       "      <td>Golf_IV_1.9_TDI_90PS</td>\n",
       "      <td>privat</td>\n",
       "      <td>Angebot</td>\n",
       "      <td>$1,990</td>\n",
       "      <td>control</td>\n",
       "      <td>limousine</td>\n",
       "      <td>1998</td>\n",
       "      <td>manuell</td>\n",
       "      <td>90</td>\n",
       "      <td>golf</td>\n",
       "      <td>150,000km</td>\n",
       "      <td>12</td>\n",
       "      <td>diesel</td>\n",
       "      <td>volkswagen</td>\n",
       "      <td>nein</td>\n",
       "      <td>2016-03-16 00:00:00</td>\n",
       "      <td>0</td>\n",
       "      <td>53474</td>\n",
       "      <td>2016-04-07 03:17:32</td>\n",
       "    </tr>\n",
       "    <tr>\n",
       "      <th>8</th>\n",
       "      <td>2016-03-22 16:51:34</td>\n",
       "      <td>Seat_Arosa</td>\n",
       "      <td>privat</td>\n",
       "      <td>Angebot</td>\n",
       "      <td>$250</td>\n",
       "      <td>test</td>\n",
       "      <td>NaN</td>\n",
       "      <td>2000</td>\n",
       "      <td>manuell</td>\n",
       "      <td>0</td>\n",
       "      <td>arosa</td>\n",
       "      <td>150,000km</td>\n",
       "      <td>10</td>\n",
       "      <td>NaN</td>\n",
       "      <td>seat</td>\n",
       "      <td>nein</td>\n",
       "      <td>2016-03-22 00:00:00</td>\n",
       "      <td>0</td>\n",
       "      <td>7426</td>\n",
       "      <td>2016-03-26 18:18:10</td>\n",
       "    </tr>\n",
       "    <tr>\n",
       "      <th>9</th>\n",
       "      <td>2016-03-16 13:47:02</td>\n",
       "      <td>Renault_Megane_Scenic_1.6e_RT_Klimaanlage</td>\n",
       "      <td>privat</td>\n",
       "      <td>Angebot</td>\n",
       "      <td>$590</td>\n",
       "      <td>control</td>\n",
       "      <td>bus</td>\n",
       "      <td>1997</td>\n",
       "      <td>manuell</td>\n",
       "      <td>90</td>\n",
       "      <td>megane</td>\n",
       "      <td>150,000km</td>\n",
       "      <td>7</td>\n",
       "      <td>benzin</td>\n",
       "      <td>renault</td>\n",
       "      <td>nein</td>\n",
       "      <td>2016-03-16 00:00:00</td>\n",
       "      <td>0</td>\n",
       "      <td>15749</td>\n",
       "      <td>2016-04-06 10:46:35</td>\n",
       "    </tr>\n",
       "  </tbody>\n",
       "</table>\n",
       "</div>"
      ],
      "text/plain": [
       "           dateCrawled                                               name  \\\n",
       "0  2016-03-26 17:47:46                   Peugeot_807_160_NAVTECH_ON_BOARD   \n",
       "1  2016-04-04 13:38:56         BMW_740i_4_4_Liter_HAMANN_UMBAU_Mega_Optik   \n",
       "2  2016-03-26 18:57:24                         Volkswagen_Golf_1.6_United   \n",
       "3  2016-03-12 16:58:10  Smart_smart_fortwo_coupe_softouch/F1/Klima/Pan...   \n",
       "4  2016-04-01 14:38:50  Ford_Focus_1_6_Benzin_TÜV_neu_ist_sehr_gepfleg...   \n",
       "5  2016-03-21 13:47:45  Chrysler_Grand_Voyager_2.8_CRD_Aut.Limited_Sto...   \n",
       "6  2016-03-20 17:55:21  VW_Golf_III_GT_Special_Electronic_Green_Metall...   \n",
       "7  2016-03-16 18:55:19                               Golf_IV_1.9_TDI_90PS   \n",
       "8  2016-03-22 16:51:34                                         Seat_Arosa   \n",
       "9  2016-03-16 13:47:02          Renault_Megane_Scenic_1.6e_RT_Klimaanlage   \n",
       "\n",
       "   seller offerType   price   abtest vehicleType  yearOfRegistration  \\\n",
       "0  privat   Angebot  $5,000  control         bus                2004   \n",
       "1  privat   Angebot  $8,500  control   limousine                1997   \n",
       "2  privat   Angebot  $8,990     test   limousine                2009   \n",
       "3  privat   Angebot  $4,350  control  kleinwagen                2007   \n",
       "4  privat   Angebot  $1,350     test       kombi                2003   \n",
       "5  privat   Angebot  $7,900     test         bus                2006   \n",
       "6  privat   Angebot    $300     test   limousine                1995   \n",
       "7  privat   Angebot  $1,990  control   limousine                1998   \n",
       "8  privat   Angebot    $250     test         NaN                2000   \n",
       "9  privat   Angebot    $590  control         bus                1997   \n",
       "\n",
       "     gearbox  powerPS    model   odometer  monthOfRegistration fuelType  \\\n",
       "0    manuell      158   andere  150,000km                    3      lpg   \n",
       "1  automatik      286      7er  150,000km                    6   benzin   \n",
       "2    manuell      102     golf   70,000km                    7   benzin   \n",
       "3  automatik       71   fortwo   70,000km                    6   benzin   \n",
       "4    manuell        0    focus  150,000km                    7   benzin   \n",
       "5  automatik      150  voyager  150,000km                    4   diesel   \n",
       "6    manuell       90     golf  150,000km                    8   benzin   \n",
       "7    manuell       90     golf  150,000km                   12   diesel   \n",
       "8    manuell        0    arosa  150,000km                   10      NaN   \n",
       "9    manuell       90   megane  150,000km                    7   benzin   \n",
       "\n",
       "        brand notRepairedDamage          dateCreated  nrOfPictures  \\\n",
       "0     peugeot              nein  2016-03-26 00:00:00             0   \n",
       "1         bmw              nein  2016-04-04 00:00:00             0   \n",
       "2  volkswagen              nein  2016-03-26 00:00:00             0   \n",
       "3       smart              nein  2016-03-12 00:00:00             0   \n",
       "4        ford              nein  2016-04-01 00:00:00             0   \n",
       "5    chrysler               NaN  2016-03-21 00:00:00             0   \n",
       "6  volkswagen               NaN  2016-03-20 00:00:00             0   \n",
       "7  volkswagen              nein  2016-03-16 00:00:00             0   \n",
       "8        seat              nein  2016-03-22 00:00:00             0   \n",
       "9     renault              nein  2016-03-16 00:00:00             0   \n",
       "\n",
       "   postalCode             lastSeen  \n",
       "0       79588  2016-04-06 06:45:54  \n",
       "1       71034  2016-04-06 14:45:08  \n",
       "2       35394  2016-04-06 20:15:37  \n",
       "3       33729  2016-03-15 03:16:28  \n",
       "4       39218  2016-04-01 14:38:50  \n",
       "5       22962  2016-04-06 09:45:21  \n",
       "6       31535  2016-03-23 02:48:59  \n",
       "7       53474  2016-04-07 03:17:32  \n",
       "8        7426  2016-03-26 18:18:10  \n",
       "9       15749  2016-04-06 10:46:35  "
      ]
     },
     "execution_count": 2,
     "metadata": {},
     "output_type": "execute_result"
    }
   ],
   "source": [
    "autos = pd.read_csv('../Data/autos.csv', encoding='Latin-1')\n",
    "print(autos.info())\n",
    "autos.head(10)"
   ]
  },
  {
   "cell_type": "markdown",
   "metadata": {},
   "source": [
    "This confirms that the dataset has 50000 rows and 20 columns. 15 of them seem to have string values, while the 5 columns `yearOfRegistration`, `powerPS`, `monthOfRegistration`, `nrOfPictures`, and `postalCode` have integer values. \n",
    "\n",
    "The information is in German and that some of the `vehicleType`, `gearbox`, `model`, `fuelType`, and `notRepairedDamage` are missing (but never more than 20%). Besides, some entries in the `powerPS` column are 0, which seems impossible. Another, minor, issue is that the column names use camelcase instead of snakecase, preferred in Python.\n",
    "\n",
    "## Data cleaning\n",
    "\n",
    "### Column names\n",
    "\n",
    "We first want to delete the column `nrOfPictures`, which does not provide any information. \n",
    "Before that, we wheck that it indeed contains only the value 0."
   ]
  },
  {
   "cell_type": "code",
   "execution_count": 3,
   "metadata": {},
   "outputs": [
    {
     "data": {
      "text/plain": [
       "0    50000\n",
       "Name: nrOfPictures, dtype: int64"
      ]
     },
     "execution_count": 3,
     "metadata": {},
     "output_type": "execute_result"
    }
   ],
   "source": [
    "autos['nrOfPictures'].value_counts()"
   ]
  },
  {
   "cell_type": "markdown",
   "metadata": {},
   "source": [
    "This column indeed contains only one value. \n",
    "We can thus delete it without losing information."
   ]
  },
  {
   "cell_type": "code",
   "execution_count": 4,
   "metadata": {},
   "outputs": [],
   "source": [
    "autos.drop('nrOfPictures', axis=1, inplace=True);"
   ]
  },
  {
   "cell_type": "markdown",
   "metadata": {},
   "source": [
    "Let us then focus on the column names:"
   ]
  },
  {
   "cell_type": "code",
   "execution_count": 5,
   "metadata": {},
   "outputs": [
    {
     "data": {
      "text/plain": [
       "Index(['dateCrawled', 'name', 'seller', 'offerType', 'price', 'abtest',\n",
       "       'vehicleType', 'yearOfRegistration', 'gearbox', 'powerPS', 'model',\n",
       "       'odometer', 'monthOfRegistration', 'fuelType', 'brand',\n",
       "       'notRepairedDamage', 'dateCreated', 'postalCode', 'lastSeen'],\n",
       "      dtype='object')"
      ]
     },
     "execution_count": 5,
     "metadata": {},
     "output_type": "execute_result"
    }
   ],
   "source": [
    "autos.columns"
   ]
  },
  {
   "cell_type": "markdown",
   "metadata": {},
   "source": [
    "Let us rewrite the column names in snakecase and make some of them more explicit. We first define a function to convert camelcase strings to snakecase ones:"
   ]
  },
  {
   "cell_type": "code",
   "execution_count": 6,
   "metadata": {},
   "outputs": [],
   "source": [
    "def camel_to_snake_char(c):\n",
    "    '''\n",
    "    returns c if c is not uppercase and '_'+c.lower() if it is\n",
    "    c: char\n",
    "    '''\n",
    "    if c.isupper():\n",
    "        return '_'+c.lower()\n",
    "    else:\n",
    "        return c  \n",
    "\n",
    "def camel_to_snake(s):\n",
    "    '''\n",
    "    returns the snakecase version of the camelcase string s\n",
    "    '''\n",
    "    return ''.join([s[0]]+list(map(camel_to_snake_char, s[1:])))"
   ]
  },
  {
   "cell_type": "markdown",
   "metadata": {},
   "source": [
    "We then give to four columns shorter names and put them all in snakecase:"
   ]
  },
  {
   "cell_type": "code",
   "execution_count": 7,
   "metadata": {},
   "outputs": [
    {
     "data": {
      "text/plain": [
       "Index(['date_crawled', 'name', 'seller', 'offer_type', 'price', 'abtest',\n",
       "       'vehicle_type', 'registration_year', 'gearbox', 'power_p_s', 'model',\n",
       "       'odometer', 'registration_month', 'fuel_type', 'brand',\n",
       "       'unepaired_damage', 'ad_created', 'postal_code', 'last_seen'],\n",
       "      dtype='object')"
      ]
     },
     "execution_count": 7,
     "metadata": {},
     "output_type": "execute_result"
    }
   ],
   "source": [
    "autos.rename(columns={'yearOfRegistration':'registrationYear', \n",
    "                      'monthOfRegistration':'registrationMonth', \n",
    "                      'notRepairedDamage':'unepairedDamage', \n",
    "                      'dateCreated':'adCreated'}, inplace=True)\n",
    "autos.columns = list(map(camel_to_snake, autos.columns))\n",
    "autos.columns"
   ]
  },
  {
   "cell_type": "markdown",
   "metadata": {},
   "source": [
    "### Numerical columns\n",
    "\n",
    "Let us now have a closer look at the resulting dataframe:"
   ]
  },
  {
   "cell_type": "code",
   "execution_count": 8,
   "metadata": {},
   "outputs": [
    {
     "data": {
      "text/html": [
       "<div>\n",
       "<style scoped>\n",
       "    .dataframe tbody tr th:only-of-type {\n",
       "        vertical-align: middle;\n",
       "    }\n",
       "\n",
       "    .dataframe tbody tr th {\n",
       "        vertical-align: top;\n",
       "    }\n",
       "\n",
       "    .dataframe thead th {\n",
       "        text-align: right;\n",
       "    }\n",
       "</style>\n",
       "<table border=\"1\" class=\"dataframe\">\n",
       "  <thead>\n",
       "    <tr style=\"text-align: right;\">\n",
       "      <th></th>\n",
       "      <th>date_crawled</th>\n",
       "      <th>name</th>\n",
       "      <th>seller</th>\n",
       "      <th>offer_type</th>\n",
       "      <th>price</th>\n",
       "      <th>abtest</th>\n",
       "      <th>vehicle_type</th>\n",
       "      <th>registration_year</th>\n",
       "      <th>gearbox</th>\n",
       "      <th>power_p_s</th>\n",
       "      <th>model</th>\n",
       "      <th>odometer</th>\n",
       "      <th>registration_month</th>\n",
       "      <th>fuel_type</th>\n",
       "      <th>brand</th>\n",
       "      <th>unepaired_damage</th>\n",
       "      <th>ad_created</th>\n",
       "      <th>postal_code</th>\n",
       "      <th>last_seen</th>\n",
       "    </tr>\n",
       "  </thead>\n",
       "  <tbody>\n",
       "    <tr>\n",
       "      <th>count</th>\n",
       "      <td>50000</td>\n",
       "      <td>50000</td>\n",
       "      <td>50000</td>\n",
       "      <td>50000</td>\n",
       "      <td>50000</td>\n",
       "      <td>50000</td>\n",
       "      <td>44905</td>\n",
       "      <td>50000.000000</td>\n",
       "      <td>47320</td>\n",
       "      <td>50000.000000</td>\n",
       "      <td>47242</td>\n",
       "      <td>50000</td>\n",
       "      <td>50000.000000</td>\n",
       "      <td>45518</td>\n",
       "      <td>50000</td>\n",
       "      <td>40171</td>\n",
       "      <td>50000</td>\n",
       "      <td>50000.000000</td>\n",
       "      <td>50000</td>\n",
       "    </tr>\n",
       "    <tr>\n",
       "      <th>unique</th>\n",
       "      <td>48213</td>\n",
       "      <td>38754</td>\n",
       "      <td>2</td>\n",
       "      <td>2</td>\n",
       "      <td>2357</td>\n",
       "      <td>2</td>\n",
       "      <td>8</td>\n",
       "      <td>NaN</td>\n",
       "      <td>2</td>\n",
       "      <td>NaN</td>\n",
       "      <td>245</td>\n",
       "      <td>13</td>\n",
       "      <td>NaN</td>\n",
       "      <td>7</td>\n",
       "      <td>40</td>\n",
       "      <td>2</td>\n",
       "      <td>76</td>\n",
       "      <td>NaN</td>\n",
       "      <td>39481</td>\n",
       "    </tr>\n",
       "    <tr>\n",
       "      <th>top</th>\n",
       "      <td>2016-03-25 19:57:10</td>\n",
       "      <td>Ford_Fiesta</td>\n",
       "      <td>privat</td>\n",
       "      <td>Angebot</td>\n",
       "      <td>$0</td>\n",
       "      <td>test</td>\n",
       "      <td>limousine</td>\n",
       "      <td>NaN</td>\n",
       "      <td>manuell</td>\n",
       "      <td>NaN</td>\n",
       "      <td>golf</td>\n",
       "      <td>150,000km</td>\n",
       "      <td>NaN</td>\n",
       "      <td>benzin</td>\n",
       "      <td>volkswagen</td>\n",
       "      <td>nein</td>\n",
       "      <td>2016-04-03 00:00:00</td>\n",
       "      <td>NaN</td>\n",
       "      <td>2016-04-07 06:17:27</td>\n",
       "    </tr>\n",
       "    <tr>\n",
       "      <th>freq</th>\n",
       "      <td>3</td>\n",
       "      <td>78</td>\n",
       "      <td>49999</td>\n",
       "      <td>49999</td>\n",
       "      <td>1421</td>\n",
       "      <td>25756</td>\n",
       "      <td>12859</td>\n",
       "      <td>NaN</td>\n",
       "      <td>36993</td>\n",
       "      <td>NaN</td>\n",
       "      <td>4024</td>\n",
       "      <td>32424</td>\n",
       "      <td>NaN</td>\n",
       "      <td>30107</td>\n",
       "      <td>10687</td>\n",
       "      <td>35232</td>\n",
       "      <td>1946</td>\n",
       "      <td>NaN</td>\n",
       "      <td>8</td>\n",
       "    </tr>\n",
       "    <tr>\n",
       "      <th>mean</th>\n",
       "      <td>NaN</td>\n",
       "      <td>NaN</td>\n",
       "      <td>NaN</td>\n",
       "      <td>NaN</td>\n",
       "      <td>NaN</td>\n",
       "      <td>NaN</td>\n",
       "      <td>NaN</td>\n",
       "      <td>2005.073280</td>\n",
       "      <td>NaN</td>\n",
       "      <td>116.355920</td>\n",
       "      <td>NaN</td>\n",
       "      <td>NaN</td>\n",
       "      <td>5.723360</td>\n",
       "      <td>NaN</td>\n",
       "      <td>NaN</td>\n",
       "      <td>NaN</td>\n",
       "      <td>NaN</td>\n",
       "      <td>50813.627300</td>\n",
       "      <td>NaN</td>\n",
       "    </tr>\n",
       "    <tr>\n",
       "      <th>std</th>\n",
       "      <td>NaN</td>\n",
       "      <td>NaN</td>\n",
       "      <td>NaN</td>\n",
       "      <td>NaN</td>\n",
       "      <td>NaN</td>\n",
       "      <td>NaN</td>\n",
       "      <td>NaN</td>\n",
       "      <td>105.712813</td>\n",
       "      <td>NaN</td>\n",
       "      <td>209.216627</td>\n",
       "      <td>NaN</td>\n",
       "      <td>NaN</td>\n",
       "      <td>3.711984</td>\n",
       "      <td>NaN</td>\n",
       "      <td>NaN</td>\n",
       "      <td>NaN</td>\n",
       "      <td>NaN</td>\n",
       "      <td>25779.747957</td>\n",
       "      <td>NaN</td>\n",
       "    </tr>\n",
       "    <tr>\n",
       "      <th>min</th>\n",
       "      <td>NaN</td>\n",
       "      <td>NaN</td>\n",
       "      <td>NaN</td>\n",
       "      <td>NaN</td>\n",
       "      <td>NaN</td>\n",
       "      <td>NaN</td>\n",
       "      <td>NaN</td>\n",
       "      <td>1000.000000</td>\n",
       "      <td>NaN</td>\n",
       "      <td>0.000000</td>\n",
       "      <td>NaN</td>\n",
       "      <td>NaN</td>\n",
       "      <td>0.000000</td>\n",
       "      <td>NaN</td>\n",
       "      <td>NaN</td>\n",
       "      <td>NaN</td>\n",
       "      <td>NaN</td>\n",
       "      <td>1067.000000</td>\n",
       "      <td>NaN</td>\n",
       "    </tr>\n",
       "    <tr>\n",
       "      <th>25%</th>\n",
       "      <td>NaN</td>\n",
       "      <td>NaN</td>\n",
       "      <td>NaN</td>\n",
       "      <td>NaN</td>\n",
       "      <td>NaN</td>\n",
       "      <td>NaN</td>\n",
       "      <td>NaN</td>\n",
       "      <td>1999.000000</td>\n",
       "      <td>NaN</td>\n",
       "      <td>70.000000</td>\n",
       "      <td>NaN</td>\n",
       "      <td>NaN</td>\n",
       "      <td>3.000000</td>\n",
       "      <td>NaN</td>\n",
       "      <td>NaN</td>\n",
       "      <td>NaN</td>\n",
       "      <td>NaN</td>\n",
       "      <td>30451.000000</td>\n",
       "      <td>NaN</td>\n",
       "    </tr>\n",
       "    <tr>\n",
       "      <th>50%</th>\n",
       "      <td>NaN</td>\n",
       "      <td>NaN</td>\n",
       "      <td>NaN</td>\n",
       "      <td>NaN</td>\n",
       "      <td>NaN</td>\n",
       "      <td>NaN</td>\n",
       "      <td>NaN</td>\n",
       "      <td>2003.000000</td>\n",
       "      <td>NaN</td>\n",
       "      <td>105.000000</td>\n",
       "      <td>NaN</td>\n",
       "      <td>NaN</td>\n",
       "      <td>6.000000</td>\n",
       "      <td>NaN</td>\n",
       "      <td>NaN</td>\n",
       "      <td>NaN</td>\n",
       "      <td>NaN</td>\n",
       "      <td>49577.000000</td>\n",
       "      <td>NaN</td>\n",
       "    </tr>\n",
       "    <tr>\n",
       "      <th>75%</th>\n",
       "      <td>NaN</td>\n",
       "      <td>NaN</td>\n",
       "      <td>NaN</td>\n",
       "      <td>NaN</td>\n",
       "      <td>NaN</td>\n",
       "      <td>NaN</td>\n",
       "      <td>NaN</td>\n",
       "      <td>2008.000000</td>\n",
       "      <td>NaN</td>\n",
       "      <td>150.000000</td>\n",
       "      <td>NaN</td>\n",
       "      <td>NaN</td>\n",
       "      <td>9.000000</td>\n",
       "      <td>NaN</td>\n",
       "      <td>NaN</td>\n",
       "      <td>NaN</td>\n",
       "      <td>NaN</td>\n",
       "      <td>71540.000000</td>\n",
       "      <td>NaN</td>\n",
       "    </tr>\n",
       "    <tr>\n",
       "      <th>max</th>\n",
       "      <td>NaN</td>\n",
       "      <td>NaN</td>\n",
       "      <td>NaN</td>\n",
       "      <td>NaN</td>\n",
       "      <td>NaN</td>\n",
       "      <td>NaN</td>\n",
       "      <td>NaN</td>\n",
       "      <td>9999.000000</td>\n",
       "      <td>NaN</td>\n",
       "      <td>17700.000000</td>\n",
       "      <td>NaN</td>\n",
       "      <td>NaN</td>\n",
       "      <td>12.000000</td>\n",
       "      <td>NaN</td>\n",
       "      <td>NaN</td>\n",
       "      <td>NaN</td>\n",
       "      <td>NaN</td>\n",
       "      <td>99998.000000</td>\n",
       "      <td>NaN</td>\n",
       "    </tr>\n",
       "  </tbody>\n",
       "</table>\n",
       "</div>"
      ],
      "text/plain": [
       "               date_crawled         name  seller offer_type  price abtest  \\\n",
       "count                 50000        50000   50000      50000  50000  50000   \n",
       "unique                48213        38754       2          2   2357      2   \n",
       "top     2016-03-25 19:57:10  Ford_Fiesta  privat    Angebot     $0   test   \n",
       "freq                      3           78   49999      49999   1421  25756   \n",
       "mean                    NaN          NaN     NaN        NaN    NaN    NaN   \n",
       "std                     NaN          NaN     NaN        NaN    NaN    NaN   \n",
       "min                     NaN          NaN     NaN        NaN    NaN    NaN   \n",
       "25%                     NaN          NaN     NaN        NaN    NaN    NaN   \n",
       "50%                     NaN          NaN     NaN        NaN    NaN    NaN   \n",
       "75%                     NaN          NaN     NaN        NaN    NaN    NaN   \n",
       "max                     NaN          NaN     NaN        NaN    NaN    NaN   \n",
       "\n",
       "       vehicle_type  registration_year  gearbox     power_p_s  model  \\\n",
       "count         44905       50000.000000    47320  50000.000000  47242   \n",
       "unique            8                NaN        2           NaN    245   \n",
       "top       limousine                NaN  manuell           NaN   golf   \n",
       "freq          12859                NaN    36993           NaN   4024   \n",
       "mean            NaN        2005.073280      NaN    116.355920    NaN   \n",
       "std             NaN         105.712813      NaN    209.216627    NaN   \n",
       "min             NaN        1000.000000      NaN      0.000000    NaN   \n",
       "25%             NaN        1999.000000      NaN     70.000000    NaN   \n",
       "50%             NaN        2003.000000      NaN    105.000000    NaN   \n",
       "75%             NaN        2008.000000      NaN    150.000000    NaN   \n",
       "max             NaN        9999.000000      NaN  17700.000000    NaN   \n",
       "\n",
       "         odometer  registration_month fuel_type       brand unepaired_damage  \\\n",
       "count       50000        50000.000000     45518       50000            40171   \n",
       "unique         13                 NaN         7          40                2   \n",
       "top     150,000km                 NaN    benzin  volkswagen             nein   \n",
       "freq        32424                 NaN     30107       10687            35232   \n",
       "mean          NaN            5.723360       NaN         NaN              NaN   \n",
       "std           NaN            3.711984       NaN         NaN              NaN   \n",
       "min           NaN            0.000000       NaN         NaN              NaN   \n",
       "25%           NaN            3.000000       NaN         NaN              NaN   \n",
       "50%           NaN            6.000000       NaN         NaN              NaN   \n",
       "75%           NaN            9.000000       NaN         NaN              NaN   \n",
       "max           NaN           12.000000       NaN         NaN              NaN   \n",
       "\n",
       "                 ad_created   postal_code            last_seen  \n",
       "count                 50000  50000.000000                50000  \n",
       "unique                   76           NaN                39481  \n",
       "top     2016-04-03 00:00:00           NaN  2016-04-07 06:17:27  \n",
       "freq                   1946           NaN                    8  \n",
       "mean                    NaN  50813.627300                  NaN  \n",
       "std                     NaN  25779.747957                  NaN  \n",
       "min                     NaN   1067.000000                  NaN  \n",
       "25%                     NaN  30451.000000                  NaN  \n",
       "50%                     NaN  49577.000000                  NaN  \n",
       "75%                     NaN  71540.000000                  NaN  \n",
       "max                     NaN  99998.000000                  NaN  "
      ]
     },
     "execution_count": 8,
     "metadata": {},
     "output_type": "execute_result"
    }
   ],
   "source": [
    "autos.describe(include='all')"
   ]
  },
  {
   "cell_type": "markdown",
   "metadata": {},
   "source": [
    "We observe that:\n",
    "* The columns `seller` and `offer_type` have only 2 different values each, with one value appearing only once. The different value may be an error, in which case the corresponding column offers no information and can be dropped.\n",
    "* The `price` and `odometer` columns have numbers written as strings. We will want to convert them to numerical values. \n",
    "\n",
    "Let us deal with the first point and investigate the columns `seller` and `offer_type`:"
   ]
  },
  {
   "cell_type": "code",
   "execution_count": 9,
   "metadata": {},
   "outputs": [
    {
     "name": "stdout",
     "output_type": "stream",
     "text": [
      "privat        49999\n",
      "gewerblich        1\n",
      "Name: seller, dtype: int64\n",
      "Angebot    49999\n",
      "Gesuch         1\n",
      "Name: offer_type, dtype: int64\n"
     ]
    }
   ],
   "source": [
    "print(autos['seller'].value_counts())\n",
    "print(autos['offer_type'].value_counts())"
   ]
  },
  {
   "cell_type": "markdown",
   "metadata": {},
   "source": [
    "Actually, the two values present in each of these columns make sense. (“Privat” means “private”, “gewerblich” means “commercial”, “Angebot” means “offer”, and “Gesuch” means “request”.) Let us see if, by any chance, they would be on the same line. "
   ]
  },
  {
   "cell_type": "code",
   "execution_count": 10,
   "metadata": {},
   "outputs": [
    {
     "name": "stdout",
     "output_type": "stream",
     "text": [
      "7738\n",
      "17541\n"
     ]
    }
   ],
   "source": [
    "# get the index of the first (and only) occurrence of 'gewerblich' in the \n",
    "# 'seller' column\n",
    "sellers = autos['seller']\n",
    "print(sellers[sellers=='gewerblich'].index[0])\n",
    "\n",
    "# get the index of the first (and only) occurrence of 'Gesuch' in the \n",
    "# 'offer_type' column\n",
    "sellers = autos['offer_type']\n",
    "print(sellers[sellers=='Gesuch'].index[0])"
   ]
  },
  {
   "cell_type": "markdown",
   "metadata": {},
   "source": [
    "They are actially not on the same row.\n",
    "\n",
    "Let us now convert the two columns `price` and `odometer` to numeric values and include the units in their names:"
   ]
  },
  {
   "cell_type": "code",
   "execution_count": 11,
   "metadata": {},
   "outputs": [],
   "source": [
    "autos['price'] = autos['price'].str.replace('$','').str.replace(',','').astype(int)\n",
    "autos.rename(columns={'price':'price_$'}, inplace=True)\n",
    "autos['odometer'] = autos['odometer'].str.replace('km','').str.replace(',','').astype(int)\n",
    "autos.rename(columns={'odometer':'odometer_km'}, inplace=True)"
   ]
  },
  {
   "cell_type": "markdown",
   "metadata": {},
   "source": [
    "Let us now explore these two columns. We start with `price_$`:"
   ]
  },
  {
   "cell_type": "code",
   "execution_count": 12,
   "metadata": {},
   "outputs": [
    {
     "data": {
      "text/plain": [
       "count    5.000000e+04\n",
       "mean     9.840044e+03\n",
       "std      4.811044e+05\n",
       "min      0.000000e+00\n",
       "25%      1.100000e+03\n",
       "50%      2.950000e+03\n",
       "75%      7.200000e+03\n",
       "max      1.000000e+08\n",
       "Name: price_$, dtype: float64"
      ]
     },
     "execution_count": 12,
     "metadata": {},
     "output_type": "execute_result"
    }
   ],
   "source": [
    "autos['price_$'].describe()"
   ]
  },
  {
   "cell_type": "markdown",
   "metadata": {},
   "source": [
    "The minimum price is 0, which seems unrealistic. Let us see what are the few lowest and largest values: "
   ]
  },
  {
   "cell_type": "code",
   "execution_count": 13,
   "metadata": {},
   "outputs": [
    {
     "name": "stdout",
     "output_type": "stream",
     "text": [
      "0    1421\n",
      "1     156\n",
      "2       3\n",
      "3       1\n",
      "5       2\n",
      "Name: price_$, dtype: int64\n",
      "\n",
      "99999999    1\n",
      "27322222    1\n",
      "12345678    3\n",
      "11111111    2\n",
      "10000000    1\n",
      "Name: price_$, dtype: int64\n"
     ]
    }
   ],
   "source": [
    "print(autos['price_$'].value_counts().sort_index().head())\n",
    "print()\n",
    "print(autos['price_$'].value_counts().sort_index(ascending=False).head())"
   ]
  },
  {
   "cell_type": "markdown",
   "metadata": {},
   "source": [
    "It seems that we have two problems here: some vehicles are surprisingly cheap (some even indicated as costing nothing!) while one of them has a much higher price than the others. The latter is an outlier, and we will remove it. The information on the very cheap vehicles is probably wrong. \n",
    "Let us do a bar plot of the prices, with intervals corresponding to powers of 10. "
   ]
  },
  {
   "cell_type": "code",
   "execution_count": 14,
   "metadata": {},
   "outputs": [],
   "source": [
    "import matplotlib.pyplot as plt"
   ]
  },
  {
   "cell_type": "code",
   "execution_count": 15,
   "metadata": {},
   "outputs": [
    {
     "data": {
      "image/png": "[encoded data removed]",
      "text/plain": [
       "<Figure size 432x288 with 1 Axes>"
      ]
     },
     "metadata": {
      "needs_background": "light"
     },
     "output_type": "display_data"
    }
   ],
   "source": [
    "def power_ten(n):\n",
    "    '''\n",
    "    returns 0 if n = 0 or the largest power of ten smaller than or equal to n\n",
    "    n: natural integer or positive float or 0 or nan.\n",
    "    '''\n",
    "    if np.isnan(n):\n",
    "        return np.nan\n",
    "    elif n==0:\n",
    "        return 0\n",
    "    else:\n",
    "        return 10**(int(np.log(n)/np.log(10)))\n",
    "\n",
    "power_ten_prices = autos['price_$'].apply(power_ten)\n",
    "counts_prices = power_ten_prices.value_counts().sort_index()\n",
    "ax = counts_prices.plot.bar(x='price ($)', y='count', width=1, align='edge', grid=True)\n",
    "ax.set_xlim(0,len(counts_prices))\n",
    "plt.show()"
   ]
  },
  {
   "cell_type": "markdown",
   "metadata": {},
   "source": [
    "There are very few vehicles cheaper than \\\\$100 or more expensive than \\\\$1,000,000. \n",
    "Those seem to be outliers, and may indicate errors n the data.\n",
    "Let us thus remove the price for vehicles indicated cheaper than \\\\$100 or more expensive than \\\\$1,000,000. "
   ]
  },
  {
   "cell_type": "code",
   "execution_count": 16,
   "metadata": {},
   "outputs": [
    {
     "data": {
      "text/plain": [
       "count     48227.000000\n",
       "mean       5992.208099\n",
       "std       11994.952272\n",
       "min         100.000000\n",
       "25%        1250.000000\n",
       "50%        3000.000000\n",
       "75%        7499.000000\n",
       "max      999999.000000\n",
       "Name: price_$, dtype: float64"
      ]
     },
     "execution_count": 16,
     "metadata": {},
     "output_type": "execute_result"
    }
   ],
   "source": [
    "price_min = 10**2\n",
    "price_max = 10**6\n",
    "autos.loc[-autos['price_$'].between(price_min,price_max),'price_$'] = np.nan\n",
    "autos['price_$'].describe()"
   ]
  },
  {
   "cell_type": "markdown",
   "metadata": {},
   "source": [
    "Let us now deal with the column `odometer_km`:"
   ]
  },
  {
   "cell_type": "code",
   "execution_count": 17,
   "metadata": {},
   "outputs": [
    {
     "data": {
      "text/plain": [
       "count     50000.000000\n",
       "mean     125732.700000\n",
       "std       40042.211706\n",
       "min        5000.000000\n",
       "25%      125000.000000\n",
       "50%      150000.000000\n",
       "75%      150000.000000\n",
       "max      150000.000000\n",
       "Name: odometer_km, dtype: float64"
      ]
     },
     "execution_count": 17,
     "metadata": {},
     "output_type": "execute_result"
    }
   ],
   "source": [
    "autos['odometer_km'].describe()"
   ]
  },
  {
   "cell_type": "markdown",
   "metadata": {},
   "source": [
    "It seems that most values are equal to 150,000. Let us see this more precisely: "
   ]
  },
  {
   "cell_type": "code",
   "execution_count": 18,
   "metadata": {},
   "outputs": [
    {
     "data": {
      "text/plain": [
       "150000    32424\n",
       "125000     5170\n",
       "100000     2169\n",
       "90000      1757\n",
       "80000      1436\n",
       "70000      1230\n",
       "60000      1164\n",
       "50000      1027\n",
       "5000        967\n",
       "40000       819\n",
       "30000       789\n",
       "20000       784\n",
       "10000       264\n",
       "Name: odometer_km, dtype: int64"
      ]
     },
     "execution_count": 18,
     "metadata": {},
     "output_type": "execute_result"
    }
   ],
   "source": [
    "autos['odometer_km'].value_counts()"
   ]
  },
  {
   "cell_type": "markdown",
   "metadata": {},
   "source": [
    "This column has only 13 unique values, and the value 150,000 is by far the most represented. However, the other values look fine.  "
   ]
  },
  {
   "cell_type": "markdown",
   "metadata": {},
   "source": [
    "### Date columns\n",
    "\n",
    "There are five columns with dates as entries: \n",
    "* `date_crawled`, added by the crawler, \n",
    "* `registration_year`, obtained from the website,\n",
    "* `registration_month`, obtained from the website,\n",
    "* `ad_created`, obtained from the website,\n",
    "* `last_seen`, added by the crawler.\n",
    "\n",
    "The columns `registration_year` and `registration_month` contain int values while the other three contain string values. \n",
    "Let us focus on the columns containing strings. "
   ]
  },
  {
   "cell_type": "code",
   "execution_count": 18,
   "metadata": {},
   "outputs": [
    {
     "data": {
      "text/html": [
       "<div>\n",
       "<style scoped>\n",
       "    .dataframe tbody tr th:only-of-type {\n",
       "        vertical-align: middle;\n",
       "    }\n",
       "\n",
       "    .dataframe tbody tr th {\n",
       "        vertical-align: top;\n",
       "    }\n",
       "\n",
       "    .dataframe thead th {\n",
       "        text-align: right;\n",
       "    }\n",
       "</style>\n",
       "<table border=\"1\" class=\"dataframe\">\n",
       "  <thead>\n",
       "    <tr style=\"text-align: right;\">\n",
       "      <th></th>\n",
       "      <th>date_crawled</th>\n",
       "      <th>ad_created</th>\n",
       "      <th>last_seen</th>\n",
       "    </tr>\n",
       "  </thead>\n",
       "  <tbody>\n",
       "    <tr>\n",
       "      <th>0</th>\n",
       "      <td>2016-03-26 17:47:46</td>\n",
       "      <td>2016-03-26 00:00:00</td>\n",
       "      <td>2016-04-06 06:45:54</td>\n",
       "    </tr>\n",
       "    <tr>\n",
       "      <th>1</th>\n",
       "      <td>2016-04-04 13:38:56</td>\n",
       "      <td>2016-04-04 00:00:00</td>\n",
       "      <td>2016-04-06 14:45:08</td>\n",
       "    </tr>\n",
       "    <tr>\n",
       "      <th>2</th>\n",
       "      <td>2016-03-26 18:57:24</td>\n",
       "      <td>2016-03-26 00:00:00</td>\n",
       "      <td>2016-04-06 20:15:37</td>\n",
       "    </tr>\n",
       "    <tr>\n",
       "      <th>3</th>\n",
       "      <td>2016-03-12 16:58:10</td>\n",
       "      <td>2016-03-12 00:00:00</td>\n",
       "      <td>2016-03-15 03:16:28</td>\n",
       "    </tr>\n",
       "    <tr>\n",
       "      <th>4</th>\n",
       "      <td>2016-04-01 14:38:50</td>\n",
       "      <td>2016-04-01 00:00:00</td>\n",
       "      <td>2016-04-01 14:38:50</td>\n",
       "    </tr>\n",
       "  </tbody>\n",
       "</table>\n",
       "</div>"
      ],
      "text/plain": [
       "          date_crawled           ad_created            last_seen\n",
       "0  2016-03-26 17:47:46  2016-03-26 00:00:00  2016-04-06 06:45:54\n",
       "1  2016-04-04 13:38:56  2016-04-04 00:00:00  2016-04-06 14:45:08\n",
       "2  2016-03-26 18:57:24  2016-03-26 00:00:00  2016-04-06 20:15:37\n",
       "3  2016-03-12 16:58:10  2016-03-12 00:00:00  2016-03-15 03:16:28\n",
       "4  2016-04-01 14:38:50  2016-04-01 00:00:00  2016-04-01 14:38:50"
      ]
     },
     "execution_count": 18,
     "metadata": {},
     "output_type": "execute_result"
    }
   ],
   "source": [
    "autos[['date_crawled', 'ad_created', 'last_seen']][0:5]"
   ]
  },
  {
   "cell_type": "markdown",
   "metadata": {},
   "source": [
    "It seems that the first 10 characters give the date in the year-month-day format. \n",
    "We now look at the distribution of day in percentage within each column, using the function `print_percent_dates` defined below:"
   ]
  },
  {
   "cell_type": "code",
   "execution_count": 19,
   "metadata": {},
   "outputs": [],
   "source": [
    "def print_percent_dates(name_column):\n",
    "    '''\n",
    "    prints the frequency in % of each date appearing in the column name_column \n",
    "    of the dataset autos\n",
    "    \n",
    "    name_column: string \n",
    "    '''\n",
    "    # normalize=True gives the proportion of each value\n",
    "    # multiplying by 100 gives percentages\n",
    "    # the dates are sorted in ascending order\n",
    "    title = 'Dates in {}:\\n'\n",
    "    print(title.format(name_column))\n",
    "    (autos[name_column].str[:10].value_counts(normalize=True, dropna=False).sort_index()*100).plot(rot=90, grid=True)\n",
    "    print(autos[name_column].str[:10].value_counts(normalize=True, dropna=False).sort_index()*100)"
   ]
  },
  {
   "cell_type": "markdown",
   "metadata": {},
   "source": [
    "We first apply it to the column `date_crawled`:"
   ]
  },
  {
   "cell_type": "code",
   "execution_count": 20,
   "metadata": {},
   "outputs": [
    {
     "name": "stdout",
     "output_type": "stream",
     "text": [
      "Dates in date_crawled:\n",
      "\n",
      "2016-03-05    2.538\n",
      "2016-03-06    1.394\n",
      "2016-03-07    3.596\n",
      "2016-03-08    3.330\n",
      "2016-03-09    3.322\n",
      "2016-03-10    3.212\n",
      "2016-03-11    3.248\n",
      "2016-03-12    3.678\n",
      "2016-03-13    1.556\n",
      "2016-03-14    3.662\n",
      "2016-03-15    3.398\n",
      "2016-03-16    2.950\n",
      "2016-03-17    3.152\n",
      "2016-03-18    1.306\n",
      "2016-03-19    3.490\n",
      "2016-03-20    3.782\n",
      "2016-03-21    3.752\n",
      "2016-03-22    3.294\n",
      "2016-03-23    3.238\n",
      "2016-03-24    2.910\n",
      "2016-03-25    3.174\n",
      "2016-03-26    3.248\n",
      "2016-03-27    3.104\n",
      "2016-03-28    3.484\n",
      "2016-03-29    3.418\n",
      "2016-03-30    3.362\n",
      "2016-03-31    3.192\n",
      "2016-04-01    3.380\n",
      "2016-04-02    3.540\n",
      "2016-04-03    3.868\n",
      "2016-04-04    3.652\n",
      "2016-04-05    1.310\n",
      "2016-04-06    0.318\n",
      "2016-04-07    0.142\n",
      "Name: date_crawled, dtype: float64\n"
     ]
    },
    {
     "data": {
      "image/png": "[encoded data removed]",
      "text/plain": [
       "<Figure size 432x288 with 1 Axes>"
      ]
     },
     "metadata": {
      "needs_background": "light"
     },
     "output_type": "display_data"
    }
   ],
   "source": [
    "print_percent_dates('date_crawled')"
   ]
  },
  {
   "cell_type": "markdown",
   "metadata": {},
   "source": [
    "Ads have been crawled every day from 05/03/2016 to 07/04/2016, at a nearly constant rate apart from three hollows on 06/03/2016, 13/03/2016, and 18/03/2016, and a sharply reduced rate during the last three days.\n",
    "\n",
    "Let us now do the same for the column `ad_created`:"
   ]
  },
  {
   "cell_type": "code",
   "execution_count": 21,
   "metadata": {},
   "outputs": [
    {
     "name": "stdout",
     "output_type": "stream",
     "text": [
      "Dates in ad_created:\n",
      "\n",
      "2015-06-11    0.002\n",
      "2015-08-10    0.002\n",
      "2015-09-09    0.002\n",
      "2015-11-10    0.002\n",
      "2015-12-05    0.002\n",
      "2015-12-30    0.002\n",
      "2016-01-03    0.002\n",
      "2016-01-07    0.002\n",
      "2016-01-10    0.004\n",
      "2016-01-13    0.002\n",
      "2016-01-14    0.002\n",
      "2016-01-16    0.002\n",
      "2016-01-22    0.002\n",
      "2016-01-27    0.006\n",
      "2016-01-29    0.002\n",
      "2016-02-01    0.002\n",
      "2016-02-02    0.004\n",
      "2016-02-05    0.004\n",
      "2016-02-07    0.002\n",
      "2016-02-08    0.002\n",
      "2016-02-09    0.004\n",
      "2016-02-11    0.002\n",
      "2016-02-12    0.006\n",
      "2016-02-14    0.004\n",
      "2016-02-16    0.002\n",
      "2016-02-17    0.002\n",
      "2016-02-18    0.004\n",
      "2016-02-19    0.006\n",
      "2016-02-20    0.004\n",
      "2016-02-21    0.006\n",
      "              ...  \n",
      "2016-03-09    3.324\n",
      "2016-03-10    3.186\n",
      "2016-03-11    3.278\n",
      "2016-03-12    3.662\n",
      "2016-03-13    1.692\n",
      "2016-03-14    3.522\n",
      "2016-03-15    3.374\n",
      "2016-03-16    3.000\n",
      "2016-03-17    3.120\n",
      "2016-03-18    1.372\n",
      "2016-03-19    3.384\n",
      "2016-03-20    3.786\n",
      "2016-03-21    3.772\n",
      "2016-03-22    3.280\n",
      "2016-03-23    3.218\n",
      "2016-03-24    2.908\n",
      "2016-03-25    3.188\n",
      "2016-03-26    3.256\n",
      "2016-03-27    3.090\n",
      "2016-03-28    3.496\n",
      "2016-03-29    3.414\n",
      "2016-03-30    3.344\n",
      "2016-03-31    3.192\n",
      "2016-04-01    3.380\n",
      "2016-04-02    3.508\n",
      "2016-04-03    3.892\n",
      "2016-04-04    3.688\n",
      "2016-04-05    1.184\n",
      "2016-04-06    0.326\n",
      "2016-04-07    0.128\n",
      "Name: ad_created, Length: 76, dtype: float64\n"
     ]
    },
    {
     "data": {
      "image/png": "[encoded data removed]",
      "text/plain": [
       "<Figure size 432x288 with 1 Axes>"
      ]
     },
     "metadata": {
      "needs_background": "light"
     },
     "output_type": "display_data"
    }
   ],
   "source": [
    "print_percent_dates('ad_created')"
   ]
  },
  {
   "cell_type": "markdown",
   "metadata": {},
   "source": [
    "The range of dates is much longer, going from 11/06/2015 to 07/04/2016. \n",
    "However, the number of ads created before 03/2016 is very low. \n",
    "One possible reason is that most of the ads created before have been removed before the crawler was used. \n",
    "There is a sharp decrease in the number of apps created during the last three days.\n",
    "\n",
    "We now do the same for the `last_seen` column: "
   ]
  },
  {
   "cell_type": "code",
   "execution_count": 22,
   "metadata": {},
   "outputs": [
    {
     "name": "stdout",
     "output_type": "stream",
     "text": [
      "Dates in last_seen:\n",
      "\n",
      "2016-03-05     0.108\n",
      "2016-03-06     0.442\n",
      "2016-03-07     0.536\n",
      "2016-03-08     0.760\n",
      "2016-03-09     0.986\n",
      "2016-03-10     1.076\n",
      "2016-03-11     1.252\n",
      "2016-03-12     2.382\n",
      "2016-03-13     0.898\n",
      "2016-03-14     1.280\n",
      "2016-03-15     1.588\n",
      "2016-03-16     1.644\n",
      "2016-03-17     2.792\n",
      "2016-03-18     0.742\n",
      "2016-03-19     1.574\n",
      "2016-03-20     2.070\n",
      "2016-03-21     2.074\n",
      "2016-03-22     2.158\n",
      "2016-03-23     1.858\n",
      "2016-03-24     1.956\n",
      "2016-03-25     1.920\n",
      "2016-03-26     1.696\n",
      "2016-03-27     1.602\n",
      "2016-03-28     2.086\n",
      "2016-03-29     2.234\n",
      "2016-03-30     2.484\n",
      "2016-03-31     2.384\n",
      "2016-04-01     2.310\n",
      "2016-04-02     2.490\n",
      "2016-04-03     2.536\n",
      "2016-04-04     2.462\n",
      "2016-04-05    12.428\n",
      "2016-04-06    22.100\n",
      "2016-04-07    13.092\n",
      "Name: last_seen, dtype: float64\n"
     ]
    },
    {
     "data": {
      "image/png": "[encoded data removed]",
      "text/plain": [
       "<Figure size 432x288 with 1 Axes>"
      ]
     },
     "metadata": {
      "needs_background": "light"
     },
     "output_type": "display_data"
    }
   ],
   "source": [
    "print_percent_dates('last_seen')"
   ]
  },
  {
   "cell_type": "markdown",
   "metadata": {},
   "source": [
    "The range of dates is 05/03/2016 to 07/04/2016: the same as for the `date_crawled` column. \n",
    "The number of ads per day shows a slow increase followed by a sharp peak corresponding to the last three days.\n",
    "\n",
    "We now describe the `registration_year` column; "
   ]
  },
  {
   "cell_type": "code",
   "execution_count": 23,
   "metadata": {},
   "outputs": [
    {
     "data": {
      "text/plain": [
       "count    50000.000000\n",
       "mean      2005.073280\n",
       "std        105.712813\n",
       "min       1000.000000\n",
       "25%       1999.000000\n",
       "50%       2003.000000\n",
       "75%       2008.000000\n",
       "max       9999.000000\n",
       "Name: registration_year, dtype: float64"
      ]
     },
     "execution_count": 23,
     "metadata": {},
     "output_type": "execute_result"
    }
   ],
   "source": [
    "autos['registration_year'].describe()"
   ]
  },
  {
   "cell_type": "markdown",
   "metadata": {},
   "source": [
    "The minimum and maximum values are clearly wrong: there were no modern cars in year 1000 and the website can't have known about vehicles registered after 2016 at the time the crawler was used. \n",
    "We should remove the value for cars marked as registered after 2016, as these can't be accurate. \n",
    "We should also remove too early values. \n",
    "It is difficult to give a precise lower bound for the acceptable registration year. \n",
    "However from the heading of the section History of [this Wikipedia page](https://en.wikipedia.org/wiki/Vehicle_registration_plates_of_Germany#History) (seen on 22/10/2019 at 22:27 GMT), the first German license plates were issued in 1906. \n",
    "We shall thus remove all registration years smaller than 1906."
   ]
  },
  {
   "cell_type": "code",
   "execution_count": 24,
   "metadata": {},
   "outputs": [],
   "source": [
    "registration_year_max = 2016\n",
    "registration_year_min = 1906\n",
    "autos.loc[-autos['registration_year'].between(registration_year_min,registration_year_max),'registration_year'] = np.nan"
   ]
  },
  {
   "cell_type": "markdown",
   "metadata": {},
   "source": [
    "Let us now look at the distribution of registration years: "
   ]
  },
  {
   "cell_type": "code",
   "execution_count": 25,
   "metadata": {},
   "outputs": [
    {
     "data": {
      "image/png": "[encoded data removed]",
      "text/plain": [
       "<Figure size 432x288 with 1 Axes>"
      ]
     },
     "metadata": {
      "needs_background": "light"
     },
     "output_type": "display_data"
    }
   ],
   "source": [
    "(autos['registration_year'].value_counts(normalize=True).sort_index()*100).plot(\n",
    "    rot=90, grid=True)\n",
    "plt.xlabel('registration year')\n",
    "plt.ylabel('frequency (%)')\n",
    "plt.show()"
   ]
  },
  {
   "cell_type": "markdown",
   "metadata": {},
   "source": [
    "Most cars have been registered between 1990 and 2016. The year having seen the highest number of registrations is the year 2000. \n",
    "There is a drop in registrations after 2005, which may be due to the fact that cars sold online are second-hand, and thus typically older.\n",
    "\n",
    "## Popular Brands\n",
    "\n",
    "We now want to determine which brands are most popular, and what is the average price for cars of each of the 20 top brands.\n",
    "We start by looking at which brands have the most ads: "
   ]
  },
  {
   "cell_type": "code",
   "execution_count": 24,
   "metadata": {},
   "outputs": [
    {
     "name": "stdout",
     "output_type": "stream",
     "text": [
      "Frequency (%) of each of the top 20 brands:\n",
      "\n",
      "volkswagen        21.374\n",
      "opel              10.922\n",
      "bmw               10.858\n",
      "mercedes_benz      9.468\n",
      "audi               8.566\n",
      "ford               6.958\n",
      "renault            4.808\n",
      "peugeot            2.912\n",
      "fiat               2.616\n",
      "seat               1.882\n",
      "skoda              1.572\n",
      "mazda              1.514\n",
      "nissan             1.508\n",
      "smart              1.402\n",
      "citroen            1.402\n",
      "toyota             1.234\n",
      "sonstige_autos     1.092\n",
      "hyundai            0.976\n",
      "volvo              0.914\n",
      "mini               0.848\n",
      "Name: brand, dtype: float64\n",
      "\n",
      "Fraction of ads covered: 92.83%.\n"
     ]
    }
   ],
   "source": [
    "n_brands = 20 # number of brands to consider\n",
    "print('Frequency (%) of each of the top {} brands:\\n'.format(n_brands))\n",
    "top_brands_freq = autos['brand'].value_counts(normalize=True)[:20]*100\n",
    "print(top_brands_freq)\n",
    "print()\n",
    "print('Fraction of ads covered: {:.2f}%.'.format(top_brands_freq.sum()))"
   ]
  },
  {
   "cell_type": "markdown",
   "metadata": {},
   "source": [
    "Volksvagen clearly dominates, with more than 20% of all ads. \n",
    "This is nearly twice the fraction of the second most popular brand, Opel. \n",
    "Opel, BMW, Mercedes-Benz, Audi, and Ford also cover more than 5% of ads each. \n",
    "The 20 most popular brand cover together more than 90% of all ads, so focusing on them seems to make sense.\n",
    "\n",
    "We now compute the average price and its standard error for cars of each brand and store them in the `ave_price_by_brand` and `ste_price_by_brand` dictionnaries. \n",
    "We then print and plot the results."
   ]
  },
  {
   "cell_type": "code",
   "execution_count": 26,
   "metadata": {},
   "outputs": [
    {
     "name": "stdout",
     "output_type": "stream",
     "text": [
      "Volkswagen: $5560±150\n",
      "Opel: $2975±50\n",
      "Bmw: $8310±135\n",
      "Mercedes_benz: $8580±150\n",
      "Audi: $9260±155\n",
      "Ford: $4054±313\n",
      "Renault: $2451±73\n",
      "Peugeot: $3087±83\n",
      "Fiat: $2816±85\n",
      "Seat: $4349±154\n",
      "Skoda: $6394±188\n",
      "Mazda: $4075±178\n",
      "Nissan: $4682±201\n",
      "Smart: $3538±87\n",
      "Citroen: $3784±146\n",
      "Toyota: $5148±188\n",
      "Sonstige_autos: $12576±1093\n",
      "Hyundai: $5416±221\n",
      "Volvo: $4912±264\n",
      "Mini: $10567±293\n"
     ]
    },
    {
     "data": {
      "image/png": "[encoded data removed]",
      "text/plain": [
       "<Figure size 432x288 with 1 Axes>"
      ]
     },
     "metadata": {
      "needs_background": "light"
     },
     "output_type": "display_data"
    }
   ],
   "source": [
    "ave_price_by_brand = {} # average price by brand\n",
    "ste_price_by_brand = {} # standard error\n",
    "for brand in top_brands_freq.index: \n",
    "    # prices for this brand, selecting the rows where the price is not nan\n",
    "    prices_brand = autos.loc[(autos['brand']==brand) & -(autos['price_$'].isnull()), 'price_$'] \n",
    "    ave_price_by_brand[brand] = prices_brand.mean()\n",
    "    ste_price_by_brand[brand] = prices_brand.std()/np.sqrt(prices_brand.size)\n",
    "\n",
    "# print the results\n",
    "for brand in ave_price_by_brand: \n",
    "    ave_price = ave_price_by_brand[brand]\n",
    "    ste_price = ste_price_by_brand[brand]\n",
    "    print('{}: ${:.0f}±{:.0f}'.format(brand.capitalize(), ave_price, ste_price))\n",
    "    \n",
    "# plot the results as a bar plot\n",
    "global_ave_price = autos['price_$'].mean() # averaged price over the whole dataset\n",
    "plt.bar(range(len(ave_price_by_brand)), ave_price_by_brand.values(), yerr = ste_price_by_brand.values())\n",
    "plt.xticks(range(len(ave_price_by_brand)), list(ave_price_by_brand.keys()), rotation=90)\n",
    "plt.plot([-0.5,len(ave_price_by_brand)-0.5],[global_ave_price,global_ave_price], r'--', c=[0.5,0.5,0.5])\n",
    "plt.xlim(-0.6,len(ave_price_by_brand)-0.5)\n",
    "plt.ylabel('averaged price ($)')\n",
    "plt.show()"
   ]
  },
  {
   "cell_type": "markdown",
   "metadata": {},
   "source": [
    "The cheapest cars on average are those from Renault, and the most expensive ones by Sonstige Autos. \n",
    "The most popular brand, Volkswagen, has an average price close to the total average. \n",
    "\n",
    "### Sonstige Autos ads\n",
    "\n",
    "The standard error for Sonstige Autos is particularly large. \n",
    "Let us try to see what is going on there:"
   ]
  },
  {
   "cell_type": "code",
   "execution_count": 28,
   "metadata": {},
   "outputs": [
    {
     "data": {
      "text/plain": [
       "count       455.000000\n",
       "mean      12575.773626\n",
       "std       23313.715862\n",
       "min         100.000000\n",
       "25%        2475.000000\n",
       "50%        6995.000000\n",
       "75%       14500.000000\n",
       "max      345000.000000\n",
       "Name: price_$, dtype: float64"
      ]
     },
     "execution_count": 28,
     "metadata": {},
     "output_type": "execute_result"
    }
   ],
   "source": [
    "autos.loc[(autos['brand']=='sonstige_autos') & -(autos['price_$'].isnull()), 'price_$'].describe()"
   ]
  },
  {
   "cell_type": "markdown",
   "metadata": {},
   "source": [
    "This brand seems to have both very cheap and quite expensive cars. \n",
    "The average price is significantly larger than the median, and even larger than the 75th percentile. \n",
    "This seems to indicate that a few ads with a very large price drive the average up."
   ]
  },
  {
   "cell_type": "code",
   "execution_count": 29,
   "metadata": {},
   "outputs": [
    {
     "data": {
      "image/png": "[encoded data removed]",
      "text/plain": [
       "<Figure size 432x288 with 1 Axes>"
      ]
     },
     "metadata": {
      "needs_background": "light"
     },
     "output_type": "display_data"
    },
    {
     "data": {
      "image/png": "[encoded data removed]",
      "text/plain": [
       "<Figure size 432x288 with 1 Axes>"
      ]
     },
     "metadata": {
      "needs_background": "light"
     },
     "output_type": "display_data"
    },
    {
     "data": {
      "image/png": "[encoded data removed]",
      "text/plain": [
       "<Figure size 432x288 with 1 Axes>"
      ]
     },
     "metadata": {
      "needs_background": "light"
     },
     "output_type": "display_data"
    }
   ],
   "source": [
    "# histogram for the prices of the Sonstige Autos brand\n",
    "autos.loc[(autos['brand']=='sonstige_autos') & -(autos['price_$'].isnull()), 'price_$'].hist()\n",
    "plt.xlabel('price ($)')\n",
    "plt.title('Sonstige Autos ads')\n",
    "plt.show()\n",
    "\n",
    "# a first zoomed-in picture\n",
    "autos.loc[(autos['brand']=='sonstige_autos') & -(autos['price_$'].isnull()), 'price_$'].hist()\n",
    "plt.ylim(0,30)\n",
    "plt.xlabel('price ($)')\n",
    "plt.title('Sonstige Autos ads')\n",
    "plt.show()\n",
    "\n",
    "# a second zoomed-in picture\n",
    "autos.loc[(autos['brand']=='sonstige_autos') & -(autos['price_$'].isnull()), 'price_$'].hist()\n",
    "plt.ylim(0,10)\n",
    "plt.xlabel('price ($)')\n",
    "plt.title('Sonstige Autos ads')\n",
    "plt.show()"
   ]
  },
  {
   "cell_type": "markdown",
   "metadata": {},
   "source": [
    "Two ads have a price above \\\\$150,000, and three more have a price between \\\\$100,000 and \\\\$150,000. \n",
    "\n",
    "Let us see what becomes of the averaged price and standard deviation when removing them:"
   ]
  },
  {
   "cell_type": "code",
   "execution_count": 30,
   "metadata": {},
   "outputs": [
    {
     "data": {
      "text/plain": [
       "count      450.000000\n",
       "mean     10785.728889\n",
       "std      12794.251098\n",
       "min        100.000000\n",
       "25%       2415.000000\n",
       "50%       6800.000000\n",
       "75%      13900.000000\n",
       "max      80000.000000\n",
       "Name: price_$, dtype: float64"
      ]
     },
     "execution_count": 30,
     "metadata": {},
     "output_type": "execute_result"
    }
   ],
   "source": [
    "autos.loc[(autos['brand']=='sonstige_autos') & (autos['price_$'] < 100000), 'price_$'].describe()"
   ]
  },
  {
   "cell_type": "markdown",
   "metadata": {},
   "source": [
    "The mean and standard deviation remain large compared with those of other brands, although they drop significantly. \n",
    "This indicates that *the few very expensive cars have a significant contribution to the average price, but are not enough to explain the higher average price compared with most other brands*.\n",
    "\n",
    "### Price and Mileage\n",
    "\n",
    "Among the 6 top brands, BMW, Mercedes-Benz, and Audi cars are, on average, more expensive than the mean, while Opel and Ford cars are cheaper and Volkswagen ones are close to the mean. \n",
    "We want to understand if this is due to the brand themselves or if another feature of the ads, for instance the mileage, plays a role. \n",
    "To this end, let us first redo the above analysis for the mileage:"
   ]
  },
  {
   "cell_type": "code",
   "execution_count": 31,
   "metadata": {},
   "outputs": [
    {
     "name": "stdout",
     "output_type": "stream",
     "text": [
      "Volkswagen: $128955±374\n",
      "Opel: $129299±507\n",
      "Bmw: $132522±479\n",
      "Mercedes_benz: $130886±532\n",
      "Audi: $129644±593\n",
      "Ford: $124132±680\n",
      "Renault: $128224±764\n",
      "Peugeot: $127352±949\n",
      "Fiat: $117037±1178\n",
      "Seat: $122062±1331\n",
      "Skoda: $110948±1630\n",
      "Mazda: $125132±1445\n",
      "Nissan: $118979±1507\n",
      "Smart: $100756±1593\n",
      "Citroen: $119765±1516\n",
      "Toyota: $115989±1683\n",
      "Sonstige_autos: $87189±2461\n",
      "Hyundai: $106783±2034\n",
      "Volvo: $138632±1358\n",
      "Mini: $89375±2136\n"
     ]
    },
    {
     "data": {
      "image/png": "[encoded data removed]",
      "text/plain": [
       "<Figure size 432x288 with 1 Axes>"
      ]
     },
     "metadata": {
      "needs_background": "light"
     },
     "output_type": "display_data"
    }
   ],
   "source": [
    "ave_mileage_by_brand = {} # average mileage by brand\n",
    "ste_mileage_by_brand = {} # standard error\n",
    "for brand in top_brands_freq.index: \n",
    "    # mileages for this brand, selecting the rows where the mileage is not nan\n",
    "    mileages_brand = autos.loc[(autos['brand']==brand) & -(autos['odometer_km'].isnull()), 'odometer_km'] \n",
    "    ave_mileage_by_brand[brand] = mileages_brand.mean()\n",
    "    ste_mileage_by_brand[brand] = mileages_brand.std()/np.sqrt(mileages_brand.size)\n",
    "\n",
    "# print the results\n",
    "for brand in ave_mileage_by_brand: \n",
    "    ave_mileage = ave_mileage_by_brand[brand]\n",
    "    ste_mileage = ste_mileage_by_brand[brand]\n",
    "    print('{}: ${:.0f}±{:.0f}'.format(brand.capitalize(), ave_mileage, ste_mileage))\n",
    "    \n",
    "# plot the results as a bar plot\n",
    "global_ave_mileage = autos['odometer_km'].mean() # averaged price over the whole dataset\n",
    "plt.bar(range(len(ave_mileage_by_brand)), ave_mileage_by_brand.values(), yerr = ste_mileage_by_brand.values())\n",
    "plt.xticks(range(len(ave_mileage_by_brand)), list(ave_mileage_by_brand.keys()), rotation=90)\n",
    "plt.plot([-0.5,len(ave_mileage_by_brand)-0.5],[global_ave_mileage,global_ave_mileage], r'--', c=[0.5,0.5,0.5])\n",
    "plt.ylabel('averaged mileage (km)')\n",
    "plt.show()"
   ]
  },
  {
   "cell_type": "markdown",
   "metadata": {},
   "source": [
    "The average mileage for the six most popular brands is similar, although a bit larger for the most expensive ones. \n",
    "We conclude that **the difference in the price averages between the top brands does not seem to be explained by the mileage**. \n",
    "Notice, hovever, that ads for the Constige Autos and Mini brands show particularly small mileages. \n",
    "This *may contribute to explaining why cars from these brands are the most expensive*. "
   ]
  },
  {
   "cell_type": "markdown",
   "metadata": {},
   "source": [
    "## To do\n",
    "\n",
    "Data cleaning:\n",
    "* translate the database to English\n",
    "* convert dates to uniform numeric data\n",
    "\n",
    "Analysis: \n",
    "* find the most common brand/model combination\n",
    "* study the relation between mileage and price within each brand\n",
    "* determine if there is s statistically significant price difference between damaged and non-damaged cars within each brand"
   ]
  }
 ],
 "metadata": {
  "kernelspec": {
   "display_name": "Python 3",
   "language": "python",
   "name": "python3"
  },
  "language_info": {
   "codemirror_mode": {
    "name": "ipython",
    "version": 3
   },
   "file_extension": ".py",
   "mimetype": "text/x-python",
   "name": "python",
   "nbconvert_exporter": "python",
   "pygments_lexer": "ipython3",
   "version": "3.7.3"
  }
 },
 "nbformat": 4,
 "nbformat_minor": 4
}
